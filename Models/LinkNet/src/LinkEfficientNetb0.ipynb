{
  "nbformat": 4,
  "nbformat_minor": 0,
  "metadata": {
    "colab": {
      "name": "LinkEfficientNetb0.ipynb",
      "provenance": []
    },
    "kernelspec": {
      "name": "python3",
      "display_name": "Python 3"
    },
    "language_info": {
      "name": "python"
    },
    "accelerator": "GPU"
  },
  "cells": [
    {
      "cell_type": "code",
      "metadata": {
        "id": "Gx8DkQO-r131"
      },
      "source": [
        "# LinkNet with ResNet34 for multiclass semantic segmentation\n",
        "!pip install tensorflow==2.1.0"
      ],
      "execution_count": null,
      "outputs": []
    },
    {
      "cell_type": "code",
      "metadata": {
        "id": "cQ_Ib4CjsXeH"
      },
      "source": [
        "!pip install segmentation-models"
      ],
      "execution_count": null,
      "outputs": []
    },
    {
      "cell_type": "code",
      "metadata": {
        "colab": {
          "base_uri": "https://localhost:8080/"
        },
        "id": "_jeOmCF8sa1d",
        "outputId": "0b880528-b675-48cd-8e41-65b575a6048f"
      },
      "source": [
        "# mount google drive here\n",
        "from google.colab import drive\n",
        "drive.mount('/content/drive')"
      ],
      "execution_count": 3,
      "outputs": [
        {
          "output_type": "stream",
          "text": [
            "Mounted at /content/drive\n"
          ],
          "name": "stdout"
        }
      ]
    },
    {
      "cell_type": "code",
      "metadata": {
        "colab": {
          "base_uri": "https://localhost:8080/"
        },
        "id": "oBqlzZVisdN8",
        "outputId": "19a1055b-fd87-45ce-e6db-b6a201eaf635"
      },
      "source": [
        "# Fetch the training, validation and testing dataset\n",
        "import os\n",
        "import numpy as np\n",
        "\n",
        "dataPath  = '/content/drive/My Drive/Underwater_Segmentation_Research/Data'\n",
        "\n",
        "trainPath       =  dataPath + '/Train'\n",
        "testPath        =  dataPath + '/Test'\n",
        "valPath         =  dataPath + '/Validate'\n",
        "\n",
        "trainImgsFile   = 'trainingDataImgs.npy'\n",
        "trainLabelsFile = 'trainingDataLabels.npy'\n",
        "\n",
        "testImgsFile    = 'testingDataImgs.npy'\n",
        "testLabelsFile  = 'testingDataLabels.npy'\n",
        "\n",
        "valImgsFile     = 'validationDataImgs.npy'\n",
        "valLabelsFile   = 'validationDataLabels.npy'\n",
        "\n",
        "testImgs = None\n",
        "testLabels = None\n",
        "\n",
        "def getData(path,fileName):\n",
        "  return np.load(path + \"/\" + fileName)\n",
        "\n",
        "trainImgs   = getData(trainPath, trainImgsFile)\n",
        "trainLabels = getData(trainPath, trainLabelsFile)\n",
        "\n",
        "valImgs    = getData(valPath, valImgsFile)\n",
        "valLabels  = getData(valPath, valLabelsFile)\n",
        "\n",
        "print(\"Got train and validation data\")\n",
        "print(trainImgs.shape, valImgs.shape)\n",
        "print(trainLabels.shape, valLabels.shape)"
      ],
      "execution_count": 2,
      "outputs": [
        {
          "output_type": "stream",
          "text": [
            "Got train and validation data\n",
            "(1000, 480, 320, 1) (251, 480, 320, 1)\n",
            "(1000, 480, 320, 1) (251, 480, 320, 1)\n"
          ],
          "name": "stdout"
        }
      ]
    },
    {
      "cell_type": "code",
      "metadata": {
        "id": "RlM0LuF_sfsD"
      },
      "source": [
        "# Create the model (without pre-trained ImageNet weights)\n",
        "import os\n",
        "import numpy as np\n",
        "import tensorflow as tf\n",
        "import segmentation_models as sm\n",
        "\n",
        "# create the model\n",
        "model = sm.Linknet('efficientnetb0', input_shape=(480, 320, 1), encoder_weights=None, classes=12, activation='softmax')\n",
        "model.summary()\n"
      ],
      "execution_count": null,
      "outputs": []
    },
    {
      "cell_type": "code",
      "metadata": {
        "id": "2Zx9SsOWsh5C"
      },
      "source": [
        "class UpdatedMeanIoU(tf.keras.metrics.MeanIoU):\n",
        "  def __init__(self,\n",
        "               y_true=None,\n",
        "               y_pred=None,\n",
        "               num_classes=None,\n",
        "               name=None,\n",
        "               dtype=None):\n",
        "    super(UpdatedMeanIoU, self).__init__(num_classes = num_classes,name=name, dtype=dtype)\n",
        "\n",
        "  def update_state(self, y_true, y_pred, sample_weight=None):\n",
        "    y_pred = tf.math.argmax(y_pred, axis=-1)\n",
        "    return super().update_state(y_true, y_pred, sample_weight)"
      ],
      "execution_count": 4,
      "outputs": []
    },
    {
      "cell_type": "code",
      "metadata": {
        "id": "iyRyZqJkskDF"
      },
      "source": [
        "import tensorflow as tf\n",
        "LOSS=tf.keras.losses.SparseCategoricalCrossentropy(from_logits=True)\n",
        "\n",
        "model.compile('Adam',\n",
        "              loss='sparse_categorical_crossentropy',\n",
        "              metrics=['accuracy', UpdatedMeanIoU(num_classes=12)])"
      ],
      "execution_count": 5,
      "outputs": []
    },
    {
      "cell_type": "code",
      "metadata": {
        "id": "yCwiFNVssmQ5"
      },
      "source": [
        "# Setup training parameters\n",
        "BATCH = 16\n",
        "EPOCHS = 30\n",
        "\n",
        "# early stopping callback. It stops training when the loss does not change for 3 consecutive epochs\n",
        "callback = tf.keras.callbacks.EarlyStopping(monitor='loss', patience=3)"
      ],
      "execution_count": 7,
      "outputs": []
    },
    {
      "cell_type": "code",
      "metadata": {
        "colab": {
          "base_uri": "https://localhost:8080/"
        },
        "id": "kA3NCAuhsoAa",
        "outputId": "579fab04-e5d2-410b-c3b6-0abad4e60b25"
      },
      "source": [
        "# Start training the model\n",
        "history = model.fit(trainImgs, trainLabels, epochs=EPOCHS, batch_size=BATCH, validation_data=(valImgs, valLabels))"
      ],
      "execution_count": 8,
      "outputs": [
        {
          "output_type": "stream",
          "text": [
            "Train on 1000 samples, validate on 251 samples\n",
            "Epoch 1/30\n",
            "1000/1000 [==============================] - 125s 125ms/sample - loss: 0.6273 - accuracy: 0.8876 - updated_mean_io_u: 0.0769 - val_loss: 0.5553 - val_accuracy: 0.9622 - val_updated_mean_io_u: 0.0802\n",
            "Epoch 2/30\n",
            "1000/1000 [==============================] - 99s 99ms/sample - loss: 0.1344 - accuracy: 0.9696 - updated_mean_io_u: 0.1199 - val_loss: 0.3849 - val_accuracy: 0.8979 - val_updated_mean_io_u: 0.0854\n",
            "Epoch 3/30\n",
            "1000/1000 [==============================] - 99s 99ms/sample - loss: 0.1075 - accuracy: 0.9734 - updated_mean_io_u: 0.1369 - val_loss: 0.2008 - val_accuracy: 0.9670 - val_updated_mean_io_u: 0.1212\n",
            "Epoch 4/30\n",
            "1000/1000 [==============================] - 99s 99ms/sample - loss: 0.0919 - accuracy: 0.9745 - updated_mean_io_u: 0.1408 - val_loss: 0.1466 - val_accuracy: 0.9658 - val_updated_mean_io_u: 0.1173\n",
            "Epoch 5/30\n",
            "1000/1000 [==============================] - 98s 98ms/sample - loss: 0.0803 - accuracy: 0.9757 - updated_mean_io_u: 0.1513 - val_loss: 0.1112 - val_accuracy: 0.9702 - val_updated_mean_io_u: 0.1445\n",
            "Epoch 6/30\n",
            "1000/1000 [==============================] - 99s 99ms/sample - loss: 0.0682 - accuracy: 0.9794 - updated_mean_io_u: 0.2025 - val_loss: 0.0946 - val_accuracy: 0.9726 - val_updated_mean_io_u: 0.1789\n",
            "Epoch 7/30\n",
            "1000/1000 [==============================] - 99s 99ms/sample - loss: 0.0649 - accuracy: 0.9799 - updated_mean_io_u: 0.2195 - val_loss: 0.0967 - val_accuracy: 0.9747 - val_updated_mean_io_u: 0.2186\n",
            "Epoch 8/30\n",
            "1000/1000 [==============================] - 99s 99ms/sample - loss: 0.0563 - accuracy: 0.9819 - updated_mean_io_u: 0.2531 - val_loss: 0.0571 - val_accuracy: 0.9820 - val_updated_mean_io_u: 0.2496\n",
            "Epoch 9/30\n",
            "1000/1000 [==============================] - 99s 99ms/sample - loss: 0.0493 - accuracy: 0.9832 - updated_mean_io_u: 0.2705 - val_loss: 0.0563 - val_accuracy: 0.9834 - val_updated_mean_io_u: 0.2817\n",
            "Epoch 10/30\n",
            "1000/1000 [==============================] - 99s 99ms/sample - loss: 0.0516 - accuracy: 0.9831 - updated_mean_io_u: 0.2752 - val_loss: 0.6750 - val_accuracy: 0.8878 - val_updated_mean_io_u: 0.0785\n",
            "Epoch 11/30\n",
            "1000/1000 [==============================] - 99s 99ms/sample - loss: 0.0514 - accuracy: 0.9828 - updated_mean_io_u: 0.2802 - val_loss: 0.0747 - val_accuracy: 0.9766 - val_updated_mean_io_u: 0.2830\n",
            "Epoch 12/30\n",
            "1000/1000 [==============================] - 99s 99ms/sample - loss: 0.0437 - accuracy: 0.9850 - updated_mean_io_u: 0.3380 - val_loss: 0.0528 - val_accuracy: 0.9830 - val_updated_mean_io_u: 0.3229\n",
            "Epoch 13/30\n",
            "1000/1000 [==============================] - 99s 99ms/sample - loss: 0.0414 - accuracy: 0.9855 - updated_mean_io_u: 0.3446 - val_loss: 0.0464 - val_accuracy: 0.9855 - val_updated_mean_io_u: 0.3322\n",
            "Epoch 14/30\n",
            "1000/1000 [==============================] - 99s 99ms/sample - loss: 0.0368 - accuracy: 0.9867 - updated_mean_io_u: 0.3654 - val_loss: 0.0431 - val_accuracy: 0.9861 - val_updated_mean_io_u: 0.3415\n",
            "Epoch 15/30\n",
            "1000/1000 [==============================] - 99s 99ms/sample - loss: 0.0358 - accuracy: 0.9873 - updated_mean_io_u: 0.3863 - val_loss: 0.0451 - val_accuracy: 0.9856 - val_updated_mean_io_u: 0.3783\n",
            "Epoch 16/30\n",
            "1000/1000 [==============================] - 99s 99ms/sample - loss: 0.0346 - accuracy: 0.9878 - updated_mean_io_u: 0.4061 - val_loss: 0.0460 - val_accuracy: 0.9862 - val_updated_mean_io_u: 0.3902\n",
            "Epoch 17/30\n",
            "1000/1000 [==============================] - 100s 100ms/sample - loss: 0.0330 - accuracy: 0.9882 - updated_mean_io_u: 0.4305 - val_loss: 0.0413 - val_accuracy: 0.9877 - val_updated_mean_io_u: 0.4502\n",
            "Epoch 18/30\n",
            "1000/1000 [==============================] - 99s 99ms/sample - loss: 0.0299 - accuracy: 0.9892 - updated_mean_io_u: 0.4604 - val_loss: 0.0391 - val_accuracy: 0.9880 - val_updated_mean_io_u: 0.4520\n",
            "Epoch 19/30\n",
            "1000/1000 [==============================] - 99s 99ms/sample - loss: 0.0290 - accuracy: 0.9896 - updated_mean_io_u: 0.4836 - val_loss: 0.0435 - val_accuracy: 0.9861 - val_updated_mean_io_u: 0.4135\n",
            "Epoch 20/30\n",
            "1000/1000 [==============================] - 100s 100ms/sample - loss: 0.0265 - accuracy: 0.9905 - updated_mean_io_u: 0.5325 - val_loss: 0.0368 - val_accuracy: 0.9891 - val_updated_mean_io_u: 0.5191\n",
            "Epoch 21/30\n",
            "1000/1000 [==============================] - 100s 100ms/sample - loss: 0.0255 - accuracy: 0.9910 - updated_mean_io_u: 0.5602 - val_loss: 0.0426 - val_accuracy: 0.9873 - val_updated_mean_io_u: 0.4958\n",
            "Epoch 22/30\n",
            "1000/1000 [==============================] - 99s 99ms/sample - loss: 0.0245 - accuracy: 0.9913 - updated_mean_io_u: 0.5880 - val_loss: 0.0377 - val_accuracy: 0.9883 - val_updated_mean_io_u: 0.5532\n",
            "Epoch 23/30\n",
            "1000/1000 [==============================] - 99s 99ms/sample - loss: 0.0262 - accuracy: 0.9910 - updated_mean_io_u: 0.5917 - val_loss: 0.0429 - val_accuracy: 0.9870 - val_updated_mean_io_u: 0.5430\n",
            "Epoch 24/30\n",
            "1000/1000 [==============================] - 99s 99ms/sample - loss: 0.0219 - accuracy: 0.9920 - updated_mean_io_u: 0.6281 - val_loss: 0.0374 - val_accuracy: 0.9891 - val_updated_mean_io_u: 0.6001\n",
            "Epoch 25/30\n",
            "1000/1000 [==============================] - 99s 99ms/sample - loss: 0.0213 - accuracy: 0.9922 - updated_mean_io_u: 0.6753 - val_loss: 0.0327 - val_accuracy: 0.9901 - val_updated_mean_io_u: 0.6205\n",
            "Epoch 26/30\n",
            "1000/1000 [==============================] - 99s 99ms/sample - loss: 0.0176 - accuracy: 0.9935 - updated_mean_io_u: 0.7026 - val_loss: 0.0364 - val_accuracy: 0.9889 - val_updated_mean_io_u: 0.6054\n",
            "Epoch 27/30\n",
            "1000/1000 [==============================] - 99s 99ms/sample - loss: 0.0171 - accuracy: 0.9936 - updated_mean_io_u: 0.7245 - val_loss: 0.0353 - val_accuracy: 0.9894 - val_updated_mean_io_u: 0.6113\n",
            "Epoch 28/30\n",
            "1000/1000 [==============================] - 99s 99ms/sample - loss: 0.0177 - accuracy: 0.9934 - updated_mean_io_u: 0.7274 - val_loss: 0.0367 - val_accuracy: 0.9893 - val_updated_mean_io_u: 0.6493\n",
            "Epoch 29/30\n",
            "1000/1000 [==============================] - 99s 99ms/sample - loss: 0.0163 - accuracy: 0.9939 - updated_mean_io_u: 0.7618 - val_loss: 0.0356 - val_accuracy: 0.9901 - val_updated_mean_io_u: 0.6685\n",
            "Epoch 30/30\n",
            "1000/1000 [==============================] - 100s 100ms/sample - loss: 0.0149 - accuracy: 0.9943 - updated_mean_io_u: 0.7679 - val_loss: 0.0351 - val_accuracy: 0.9904 - val_updated_mean_io_u: 0.6826\n"
          ],
          "name": "stdout"
        }
      ]
    },
    {
      "cell_type": "code",
      "metadata": {
        "colab": {
          "base_uri": "https://localhost:8080/",
          "height": 300
        },
        "id": "qJ0mZEEpsprs",
        "outputId": "99faf3ae-6bf1-4193-e84f-8b25f5465d6d"
      },
      "source": [
        "#  Plot the results\n",
        "print(history.history.keys())\n",
        "\n",
        "import matplotlib.pyplot as plt\n",
        "plt.plot(history.history['accuracy'])\n",
        "plt.plot(history.history['val_accuracy'])"
      ],
      "execution_count": 9,
      "outputs": [
        {
          "output_type": "stream",
          "text": [
            "dict_keys(['loss', 'accuracy', 'updated_mean_io_u', 'val_loss', 'val_accuracy', 'val_updated_mean_io_u'])\n"
          ],
          "name": "stdout"
        },
        {
          "output_type": "execute_result",
          "data": {
            "text/plain": [
              "[<matplotlib.lines.Line2D at 0x7fa7691e52d0>]"
            ]
          },
          "metadata": {
            "tags": []
          },
          "execution_count": 9
        },
        {
          "output_type": "display_data",
          "data": {
            "image/png": "[encoded data removed]",
            "text/plain": [
              "<Figure size 432x288 with 1 Axes>"
            ]
          },
          "metadata": {
            "tags": [],
            "needs_background": "light"
          }
        }
      ]
    },
    {
      "cell_type": "code",
      "metadata": {
        "colab": {
          "base_uri": "https://localhost:8080/",
          "height": 284
        },
        "id": "NNKh2pnZs1Rv",
        "outputId": "00caa1a2-5eaf-4743-d053-516987c3eb25"
      },
      "source": [
        "plt.plot(history.history['loss'])\n",
        "plt.plot(history.history['val_loss'])"
      ],
      "execution_count": 10,
      "outputs": [
        {
          "output_type": "execute_result",
          "data": {
            "text/plain": [
              "[<matplotlib.lines.Line2D at 0x7fa769163150>]"
            ]
          },
          "metadata": {
            "tags": []
          },
          "execution_count": 10
        },
        {
          "output_type": "display_data",
          "data": {
            "image/png": "[encoded data removed]",
            "text/plain": [
              "<Figure size 432x288 with 1 Axes>"
            ]
          },
          "metadata": {
            "tags": [],
            "needs_background": "light"
          }
        }
      ]
    },
    {
      "cell_type": "code",
      "metadata": {
        "colab": {
          "base_uri": "https://localhost:8080/",
          "height": 286
        },
        "id": "6meBD905tAbT",
        "outputId": "9bcea8bf-4d3c-4874-818e-3703cff0cf0d"
      },
      "source": [
        "plt.plot(history.history['updated_mean_io_u'])\n",
        "plt.plot(history.history['val_updated_mean_io_u'])"
      ],
      "execution_count": 12,
      "outputs": [
        {
          "output_type": "execute_result",
          "data": {
            "text/plain": [
              "[<matplotlib.lines.Line2D at 0x7fa768b78910>]"
            ]
          },
          "metadata": {
            "tags": []
          },
          "execution_count": 12
        },
        {
          "output_type": "display_data",
          "data": {
            "image/png": "[encoded data removed]",
            "text/plain": [
              "<Figure size 432x288 with 1 Axes>"
            ]
          },
          "metadata": {
            "tags": [],
            "needs_background": "light"
          }
        }
      ]
    },
    {
      "cell_type": "code",
      "metadata": {
        "id": "xuakchX_tCCV"
      },
      "source": [
        "# get the testdata\n",
        "testImgs   = getData(testPath, testImgsFile)\n",
        "testLabels = getData(testPath, testLabelsFile)"
      ],
      "execution_count": 13,
      "outputs": []
    },
    {
      "cell_type": "code",
      "metadata": {
        "colab": {
          "base_uri": "https://localhost:8080/"
        },
        "id": "ScxhPhg0tDpe",
        "outputId": "5c6f725c-c655-4ec3-cf79-a000061e4ae0"
      },
      "source": [
        "model.evaluate(testImgs, testLabels)"
      ],
      "execution_count": 14,
      "outputs": [
        {
          "output_type": "stream",
          "text": [
            "617/617 [==============================] - 20s 33ms/sample - loss: 0.0326 - accuracy: 0.9909 - updated_mean_io_u: 0.7132\n"
          ],
          "name": "stdout"
        },
        {
          "output_type": "execute_result",
          "data": {
            "text/plain": [
              "[0.032574591853292104, 0.99087214, 0.7131534]"
            ]
          },
          "metadata": {
            "tags": []
          },
          "execution_count": 14
        }
      ]
    },
    {
      "cell_type": "code",
      "metadata": {
        "id": "53CmOQge0RHF"
      },
      "source": [
        "!pip3 install 'h5py==2.10.0' --force-reinstall"
      ],
      "execution_count": null,
      "outputs": []
    },
    {
      "cell_type": "code",
      "metadata": {
        "id": "E5LfTgfftFNI"
      },
      "source": [
        "# save the model weights\n",
        "weightFileName = \"EfficientNetb0_30e_16b.h5\"\n",
        "weightPath = '/content/drive/My Drive/Underwater_Segmentation_Research/Weights/LinkNet'\n",
        "model.save_weights(weightPath + \"/\" + weightFileName)\n"
      ],
      "execution_count": 15,
      "outputs": []
    },
    {
      "cell_type": "code",
      "metadata": {
        "id": "eMIeWwCftHN8"
      },
      "source": [
        "model.load_weights(weightPath + \"/\" + weightFileName)\n",
        "model.evaluate(testImgs, testLabels)"
      ],
      "execution_count": null,
      "outputs": []
    },
    {
      "cell_type": "code",
      "metadata": {
        "colab": {
          "base_uri": "https://localhost:8080/"
        },
        "id": "tXRS-pVKtIzq",
        "outputId": "fa996e1e-ccf3-4578-f498-9be6c1b1213a"
      },
      "source": [
        "modelFileName = \"EfficientNetb0_30e_16b\"\n",
        "modelPath     = '/content/drive/My Drive/Underwater_Segmentation_Research/Models/LinkNet'\n",
        "model.save(modelPath + \"/\" + modelFileName)"
      ],
      "execution_count": 16,
      "outputs": [
        {
          "output_type": "stream",
          "text": [
            "WARNING:tensorflow:From /usr/local/lib/python3.7/dist-packages/tensorflow_core/python/ops/resource_variable_ops.py:1786: calling BaseResourceVariable.__init__ (from tensorflow.python.ops.resource_variable_ops) with constraint is deprecated and will be removed in a future version.\n",
            "Instructions for updating:\n",
            "If using Keras pass *_constraint arguments to layers.\n",
            "INFO:tensorflow:Assets written to: /content/drive/My Drive/Underwater_Segmentation_Research/Models/LinkNet/EfficientNetb0_30e_16b/assets\n"
          ],
          "name": "stdout"
        }
      ]
    },
    {
      "cell_type": "code",
      "metadata": {
        "colab": {
          "base_uri": "https://localhost:8080/"
        },
        "id": "BdJNCECDtKdL",
        "outputId": "6dcad3e3-4e04-4ad3-9669-9d0051a2c86c"
      },
      "source": [
        "# Check the GPU configuration\n",
        "!nvidia-smi"
      ],
      "execution_count": 17,
      "outputs": [
        {
          "output_type": "stream",
          "text": [
            "Wed May 26 14:03:46 2021       \n",
            "+-----------------------------------------------------------------------------+\n",
            "| NVIDIA-SMI 465.19.01    Driver Version: 460.32.03    CUDA Version: 11.2     |\n",
            "|-------------------------------+----------------------+----------------------+\n",
            "| GPU  Name        Persistence-M| Bus-Id        Disp.A | Volatile Uncorr. ECC |\n",
            "| Fan  Temp  Perf  Pwr:Usage/Cap|         Memory-Usage | GPU-Util  Compute M. |\n",
            "|                               |                      |               MIG M. |\n",
            "|===============================+======================+======================|\n",
            "|   0  Tesla K80           Off  | 00000000:00:04.0 Off |                    0 |\n",
            "| N/A   73C    P0    73W / 149W |  11043MiB / 11441MiB |      0%      Default |\n",
            "|                               |                      |                  N/A |\n",
            "+-------------------------------+----------------------+----------------------+\n",
            "                                                                               \n",
            "+-----------------------------------------------------------------------------+\n",
            "| Processes:                                                                  |\n",
            "|  GPU   GI   CI        PID   Type   Process name                  GPU Memory |\n",
            "|        ID   ID                                                   Usage      |\n",
            "|=============================================================================|\n",
            "+-----------------------------------------------------------------------------+\n"
          ],
          "name": "stdout"
        }
      ]
    },
    {
      "cell_type": "code",
      "metadata": {
        "id": "STd5auSItMAr"
      },
      "source": [
        "y_preds = model.predict(testImgs)\n",
        "y_preds = (y_preds >= 0.5).astype(np.uint8)"
      ],
      "execution_count": 18,
      "outputs": []
    },
    {
      "cell_type": "code",
      "metadata": {
        "id": "9VT6XU--z2ve"
      },
      "source": [
        "yPreds = tf.argmax(y_preds, axis=-1)\n",
        "yPreds = yPreds.numpy()"
      ],
      "execution_count": 19,
      "outputs": []
    },
    {
      "cell_type": "code",
      "metadata": {
        "colab": {
          "base_uri": "https://localhost:8080/"
        },
        "id": "hrMCJj9stOQV",
        "outputId": "f886388a-cc4d-4951-90e3-6cb137b85fc5"
      },
      "source": [
        "# Compute mean of per-class IOU throughout the test images\n",
        "num_classes=12\n",
        "m = UpdatedMeanIoU(num_classes=12)\n",
        "m.update_state(testLabels, y_preds)\n",
        "\n",
        "print(f'Overall mean IOU is : {m.result().numpy()}')\n",
        "\n",
        "# Values is the confusion matrix\n",
        "values = np.array(m.get_weights()).reshape(num_classes, num_classes)"
      ],
      "execution_count": 20,
      "outputs": [
        {
          "output_type": "stream",
          "text": [
            "Overall mean IOU is : 0.7105104327201843\n"
          ],
          "name": "stdout"
        }
      ]
    },
    {
      "cell_type": "code",
      "metadata": {
        "colab": {
          "base_uri": "https://localhost:8080/"
        },
        "id": "zeGCrD4qtQNi",
        "outputId": "e2ae3904-713b-40fd-d3ae-afec3c007ffb"
      },
      "source": [
        "# compute the mean per-class IOU\n",
        "numClasses = 12\n",
        "\n",
        "classIOU = []\n",
        "\n",
        "for i in range(numClasses):\n",
        "  rowSum = np.sum(values[i,:])\n",
        "  colSum = np.sum(values[:,i])\n",
        "  denom = rowSum + colSum - values[i,i]\n",
        "  iou = values[i,i]/denom\n",
        "  classIOU.append(iou)\n",
        "\n",
        "print(classIOU)\n",
        "perClassIoU = np.array(classIOU)\n",
        "print(np.mean(perClassIoU))"
      ],
      "execution_count": 21,
      "outputs": [
        {
          "output_type": "stream",
          "text": [
            "[0.9910452101796388, 0.7311009393656943, 0.5694525407857775, 0.58571371202538, 0.6883406614828131, 0.6112951927958742, 0.7167134794592466, 0.6519176233111664, 0.7030127962852978, 0.8675150678963038, 0.5222372832988514, 0.8877807844946525]\n",
            "0.7105104409483913\n"
          ],
          "name": "stdout"
        }
      ]
    },
    {
      "cell_type": "code",
      "metadata": {
        "colab": {
          "base_uri": "https://localhost:8080/",
          "height": 804
        },
        "id": "Bgoz5BFctSGU",
        "outputId": "b7403b02-8e41-4ed9-dc63-5baaa22ab2b3"
      },
      "source": [
        "import matplotlib.pyplot as plt\n",
        "i = 0\n",
        "plt.imshow(yPreds[i])\n",
        "plt.show()\n",
        "\n",
        "print(np.unique(yPreds[i,:,:]))\n",
        "\n",
        "plt.imshow(testLabels[i,:,:,0])\n",
        "plt.show()\n",
        "\n",
        "print(np.unique(testLabels[i,:,:,0]))\n",
        "\n",
        "t = np.linspace(0,11,num=12)\n",
        "plt.plot(t, perClassIoU)\n",
        "plt.show()"
      ],
      "execution_count": 22,
      "outputs": [
        {
          "output_type": "display_data",
          "data": {
            "image/png": "[encoded data removed]",
            "text/plain": [
              "<Figure size 432x288 with 1 Axes>"
            ]
          },
          "metadata": {
            "tags": [],
            "needs_background": "light"
          }
        },
        {
          "output_type": "stream",
          "text": [
            "[ 0  1  9 11]\n"
          ],
          "name": "stdout"
        },
        {
          "output_type": "display_data",
          "data": {
            "image/png": "[encoded data removed]",
            "text/plain": [
              "<Figure size 432x288 with 1 Axes>"
            ]
          },
          "metadata": {
            "tags": [],
            "needs_background": "light"
          }
        },
        {
          "output_type": "stream",
          "text": [
            "[ 0  1  9 11]\n"
          ],
          "name": "stdout"
        },
        {
          "output_type": "display_data",
          "data": {
            "image/png": "[encoded data removed]",
            "text/plain": [
              "<Figure size 432x288 with 1 Axes>"
            ]
          },
          "metadata": {
            "tags": [],
            "needs_background": "light"
          }
        }
      ]
    }
  ]
}