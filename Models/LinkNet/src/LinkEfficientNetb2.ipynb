{
  "nbformat": 4,
  "nbformat_minor": 0,
  "metadata": {
    "accelerator": "GPU",
    "colab": {
      "name": "LinkEfficientNetb2.ipynb",
      "provenance": [],
      "collapsed_sections": []
    },
    "kernelspec": {
      "display_name": "Python 3",
      "name": "python3"
    },
    "language_info": {
      "name": "python"
    }
  },
  "cells": [
    {
      "cell_type": "code",
      "metadata": {
        "id": "GmErIJJtXgxr"
      },
      "source": [
        "# LinkNet with ResNet34 for multiclass semantic segmentation\n",
        "!pip install tensorflow==2.1.0"
      ],
      "execution_count": null,
      "outputs": []
    },
    {
      "cell_type": "code",
      "metadata": {
        "id": "E05RxVTVawRq"
      },
      "source": [
        "!pip install segmentation-models"
      ],
      "execution_count": null,
      "outputs": []
    },
    {
      "cell_type": "code",
      "metadata": {
        "id": "KGcItvZUbw6S",
        "colab": {
          "base_uri": "https://localhost:8080/"
        },
        "outputId": "b9f2256f-a691-4a11-84f9-13c7de7f319a"
      },
      "source": [
        "# mount google drive here\n",
        "from google.colab import drive\n",
        "drive.mount('/content/drive')"
      ],
      "execution_count": 3,
      "outputs": [
        {
          "output_type": "stream",
          "text": [
            "Mounted at /content/drive\n"
          ],
          "name": "stdout"
        }
      ]
    },
    {
      "cell_type": "code",
      "metadata": {
        "id": "OVkZ3Rt_cBIJ",
        "colab": {
          "base_uri": "https://localhost:8080/"
        },
        "outputId": "66ff61a3-6e71-4ce7-8d97-78cc3c798b81"
      },
      "source": [
        "# Fetch the training, validation and testing dataset\n",
        "import os\n",
        "import numpy as np\n",
        "\n",
        "dataPath  = '/content/drive/My Drive/Underwater_Segmentation_Research/Data'\n",
        "\n",
        "trainPath       =  dataPath + '/Train'\n",
        "testPath        =  dataPath + '/Test'\n",
        "valPath         =  dataPath + '/Validate'\n",
        "\n",
        "trainImgsFile   = 'trainingDataImgs.npy'\n",
        "trainLabelsFile = 'trainingDataLabels.npy'\n",
        "\n",
        "testImgsFile    = 'testingDataImgs.npy'\n",
        "testLabelsFile  = 'testingDataLabels.npy'\n",
        "\n",
        "valImgsFile     = 'validationDataImgs.npy'\n",
        "valLabelsFile   = 'validationDataLabels.npy'\n",
        "\n",
        "testImgs = None\n",
        "testLabels = None\n",
        "\n",
        "def getData(path,fileName):\n",
        "  return np.load(path + \"/\" + fileName)\n",
        "\n",
        "trainImgs   = getData(trainPath, trainImgsFile)\n",
        "trainLabels = getData(trainPath, trainLabelsFile)\n",
        "\n",
        "valImgs    = getData(valPath, valImgsFile)\n",
        "valLabels  = getData(valPath, valLabelsFile)\n",
        "\n",
        "print(\"Got train and validation data\")\n",
        "print(trainImgs.shape, valImgs.shape)\n",
        "print(trainLabels.shape, valLabels.shape)"
      ],
      "execution_count": 1,
      "outputs": [
        {
          "output_type": "stream",
          "text": [
            "Got train and validation data\n",
            "(1000, 480, 320, 1) (251, 480, 320, 1)\n",
            "(1000, 480, 320, 1) (251, 480, 320, 1)\n"
          ],
          "name": "stdout"
        }
      ]
    },
    {
      "cell_type": "code",
      "metadata": {
        "id": "UYzc3jDWbN78"
      },
      "source": [
        "# Create the model (without pre-trained ImageNet weights)\n",
        "import os\n",
        "import numpy as np\n",
        "import tensorflow as tf\n",
        "import segmentation_models as sm\n",
        "\n",
        "# create the model\n",
        "model = sm.Linknet('efficientnetb2', input_shape=(480, 320, 1), encoder_weights=None, classes=12, activation='softmax')\n",
        "model.summary()\n"
      ],
      "execution_count": null,
      "outputs": []
    },
    {
      "cell_type": "code",
      "metadata": {
        "id": "i6hfU48-YwYT"
      },
      "source": [
        "class UpdatedMeanIoU(tf.keras.metrics.MeanIoU):\n",
        "  def __init__(self,\n",
        "               y_true=None,\n",
        "               y_pred=None,\n",
        "               num_classes=None,\n",
        "               name=None,\n",
        "               dtype=None):\n",
        "    super(UpdatedMeanIoU, self).__init__(num_classes = num_classes,name=name, dtype=dtype)\n",
        "\n",
        "  def update_state(self, y_true, y_pred, sample_weight=None):\n",
        "    y_pred = tf.math.argmax(y_pred, axis=-1)\n",
        "    #y_pred = (y_pred >= 0.5).astype(np.uint8)\n",
        "    return super().update_state(y_true, y_pred, sample_weight)"
      ],
      "execution_count": 3,
      "outputs": []
    },
    {
      "cell_type": "code",
      "metadata": {
        "id": "xrrWR34igCv-"
      },
      "source": [
        "import tensorflow as tf\n",
        "LOSS=tf.keras.losses.SparseCategoricalCrossentropy(from_logits=True)\n",
        "\n",
        "model.compile('Adam',\n",
        "              loss='sparse_categorical_crossentropy',\n",
        "              metrics=['accuracy', UpdatedMeanIoU(num_classes=12)])"
      ],
      "execution_count": 4,
      "outputs": []
    },
    {
      "cell_type": "code",
      "metadata": {
        "id": "t64j7531gnFX"
      },
      "source": [
        "# Setup training parameters\n",
        "BATCH = 16\n",
        "EPOCHS = 30\n",
        "\n",
        "# early stopping callback. It stops training when the loss does not change for 3 consecutive epochs\n",
        "callback = tf.keras.callbacks.EarlyStopping(monitor='loss', patience=3)"
      ],
      "execution_count": 5,
      "outputs": []
    },
    {
      "cell_type": "code",
      "metadata": {
        "id": "BvvTmwzIhBvw",
        "colab": {
          "base_uri": "https://localhost:8080/"
        },
        "outputId": "72b88ece-8aa8-4c9b-a476-cdfe51d3d851"
      },
      "source": [
        "# Start training the model\n",
        "history = model.fit(trainImgs, trainLabels, epochs=EPOCHS, batch_size=BATCH, validation_data=(valImgs, valLabels))"
      ],
      "execution_count": 6,
      "outputs": [
        {
          "output_type": "stream",
          "text": [
            "Train on 1000 samples, validate on 251 samples\n",
            "Epoch 1/30\n",
            "1000/1000 [==============================] - 91s 91ms/sample - loss: 0.8887 - accuracy: 0.8060 - updated_mean_io_u: 0.0758 - val_loss: 0.8072 - val_accuracy: 0.9543 - val_updated_mean_io_u: 0.0963\n",
            "Epoch 2/30\n",
            "1000/1000 [==============================] - 65s 65ms/sample - loss: 0.1566 - accuracy: 0.9669 - updated_mean_io_u: 0.1067 - val_loss: 0.2570 - val_accuracy: 0.9621 - val_updated_mean_io_u: 0.0839\n",
            "Epoch 3/30\n",
            "1000/1000 [==============================] - 65s 65ms/sample - loss: 0.1205 - accuracy: 0.9708 - updated_mean_io_u: 0.1271 - val_loss: 0.4240 - val_accuracy: 0.9491 - val_updated_mean_io_u: 0.0997\n",
            "Epoch 4/30\n",
            "1000/1000 [==============================] - 66s 66ms/sample - loss: 0.1002 - accuracy: 0.9737 - updated_mean_io_u: 0.1505 - val_loss: 0.1655 - val_accuracy: 0.9567 - val_updated_mean_io_u: 0.1302\n",
            "Epoch 5/30\n",
            "1000/1000 [==============================] - 67s 67ms/sample - loss: 0.0867 - accuracy: 0.9768 - updated_mean_io_u: 0.1905 - val_loss: 0.1494 - val_accuracy: 0.9585 - val_updated_mean_io_u: 0.1606\n",
            "Epoch 6/30\n",
            "1000/1000 [==============================] - 67s 67ms/sample - loss: 0.0774 - accuracy: 0.9786 - updated_mean_io_u: 0.2105 - val_loss: 0.1991 - val_accuracy: 0.9368 - val_updated_mean_io_u: 0.1608\n",
            "Epoch 7/30\n",
            "1000/1000 [==============================] - 67s 67ms/sample - loss: 0.0704 - accuracy: 0.9794 - updated_mean_io_u: 0.2226 - val_loss: 0.0971 - val_accuracy: 0.9718 - val_updated_mean_io_u: 0.2060\n",
            "Epoch 8/30\n",
            "1000/1000 [==============================] - 68s 68ms/sample - loss: 0.0637 - accuracy: 0.9806 - updated_mean_io_u: 0.2391 - val_loss: 0.1043 - val_accuracy: 0.9668 - val_updated_mean_io_u: 0.1960\n",
            "Epoch 9/30\n",
            "1000/1000 [==============================] - 67s 67ms/sample - loss: 0.0575 - accuracy: 0.9819 - updated_mean_io_u: 0.2690 - val_loss: 0.1097 - val_accuracy: 0.9650 - val_updated_mean_io_u: 0.1987\n",
            "Epoch 10/30\n",
            "1000/1000 [==============================] - 67s 67ms/sample - loss: 0.0523 - accuracy: 0.9830 - updated_mean_io_u: 0.2890 - val_loss: 0.0760 - val_accuracy: 0.9750 - val_updated_mean_io_u: 0.2598\n",
            "Epoch 11/30\n",
            "1000/1000 [==============================] - 68s 68ms/sample - loss: 0.0463 - accuracy: 0.9845 - updated_mean_io_u: 0.3189 - val_loss: 0.0465 - val_accuracy: 0.9851 - val_updated_mean_io_u: 0.3321\n",
            "Epoch 12/30\n",
            "1000/1000 [==============================] - 67s 67ms/sample - loss: 0.0435 - accuracy: 0.9854 - updated_mean_io_u: 0.3494 - val_loss: 0.0494 - val_accuracy: 0.9838 - val_updated_mean_io_u: 0.3315\n",
            "Epoch 13/30\n",
            "1000/1000 [==============================] - 68s 68ms/sample - loss: 0.0433 - accuracy: 0.9853 - updated_mean_io_u: 0.3694 - val_loss: 0.0659 - val_accuracy: 0.9785 - val_updated_mean_io_u: 0.3072\n",
            "Epoch 14/30\n",
            "1000/1000 [==============================] - 68s 68ms/sample - loss: 0.0402 - accuracy: 0.9863 - updated_mean_io_u: 0.4022 - val_loss: 0.0491 - val_accuracy: 0.9847 - val_updated_mean_io_u: 0.3651\n",
            "Epoch 15/30\n",
            "1000/1000 [==============================] - 67s 67ms/sample - loss: 0.0375 - accuracy: 0.9869 - updated_mean_io_u: 0.4235 - val_loss: 0.0397 - val_accuracy: 0.9869 - val_updated_mean_io_u: 0.4434\n",
            "Epoch 16/30\n",
            "1000/1000 [==============================] - 68s 68ms/sample - loss: 0.0321 - accuracy: 0.9883 - updated_mean_io_u: 0.4920 - val_loss: 0.0375 - val_accuracy: 0.9874 - val_updated_mean_io_u: 0.5179\n",
            "Epoch 17/30\n",
            "1000/1000 [==============================] - 68s 68ms/sample - loss: 0.0333 - accuracy: 0.9885 - updated_mean_io_u: 0.5464 - val_loss: 0.0610 - val_accuracy: 0.9818 - val_updated_mean_io_u: 0.4956\n",
            "Epoch 18/30\n",
            "1000/1000 [==============================] - 67s 67ms/sample - loss: 0.0307 - accuracy: 0.9893 - updated_mean_io_u: 0.5778 - val_loss: 0.0412 - val_accuracy: 0.9866 - val_updated_mean_io_u: 0.5501\n",
            "Epoch 19/30\n",
            "1000/1000 [==============================] - 68s 68ms/sample - loss: 0.0295 - accuracy: 0.9895 - updated_mean_io_u: 0.5990 - val_loss: 0.0340 - val_accuracy: 0.9889 - val_updated_mean_io_u: 0.6019\n",
            "Epoch 20/30\n",
            "1000/1000 [==============================] - 68s 68ms/sample - loss: 0.0266 - accuracy: 0.9903 - updated_mean_io_u: 0.6447 - val_loss: 0.0326 - val_accuracy: 0.9895 - val_updated_mean_io_u: 0.6107\n",
            "Epoch 21/30\n",
            "1000/1000 [==============================] - 67s 67ms/sample - loss: 0.0260 - accuracy: 0.9906 - updated_mean_io_u: 0.6350 - val_loss: 0.0383 - val_accuracy: 0.9881 - val_updated_mean_io_u: 0.6085\n",
            "Epoch 22/30\n",
            "1000/1000 [==============================] - 68s 68ms/sample - loss: 0.0268 - accuracy: 0.9903 - updated_mean_io_u: 0.6480 - val_loss: 0.0342 - val_accuracy: 0.9892 - val_updated_mean_io_u: 0.6106\n",
            "Epoch 23/30\n",
            "1000/1000 [==============================] - 68s 68ms/sample - loss: 0.0238 - accuracy: 0.9912 - updated_mean_io_u: 0.6533 - val_loss: 0.0364 - val_accuracy: 0.9883 - val_updated_mean_io_u: 0.6086\n",
            "Epoch 24/30\n",
            "1000/1000 [==============================] - 68s 68ms/sample - loss: 0.0228 - accuracy: 0.9915 - updated_mean_io_u: 0.6619 - val_loss: 0.0324 - val_accuracy: 0.9896 - val_updated_mean_io_u: 0.6267\n",
            "Epoch 25/30\n",
            "1000/1000 [==============================] - 68s 68ms/sample - loss: 0.0241 - accuracy: 0.9912 - updated_mean_io_u: 0.6534 - val_loss: 0.0323 - val_accuracy: 0.9899 - val_updated_mean_io_u: 0.6162\n",
            "Epoch 26/30\n",
            "1000/1000 [==============================] - 68s 68ms/sample - loss: 0.0222 - accuracy: 0.9917 - updated_mean_io_u: 0.6737 - val_loss: 0.0346 - val_accuracy: 0.9889 - val_updated_mean_io_u: 0.6278\n",
            "Epoch 27/30\n",
            "1000/1000 [==============================] - 67s 67ms/sample - loss: 0.0221 - accuracy: 0.9916 - updated_mean_io_u: 0.6877 - val_loss: 0.0329 - val_accuracy: 0.9902 - val_updated_mean_io_u: 0.6478\n",
            "Epoch 28/30\n",
            "1000/1000 [==============================] - 68s 68ms/sample - loss: 0.0206 - accuracy: 0.9922 - updated_mean_io_u: 0.6894 - val_loss: 0.0314 - val_accuracy: 0.9904 - val_updated_mean_io_u: 0.6573\n",
            "Epoch 29/30\n",
            "1000/1000 [==============================] - 68s 68ms/sample - loss: 0.0210 - accuracy: 0.9920 - updated_mean_io_u: 0.7114 - val_loss: 0.0317 - val_accuracy: 0.9898 - val_updated_mean_io_u: 0.6293\n",
            "Epoch 30/30\n",
            "1000/1000 [==============================] - 67s 67ms/sample - loss: 0.0188 - accuracy: 0.9927 - updated_mean_io_u: 0.7218 - val_loss: 0.0336 - val_accuracy: 0.9898 - val_updated_mean_io_u: 0.6703\n"
          ],
          "name": "stdout"
        }
      ]
    },
    {
      "cell_type": "code",
      "metadata": {
        "id": "5ymxrY3gpSBh",
        "colab": {
          "base_uri": "https://localhost:8080/",
          "height": 302
        },
        "outputId": "aa5f06a9-ab09-459d-ba05-0b552dc80752"
      },
      "source": [
        "#  Plot the results\n",
        "print(history.history.keys())\n",
        "\n",
        "import matplotlib.pyplot as plt\n",
        "plt.plot(history.history['accuracy'])\n",
        "plt.plot(history.history['val_accuracy'])"
      ],
      "execution_count": 7,
      "outputs": [
        {
          "output_type": "stream",
          "text": [
            "dict_keys(['loss', 'accuracy', 'updated_mean_io_u', 'val_loss', 'val_accuracy', 'val_updated_mean_io_u'])\n"
          ],
          "name": "stdout"
        },
        {
          "output_type": "execute_result",
          "data": {
            "text/plain": [
              "[<matplotlib.lines.Line2D at 0x7f0d1131ef50>]"
            ]
          },
          "metadata": {
            "tags": []
          },
          "execution_count": 7
        },
        {
          "output_type": "display_data",
          "data": {
            "image/png": "[encoded data removed]",
            "text/plain": [
              "<Figure size 432x288 with 1 Axes>"
            ]
          },
          "metadata": {
            "tags": [],
            "needs_background": "light"
          }
        }
      ]
    },
    {
      "cell_type": "code",
      "metadata": {
        "colab": {
          "base_uri": "https://localhost:8080/",
          "height": 282
        },
        "id": "7TkEl5zMstfh",
        "outputId": "34227b96-f374-4733-8d70-35670f6b9d51"
      },
      "source": [
        "plt.plot(history.history['loss'])\n",
        "plt.plot(history.history['val_loss'])"
      ],
      "execution_count": 8,
      "outputs": [
        {
          "output_type": "execute_result",
          "data": {
            "text/plain": [
              "[<matplotlib.lines.Line2D at 0x7f0d10e00650>]"
            ]
          },
          "metadata": {
            "tags": []
          },
          "execution_count": 8
        },
        {
          "output_type": "display_data",
          "data": {
            "image/png": "[encoded data removed]",
            "text/plain": [
              "<Figure size 432x288 with 1 Axes>"
            ]
          },
          "metadata": {
            "tags": [],
            "needs_background": "light"
          }
        }
      ]
    },
    {
      "cell_type": "code",
      "metadata": {
        "id": "BOfjAUaKp213",
        "colab": {
          "base_uri": "https://localhost:8080/",
          "height": 282
        },
        "outputId": "99ecb337-e97c-4f38-f0e8-69eee18cb079"
      },
      "source": [
        "plt.plot(history.history['updated_mean_io_u'])\n",
        "plt.plot(history.history['val_updated_mean_io_u'])"
      ],
      "execution_count": 9,
      "outputs": [
        {
          "output_type": "execute_result",
          "data": {
            "text/plain": [
              "[<matplotlib.lines.Line2D at 0x7f0d10de1f10>]"
            ]
          },
          "metadata": {
            "tags": []
          },
          "execution_count": 9
        },
        {
          "output_type": "display_data",
          "data": {
            "image/png": "[encoded data removed]",
            "text/plain": [
              "<Figure size 432x288 with 1 Axes>"
            ]
          },
          "metadata": {
            "tags": [],
            "needs_background": "light"
          }
        }
      ]
    },
    {
      "cell_type": "code",
      "metadata": {
        "id": "xIs9nAuXJX8F"
      },
      "source": [
        "# get the testdata\n",
        "testImgs   = getData(testPath, testImgsFile)\n",
        "testLabels = getData(testPath, testLabelsFile)"
      ],
      "execution_count": 10,
      "outputs": []
    },
    {
      "cell_type": "code",
      "metadata": {
        "id": "cJg2fDdHqDEr",
        "colab": {
          "base_uri": "https://localhost:8080/"
        },
        "outputId": "245aaa72-b533-41bb-9c74-7e512c262d91"
      },
      "source": [
        "model.evaluate(testImgs, testLabels)"
      ],
      "execution_count": 11,
      "outputs": [
        {
          "output_type": "stream",
          "text": [
            "617/617 [==============================] - 14s 22ms/sample - loss: 0.0348 - accuracy: 0.9896 - updated_mean_io_u: 0.6783\n"
          ],
          "name": "stdout"
        },
        {
          "output_type": "execute_result",
          "data": {
            "text/plain": [
              "[0.03476473053908232, 0.9896169, 0.67826843]"
            ]
          },
          "metadata": {
            "tags": []
          },
          "execution_count": 11
        }
      ]
    },
    {
      "cell_type": "code",
      "metadata": {
        "id": "4kBp5pC4qe3j"
      },
      "source": [
        "# save the model weights\n",
        "weightFileName = \"LinkEfficientNetb2_30e_16b.h5\"\n",
        "weightPath = '/content/drive/My Drive/Underwater_Segmentation_Research/Weights/LinkNet'\n",
        "model.save_weights(weightPath + \"/\" + weightFileName)\n"
      ],
      "execution_count": 12,
      "outputs": []
    },
    {
      "cell_type": "code",
      "metadata": {
        "id": "O0ktWQ4lsyxv"
      },
      "source": [
        "model.load_weights(weightPath + \"/\" + weightFileName)\n",
        "model.evaluate(testImgs, testLabels)"
      ],
      "execution_count": null,
      "outputs": []
    },
    {
      "cell_type": "code",
      "metadata": {
        "id": "SF0gF5Otuac9",
        "colab": {
          "base_uri": "https://localhost:8080/"
        },
        "outputId": "09163985-cca9-4e43-fe57-7bc89f207bdd"
      },
      "source": [
        "modelFileName = \"LinkEfficientNetb2_30e_16b\"\n",
        "modelPath     = '/content/drive/My Drive/Underwater_Segmentation_Research/Models/LinkNet'\n",
        "model.save(modelPath + \"/\" + modelFileName)"
      ],
      "execution_count": 13,
      "outputs": [
        {
          "output_type": "stream",
          "text": [
            "WARNING:tensorflow:From /usr/local/lib/python3.7/dist-packages/tensorflow_core/python/ops/resource_variable_ops.py:1786: calling BaseResourceVariable.__init__ (from tensorflow.python.ops.resource_variable_ops) with constraint is deprecated and will be removed in a future version.\n",
            "Instructions for updating:\n",
            "If using Keras pass *_constraint arguments to layers.\n",
            "INFO:tensorflow:Assets written to: /content/drive/My Drive/Underwater_Segmentation_Research/Models/LinkNet/LinkEfficientNetb2_30e_16b/assets\n"
          ],
          "name": "stdout"
        }
      ]
    },
    {
      "cell_type": "code",
      "metadata": {
        "id": "8g2JByQRvjc3",
        "colab": {
          "base_uri": "https://localhost:8080/"
        },
        "outputId": "442f08f7-8fd1-417f-9d16-384fac8fdced"
      },
      "source": [
        "# Check the GPU configuration\n",
        "!nvidia-smi"
      ],
      "execution_count": 14,
      "outputs": [
        {
          "output_type": "stream",
          "text": [
            "Wed May 26 15:11:47 2021       \n",
            "+-----------------------------------------------------------------------------+\n",
            "| NVIDIA-SMI 465.19.01    Driver Version: 460.32.03    CUDA Version: 11.2     |\n",
            "|-------------------------------+----------------------+----------------------+\n",
            "| GPU  Name        Persistence-M| Bus-Id        Disp.A | Volatile Uncorr. ECC |\n",
            "| Fan  Temp  Perf  Pwr:Usage/Cap|         Memory-Usage | GPU-Util  Compute M. |\n",
            "|                               |                      |               MIG M. |\n",
            "|===============================+======================+======================|\n",
            "|   0  Tesla T4            Off  | 00000000:00:04.0 Off |                    0 |\n",
            "| N/A   48C    P0    28W /  70W |  14870MiB / 15109MiB |      0%      Default |\n",
            "|                               |                      |                  N/A |\n",
            "+-------------------------------+----------------------+----------------------+\n",
            "                                                                               \n",
            "+-----------------------------------------------------------------------------+\n",
            "| Processes:                                                                  |\n",
            "|  GPU   GI   CI        PID   Type   Process name                  GPU Memory |\n",
            "|        ID   ID                                                   Usage      |\n",
            "|=============================================================================|\n",
            "+-----------------------------------------------------------------------------+\n"
          ],
          "name": "stdout"
        }
      ]
    },
    {
      "cell_type": "code",
      "metadata": {
        "id": "8Ky0ILN0Yuna"
      },
      "source": [
        "y_preds = model.predict(testImgs)\n",
        "y_preds = (y_preds >= 0.5).astype(np.uint8)"
      ],
      "execution_count": 15,
      "outputs": []
    },
    {
      "cell_type": "code",
      "metadata": {
        "id": "kL9yioLTxP6W"
      },
      "source": [
        "yPreds = tf.argmax(y_preds, axis=-1)\n",
        "yPreds = yPreds.numpy()"
      ],
      "execution_count": 17,
      "outputs": []
    },
    {
      "cell_type": "code",
      "metadata": {
        "id": "p1uTFgSjY3nU",
        "colab": {
          "base_uri": "https://localhost:8080/"
        },
        "outputId": "550b2458-4025-42dc-94ef-7ebc6009048c"
      },
      "source": [
        "# Compute mean of per-class IOU throughout the test images\n",
        "num_classes=12\n",
        "m = UpdatedMeanIoU(num_classes=12)\n",
        "m.update_state(testLabels, y_preds)\n",
        "\n",
        "print(f'Overall mean IOU is : {m.result().numpy()}')\n",
        "\n",
        "# Values is the confusion matrix\n",
        "values = np.array(m.get_weights()).reshape(num_classes, num_classes)"
      ],
      "execution_count": 18,
      "outputs": [
        {
          "output_type": "stream",
          "text": [
            "Overall mean IOU is : 0.679901659488678\n"
          ],
          "name": "stdout"
        }
      ]
    },
    {
      "cell_type": "code",
      "metadata": {
        "id": "JVc0rYRGY5xf",
        "colab": {
          "base_uri": "https://localhost:8080/"
        },
        "outputId": "e1b83b28-fec1-49d0-a33c-30054cfaea7c"
      },
      "source": [
        "# compute the mean per-class IOU\n",
        "numClasses = 12\n",
        "\n",
        "classIOU = []\n",
        "\n",
        "for i in range(numClasses):\n",
        "  rowSum = np.sum(values[i,:])\n",
        "  colSum = np.sum(values[:,i])\n",
        "  denom = rowSum + colSum - values[i,i]\n",
        "  iou = values[i,i]/denom\n",
        "  classIOU.append(iou)\n",
        "\n",
        "print(classIOU)\n",
        "perClassIoU = np.array(classIOU)\n",
        "print(np.mean(perClassIoU))\n"
      ],
      "execution_count": 19,
      "outputs": [
        {
          "output_type": "stream",
          "text": [
            "[0.9900981491753973, 0.6402832982311676, 0.5624913310361146, 0.5951205081955562, 0.6802366040361865, 0.6755051613631518, 0.5839833550578337, 0.6392477245311986, 0.601397661604623, 0.8504295213207017, 0.48192248360971845, 0.8581043417003997]\n",
            "0.6799016783218375\n"
          ],
          "name": "stdout"
        }
      ]
    },
    {
      "cell_type": "code",
      "metadata": {
        "id": "vl0-DjZdY-ao",
        "colab": {
          "base_uri": "https://localhost:8080/",
          "height": 804
        },
        "outputId": "0fa75c83-f4a5-4c54-dfa1-1ebb10b4e3b8"
      },
      "source": [
        "import matplotlib.pyplot as plt\n",
        "i = 0\n",
        "plt.imshow(yPreds[i])\n",
        "plt.show()\n",
        "\n",
        "print(np.unique(yPreds[i,:,:]))\n",
        "\n",
        "plt.imshow(testLabels[i,:,:,0])\n",
        "plt.show()\n",
        "\n",
        "print(np.unique(testLabels[i,:,:,0]))\n",
        "\n",
        "t = np.linspace(0,11,num=12)\n",
        "plt.plot(t, perClassIoU)\n",
        "plt.show()"
      ],
      "execution_count": 20,
      "outputs": [
        {
          "output_type": "display_data",
          "data": {
            "image/png": "[encoded data removed]",
            "text/plain": [
              "<Figure size 432x288 with 1 Axes>"
            ]
          },
          "metadata": {
            "tags": [],
            "needs_background": "light"
          }
        },
        {
          "output_type": "stream",
          "text": [
            "[ 0  1  6  9 11]\n"
          ],
          "name": "stdout"
        },
        {
          "output_type": "display_data",
          "data": {
            "image/png": "[encoded data removed]",
            "text/plain": [
              "<Figure size 432x288 with 1 Axes>"
            ]
          },
          "metadata": {
            "tags": [],
            "needs_background": "light"
          }
        },
        {
          "output_type": "stream",
          "text": [
            "[ 0  1  9 11]\n"
          ],
          "name": "stdout"
        },
        {
          "output_type": "display_data",
          "data": {
            "image/png": "[encoded data removed]",
            "text/plain": [
              "<Figure size 432x288 with 1 Axes>"
            ]
          },
          "metadata": {
            "tags": [],
            "needs_background": "light"
          }
        }
      ]
    }
  ]
}