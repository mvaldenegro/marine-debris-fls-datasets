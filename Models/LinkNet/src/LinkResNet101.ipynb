{
  "nbformat": 4,
  "nbformat_minor": 0,
  "metadata": {
    "colab": {
      "name": "LinkResNet101.ipynb",
      "provenance": []
    },
    "kernelspec": {
      "name": "python3",
      "display_name": "Python 3"
    },
    "language_info": {
      "name": "python"
    },
    "accelerator": "GPU"
  },
  "cells": [
    {
      "cell_type": "code",
      "metadata": {
        "id": "oYFJNNAjBiXh"
      },
      "source": [
        "# LinkNet with ResNet101 for multiclass semantic segmentation\n",
        "!pip install tensorflow==2.1.0"
      ],
      "execution_count": null,
      "outputs": []
    },
    {
      "cell_type": "code",
      "metadata": {
        "id": "N-R74Ti8B12-"
      },
      "source": [
        "!pip install segmentation-models"
      ],
      "execution_count": null,
      "outputs": []
    },
    {
      "cell_type": "code",
      "metadata": {
        "colab": {
          "base_uri": "https://localhost:8080/"
        },
        "id": "BPMrXA29B3zx",
        "outputId": "ff374cff-d455-4889-cf54-91b32e1e4c99"
      },
      "source": [
        "# mount google drive here\n",
        "from google.colab import drive\n",
        "drive.mount('/content/drive')"
      ],
      "execution_count": 3,
      "outputs": [
        {
          "output_type": "stream",
          "text": [
            "Mounted at /content/drive\n"
          ],
          "name": "stdout"
        }
      ]
    },
    {
      "cell_type": "code",
      "metadata": {
        "colab": {
          "base_uri": "https://localhost:8080/"
        },
        "id": "uB87tKFwB5eU",
        "outputId": "78e2a343-6ef6-4305-bf8e-d4318ea8ab8b"
      },
      "source": [
        "# Fetch the training, validation and testing dataset\n",
        "import os\n",
        "import numpy as np\n",
        "\n",
        "dataPath  = '/content/drive/My Drive/Underwater_Segmentation_Research/Data'\n",
        "\n",
        "trainPath       =  dataPath + '/Train'\n",
        "testPath        =  dataPath + '/Test'\n",
        "valPath         =  dataPath + '/Validate'\n",
        "\n",
        "trainImgsFile   = 'trainingDataImgs.npy'\n",
        "trainLabelsFile = 'trainingDataLabels.npy'\n",
        "\n",
        "testImgsFile    = 'testingDataImgs.npy'\n",
        "testLabelsFile  = 'testingDataLabels.npy'\n",
        "\n",
        "valImgsFile     = 'validationDataImgs.npy'\n",
        "valLabelsFile   = 'validationDataLabels.npy'\n",
        "\n",
        "testImgs = None\n",
        "testLabels = None\n",
        "\n",
        "def getData(path,fileName):\n",
        "  return np.load(path + \"/\" + fileName)\n",
        "\n",
        "trainImgs   = getData(trainPath, trainImgsFile)\n",
        "trainLabels = getData(trainPath, trainLabelsFile)\n",
        "\n",
        "valImgs    = getData(valPath, valImgsFile)\n",
        "valLabels  = getData(valPath, valLabelsFile)\n",
        "\n",
        "print(\"Got train and validation data\")\n",
        "print(trainImgs.shape, valImgs.shape)\n",
        "print(trainLabels.shape, valLabels.shape)"
      ],
      "execution_count": 4,
      "outputs": [
        {
          "output_type": "stream",
          "text": [
            "Got train and validation data\n",
            "(1000, 480, 320, 1) (251, 480, 320, 1)\n",
            "(1000, 480, 320, 1) (251, 480, 320, 1)\n"
          ],
          "name": "stdout"
        }
      ]
    },
    {
      "cell_type": "code",
      "metadata": {
        "id": "1YqWnLlgB7x-"
      },
      "source": [
        "# Create the model (without pre-trained ImageNet weights)\n",
        "import os\n",
        "import numpy as np\n",
        "import tensorflow as tf\n",
        "import segmentation_models as sm\n",
        "\n",
        "# create the model\n",
        "model = sm.Linknet('resnet101', input_shape=(480, 320, 1), encoder_weights=None, classes=12, activation='softmax')\n",
        "model.summary()\n"
      ],
      "execution_count": null,
      "outputs": []
    },
    {
      "cell_type": "code",
      "metadata": {
        "id": "oB0uQiC2B_T_"
      },
      "source": [
        "class UpdatedMeanIoU(tf.keras.metrics.MeanIoU):\n",
        "  def __init__(self,\n",
        "               y_true=None,\n",
        "               y_pred=None,\n",
        "               num_classes=None,\n",
        "               name=None,\n",
        "               dtype=None):\n",
        "    super(UpdatedMeanIoU, self).__init__(num_classes = num_classes,name=name, dtype=dtype)\n",
        "\n",
        "  def update_state(self, y_true, y_pred, sample_weight=None):\n",
        "    y_pred = tf.math.argmax(y_pred, axis=-1)\n",
        "    return super().update_state(y_true, y_pred, sample_weight)"
      ],
      "execution_count": null,
      "outputs": []
    },
    {
      "cell_type": "code",
      "metadata": {
        "id": "ZKaq9FRbCCsM"
      },
      "source": [
        "import tensorflow as tf\n",
        "LOSS=tf.keras.losses.SparseCategoricalCrossentropy(from_logits=True)\n",
        "\n",
        "model.compile('Adam',\n",
        "              loss='sparse_categorical_crossentropy',\n",
        "              metrics=['accuracy', UpdatedMeanIoU(num_classes=12)])"
      ],
      "execution_count": 11,
      "outputs": []
    },
    {
      "cell_type": "code",
      "metadata": {
        "id": "V5uhW9zbCEL8"
      },
      "source": [
        "# Setup training parameters\n",
        "BATCH = 16\n",
        "EPOCHS = 30\n",
        "\n",
        "# early stopping callback. It stops training when the loss does not change for 3 consecutive epochs\n",
        "callback = tf.keras.callbacks.EarlyStopping(monitor='loss', patience=3)"
      ],
      "execution_count": 8,
      "outputs": []
    },
    {
      "cell_type": "code",
      "metadata": {
        "colab": {
          "base_uri": "https://localhost:8080/"
        },
        "id": "ZuioVTHnCGx0",
        "outputId": "5fd84390-af25-4e52-b760-dcf66aa4f029"
      },
      "source": [
        "# Start training the model\n",
        "history = model.fit(trainImgs, trainLabels, epochs=EPOCHS, batch_size=BATCH, validation_data=(valImgs, valLabels))"
      ],
      "execution_count": 12,
      "outputs": [
        {
          "output_type": "stream",
          "text": [
            "Train on 1000 samples, validate on 251 samples\n",
            "Epoch 1/30\n",
            "1000/1000 [==============================] - 100s 100ms/sample - loss: 0.6114 - accuracy: 0.8869 - updated_mean_io_u_1: 0.0774 - val_loss: 0.6096 - val_accuracy: 0.9622 - val_updated_mean_io_u_1: 0.0802\n",
            "Epoch 2/30\n",
            "1000/1000 [==============================] - 81s 81ms/sample - loss: 0.1284 - accuracy: 0.9691 - updated_mean_io_u_1: 0.1176 - val_loss: 1.7357 - val_accuracy: 0.8352 - val_updated_mean_io_u_1: 0.0706\n",
            "Epoch 3/30\n",
            "1000/1000 [==============================] - 81s 81ms/sample - loss: 0.1041 - accuracy: 0.9721 - updated_mean_io_u_1: 0.1332 - val_loss: 0.4333 - val_accuracy: 0.8568 - val_updated_mean_io_u_1: 0.0814\n",
            "Epoch 4/30\n",
            "1000/1000 [==============================] - 81s 81ms/sample - loss: 0.0868 - accuracy: 0.9747 - updated_mean_io_u_1: 0.1635 - val_loss: 0.1775 - val_accuracy: 0.9632 - val_updated_mean_io_u_1: 0.1454\n",
            "Epoch 5/30\n",
            "1000/1000 [==============================] - 81s 81ms/sample - loss: 0.0766 - accuracy: 0.9785 - updated_mean_io_u_1: 0.2049 - val_loss: 0.1715 - val_accuracy: 0.9538 - val_updated_mean_io_u_1: 0.1273\n",
            "Epoch 6/30\n",
            "1000/1000 [==============================] - 81s 81ms/sample - loss: 0.0692 - accuracy: 0.9795 - updated_mean_io_u_1: 0.2169 - val_loss: 0.1877 - val_accuracy: 0.9304 - val_updated_mean_io_u_1: 0.1302\n",
            "Epoch 7/30\n",
            "1000/1000 [==============================] - 81s 81ms/sample - loss: 0.0603 - accuracy: 0.9813 - updated_mean_io_u_1: 0.2308 - val_loss: 0.1523 - val_accuracy: 0.9585 - val_updated_mean_io_u_1: 0.1628\n",
            "Epoch 8/30\n",
            "1000/1000 [==============================] - 81s 81ms/sample - loss: 0.0575 - accuracy: 0.9811 - updated_mean_io_u_1: 0.2351 - val_loss: 0.0635 - val_accuracy: 0.9804 - val_updated_mean_io_u_1: 0.2324\n",
            "Epoch 9/30\n",
            "1000/1000 [==============================] - 81s 81ms/sample - loss: 0.0532 - accuracy: 0.9820 - updated_mean_io_u_1: 0.2402 - val_loss: 0.0576 - val_accuracy: 0.9817 - val_updated_mean_io_u_1: 0.2501\n",
            "Epoch 10/30\n",
            "1000/1000 [==============================] - 81s 81ms/sample - loss: 0.0486 - accuracy: 0.9829 - updated_mean_io_u_1: 0.2552 - val_loss: 0.0610 - val_accuracy: 0.9819 - val_updated_mean_io_u_1: 0.2917\n",
            "Epoch 11/30\n",
            "1000/1000 [==============================] - 81s 81ms/sample - loss: 0.0534 - accuracy: 0.9829 - updated_mean_io_u_1: 0.2897 - val_loss: 0.1674 - val_accuracy: 0.9498 - val_updated_mean_io_u_1: 0.2061\n",
            "Epoch 12/30\n",
            "1000/1000 [==============================] - 81s 81ms/sample - loss: 0.0452 - accuracy: 0.9848 - updated_mean_io_u_1: 0.3240 - val_loss: 0.0502 - val_accuracy: 0.9841 - val_updated_mean_io_u_1: 0.3373\n",
            "Epoch 13/30\n",
            "1000/1000 [==============================] - 81s 81ms/sample - loss: 0.0414 - accuracy: 0.9859 - updated_mean_io_u_1: 0.3504 - val_loss: 0.0474 - val_accuracy: 0.9849 - val_updated_mean_io_u_1: 0.3551\n",
            "Epoch 14/30\n",
            "1000/1000 [==============================] - 81s 81ms/sample - loss: 0.0403 - accuracy: 0.9861 - updated_mean_io_u_1: 0.3660 - val_loss: 0.0513 - val_accuracy: 0.9834 - val_updated_mean_io_u_1: 0.3424\n",
            "Epoch 15/30\n",
            "1000/1000 [==============================] - 81s 81ms/sample - loss: 0.0348 - accuracy: 0.9879 - updated_mean_io_u_1: 0.4004 - val_loss: 0.0448 - val_accuracy: 0.9863 - val_updated_mean_io_u_1: 0.3833\n",
            "Epoch 16/30\n",
            "1000/1000 [==============================] - 81s 81ms/sample - loss: 0.0343 - accuracy: 0.9880 - updated_mean_io_u_1: 0.4190 - val_loss: 0.0496 - val_accuracy: 0.9845 - val_updated_mean_io_u_1: 0.3835\n",
            "Epoch 17/30\n",
            "1000/1000 [==============================] - 81s 81ms/sample - loss: 0.0338 - accuracy: 0.9882 - updated_mean_io_u_1: 0.4484 - val_loss: 0.1161 - val_accuracy: 0.9647 - val_updated_mean_io_u_1: 0.2875\n",
            "Epoch 18/30\n",
            "1000/1000 [==============================] - 81s 81ms/sample - loss: 0.0353 - accuracy: 0.9878 - updated_mean_io_u_1: 0.4558 - val_loss: 0.0470 - val_accuracy: 0.9847 - val_updated_mean_io_u_1: 0.4013\n",
            "Epoch 19/30\n",
            "1000/1000 [==============================] - 81s 81ms/sample - loss: 0.0344 - accuracy: 0.9878 - updated_mean_io_u_1: 0.4766 - val_loss: 0.1004 - val_accuracy: 0.9705 - val_updated_mean_io_u_1: 0.2953\n",
            "Epoch 20/30\n",
            "1000/1000 [==============================] - 81s 81ms/sample - loss: 0.0306 - accuracy: 0.9888 - updated_mean_io_u_1: 0.5076 - val_loss: 0.0373 - val_accuracy: 0.9883 - val_updated_mean_io_u_1: 0.5307\n",
            "Epoch 21/30\n",
            "1000/1000 [==============================] - 81s 81ms/sample - loss: 0.0274 - accuracy: 0.9907 - updated_mean_io_u_1: 0.6221 - val_loss: 0.0350 - val_accuracy: 0.9900 - val_updated_mean_io_u_1: 0.6010\n",
            "Epoch 22/30\n",
            "1000/1000 [==============================] - 81s 81ms/sample - loss: 0.0255 - accuracy: 0.9913 - updated_mean_io_u_1: 0.6514 - val_loss: 0.0680 - val_accuracy: 0.9809 - val_updated_mean_io_u_1: 0.4468\n",
            "Epoch 23/30\n",
            "1000/1000 [==============================] - 81s 81ms/sample - loss: 0.0344 - accuracy: 0.9885 - updated_mean_io_u_1: 0.5901 - val_loss: 0.3408 - val_accuracy: 0.9132 - val_updated_mean_io_u_1: 0.3166\n",
            "Epoch 24/30\n",
            "1000/1000 [==============================] - 81s 81ms/sample - loss: 0.0275 - accuracy: 0.9902 - updated_mean_io_u_1: 0.6350 - val_loss: 0.0457 - val_accuracy: 0.9866 - val_updated_mean_io_u_1: 0.5124\n",
            "Epoch 25/30\n",
            "1000/1000 [==============================] - 81s 81ms/sample - loss: 0.0245 - accuracy: 0.9913 - updated_mean_io_u_1: 0.6615 - val_loss: 0.0322 - val_accuracy: 0.9900 - val_updated_mean_io_u_1: 0.6270\n",
            "Epoch 26/30\n",
            "1000/1000 [==============================] - 81s 81ms/sample - loss: 0.0215 - accuracy: 0.9921 - updated_mean_io_u_1: 0.6863 - val_loss: 0.0357 - val_accuracy: 0.9896 - val_updated_mean_io_u_1: 0.5938\n",
            "Epoch 27/30\n",
            "1000/1000 [==============================] - 81s 81ms/sample - loss: 0.0227 - accuracy: 0.9917 - updated_mean_io_u_1: 0.6806 - val_loss: 0.0381 - val_accuracy: 0.9888 - val_updated_mean_io_u_1: 0.5868\n",
            "Epoch 28/30\n",
            "1000/1000 [==============================] - 81s 81ms/sample - loss: 0.0230 - accuracy: 0.9915 - updated_mean_io_u_1: 0.6735 - val_loss: 0.0441 - val_accuracy: 0.9861 - val_updated_mean_io_u_1: 0.5879\n",
            "Epoch 29/30\n",
            "1000/1000 [==============================] - 81s 81ms/sample - loss: 0.0252 - accuracy: 0.9911 - updated_mean_io_u_1: 0.6628 - val_loss: 0.0570 - val_accuracy: 0.9837 - val_updated_mean_io_u_1: 0.4840\n",
            "Epoch 30/30\n",
            "1000/1000 [==============================] - 81s 81ms/sample - loss: 0.0235 - accuracy: 0.9914 - updated_mean_io_u_1: 0.6770 - val_loss: 0.0413 - val_accuracy: 0.9865 - val_updated_mean_io_u_1: 0.6053\n"
          ],
          "name": "stdout"
        }
      ]
    },
    {
      "cell_type": "code",
      "metadata": {
        "colab": {
          "base_uri": "https://localhost:8080/",
          "height": 300
        },
        "id": "Rh2lpHQWCIgY",
        "outputId": "8e518076-de40-441b-9c63-8bb59c36e8da"
      },
      "source": [
        "#  Plot the results\n",
        "print(history.history.keys())\n",
        "\n",
        "import matplotlib.pyplot as plt\n",
        "plt.plot(history.history['accuracy'])\n",
        "plt.plot(history.history['val_accuracy'])"
      ],
      "execution_count": 13,
      "outputs": [
        {
          "output_type": "stream",
          "text": [
            "dict_keys(['loss', 'accuracy', 'updated_mean_io_u_1', 'val_loss', 'val_accuracy', 'val_updated_mean_io_u_1'])\n"
          ],
          "name": "stdout"
        },
        {
          "output_type": "execute_result",
          "data": {
            "text/plain": [
              "[<matplotlib.lines.Line2D at 0x7fa41be5bc50>]"
            ]
          },
          "metadata": {
            "tags": []
          },
          "execution_count": 13
        },
        {
          "output_type": "display_data",
          "data": {
            "image/png": "[encoded data removed]",
            "text/plain": [
              "<Figure size 432x288 with 1 Axes>"
            ]
          },
          "metadata": {
            "tags": [],
            "needs_background": "light"
          }
        }
      ]
    },
    {
      "cell_type": "code",
      "metadata": {
        "colab": {
          "base_uri": "https://localhost:8080/",
          "height": 282
        },
        "id": "xF1Fct9TCPVQ",
        "outputId": "da2c9479-46a7-488a-9b14-099db6ca9ddb"
      },
      "source": [
        "plt.plot(history.history['loss'])\n",
        "plt.plot(history.history['val_loss'])"
      ],
      "execution_count": 14,
      "outputs": [
        {
          "output_type": "execute_result",
          "data": {
            "text/plain": [
              "[<matplotlib.lines.Line2D at 0x7fa41b935d50>]"
            ]
          },
          "metadata": {
            "tags": []
          },
          "execution_count": 14
        },
        {
          "output_type": "display_data",
          "data": {
            "image/png": "[encoded data removed]",
            "text/plain": [
              "<Figure size 432x288 with 1 Axes>"
            ]
          },
          "metadata": {
            "tags": [],
            "needs_background": "light"
          }
        }
      ]
    },
    {
      "cell_type": "code",
      "metadata": {
        "colab": {
          "base_uri": "https://localhost:8080/",
          "height": 282
        },
        "id": "wN3XLyrDCoe9",
        "outputId": "5d1f3d3f-8439-4af8-b4b8-cd2cdb95d160"
      },
      "source": [
        "plt.plot(history.history['updated_mean_io_u_1'])\n",
        "plt.plot(history.history['val_updated_mean_io_u_1'])"
      ],
      "execution_count": 17,
      "outputs": [
        {
          "output_type": "execute_result",
          "data": {
            "text/plain": [
              "[<matplotlib.lines.Line2D at 0x7fa41b8c3390>]"
            ]
          },
          "metadata": {
            "tags": []
          },
          "execution_count": 17
        },
        {
          "output_type": "display_data",
          "data": {
            "image/png": "[encoded data removed]",
            "text/plain": [
              "<Figure size 432x288 with 1 Axes>"
            ]
          },
          "metadata": {
            "tags": [],
            "needs_background": "light"
          }
        }
      ]
    },
    {
      "cell_type": "code",
      "metadata": {
        "id": "16vUyKqWCq9V"
      },
      "source": [
        "# get the testdata\n",
        "testImgs   = getData(testPath, testImgsFile)\n",
        "testLabels = getData(testPath, testLabelsFile)"
      ],
      "execution_count": 18,
      "outputs": []
    },
    {
      "cell_type": "code",
      "metadata": {
        "colab": {
          "base_uri": "https://localhost:8080/"
        },
        "id": "_dU0TmVfCtI5",
        "outputId": "d8f6d474-b883-4ed6-a09e-b06ca19868f7"
      },
      "source": [
        "model.evaluate(testImgs, testLabels)"
      ],
      "execution_count": 19,
      "outputs": [
        {
          "output_type": "stream",
          "text": [
            "617/617 [==============================] - 22s 36ms/sample - loss: 0.0414 - accuracy: 0.9864 - updated_mean_io_u_1: 0.6189\n"
          ],
          "name": "stdout"
        },
        {
          "output_type": "execute_result",
          "data": {
            "text/plain": [
              "[0.04135087664983261, 0.9864401, 0.61888295]"
            ]
          },
          "metadata": {
            "tags": []
          },
          "execution_count": 19
        }
      ]
    },
    {
      "cell_type": "code",
      "metadata": {
        "id": "8Fcwzr8kCuoa"
      },
      "source": [
        "# save the model weights\n",
        "weightFileName = \"LinkResNet101_30e_16b.h5\"\n",
        "weightPath = '/content/drive/My Drive/Underwater_Segmentation_Research/Weights/LinkNet'\n",
        "model.save_weights(weightPath + \"/\" + weightFileName)\n"
      ],
      "execution_count": 20,
      "outputs": []
    },
    {
      "cell_type": "code",
      "metadata": {
        "id": "EChNMzt-CwmZ"
      },
      "source": [
        "model.load_weights(weightPath + \"/\" + weightFileName)\n",
        "model.evaluate(testImgs, testLabels)"
      ],
      "execution_count": null,
      "outputs": []
    },
    {
      "cell_type": "code",
      "metadata": {
        "id": "H6ZDddaSCy2P"
      },
      "source": [
        "modelFileName = \"LinkResNet101_30e_16b\"\n",
        "modelPath     = '/content/drive/My Drive/Underwater_Segmentation_Research/Models/LinkNet'\n",
        "model.save(modelPath + \"/\" + modelFileName)"
      ],
      "execution_count": null,
      "outputs": []
    },
    {
      "cell_type": "code",
      "metadata": {
        "colab": {
          "base_uri": "https://localhost:8080/"
        },
        "id": "ylpV9CiiC4Ye",
        "outputId": "a836fd02-02ec-418a-dbee-3a05c268f22b"
      },
      "source": [
        "# Check the GPU configuration\n",
        "!nvidia-smi"
      ],
      "execution_count": 23,
      "outputs": [
        {
          "output_type": "stream",
          "text": [
            "Wed May 26 10:24:55 2021       \n",
            "+-----------------------------------------------------------------------------+\n",
            "| NVIDIA-SMI 465.19.01    Driver Version: 460.32.03    CUDA Version: 11.2     |\n",
            "|-------------------------------+----------------------+----------------------+\n",
            "| GPU  Name        Persistence-M| Bus-Id        Disp.A | Volatile Uncorr. ECC |\n",
            "| Fan  Temp  Perf  Pwr:Usage/Cap|         Memory-Usage | GPU-Util  Compute M. |\n",
            "|                               |                      |               MIG M. |\n",
            "|===============================+======================+======================|\n",
            "|   0  Tesla T4            Off  | 00000000:00:04.0 Off |                    0 |\n",
            "| N/A   54C    P0    29W /  70W |  14870MiB / 15109MiB |      0%      Default |\n",
            "|                               |                      |                  N/A |\n",
            "+-------------------------------+----------------------+----------------------+\n",
            "                                                                               \n",
            "+-----------------------------------------------------------------------------+\n",
            "| Processes:                                                                  |\n",
            "|  GPU   GI   CI        PID   Type   Process name                  GPU Memory |\n",
            "|        ID   ID                                                   Usage      |\n",
            "|=============================================================================|\n",
            "+-----------------------------------------------------------------------------+\n"
          ],
          "name": "stdout"
        }
      ]
    },
    {
      "cell_type": "code",
      "metadata": {
        "id": "nOpoxkmoC53S"
      },
      "source": [
        "y_preds = model.predict(testImgs)\n",
        "y_preds = (y_preds >= 0.5).astype(np.uint8)"
      ],
      "execution_count": 24,
      "outputs": []
    },
    {
      "cell_type": "code",
      "metadata": {
        "id": "ahENAOaAC7TQ"
      },
      "source": [
        "yPreds = tf.argmax(y_preds, axis=-1)\n",
        "yPreds = yPreds.numpy()"
      ],
      "execution_count": 25,
      "outputs": []
    },
    {
      "cell_type": "code",
      "metadata": {
        "colab": {
          "base_uri": "https://localhost:8080/"
        },
        "id": "LV9Nf0EmC9FD",
        "outputId": "89c31a64-662c-4120-dcbc-3b8e679b68a8"
      },
      "source": [
        "# Compute mean of per-class IOU throughout the test images\n",
        "num_classes=12\n",
        "m = UpdatedMeanIoU(num_classes=12)\n",
        "m.update_state(testLabels, y_preds)\n",
        "\n",
        "print(f'Overall mean IOU is : {m.result().numpy()}')\n",
        "\n",
        "# Values is the confusion matrix\n",
        "values = np.array(m.get_weights()).reshape(num_classes, num_classes)"
      ],
      "execution_count": 26,
      "outputs": [
        {
          "output_type": "stream",
          "text": [
            "Overall mean IOU is : 0.5971824526786804\n"
          ],
          "name": "stdout"
        }
      ]
    },
    {
      "cell_type": "code",
      "metadata": {
        "colab": {
          "base_uri": "https://localhost:8080/"
        },
        "id": "IdAHSKZhNfBJ",
        "outputId": "60d23c43-c1eb-4f37-f84c-4f29c016cf25"
      },
      "source": [
        "# compute the mean per-class IOU\n",
        "numClasses = 12\n",
        "\n",
        "classIOU = []\n",
        "\n",
        "for i in range(numClasses):\n",
        "  rowSum = np.sum(values[i,:])\n",
        "  colSum = np.sum(values[:,i])\n",
        "  denom = rowSum + colSum - values[i,i]\n",
        "  iou = values[i,i]/denom\n",
        "  classIOU.append(iou)\n",
        "\n",
        "print(classIOU)\n",
        "perClassIoU = np.array(classIOU)\n",
        "print(np.mean(perClassIoU))"
      ],
      "execution_count": 28,
      "outputs": [
        {
          "output_type": "stream",
          "text": [
            "[0.9866143707595311, 0.7083642003889249, 0.5596719724642892, 0.4156670582827907, 0.5980563008860982, 0.46250290765294255, 0.6040889947528307, 0.5749963646939072, 0.0, 0.8562404885736516, 0.513156154964961, 0.8868302508981156]\n",
            "0.5971824220265035\n"
          ],
          "name": "stdout"
        }
      ]
    },
    {
      "cell_type": "code",
      "metadata": {
        "colab": {
          "base_uri": "https://localhost:8080/",
          "height": 804
        },
        "id": "k_y9pdZBC_oj",
        "outputId": "17092e0d-49bb-4ade-dad6-3896f06b1b72"
      },
      "source": [
        "import matplotlib.pyplot as plt\n",
        "i = 0\n",
        "plt.imshow(yPreds[i])\n",
        "plt.show()\n",
        "\n",
        "print(np.unique(yPreds[i,:,:]))\n",
        "\n",
        "plt.imshow(testLabels[i,:,:,0])\n",
        "plt.show()\n",
        "\n",
        "print(np.unique(testLabels[i,:,:,0]))\n",
        "\n",
        "t = np.linspace(0,11,num=12)\n",
        "plt.plot(t, perClassIoU)\n",
        "plt.show()"
      ],
      "execution_count": 33,
      "outputs": [
        {
          "output_type": "display_data",
          "data": {
            "image/png": "[encoded data removed]",
            "text/plain": [
              "<Figure size 432x288 with 1 Axes>"
            ]
          },
          "metadata": {
            "tags": [],
            "needs_background": "light"
          }
        },
        {
          "output_type": "stream",
          "text": [
            "[ 0  1  3  5  9 11]\n"
          ],
          "name": "stdout"
        },
        {
          "output_type": "display_data",
          "data": {
            "image/png": "[encoded data removed]",
            "text/plain": [
              "<Figure size 432x288 with 1 Axes>"
            ]
          },
          "metadata": {
            "tags": [],
            "needs_background": "light"
          }
        },
        {
          "output_type": "stream",
          "text": [
            "[ 0  1  9 11]\n"
          ],
          "name": "stdout"
        },
        {
          "output_type": "display_data",
          "data": {
            "image/png": "[encoded data removed]",
            "text/plain": [
              "<Figure size 432x288 with 1 Axes>"
            ]
          },
          "metadata": {
            "tags": [],
            "needs_background": "light"
          }
        }
      ]
    }
  ]
}