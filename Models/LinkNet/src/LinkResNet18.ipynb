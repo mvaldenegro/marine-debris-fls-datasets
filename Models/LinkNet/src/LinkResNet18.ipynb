{
  "nbformat": 4,
  "nbformat_minor": 0,
  "metadata": {
    "colab": {
      "name": "LinkResNet18.ipynb",
      "provenance": []
    },
    "kernelspec": {
      "name": "python3",
      "display_name": "Python 3"
    },
    "language_info": {
      "name": "python"
    },
    "accelerator": "GPU"
  },
  "cells": [
    {
      "cell_type": "code",
      "metadata": {
        "id": "Gx8DkQO-r131"
      },
      "source": [
        "# LinkNet with ResNet34 for multiclass semantic segmentation\n",
        "!pip install tensorflow==2.1.0"
      ],
      "execution_count": null,
      "outputs": []
    },
    {
      "cell_type": "code",
      "metadata": {
        "id": "cQ_Ib4CjsXeH"
      },
      "source": [
        "!pip install segmentation-models"
      ],
      "execution_count": null,
      "outputs": []
    },
    {
      "cell_type": "code",
      "metadata": {
        "colab": {
          "base_uri": "https://localhost:8080/"
        },
        "id": "_jeOmCF8sa1d",
        "outputId": "0b880528-b675-48cd-8e41-65b575a6048f"
      },
      "source": [
        "# mount google drive here\n",
        "from google.colab import drive\n",
        "drive.mount('/content/drive')"
      ],
      "execution_count": 3,
      "outputs": [
        {
          "output_type": "stream",
          "text": [
            "Mounted at /content/drive\n"
          ],
          "name": "stdout"
        }
      ]
    },
    {
      "cell_type": "code",
      "metadata": {
        "colab": {
          "base_uri": "https://localhost:8080/"
        },
        "id": "oBqlzZVisdN8",
        "outputId": "ad51b7aa-97f9-469a-e09a-3d6f95f428a7"
      },
      "source": [
        "# Fetch the training, validation and testing dataset\n",
        "import os\n",
        "import numpy as np\n",
        "\n",
        "dataPath  = '/content/drive/My Drive/Underwater_Segmentation_Research/Data'\n",
        "\n",
        "trainPath       =  dataPath + '/Train'\n",
        "testPath        =  dataPath + '/Test'\n",
        "valPath         =  dataPath + '/Validate'\n",
        "\n",
        "trainImgsFile   = 'trainingDataImgs.npy'\n",
        "trainLabelsFile = 'trainingDataLabels.npy'\n",
        "\n",
        "testImgsFile    = 'testingDataImgs.npy'\n",
        "testLabelsFile  = 'testingDataLabels.npy'\n",
        "\n",
        "valImgsFile     = 'validationDataImgs.npy'\n",
        "valLabelsFile   = 'validationDataLabels.npy'\n",
        "\n",
        "def getData(path,fileName):\n",
        "  return np.load(path + \"/\" + fileName)\n",
        "\n",
        "trainImgs   = getData(trainPath, trainImgsFile)\n",
        "trainLabels = getData(trainPath, trainLabelsFile)\n",
        "\n",
        "valImgs    = getData(valPath, valImgsFile)\n",
        "valLabels  = getData(valPath, valLabelsFile)\n",
        "\n",
        "print(\"Got train and validation data\")\n",
        "print(trainImgs.shape, valImgs.shape)\n",
        "print(trainLabels.shape, valLabels.shape)"
      ],
      "execution_count": 4,
      "outputs": [
        {
          "output_type": "stream",
          "text": [
            "Got train and validation data\n",
            "(1000, 480, 320, 1) (251, 480, 320, 1)\n",
            "(1000, 480, 320, 1) (251, 480, 320, 1)\n"
          ],
          "name": "stdout"
        }
      ]
    },
    {
      "cell_type": "code",
      "metadata": {
        "id": "RlM0LuF_sfsD"
      },
      "source": [
        "# Create the model (without pre-trained ImageNet weights)\n",
        "import os\n",
        "import numpy as np\n",
        "import tensorflow as tf\n",
        "import segmentation_models as sm\n",
        "\n",
        "# create the model\n",
        "model = sm.Linknet('resnet18', input_shape=(480, 320, 1), encoder_weights=None, classes=12, activation='softmax')\n",
        "model.summary()\n"
      ],
      "execution_count": null,
      "outputs": []
    },
    {
      "cell_type": "code",
      "metadata": {
        "id": "2Zx9SsOWsh5C"
      },
      "source": [
        "class UpdatedMeanIoU(tf.keras.metrics.MeanIoU):\n",
        "  def __init__(self,\n",
        "               y_true=None,\n",
        "               y_pred=None,\n",
        "               num_classes=None,\n",
        "               name=None,\n",
        "               dtype=None):\n",
        "    super(UpdatedMeanIoU, self).__init__(num_classes = num_classes,name=name, dtype=dtype)\n",
        "\n",
        "  def update_state(self, y_true, y_pred, sample_weight=None):\n",
        "    y_pred = tf.math.argmax(y_pred, axis=-1)\n",
        "    return super().update_state(y_true, y_pred, sample_weight)"
      ],
      "execution_count": 6,
      "outputs": []
    },
    {
      "cell_type": "code",
      "metadata": {
        "id": "iyRyZqJkskDF"
      },
      "source": [
        "import tensorflow as tf\n",
        "LOSS=tf.keras.losses.SparseCategoricalCrossentropy(from_logits=True)\n",
        "\n",
        "model.compile('Adam',\n",
        "              loss='sparse_categorical_crossentropy',\n",
        "              metrics=['accuracy', UpdatedMeanIoU(num_classes=12)])"
      ],
      "execution_count": 7,
      "outputs": []
    },
    {
      "cell_type": "code",
      "metadata": {
        "id": "yCwiFNVssmQ5"
      },
      "source": [
        "# Setup training parameters\n",
        "BATCH = 16\n",
        "EPOCHS = 30\n",
        "\n",
        "# early stopping callback. It stops training when the loss does not change for 3 consecutive epochs\n",
        "callback = tf.keras.callbacks.EarlyStopping(monitor='loss', patience=3)"
      ],
      "execution_count": 8,
      "outputs": []
    },
    {
      "cell_type": "code",
      "metadata": {
        "colab": {
          "base_uri": "https://localhost:8080/"
        },
        "id": "kA3NCAuhsoAa",
        "outputId": "1dd14ff5-ddaf-46ba-8a59-888292ad83d3"
      },
      "source": [
        "# Start training the model\n",
        "history = model.fit(trainImgs, trainLabels, epochs=EPOCHS, batch_size=BATCH, validation_data=(valImgs, valLabels))"
      ],
      "execution_count": 9,
      "outputs": [
        {
          "output_type": "stream",
          "text": [
            "Train on 1000 samples, validate on 251 samples\n",
            "Epoch 1/30\n",
            "1000/1000 [==============================] - 71s 71ms/sample - loss: 0.9156 - accuracy: 0.7912 - updated_mean_io_u: 0.0717 - val_loss: 0.6096 - val_accuracy: 0.9622 - val_updated_mean_io_u: 0.0802\n",
            "Epoch 2/30\n",
            "1000/1000 [==============================] - 53s 53ms/sample - loss: 0.1616 - accuracy: 0.9630 - updated_mean_io_u: 0.0803 - val_loss: 0.5971 - val_accuracy: 0.9622 - val_updated_mean_io_u: 0.0802\n",
            "Epoch 3/30\n",
            "1000/1000 [==============================] - 53s 53ms/sample - loss: 0.1236 - accuracy: 0.9685 - updated_mean_io_u: 0.1161 - val_loss: 0.3141 - val_accuracy: 0.9590 - val_updated_mean_io_u: 0.0822\n",
            "Epoch 4/30\n",
            "1000/1000 [==============================] - 53s 53ms/sample - loss: 0.1075 - accuracy: 0.9724 - updated_mean_io_u: 0.1348 - val_loss: 0.4168 - val_accuracy: 0.9227 - val_updated_mean_io_u: 0.0784\n",
            "Epoch 5/30\n",
            "1000/1000 [==============================] - 53s 53ms/sample - loss: 0.0942 - accuracy: 0.9741 - updated_mean_io_u: 0.1426 - val_loss: 0.2573 - val_accuracy: 0.9532 - val_updated_mean_io_u: 0.0981\n",
            "Epoch 6/30\n",
            "1000/1000 [==============================] - 53s 53ms/sample - loss: 0.0819 - accuracy: 0.9756 - updated_mean_io_u: 0.1704 - val_loss: 0.1646 - val_accuracy: 0.9596 - val_updated_mean_io_u: 0.1339\n",
            "Epoch 7/30\n",
            "1000/1000 [==============================] - 53s 53ms/sample - loss: 0.0751 - accuracy: 0.9761 - updated_mean_io_u: 0.1847 - val_loss: 0.0897 - val_accuracy: 0.9757 - val_updated_mean_io_u: 0.1838\n",
            "Epoch 8/30\n",
            "1000/1000 [==============================] - 53s 53ms/sample - loss: 0.0674 - accuracy: 0.9785 - updated_mean_io_u: 0.2292 - val_loss: 0.2314 - val_accuracy: 0.9531 - val_updated_mean_io_u: 0.1495\n",
            "Epoch 9/30\n",
            "1000/1000 [==============================] - 53s 53ms/sample - loss: 0.0619 - accuracy: 0.9814 - updated_mean_io_u: 0.2694 - val_loss: 0.0945 - val_accuracy: 0.9698 - val_updated_mean_io_u: 0.2089\n",
            "Epoch 10/30\n",
            "1000/1000 [==============================] - 53s 53ms/sample - loss: 0.0547 - accuracy: 0.9825 - updated_mean_io_u: 0.2836 - val_loss: 0.0583 - val_accuracy: 0.9827 - val_updated_mean_io_u: 0.2854\n",
            "Epoch 11/30\n",
            "1000/1000 [==============================] - 53s 53ms/sample - loss: 0.0482 - accuracy: 0.9840 - updated_mean_io_u: 0.2985 - val_loss: 0.0534 - val_accuracy: 0.9822 - val_updated_mean_io_u: 0.2671\n",
            "Epoch 12/30\n",
            "1000/1000 [==============================] - 53s 53ms/sample - loss: 0.0449 - accuracy: 0.9846 - updated_mean_io_u: 0.3156 - val_loss: 0.0562 - val_accuracy: 0.9822 - val_updated_mean_io_u: 0.2812\n",
            "Epoch 13/30\n",
            "1000/1000 [==============================] - 53s 53ms/sample - loss: 0.0421 - accuracy: 0.9857 - updated_mean_io_u: 0.3527 - val_loss: 0.0641 - val_accuracy: 0.9816 - val_updated_mean_io_u: 0.3342\n",
            "Epoch 14/30\n",
            "1000/1000 [==============================] - 53s 53ms/sample - loss: 0.0410 - accuracy: 0.9864 - updated_mean_io_u: 0.3762 - val_loss: 0.0439 - val_accuracy: 0.9863 - val_updated_mean_io_u: 0.3800\n",
            "Epoch 15/30\n",
            "1000/1000 [==============================] - 53s 53ms/sample - loss: 0.0370 - accuracy: 0.9875 - updated_mean_io_u: 0.3985 - val_loss: 0.0408 - val_accuracy: 0.9871 - val_updated_mean_io_u: 0.3960\n",
            "Epoch 16/30\n",
            "1000/1000 [==============================] - 53s 53ms/sample - loss: 0.0358 - accuracy: 0.9877 - updated_mean_io_u: 0.4152 - val_loss: 0.0421 - val_accuracy: 0.9867 - val_updated_mean_io_u: 0.4004\n",
            "Epoch 17/30\n",
            "1000/1000 [==============================] - 53s 53ms/sample - loss: 0.0435 - accuracy: 0.9856 - updated_mean_io_u: 0.4041 - val_loss: 0.0510 - val_accuracy: 0.9850 - val_updated_mean_io_u: 0.4151\n",
            "Epoch 18/30\n",
            "1000/1000 [==============================] - 53s 53ms/sample - loss: 0.0384 - accuracy: 0.9869 - updated_mean_io_u: 0.4404 - val_loss: 0.0483 - val_accuracy: 0.9840 - val_updated_mean_io_u: 0.4460\n",
            "Epoch 19/30\n",
            "1000/1000 [==============================] - 53s 53ms/sample - loss: 0.0337 - accuracy: 0.9883 - updated_mean_io_u: 0.4802 - val_loss: 0.0381 - val_accuracy: 0.9883 - val_updated_mean_io_u: 0.4871\n",
            "Epoch 20/30\n",
            "1000/1000 [==============================] - 53s 53ms/sample - loss: 0.0314 - accuracy: 0.9890 - updated_mean_io_u: 0.5014 - val_loss: 0.0363 - val_accuracy: 0.9886 - val_updated_mean_io_u: 0.5100\n",
            "Epoch 21/30\n",
            "1000/1000 [==============================] - 53s 53ms/sample - loss: 0.0304 - accuracy: 0.9891 - updated_mean_io_u: 0.5113 - val_loss: 0.0371 - val_accuracy: 0.9884 - val_updated_mean_io_u: 0.4939\n",
            "Epoch 22/30\n",
            "1000/1000 [==============================] - 53s 53ms/sample - loss: 0.0290 - accuracy: 0.9895 - updated_mean_io_u: 0.5242 - val_loss: 0.0369 - val_accuracy: 0.9887 - val_updated_mean_io_u: 0.5276\n",
            "Epoch 23/30\n",
            "1000/1000 [==============================] - 53s 53ms/sample - loss: 0.0282 - accuracy: 0.9900 - updated_mean_io_u: 0.5576 - val_loss: 0.0335 - val_accuracy: 0.9895 - val_updated_mean_io_u: 0.5563\n",
            "Epoch 24/30\n",
            "1000/1000 [==============================] - 53s 53ms/sample - loss: 0.0263 - accuracy: 0.9905 - updated_mean_io_u: 0.5930 - val_loss: 0.0350 - val_accuracy: 0.9893 - val_updated_mean_io_u: 0.6129\n",
            "Epoch 25/30\n",
            "1000/1000 [==============================] - 53s 53ms/sample - loss: 0.0258 - accuracy: 0.9908 - updated_mean_io_u: 0.6307 - val_loss: 0.0327 - val_accuracy: 0.9898 - val_updated_mean_io_u: 0.6256\n",
            "Epoch 26/30\n",
            "1000/1000 [==============================] - 53s 53ms/sample - loss: 0.0263 - accuracy: 0.9906 - updated_mean_io_u: 0.6315 - val_loss: 0.0312 - val_accuracy: 0.9905 - val_updated_mean_io_u: 0.6624\n",
            "Epoch 27/30\n",
            "1000/1000 [==============================] - 53s 53ms/sample - loss: 0.0248 - accuracy: 0.9911 - updated_mean_io_u: 0.6500 - val_loss: 0.0309 - val_accuracy: 0.9905 - val_updated_mean_io_u: 0.6612\n",
            "Epoch 28/30\n",
            "1000/1000 [==============================] - 53s 53ms/sample - loss: 0.0245 - accuracy: 0.9911 - updated_mean_io_u: 0.6762 - val_loss: 0.0319 - val_accuracy: 0.9903 - val_updated_mean_io_u: 0.6472\n",
            "Epoch 29/30\n",
            "1000/1000 [==============================] - 53s 53ms/sample - loss: 0.0240 - accuracy: 0.9913 - updated_mean_io_u: 0.6748 - val_loss: 0.0305 - val_accuracy: 0.9904 - val_updated_mean_io_u: 0.6611\n",
            "Epoch 30/30\n",
            "1000/1000 [==============================] - 53s 53ms/sample - loss: 0.0233 - accuracy: 0.9914 - updated_mean_io_u: 0.6876 - val_loss: 0.0281 - val_accuracy: 0.9912 - val_updated_mean_io_u: 0.6934\n"
          ],
          "name": "stdout"
        }
      ]
    },
    {
      "cell_type": "code",
      "metadata": {
        "colab": {
          "base_uri": "https://localhost:8080/",
          "height": 303
        },
        "id": "qJ0mZEEpsprs",
        "outputId": "131b64f6-6b56-4ea2-98c1-e29d71f65b2f"
      },
      "source": [
        "#  Plot the results\n",
        "print(history.history.keys())\n",
        "\n",
        "import matplotlib.pyplot as plt\n",
        "plt.plot(history.history['accuracy'])\n",
        "plt.plot(history.history['val_accuracy'])"
      ],
      "execution_count": 10,
      "outputs": [
        {
          "output_type": "stream",
          "text": [
            "dict_keys(['loss', 'accuracy', 'updated_mean_io_u', 'val_loss', 'val_accuracy', 'val_updated_mean_io_u'])\n"
          ],
          "name": "stdout"
        },
        {
          "output_type": "execute_result",
          "data": {
            "text/plain": [
              "[<matplotlib.lines.Line2D at 0x7f5ee763a590>]"
            ]
          },
          "metadata": {
            "tags": []
          },
          "execution_count": 10
        },
        {
          "output_type": "display_data",
          "data": {
            "image/png": "[encoded data removed]",
            "text/plain": [
              "<Figure size 432x288 with 1 Axes>"
            ]
          },
          "metadata": {
            "tags": [],
            "needs_background": "light"
          }
        }
      ]
    },
    {
      "cell_type": "code",
      "metadata": {
        "colab": {
          "base_uri": "https://localhost:8080/",
          "height": 282
        },
        "id": "NNKh2pnZs1Rv",
        "outputId": "14518795-999a-41d7-ebc5-4cb04b3c79ce"
      },
      "source": [
        "plt.plot(history.history['loss'])\n",
        "plt.plot(history.history['val_loss'])"
      ],
      "execution_count": 11,
      "outputs": [
        {
          "output_type": "execute_result",
          "data": {
            "text/plain": [
              "[<matplotlib.lines.Line2D at 0x7f5ee710ff90>]"
            ]
          },
          "metadata": {
            "tags": []
          },
          "execution_count": 11
        },
        {
          "output_type": "display_data",
          "data": {
            "image/png": "[encoded data removed]",
            "text/plain": [
              "<Figure size 432x288 with 1 Axes>"
            ]
          },
          "metadata": {
            "tags": [],
            "needs_background": "light"
          }
        }
      ]
    },
    {
      "cell_type": "code",
      "metadata": {
        "colab": {
          "base_uri": "https://localhost:8080/",
          "height": 282
        },
        "id": "6meBD905tAbT",
        "outputId": "47fcf3b1-163c-4cc4-e0d6-f8c0b6d70189"
      },
      "source": [
        "plt.plot(history.history['updated_mean_io_u'])\n",
        "plt.plot(history.history['val_updated_mean_io_u'])"
      ],
      "execution_count": 12,
      "outputs": [
        {
          "output_type": "execute_result",
          "data": {
            "text/plain": [
              "[<matplotlib.lines.Line2D at 0x7f5ee7104750>]"
            ]
          },
          "metadata": {
            "tags": []
          },
          "execution_count": 12
        },
        {
          "output_type": "display_data",
          "data": {
            "image/png": "[encoded data removed]",
            "text/plain": [
              "<Figure size 432x288 with 1 Axes>"
            ]
          },
          "metadata": {
            "tags": [],
            "needs_background": "light"
          }
        }
      ]
    },
    {
      "cell_type": "code",
      "metadata": {
        "id": "xuakchX_tCCV"
      },
      "source": [
        "# get the testdata\n",
        "testImgs   = getData(testPath, testImgsFile)\n",
        "testLabels = getData(testPath, testLabelsFile)"
      ],
      "execution_count": 13,
      "outputs": []
    },
    {
      "cell_type": "code",
      "metadata": {
        "colab": {
          "base_uri": "https://localhost:8080/"
        },
        "id": "ScxhPhg0tDpe",
        "outputId": "1366788f-c73a-46b8-8ede-4f0ab990372a"
      },
      "source": [
        "model.evaluate(testImgs, testLabels)"
      ],
      "execution_count": 26,
      "outputs": [
        {
          "output_type": "stream",
          "text": [
            "617/617 [==============================] - 10s 16ms/sample - loss: 0.0280 - accuracy: 0.9913 - updated_mean_io_u: 0.6924\n"
          ],
          "name": "stdout"
        },
        {
          "output_type": "execute_result",
          "data": {
            "text/plain": [
              "[0.02799370477951133, 0.99131364, 0.6923897]"
            ]
          },
          "metadata": {
            "tags": []
          },
          "execution_count": 26
        }
      ]
    },
    {
      "cell_type": "code",
      "metadata": {
        "id": "53CmOQge0RHF"
      },
      "source": [
        "!pip3 install 'h5py==2.10.0' --force-reinstall"
      ],
      "execution_count": null,
      "outputs": []
    },
    {
      "cell_type": "code",
      "metadata": {
        "id": "E5LfTgfftFNI"
      },
      "source": [
        "# save the model weights\n",
        "weightFileName = \"LinkResNet18_30e_16b.h5\"\n",
        "weightPath = '/content/drive/My Drive/Underwater_Segmentation_Research/Weights/LinkNet'\n",
        "model.save_weights(weightPath + \"/\" + weightFileName)\n"
      ],
      "execution_count": 18,
      "outputs": []
    },
    {
      "cell_type": "code",
      "metadata": {
        "id": "eMIeWwCftHN8"
      },
      "source": [
        "model.load_weights(weightPath + \"/\" + weightFileName)\n",
        "model.evaluate(testImgs, testLabels)"
      ],
      "execution_count": null,
      "outputs": []
    },
    {
      "cell_type": "code",
      "metadata": {
        "colab": {
          "base_uri": "https://localhost:8080/"
        },
        "id": "tXRS-pVKtIzq",
        "outputId": "8cc3d866-c33d-40d8-fefd-980b355d8a63"
      },
      "source": [
        "modelFileName = \"LinkResNet18_30e_16b\"\n",
        "modelPath     = '/content/drive/My Drive/Underwater_Segmentation_Research/Models/LinkNet'\n",
        "model.save(modelPath + \"/\" + modelFileName)"
      ],
      "execution_count": 20,
      "outputs": [
        {
          "output_type": "stream",
          "text": [
            "WARNING:tensorflow:From /usr/local/lib/python3.7/dist-packages/tensorflow_core/python/ops/resource_variable_ops.py:1786: calling BaseResourceVariable.__init__ (from tensorflow.python.ops.resource_variable_ops) with constraint is deprecated and will be removed in a future version.\n",
            "Instructions for updating:\n",
            "If using Keras pass *_constraint arguments to layers.\n",
            "INFO:tensorflow:Assets written to: /content/drive/My Drive/Underwater_Segmentation_Research/Models/LinkNet/LinkResNet18_30e_16b/assets\n"
          ],
          "name": "stdout"
        }
      ]
    },
    {
      "cell_type": "code",
      "metadata": {
        "colab": {
          "base_uri": "https://localhost:8080/"
        },
        "id": "BdJNCECDtKdL",
        "outputId": "4f622245-89f8-445d-9955-6b06e14f4c49"
      },
      "source": [
        "# Check the GPU configuration\n",
        "!nvidia-smi"
      ],
      "execution_count": 21,
      "outputs": [
        {
          "output_type": "stream",
          "text": [
            "Wed May 26 08:37:09 2021       \n",
            "+-----------------------------------------------------------------------------+\n",
            "| NVIDIA-SMI 465.19.01    Driver Version: 460.32.03    CUDA Version: 11.2     |\n",
            "|-------------------------------+----------------------+----------------------+\n",
            "| GPU  Name        Persistence-M| Bus-Id        Disp.A | Volatile Uncorr. ECC |\n",
            "| Fan  Temp  Perf  Pwr:Usage/Cap|         Memory-Usage | GPU-Util  Compute M. |\n",
            "|                               |                      |               MIG M. |\n",
            "|===============================+======================+======================|\n",
            "|   0  Tesla K80           Off  | 00000000:00:04.0 Off |                    0 |\n",
            "| N/A   73C    P0    73W / 149W |   8421MiB / 11441MiB |      0%      Default |\n",
            "|                               |                      |                  N/A |\n",
            "+-------------------------------+----------------------+----------------------+\n",
            "                                                                               \n",
            "+-----------------------------------------------------------------------------+\n",
            "| Processes:                                                                  |\n",
            "|  GPU   GI   CI        PID   Type   Process name                  GPU Memory |\n",
            "|        ID   ID                                                   Usage      |\n",
            "|=============================================================================|\n",
            "+-----------------------------------------------------------------------------+\n"
          ],
          "name": "stdout"
        }
      ]
    },
    {
      "cell_type": "code",
      "metadata": {
        "id": "STd5auSItMAr"
      },
      "source": [
        "y_preds = model.predict(testImgs)\n",
        "y_preds = (y_preds >= 0.5).astype(np.uint8)"
      ],
      "execution_count": 22,
      "outputs": []
    },
    {
      "cell_type": "code",
      "metadata": {
        "id": "9VT6XU--z2ve"
      },
      "source": [
        "yPreds = tf.argmax(y_preds, axis=-1)\n",
        "yPreds = yPreds.numpy()"
      ],
      "execution_count": 23,
      "outputs": []
    },
    {
      "cell_type": "code",
      "metadata": {
        "colab": {
          "base_uri": "https://localhost:8080/"
        },
        "id": "hrMCJj9stOQV",
        "outputId": "adf61219-d2f7-4736-9d5a-3d0f8c7e111e"
      },
      "source": [
        "# Compute mean of per-class IOU throughout the test images\n",
        "num_classes=12\n",
        "m = UpdatedMeanIoU(num_classes=12)\n",
        "m.update_state(testLabels, y_preds)\n",
        "\n",
        "print(f'Overall mean IOU is : {m.result().numpy()}')\n",
        "\n",
        "# Values is the confusion matrix\n",
        "values = np.array(m.get_weights()).reshape(num_classes, num_classes)"
      ],
      "execution_count": 25,
      "outputs": [
        {
          "output_type": "stream",
          "text": [
            "Overall mean IOU is : 0.6698184013366699\n"
          ],
          "name": "stdout"
        }
      ]
    },
    {
      "cell_type": "code",
      "metadata": {
        "colab": {
          "base_uri": "https://localhost:8080/"
        },
        "id": "zeGCrD4qtQNi",
        "outputId": "511893b7-d9e4-476c-d84b-b314c2b80249"
      },
      "source": [
        "# compute the mean per-class IOU\n",
        "numClasses = 12\n",
        "\n",
        "classIOU = []\n",
        "\n",
        "for i in range(numClasses):\n",
        "  rowSum = np.sum(values[i,:])\n",
        "  colSum = np.sum(values[:,i])\n",
        "  denom = rowSum + colSum - values[i,i]\n",
        "  iou = values[i,i]/denom\n",
        "  classIOU.append(iou)\n",
        "\n",
        "print(classIOU)\n",
        "perClassIoU = np.array(classIOU)\n",
        "print(np.mean(perClassIoU))"
      ],
      "execution_count": 27,
      "outputs": [
        {
          "output_type": "stream",
          "text": [
            "[0.9911426556632292, 0.7343612080097134, 0.5456255713668418, 0.6215567551509419, 0.5683300323655862, 0.5817978859749459, 0.7183571270764731, 0.6716990350555759, 0.6869382942486572, 0.8815073054876877, 0.1444667415357991, 0.8920381635952941]\n",
            "0.6698183979608956\n"
          ],
          "name": "stdout"
        }
      ]
    },
    {
      "cell_type": "code",
      "metadata": {
        "colab": {
          "base_uri": "https://localhost:8080/",
          "height": 804
        },
        "id": "Bgoz5BFctSGU",
        "outputId": "4de53de3-6e6a-4911-8f3c-bd88fd7d97b5"
      },
      "source": [
        "import matplotlib.pyplot as plt\n",
        "i = 8\n",
        "plt.imshow(yPreds[i])\n",
        "plt.show()\n",
        "\n",
        "print(np.unique(yPreds[i,:,:]))\n",
        "\n",
        "plt.imshow(testLabels[i,:,:,0])\n",
        "plt.show()\n",
        "\n",
        "print(np.unique(testLabels[i,:,:,0]))\n",
        "\n",
        "t = np.linspace(0,11,num=12)\n",
        "plt.plot(t, perClassIoU)\n",
        "plt.show()"
      ],
      "execution_count": 30,
      "outputs": [
        {
          "output_type": "display_data",
          "data": {
            "image/png": "[encoded data removed]",
            "text/plain": [
              "<Figure size 432x288 with 1 Axes>"
            ]
          },
          "metadata": {
            "tags": [],
            "needs_background": "light"
          }
        },
        {
          "output_type": "stream",
          "text": [
            "[ 0  3  4 10]\n"
          ],
          "name": "stdout"
        },
        {
          "output_type": "display_data",
          "data": {
            "image/png": "[encoded data removed]",
            "text/plain": [
              "<Figure size 432x288 with 1 Axes>"
            ]
          },
          "metadata": {
            "tags": [],
            "needs_background": "light"
          }
        },
        {
          "output_type": "stream",
          "text": [
            "[0 3 4]\n"
          ],
          "name": "stdout"
        },
        {
          "output_type": "display_data",
          "data": {
            "image/png": "[encoded data removed]",
            "text/plain": [
              "<Figure size 432x288 with 1 Axes>"
            ]
          },
          "metadata": {
            "tags": [],
            "needs_background": "light"
          }
        }
      ]
    }
  ]
}