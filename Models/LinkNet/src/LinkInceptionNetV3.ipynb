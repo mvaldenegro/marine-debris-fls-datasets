{
  "nbformat": 4,
  "nbformat_minor": 0,
  "metadata": {
    "accelerator": "GPU",
    "colab": {
      "name": "LinkInceptionNetV3.ipynb",
      "provenance": [],
      "collapsed_sections": []
    },
    "kernelspec": {
      "display_name": "Python 3",
      "name": "python3"
    },
    "language_info": {
      "name": "python"
    }
  },
  "cells": [
    {
      "cell_type": "code",
      "metadata": {
        "id": "GmErIJJtXgxr"
      },
      "source": [
        "# LinkNet with ResNet34 for multiclass semantic segmentation\n",
        "!pip install tensorflow==2.1.0"
      ],
      "execution_count": null,
      "outputs": []
    },
    {
      "cell_type": "code",
      "metadata": {
        "id": "E05RxVTVawRq"
      },
      "source": [
        "!pip install segmentation-models"
      ],
      "execution_count": null,
      "outputs": []
    },
    {
      "cell_type": "code",
      "metadata": {
        "id": "KGcItvZUbw6S",
        "colab": {
          "base_uri": "https://localhost:8080/"
        },
        "outputId": "b9f2256f-a691-4a11-84f9-13c7de7f319a"
      },
      "source": [
        "# mount google drive here\n",
        "from google.colab import drive\n",
        "drive.mount('/content/drive')"
      ],
      "execution_count": 3,
      "outputs": [
        {
          "output_type": "stream",
          "text": [
            "Mounted at /content/drive\n"
          ],
          "name": "stdout"
        }
      ]
    },
    {
      "cell_type": "code",
      "metadata": {
        "id": "OVkZ3Rt_cBIJ",
        "colab": {
          "base_uri": "https://localhost:8080/"
        },
        "outputId": "b91dd8e0-c71b-4676-f6e4-bc8d655566da"
      },
      "source": [
        "# Fetch the training, validation and testing dataset\n",
        "import os\n",
        "import numpy as np\n",
        "\n",
        "dataPath  = '/content/drive/My Drive/Underwater_Segmentation_Research/Data'\n",
        "\n",
        "trainPath       =  dataPath + '/Train'\n",
        "testPath        =  dataPath + '/Test'\n",
        "valPath         =  dataPath + '/Validate'\n",
        "\n",
        "trainImgsFile   = 'trainingDataImgs.npy'\n",
        "trainLabelsFile = 'trainingDataLabels.npy'\n",
        "\n",
        "testImgsFile    = 'testingDataImgs.npy'\n",
        "testLabelsFile  = 'testingDataLabels.npy'\n",
        "\n",
        "valImgsFile     = 'validationDataImgs.npy'\n",
        "valLabelsFile   = 'validationDataLabels.npy'\n",
        "\n",
        "testImgs = None\n",
        "testLabels = None\n",
        "\n",
        "def getData(path,fileName):\n",
        "  return np.load(path + \"/\" + fileName)\n",
        "\n",
        "trainImgs   = getData(trainPath, trainImgsFile)\n",
        "trainLabels = getData(trainPath, trainLabelsFile)\n",
        "\n",
        "valImgs    = getData(valPath, valImgsFile)\n",
        "valLabels  = getData(valPath, valLabelsFile)\n",
        "\n",
        "print(\"Got train and validation data\")\n",
        "print(trainImgs.shape, valImgs.shape)\n",
        "print(trainLabels.shape, valLabels.shape)"
      ],
      "execution_count": 1,
      "outputs": [
        {
          "output_type": "stream",
          "text": [
            "Got train and validation data\n",
            "(1000, 480, 320, 1) (251, 480, 320, 1)\n",
            "(1000, 480, 320, 1) (251, 480, 320, 1)\n"
          ],
          "name": "stdout"
        }
      ]
    },
    {
      "cell_type": "code",
      "metadata": {
        "id": "UYzc3jDWbN78"
      },
      "source": [
        "# Create the model (without pre-trained ImageNet weights)\n",
        "import os\n",
        "import numpy as np\n",
        "import tensorflow as tf\n",
        "import segmentation_models as sm\n",
        "\n",
        "# create the model\n",
        "model = sm.Linknet('inceptionv3', input_shape=(480, 320, 1), encoder_weights=None, classes=12, activation='softmax')\n",
        "model.summary()\n"
      ],
      "execution_count": null,
      "outputs": []
    },
    {
      "cell_type": "code",
      "metadata": {
        "id": "i6hfU48-YwYT"
      },
      "source": [
        "class UpdatedMeanIoU(tf.keras.metrics.MeanIoU):\n",
        "  def __init__(self,\n",
        "               y_true=None,\n",
        "               y_pred=None,\n",
        "               num_classes=None,\n",
        "               name=None,\n",
        "               dtype=None):\n",
        "    super(UpdatedMeanIoU, self).__init__(num_classes = num_classes,name=name, dtype=dtype)\n",
        "\n",
        "  def update_state(self, y_true, y_pred, sample_weight=None):\n",
        "    y_pred = tf.math.argmax(y_pred, axis=-1)\n",
        "    y_pred = (y_pred >= 0.5).astype(np.uint8)\n",
        "    return super().update_state(y_true, y_pred, sample_weight)"
      ],
      "execution_count": 26,
      "outputs": []
    },
    {
      "cell_type": "code",
      "metadata": {
        "id": "xrrWR34igCv-"
      },
      "source": [
        "import tensorflow as tf\n",
        "LOSS=tf.keras.losses.SparseCategoricalCrossentropy(from_logits=True)\n",
        "\n",
        "model.compile('Adam',\n",
        "              loss='sparse_categorical_crossentropy',\n",
        "              metrics=['accuracy', UpdatedMeanIoU(num_classes=12)])"
      ],
      "execution_count": 13,
      "outputs": []
    },
    {
      "cell_type": "code",
      "metadata": {
        "id": "t64j7531gnFX"
      },
      "source": [
        "# Setup training parameters\n",
        "BATCH = 16\n",
        "EPOCHS = 30\n",
        "\n",
        "# early stopping callback. It stops training when the loss does not change for 3 consecutive epochs\n",
        "callback = tf.keras.callbacks.EarlyStopping(monitor='loss', patience=3)"
      ],
      "execution_count": 10,
      "outputs": []
    },
    {
      "cell_type": "code",
      "metadata": {
        "id": "BvvTmwzIhBvw",
        "colab": {
          "base_uri": "https://localhost:8080/"
        },
        "outputId": "e4bbfb36-185e-4f61-a825-cd1a164b3ab9"
      },
      "source": [
        "# Start training the model\n",
        "history = model.fit(trainImgs, trainLabels, epochs=EPOCHS, batch_size=BATCH, validation_data=(valImgs, valLabels))"
      ],
      "execution_count": 14,
      "outputs": [
        {
          "output_type": "stream",
          "text": [
            "Train on 1000 samples, validate on 251 samples\n",
            "Epoch 1/30\n",
            "1000/1000 [==============================] - 63s 63ms/sample - loss: 0.8333 - accuracy: 0.8345 - updated_mean_io_u_2: 0.0759 - val_loss: 0.6394 - val_accuracy: 0.9622 - val_updated_mean_io_u_2: 0.0802\n",
            "Epoch 2/30\n",
            "1000/1000 [==============================] - 52s 52ms/sample - loss: 0.1351 - accuracy: 0.9656 - updated_mean_io_u_2: 0.0969 - val_loss: 0.4681 - val_accuracy: 0.9492 - val_updated_mean_io_u_2: 0.0793\n",
            "Epoch 3/30\n",
            "1000/1000 [==============================] - 53s 53ms/sample - loss: 0.1045 - accuracy: 0.9715 - updated_mean_io_u_2: 0.1317 - val_loss: 0.5425 - val_accuracy: 0.9002 - val_updated_mean_io_u_2: 0.0771\n",
            "Epoch 4/30\n",
            "1000/1000 [==============================] - 52s 52ms/sample - loss: 0.0799 - accuracy: 0.9753 - updated_mean_io_u_2: 0.1596 - val_loss: 0.1261 - val_accuracy: 0.9666 - val_updated_mean_io_u_2: 0.1489\n",
            "Epoch 5/30\n",
            "1000/1000 [==============================] - 53s 53ms/sample - loss: 0.0702 - accuracy: 0.9794 - updated_mean_io_u_2: 0.2315 - val_loss: 0.1195 - val_accuracy: 0.9669 - val_updated_mean_io_u_2: 0.1766\n",
            "Epoch 6/30\n",
            "1000/1000 [==============================] - 53s 53ms/sample - loss: 0.0635 - accuracy: 0.9808 - updated_mean_io_u_2: 0.2458 - val_loss: 0.2725 - val_accuracy: 0.9305 - val_updated_mean_io_u_2: 0.1295\n",
            "Epoch 7/30\n",
            "1000/1000 [==============================] - 52s 52ms/sample - loss: 0.0626 - accuracy: 0.9806 - updated_mean_io_u_2: 0.2452 - val_loss: 0.2602 - val_accuracy: 0.9255 - val_updated_mean_io_u_2: 0.0971\n",
            "Epoch 8/30\n",
            "1000/1000 [==============================] - 53s 53ms/sample - loss: 0.0653 - accuracy: 0.9799 - updated_mean_io_u_2: 0.2487 - val_loss: 0.1336 - val_accuracy: 0.9693 - val_updated_mean_io_u_2: 0.1839\n",
            "Epoch 9/30\n",
            "1000/1000 [==============================] - 52s 52ms/sample - loss: 0.0496 - accuracy: 0.9837 - updated_mean_io_u_2: 0.3051 - val_loss: 0.0521 - val_accuracy: 0.9844 - val_updated_mean_io_u_2: 0.3076\n",
            "Epoch 10/30\n",
            "1000/1000 [==============================] - 52s 52ms/sample - loss: 0.0474 - accuracy: 0.9838 - updated_mean_io_u_2: 0.3209 - val_loss: 0.0673 - val_accuracy: 0.9801 - val_updated_mean_io_u_2: 0.2681\n",
            "Epoch 11/30\n",
            "1000/1000 [==============================] - 53s 53ms/sample - loss: 0.0424 - accuracy: 0.9858 - updated_mean_io_u_2: 0.3566 - val_loss: 0.0527 - val_accuracy: 0.9836 - val_updated_mean_io_u_2: 0.3068\n",
            "Epoch 12/30\n",
            "1000/1000 [==============================] - 53s 53ms/sample - loss: 0.0390 - accuracy: 0.9864 - updated_mean_io_u_2: 0.3810 - val_loss: 0.0426 - val_accuracy: 0.9865 - val_updated_mean_io_u_2: 0.3696\n",
            "Epoch 13/30\n",
            "1000/1000 [==============================] - 53s 53ms/sample - loss: 0.0368 - accuracy: 0.9872 - updated_mean_io_u_2: 0.4090 - val_loss: 0.0403 - val_accuracy: 0.9875 - val_updated_mean_io_u_2: 0.4286\n",
            "Epoch 14/30\n",
            "1000/1000 [==============================] - 53s 53ms/sample - loss: 0.0346 - accuracy: 0.9878 - updated_mean_io_u_2: 0.4321 - val_loss: 0.0371 - val_accuracy: 0.9882 - val_updated_mean_io_u_2: 0.4354\n",
            "Epoch 15/30\n",
            "1000/1000 [==============================] - 52s 52ms/sample - loss: 0.0357 - accuracy: 0.9874 - updated_mean_io_u_2: 0.4159 - val_loss: 0.0482 - val_accuracy: 0.9856 - val_updated_mean_io_u_2: 0.4007\n",
            "Epoch 16/30\n",
            "1000/1000 [==============================] - 53s 53ms/sample - loss: 0.0332 - accuracy: 0.9880 - updated_mean_io_u_2: 0.4730 - val_loss: 0.0517 - val_accuracy: 0.9839 - val_updated_mean_io_u_2: 0.4148\n",
            "Epoch 17/30\n",
            "1000/1000 [==============================] - 53s 53ms/sample - loss: 0.0531 - accuracy: 0.9823 - updated_mean_io_u_2: 0.4035 - val_loss: 0.6686 - val_accuracy: 0.7957 - val_updated_mean_io_u_2: 0.0929\n",
            "Epoch 18/30\n",
            "1000/1000 [==============================] - 53s 53ms/sample - loss: 0.0390 - accuracy: 0.9861 - updated_mean_io_u_2: 0.4605 - val_loss: 0.0496 - val_accuracy: 0.9858 - val_updated_mean_io_u_2: 0.4603\n",
            "Epoch 19/30\n",
            "1000/1000 [==============================] - 53s 53ms/sample - loss: 0.0325 - accuracy: 0.9882 - updated_mean_io_u_2: 0.4960 - val_loss: 0.0438 - val_accuracy: 0.9861 - val_updated_mean_io_u_2: 0.4553\n",
            "Epoch 20/30\n",
            "1000/1000 [==============================] - 53s 53ms/sample - loss: 0.0324 - accuracy: 0.9881 - updated_mean_io_u_2: 0.4949 - val_loss: 0.0372 - val_accuracy: 0.9877 - val_updated_mean_io_u_2: 0.4856\n",
            "Epoch 21/30\n",
            "1000/1000 [==============================] - 53s 53ms/sample - loss: 0.0300 - accuracy: 0.9886 - updated_mean_io_u_2: 0.5072 - val_loss: 0.0346 - val_accuracy: 0.9881 - val_updated_mean_io_u_2: 0.4877\n",
            "Epoch 22/30\n",
            "1000/1000 [==============================] - 53s 53ms/sample - loss: 0.0280 - accuracy: 0.9893 - updated_mean_io_u_2: 0.5275 - val_loss: 0.0395 - val_accuracy: 0.9876 - val_updated_mean_io_u_2: 0.4720\n",
            "Epoch 23/30\n",
            "1000/1000 [==============================] - 53s 53ms/sample - loss: 0.0272 - accuracy: 0.9895 - updated_mean_io_u_2: 0.5581 - val_loss: 0.0294 - val_accuracy: 0.9899 - val_updated_mean_io_u_2: 0.5836\n",
            "Epoch 24/30\n",
            "1000/1000 [==============================] - 53s 53ms/sample - loss: 0.0269 - accuracy: 0.9894 - updated_mean_io_u_2: 0.6022 - val_loss: 0.0333 - val_accuracy: 0.9893 - val_updated_mean_io_u_2: 0.6319\n",
            "Epoch 25/30\n",
            "1000/1000 [==============================] - 53s 53ms/sample - loss: 0.0250 - accuracy: 0.9907 - updated_mean_io_u_2: 0.6704 - val_loss: 0.0341 - val_accuracy: 0.9889 - val_updated_mean_io_u_2: 0.5967\n",
            "Epoch 26/30\n",
            "1000/1000 [==============================] - 52s 52ms/sample - loss: 0.0235 - accuracy: 0.9912 - updated_mean_io_u_2: 0.6951 - val_loss: 0.0279 - val_accuracy: 0.9906 - val_updated_mean_io_u_2: 0.6834\n",
            "Epoch 27/30\n",
            "1000/1000 [==============================] - 53s 53ms/sample - loss: 0.0243 - accuracy: 0.9909 - updated_mean_io_u_2: 0.7136 - val_loss: 0.0395 - val_accuracy: 0.9863 - val_updated_mean_io_u_2: 0.6450\n",
            "Epoch 28/30\n",
            "1000/1000 [==============================] - 52s 52ms/sample - loss: 0.0240 - accuracy: 0.9909 - updated_mean_io_u_2: 0.7281 - val_loss: 0.0310 - val_accuracy: 0.9892 - val_updated_mean_io_u_2: 0.6717\n",
            "Epoch 29/30\n",
            "1000/1000 [==============================] - 53s 53ms/sample - loss: 0.0231 - accuracy: 0.9913 - updated_mean_io_u_2: 0.7329 - val_loss: 0.0352 - val_accuracy: 0.9890 - val_updated_mean_io_u_2: 0.5361\n",
            "Epoch 30/30\n",
            "1000/1000 [==============================] - 53s 53ms/sample - loss: 0.0236 - accuracy: 0.9912 - updated_mean_io_u_2: 0.7172 - val_loss: 0.0289 - val_accuracy: 0.9906 - val_updated_mean_io_u_2: 0.6833\n"
          ],
          "name": "stdout"
        }
      ]
    },
    {
      "cell_type": "code",
      "metadata": {
        "id": "5ymxrY3gpSBh",
        "colab": {
          "base_uri": "https://localhost:8080/",
          "height": 303
        },
        "outputId": "5b7f81a1-10cd-49cb-9aaa-929d1e9ebf5a"
      },
      "source": [
        "#  Plot the results\n",
        "print(history.history.keys())\n",
        "\n",
        "import matplotlib.pyplot as plt\n",
        "plt.plot(history.history['accuracy'])\n",
        "plt.plot(history.history['val_accuracy'])"
      ],
      "execution_count": 15,
      "outputs": [
        {
          "output_type": "stream",
          "text": [
            "dict_keys(['loss', 'accuracy', 'updated_mean_io_u_2', 'val_loss', 'val_accuracy', 'val_updated_mean_io_u_2'])\n"
          ],
          "name": "stdout"
        },
        {
          "output_type": "execute_result",
          "data": {
            "text/plain": [
              "[<matplotlib.lines.Line2D at 0x7f558a47a910>]"
            ]
          },
          "metadata": {
            "tags": []
          },
          "execution_count": 15
        },
        {
          "output_type": "display_data",
          "data": {
            "image/png": "[encoded data removed]",
            "text/plain": [
              "<Figure size 432x288 with 1 Axes>"
            ]
          },
          "metadata": {
            "tags": [],
            "needs_background": "light"
          }
        }
      ]
    },
    {
      "cell_type": "code",
      "metadata": {
        "colab": {
          "base_uri": "https://localhost:8080/",
          "height": 282
        },
        "id": "7TkEl5zMstfh",
        "outputId": "94ca6501-b2f6-45dd-e4fb-df5ac08b87b7"
      },
      "source": [
        "plt.plot(history.history['loss'])\n",
        "plt.plot(history.history['val_loss'])"
      ],
      "execution_count": 16,
      "outputs": [
        {
          "output_type": "execute_result",
          "data": {
            "text/plain": [
              "[<matplotlib.lines.Line2D at 0x7f5589fdf390>]"
            ]
          },
          "metadata": {
            "tags": []
          },
          "execution_count": 16
        },
        {
          "output_type": "display_data",
          "data": {
            "image/png": "[encoded data removed]",
            "text/plain": [
              "<Figure size 432x288 with 1 Axes>"
            ]
          },
          "metadata": {
            "tags": [],
            "needs_background": "light"
          }
        }
      ]
    },
    {
      "cell_type": "code",
      "metadata": {
        "id": "BOfjAUaKp213",
        "colab": {
          "base_uri": "https://localhost:8080/",
          "height": 282
        },
        "outputId": "d6dda404-e099-4298-d409-e66ef2580c6f"
      },
      "source": [
        "plt.plot(history.history['updated_mean_io_u_2'])\n",
        "plt.plot(history.history['val_updated_mean_io_u_2'])"
      ],
      "execution_count": 18,
      "outputs": [
        {
          "output_type": "execute_result",
          "data": {
            "text/plain": [
              "[<matplotlib.lines.Line2D at 0x7f5589f1afd0>]"
            ]
          },
          "metadata": {
            "tags": []
          },
          "execution_count": 18
        },
        {
          "output_type": "display_data",
          "data": {
            "image/png": "[encoded data removed]",
            "text/plain": [
              "<Figure size 432x288 with 1 Axes>"
            ]
          },
          "metadata": {
            "tags": [],
            "needs_background": "light"
          }
        }
      ]
    },
    {
      "cell_type": "code",
      "metadata": {
        "id": "xIs9nAuXJX8F"
      },
      "source": [
        "# get the testdata\n",
        "testImgs   = getData(testPath, testImgsFile)\n",
        "testLabels = getData(testPath, testLabelsFile)"
      ],
      "execution_count": 19,
      "outputs": []
    },
    {
      "cell_type": "code",
      "metadata": {
        "id": "cJg2fDdHqDEr",
        "colab": {
          "base_uri": "https://localhost:8080/"
        },
        "outputId": "829b7228-39f0-4790-99f0-1270c8851a82"
      },
      "source": [
        "model.evaluate(testImgs, testLabels)"
      ],
      "execution_count": 27,
      "outputs": [
        {
          "output_type": "stream",
          "text": [
            "617/617 [==============================] - 9s 14ms/sample - loss: 0.0293 - accuracy: 0.9906 - updated_mean_io_u_2: 0.6949\n"
          ],
          "name": "stdout"
        },
        {
          "output_type": "execute_result",
          "data": {
            "text/plain": [
              "[0.029298356005158184, 0.9906009, 0.6948778]"
            ]
          },
          "metadata": {
            "tags": []
          },
          "execution_count": 27
        }
      ]
    },
    {
      "cell_type": "code",
      "metadata": {
        "id": "4kBp5pC4qe3j"
      },
      "source": [
        "# save the model weights\n",
        "weightFileName = \"LinkInceptionNetV3_30e_16b.h5\"\n",
        "weightPath = '/content/drive/My Drive/Underwater_Segmentation_Research/Weights/LinkNet'\n",
        "model.save_weights(weightPath + \"/\" + weightFileName)\n"
      ],
      "execution_count": 20,
      "outputs": []
    },
    {
      "cell_type": "code",
      "metadata": {
        "id": "O0ktWQ4lsyxv"
      },
      "source": [
        "model.load_weights(weightPath + \"/\" + weightFileName)\n",
        "model.evaluate(testImgs, testLabels)"
      ],
      "execution_count": null,
      "outputs": []
    },
    {
      "cell_type": "code",
      "metadata": {
        "id": "SF0gF5Otuac9"
      },
      "source": [
        "modelFileName = \"LinkInceptionNetV3_30e_16b\"\n",
        "modelPath     = '/content/drive/My Drive/Underwater_Segmentation_Research/Models/LinkNet'\n",
        "model.save(modelPath + \"/\" + modelFileName)"
      ],
      "execution_count": null,
      "outputs": []
    },
    {
      "cell_type": "code",
      "metadata": {
        "id": "8g2JByQRvjc3",
        "colab": {
          "base_uri": "https://localhost:8080/"
        },
        "outputId": "228fc5e3-bbeb-4072-a013-6dfedd376bb3"
      },
      "source": [
        "# Check the GPU configuration\n",
        "!nvidia-smi"
      ],
      "execution_count": 22,
      "outputs": [
        {
          "output_type": "stream",
          "text": [
            "Wed May 26 13:22:13 2021       \n",
            "+-----------------------------------------------------------------------------+\n",
            "| NVIDIA-SMI 465.19.01    Driver Version: 460.32.03    CUDA Version: 11.2     |\n",
            "|-------------------------------+----------------------+----------------------+\n",
            "| GPU  Name        Persistence-M| Bus-Id        Disp.A | Volatile Uncorr. ECC |\n",
            "| Fan  Temp  Perf  Pwr:Usage/Cap|         Memory-Usage | GPU-Util  Compute M. |\n",
            "|                               |                      |               MIG M. |\n",
            "|===============================+======================+======================|\n",
            "|   0  Tesla T4            Off  | 00000000:00:04.0 Off |                    0 |\n",
            "| N/A   71C    P0    32W /  70W |  14870MiB / 15109MiB |      0%      Default |\n",
            "|                               |                      |                  N/A |\n",
            "+-------------------------------+----------------------+----------------------+\n",
            "                                                                               \n",
            "+-----------------------------------------------------------------------------+\n",
            "| Processes:                                                                  |\n",
            "|  GPU   GI   CI        PID   Type   Process name                  GPU Memory |\n",
            "|        ID   ID                                                   Usage      |\n",
            "|=============================================================================|\n",
            "+-----------------------------------------------------------------------------+\n"
          ],
          "name": "stdout"
        }
      ]
    },
    {
      "cell_type": "code",
      "metadata": {
        "id": "8Ky0ILN0Yuna"
      },
      "source": [
        "y_preds = model.predict(testImgs)\n",
        "y_preds = (y_preds >= 0.5).astype(np.uint8)"
      ],
      "execution_count": 23,
      "outputs": []
    },
    {
      "cell_type": "code",
      "metadata": {
        "id": "kL9yioLTxP6W"
      },
      "source": [
        "yPreds = tf.argmax(y_preds, axis=-1)\n",
        "yPreds = yPreds.numpy()"
      ],
      "execution_count": 24,
      "outputs": []
    },
    {
      "cell_type": "code",
      "metadata": {
        "id": "p1uTFgSjY3nU",
        "colab": {
          "base_uri": "https://localhost:8080/"
        },
        "outputId": "780fa865-65fd-456c-af7c-66e626d059a0"
      },
      "source": [
        "# Compute mean of per-class IOU throughout the test images\n",
        "num_classes=12\n",
        "m = UpdatedMeanIoU(num_classes=12)\n",
        "m.update_state(testLabels, y_preds)\n",
        "\n",
        "print(f'Overall mean IOU is : {m.result().numpy()}')\n",
        "\n",
        "# Values is the confusion matrix\n",
        "values = np.array(m.get_weights()).reshape(num_classes, num_classes)"
      ],
      "execution_count": 25,
      "outputs": [
        {
          "output_type": "stream",
          "text": [
            "Overall mean IOU is : 0.6906077265739441\n"
          ],
          "name": "stdout"
        }
      ]
    },
    {
      "cell_type": "code",
      "metadata": {
        "id": "JVc0rYRGY5xf",
        "colab": {
          "base_uri": "https://localhost:8080/"
        },
        "outputId": "d2adda5c-3f38-4291-f373-888755873140"
      },
      "source": [
        "# compute the mean per-class IOU\n",
        "numClasses = 12\n",
        "\n",
        "classIOU = []\n",
        "\n",
        "for i in range(numClasses):\n",
        "  rowSum = np.sum(values[i,:])\n",
        "  colSum = np.sum(values[:,i])\n",
        "  denom = rowSum + colSum - values[i,i]\n",
        "  iou = values[i,i]/denom\n",
        "  classIOU.append(iou)\n",
        "\n",
        "print(classIOU)\n",
        "perClassIoU = np.array(classIOU)\n",
        "print(np.mean(perClassIoU))\n"
      ],
      "execution_count": 28,
      "outputs": [
        {
          "output_type": "stream",
          "text": [
            "[0.9907271746269392, 0.739394952481447, 0.5334987806874683, 0.5834376522387967, 0.7091479411429223, 0.5273550609094968, 0.694960837519004, 0.6357201767667442, 0.627656069840224, 0.8576776313049085, 0.5077948148464528, 0.8799210258712906]\n",
            "0.6906076765196413\n"
          ],
          "name": "stdout"
        }
      ]
    },
    {
      "cell_type": "code",
      "metadata": {
        "id": "vl0-DjZdY-ao",
        "colab": {
          "base_uri": "https://localhost:8080/",
          "height": 804
        },
        "outputId": "9a777cb3-6344-4b0b-c91c-4d7e450facf5"
      },
      "source": [
        "import matplotlib.pyplot as plt\n",
        "i = 0\n",
        "plt.imshow(yPreds[i])\n",
        "plt.show()\n",
        "\n",
        "print(np.unique(yPreds[i,:,:]))\n",
        "\n",
        "plt.imshow(testLabels[i,:,:,0])\n",
        "plt.show()\n",
        "\n",
        "print(np.unique(testLabels[i,:,:,0]))\n",
        "\n",
        "t = np.linspace(0,11,num=12)\n",
        "plt.plot(t, perClassIoU)\n",
        "plt.show()"
      ],
      "execution_count": 29,
      "outputs": [
        {
          "output_type": "display_data",
          "data": {
            "image/png": "[encoded data removed]",
            "text/plain": [
              "<Figure size 432x288 with 1 Axes>"
            ]
          },
          "metadata": {
            "tags": [],
            "needs_background": "light"
          }
        },
        {
          "output_type": "stream",
          "text": [
            "[ 0  1  9 11]\n"
          ],
          "name": "stdout"
        },
        {
          "output_type": "display_data",
          "data": {
            "image/png": "[encoded data removed]",
            "text/plain": [
              "<Figure size 432x288 with 1 Axes>"
            ]
          },
          "metadata": {
            "tags": [],
            "needs_background": "light"
          }
        },
        {
          "output_type": "stream",
          "text": [
            "[ 0  1  9 11]\n"
          ],
          "name": "stdout"
        },
        {
          "output_type": "display_data",
          "data": {
            "image/png": "[encoded data removed]",
            "text/plain": [
              "<Figure size 432x288 with 1 Axes>"
            ]
          },
          "metadata": {
            "tags": [],
            "needs_background": "light"
          }
        }
      ]
    }
  ]
}