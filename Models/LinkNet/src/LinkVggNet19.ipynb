{
  "nbformat": 4,
  "nbformat_minor": 0,
  "metadata": {
    "colab": {
      "name": "LinkVggNet19.ipynb",
      "provenance": []
    },
    "kernelspec": {
      "name": "python3",
      "display_name": "Python 3"
    },
    "language_info": {
      "name": "python"
    },
    "accelerator": "GPU"
  },
  "cells": [
    {
      "cell_type": "code",
      "metadata": {
        "id": "Gx8DkQO-r131"
      },
      "source": [
        "# LinkNet with ResNet34 for multiclass semantic segmentation\n",
        "!pip install tensorflow==2.1.0"
      ],
      "execution_count": null,
      "outputs": []
    },
    {
      "cell_type": "code",
      "metadata": {
        "id": "cQ_Ib4CjsXeH"
      },
      "source": [
        "!pip install segmentation-models"
      ],
      "execution_count": null,
      "outputs": []
    },
    {
      "cell_type": "code",
      "metadata": {
        "colab": {
          "base_uri": "https://localhost:8080/"
        },
        "id": "_jeOmCF8sa1d",
        "outputId": "0b880528-b675-48cd-8e41-65b575a6048f"
      },
      "source": [
        "# mount google drive here\n",
        "from google.colab import drive\n",
        "drive.mount('/content/drive')"
      ],
      "execution_count": 3,
      "outputs": [
        {
          "output_type": "stream",
          "text": [
            "Mounted at /content/drive\n"
          ],
          "name": "stdout"
        }
      ]
    },
    {
      "cell_type": "code",
      "metadata": {
        "colab": {
          "base_uri": "https://localhost:8080/"
        },
        "id": "oBqlzZVisdN8",
        "outputId": "7bb3f2ff-1d38-4d52-a798-835a55bc736d"
      },
      "source": [
        "# Fetch the training, validation and testing dataset\n",
        "import os\n",
        "import numpy as np\n",
        "\n",
        "dataPath  = '/content/drive/My Drive/Underwater_Segmentation_Research/Data'\n",
        "\n",
        "trainPath       =  dataPath + '/Train'\n",
        "testPath        =  dataPath + '/Test'\n",
        "valPath         =  dataPath + '/Validate'\n",
        "\n",
        "trainImgsFile   = 'trainingDataImgs.npy'\n",
        "trainLabelsFile = 'trainingDataLabels.npy'\n",
        "\n",
        "testImgsFile    = 'testingDataImgs.npy'\n",
        "testLabelsFile  = 'testingDataLabels.npy'\n",
        "\n",
        "valImgsFile     = 'validationDataImgs.npy'\n",
        "valLabelsFile   = 'validationDataLabels.npy'\n",
        "\n",
        "testImgs = None\n",
        "testLabels = None\n",
        "\n",
        "def getData(path,fileName):\n",
        "  return np.load(path + \"/\" + fileName)\n",
        "\n",
        "trainImgs   = getData(trainPath, trainImgsFile)\n",
        "trainLabels = getData(trainPath, trainLabelsFile)\n",
        "\n",
        "valImgs    = getData(valPath, valImgsFile)\n",
        "valLabels  = getData(valPath, valLabelsFile)\n",
        "\n",
        "print(\"Got train and validation data\")\n",
        "print(trainImgs.shape, valImgs.shape)\n",
        "print(trainLabels.shape, valLabels.shape)"
      ],
      "execution_count": 1,
      "outputs": [
        {
          "output_type": "stream",
          "text": [
            "Got train and validation data\n",
            "(1000, 480, 320, 1) (251, 480, 320, 1)\n",
            "(1000, 480, 320, 1) (251, 480, 320, 1)\n"
          ],
          "name": "stdout"
        }
      ]
    },
    {
      "cell_type": "code",
      "metadata": {
        "id": "RlM0LuF_sfsD"
      },
      "source": [
        "# Create the model (without pre-trained ImageNet weights)\n",
        "import os\n",
        "import numpy as np\n",
        "import tensorflow as tf\n",
        "import segmentation_models as sm\n",
        "\n",
        "# create the model\n",
        "model = sm.Linknet('vgg19', input_shape=(480, 320, 1), encoder_weights=None, classes=12, activation='softmax')\n",
        "model.summary()\n"
      ],
      "execution_count": null,
      "outputs": []
    },
    {
      "cell_type": "code",
      "metadata": {
        "id": "2Zx9SsOWsh5C"
      },
      "source": [
        "class UpdatedMeanIoU(tf.keras.metrics.MeanIoU):\n",
        "  def __init__(self,\n",
        "               y_true=None,\n",
        "               y_pred=None,\n",
        "               num_classes=None,\n",
        "               name=None,\n",
        "               dtype=None):\n",
        "    super(UpdatedMeanIoU, self).__init__(num_classes = num_classes,name=name, dtype=dtype)\n",
        "\n",
        "  def update_state(self, y_true, y_pred, sample_weight=None):\n",
        "    y_pred = tf.math.argmax(y_pred, axis=-1)\n",
        "    return super().update_state(y_true, y_pred, sample_weight)"
      ],
      "execution_count": 3,
      "outputs": []
    },
    {
      "cell_type": "code",
      "metadata": {
        "id": "iyRyZqJkskDF"
      },
      "source": [
        "import tensorflow as tf\n",
        "LOSS=tf.keras.losses.SparseCategoricalCrossentropy(from_logits=True)\n",
        "\n",
        "model.compile('Adam',\n",
        "              loss='sparse_categorical_crossentropy',\n",
        "              metrics=['accuracy', UpdatedMeanIoU(num_classes=12)])"
      ],
      "execution_count": 19,
      "outputs": []
    },
    {
      "cell_type": "code",
      "metadata": {
        "id": "yCwiFNVssmQ5"
      },
      "source": [
        "# Setup training parameters\n",
        "BATCH = 16\n",
        "EPOCHS = 30\n",
        "\n",
        "# early stopping callback. It stops training when the loss does not change for 3 consecutive epochs\n",
        "callback = tf.keras.callbacks.EarlyStopping(monitor='loss', patience=3)"
      ],
      "execution_count": 6,
      "outputs": []
    },
    {
      "cell_type": "code",
      "metadata": {
        "colab": {
          "base_uri": "https://localhost:8080/"
        },
        "id": "kA3NCAuhsoAa",
        "outputId": "240f6af1-5de5-40ed-b656-a39587d183f9"
      },
      "source": [
        "# Start training the model\n",
        "history = model.fit(trainImgs, trainLabels, epochs=EPOCHS, batch_size=BATCH, validation_data=(valImgs, valLabels))"
      ],
      "execution_count": 20,
      "outputs": [
        {
          "output_type": "stream",
          "text": [
            "Train on 1000 samples, validate on 251 samples\n",
            "Epoch 1/30\n",
            "1000/1000 [==============================] - 157s 157ms/sample - loss: 0.8438 - accuracy: 0.8366 - updated_mean_io_u_3: 0.0735 - val_loss: 0.6786 - val_accuracy: 0.9622 - val_updated_mean_io_u_3: 0.0802\n",
            "Epoch 2/30\n",
            "1000/1000 [==============================] - 154s 154ms/sample - loss: 0.1766 - accuracy: 0.9630 - updated_mean_io_u_3: 0.0804 - val_loss: 0.3194 - val_accuracy: 0.9622 - val_updated_mean_io_u_3: 0.0802\n",
            "Epoch 3/30\n",
            "1000/1000 [==============================] - 153s 153ms/sample - loss: 0.1527 - accuracy: 0.9640 - updated_mean_io_u_3: 0.0895 - val_loss: 0.2190 - val_accuracy: 0.9630 - val_updated_mean_io_u_3: 0.0962\n",
            "Epoch 4/30\n",
            "1000/1000 [==============================] - 152s 152ms/sample - loss: 0.1402 - accuracy: 0.9658 - updated_mean_io_u_3: 0.1008 - val_loss: 0.2253 - val_accuracy: 0.9625 - val_updated_mean_io_u_3: 0.0816\n",
            "Epoch 5/30\n",
            "1000/1000 [==============================] - 153s 153ms/sample - loss: 0.1271 - accuracy: 0.9680 - updated_mean_io_u_3: 0.1116 - val_loss: 0.2205 - val_accuracy: 0.9623 - val_updated_mean_io_u_3: 0.0807\n",
            "Epoch 6/30\n",
            "1000/1000 [==============================] - 152s 152ms/sample - loss: 0.1248 - accuracy: 0.9679 - updated_mean_io_u_3: 0.1123 - val_loss: 0.1825 - val_accuracy: 0.9630 - val_updated_mean_io_u_3: 0.0843\n",
            "Epoch 7/30\n",
            "1000/1000 [==============================] - 153s 153ms/sample - loss: 0.1206 - accuracy: 0.9685 - updated_mean_io_u_3: 0.1178 - val_loss: 0.2244 - val_accuracy: 0.9623 - val_updated_mean_io_u_3: 0.0810\n",
            "Epoch 8/30\n",
            "1000/1000 [==============================] - 152s 152ms/sample - loss: 0.1096 - accuracy: 0.9706 - updated_mean_io_u_3: 0.1321 - val_loss: 0.2690 - val_accuracy: 0.9622 - val_updated_mean_io_u_3: 0.0802\n",
            "Epoch 9/30\n",
            "1000/1000 [==============================] - 152s 152ms/sample - loss: 0.1083 - accuracy: 0.9708 - updated_mean_io_u_3: 0.1403 - val_loss: 0.2366 - val_accuracy: 0.9624 - val_updated_mean_io_u_3: 0.0813\n",
            "Epoch 10/30\n",
            "1000/1000 [==============================] - 153s 153ms/sample - loss: 0.0982 - accuracy: 0.9738 - updated_mean_io_u_3: 0.1681 - val_loss: 0.2466 - val_accuracy: 0.9622 - val_updated_mean_io_u_3: 0.0802\n",
            "Epoch 11/30\n",
            "1000/1000 [==============================] - 152s 152ms/sample - loss: 0.0946 - accuracy: 0.9749 - updated_mean_io_u_3: 0.1820 - val_loss: 0.2001 - val_accuracy: 0.9636 - val_updated_mean_io_u_3: 0.0877\n",
            "Epoch 12/30\n",
            "1000/1000 [==============================] - 152s 152ms/sample - loss: 0.0874 - accuracy: 0.9766 - updated_mean_io_u_3: 0.1971 - val_loss: 0.2104 - val_accuracy: 0.9631 - val_updated_mean_io_u_3: 0.0851\n",
            "Epoch 13/30\n",
            "1000/1000 [==============================] - 152s 152ms/sample - loss: 0.0825 - accuracy: 0.9776 - updated_mean_io_u_3: 0.2060 - val_loss: 0.2356 - val_accuracy: 0.9625 - val_updated_mean_io_u_3: 0.0840\n",
            "Epoch 14/30\n",
            "1000/1000 [==============================] - 153s 153ms/sample - loss: 0.0825 - accuracy: 0.9772 - updated_mean_io_u_3: 0.2057 - val_loss: 0.2085 - val_accuracy: 0.9646 - val_updated_mean_io_u_3: 0.1102\n",
            "Epoch 15/30\n",
            "1000/1000 [==============================] - 152s 152ms/sample - loss: 0.0808 - accuracy: 0.9773 - updated_mean_io_u_3: 0.2099 - val_loss: 0.1152 - val_accuracy: 0.9733 - val_updated_mean_io_u_3: 0.1542\n",
            "Epoch 16/30\n",
            "1000/1000 [==============================] - 152s 152ms/sample - loss: 0.0777 - accuracy: 0.9781 - updated_mean_io_u_3: 0.2261 - val_loss: 0.1757 - val_accuracy: 0.9638 - val_updated_mean_io_u_3: 0.1012\n",
            "Epoch 17/30\n",
            "1000/1000 [==============================] - 152s 152ms/sample - loss: 0.0713 - accuracy: 0.9799 - updated_mean_io_u_3: 0.2569 - val_loss: 0.1218 - val_accuracy: 0.9713 - val_updated_mean_io_u_3: 0.1540\n",
            "Epoch 18/30\n",
            "1000/1000 [==============================] - 153s 153ms/sample - loss: 0.0663 - accuracy: 0.9808 - updated_mean_io_u_3: 0.2779 - val_loss: 0.1085 - val_accuracy: 0.9753 - val_updated_mean_io_u_3: 0.1668\n",
            "Epoch 19/30\n",
            "1000/1000 [==============================] - 152s 152ms/sample - loss: 0.0662 - accuracy: 0.9809 - updated_mean_io_u_3: 0.2845 - val_loss: 0.1035 - val_accuracy: 0.9774 - val_updated_mean_io_u_3: 0.1824\n",
            "Epoch 20/30\n",
            "1000/1000 [==============================] - 151s 151ms/sample - loss: 0.0608 - accuracy: 0.9820 - updated_mean_io_u_3: 0.3109 - val_loss: 0.0796 - val_accuracy: 0.9775 - val_updated_mean_io_u_3: 0.2282\n",
            "Epoch 21/30\n",
            "1000/1000 [==============================] - 151s 151ms/sample - loss: 0.0599 - accuracy: 0.9819 - updated_mean_io_u_3: 0.3174 - val_loss: 0.0893 - val_accuracy: 0.9788 - val_updated_mean_io_u_3: 0.2250\n",
            "Epoch 22/30\n",
            "1000/1000 [==============================] - 153s 153ms/sample - loss: 0.0576 - accuracy: 0.9824 - updated_mean_io_u_3: 0.3349 - val_loss: 0.1083 - val_accuracy: 0.9700 - val_updated_mean_io_u_3: 0.2244\n",
            "Epoch 23/30\n",
            "1000/1000 [==============================] - 152s 152ms/sample - loss: 0.0529 - accuracy: 0.9834 - updated_mean_io_u_3: 0.3623 - val_loss: 0.0726 - val_accuracy: 0.9789 - val_updated_mean_io_u_3: 0.2949\n",
            "Epoch 24/30\n",
            "1000/1000 [==============================] - 153s 153ms/sample - loss: 0.0512 - accuracy: 0.9837 - updated_mean_io_u_3: 0.3752 - val_loss: 0.0713 - val_accuracy: 0.9811 - val_updated_mean_io_u_3: 0.2557\n",
            "Epoch 25/30\n",
            "1000/1000 [==============================] - 152s 152ms/sample - loss: 0.0503 - accuracy: 0.9838 - updated_mean_io_u_3: 0.3807 - val_loss: 0.0570 - val_accuracy: 0.9826 - val_updated_mean_io_u_3: 0.3777\n",
            "Epoch 26/30\n",
            "1000/1000 [==============================] - 152s 152ms/sample - loss: 0.0472 - accuracy: 0.9846 - updated_mean_io_u_3: 0.3996 - val_loss: 0.0556 - val_accuracy: 0.9833 - val_updated_mean_io_u_3: 0.3570\n",
            "Epoch 27/30\n",
            "1000/1000 [==============================] - 152s 152ms/sample - loss: 0.0441 - accuracy: 0.9854 - updated_mean_io_u_3: 0.4300 - val_loss: 0.0550 - val_accuracy: 0.9835 - val_updated_mean_io_u_3: 0.3553\n",
            "Epoch 28/30\n",
            "1000/1000 [==============================] - 152s 152ms/sample - loss: 0.0434 - accuracy: 0.9855 - updated_mean_io_u_3: 0.4291 - val_loss: 0.0548 - val_accuracy: 0.9842 - val_updated_mean_io_u_3: 0.3583\n",
            "Epoch 29/30\n",
            "1000/1000 [==============================] - 153s 153ms/sample - loss: 0.0413 - accuracy: 0.9861 - updated_mean_io_u_3: 0.4563 - val_loss: 0.0624 - val_accuracy: 0.9825 - val_updated_mean_io_u_3: 0.3250\n",
            "Epoch 30/30\n",
            "1000/1000 [==============================] - 152s 152ms/sample - loss: 0.0388 - accuracy: 0.9869 - updated_mean_io_u_3: 0.4916 - val_loss: 0.0448 - val_accuracy: 0.9860 - val_updated_mean_io_u_3: 0.4298\n"
          ],
          "name": "stdout"
        }
      ]
    },
    {
      "cell_type": "code",
      "metadata": {
        "colab": {
          "base_uri": "https://localhost:8080/",
          "height": 300
        },
        "id": "qJ0mZEEpsprs",
        "outputId": "5e46635b-eb46-4048-9343-a8c029cfb58d"
      },
      "source": [
        "#  Plot the results\n",
        "print(history.history.keys())\n",
        "\n",
        "import matplotlib.pyplot as plt\n",
        "plt.plot(history.history['accuracy'])\n",
        "plt.plot(history.history['val_accuracy'])"
      ],
      "execution_count": 21,
      "outputs": [
        {
          "output_type": "stream",
          "text": [
            "dict_keys(['loss', 'accuracy', 'updated_mean_io_u_3', 'val_loss', 'val_accuracy', 'val_updated_mean_io_u_3'])\n"
          ],
          "name": "stdout"
        },
        {
          "output_type": "execute_result",
          "data": {
            "text/plain": [
              "[<matplotlib.lines.Line2D at 0x7f551e9ebc50>]"
            ]
          },
          "metadata": {
            "tags": []
          },
          "execution_count": 21
        },
        {
          "output_type": "display_data",
          "data": {
            "image/png": "[encoded data removed]",
            "text/plain": [
              "<Figure size 432x288 with 1 Axes>"
            ]
          },
          "metadata": {
            "tags": [],
            "needs_background": "light"
          }
        }
      ]
    },
    {
      "cell_type": "code",
      "metadata": {
        "colab": {
          "base_uri": "https://localhost:8080/",
          "height": 282
        },
        "id": "NNKh2pnZs1Rv",
        "outputId": "887c73f4-4e86-4eb3-f8e1-2c3bf2fdd70c"
      },
      "source": [
        "plt.plot(history.history['loss'])\n",
        "plt.plot(history.history['val_loss'])"
      ],
      "execution_count": 22,
      "outputs": [
        {
          "output_type": "execute_result",
          "data": {
            "text/plain": [
              "[<matplotlib.lines.Line2D at 0x7f551ed42c50>]"
            ]
          },
          "metadata": {
            "tags": []
          },
          "execution_count": 22
        },
        {
          "output_type": "display_data",
          "data": {
            "image/png": "[encoded data removed]",
            "text/plain": [
              "<Figure size 432x288 with 1 Axes>"
            ]
          },
          "metadata": {
            "tags": [],
            "needs_background": "light"
          }
        }
      ]
    },
    {
      "cell_type": "code",
      "metadata": {
        "colab": {
          "base_uri": "https://localhost:8080/",
          "height": 282
        },
        "id": "6meBD905tAbT",
        "outputId": "1679f83c-3bc0-4e50-9597-a259cd6dca74"
      },
      "source": [
        "plt.plot(history.history['updated_mean_io_u_3'])\n",
        "plt.plot(history.history['val_updated_mean_io_u_3'])"
      ],
      "execution_count": 24,
      "outputs": [
        {
          "output_type": "execute_result",
          "data": {
            "text/plain": [
              "[<matplotlib.lines.Line2D at 0x7f551edf5cd0>]"
            ]
          },
          "metadata": {
            "tags": []
          },
          "execution_count": 24
        },
        {
          "output_type": "display_data",
          "data": {
            "image/png": "[encoded data removed]",
            "text/plain": [
              "<Figure size 432x288 with 1 Axes>"
            ]
          },
          "metadata": {
            "tags": [],
            "needs_background": "light"
          }
        }
      ]
    },
    {
      "cell_type": "code",
      "metadata": {
        "id": "xuakchX_tCCV"
      },
      "source": [
        "# get the testdata\n",
        "testImgs   = getData(testPath, testImgsFile)\n",
        "testLabels = getData(testPath, testLabelsFile)"
      ],
      "execution_count": 25,
      "outputs": []
    },
    {
      "cell_type": "code",
      "metadata": {
        "colab": {
          "base_uri": "https://localhost:8080/"
        },
        "id": "ScxhPhg0tDpe",
        "outputId": "3a84aa00-f933-43b6-8912-0e6abd95905a"
      },
      "source": [
        "model.evaluate(testImgs, testLabels)"
      ],
      "execution_count": 26,
      "outputs": [
        {
          "output_type": "stream",
          "text": [
            "617/617 [==============================] - 28s 46ms/sample - loss: 0.0459 - accuracy: 0.9860 - updated_mean_io_u_3: 0.4295\n"
          ],
          "name": "stdout"
        },
        {
          "output_type": "execute_result",
          "data": {
            "text/plain": [
              "[0.04593271921529182, 0.9860185, 0.42952585]"
            ]
          },
          "metadata": {
            "tags": []
          },
          "execution_count": 26
        }
      ]
    },
    {
      "cell_type": "code",
      "metadata": {
        "id": "53CmOQge0RHF"
      },
      "source": [
        "!pip3 install 'h5py==2.10.0' --force-reinstall"
      ],
      "execution_count": null,
      "outputs": []
    },
    {
      "cell_type": "code",
      "metadata": {
        "id": "E5LfTgfftFNI"
      },
      "source": [
        "# save the model weights\n",
        "weightFileName = \"LinkVggNet19_30e_16b.h5\"\n",
        "weightPath = '/content/drive/My Drive/Underwater_Segmentation_Research/Weights/LinkNet'\n",
        "model.save_weights(weightPath + \"/\" + weightFileName)\n"
      ],
      "execution_count": 27,
      "outputs": []
    },
    {
      "cell_type": "code",
      "metadata": {
        "id": "eMIeWwCftHN8"
      },
      "source": [
        "model.load_weights(weightPath + \"/\" + weightFileName)\n",
        "model.evaluate(testImgs, testLabels)"
      ],
      "execution_count": null,
      "outputs": []
    },
    {
      "cell_type": "code",
      "metadata": {
        "colab": {
          "base_uri": "https://localhost:8080/"
        },
        "id": "tXRS-pVKtIzq",
        "outputId": "70b854ec-5738-40f8-d4b9-49663e97610f"
      },
      "source": [
        "modelFileName = \"LinkVggNet19_30e_16b\"\n",
        "modelPath     = '/content/drive/My Drive/Underwater_Segmentation_Research/Models/LinkNet'\n",
        "model.save(modelPath + \"/\" + modelFileName)"
      ],
      "execution_count": 28,
      "outputs": [
        {
          "output_type": "stream",
          "text": [
            "WARNING:tensorflow:From /usr/local/lib/python3.7/dist-packages/tensorflow_core/python/ops/resource_variable_ops.py:1786: calling BaseResourceVariable.__init__ (from tensorflow.python.ops.resource_variable_ops) with constraint is deprecated and will be removed in a future version.\n",
            "Instructions for updating:\n",
            "If using Keras pass *_constraint arguments to layers.\n",
            "INFO:tensorflow:Assets written to: /content/drive/My Drive/Underwater_Segmentation_Research/Models/LinkNet/LinkVggNet19_30e_16b/assets\n"
          ],
          "name": "stdout"
        }
      ]
    },
    {
      "cell_type": "code",
      "metadata": {
        "colab": {
          "base_uri": "https://localhost:8080/"
        },
        "id": "BdJNCECDtKdL",
        "outputId": "318d89f7-776a-41e5-e488-1be805cda305"
      },
      "source": [
        "# Check the GPU configuration\n",
        "!nvidia-smi"
      ],
      "execution_count": 29,
      "outputs": [
        {
          "output_type": "stream",
          "text": [
            "Wed May 26 12:45:23 2021       \n",
            "+-----------------------------------------------------------------------------+\n",
            "| NVIDIA-SMI 465.19.01    Driver Version: 460.32.03    CUDA Version: 11.2     |\n",
            "|-------------------------------+----------------------+----------------------+\n",
            "| GPU  Name        Persistence-M| Bus-Id        Disp.A | Volatile Uncorr. ECC |\n",
            "| Fan  Temp  Perf  Pwr:Usage/Cap|         Memory-Usage | GPU-Util  Compute M. |\n",
            "|                               |                      |               MIG M. |\n",
            "|===============================+======================+======================|\n",
            "|   0  Tesla K80           Off  | 00000000:00:04.0 Off |                    0 |\n",
            "| N/A   72C    P0    73W / 149W |  11043MiB / 11441MiB |      0%      Default |\n",
            "|                               |                      |                  N/A |\n",
            "+-------------------------------+----------------------+----------------------+\n",
            "                                                                               \n",
            "+-----------------------------------------------------------------------------+\n",
            "| Processes:                                                                  |\n",
            "|  GPU   GI   CI        PID   Type   Process name                  GPU Memory |\n",
            "|        ID   ID                                                   Usage      |\n",
            "|=============================================================================|\n",
            "+-----------------------------------------------------------------------------+\n"
          ],
          "name": "stdout"
        }
      ]
    },
    {
      "cell_type": "code",
      "metadata": {
        "id": "STd5auSItMAr"
      },
      "source": [
        "y_preds = model.predict(testImgs)\n",
        "y_preds = (y_preds >= 0.5).astype(np.uint8)"
      ],
      "execution_count": 30,
      "outputs": []
    },
    {
      "cell_type": "code",
      "metadata": {
        "id": "9VT6XU--z2ve"
      },
      "source": [
        "yPreds = tf.argmax(y_preds, axis=-1)\n",
        "yPreds = yPreds.numpy()"
      ],
      "execution_count": 31,
      "outputs": []
    },
    {
      "cell_type": "code",
      "metadata": {
        "colab": {
          "base_uri": "https://localhost:8080/"
        },
        "id": "hrMCJj9stOQV",
        "outputId": "d7fdc208-1546-4e82-b1ff-9c8d8b114f25"
      },
      "source": [
        "# Compute mean of per-class IOU throughout the test images\n",
        "num_classes=12\n",
        "m = UpdatedMeanIoU(num_classes=12)\n",
        "m.update_state(testLabels, y_preds)\n",
        "\n",
        "print(f'Overall mean IOU is : {m.result().numpy()}')\n",
        "\n",
        "# Values is the confusion matrix\n",
        "values = np.array(m.get_weights()).reshape(num_classes, num_classes)"
      ],
      "execution_count": 32,
      "outputs": [
        {
          "output_type": "stream",
          "text": [
            "Overall mean IOU is : 0.3901984691619873\n"
          ],
          "name": "stdout"
        }
      ]
    },
    {
      "cell_type": "code",
      "metadata": {
        "colab": {
          "base_uri": "https://localhost:8080/"
        },
        "id": "zeGCrD4qtQNi",
        "outputId": "e89512b7-b0a0-4e73-baef-ddbb3a6466c3"
      },
      "source": [
        "# compute the mean per-class IOU\n",
        "numClasses = 12\n",
        "\n",
        "classIOU = []\n",
        "\n",
        "for i in range(numClasses):\n",
        "  rowSum = np.sum(values[i,:])\n",
        "  colSum = np.sum(values[:,i])\n",
        "  denom = rowSum + colSum - values[i,i]\n",
        "  iou = values[i,i]/denom\n",
        "  classIOU.append(iou)\n",
        "\n",
        "print(classIOU)\n",
        "perClassIoU = np.array(classIOU)\n",
        "print(np.mean(perClassIoU))"
      ],
      "execution_count": 33,
      "outputs": [
        {
          "output_type": "stream",
          "text": [
            "[0.9853281192155119, 0.3729760051962732, 0.08523783264914322, 0.4070576380231379, 0.31270201799598146, 0.014649652876700005, 0.5243942414651054, 0.22861339410106596, 0.09626519976838448, 0.7938714970206275, 0.0, 0.8612861933604291]\n",
            "0.39019848263936335\n"
          ],
          "name": "stdout"
        }
      ]
    },
    {
      "cell_type": "code",
      "metadata": {
        "colab": {
          "base_uri": "https://localhost:8080/",
          "height": 804
        },
        "id": "Bgoz5BFctSGU",
        "outputId": "3d452061-726d-4941-f4bf-ae2316ea1244"
      },
      "source": [
        "import matplotlib.pyplot as plt\n",
        "i = 0\n",
        "plt.imshow(yPreds[i])\n",
        "plt.show()\n",
        "\n",
        "print(np.unique(yPreds[i,:,:]))\n",
        "\n",
        "plt.imshow(testLabels[i,:,:,0])\n",
        "plt.show()\n",
        "\n",
        "print(np.unique(testLabels[i,:,:,0]))\n",
        "\n",
        "t = np.linspace(0,11,num=12)\n",
        "plt.plot(t, perClassIoU)\n",
        "plt.show()"
      ],
      "execution_count": 34,
      "outputs": [
        {
          "output_type": "display_data",
          "data": {
            "image/png": "[encoded data removed]",
            "text/plain": [
              "<Figure size 432x288 with 1 Axes>"
            ]
          },
          "metadata": {
            "tags": [],
            "needs_background": "light"
          }
        },
        {
          "output_type": "stream",
          "text": [
            "[ 0  1  9 11]\n"
          ],
          "name": "stdout"
        },
        {
          "output_type": "display_data",
          "data": {
            "image/png": "[encoded data removed]",
            "text/plain": [
              "<Figure size 432x288 with 1 Axes>"
            ]
          },
          "metadata": {
            "tags": [],
            "needs_background": "light"
          }
        },
        {
          "output_type": "stream",
          "text": [
            "[ 0  1  9 11]\n"
          ],
          "name": "stdout"
        },
        {
          "output_type": "display_data",
          "data": {
            "image/png": "[encoded data removed]",
            "text/plain": [
              "<Figure size 432x288 with 1 Axes>"
            ]
          },
          "metadata": {
            "tags": [],
            "needs_background": "light"
          }
        }
      ]
    }
  ]
}