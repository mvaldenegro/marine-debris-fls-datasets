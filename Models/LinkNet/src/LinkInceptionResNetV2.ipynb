{
  "nbformat": 4,
  "nbformat_minor": 0,
  "metadata": {
    "colab": {
      "name": "LinkInceptionResNetV2.ipynb",
      "provenance": []
    },
    "kernelspec": {
      "name": "python3",
      "display_name": "Python 3"
    },
    "language_info": {
      "name": "python"
    },
    "accelerator": "GPU"
  },
  "cells": [
    {
      "cell_type": "code",
      "metadata": {
        "id": "oYFJNNAjBiXh"
      },
      "source": [
        "# LinkNet with ResNet101 for multiclass semantic segmentation\n",
        "!pip install tensorflow==2.1.0"
      ],
      "execution_count": null,
      "outputs": []
    },
    {
      "cell_type": "code",
      "metadata": {
        "id": "N-R74Ti8B12-"
      },
      "source": [
        "!pip install segmentation-models"
      ],
      "execution_count": null,
      "outputs": []
    },
    {
      "cell_type": "code",
      "metadata": {
        "colab": {
          "base_uri": "https://localhost:8080/"
        },
        "id": "BPMrXA29B3zx",
        "outputId": "ff374cff-d455-4889-cf54-91b32e1e4c99"
      },
      "source": [
        "# mount google drive here\n",
        "from google.colab import drive\n",
        "drive.mount('/content/drive')"
      ],
      "execution_count": 3,
      "outputs": [
        {
          "output_type": "stream",
          "text": [
            "Mounted at /content/drive\n"
          ],
          "name": "stdout"
        }
      ]
    },
    {
      "cell_type": "code",
      "metadata": {
        "colab": {
          "base_uri": "https://localhost:8080/"
        },
        "id": "uB87tKFwB5eU",
        "outputId": "2eba399f-ddeb-4777-e2fc-ab4b9005d343"
      },
      "source": [
        "# Fetch the training, validation and testing dataset\n",
        "import os\n",
        "import numpy as np\n",
        "\n",
        "dataPath  = '/content/drive/My Drive/Underwater_Segmentation_Research/Data'\n",
        "\n",
        "trainPath       =  dataPath + '/Train'\n",
        "testPath        =  dataPath + '/Test'\n",
        "valPath         =  dataPath + '/Validate'\n",
        "\n",
        "trainImgsFile   = 'trainingDataImgs.npy'\n",
        "trainLabelsFile = 'trainingDataLabels.npy'\n",
        "\n",
        "testImgsFile    = 'testingDataImgs.npy'\n",
        "testLabelsFile  = 'testingDataLabels.npy'\n",
        "\n",
        "valImgsFile     = 'validationDataImgs.npy'\n",
        "valLabelsFile   = 'validationDataLabels.npy'\n",
        "\n",
        "testImgs = None\n",
        "testLabels = None\n",
        "\n",
        "def getData(path,fileName):\n",
        "  return np.load(path + \"/\" + fileName)\n",
        "\n",
        "trainImgs   = getData(trainPath, trainImgsFile)\n",
        "trainLabels = getData(trainPath, trainLabelsFile)\n",
        "\n",
        "valImgs    = getData(valPath, valImgsFile)\n",
        "valLabels  = getData(valPath, valLabelsFile)\n",
        "\n",
        "print(\"Got train and validation data\")\n",
        "print(trainImgs.shape, valImgs.shape)\n",
        "print(trainLabels.shape, valLabels.shape)"
      ],
      "execution_count": 14,
      "outputs": [
        {
          "output_type": "stream",
          "text": [
            "Got train and validation data\n",
            "(1000, 480, 320, 1) (251, 480, 320, 1)\n",
            "(1000, 480, 320, 1) (251, 480, 320, 1)\n"
          ],
          "name": "stdout"
        }
      ]
    },
    {
      "cell_type": "code",
      "metadata": {
        "id": "1YqWnLlgB7x-"
      },
      "source": [
        "# Create the model (without pre-trained ImageNet weights)\n",
        "import os\n",
        "import numpy as np\n",
        "import tensorflow as tf\n",
        "import segmentation_models as sm\n",
        "\n",
        "# create the model\n",
        "model = sm.Linknet('inceptionresnetv2', input_shape=(480, 320, 1), encoder_weights=None, classes=12, activation='softmax')\n",
        "model.summary()\n"
      ],
      "execution_count": null,
      "outputs": []
    },
    {
      "cell_type": "code",
      "metadata": {
        "id": "oB0uQiC2B_T_"
      },
      "source": [
        "class UpdatedMeanIoU(tf.keras.metrics.MeanIoU):\n",
        "  def __init__(self,\n",
        "               y_true=None,\n",
        "               y_pred=None,\n",
        "               num_classes=None,\n",
        "               name=None,\n",
        "               dtype=None):\n",
        "    super(UpdatedMeanIoU, self).__init__(num_classes = num_classes,name=name, dtype=dtype)\n",
        "\n",
        "  def update_state(self, y_true, y_pred, sample_weight=None):\n",
        "    y_pred = tf.math.argmax(y_pred, axis=-1)\n",
        "    return super().update_state(y_true, y_pred, sample_weight)"
      ],
      "execution_count": 16,
      "outputs": []
    },
    {
      "cell_type": "code",
      "metadata": {
        "id": "ZKaq9FRbCCsM"
      },
      "source": [
        "import tensorflow as tf\n",
        "LOSS=tf.keras.losses.SparseCategoricalCrossentropy(from_logits=True)\n",
        "\n",
        "model.compile('Adam',\n",
        "              loss='sparse_categorical_crossentropy',\n",
        "              metrics=['accuracy', UpdatedMeanIoU(num_classes=12)])"
      ],
      "execution_count": 17,
      "outputs": []
    },
    {
      "cell_type": "code",
      "metadata": {
        "id": "V5uhW9zbCEL8"
      },
      "source": [
        "# Setup training parameters\n",
        "BATCH = 16\n",
        "EPOCHS = 30\n",
        "\n",
        "# early stopping callback. It stops training when the loss does not change for 3 consecutive epochs\n",
        "callback = tf.keras.callbacks.EarlyStopping(monitor='loss', patience=3)"
      ],
      "execution_count": 19,
      "outputs": []
    },
    {
      "cell_type": "code",
      "metadata": {
        "colab": {
          "base_uri": "https://localhost:8080/"
        },
        "id": "ZuioVTHnCGx0",
        "outputId": "7a58c3f4-a065-49c5-ed81-dfd33153ee4e"
      },
      "source": [
        "# Start training the model\n",
        "history = model.fit(trainImgs, trainLabels, epochs=EPOCHS, batch_size=BATCH, validation_data=(valImgs, valLabels))"
      ],
      "execution_count": 20,
      "outputs": [
        {
          "output_type": "stream",
          "text": [
            "Train on 1000 samples, validate on 251 samples\n",
            "Epoch 1/30\n",
            "1000/1000 [==============================] - 132s 132ms/sample - loss: 0.5573 - accuracy: 0.9053 - updated_mean_io_u_1: 0.0807 - val_loss: 0.6411 - val_accuracy: 0.9615 - val_updated_mean_io_u_1: 0.0801\n",
            "Epoch 2/30\n",
            "1000/1000 [==============================] - 97s 97ms/sample - loss: 0.1215 - accuracy: 0.9694 - updated_mean_io_u_1: 0.1185 - val_loss: 0.8685 - val_accuracy: 0.7321 - val_updated_mean_io_u_1: 0.0632\n",
            "Epoch 3/30\n",
            "1000/1000 [==============================] - 97s 97ms/sample - loss: 0.0937 - accuracy: 0.9725 - updated_mean_io_u_1: 0.1367 - val_loss: 0.3483 - val_accuracy: 0.9323 - val_updated_mean_io_u_1: 0.1023\n",
            "Epoch 4/30\n",
            "1000/1000 [==============================] - 97s 97ms/sample - loss: 0.0825 - accuracy: 0.9764 - updated_mean_io_u_1: 0.1986 - val_loss: 0.2400 - val_accuracy: 0.9289 - val_updated_mean_io_u_1: 0.1184\n",
            "Epoch 5/30\n",
            "1000/1000 [==============================] - 98s 98ms/sample - loss: 0.0627 - accuracy: 0.9806 - updated_mean_io_u_1: 0.2465 - val_loss: 0.1163 - val_accuracy: 0.9754 - val_updated_mean_io_u_1: 0.1898\n",
            "Epoch 6/30\n",
            "1000/1000 [==============================] - 98s 98ms/sample - loss: 0.0568 - accuracy: 0.9817 - updated_mean_io_u_1: 0.2749 - val_loss: 0.0874 - val_accuracy: 0.9777 - val_updated_mean_io_u_1: 0.2493\n",
            "Epoch 7/30\n",
            "1000/1000 [==============================] - 98s 98ms/sample - loss: 0.0486 - accuracy: 0.9845 - updated_mean_io_u_1: 0.3422 - val_loss: 0.0811 - val_accuracy: 0.9761 - val_updated_mean_io_u_1: 0.2590\n",
            "Epoch 8/30\n",
            "1000/1000 [==============================] - 97s 97ms/sample - loss: 0.0468 - accuracy: 0.9847 - updated_mean_io_u_1: 0.3613 - val_loss: 0.0713 - val_accuracy: 0.9798 - val_updated_mean_io_u_1: 0.3253\n",
            "Epoch 9/30\n",
            "1000/1000 [==============================] - 97s 97ms/sample - loss: 0.0446 - accuracy: 0.9854 - updated_mean_io_u_1: 0.3769 - val_loss: 0.0636 - val_accuracy: 0.9818 - val_updated_mean_io_u_1: 0.2770\n",
            "Epoch 10/30\n",
            "1000/1000 [==============================] - 97s 97ms/sample - loss: 0.0398 - accuracy: 0.9868 - updated_mean_io_u_1: 0.3989 - val_loss: 0.0481 - val_accuracy: 0.9848 - val_updated_mean_io_u_1: 0.3535\n",
            "Epoch 11/30\n",
            "1000/1000 [==============================] - 97s 97ms/sample - loss: 0.0389 - accuracy: 0.9871 - updated_mean_io_u_1: 0.4082 - val_loss: 0.0435 - val_accuracy: 0.9862 - val_updated_mean_io_u_1: 0.4173\n",
            "Epoch 12/30\n",
            "1000/1000 [==============================] - 97s 97ms/sample - loss: 0.0357 - accuracy: 0.9876 - updated_mean_io_u_1: 0.4273 - val_loss: 0.0437 - val_accuracy: 0.9860 - val_updated_mean_io_u_1: 0.4215\n",
            "Epoch 13/30\n",
            "1000/1000 [==============================] - 98s 98ms/sample - loss: 0.0379 - accuracy: 0.9869 - updated_mean_io_u_1: 0.4235 - val_loss: 0.1352 - val_accuracy: 0.9728 - val_updated_mean_io_u_1: 0.1985\n",
            "Epoch 14/30\n",
            "1000/1000 [==============================] - 98s 98ms/sample - loss: 0.0367 - accuracy: 0.9872 - updated_mean_io_u_1: 0.4259 - val_loss: 0.0407 - val_accuracy: 0.9868 - val_updated_mean_io_u_1: 0.4165\n",
            "Epoch 15/30\n",
            "1000/1000 [==============================] - 97s 97ms/sample - loss: 0.0318 - accuracy: 0.9886 - updated_mean_io_u_1: 0.4486 - val_loss: 0.0411 - val_accuracy: 0.9858 - val_updated_mean_io_u_1: 0.4292\n",
            "Epoch 16/30\n",
            "1000/1000 [==============================] - 97s 97ms/sample - loss: 0.0311 - accuracy: 0.9885 - updated_mean_io_u_1: 0.4463 - val_loss: 0.0456 - val_accuracy: 0.9834 - val_updated_mean_io_u_1: 0.4113\n",
            "Epoch 17/30\n",
            "1000/1000 [==============================] - 97s 97ms/sample - loss: 0.0298 - accuracy: 0.9889 - updated_mean_io_u_1: 0.4541 - val_loss: 0.0346 - val_accuracy: 0.9885 - val_updated_mean_io_u_1: 0.4465\n",
            "Epoch 18/30\n",
            "1000/1000 [==============================] - 97s 97ms/sample - loss: 0.0309 - accuracy: 0.9883 - updated_mean_io_u_1: 0.4493 - val_loss: 0.0563 - val_accuracy: 0.9815 - val_updated_mean_io_u_1: 0.3911\n",
            "Epoch 19/30\n",
            "1000/1000 [==============================] - 97s 97ms/sample - loss: 0.0304 - accuracy: 0.9883 - updated_mean_io_u_1: 0.4454 - val_loss: 0.0378 - val_accuracy: 0.9867 - val_updated_mean_io_u_1: 0.4321\n",
            "Epoch 20/30\n",
            "1000/1000 [==============================] - 97s 97ms/sample - loss: 0.0293 - accuracy: 0.9887 - updated_mean_io_u_1: 0.4683 - val_loss: 0.0343 - val_accuracy: 0.9876 - val_updated_mean_io_u_1: 0.5019\n",
            "Epoch 21/30\n",
            "1000/1000 [==============================] - 97s 97ms/sample - loss: 0.0285 - accuracy: 0.9894 - updated_mean_io_u_1: 0.5274 - val_loss: 0.0319 - val_accuracy: 0.9889 - val_updated_mean_io_u_1: 0.5401\n",
            "Epoch 22/30\n",
            "1000/1000 [==============================] - 97s 97ms/sample - loss: 0.0266 - accuracy: 0.9898 - updated_mean_io_u_1: 0.5579 - val_loss: 0.0325 - val_accuracy: 0.9891 - val_updated_mean_io_u_1: 0.5409\n",
            "Epoch 23/30\n",
            "1000/1000 [==============================] - 97s 97ms/sample - loss: 0.0259 - accuracy: 0.9899 - updated_mean_io_u_1: 0.5634 - val_loss: 0.0315 - val_accuracy: 0.9890 - val_updated_mean_io_u_1: 0.5455\n",
            "Epoch 24/30\n",
            "1000/1000 [==============================] - 97s 97ms/sample - loss: 0.0240 - accuracy: 0.9905 - updated_mean_io_u_1: 0.5968 - val_loss: 0.0294 - val_accuracy: 0.9897 - val_updated_mean_io_u_1: 0.5825\n",
            "Epoch 25/30\n",
            "1000/1000 [==============================] - 98s 98ms/sample - loss: 0.0231 - accuracy: 0.9907 - updated_mean_io_u_1: 0.6198 - val_loss: 0.0475 - val_accuracy: 0.9871 - val_updated_mean_io_u_1: 0.4695\n",
            "Epoch 26/30\n",
            "1000/1000 [==============================] - 97s 97ms/sample - loss: 0.0247 - accuracy: 0.9902 - updated_mean_io_u_1: 0.5995 - val_loss: 0.0326 - val_accuracy: 0.9886 - val_updated_mean_io_u_1: 0.5665\n",
            "Epoch 27/30\n",
            "1000/1000 [==============================] - 97s 97ms/sample - loss: 0.0231 - accuracy: 0.9910 - updated_mean_io_u_1: 0.6334 - val_loss: 0.0296 - val_accuracy: 0.9902 - val_updated_mean_io_u_1: 0.5997\n",
            "Epoch 28/30\n",
            "1000/1000 [==============================] - 97s 97ms/sample - loss: 0.0216 - accuracy: 0.9917 - updated_mean_io_u_1: 0.6804 - val_loss: 0.0279 - val_accuracy: 0.9910 - val_updated_mean_io_u_1: 0.6427\n",
            "Epoch 29/30\n",
            "1000/1000 [==============================] - 97s 97ms/sample - loss: 0.0205 - accuracy: 0.9919 - updated_mean_io_u_1: 0.6793 - val_loss: 0.0277 - val_accuracy: 0.9907 - val_updated_mean_io_u_1: 0.6386\n",
            "Epoch 30/30\n",
            "1000/1000 [==============================] - 97s 97ms/sample - loss: 0.0203 - accuracy: 0.9921 - updated_mean_io_u_1: 0.6864 - val_loss: 0.0296 - val_accuracy: 0.9901 - val_updated_mean_io_u_1: 0.6184\n"
          ],
          "name": "stdout"
        }
      ]
    },
    {
      "cell_type": "code",
      "metadata": {
        "colab": {
          "base_uri": "https://localhost:8080/",
          "height": 300
        },
        "id": "Rh2lpHQWCIgY",
        "outputId": "bcf61216-a504-44bd-dd00-d2e60db2664e"
      },
      "source": [
        "#  Plot the results\n",
        "print(history.history.keys())\n",
        "\n",
        "import matplotlib.pyplot as plt\n",
        "plt.plot(history.history['accuracy'])\n",
        "plt.plot(history.history['val_accuracy'])"
      ],
      "execution_count": 21,
      "outputs": [
        {
          "output_type": "stream",
          "text": [
            "dict_keys(['loss', 'accuracy', 'updated_mean_io_u_1', 'val_loss', 'val_accuracy', 'val_updated_mean_io_u_1'])\n"
          ],
          "name": "stdout"
        },
        {
          "output_type": "execute_result",
          "data": {
            "text/plain": [
              "[<matplotlib.lines.Line2D at 0x7fd311bbcb50>]"
            ]
          },
          "metadata": {
            "tags": []
          },
          "execution_count": 21
        },
        {
          "output_type": "display_data",
          "data": {
            "image/png": "[encoded data removed]",
            "text/plain": [
              "<Figure size 432x288 with 1 Axes>"
            ]
          },
          "metadata": {
            "tags": [],
            "needs_background": "light"
          }
        }
      ]
    },
    {
      "cell_type": "code",
      "metadata": {
        "colab": {
          "base_uri": "https://localhost:8080/",
          "height": 282
        },
        "id": "xF1Fct9TCPVQ",
        "outputId": "09a1d7c4-0409-497d-b4e3-5d6d11504036"
      },
      "source": [
        "plt.plot(history.history['loss'])\n",
        "plt.plot(history.history['val_loss'])"
      ],
      "execution_count": 22,
      "outputs": [
        {
          "output_type": "execute_result",
          "data": {
            "text/plain": [
              "[<matplotlib.lines.Line2D at 0x7fd312b8f350>]"
            ]
          },
          "metadata": {
            "tags": []
          },
          "execution_count": 22
        },
        {
          "output_type": "display_data",
          "data": {
            "image/png": "[encoded data removed]",
            "text/plain": [
              "<Figure size 432x288 with 1 Axes>"
            ]
          },
          "metadata": {
            "tags": [],
            "needs_background": "light"
          }
        }
      ]
    },
    {
      "cell_type": "code",
      "metadata": {
        "colab": {
          "base_uri": "https://localhost:8080/",
          "height": 282
        },
        "id": "wN3XLyrDCoe9",
        "outputId": "006acb0c-74ec-477f-8b88-cd7b30101840"
      },
      "source": [
        "plt.plot(history.history['updated_mean_io_u_1'])\n",
        "plt.plot(history.history['val_updated_mean_io_u_1'])"
      ],
      "execution_count": 24,
      "outputs": [
        {
          "output_type": "execute_result",
          "data": {
            "text/plain": [
              "[<matplotlib.lines.Line2D at 0x7fd312b7bd10>]"
            ]
          },
          "metadata": {
            "tags": []
          },
          "execution_count": 24
        },
        {
          "output_type": "display_data",
          "data": {
            "image/png": "[encoded data removed]",
            "text/plain": [
              "<Figure size 432x288 with 1 Axes>"
            ]
          },
          "metadata": {
            "tags": [],
            "needs_background": "light"
          }
        }
      ]
    },
    {
      "cell_type": "code",
      "metadata": {
        "id": "16vUyKqWCq9V"
      },
      "source": [
        "# get the testdata\n",
        "testImgs   = getData(testPath, testImgsFile)\n",
        "testLabels = getData(testPath, testLabelsFile)"
      ],
      "execution_count": 25,
      "outputs": []
    },
    {
      "cell_type": "code",
      "metadata": {
        "colab": {
          "base_uri": "https://localhost:8080/"
        },
        "id": "_dU0TmVfCtI5",
        "outputId": "d87a3c4b-641e-40d9-9bae-0c91b566e2fc"
      },
      "source": [
        "model.evaluate(testImgs, testLabels)"
      ],
      "execution_count": 26,
      "outputs": [
        {
          "output_type": "stream",
          "text": [
            "617/617 [==============================] - 25s 40ms/sample - loss: 0.0291 - accuracy: 0.9900 - updated_mean_io_u_1: 0.6220\n"
          ],
          "name": "stdout"
        },
        {
          "output_type": "execute_result",
          "data": {
            "text/plain": [
              "[0.029090520362799906, 0.98995405, 0.62195945]"
            ]
          },
          "metadata": {
            "tags": []
          },
          "execution_count": 26
        }
      ]
    },
    {
      "cell_type": "code",
      "metadata": {
        "id": "8Fcwzr8kCuoa"
      },
      "source": [
        "# save the model weights\n",
        "weightFileName = \"LinkInceptoinResNetV2_30e_16b.h5\"\n",
        "weightPath = '/content/drive/My Drive/Underwater_Segmentation_Research/Weights/LinkNet'\n",
        "model.save_weights(weightPath + \"/\" + weightFileName)\n"
      ],
      "execution_count": 27,
      "outputs": []
    },
    {
      "cell_type": "code",
      "metadata": {
        "id": "EChNMzt-CwmZ"
      },
      "source": [
        "model.load_weights(weightPath + \"/\" + weightFileName)\n",
        "model.evaluate(testImgs, testLabels)"
      ],
      "execution_count": null,
      "outputs": []
    },
    {
      "cell_type": "code",
      "metadata": {
        "id": "H6ZDddaSCy2P"
      },
      "source": [
        "modelFileName = \"LinkInceptionResNetV2_30e_16b\"\n",
        "modelPath     = '/content/drive/My Drive/Underwater_Segmentation_Research/Models/LinkNet'\n",
        "model.save(modelPath + \"/\" + modelFileName)"
      ],
      "execution_count": null,
      "outputs": []
    },
    {
      "cell_type": "code",
      "metadata": {
        "colab": {
          "base_uri": "https://localhost:8080/"
        },
        "id": "ylpV9CiiC4Ye",
        "outputId": "d7c5ec2d-524a-4d31-d8c6-0504ff770308"
      },
      "source": [
        "# Check the GPU configuration\n",
        "!nvidia-smi"
      ],
      "execution_count": 29,
      "outputs": [
        {
          "output_type": "stream",
          "text": [
            "Wed May 26 12:36:13 2021       \n",
            "+-----------------------------------------------------------------------------+\n",
            "| NVIDIA-SMI 465.19.01    Driver Version: 460.32.03    CUDA Version: 11.2     |\n",
            "|-------------------------------+----------------------+----------------------+\n",
            "| GPU  Name        Persistence-M| Bus-Id        Disp.A | Volatile Uncorr. ECC |\n",
            "| Fan  Temp  Perf  Pwr:Usage/Cap|         Memory-Usage | GPU-Util  Compute M. |\n",
            "|                               |                      |               MIG M. |\n",
            "|===============================+======================+======================|\n",
            "|   0  Tesla T4            Off  | 00000000:00:04.0 Off |                    0 |\n",
            "| N/A   74C    P0    33W /  70W |  14870MiB / 15109MiB |      0%      Default |\n",
            "|                               |                      |                  N/A |\n",
            "+-------------------------------+----------------------+----------------------+\n",
            "                                                                               \n",
            "+-----------------------------------------------------------------------------+\n",
            "| Processes:                                                                  |\n",
            "|  GPU   GI   CI        PID   Type   Process name                  GPU Memory |\n",
            "|        ID   ID                                                   Usage      |\n",
            "|=============================================================================|\n",
            "+-----------------------------------------------------------------------------+\n"
          ],
          "name": "stdout"
        }
      ]
    },
    {
      "cell_type": "code",
      "metadata": {
        "id": "nOpoxkmoC53S"
      },
      "source": [
        "y_preds = model.predict(testImgs)\n",
        "y_preds = (y_preds >= 0.5).astype(np.uint8)"
      ],
      "execution_count": 31,
      "outputs": []
    },
    {
      "cell_type": "code",
      "metadata": {
        "id": "ahENAOaAC7TQ"
      },
      "source": [
        "yPreds = tf.argmax(y_preds, axis=-1)\n",
        "yPreds = yPreds.numpy()"
      ],
      "execution_count": 32,
      "outputs": []
    },
    {
      "cell_type": "code",
      "metadata": {
        "colab": {
          "base_uri": "https://localhost:8080/"
        },
        "id": "LV9Nf0EmC9FD",
        "outputId": "f43a5f7c-a28b-43a6-ebda-5d1e714513a5"
      },
      "source": [
        "# Compute mean of per-class IOU throughout the test images\n",
        "num_classes=12\n",
        "m = UpdatedMeanIoU(num_classes=12)\n",
        "m.update_state(testLabels, y_preds)\n",
        "\n",
        "print(f'Overall mean IOU is : {m.result().numpy()}')\n",
        "\n",
        "# Values is the confusion matrix\n",
        "values = np.array(m.get_weights()).reshape(num_classes, num_classes)"
      ],
      "execution_count": 33,
      "outputs": [
        {
          "output_type": "stream",
          "text": [
            "Overall mean IOU is : 0.6229597926139832\n"
          ],
          "name": "stdout"
        }
      ]
    },
    {
      "cell_type": "code",
      "metadata": {
        "colab": {
          "base_uri": "https://localhost:8080/"
        },
        "id": "IdAHSKZhNfBJ",
        "outputId": "7bb00278-7d01-4591-a90f-13f278c414b3"
      },
      "source": [
        "# compute the mean per-class IOU\n",
        "numClasses = 12\n",
        "\n",
        "classIOU = []\n",
        "\n",
        "for i in range(numClasses):\n",
        "  rowSum = np.sum(values[i,:])\n",
        "  colSum = np.sum(values[:,i])\n",
        "  denom = rowSum + colSum - values[i,i]\n",
        "  iou = values[i,i]/denom\n",
        "  classIOU.append(iou)\n",
        "\n",
        "print(classIOU)\n",
        "perClassIoU = np.array(classIOU)\n",
        "print(np.mean(perClassIoU))"
      ],
      "execution_count": 34,
      "outputs": [
        {
          "output_type": "stream",
          "text": [
            "[0.9905393510265936, 0.7280122604752597, 0.5220941732733225, 0.6395299304104136, 0.5210475002509068, 0.587812616648003, 0.7106931642602163, 0.48563294190414685, 0.0, 0.8659304028444149, 0.5369551655862649, 0.8872697953023037]\n",
            "0.6229597751651538\n"
          ],
          "name": "stdout"
        }
      ]
    },
    {
      "cell_type": "code",
      "metadata": {
        "colab": {
          "base_uri": "https://localhost:8080/",
          "height": 804
        },
        "id": "k_y9pdZBC_oj",
        "outputId": "3003928e-5cb3-4fa0-9361-096b81d8ca13"
      },
      "source": [
        "import matplotlib.pyplot as plt\n",
        "i = 0\n",
        "plt.imshow(yPreds[i])\n",
        "plt.show()\n",
        "\n",
        "print(np.unique(yPreds[i,:,:]))\n",
        "\n",
        "plt.imshow(testLabels[i,:,:,0])\n",
        "plt.show()\n",
        "\n",
        "print(np.unique(testLabels[i,:,:,0]))\n",
        "\n",
        "t = np.linspace(0,11,num=12)\n",
        "plt.plot(t, perClassIoU)\n",
        "plt.show()"
      ],
      "execution_count": 35,
      "outputs": [
        {
          "output_type": "display_data",
          "data": {
            "image/png": "[encoded data removed]",
            "text/plain": [
              "<Figure size 432x288 with 1 Axes>"
            ]
          },
          "metadata": {
            "tags": [],
            "needs_background": "light"
          }
        },
        {
          "output_type": "stream",
          "text": [
            "[ 0  1  9 11]\n"
          ],
          "name": "stdout"
        },
        {
          "output_type": "display_data",
          "data": {
            "image/png": "[encoded data removed]",
            "text/plain": [
              "<Figure size 432x288 with 1 Axes>"
            ]
          },
          "metadata": {
            "tags": [],
            "needs_background": "light"
          }
        },
        {
          "output_type": "stream",
          "text": [
            "[ 0  1  9 11]\n"
          ],
          "name": "stdout"
        },
        {
          "output_type": "display_data",
          "data": {
            "image/png": "[encoded data removed]",
            "text/plain": [
              "<Figure size 432x288 with 1 Axes>"
            ]
          },
          "metadata": {
            "tags": [],
            "needs_background": "light"
          }
        }
      ]
    }
  ]
}