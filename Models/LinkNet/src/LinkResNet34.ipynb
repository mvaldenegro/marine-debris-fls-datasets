{
  "nbformat": 4,
  "nbformat_minor": 0,
  "metadata": {
    "accelerator": "GPU",
    "colab": {
      "name": "LinkResNet34.ipynb",
      "provenance": [],
      "collapsed_sections": []
    },
    "kernelspec": {
      "display_name": "Python 3",
      "name": "python3"
    },
    "language_info": {
      "name": "python"
    }
  },
  "cells": [
    {
      "cell_type": "code",
      "metadata": {
        "id": "GmErIJJtXgxr"
      },
      "source": [
        "# LinkNet with ResNet34 for multiclass semantic segmentation\n",
        "!pip install tensorflow==2.1.0"
      ],
      "execution_count": null,
      "outputs": []
    },
    {
      "cell_type": "code",
      "metadata": {
        "id": "E05RxVTVawRq"
      },
      "source": [
        "!pip install segmentation-models"
      ],
      "execution_count": null,
      "outputs": []
    },
    {
      "cell_type": "code",
      "metadata": {
        "id": "KGcItvZUbw6S",
        "colab": {
          "base_uri": "https://localhost:8080/"
        },
        "outputId": "b9f2256f-a691-4a11-84f9-13c7de7f319a"
      },
      "source": [
        "# mount google drive here\n",
        "from google.colab import drive\n",
        "drive.mount('/content/drive')"
      ],
      "execution_count": 3,
      "outputs": [
        {
          "output_type": "stream",
          "text": [
            "Mounted at /content/drive\n"
          ],
          "name": "stdout"
        }
      ]
    },
    {
      "cell_type": "code",
      "metadata": {
        "id": "OVkZ3Rt_cBIJ",
        "colab": {
          "base_uri": "https://localhost:8080/"
        },
        "outputId": "cfa8b348-eebb-49d6-d485-6838076cfd08"
      },
      "source": [
        "# Fetch the training, validation and testing dataset\n",
        "import os\n",
        "import numpy as np\n",
        "\n",
        "dataPath  = '/content/drive/My Drive/Underwater_Segmentation_Research/Data'\n",
        "\n",
        "trainPath       =  dataPath + '/Train'\n",
        "testPath        =  dataPath + '/Test'\n",
        "valPath         =  dataPath + '/Validate'\n",
        "\n",
        "trainImgsFile   = 'trainingDataImgs.npy'\n",
        "trainLabelsFile = 'trainingDataLabels.npy'\n",
        "\n",
        "testImgsFile    = 'testingDataImgs.npy'\n",
        "testLabelsFile  = 'testingDataLabels.npy'\n",
        "\n",
        "valImgsFile     = 'validationDataImgs.npy'\n",
        "valLabelsFile   = 'validationDataLabels.npy'\n",
        "\n",
        "def getData(path,fileName):\n",
        "  return np.load(path + \"/\" + fileName)\n",
        "\n",
        "trainImgs   = getData(trainPath, trainImgsFile)\n",
        "trainLabels = getData(trainPath, trainLabelsFile)\n",
        "\n",
        "valImgs    = getData(valPath, valImgsFile)\n",
        "valLabels  = getData(valPath, valLabelsFile)\n",
        "\n",
        "print(\"Got train and validation data\")\n",
        "print(trainImgs.shape, valImgs.shape)\n",
        "print(trainLabels.shape, valLabels.shape)"
      ],
      "execution_count": 4,
      "outputs": [
        {
          "output_type": "stream",
          "text": [
            "Got train and validation data\n",
            "(1000, 480, 320, 1) (251, 480, 320, 1)\n",
            "(1000, 480, 320, 1) (251, 480, 320, 1)\n"
          ],
          "name": "stdout"
        }
      ]
    },
    {
      "cell_type": "code",
      "metadata": {
        "id": "UYzc3jDWbN78"
      },
      "source": [
        "# Create the model (without pre-trained ImageNet weights)\n",
        "import os\n",
        "import numpy as np\n",
        "import tensorflow as tf\n",
        "import segmentation_models as sm\n",
        "\n",
        "# create the model\n",
        "model = sm.Linknet('resnet34', input_shape=(480, 320, 1), encoder_weights=None, classes=12, activation='softmax')\n",
        "model.summary()\n"
      ],
      "execution_count": null,
      "outputs": []
    },
    {
      "cell_type": "code",
      "metadata": {
        "id": "i6hfU48-YwYT"
      },
      "source": [
        "class UpdatedMeanIoU(tf.keras.metrics.MeanIoU):\n",
        "  def __init__(self,\n",
        "               y_true=None,\n",
        "               y_pred=None,\n",
        "               num_classes=None,\n",
        "               name=None,\n",
        "               dtype=None):\n",
        "    super(UpdatedMeanIoU, self).__init__(num_classes = num_classes,name=name, dtype=dtype)\n",
        "\n",
        "  def update_state(self, y_true, y_pred, sample_weight=None):\n",
        "    y_pred = tf.math.argmax(y_pred, axis=-1)\n",
        "    return super().update_state(y_true, y_pred, sample_weight)"
      ],
      "execution_count": 6,
      "outputs": []
    },
    {
      "cell_type": "code",
      "metadata": {
        "id": "xrrWR34igCv-"
      },
      "source": [
        "import tensorflow as tf\n",
        "LOSS=tf.keras.losses.SparseCategoricalCrossentropy(from_logits=True)\n",
        "\n",
        "model.compile('Adam',\n",
        "              loss='sparse_categorical_crossentropy',\n",
        "              metrics=['accuracy', UpdatedMeanIoU(num_classes=12)])"
      ],
      "execution_count": 7,
      "outputs": []
    },
    {
      "cell_type": "code",
      "metadata": {
        "id": "t64j7531gnFX"
      },
      "source": [
        "# Setup training parameters\n",
        "BATCH = 16\n",
        "EPOCHS = 30\n",
        "\n",
        "# early stopping callback. It stops training when the loss does not change for 3 consecutive epochs\n",
        "callback = tf.keras.callbacks.EarlyStopping(monitor='loss', patience=3)"
      ],
      "execution_count": 8,
      "outputs": []
    },
    {
      "cell_type": "code",
      "metadata": {
        "id": "BvvTmwzIhBvw",
        "colab": {
          "base_uri": "https://localhost:8080/"
        },
        "outputId": "541d8741-6e93-4339-dbf4-af6ea2df5e0a"
      },
      "source": [
        "# Start training the model\n",
        "history = model.fit(trainImgs, trainLabels, epochs=EPOCHS, batch_size=BATCH, validation_data=(valImgs, valLabels))"
      ],
      "execution_count": 9,
      "outputs": [
        {
          "output_type": "stream",
          "text": [
            "Train on 1000 samples, validate on 251 samples\n",
            "Epoch 1/30\n",
            "1000/1000 [==============================] - 52s 52ms/sample - loss: 0.6894 - accuracy: 0.9002 - updated_mean_io_u: 0.0991 - val_loss: 15.7688 - val_accuracy: 0.0216 - val_updated_mean_io_u: 0.0018\n",
            "Epoch 2/30\n",
            "1000/1000 [==============================] - 34s 34ms/sample - loss: 0.1373 - accuracy: 0.9701 - updated_mean_io_u: 0.1240 - val_loss: 10.6586 - val_accuracy: 0.1436 - val_updated_mean_io_u: 0.0126\n",
            "Epoch 3/30\n",
            "1000/1000 [==============================] - 35s 35ms/sample - loss: 0.1084 - accuracy: 0.9725 - updated_mean_io_u: 0.1351 - val_loss: 1.0157 - val_accuracy: 0.7746 - val_updated_mean_io_u: 0.0709\n",
            "Epoch 4/30\n",
            "1000/1000 [==============================] - 34s 34ms/sample - loss: 0.0983 - accuracy: 0.9723 - updated_mean_io_u: 0.1366 - val_loss: 1.4005 - val_accuracy: 0.7032 - val_updated_mean_io_u: 0.0641\n",
            "Epoch 5/30\n",
            "1000/1000 [==============================] - 35s 35ms/sample - loss: 0.0854 - accuracy: 0.9763 - updated_mean_io_u: 0.1894 - val_loss: 0.1540 - val_accuracy: 0.9533 - val_updated_mean_io_u: 0.1416\n",
            "Epoch 6/30\n",
            "1000/1000 [==============================] - 35s 35ms/sample - loss: 0.0717 - accuracy: 0.9799 - updated_mean_io_u: 0.2269 - val_loss: 0.0968 - val_accuracy: 0.9728 - val_updated_mean_io_u: 0.1988\n",
            "Epoch 7/30\n",
            "1000/1000 [==============================] - 35s 35ms/sample - loss: 0.0647 - accuracy: 0.9810 - updated_mean_io_u: 0.2442 - val_loss: 0.0756 - val_accuracy: 0.9790 - val_updated_mean_io_u: 0.2286\n",
            "Epoch 8/30\n",
            "1000/1000 [==============================] - 35s 35ms/sample - loss: 0.0626 - accuracy: 0.9807 - updated_mean_io_u: 0.2492 - val_loss: 0.0927 - val_accuracy: 0.9781 - val_updated_mean_io_u: 0.2085\n",
            "Epoch 9/30\n",
            "1000/1000 [==============================] - 35s 35ms/sample - loss: 0.0566 - accuracy: 0.9820 - updated_mean_io_u: 0.2585 - val_loss: 0.0764 - val_accuracy: 0.9764 - val_updated_mean_io_u: 0.2354\n",
            "Epoch 10/30\n",
            "1000/1000 [==============================] - 35s 35ms/sample - loss: 0.0568 - accuracy: 0.9811 - updated_mean_io_u: 0.2548 - val_loss: 0.1219 - val_accuracy: 0.9705 - val_updated_mean_io_u: 0.1796\n",
            "Epoch 11/30\n",
            "1000/1000 [==============================] - 35s 35ms/sample - loss: 0.0504 - accuracy: 0.9831 - updated_mean_io_u: 0.2813 - val_loss: 0.0577 - val_accuracy: 0.9830 - val_updated_mean_io_u: 0.2757\n",
            "Epoch 12/30\n",
            "1000/1000 [==============================] - 35s 35ms/sample - loss: 0.0486 - accuracy: 0.9839 - updated_mean_io_u: 0.2936 - val_loss: 0.0485 - val_accuracy: 0.9843 - val_updated_mean_io_u: 0.2964\n",
            "Epoch 13/30\n",
            "1000/1000 [==============================] - 35s 35ms/sample - loss: 0.0441 - accuracy: 0.9847 - updated_mean_io_u: 0.3023 - val_loss: 0.0470 - val_accuracy: 0.9845 - val_updated_mean_io_u: 0.2948\n",
            "Epoch 14/30\n",
            "1000/1000 [==============================] - 35s 35ms/sample - loss: 0.0426 - accuracy: 0.9848 - updated_mean_io_u: 0.3038 - val_loss: 0.0535 - val_accuracy: 0.9823 - val_updated_mean_io_u: 0.2863\n",
            "Epoch 15/30\n",
            "1000/1000 [==============================] - 35s 35ms/sample - loss: 0.0406 - accuracy: 0.9853 - updated_mean_io_u: 0.3142 - val_loss: 0.0457 - val_accuracy: 0.9852 - val_updated_mean_io_u: 0.3108\n",
            "Epoch 16/30\n",
            "1000/1000 [==============================] - 35s 35ms/sample - loss: 0.0388 - accuracy: 0.9857 - updated_mean_io_u: 0.3332 - val_loss: 0.0423 - val_accuracy: 0.9852 - val_updated_mean_io_u: 0.3246\n",
            "Epoch 17/30\n",
            "1000/1000 [==============================] - 35s 35ms/sample - loss: 0.0371 - accuracy: 0.9864 - updated_mean_io_u: 0.3542 - val_loss: 0.0427 - val_accuracy: 0.9847 - val_updated_mean_io_u: 0.3385\n",
            "Epoch 18/30\n",
            "1000/1000 [==============================] - 35s 35ms/sample - loss: 0.0351 - accuracy: 0.9872 - updated_mean_io_u: 0.3836 - val_loss: 0.0395 - val_accuracy: 0.9861 - val_updated_mean_io_u: 0.3469\n",
            "Epoch 19/30\n",
            "1000/1000 [==============================] - 35s 35ms/sample - loss: 0.0333 - accuracy: 0.9877 - updated_mean_io_u: 0.4253 - val_loss: 0.0361 - val_accuracy: 0.9877 - val_updated_mean_io_u: 0.4712\n",
            "Epoch 20/30\n",
            "1000/1000 [==============================] - 35s 35ms/sample - loss: 0.0320 - accuracy: 0.9888 - updated_mean_io_u: 0.5088 - val_loss: 0.0797 - val_accuracy: 0.9793 - val_updated_mean_io_u: 0.3727\n",
            "Epoch 21/30\n",
            "1000/1000 [==============================] - 35s 35ms/sample - loss: 0.0361 - accuracy: 0.9875 - updated_mean_io_u: 0.4919 - val_loss: 0.0574 - val_accuracy: 0.9829 - val_updated_mean_io_u: 0.4563\n",
            "Epoch 22/30\n",
            "1000/1000 [==============================] - 35s 35ms/sample - loss: 0.0324 - accuracy: 0.9886 - updated_mean_io_u: 0.5434 - val_loss: 0.0347 - val_accuracy: 0.9884 - val_updated_mean_io_u: 0.5859\n",
            "Epoch 23/30\n",
            "1000/1000 [==============================] - 35s 35ms/sample - loss: 0.0278 - accuracy: 0.9900 - updated_mean_io_u: 0.5948 - val_loss: 0.0393 - val_accuracy: 0.9863 - val_updated_mean_io_u: 0.5281\n",
            "Epoch 24/30\n",
            "1000/1000 [==============================] - 35s 35ms/sample - loss: 0.0251 - accuracy: 0.9908 - updated_mean_io_u: 0.6259 - val_loss: 0.0308 - val_accuracy: 0.9895 - val_updated_mean_io_u: 0.5992\n",
            "Epoch 25/30\n",
            "1000/1000 [==============================] - 35s 35ms/sample - loss: 0.0262 - accuracy: 0.9903 - updated_mean_io_u: 0.6449 - val_loss: 0.0322 - val_accuracy: 0.9899 - val_updated_mean_io_u: 0.6175\n",
            "Epoch 26/30\n",
            "1000/1000 [==============================] - 35s 35ms/sample - loss: 0.0261 - accuracy: 0.9905 - updated_mean_io_u: 0.6547 - val_loss: 0.0297 - val_accuracy: 0.9905 - val_updated_mean_io_u: 0.6127\n",
            "Epoch 27/30\n",
            "1000/1000 [==============================] - 35s 35ms/sample - loss: 0.0242 - accuracy: 0.9911 - updated_mean_io_u: 0.6721 - val_loss: 0.0287 - val_accuracy: 0.9905 - val_updated_mean_io_u: 0.6965\n",
            "Epoch 28/30\n",
            "1000/1000 [==============================] - 35s 35ms/sample - loss: 0.0236 - accuracy: 0.9913 - updated_mean_io_u: 0.7081 - val_loss: 0.0301 - val_accuracy: 0.9904 - val_updated_mean_io_u: 0.6635\n",
            "Epoch 29/30\n",
            "1000/1000 [==============================] - 35s 35ms/sample - loss: 0.0231 - accuracy: 0.9913 - updated_mean_io_u: 0.7053 - val_loss: 0.0307 - val_accuracy: 0.9899 - val_updated_mean_io_u: 0.6547\n",
            "Epoch 30/30\n",
            "1000/1000 [==============================] - 35s 35ms/sample - loss: 0.0222 - accuracy: 0.9917 - updated_mean_io_u: 0.7259 - val_loss: 0.0282 - val_accuracy: 0.9910 - val_updated_mean_io_u: 0.7039\n"
          ],
          "name": "stdout"
        }
      ]
    },
    {
      "cell_type": "code",
      "metadata": {
        "id": "5ymxrY3gpSBh",
        "colab": {
          "base_uri": "https://localhost:8080/",
          "height": 300
        },
        "outputId": "05d97a24-bbce-4ec2-f07a-2e6e304c9aad"
      },
      "source": [
        "#  Plot the results\n",
        "print(history.history.keys())\n",
        "\n",
        "import matplotlib.pyplot as plt\n",
        "plt.plot(history.history['accuracy'])\n",
        "plt.plot(history.history['val_accuracy'])"
      ],
      "execution_count": 10,
      "outputs": [
        {
          "output_type": "stream",
          "text": [
            "dict_keys(['loss', 'accuracy', 'updated_mean_io_u', 'val_loss', 'val_accuracy', 'val_updated_mean_io_u'])\n"
          ],
          "name": "stdout"
        },
        {
          "output_type": "execute_result",
          "data": {
            "text/plain": [
              "[<matplotlib.lines.Line2D at 0x7f2935510890>]"
            ]
          },
          "metadata": {
            "tags": []
          },
          "execution_count": 10
        },
        {
          "output_type": "display_data",
          "data": {
            "image/png": "[encoded data removed]",
            "text/plain": [
              "<Figure size 432x288 with 1 Axes>"
            ]
          },
          "metadata": {
            "tags": [],
            "needs_background": "light"
          }
        }
      ]
    },
    {
      "cell_type": "code",
      "metadata": {
        "id": "7TkEl5zMstfh",
        "outputId": "97f8cb70-626d-41bd-b94d-2c144679d3fb",
        "colab": {
          "base_uri": "https://localhost:8080/",
          "height": 282
        }
      },
      "source": [
        "plt.plot(history.history['loss'])\n",
        "plt.plot(history.history['val_loss'])"
      ],
      "execution_count": 11,
      "outputs": [
        {
          "output_type": "execute_result",
          "data": {
            "text/plain": [
              "[<matplotlib.lines.Line2D at 0x7f293505dc90>]"
            ]
          },
          "metadata": {
            "tags": []
          },
          "execution_count": 11
        },
        {
          "output_type": "display_data",
          "data": {
            "image/png": "[encoded data removed]",
            "text/plain": [
              "<Figure size 432x288 with 1 Axes>"
            ]
          },
          "metadata": {
            "tags": [],
            "needs_background": "light"
          }
        }
      ]
    },
    {
      "cell_type": "code",
      "metadata": {
        "id": "BOfjAUaKp213",
        "colab": {
          "base_uri": "https://localhost:8080/",
          "height": 282
        },
        "outputId": "3ccbdb06-25af-4441-835a-d7a7fbacb1d3"
      },
      "source": [
        "plt.plot(history.history['updated_mean_io_u'])\n",
        "plt.plot(history.history['val_updated_mean_io_u'])"
      ],
      "execution_count": 12,
      "outputs": [
        {
          "output_type": "execute_result",
          "data": {
            "text/plain": [
              "[<matplotlib.lines.Line2D at 0x7f2934fd9b10>]"
            ]
          },
          "metadata": {
            "tags": []
          },
          "execution_count": 12
        },
        {
          "output_type": "display_data",
          "data": {
            "image/png": "[encoded data removed]",
            "text/plain": [
              "<Figure size 432x288 with 1 Axes>"
            ]
          },
          "metadata": {
            "tags": [],
            "needs_background": "light"
          }
        }
      ]
    },
    {
      "cell_type": "code",
      "metadata": {
        "id": "xIs9nAuXJX8F"
      },
      "source": [
        "# get the testdata\n",
        "testImgs   = getData(testPath, testImgsFile)\n",
        "testLabels = getData(testPath, testLabelsFile)"
      ],
      "execution_count": 13,
      "outputs": []
    },
    {
      "cell_type": "code",
      "metadata": {
        "id": "cJg2fDdHqDEr",
        "colab": {
          "base_uri": "https://localhost:8080/"
        },
        "outputId": "e51fa39b-b2e2-4bcc-9e6f-71a346cfa8df"
      },
      "source": [
        "model.evaluate(testImgs, testLabels)"
      ],
      "execution_count": 14,
      "outputs": [
        {
          "output_type": "stream",
          "text": [
            "617/617 [==============================] - 9s 15ms/sample - loss: 0.0273 - accuracy: 0.9912 - updated_mean_io_u: 0.7192\n"
          ],
          "name": "stdout"
        },
        {
          "output_type": "execute_result",
          "data": {
            "text/plain": [
              "[0.027268849989486862, 0.99119395, 0.71922165]"
            ]
          },
          "metadata": {
            "tags": []
          },
          "execution_count": 14
        }
      ]
    },
    {
      "cell_type": "code",
      "metadata": {
        "id": "4kBp5pC4qe3j"
      },
      "source": [
        "# save the model weights\n",
        "weightFileName = \"LinkResNet34_30e_16b.h5\"\n",
        "weightPath = '/content/drive/My Drive/Underwater_Segmentation_Research/Weights/LinkNet'\n",
        "model.save_weights(weightPath + \"/\" + weightFileName)\n"
      ],
      "execution_count": 15,
      "outputs": []
    },
    {
      "cell_type": "code",
      "metadata": {
        "id": "O0ktWQ4lsyxv"
      },
      "source": [
        "model.load_weights(weightPath + \"/\" + weightFileName)\n",
        "model.evaluate(testImgs, testLabels)"
      ],
      "execution_count": null,
      "outputs": []
    },
    {
      "cell_type": "code",
      "metadata": {
        "id": "SF0gF5Otuac9"
      },
      "source": [
        "modelFileName = \"LinkResNet34_30e_16b\"\n",
        "modelPath     = '/content/drive/My Drive/Underwater_Segmentation_Research/Models/LinkNet'\n",
        "model.save(modelPath + \"/\" + modelFileName)"
      ],
      "execution_count": null,
      "outputs": []
    },
    {
      "cell_type": "code",
      "metadata": {
        "id": "8g2JByQRvjc3",
        "colab": {
          "base_uri": "https://localhost:8080/"
        },
        "outputId": "01f97b50-3cfe-4c28-e86a-6af24c0155a8"
      },
      "source": [
        "# Check the GPU configuration\n",
        "!nvidia-smi"
      ],
      "execution_count": 18,
      "outputs": [
        {
          "output_type": "stream",
          "text": [
            "Wed May 26 08:22:19 2021       \n",
            "+-----------------------------------------------------------------------------+\n",
            "| NVIDIA-SMI 465.19.01    Driver Version: 460.32.03    CUDA Version: 11.2     |\n",
            "|-------------------------------+----------------------+----------------------+\n",
            "| GPU  Name        Persistence-M| Bus-Id        Disp.A | Volatile Uncorr. ECC |\n",
            "| Fan  Temp  Perf  Pwr:Usage/Cap|         Memory-Usage | GPU-Util  Compute M. |\n",
            "|                               |                      |               MIG M. |\n",
            "|===============================+======================+======================|\n",
            "|   0  Tesla T4            Off  | 00000000:00:04.0 Off |                    0 |\n",
            "| N/A   74C    P0    33W /  70W |   8802MiB / 15109MiB |      0%      Default |\n",
            "|                               |                      |                  N/A |\n",
            "+-------------------------------+----------------------+----------------------+\n",
            "                                                                               \n",
            "+-----------------------------------------------------------------------------+\n",
            "| Processes:                                                                  |\n",
            "|  GPU   GI   CI        PID   Type   Process name                  GPU Memory |\n",
            "|        ID   ID                                                   Usage      |\n",
            "|=============================================================================|\n",
            "+-----------------------------------------------------------------------------+\n"
          ],
          "name": "stdout"
        }
      ]
    },
    {
      "cell_type": "code",
      "metadata": {
        "id": "8Ky0ILN0Yuna"
      },
      "source": [
        "y_preds = model.predict(testImgs)\n",
        "y_preds = (y_preds >= 0.5).astype(np.uint8)"
      ],
      "execution_count": 19,
      "outputs": []
    },
    {
      "cell_type": "code",
      "metadata": {
        "id": "kL9yioLTxP6W"
      },
      "source": [
        "yPreds = tf.argmax(y_preds, axis=-1)\n",
        "yPreds = yPreds.numpy()"
      ],
      "execution_count": 21,
      "outputs": []
    },
    {
      "cell_type": "code",
      "metadata": {
        "id": "p1uTFgSjY3nU",
        "colab": {
          "base_uri": "https://localhost:8080/"
        },
        "outputId": "3ee6b05a-1271-4d50-9fe5-2a74cde591c0"
      },
      "source": [
        "# Compute mean of per-class IOU throughout the test images\n",
        "num_classes=12\n",
        "m = UpdatedMeanIoU(num_classes=12)\n",
        "m.update_state(testLabels, y_preds)\n",
        "\n",
        "print(f'Overall mean IOU is : {m.result().numpy()}')\n",
        "\n",
        "# Values is the confusion matrix\n",
        "values = np.array(m.get_weights()).reshape(num_classes, num_classes)"
      ],
      "execution_count": 20,
      "outputs": [
        {
          "output_type": "stream",
          "text": [
            "Overall mean IOU is : 0.7195343375205994\n"
          ],
          "name": "stdout"
        }
      ]
    },
    {
      "cell_type": "code",
      "metadata": {
        "id": "JVc0rYRGY5xf",
        "colab": {
          "base_uri": "https://localhost:8080/"
        },
        "outputId": "4507cdb7-9edb-4af4-b89d-f50ad630ed6e"
      },
      "source": [
        "# compute the mean per-class IOU\n",
        "numClasses = 12\n",
        "\n",
        "classIOU = []\n",
        "\n",
        "for i in range(numClasses):\n",
        "  rowSum = np.sum(values[i,:])\n",
        "  colSum = np.sum(values[:,i])\n",
        "  denom = rowSum + colSum - values[i,i]\n",
        "  iou = values[i,i]/denom\n",
        "  classIOU.append(iou)\n",
        "\n",
        "print(classIOU)\n",
        "perClassIoU = np.array(classIOU)\n",
        "print(np.mean(perClassIoU))\n"
      ],
      "execution_count": 22,
      "outputs": [
        {
          "output_type": "stream",
          "text": [
            "[0.9913324496164345, 0.7764589729958447, 0.5620274102079396, 0.6465104541074624, 0.6737723873253296, 0.6930839370021984, 0.7213022857048643, 0.6950319335330357, 0.7065265981224854, 0.8838150987861279, 0.40318052655003594, 0.881369778363909]\n",
            "0.7195343193596391\n"
          ],
          "name": "stdout"
        }
      ]
    },
    {
      "cell_type": "code",
      "metadata": {
        "id": "vl0-DjZdY-ao",
        "colab": {
          "base_uri": "https://localhost:8080/",
          "height": 804
        },
        "outputId": "eb8c26a2-799e-4db4-ae13-7aee0f672a0f"
      },
      "source": [
        "import matplotlib.pyplot as plt\n",
        "i = 80\n",
        "plt.imshow(yPreds[i])\n",
        "plt.show()\n",
        "\n",
        "print(np.unique(yPreds[i,:,:]))\n",
        "\n",
        "plt.imshow(testLabels[i,:,:,0])\n",
        "plt.show()\n",
        "\n",
        "print(np.unique(testLabels[i,:,:,0]))\n",
        "\n",
        "t = np.linspace(0,11,num=12)\n",
        "plt.plot(t, perClassIoU)\n",
        "plt.show()"
      ],
      "execution_count": 27,
      "outputs": [
        {
          "output_type": "display_data",
          "data": {
            "image/png": "[encoded data removed]",
            "text/plain": [
              "<Figure size 432x288 with 1 Axes>"
            ]
          },
          "metadata": {
            "tags": [],
            "needs_background": "light"
          }
        },
        {
          "output_type": "stream",
          "text": [
            "[ 0  2 11]\n"
          ],
          "name": "stdout"
        },
        {
          "output_type": "display_data",
          "data": {
            "image/png": "[encoded data removed]",
            "text/plain": [
              "<Figure size 432x288 with 1 Axes>"
            ]
          },
          "metadata": {
            "tags": [],
            "needs_background": "light"
          }
        },
        {
          "output_type": "stream",
          "text": [
            "[ 0  2  6 11]\n"
          ],
          "name": "stdout"
        },
        {
          "output_type": "display_data",
          "data": {
            "image/png": "[encoded data removed]",
            "text/plain": [
              "<Figure size 432x288 with 1 Axes>"
            ]
          },
          "metadata": {
            "tags": [],
            "needs_background": "light"
          }
        }
      ]
    }
  ]
}