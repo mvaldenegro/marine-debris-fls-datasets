{
  "nbformat": 4,
  "nbformat_minor": 0,
  "metadata": {
    "colab": {
      "name": "LinkResNet50.ipynb",
      "provenance": []
    },
    "kernelspec": {
      "name": "python3",
      "display_name": "Python 3"
    },
    "language_info": {
      "name": "python"
    },
    "accelerator": "GPU"
  },
  "cells": [
    {
      "cell_type": "code",
      "metadata": {
        "id": "Gx8DkQO-r131"
      },
      "source": [
        "# LinkNet with ResNet34 for multiclass semantic segmentation\n",
        "!pip install tensorflow==2.1.0"
      ],
      "execution_count": null,
      "outputs": []
    },
    {
      "cell_type": "code",
      "metadata": {
        "id": "cQ_Ib4CjsXeH"
      },
      "source": [
        "!pip install segmentation-models"
      ],
      "execution_count": null,
      "outputs": []
    },
    {
      "cell_type": "code",
      "metadata": {
        "colab": {
          "base_uri": "https://localhost:8080/"
        },
        "id": "_jeOmCF8sa1d",
        "outputId": "0b880528-b675-48cd-8e41-65b575a6048f"
      },
      "source": [
        "# mount google drive here\n",
        "from google.colab import drive\n",
        "drive.mount('/content/drive')"
      ],
      "execution_count": 3,
      "outputs": [
        {
          "output_type": "stream",
          "text": [
            "Mounted at /content/drive\n"
          ],
          "name": "stdout"
        }
      ]
    },
    {
      "cell_type": "code",
      "metadata": {
        "colab": {
          "base_uri": "https://localhost:8080/"
        },
        "id": "oBqlzZVisdN8",
        "outputId": "f03beb7d-6515-43f4-c8f1-17a9c4dec8e1"
      },
      "source": [
        "# Fetch the training, validation and testing dataset\n",
        "import os\n",
        "import numpy as np\n",
        "\n",
        "dataPath  = '/content/drive/My Drive/Underwater_Segmentation_Research/Data'\n",
        "\n",
        "trainPath       =  dataPath + '/Train'\n",
        "testPath        =  dataPath + '/Test'\n",
        "valPath         =  dataPath + '/Validate'\n",
        "\n",
        "trainImgsFile   = 'trainingDataImgs.npy'\n",
        "trainLabelsFile = 'trainingDataLabels.npy'\n",
        "\n",
        "testImgsFile    = 'testingDataImgs.npy'\n",
        "testLabelsFile  = 'testingDataLabels.npy'\n",
        "\n",
        "valImgsFile     = 'validationDataImgs.npy'\n",
        "valLabelsFile   = 'validationDataLabels.npy'\n",
        "\n",
        "testImgs = None\n",
        "testLabels = None\n",
        "\n",
        "def getData(path,fileName):\n",
        "  return np.load(path + \"/\" + fileName)\n",
        "\n",
        "trainImgs   = getData(trainPath, trainImgsFile)\n",
        "trainLabels = getData(trainPath, trainLabelsFile)\n",
        "\n",
        "valImgs    = getData(valPath, valImgsFile)\n",
        "valLabels  = getData(valPath, valLabelsFile)\n",
        "\n",
        "print(\"Got train and validation data\")\n",
        "print(trainImgs.shape, valImgs.shape)\n",
        "print(trainLabels.shape, valLabels.shape)"
      ],
      "execution_count": 1,
      "outputs": [
        {
          "output_type": "stream",
          "text": [
            "Got train and validation data\n",
            "(1000, 480, 320, 1) (251, 480, 320, 1)\n",
            "(1000, 480, 320, 1) (251, 480, 320, 1)\n"
          ],
          "name": "stdout"
        }
      ]
    },
    {
      "cell_type": "code",
      "metadata": {
        "id": "RlM0LuF_sfsD"
      },
      "source": [
        "# Create the model (without pre-trained ImageNet weights)\n",
        "import os\n",
        "import numpy as np\n",
        "import tensorflow as tf\n",
        "import segmentation_models as sm\n",
        "\n",
        "# create the model\n",
        "model = sm.Linknet('resnet50', input_shape=(480, 320, 1), encoder_weights=None, classes=12, activation='softmax')\n",
        "model.summary()\n"
      ],
      "execution_count": null,
      "outputs": []
    },
    {
      "cell_type": "code",
      "metadata": {
        "id": "2Zx9SsOWsh5C"
      },
      "source": [
        "class UpdatedMeanIoU(tf.keras.metrics.MeanIoU):\n",
        "  def __init__(self,\n",
        "               y_true=None,\n",
        "               y_pred=None,\n",
        "               num_classes=None,\n",
        "               name=None,\n",
        "               dtype=None):\n",
        "    super(UpdatedMeanIoU, self).__init__(num_classes = num_classes,name=name, dtype=dtype)\n",
        "\n",
        "  def update_state(self, y_true, y_pred, sample_weight=None):\n",
        "    y_pred = tf.math.argmax(y_pred, axis=-1)\n",
        "    return super().update_state(y_true, y_pred, sample_weight)"
      ],
      "execution_count": 10,
      "outputs": []
    },
    {
      "cell_type": "code",
      "metadata": {
        "id": "iyRyZqJkskDF"
      },
      "source": [
        "import tensorflow as tf\n",
        "LOSS=tf.keras.losses.SparseCategoricalCrossentropy(from_logits=True)\n",
        "\n",
        "model.compile('Adam',\n",
        "              loss='sparse_categorical_crossentropy',\n",
        "              metrics=['accuracy', UpdatedMeanIoU(num_classes=12)])"
      ],
      "execution_count": 11,
      "outputs": []
    },
    {
      "cell_type": "code",
      "metadata": {
        "id": "yCwiFNVssmQ5"
      },
      "source": [
        "# Setup training parameters\n",
        "BATCH = 16\n",
        "EPOCHS = 30\n",
        "\n",
        "# early stopping callback. It stops training when the loss does not change for 3 consecutive epochs\n",
        "callback = tf.keras.callbacks.EarlyStopping(monitor='loss', patience=3)"
      ],
      "execution_count": 12,
      "outputs": []
    },
    {
      "cell_type": "code",
      "metadata": {
        "colab": {
          "base_uri": "https://localhost:8080/"
        },
        "id": "kA3NCAuhsoAa",
        "outputId": "5d32347f-91f2-4d48-e616-3a29634cacaf"
      },
      "source": [
        "# Start training the model\n",
        "history = model.fit(trainImgs, trainLabels, epochs=EPOCHS, batch_size=BATCH, validation_data=(valImgs, valLabels))"
      ],
      "execution_count": 13,
      "outputs": [
        {
          "output_type": "stream",
          "text": [
            "Train on 1000 samples, validate on 251 samples\n",
            "Epoch 1/30\n",
            "1000/1000 [==============================] - 148s 148ms/sample - loss: 0.6903 - accuracy: 0.8666 - updated_mean_io_u_1: 0.1047 - val_loss: 15.7472 - val_accuracy: 0.0229 - val_updated_mean_io_u_1: 0.0019\n",
            "Epoch 2/30\n",
            "1000/1000 [==============================] - 122s 122ms/sample - loss: 0.1230 - accuracy: 0.9720 - updated_mean_io_u_1: 0.1390 - val_loss: 3.4989 - val_accuracy: 0.6742 - val_updated_mean_io_u_1: 0.0574\n",
            "Epoch 3/30\n",
            "1000/1000 [==============================] - 122s 122ms/sample - loss: 0.0960 - accuracy: 0.9755 - updated_mean_io_u_1: 0.1868 - val_loss: 1.2223 - val_accuracy: 0.7391 - val_updated_mean_io_u_1: 0.0696\n",
            "Epoch 4/30\n",
            "1000/1000 [==============================] - 122s 122ms/sample - loss: 0.0797 - accuracy: 0.9782 - updated_mean_io_u_1: 0.2032 - val_loss: 0.2815 - val_accuracy: 0.9053 - val_updated_mean_io_u_1: 0.1331\n",
            "Epoch 5/30\n",
            "1000/1000 [==============================] - 122s 122ms/sample - loss: 0.0709 - accuracy: 0.9798 - updated_mean_io_u_1: 0.2344 - val_loss: 0.2100 - val_accuracy: 0.9476 - val_updated_mean_io_u_1: 0.1323\n",
            "Epoch 6/30\n",
            "1000/1000 [==============================] - 122s 122ms/sample - loss: 0.0606 - accuracy: 0.9827 - updated_mean_io_u_1: 0.2812 - val_loss: 0.0834 - val_accuracy: 0.9769 - val_updated_mean_io_u_1: 0.2562\n",
            "Epoch 7/30\n",
            "1000/1000 [==============================] - 122s 122ms/sample - loss: 0.0537 - accuracy: 0.9835 - updated_mean_io_u_1: 0.2903 - val_loss: 0.2045 - val_accuracy: 0.9357 - val_updated_mean_io_u_1: 0.2162\n",
            "Epoch 8/30\n",
            "1000/1000 [==============================] - 122s 122ms/sample - loss: 0.0557 - accuracy: 0.9825 - updated_mean_io_u_1: 0.2886 - val_loss: 0.3408 - val_accuracy: 0.9539 - val_updated_mean_io_u_1: 0.1094\n",
            "Epoch 9/30\n",
            "1000/1000 [==============================] - 122s 122ms/sample - loss: 0.0479 - accuracy: 0.9845 - updated_mean_io_u_1: 0.3241 - val_loss: 0.0847 - val_accuracy: 0.9722 - val_updated_mean_io_u_1: 0.3330\n",
            "Epoch 10/30\n",
            "1000/1000 [==============================] - 122s 122ms/sample - loss: 0.0419 - accuracy: 0.9864 - updated_mean_io_u_1: 0.3716 - val_loss: 0.0584 - val_accuracy: 0.9829 - val_updated_mean_io_u_1: 0.3290\n",
            "Epoch 11/30\n",
            "1000/1000 [==============================] - 122s 122ms/sample - loss: 0.0394 - accuracy: 0.9870 - updated_mean_io_u_1: 0.3997 - val_loss: 0.2088 - val_accuracy: 0.9390 - val_updated_mean_io_u_1: 0.2447\n",
            "Epoch 12/30\n",
            "1000/1000 [==============================] - 122s 122ms/sample - loss: 0.0357 - accuracy: 0.9878 - updated_mean_io_u_1: 0.4123 - val_loss: 0.0453 - val_accuracy: 0.9865 - val_updated_mean_io_u_1: 0.3881\n",
            "Epoch 13/30\n",
            "1000/1000 [==============================] - 122s 122ms/sample - loss: 0.0344 - accuracy: 0.9878 - updated_mean_io_u_1: 0.4226 - val_loss: 0.0614 - val_accuracy: 0.9826 - val_updated_mean_io_u_1: 0.3904\n",
            "Epoch 14/30\n",
            "1000/1000 [==============================] - 122s 122ms/sample - loss: 0.0345 - accuracy: 0.9882 - updated_mean_io_u_1: 0.4705 - val_loss: 0.0550 - val_accuracy: 0.9825 - val_updated_mean_io_u_1: 0.3788\n",
            "Epoch 15/30\n",
            "1000/1000 [==============================] - 122s 122ms/sample - loss: 0.0317 - accuracy: 0.9887 - updated_mean_io_u_1: 0.5073 - val_loss: 0.0591 - val_accuracy: 0.9801 - val_updated_mean_io_u_1: 0.4567\n",
            "Epoch 16/30\n",
            "1000/1000 [==============================] - 122s 122ms/sample - loss: 0.0295 - accuracy: 0.9897 - updated_mean_io_u_1: 0.5725 - val_loss: 0.0401 - val_accuracy: 0.9881 - val_updated_mean_io_u_1: 0.5258\n",
            "Epoch 17/30\n",
            "1000/1000 [==============================] - 122s 122ms/sample - loss: 0.0259 - accuracy: 0.9909 - updated_mean_io_u_1: 0.6159 - val_loss: 0.0375 - val_accuracy: 0.9894 - val_updated_mean_io_u_1: 0.5492\n",
            "Epoch 18/30\n",
            "1000/1000 [==============================] - 122s 122ms/sample - loss: 0.0239 - accuracy: 0.9917 - updated_mean_io_u_1: 0.6435 - val_loss: 0.0329 - val_accuracy: 0.9897 - val_updated_mean_io_u_1: 0.6039\n",
            "Epoch 19/30\n",
            "1000/1000 [==============================] - 122s 122ms/sample - loss: 0.0231 - accuracy: 0.9917 - updated_mean_io_u_1: 0.6584 - val_loss: 0.0388 - val_accuracy: 0.9893 - val_updated_mean_io_u_1: 0.5824\n",
            "Epoch 20/30\n",
            "1000/1000 [==============================] - 122s 122ms/sample - loss: 0.0246 - accuracy: 0.9912 - updated_mean_io_u_1: 0.6362 - val_loss: 0.0362 - val_accuracy: 0.9891 - val_updated_mean_io_u_1: 0.5547\n",
            "Epoch 21/30\n",
            "1000/1000 [==============================] - 122s 122ms/sample - loss: 0.0214 - accuracy: 0.9922 - updated_mean_io_u_1: 0.6906 - val_loss: 0.0352 - val_accuracy: 0.9900 - val_updated_mean_io_u_1: 0.6133\n",
            "Epoch 22/30\n",
            "1000/1000 [==============================] - 122s 122ms/sample - loss: 0.0184 - accuracy: 0.9932 - updated_mean_io_u_1: 0.7252 - val_loss: 0.0318 - val_accuracy: 0.9908 - val_updated_mean_io_u_1: 0.6395\n",
            "Epoch 23/30\n",
            "1000/1000 [==============================] - 122s 122ms/sample - loss: 0.0174 - accuracy: 0.9935 - updated_mean_io_u_1: 0.7173 - val_loss: 0.0335 - val_accuracy: 0.9902 - val_updated_mean_io_u_1: 0.6373\n",
            "Epoch 24/30\n",
            "1000/1000 [==============================] - 122s 122ms/sample - loss: 0.0182 - accuracy: 0.9932 - updated_mean_io_u_1: 0.7290 - val_loss: 0.0365 - val_accuracy: 0.9895 - val_updated_mean_io_u_1: 0.6774\n",
            "Epoch 25/30\n",
            "1000/1000 [==============================] - 122s 122ms/sample - loss: 0.0199 - accuracy: 0.9926 - updated_mean_io_u_1: 0.7232 - val_loss: 0.0502 - val_accuracy: 0.9878 - val_updated_mean_io_u_1: 0.5637\n",
            "Epoch 26/30\n",
            "1000/1000 [==============================] - 122s 122ms/sample - loss: 0.0206 - accuracy: 0.9926 - updated_mean_io_u_1: 0.7128 - val_loss: 0.0813 - val_accuracy: 0.9747 - val_updated_mean_io_u_1: 0.5526\n",
            "Epoch 27/30\n",
            "1000/1000 [==============================] - 122s 122ms/sample - loss: 0.0231 - accuracy: 0.9917 - updated_mean_io_u_1: 0.6894 - val_loss: 0.1418 - val_accuracy: 0.9680 - val_updated_mean_io_u_1: 0.2906\n",
            "Epoch 28/30\n",
            "1000/1000 [==============================] - 122s 122ms/sample - loss: 0.0262 - accuracy: 0.9905 - updated_mean_io_u_1: 0.6907 - val_loss: 0.0890 - val_accuracy: 0.9761 - val_updated_mean_io_u_1: 0.4577\n",
            "Epoch 29/30\n",
            "1000/1000 [==============================] - 122s 122ms/sample - loss: 0.0186 - accuracy: 0.9931 - updated_mean_io_u_1: 0.7554 - val_loss: 0.0317 - val_accuracy: 0.9904 - val_updated_mean_io_u_1: 0.7111\n",
            "Epoch 30/30\n",
            "1000/1000 [==============================] - 122s 122ms/sample - loss: 0.0162 - accuracy: 0.9939 - updated_mean_io_u_1: 0.7955 - val_loss: 0.0535 - val_accuracy: 0.9860 - val_updated_mean_io_u_1: 0.6644\n"
          ],
          "name": "stdout"
        }
      ]
    },
    {
      "cell_type": "code",
      "metadata": {
        "colab": {
          "base_uri": "https://localhost:8080/",
          "height": 300
        },
        "id": "qJ0mZEEpsprs",
        "outputId": "0dfa1f01-61c3-4ab7-d7e7-1002f62eca51"
      },
      "source": [
        "#  Plot the results\n",
        "print(history.history.keys())\n",
        "\n",
        "import matplotlib.pyplot as plt\n",
        "plt.plot(history.history['accuracy'])\n",
        "plt.plot(history.history['val_accuracy'])"
      ],
      "execution_count": 14,
      "outputs": [
        {
          "output_type": "stream",
          "text": [
            "dict_keys(['loss', 'accuracy', 'updated_mean_io_u_1', 'val_loss', 'val_accuracy', 'val_updated_mean_io_u_1'])\n"
          ],
          "name": "stdout"
        },
        {
          "output_type": "execute_result",
          "data": {
            "text/plain": [
              "[<matplotlib.lines.Line2D at 0x7fcab546d550>]"
            ]
          },
          "metadata": {
            "tags": []
          },
          "execution_count": 14
        },
        {
          "output_type": "display_data",
          "data": {
            "image/png": "[encoded data removed]",
            "text/plain": [
              "<Figure size 432x288 with 1 Axes>"
            ]
          },
          "metadata": {
            "tags": [],
            "needs_background": "light"
          }
        }
      ]
    },
    {
      "cell_type": "code",
      "metadata": {
        "colab": {
          "base_uri": "https://localhost:8080/",
          "height": 282
        },
        "id": "NNKh2pnZs1Rv",
        "outputId": "636a0ca4-544d-43fe-d720-033d501a3038"
      },
      "source": [
        "plt.plot(history.history['loss'])\n",
        "plt.plot(history.history['val_loss'])"
      ],
      "execution_count": 15,
      "outputs": [
        {
          "output_type": "execute_result",
          "data": {
            "text/plain": [
              "[<matplotlib.lines.Line2D at 0x7fcab4fc3a10>]"
            ]
          },
          "metadata": {
            "tags": []
          },
          "execution_count": 15
        },
        {
          "output_type": "display_data",
          "data": {
            "image/png": "[encoded data removed]",
            "text/plain": [
              "<Figure size 432x288 with 1 Axes>"
            ]
          },
          "metadata": {
            "tags": [],
            "needs_background": "light"
          }
        }
      ]
    },
    {
      "cell_type": "code",
      "metadata": {
        "colab": {
          "base_uri": "https://localhost:8080/",
          "height": 282
        },
        "id": "6meBD905tAbT",
        "outputId": "f50a6292-20c5-46cc-fc56-f4d8c196a230"
      },
      "source": [
        "plt.plot(history.history['updated_mean_io_u_1'])\n",
        "plt.plot(history.history['val_updated_mean_io_u_1'])"
      ],
      "execution_count": 17,
      "outputs": [
        {
          "output_type": "execute_result",
          "data": {
            "text/plain": [
              "[<matplotlib.lines.Line2D at 0x7fcab4f4e490>]"
            ]
          },
          "metadata": {
            "tags": []
          },
          "execution_count": 17
        },
        {
          "output_type": "display_data",
          "data": {
            "image/png": "[encoded data removed]",
            "text/plain": [
              "<Figure size 432x288 with 1 Axes>"
            ]
          },
          "metadata": {
            "tags": [],
            "needs_background": "light"
          }
        }
      ]
    },
    {
      "cell_type": "code",
      "metadata": {
        "id": "xuakchX_tCCV"
      },
      "source": [
        "# get the testdata\n",
        "testImgs   = getData(testPath, testImgsFile)\n",
        "testLabels = getData(testPath, testLabelsFile)"
      ],
      "execution_count": 18,
      "outputs": []
    },
    {
      "cell_type": "code",
      "metadata": {
        "id": "ScxhPhg0tDpe"
      },
      "source": [
        "model.evaluate(testImgs, testLabels)"
      ],
      "execution_count": null,
      "outputs": []
    },
    {
      "cell_type": "code",
      "metadata": {
        "id": "53CmOQge0RHF"
      },
      "source": [
        "!pip3 install 'h5py==2.10.0' --force-reinstall"
      ],
      "execution_count": null,
      "outputs": []
    },
    {
      "cell_type": "code",
      "metadata": {
        "id": "E5LfTgfftFNI"
      },
      "source": [
        "# save the model weights\n",
        "weightFileName = \"LinkResNet50_30e_16b.h5\"\n",
        "weightPath = '/content/drive/My Drive/Underwater_Segmentation_Research/Weights/LinkNet'\n",
        "model.save_weights(weightPath + \"/\" + weightFileName)\n"
      ],
      "execution_count": 15,
      "outputs": []
    },
    {
      "cell_type": "code",
      "metadata": {
        "id": "eMIeWwCftHN8"
      },
      "source": [
        "model.load_weights(weightPath + \"/\" + weightFileName)\n",
        "model.evaluate(testImgs, testLabels)"
      ],
      "execution_count": null,
      "outputs": []
    },
    {
      "cell_type": "code",
      "metadata": {
        "colab": {
          "base_uri": "https://localhost:8080/"
        },
        "id": "tXRS-pVKtIzq",
        "outputId": "fa996e1e-ccf3-4578-f498-9be6c1b1213a"
      },
      "source": [
        "modelFileName = \"LinkResNet50_30e_16b\"\n",
        "modelPath     = '/content/drive/My Drive/Underwater_Segmentation_Research/Models/LinkNet'\n",
        "model.save(modelPath + \"/\" + modelFileName)"
      ],
      "execution_count": 16,
      "outputs": [
        {
          "output_type": "stream",
          "text": [
            "WARNING:tensorflow:From /usr/local/lib/python3.7/dist-packages/tensorflow_core/python/ops/resource_variable_ops.py:1786: calling BaseResourceVariable.__init__ (from tensorflow.python.ops.resource_variable_ops) with constraint is deprecated and will be removed in a future version.\n",
            "Instructions for updating:\n",
            "If using Keras pass *_constraint arguments to layers.\n",
            "INFO:tensorflow:Assets written to: /content/drive/My Drive/Underwater_Segmentation_Research/Models/LinkNet/EfficientNetb0_30e_16b/assets\n"
          ],
          "name": "stdout"
        }
      ]
    },
    {
      "cell_type": "code",
      "metadata": {
        "colab": {
          "base_uri": "https://localhost:8080/"
        },
        "id": "BdJNCECDtKdL",
        "outputId": "6dcad3e3-4e04-4ad3-9669-9d0051a2c86c"
      },
      "source": [
        "# Check the GPU configuration\n",
        "!nvidia-smi"
      ],
      "execution_count": 17,
      "outputs": [
        {
          "output_type": "stream",
          "text": [
            "Wed May 26 14:03:46 2021       \n",
            "+-----------------------------------------------------------------------------+\n",
            "| NVIDIA-SMI 465.19.01    Driver Version: 460.32.03    CUDA Version: 11.2     |\n",
            "|-------------------------------+----------------------+----------------------+\n",
            "| GPU  Name        Persistence-M| Bus-Id        Disp.A | Volatile Uncorr. ECC |\n",
            "| Fan  Temp  Perf  Pwr:Usage/Cap|         Memory-Usage | GPU-Util  Compute M. |\n",
            "|                               |                      |               MIG M. |\n",
            "|===============================+======================+======================|\n",
            "|   0  Tesla K80           Off  | 00000000:00:04.0 Off |                    0 |\n",
            "| N/A   73C    P0    73W / 149W |  11043MiB / 11441MiB |      0%      Default |\n",
            "|                               |                      |                  N/A |\n",
            "+-------------------------------+----------------------+----------------------+\n",
            "                                                                               \n",
            "+-----------------------------------------------------------------------------+\n",
            "| Processes:                                                                  |\n",
            "|  GPU   GI   CI        PID   Type   Process name                  GPU Memory |\n",
            "|        ID   ID                                                   Usage      |\n",
            "|=============================================================================|\n",
            "+-----------------------------------------------------------------------------+\n"
          ],
          "name": "stdout"
        }
      ]
    },
    {
      "cell_type": "code",
      "metadata": {
        "id": "STd5auSItMAr"
      },
      "source": [
        "y_preds = model.predict(testImgs)\n",
        "y_preds = (y_preds >= 0.5).astype(np.uint8)"
      ],
      "execution_count": 18,
      "outputs": []
    },
    {
      "cell_type": "code",
      "metadata": {
        "id": "9VT6XU--z2ve"
      },
      "source": [
        "yPreds = tf.argmax(y_preds, axis=-1)\n",
        "yPreds = yPreds.numpy()"
      ],
      "execution_count": 19,
      "outputs": []
    },
    {
      "cell_type": "code",
      "metadata": {
        "colab": {
          "base_uri": "https://localhost:8080/"
        },
        "id": "hrMCJj9stOQV",
        "outputId": "f886388a-cc4d-4951-90e3-6cb137b85fc5"
      },
      "source": [
        "# Compute mean of per-class IOU throughout the test images\n",
        "num_classes=12\n",
        "m = UpdatedMeanIoU(num_classes=12)\n",
        "m.update_state(testLabels, y_preds)\n",
        "\n",
        "print(f'Overall mean IOU is : {m.result().numpy()}')\n",
        "\n",
        "# Values is the confusion matrix\n",
        "values = np.array(m.get_weights()).reshape(num_classes, num_classes)"
      ],
      "execution_count": 20,
      "outputs": [
        {
          "output_type": "stream",
          "text": [
            "Overall mean IOU is : 0.7105104327201843\n"
          ],
          "name": "stdout"
        }
      ]
    },
    {
      "cell_type": "code",
      "metadata": {
        "colab": {
          "base_uri": "https://localhost:8080/"
        },
        "id": "zeGCrD4qtQNi",
        "outputId": "e2ae3904-713b-40fd-d3ae-afec3c007ffb"
      },
      "source": [
        "# compute the mean per-class IOU\n",
        "numClasses = 12\n",
        "\n",
        "classIOU = []\n",
        "\n",
        "for i in range(numClasses):\n",
        "  rowSum = np.sum(values[i,:])\n",
        "  colSum = np.sum(values[:,i])\n",
        "  denom = rowSum + colSum - values[i,i]\n",
        "  iou = values[i,i]/denom\n",
        "  classIOU.append(iou)\n",
        "\n",
        "print(classIOU)\n",
        "perClassIoU = np.array(classIOU)\n",
        "print(np.mean(perClassIoU))"
      ],
      "execution_count": 21,
      "outputs": [
        {
          "output_type": "stream",
          "text": [
            "[0.9910452101796388, 0.7311009393656943, 0.5694525407857775, 0.58571371202538, 0.6883406614828131, 0.6112951927958742, 0.7167134794592466, 0.6519176233111664, 0.7030127962852978, 0.8675150678963038, 0.5222372832988514, 0.8877807844946525]\n",
            "0.7105104409483913\n"
          ],
          "name": "stdout"
        }
      ]
    },
    {
      "cell_type": "code",
      "metadata": {
        "colab": {
          "base_uri": "https://localhost:8080/",
          "height": 804
        },
        "id": "Bgoz5BFctSGU",
        "outputId": "b7403b02-8e41-4ed9-dc63-5baaa22ab2b3"
      },
      "source": [
        "import matplotlib.pyplot as plt\n",
        "i = 0\n",
        "plt.imshow(yPreds[i])\n",
        "plt.show()\n",
        "\n",
        "print(np.unique(yPreds[i,:,:]))\n",
        "\n",
        "plt.imshow(testLabels[i,:,:,0])\n",
        "plt.show()\n",
        "\n",
        "print(np.unique(testLabels[i,:,:,0]))\n",
        "\n",
        "t = np.linspace(0,11,num=12)\n",
        "plt.plot(t, perClassIoU)\n",
        "plt.show()"
      ],
      "execution_count": 22,
      "outputs": [
        {
          "output_type": "display_data",
          "data": {
            "image/png": "[encoded data removed]",
            "text/plain": [
              "<Figure size 432x288 with 1 Axes>"
            ]
          },
          "metadata": {
            "tags": [],
            "needs_background": "light"
          }
        },
        {
          "output_type": "stream",
          "text": [
            "[ 0  1  9 11]\n"
          ],
          "name": "stdout"
        },
        {
          "output_type": "display_data",
          "data": {
            "image/png": "[encoded data removed]",
            "text/plain": [
              "<Figure size 432x288 with 1 Axes>"
            ]
          },
          "metadata": {
            "tags": [],
            "needs_background": "light"
          }
        },
        {
          "output_type": "stream",
          "text": [
            "[ 0  1  9 11]\n"
          ],
          "name": "stdout"
        },
        {
          "output_type": "display_data",
          "data": {
            "image/png": "[encoded data removed]",
            "text/plain": [
              "<Figure size 432x288 with 1 Axes>"
            ]
          },
          "metadata": {
            "tags": [],
            "needs_background": "light"
          }
        }
      ]
    }
  ]
}