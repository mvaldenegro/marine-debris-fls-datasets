{
  "nbformat": 4,
  "nbformat_minor": 0,
  "metadata": {
    "accelerator": "GPU",
    "colab": {
      "name": "LinkEfficientNetb1.ipynb",
      "provenance": [],
      "collapsed_sections": []
    },
    "kernelspec": {
      "display_name": "Python 3",
      "name": "python3"
    },
    "language_info": {
      "name": "python"
    }
  },
  "cells": [
    {
      "cell_type": "code",
      "metadata": {
        "id": "GmErIJJtXgxr"
      },
      "source": [
        "# LinkNet with ResNet34 for multiclass semantic segmentation\n",
        "!pip install tensorflow==2.1.0"
      ],
      "execution_count": null,
      "outputs": []
    },
    {
      "cell_type": "code",
      "metadata": {
        "id": "E05RxVTVawRq"
      },
      "source": [
        "!pip install segmentation-models"
      ],
      "execution_count": null,
      "outputs": []
    },
    {
      "cell_type": "code",
      "metadata": {
        "id": "KGcItvZUbw6S",
        "colab": {
          "base_uri": "https://localhost:8080/"
        },
        "outputId": "b9f2256f-a691-4a11-84f9-13c7de7f319a"
      },
      "source": [
        "# mount google drive here\n",
        "from google.colab import drive\n",
        "drive.mount('/content/drive')"
      ],
      "execution_count": 3,
      "outputs": [
        {
          "output_type": "stream",
          "text": [
            "Mounted at /content/drive\n"
          ],
          "name": "stdout"
        }
      ]
    },
    {
      "cell_type": "code",
      "metadata": {
        "id": "OVkZ3Rt_cBIJ",
        "colab": {
          "base_uri": "https://localhost:8080/"
        },
        "outputId": "804012b5-4626-4f69-9005-628800c48d81"
      },
      "source": [
        "# Fetch the training, validation and testing dataset\n",
        "import os\n",
        "import numpy as np\n",
        "\n",
        "dataPath  = '/content/drive/My Drive/Underwater_Segmentation_Research/Data'\n",
        "\n",
        "trainPath       =  dataPath + '/Train'\n",
        "testPath        =  dataPath + '/Test'\n",
        "valPath         =  dataPath + '/Validate'\n",
        "\n",
        "trainImgsFile   = 'trainingDataImgs.npy'\n",
        "trainLabelsFile = 'trainingDataLabels.npy'\n",
        "\n",
        "testImgsFile    = 'testingDataImgs.npy'\n",
        "testLabelsFile  = 'testingDataLabels.npy'\n",
        "\n",
        "valImgsFile     = 'validationDataImgs.npy'\n",
        "valLabelsFile   = 'validationDataLabels.npy'\n",
        "\n",
        "testImgs = None\n",
        "testLabels = None\n",
        "\n",
        "def getData(path,fileName):\n",
        "  return np.load(path + \"/\" + fileName)\n",
        "\n",
        "trainImgs   = getData(trainPath, trainImgsFile)\n",
        "trainLabels = getData(trainPath, trainLabelsFile)\n",
        "\n",
        "valImgs    = getData(valPath, valImgsFile)\n",
        "valLabels  = getData(valPath, valLabelsFile)\n",
        "\n",
        "print(\"Got train and validation data\")\n",
        "print(trainImgs.shape, valImgs.shape)\n",
        "print(trainLabels.shape, valLabels.shape)"
      ],
      "execution_count": 1,
      "outputs": [
        {
          "output_type": "stream",
          "text": [
            "Got train and validation data\n",
            "(1000, 480, 320, 1) (251, 480, 320, 1)\n",
            "(1000, 480, 320, 1) (251, 480, 320, 1)\n"
          ],
          "name": "stdout"
        }
      ]
    },
    {
      "cell_type": "code",
      "metadata": {
        "id": "UYzc3jDWbN78"
      },
      "source": [
        "# Create the model (without pre-trained ImageNet weights)\n",
        "import os\n",
        "import numpy as np\n",
        "import tensorflow as tf\n",
        "import segmentation_models as sm\n",
        "\n",
        "# create the model\n",
        "model = sm.Linknet('efficientnetb1', input_shape=(480, 320, 1), encoder_weights=None, classes=12, activation='softmax')\n",
        "model.summary()\n"
      ],
      "execution_count": null,
      "outputs": []
    },
    {
      "cell_type": "code",
      "metadata": {
        "id": "i6hfU48-YwYT"
      },
      "source": [
        "class UpdatedMeanIoU(tf.keras.metrics.MeanIoU):\n",
        "  def __init__(self,\n",
        "               y_true=None,\n",
        "               y_pred=None,\n",
        "               num_classes=None,\n",
        "               name=None,\n",
        "               dtype=None):\n",
        "    super(UpdatedMeanIoU, self).__init__(num_classes = num_classes,name=name, dtype=dtype)\n",
        "\n",
        "  def update_state(self, y_true, y_pred, sample_weight=None):\n",
        "    y_pred = tf.math.argmax(y_pred, axis=-1)\n",
        "    #y_pred = (y_pred >= 0.5).astype(np.uint8)\n",
        "    return super().update_state(y_true, y_pred, sample_weight)"
      ],
      "execution_count": 4,
      "outputs": []
    },
    {
      "cell_type": "code",
      "metadata": {
        "id": "xrrWR34igCv-"
      },
      "source": [
        "import tensorflow as tf\n",
        "LOSS=tf.keras.losses.SparseCategoricalCrossentropy(from_logits=True)\n",
        "\n",
        "model.compile('Adam',\n",
        "              loss='sparse_categorical_crossentropy',\n",
        "              metrics=['accuracy', UpdatedMeanIoU(num_classes=12)])"
      ],
      "execution_count": 5,
      "outputs": []
    },
    {
      "cell_type": "code",
      "metadata": {
        "id": "t64j7531gnFX"
      },
      "source": [
        "# Setup training parameters\n",
        "BATCH = 16\n",
        "EPOCHS = 30\n",
        "\n",
        "# early stopping callback. It stops training when the loss does not change for 3 consecutive epochs\n",
        "callback = tf.keras.callbacks.EarlyStopping(monitor='loss', patience=3)"
      ],
      "execution_count": 6,
      "outputs": []
    },
    {
      "cell_type": "code",
      "metadata": {
        "id": "BvvTmwzIhBvw",
        "colab": {
          "base_uri": "https://localhost:8080/"
        },
        "outputId": "614046ec-9660-431c-aa00-b7d07f24486e"
      },
      "source": [
        "# Start training the model\n",
        "history = model.fit(trainImgs, trainLabels, epochs=EPOCHS, batch_size=BATCH, validation_data=(valImgs, valLabels))"
      ],
      "execution_count": 7,
      "outputs": [
        {
          "output_type": "stream",
          "text": [
            "Train on 1000 samples, validate on 251 samples\n",
            "Epoch 1/30\n",
            "1000/1000 [==============================] - 93s 93ms/sample - loss: 0.5800 - accuracy: 0.9051 - updated_mean_io_u: 0.0796 - val_loss: 0.6326 - val_accuracy: 0.9508 - val_updated_mean_io_u: 0.0823\n",
            "Epoch 2/30\n",
            "1000/1000 [==============================] - 65s 65ms/sample - loss: 0.1550 - accuracy: 0.9673 - updated_mean_io_u: 0.1106 - val_loss: 0.2508 - val_accuracy: 0.9399 - val_updated_mean_io_u: 0.1006\n",
            "Epoch 3/30\n",
            "1000/1000 [==============================] - 65s 65ms/sample - loss: 0.1255 - accuracy: 0.9706 - updated_mean_io_u: 0.1269 - val_loss: 0.2680 - val_accuracy: 0.9245 - val_updated_mean_io_u: 0.0945\n",
            "Epoch 4/30\n",
            "1000/1000 [==============================] - 65s 65ms/sample - loss: 0.1088 - accuracy: 0.9731 - updated_mean_io_u: 0.1375 - val_loss: 0.1597 - val_accuracy: 0.9592 - val_updated_mean_io_u: 0.1213\n",
            "Epoch 5/30\n",
            "1000/1000 [==============================] - 65s 65ms/sample - loss: 0.0928 - accuracy: 0.9745 - updated_mean_io_u: 0.1494 - val_loss: 0.1357 - val_accuracy: 0.9733 - val_updated_mean_io_u: 0.1459\n",
            "Epoch 6/30\n",
            "1000/1000 [==============================] - 65s 65ms/sample - loss: 0.0817 - accuracy: 0.9761 - updated_mean_io_u: 0.1755 - val_loss: 0.0907 - val_accuracy: 0.9747 - val_updated_mean_io_u: 0.1751\n",
            "Epoch 7/30\n",
            "1000/1000 [==============================] - 65s 65ms/sample - loss: 0.0712 - accuracy: 0.9799 - updated_mean_io_u: 0.2201 - val_loss: 0.0722 - val_accuracy: 0.9791 - val_updated_mean_io_u: 0.2273\n",
            "Epoch 8/30\n",
            "1000/1000 [==============================] - 65s 65ms/sample - loss: 0.0643 - accuracy: 0.9808 - updated_mean_io_u: 0.2312 - val_loss: 0.0710 - val_accuracy: 0.9783 - val_updated_mean_io_u: 0.2245\n",
            "Epoch 9/30\n",
            "1000/1000 [==============================] - 65s 65ms/sample - loss: 0.0575 - accuracy: 0.9818 - updated_mean_io_u: 0.2438 - val_loss: 0.0681 - val_accuracy: 0.9802 - val_updated_mean_io_u: 0.2169\n",
            "Epoch 10/30\n",
            "1000/1000 [==============================] - 65s 65ms/sample - loss: 0.0545 - accuracy: 0.9819 - updated_mean_io_u: 0.2453 - val_loss: 0.0541 - val_accuracy: 0.9822 - val_updated_mean_io_u: 0.2418\n",
            "Epoch 11/30\n",
            "1000/1000 [==============================] - 65s 65ms/sample - loss: 0.0495 - accuracy: 0.9828 - updated_mean_io_u: 0.2608 - val_loss: 0.0613 - val_accuracy: 0.9793 - val_updated_mean_io_u: 0.2394\n",
            "Epoch 12/30\n",
            "1000/1000 [==============================] - 65s 65ms/sample - loss: 0.0461 - accuracy: 0.9847 - updated_mean_io_u: 0.3160 - val_loss: 0.0475 - val_accuracy: 0.9847 - val_updated_mean_io_u: 0.3208\n",
            "Epoch 13/30\n",
            "1000/1000 [==============================] - 65s 65ms/sample - loss: 0.0433 - accuracy: 0.9855 - updated_mean_io_u: 0.3334 - val_loss: 0.0486 - val_accuracy: 0.9845 - val_updated_mean_io_u: 0.3499\n",
            "Epoch 14/30\n",
            "1000/1000 [==============================] - 65s 65ms/sample - loss: 0.0447 - accuracy: 0.9846 - updated_mean_io_u: 0.3347 - val_loss: 0.0748 - val_accuracy: 0.9779 - val_updated_mean_io_u: 0.2677\n",
            "Epoch 15/30\n",
            "1000/1000 [==============================] - 65s 65ms/sample - loss: 0.0403 - accuracy: 0.9858 - updated_mean_io_u: 0.3512 - val_loss: 0.0488 - val_accuracy: 0.9842 - val_updated_mean_io_u: 0.3312\n",
            "Epoch 16/30\n",
            "1000/1000 [==============================] - 65s 65ms/sample - loss: 0.0362 - accuracy: 0.9867 - updated_mean_io_u: 0.3775 - val_loss: 0.0393 - val_accuracy: 0.9868 - val_updated_mean_io_u: 0.4017\n",
            "Epoch 17/30\n",
            "1000/1000 [==============================] - 65s 65ms/sample - loss: 0.0337 - accuracy: 0.9874 - updated_mean_io_u: 0.4100 - val_loss: 0.0387 - val_accuracy: 0.9872 - val_updated_mean_io_u: 0.4283\n",
            "Epoch 18/30\n",
            "1000/1000 [==============================] - 65s 65ms/sample - loss: 0.0311 - accuracy: 0.9883 - updated_mean_io_u: 0.4445 - val_loss: 0.0408 - val_accuracy: 0.9866 - val_updated_mean_io_u: 0.4587\n",
            "Epoch 19/30\n",
            "1000/1000 [==============================] - 65s 65ms/sample - loss: 0.0309 - accuracy: 0.9886 - updated_mean_io_u: 0.4702 - val_loss: 0.0459 - val_accuracy: 0.9859 - val_updated_mean_io_u: 0.3841\n",
            "Epoch 20/30\n",
            "1000/1000 [==============================] - 65s 65ms/sample - loss: 0.0306 - accuracy: 0.9889 - updated_mean_io_u: 0.4940 - val_loss: 0.0379 - val_accuracy: 0.9874 - val_updated_mean_io_u: 0.5147\n",
            "Epoch 21/30\n",
            "1000/1000 [==============================] - 65s 65ms/sample - loss: 0.0276 - accuracy: 0.9901 - updated_mean_io_u: 0.5488 - val_loss: 0.0414 - val_accuracy: 0.9869 - val_updated_mean_io_u: 0.4685\n",
            "Epoch 22/30\n",
            "1000/1000 [==============================] - 65s 65ms/sample - loss: 0.0261 - accuracy: 0.9907 - updated_mean_io_u: 0.5851 - val_loss: 0.0400 - val_accuracy: 0.9881 - val_updated_mean_io_u: 0.5675\n",
            "Epoch 23/30\n",
            "1000/1000 [==============================] - 65s 65ms/sample - loss: 0.0249 - accuracy: 0.9911 - updated_mean_io_u: 0.6077 - val_loss: 0.0427 - val_accuracy: 0.9878 - val_updated_mean_io_u: 0.5632\n",
            "Epoch 24/30\n",
            "1000/1000 [==============================] - 65s 65ms/sample - loss: 0.0280 - accuracy: 0.9904 - updated_mean_io_u: 0.5950 - val_loss: 0.0362 - val_accuracy: 0.9886 - val_updated_mean_io_u: 0.5343\n",
            "Epoch 25/30\n",
            "1000/1000 [==============================] - 65s 65ms/sample - loss: 0.0263 - accuracy: 0.9904 - updated_mean_io_u: 0.6083 - val_loss: 0.0357 - val_accuracy: 0.9889 - val_updated_mean_io_u: 0.5929\n",
            "Epoch 26/30\n",
            "1000/1000 [==============================] - 65s 65ms/sample - loss: 0.0248 - accuracy: 0.9909 - updated_mean_io_u: 0.6319 - val_loss: 0.0320 - val_accuracy: 0.9903 - val_updated_mean_io_u: 0.6163\n",
            "Epoch 27/30\n",
            "1000/1000 [==============================] - 65s 65ms/sample - loss: 0.0214 - accuracy: 0.9920 - updated_mean_io_u: 0.6538 - val_loss: 0.0379 - val_accuracy: 0.9883 - val_updated_mean_io_u: 0.5588\n",
            "Epoch 28/30\n",
            "1000/1000 [==============================] - 65s 65ms/sample - loss: 0.0197 - accuracy: 0.9925 - updated_mean_io_u: 0.6720 - val_loss: 0.0325 - val_accuracy: 0.9898 - val_updated_mean_io_u: 0.6160\n",
            "Epoch 29/30\n",
            "1000/1000 [==============================] - 65s 65ms/sample - loss: 0.0185 - accuracy: 0.9928 - updated_mean_io_u: 0.6875 - val_loss: 0.0332 - val_accuracy: 0.9899 - val_updated_mean_io_u: 0.6158\n",
            "Epoch 30/30\n",
            "1000/1000 [==============================] - 65s 65ms/sample - loss: 0.0186 - accuracy: 0.9928 - updated_mean_io_u: 0.6921 - val_loss: 0.0334 - val_accuracy: 0.9899 - val_updated_mean_io_u: 0.6246\n"
          ],
          "name": "stdout"
        }
      ]
    },
    {
      "cell_type": "code",
      "metadata": {
        "id": "5ymxrY3gpSBh",
        "colab": {
          "base_uri": "https://localhost:8080/",
          "height": 300
        },
        "outputId": "7be9b07a-e60e-4fa9-dcaa-49c222fca753"
      },
      "source": [
        "#  Plot the results\n",
        "print(history.history.keys())\n",
        "\n",
        "import matplotlib.pyplot as plt\n",
        "plt.plot(history.history['accuracy'])\n",
        "plt.plot(history.history['val_accuracy'])"
      ],
      "execution_count": 8,
      "outputs": [
        {
          "output_type": "stream",
          "text": [
            "dict_keys(['loss', 'accuracy', 'updated_mean_io_u', 'val_loss', 'val_accuracy', 'val_updated_mean_io_u'])\n"
          ],
          "name": "stdout"
        },
        {
          "output_type": "execute_result",
          "data": {
            "text/plain": [
              "[<matplotlib.lines.Line2D at 0x7fb17330e710>]"
            ]
          },
          "metadata": {
            "tags": []
          },
          "execution_count": 8
        },
        {
          "output_type": "display_data",
          "data": {
            "image/png": "[encoded data removed]",
            "text/plain": [
              "<Figure size 432x288 with 1 Axes>"
            ]
          },
          "metadata": {
            "tags": [],
            "needs_background": "light"
          }
        }
      ]
    },
    {
      "cell_type": "code",
      "metadata": {
        "colab": {
          "base_uri": "https://localhost:8080/",
          "height": 282
        },
        "id": "7TkEl5zMstfh",
        "outputId": "f53e9ae4-2fe2-4c80-f632-438c4b9869fc"
      },
      "source": [
        "plt.plot(history.history['loss'])\n",
        "plt.plot(history.history['val_loss'])"
      ],
      "execution_count": 9,
      "outputs": [
        {
          "output_type": "execute_result",
          "data": {
            "text/plain": [
              "[<matplotlib.lines.Line2D at 0x7fb172e50f50>]"
            ]
          },
          "metadata": {
            "tags": []
          },
          "execution_count": 9
        },
        {
          "output_type": "display_data",
          "data": {
            "image/png": "[encoded data removed]",
            "text/plain": [
              "<Figure size 432x288 with 1 Axes>"
            ]
          },
          "metadata": {
            "tags": [],
            "needs_background": "light"
          }
        }
      ]
    },
    {
      "cell_type": "code",
      "metadata": {
        "id": "BOfjAUaKp213",
        "colab": {
          "base_uri": "https://localhost:8080/",
          "height": 282
        },
        "outputId": "ad15e7f0-c78c-4a51-feee-1fc8b5787890"
      },
      "source": [
        "plt.plot(history.history['updated_mean_io_u'])\n",
        "plt.plot(history.history['val_updated_mean_io_u'])"
      ],
      "execution_count": 11,
      "outputs": [
        {
          "output_type": "execute_result",
          "data": {
            "text/plain": [
              "[<matplotlib.lines.Line2D at 0x7fb172d12f50>]"
            ]
          },
          "metadata": {
            "tags": []
          },
          "execution_count": 11
        },
        {
          "output_type": "display_data",
          "data": {
            "image/png": "[encoded data removed]",
            "text/plain": [
              "<Figure size 432x288 with 1 Axes>"
            ]
          },
          "metadata": {
            "tags": [],
            "needs_background": "light"
          }
        }
      ]
    },
    {
      "cell_type": "code",
      "metadata": {
        "id": "xIs9nAuXJX8F"
      },
      "source": [
        "# get the testdata\n",
        "testImgs   = getData(testPath, testImgsFile)\n",
        "testLabels = getData(testPath, testLabelsFile)"
      ],
      "execution_count": 12,
      "outputs": []
    },
    {
      "cell_type": "code",
      "metadata": {
        "id": "cJg2fDdHqDEr",
        "colab": {
          "base_uri": "https://localhost:8080/"
        },
        "outputId": "407c35f7-e90a-4873-d9a8-51e5d45d864e"
      },
      "source": [
        "model.evaluate(testImgs, testLabels)"
      ],
      "execution_count": 13,
      "outputs": [
        {
          "output_type": "stream",
          "text": [
            "617/617 [==============================] - 14s 22ms/sample - loss: 0.0305 - accuracy: 0.9905 - updated_mean_io_u: 0.6495\n"
          ],
          "name": "stdout"
        },
        {
          "output_type": "execute_result",
          "data": {
            "text/plain": [
              "[0.030460721736161017, 0.9904525, 0.64945817]"
            ]
          },
          "metadata": {
            "tags": []
          },
          "execution_count": 13
        }
      ]
    },
    {
      "cell_type": "code",
      "metadata": {
        "id": "4kBp5pC4qe3j"
      },
      "source": [
        "# save the model weights\n",
        "weightFileName = \"LinkEfficientNetb1_30e_16b.h5\"\n",
        "weightPath = '/content/drive/My Drive/Underwater_Segmentation_Research/Weights/LinkNet'\n",
        "model.save_weights(weightPath + \"/\" + weightFileName)\n"
      ],
      "execution_count": 14,
      "outputs": []
    },
    {
      "cell_type": "code",
      "metadata": {
        "id": "O0ktWQ4lsyxv"
      },
      "source": [
        "model.load_weights(weightPath + \"/\" + weightFileName)\n",
        "model.evaluate(testImgs, testLabels)"
      ],
      "execution_count": null,
      "outputs": []
    },
    {
      "cell_type": "code",
      "metadata": {
        "id": "SF0gF5Otuac9",
        "colab": {
          "base_uri": "https://localhost:8080/"
        },
        "outputId": "39b48c0d-b74b-41af-95e0-cf2df17df9a1"
      },
      "source": [
        "modelFileName = \"LinkEfficientNetb1_30e_16b\"\n",
        "modelPath     = '/content/drive/My Drive/Underwater_Segmentation_Research/Models/LinkNet'\n",
        "model.save(modelPath + \"/\" + modelFileName)"
      ],
      "execution_count": 15,
      "outputs": [
        {
          "output_type": "stream",
          "text": [
            "WARNING:tensorflow:From /usr/local/lib/python3.7/dist-packages/tensorflow_core/python/ops/resource_variable_ops.py:1786: calling BaseResourceVariable.__init__ (from tensorflow.python.ops.resource_variable_ops) with constraint is deprecated and will be removed in a future version.\n",
            "Instructions for updating:\n",
            "If using Keras pass *_constraint arguments to layers.\n",
            "INFO:tensorflow:Assets written to: /content/drive/My Drive/Underwater_Segmentation_Research/Models/LinkNet/LinkEfficientNetb1_30e_16b/assets\n"
          ],
          "name": "stdout"
        }
      ]
    },
    {
      "cell_type": "code",
      "metadata": {
        "id": "8g2JByQRvjc3",
        "colab": {
          "base_uri": "https://localhost:8080/"
        },
        "outputId": "563ca143-1ac1-4886-9945-337922d3bcf2"
      },
      "source": [
        "# Check the GPU configuration\n",
        "!nvidia-smi"
      ],
      "execution_count": 16,
      "outputs": [
        {
          "output_type": "stream",
          "text": [
            "Wed May 26 14:11:15 2021       \n",
            "+-----------------------------------------------------------------------------+\n",
            "| NVIDIA-SMI 465.19.01    Driver Version: 460.32.03    CUDA Version: 11.2     |\n",
            "|-------------------------------+----------------------+----------------------+\n",
            "| GPU  Name        Persistence-M| Bus-Id        Disp.A | Volatile Uncorr. ECC |\n",
            "| Fan  Temp  Perf  Pwr:Usage/Cap|         Memory-Usage | GPU-Util  Compute M. |\n",
            "|                               |                      |               MIG M. |\n",
            "|===============================+======================+======================|\n",
            "|   0  Tesla T4            Off  | 00000000:00:04.0 Off |                    0 |\n",
            "| N/A   74C    P0    33W /  70W |  14870MiB / 15109MiB |      0%      Default |\n",
            "|                               |                      |                  N/A |\n",
            "+-------------------------------+----------------------+----------------------+\n",
            "                                                                               \n",
            "+-----------------------------------------------------------------------------+\n",
            "| Processes:                                                                  |\n",
            "|  GPU   GI   CI        PID   Type   Process name                  GPU Memory |\n",
            "|        ID   ID                                                   Usage      |\n",
            "|=============================================================================|\n",
            "+-----------------------------------------------------------------------------+\n"
          ],
          "name": "stdout"
        }
      ]
    },
    {
      "cell_type": "code",
      "metadata": {
        "id": "8Ky0ILN0Yuna"
      },
      "source": [
        "y_preds = model.predict(testImgs)\n",
        "y_preds = (y_preds >= 0.5).astype(np.uint8)"
      ],
      "execution_count": 17,
      "outputs": []
    },
    {
      "cell_type": "code",
      "metadata": {
        "id": "kL9yioLTxP6W"
      },
      "source": [
        "yPreds = tf.argmax(y_preds, axis=-1)\n",
        "yPreds = yPreds.numpy()"
      ],
      "execution_count": 18,
      "outputs": []
    },
    {
      "cell_type": "code",
      "metadata": {
        "id": "p1uTFgSjY3nU",
        "colab": {
          "base_uri": "https://localhost:8080/"
        },
        "outputId": "9f5d694f-c4d5-4448-98c9-684563410769"
      },
      "source": [
        "# Compute mean of per-class IOU throughout the test images\n",
        "num_classes=12\n",
        "m = UpdatedMeanIoU(num_classes=12)\n",
        "m.update_state(testLabels, y_preds)\n",
        "\n",
        "print(f'Overall mean IOU is : {m.result().numpy()}')\n",
        "\n",
        "# Values is the confusion matrix\n",
        "values = np.array(m.get_weights()).reshape(num_classes, num_classes)"
      ],
      "execution_count": 19,
      "outputs": [
        {
          "output_type": "stream",
          "text": [
            "Overall mean IOU is : 0.6471320390701294\n"
          ],
          "name": "stdout"
        }
      ]
    },
    {
      "cell_type": "code",
      "metadata": {
        "id": "JVc0rYRGY5xf",
        "colab": {
          "base_uri": "https://localhost:8080/"
        },
        "outputId": "f242cf25-c037-435a-c7ad-6d1113a1a73b"
      },
      "source": [
        "# compute the mean per-class IOU\n",
        "numClasses = 12\n",
        "\n",
        "classIOU = []\n",
        "\n",
        "for i in range(numClasses):\n",
        "  rowSum = np.sum(values[i,:])\n",
        "  colSum = np.sum(values[:,i])\n",
        "  denom = rowSum + colSum - values[i,i]\n",
        "  iou = values[i,i]/denom\n",
        "  classIOU.append(iou)\n",
        "\n",
        "print(classIOU)\n",
        "perClassIoU = np.array(classIOU)\n",
        "print(np.mean(perClassIoU))\n"
      ],
      "execution_count": 20,
      "outputs": [
        {
          "output_type": "stream",
          "text": [
            "[0.9908845446843922, 0.7425635042067065, 0.5947043107229733, 0.607884060689914, 0.693364955049363, 0.6646692869716188, 0.7056727199117849, 0.5191100119273135, 0.0021720625788840295, 0.8727277473698866, 0.4881400012533684, 0.8836915332620643]\n",
            "0.6471320615523558\n"
          ],
          "name": "stdout"
        }
      ]
    },
    {
      "cell_type": "code",
      "metadata": {
        "id": "vl0-DjZdY-ao",
        "colab": {
          "base_uri": "https://localhost:8080/",
          "height": 804
        },
        "outputId": "a74a356e-5764-46d7-fad1-f1ca425fa618"
      },
      "source": [
        "import matplotlib.pyplot as plt\n",
        "i = 0\n",
        "plt.imshow(yPreds[i])\n",
        "plt.show()\n",
        "\n",
        "print(np.unique(yPreds[i,:,:]))\n",
        "\n",
        "plt.imshow(testLabels[i,:,:,0])\n",
        "plt.show()\n",
        "\n",
        "print(np.unique(testLabels[i,:,:,0]))\n",
        "\n",
        "t = np.linspace(0,11,num=12)\n",
        "plt.plot(t, perClassIoU)\n",
        "plt.show()"
      ],
      "execution_count": 21,
      "outputs": [
        {
          "output_type": "display_data",
          "data": {
            "image/png": "[encoded data removed]",
            "text/plain": [
              "<Figure size 432x288 with 1 Axes>"
            ]
          },
          "metadata": {
            "tags": [],
            "needs_background": "light"
          }
        },
        {
          "output_type": "stream",
          "text": [
            "[ 0  1  9 11]\n"
          ],
          "name": "stdout"
        },
        {
          "output_type": "display_data",
          "data": {
            "image/png": "[encoded data removed]",
            "text/plain": [
              "<Figure size 432x288 with 1 Axes>"
            ]
          },
          "metadata": {
            "tags": [],
            "needs_background": "light"
          }
        },
        {
          "output_type": "stream",
          "text": [
            "[ 0  1  9 11]\n"
          ],
          "name": "stdout"
        },
        {
          "output_type": "display_data",
          "data": {
            "image/png": "[encoded data removed]",
            "text/plain": [
              "<Figure size 432x288 with 1 Axes>"
            ]
          },
          "metadata": {
            "tags": [],
            "needs_background": "light"
          }
        }
      ]
    }
  ]
}