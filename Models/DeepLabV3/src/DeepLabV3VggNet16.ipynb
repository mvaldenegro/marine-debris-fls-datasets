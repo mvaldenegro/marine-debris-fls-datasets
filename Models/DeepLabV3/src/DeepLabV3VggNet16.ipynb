{
  "nbformat": 4,
  "nbformat_minor": 0,
  "metadata": {
    "colab": {
      "name": "DeepLabV3VggNet16.ipynb",
      "provenance": [],
      "collapsed_sections": []
    },
    "kernelspec": {
      "name": "python3",
      "display_name": "Python 3"
    },
    "language_info": {
      "name": "python"
    },
    "accelerator": "GPU"
  },
  "cells": [
    {
      "cell_type": "code",
      "metadata": {
        "id": "31vT6qbTR1kI"
      },
      "source": [
        "# DeepLabV3 architecture with various encoders\n",
        "# Output stride = 8 (so vary the encoder architecture accordingly)\n",
        "import tensorflow as tf\n",
        "import numpy as np\n",
        "import os"
      ],
      "execution_count": 34,
      "outputs": []
    },
    {
      "cell_type": "code",
      "metadata": {
        "colab": {
          "base_uri": "https://localhost:8080/"
        },
        "id": "gaJ1hdDK6Wek",
        "outputId": "a1e9043d-620e-4766-f824-c44710148911"
      },
      "source": [
        "# mount google drive here\n",
        "from google.colab import drive\n",
        "drive.mount('/content/drive')"
      ],
      "execution_count": 37,
      "outputs": [
        {
          "output_type": "stream",
          "text": [
            "Mounted at /content/drive\n"
          ],
          "name": "stdout"
        }
      ]
    },
    {
      "cell_type": "code",
      "metadata": {
        "colab": {
          "base_uri": "https://localhost:8080/"
        },
        "id": "GNilm41D63Q8",
        "outputId": "e49edfe2-a44c-47db-f4de-40636715c505"
      },
      "source": [
        "dataPath  = '/content/drive/My Drive/Underwater_Segmentation_Research/Data'\n",
        "\n",
        "trainPath       =  dataPath + '/Train'\n",
        "testPath        =  dataPath + '/Test'\n",
        "valPath         =  dataPath + '/Validate'\n",
        "\n",
        "trainImgsFile   = 'trainingDataImgs.npy'\n",
        "trainLabelsFile = 'trainingDataLabels.npy'\n",
        "\n",
        "testImgsFile    = 'testingDataImgs.npy'\n",
        "testLabelsFile  = 'testingDataLabels.npy'\n",
        "\n",
        "valImgsFile     = 'validationDataImgs.npy'\n",
        "valLabelsFile   = 'validationDataLabels.npy'\n",
        "\n",
        "testImgs = None\n",
        "testLabels = None\n",
        "\n",
        "def getData(path,fileName):\n",
        "  return np.load(path + \"/\" + fileName)\n",
        "\n",
        "trainImgs   = getData(trainPath, trainImgsFile)\n",
        "trainLabels = getData(trainPath, trainLabelsFile)\n",
        "\n",
        "valImgs    = getData(valPath, valImgsFile)\n",
        "valLabels  = getData(valPath, valLabelsFile)\n",
        "\n",
        "print(\"Got train and validation data\")\n",
        "print(trainImgs.shape, valImgs.shape)\n",
        "print(trainLabels.shape, valLabels.shape)"
      ],
      "execution_count": 38,
      "outputs": [
        {
          "output_type": "stream",
          "text": [
            "Got train and validation data\n",
            "(1000, 480, 320, 1) (251, 480, 320, 1)\n",
            "(1000, 480, 320, 1) (251, 480, 320, 1)\n"
          ],
          "name": "stdout"
        }
      ]
    },
    {
      "cell_type": "code",
      "metadata": {
        "id": "jlO6pTdU6-JW"
      },
      "source": [
        "class UpdatedMeanIoU(tf.keras.metrics.MeanIoU):\n",
        "  def __init__(self,\n",
        "               y_true=None,\n",
        "               y_pred=None,\n",
        "               num_classes=None,\n",
        "               name=None,\n",
        "               dtype=None):\n",
        "    super(UpdatedMeanIoU, self).__init__(num_classes = num_classes,name=name, dtype=dtype)\n",
        "\n",
        "  def update_state(self, y_true, y_pred, sample_weight=None):\n",
        "    y_pred = tf.math.argmax(y_pred, axis=-1)\n",
        "    return super().update_state(y_true, y_pred, sample_weight)"
      ],
      "execution_count": 39,
      "outputs": []
    },
    {
      "cell_type": "code",
      "metadata": {
        "colab": {
          "base_uri": "https://localhost:8080/"
        },
        "id": "ThaNO_onkpkD",
        "outputId": "bfdc1b90-5572-4faa-a3b0-c4b9a474875d"
      },
      "source": [
        "vgg16 = tf.keras.applications.VGG16(include_top=False, weights=None, input_tensor=None, input_shape=(480,320,1))\n",
        "\n",
        "# layer after which changes related to deeplabv3 architecture are made\n",
        "layerName = 'block4_conv3'\n",
        "\n",
        "# get the output of this layer and then add new layers after this\n",
        "block4_conv3 = vgg16.get_layer(layerName).output\n",
        "block4_pool = tf.keras.layers.MaxPool2D(pool_size=(3,3), strides=1, name='block4_pool', padding='same')(block4_conv3)\n",
        "\n",
        "# block 5 with Atrous Convolution with rate=2 and maxPooling with stride=1\n",
        "block5_atrConv1 = tf.keras.layers.Conv2D(512, (3,3), strides=1, dilation_rate=2, padding='same', activation='relu', name='block5_atrConv1')(block4_pool)\n",
        "block5_atrConv2 = tf.keras.layers.Conv2D(512, (3,3), strides=1, dilation_rate=2, padding='same', activation='relu', name='block5_atrConv2')(block5_atrConv1)\n",
        "block5_atrConv3 = tf.keras.layers.Conv2D(512, (3,3), strides=1, dilation_rate=2, padding='same', activation='relu', name='block5_atrConv3')(block5_atrConv2)\n",
        "block5_pool     = tf.keras.layers.MaxPool2D(pool_size=(3,3), strides=1, name='block5_pool', padding='same')(block5_atrConv3)\n",
        "\n",
        "# Now add the ASPP module\n",
        "# For that -> create 5 branches -> b0 (conv1x1+relu+bn)256\n",
        "#                               -> b1 (conv3x3+relu+rate_12 +bn)256\n",
        "#                               -> b2 (conv3x3 + relu + rate_24 + bn)256\n",
        "#                               -> b3 (conv3x3 + relu + rate_24 + bn)256\n",
        "#                               -> b4 (globalAvgPool -> Conv1x1 + relu -> BN + upsample)256\n",
        "# Then concat all -> apply 1x1 conv 256 + relu + bn -> conv 1x1 12 -> softmax -> bilinear upsampling\n",
        "\n",
        "output_stride=8\n",
        "\n",
        "bn_axis=3\n",
        "\n",
        "b0 = tf.keras.layers.Conv2D(256, (1,1), activation='relu', padding='same', name='aspp_b0')(block5_pool)\n",
        "b0_BN = tf.keras.layers.BatchNormalization(axis=bn_axis, name='aspp_b0_BN')(b0)\n",
        "\n",
        "b1 = tf.keras.layers.Conv2D(256, (3,3), dilation_rate=12, activation='relu', padding='same', name='aspp_b1')(block5_pool)\n",
        "b1_BN = tf.keras.layers.BatchNormalization(axis=bn_axis, name='aspp_b1_BN')(b1)\n",
        "\n",
        "b2 = tf.keras.layers.Conv2D(256, (3,3), dilation_rate=24, activation='relu', padding='same', name='aspp_b2')(block5_pool)\n",
        "b2_BN = tf.keras.layers.BatchNormalization(axis=bn_axis, name='aspp_b2_BN')(b2)\n",
        "\n",
        "b3 = tf.keras.layers.Conv2D(256, (3,3), dilation_rate=36, activation='relu', padding='same', name='aspp_b3')(block5_pool)\n",
        "b3_BN = tf.keras.layers.BatchNormalization(axis=bn_axis, name='aspp_b3_BN')(b3)\n",
        "\n",
        "b4 = tf.keras.layers.Conv2D(256, (1,1), activation='relu', padding='same', name='aspp_b4_conv')(tf.keras.layers.AveragePooling2D(name='aspp_b4')(block5_pool))\n",
        "b4_BN = tf.keras.layers.BatchNormalization(axis=bn_axis, name='aspp_b4_BN')(b4)\n",
        "b4_up = tf.keras.layers.UpSampling2D(size=(2,2), name='aspp_b4_upsample')(b4_BN)\n",
        "\n",
        "# now concatenate these outputs\n",
        "aspp = tf.keras.layers.Concatenate(axis=bn_axis, name='aspp_concatenate')([b0_BN, b1_BN, b2_BN, b4_up])\n",
        "\n",
        "asppOut_conv1 = tf.keras.layers.Conv2D(256, (1,1), activation='relu', padding='same', name='asppOut_conv1')(aspp)\n",
        "asppOut_BN    = tf.keras.layers.BatchNormalization(axis=bn_axis, name='asppOut_BN')(asppOut_conv1)\n",
        "\n",
        "out_small = tf.keras.layers.Conv2D(12, (1,1), activation='softmax', padding='same', name='out_small')(asppOut_BN)\n",
        "out       = tf.keras.layers.UpSampling2D(size=(8,8), name='output')(out_small)\n",
        "\n",
        "model = tf.keras.Model(vgg16.input, out)\n",
        "print(model.summary())"
      ],
      "execution_count": 50,
      "outputs": [
        {
          "output_type": "stream",
          "text": [
            "Model: \"model_28\"\n",
            "__________________________________________________________________________________________________\n",
            "Layer (type)                    Output Shape         Param #     Connected to                     \n",
            "==================================================================================================\n",
            "input_7 (InputLayer)            [(None, 480, 320, 1) 0                                            \n",
            "__________________________________________________________________________________________________\n",
            "block1_conv1 (Conv2D)           (None, 480, 320, 64) 640         input_7[0][0]                    \n",
            "__________________________________________________________________________________________________\n",
            "block1_conv2 (Conv2D)           (None, 480, 320, 64) 36928       block1_conv1[0][0]               \n",
            "__________________________________________________________________________________________________\n",
            "block1_pool (MaxPooling2D)      (None, 240, 160, 64) 0           block1_conv2[0][0]               \n",
            "__________________________________________________________________________________________________\n",
            "block2_conv1 (Conv2D)           (None, 240, 160, 128 73856       block1_pool[0][0]                \n",
            "__________________________________________________________________________________________________\n",
            "block2_conv2 (Conv2D)           (None, 240, 160, 128 147584      block2_conv1[0][0]               \n",
            "__________________________________________________________________________________________________\n",
            "block2_pool (MaxPooling2D)      (None, 120, 80, 128) 0           block2_conv2[0][0]               \n",
            "__________________________________________________________________________________________________\n",
            "block3_conv1 (Conv2D)           (None, 120, 80, 256) 295168      block2_pool[0][0]                \n",
            "__________________________________________________________________________________________________\n",
            "block3_conv2 (Conv2D)           (None, 120, 80, 256) 590080      block3_conv1[0][0]               \n",
            "__________________________________________________________________________________________________\n",
            "block3_conv3 (Conv2D)           (None, 120, 80, 256) 590080      block3_conv2[0][0]               \n",
            "__________________________________________________________________________________________________\n",
            "block3_pool (MaxPooling2D)      (None, 60, 40, 256)  0           block3_conv3[0][0]               \n",
            "__________________________________________________________________________________________________\n",
            "block4_conv1 (Conv2D)           (None, 60, 40, 512)  1180160     block3_pool[0][0]                \n",
            "__________________________________________________________________________________________________\n",
            "block4_conv2 (Conv2D)           (None, 60, 40, 512)  2359808     block4_conv1[0][0]               \n",
            "__________________________________________________________________________________________________\n",
            "block4_conv3 (Conv2D)           (None, 60, 40, 512)  2359808     block4_conv2[0][0]               \n",
            "__________________________________________________________________________________________________\n",
            "block4_pool (MaxPooling2D)      (None, 60, 40, 512)  0           block4_conv3[0][0]               \n",
            "__________________________________________________________________________________________________\n",
            "block5_atrConv1 (Conv2D)        (None, 60, 40, 512)  2359808     block4_pool[0][0]                \n",
            "__________________________________________________________________________________________________\n",
            "block5_atrConv2 (Conv2D)        (None, 60, 40, 512)  2359808     block5_atrConv1[0][0]            \n",
            "__________________________________________________________________________________________________\n",
            "block5_atrConv3 (Conv2D)        (None, 60, 40, 512)  2359808     block5_atrConv2[0][0]            \n",
            "__________________________________________________________________________________________________\n",
            "block5_pool (MaxPooling2D)      (None, 60, 40, 512)  0           block5_atrConv3[0][0]            \n",
            "__________________________________________________________________________________________________\n",
            "aspp_b4 (AveragePooling2D)      (None, 30, 20, 512)  0           block5_pool[0][0]                \n",
            "__________________________________________________________________________________________________\n",
            "aspp_b4_conv (Conv2D)           (None, 30, 20, 256)  131328      aspp_b4[0][0]                    \n",
            "__________________________________________________________________________________________________\n",
            "aspp_b0 (Conv2D)                (None, 60, 40, 256)  131328      block5_pool[0][0]                \n",
            "__________________________________________________________________________________________________\n",
            "aspp_b1 (Conv2D)                (None, 60, 40, 256)  1179904     block5_pool[0][0]                \n",
            "__________________________________________________________________________________________________\n",
            "aspp_b2 (Conv2D)                (None, 60, 40, 256)  1179904     block5_pool[0][0]                \n",
            "__________________________________________________________________________________________________\n",
            "aspp_b4_BN (BatchNormalization) (None, 30, 20, 256)  1024        aspp_b4_conv[0][0]               \n",
            "__________________________________________________________________________________________________\n",
            "aspp_b0_BN (BatchNormalization) (None, 60, 40, 256)  1024        aspp_b0[0][0]                    \n",
            "__________________________________________________________________________________________________\n",
            "aspp_b1_BN (BatchNormalization) (None, 60, 40, 256)  1024        aspp_b1[0][0]                    \n",
            "__________________________________________________________________________________________________\n",
            "aspp_b2_BN (BatchNormalization) (None, 60, 40, 256)  1024        aspp_b2[0][0]                    \n",
            "__________________________________________________________________________________________________\n",
            "aspp_b4_upsample (UpSampling2D) (None, 60, 40, 256)  0           aspp_b4_BN[0][0]                 \n",
            "__________________________________________________________________________________________________\n",
            "aspp_concatenate (Concatenate)  (None, 60, 40, 1024) 0           aspp_b0_BN[0][0]                 \n",
            "                                                                 aspp_b1_BN[0][0]                 \n",
            "                                                                 aspp_b2_BN[0][0]                 \n",
            "                                                                 aspp_b4_upsample[0][0]           \n",
            "__________________________________________________________________________________________________\n",
            "asppOut_conv1 (Conv2D)          (None, 60, 40, 256)  262400      aspp_concatenate[0][0]           \n",
            "__________________________________________________________________________________________________\n",
            "asppOut_BN (BatchNormalization) (None, 60, 40, 256)  1024        asppOut_conv1[0][0]              \n",
            "__________________________________________________________________________________________________\n",
            "out_small (Conv2D)              (None, 60, 40, 12)   3084        asppOut_BN[0][0]                 \n",
            "__________________________________________________________________________________________________\n",
            "output (UpSampling2D)           (None, 480, 320, 12) 0           out_small[0][0]                  \n",
            "==================================================================================================\n",
            "Total params: 17,606,604\n",
            "Trainable params: 17,604,044\n",
            "Non-trainable params: 2,560\n",
            "__________________________________________________________________________________________________\n",
            "None\n"
          ],
          "name": "stdout"
        }
      ]
    },
    {
      "cell_type": "code",
      "metadata": {
        "id": "wq7-tCmT49JJ"
      },
      "source": [
        "tf.keras.utils.plot_model(model)"
      ],
      "execution_count": null,
      "outputs": []
    },
    {
      "cell_type": "code",
      "metadata": {
        "id": "kK0KD0-A6SjV"
      },
      "source": [
        "import tensorflow as tf\n",
        "LOSS=tf.keras.losses.SparseCategoricalCrossentropy(from_logits=True)\n",
        "\n",
        "model.compile('Adam',\n",
        "              loss='sparse_categorical_crossentropy',\n",
        "              metrics=['accuracy', UpdatedMeanIoU(num_classes=12)])"
      ],
      "execution_count": 51,
      "outputs": []
    },
    {
      "cell_type": "code",
      "metadata": {
        "id": "vxR1nYjE7LwR"
      },
      "source": [
        "# Setup training parameters\n",
        "BATCH = 16\n",
        "EPOCHS = 30\n",
        "\n",
        "# early stopping callback. It stops training when the loss does not change for 3 consecutive epochs\n",
        "callback = tf.keras.callbacks.EarlyStopping(monitor='loss', patience=3)"
      ],
      "execution_count": 48,
      "outputs": []
    },
    {
      "cell_type": "code",
      "metadata": {
        "colab": {
          "base_uri": "https://localhost:8080/"
        },
        "id": "ZhH_3tnH7N74",
        "outputId": "e842c0be-9330-4ba5-e6ed-3dabda1c2525"
      },
      "source": [
        "history = model.fit(trainImgs, trainLabels, epochs=EPOCHS, batch_size=BATCH, validation_data=(valImgs, valLabels))"
      ],
      "execution_count": 52,
      "outputs": [
        {
          "output_type": "stream",
          "text": [
            "Epoch 1/30\n",
            "63/63 [==============================] - 78s 1s/step - loss: 1.7613 - accuracy: 0.7480 - updated_mean_io_u_3: 0.0849 - val_loss: 1.2641 - val_accuracy: 0.7335 - val_updated_mean_io_u_3: 0.0731\n",
            "Epoch 2/30\n",
            "63/63 [==============================] - 79s 1s/step - loss: 0.3827 - accuracy: 0.9616 - updated_mean_io_u_3: 0.1202 - val_loss: 0.4599 - val_accuracy: 0.9512 - val_updated_mean_io_u_3: 0.1076\n",
            "Epoch 3/30\n",
            "63/63 [==============================] - 79s 1s/step - loss: 0.1837 - accuracy: 0.9676 - updated_mean_io_u_3: 0.1244 - val_loss: 0.2330 - val_accuracy: 0.9649 - val_updated_mean_io_u_3: 0.1374\n",
            "Epoch 4/30\n",
            "63/63 [==============================] - 75s 1s/step - loss: 0.1354 - accuracy: 0.9684 - updated_mean_io_u_3: 0.1374 - val_loss: 0.3102 - val_accuracy: 0.9621 - val_updated_mean_io_u_3: 0.0820\n",
            "Epoch 5/30\n",
            "63/63 [==============================] - 79s 1s/step - loss: 0.1119 - accuracy: 0.9705 - updated_mean_io_u_3: 0.1725 - val_loss: 0.2359 - val_accuracy: 0.9622 - val_updated_mean_io_u_3: 0.0802\n",
            "Epoch 6/30\n",
            "63/63 [==============================] - 79s 1s/step - loss: 0.1020 - accuracy: 0.9717 - updated_mean_io_u_3: 0.1978 - val_loss: 4.4848 - val_accuracy: 0.5371 - val_updated_mean_io_u_3: 0.0552\n",
            "Epoch 7/30\n",
            "63/63 [==============================] - 75s 1s/step - loss: 0.0935 - accuracy: 0.9727 - updated_mean_io_u_3: 0.2150 - val_loss: 0.1892 - val_accuracy: 0.9643 - val_updated_mean_io_u_3: 0.1042\n",
            "Epoch 8/30\n",
            "63/63 [==============================] - 74s 1s/step - loss: 0.0809 - accuracy: 0.9755 - updated_mean_io_u_3: 0.2673 - val_loss: 0.1934 - val_accuracy: 0.9623 - val_updated_mean_io_u_3: 0.0815\n",
            "Epoch 9/30\n",
            "63/63 [==============================] - 74s 1s/step - loss: 0.0759 - accuracy: 0.9762 - updated_mean_io_u_3: 0.3023 - val_loss: 0.9086 - val_accuracy: 0.7998 - val_updated_mean_io_u_3: 0.1205\n",
            "Epoch 10/30\n",
            "63/63 [==============================] - 79s 1s/step - loss: 0.0663 - accuracy: 0.9784 - updated_mean_io_u_3: 0.3473 - val_loss: 0.0834 - val_accuracy: 0.9739 - val_updated_mean_io_u_3: 0.2086\n",
            "Epoch 11/30\n",
            "63/63 [==============================] - 75s 1s/step - loss: 0.0639 - accuracy: 0.9788 - updated_mean_io_u_3: 0.3745 - val_loss: 0.0748 - val_accuracy: 0.9771 - val_updated_mean_io_u_3: 0.2759\n",
            "Epoch 12/30\n",
            "63/63 [==============================] - 79s 1s/step - loss: 0.0561 - accuracy: 0.9807 - updated_mean_io_u_3: 0.4233 - val_loss: 0.0936 - val_accuracy: 0.9717 - val_updated_mean_io_u_3: 0.1899\n",
            "Epoch 13/30\n",
            "63/63 [==============================] - 79s 1s/step - loss: 0.0515 - accuracy: 0.9819 - updated_mean_io_u_3: 0.4566 - val_loss: 0.0668 - val_accuracy: 0.9782 - val_updated_mean_io_u_3: 0.2671\n",
            "Epoch 14/30\n",
            "63/63 [==============================] - 75s 1s/step - loss: 0.0477 - accuracy: 0.9830 - updated_mean_io_u_3: 0.4906 - val_loss: 0.1020 - val_accuracy: 0.9714 - val_updated_mean_io_u_3: 0.1731\n",
            "Epoch 15/30\n",
            "63/63 [==============================] - 79s 1s/step - loss: 0.0484 - accuracy: 0.9826 - updated_mean_io_u_3: 0.4928 - val_loss: 0.0799 - val_accuracy: 0.9753 - val_updated_mean_io_u_3: 0.2653\n",
            "Epoch 16/30\n",
            "63/63 [==============================] - 75s 1s/step - loss: 0.0451 - accuracy: 0.9835 - updated_mean_io_u_3: 0.5168 - val_loss: 0.0937 - val_accuracy: 0.9727 - val_updated_mean_io_u_3: 0.2118\n",
            "Epoch 17/30\n",
            "63/63 [==============================] - 74s 1s/step - loss: 0.0425 - accuracy: 0.9841 - updated_mean_io_u_3: 0.5361 - val_loss: 0.0607 - val_accuracy: 0.9802 - val_updated_mean_io_u_3: 0.3469\n",
            "Epoch 18/30\n",
            "63/63 [==============================] - 75s 1s/step - loss: 0.0423 - accuracy: 0.9841 - updated_mean_io_u_3: 0.5436 - val_loss: 0.0652 - val_accuracy: 0.9778 - val_updated_mean_io_u_3: 0.3628\n",
            "Epoch 19/30\n",
            "63/63 [==============================] - 75s 1s/step - loss: 0.0418 - accuracy: 0.9842 - updated_mean_io_u_3: 0.5397 - val_loss: 0.0577 - val_accuracy: 0.9811 - val_updated_mean_io_u_3: 0.4659\n",
            "Epoch 20/30\n",
            "63/63 [==============================] - 75s 1s/step - loss: 0.0398 - accuracy: 0.9848 - updated_mean_io_u_3: 0.5559 - val_loss: 0.0512 - val_accuracy: 0.9819 - val_updated_mean_io_u_3: 0.4255\n",
            "Epoch 21/30\n",
            "63/63 [==============================] - 79s 1s/step - loss: 0.0385 - accuracy: 0.9853 - updated_mean_io_u_3: 0.5806 - val_loss: 0.0543 - val_accuracy: 0.9818 - val_updated_mean_io_u_3: 0.5432\n",
            "Epoch 22/30\n",
            "63/63 [==============================] - 75s 1s/step - loss: 0.0386 - accuracy: 0.9851 - updated_mean_io_u_3: 0.5681 - val_loss: 0.0442 - val_accuracy: 0.9843 - val_updated_mean_io_u_3: 0.5104\n",
            "Epoch 23/30\n",
            "63/63 [==============================] - 75s 1s/step - loss: 0.0360 - accuracy: 0.9860 - updated_mean_io_u_3: 0.5954 - val_loss: 0.0624 - val_accuracy: 0.9784 - val_updated_mean_io_u_3: 0.4223\n",
            "Epoch 24/30\n",
            "63/63 [==============================] - 79s 1s/step - loss: 0.0381 - accuracy: 0.9852 - updated_mean_io_u_3: 0.5850 - val_loss: 0.0471 - val_accuracy: 0.9844 - val_updated_mean_io_u_3: 0.5705\n",
            "Epoch 25/30\n",
            "63/63 [==============================] - 75s 1s/step - loss: 0.0352 - accuracy: 0.9862 - updated_mean_io_u_3: 0.6031 - val_loss: 0.0767 - val_accuracy: 0.9779 - val_updated_mean_io_u_3: 0.5534\n",
            "Epoch 26/30\n",
            "63/63 [==============================] - 79s 1s/step - loss: 0.0357 - accuracy: 0.9860 - updated_mean_io_u_3: 0.6004 - val_loss: 0.0426 - val_accuracy: 0.9851 - val_updated_mean_io_u_3: 0.5194\n",
            "Epoch 27/30\n",
            "63/63 [==============================] - 75s 1s/step - loss: 0.0340 - accuracy: 0.9865 - updated_mean_io_u_3: 0.6095 - val_loss: 0.0419 - val_accuracy: 0.9856 - val_updated_mean_io_u_3: 0.5861\n",
            "Epoch 28/30\n",
            "63/63 [==============================] - 79s 1s/step - loss: 0.0341 - accuracy: 0.9864 - updated_mean_io_u_3: 0.6158 - val_loss: 0.0541 - val_accuracy: 0.9813 - val_updated_mean_io_u_3: 0.4175\n",
            "Epoch 29/30\n",
            "63/63 [==============================] - 79s 1s/step - loss: 0.0340 - accuracy: 0.9864 - updated_mean_io_u_3: 0.6170 - val_loss: 0.0399 - val_accuracy: 0.9862 - val_updated_mean_io_u_3: 0.5956\n",
            "Epoch 30/30\n",
            "63/63 [==============================] - 79s 1s/step - loss: 0.0321 - accuracy: 0.9871 - updated_mean_io_u_3: 0.6328 - val_loss: 0.0393 - val_accuracy: 0.9866 - val_updated_mean_io_u_3: 0.6087\n"
          ],
          "name": "stdout"
        }
      ]
    },
    {
      "cell_type": "code",
      "metadata": {
        "colab": {
          "base_uri": "https://localhost:8080/",
          "height": 300
        },
        "id": "G0itmgPE7Qyv",
        "outputId": "8523a0bf-87e8-47e7-c666-40f28d79ee65"
      },
      "source": [
        "#  Plot the results\n",
        "print(history.history.keys())\n",
        "\n",
        "import matplotlib.pyplot as plt\n",
        "plt.plot(history.history['accuracy'])\n",
        "plt.plot(history.history['val_accuracy'])"
      ],
      "execution_count": 53,
      "outputs": [
        {
          "output_type": "stream",
          "text": [
            "dict_keys(['loss', 'accuracy', 'updated_mean_io_u_3', 'val_loss', 'val_accuracy', 'val_updated_mean_io_u_3'])\n"
          ],
          "name": "stdout"
        },
        {
          "output_type": "execute_result",
          "data": {
            "text/plain": [
              "[<matplotlib.lines.Line2D at 0x7f0a2c043510>]"
            ]
          },
          "metadata": {
            "tags": []
          },
          "execution_count": 53
        },
        {
          "output_type": "display_data",
          "data": {
            "image/png": "[encoded data removed]",
            "text/plain": [
              "<Figure size 432x288 with 1 Axes>"
            ]
          },
          "metadata": {
            "tags": [],
            "needs_background": "light"
          }
        }
      ]
    },
    {
      "cell_type": "code",
      "metadata": {
        "colab": {
          "base_uri": "https://localhost:8080/",
          "height": 282
        },
        "id": "hBIQ8uQf-FnM",
        "outputId": "9ec57c5e-6676-4804-87be-c9d4874c2161"
      },
      "source": [
        "plt.plot(history.history['loss'])\n",
        "plt.plot(history.history['val_loss'])"
      ],
      "execution_count": 54,
      "outputs": [
        {
          "output_type": "execute_result",
          "data": {
            "text/plain": [
              "[<matplotlib.lines.Line2D at 0x7f08c6095350>]"
            ]
          },
          "metadata": {
            "tags": []
          },
          "execution_count": 54
        },
        {
          "output_type": "display_data",
          "data": {
            "image/png": "[encoded data removed]",
            "text/plain": [
              "<Figure size 432x288 with 1 Axes>"
            ]
          },
          "metadata": {
            "tags": [],
            "needs_background": "light"
          }
        }
      ]
    },
    {
      "cell_type": "code",
      "metadata": {
        "colab": {
          "base_uri": "https://localhost:8080/",
          "height": 282
        },
        "id": "D6qKznQQ-JfX",
        "outputId": "6ac9fc46-4bef-4da8-b642-c20c471b8e24"
      },
      "source": [
        "plt.plot(history.history['updated_mean_io_u_3'])\n",
        "plt.plot(history.history['val_updated_mean_io_u_3'])"
      ],
      "execution_count": 56,
      "outputs": [
        {
          "output_type": "execute_result",
          "data": {
            "text/plain": [
              "[<matplotlib.lines.Line2D at 0x7f0bc20a03d0>]"
            ]
          },
          "metadata": {
            "tags": []
          },
          "execution_count": 56
        },
        {
          "output_type": "display_data",
          "data": {
            "image/png": "[encoded data removed]",
            "text/plain": [
              "<Figure size 432x288 with 1 Axes>"
            ]
          },
          "metadata": {
            "tags": [],
            "needs_background": "light"
          }
        }
      ]
    },
    {
      "cell_type": "code",
      "metadata": {
        "id": "YNQZqORl-OvA"
      },
      "source": [
        "# get the testdata\n",
        "testImgs   = getData(testPath, testImgsFile)\n",
        "testLabels = getData(testPath, testLabelsFile)"
      ],
      "execution_count": 57,
      "outputs": []
    },
    {
      "cell_type": "code",
      "metadata": {
        "colab": {
          "base_uri": "https://localhost:8080/"
        },
        "id": "0T-vIyea-a8y",
        "outputId": "b2ad7150-8a96-4119-e956-10651b9851f3"
      },
      "source": [
        "model.evaluate(testImgs, testLabels)"
      ],
      "execution_count": 58,
      "outputs": [
        {
          "output_type": "stream",
          "text": [
            "20/20 [==============================] - 38s 1s/step - loss: 0.0348 - accuracy: 0.9869 - updated_mean_io_u_3: 0.6160\n"
          ],
          "name": "stdout"
        },
        {
          "output_type": "execute_result",
          "data": {
            "text/plain": [
              "[0.034828219562768936, 0.9868962168693542, 0.6159505248069763]"
            ]
          },
          "metadata": {
            "tags": []
          },
          "execution_count": 58
        }
      ]
    },
    {
      "cell_type": "code",
      "metadata": {
        "id": "-SlM5BhJ-c6e"
      },
      "source": [
        "# save the model weights\n",
        "weightFileName = 'DeepLabV3VggNet16_30e_16b.h5'\n",
        "weightPath = '/content/drive/My Drive/Underwater_Segmentation_Research/Weights/DeepLabV3'\n",
        "model.save_weights(weightPath + \"/\" + weightFileName)"
      ],
      "execution_count": 60,
      "outputs": []
    },
    {
      "cell_type": "code",
      "metadata": {
        "colab": {
          "base_uri": "https://localhost:8080/"
        },
        "id": "GBBmEsgf-qef",
        "outputId": "0a20c4b1-5a57-40ad-911c-4091b52d9b1a"
      },
      "source": [
        "modelFileName = \"DeepLabV3VggNet16_30e_16b\"\n",
        "modelPath     = '/content/drive/My Drive/Underwater_Segmentation_Research/Models/DeepLabV3'\n",
        "model.save(modelPath + \"/\" + modelFileName)"
      ],
      "execution_count": 62,
      "outputs": [
        {
          "output_type": "stream",
          "text": [
            "INFO:tensorflow:Assets written to: /content/drive/My Drive/Underwater_Segmentation_Research/Models/DeepLabV3/DeepLabV3VggNet16_30e_16b/assets\n"
          ],
          "name": "stdout"
        }
      ]
    },
    {
      "cell_type": "code",
      "metadata": {
        "colab": {
          "base_uri": "https://localhost:8080/"
        },
        "id": "qK2vTj-O-xnO",
        "outputId": "7ca44f88-cf4f-4f6e-a300-f4988e52d436"
      },
      "source": [
        "# Check the GPU configuration\n",
        "!nvidia-smi"
      ],
      "execution_count": 63,
      "outputs": [
        {
          "output_type": "stream",
          "text": [
            "Fri Jun 11 18:02:23 2021       \n",
            "+-----------------------------------------------------------------------------+\n",
            "| NVIDIA-SMI 465.27       Driver Version: 460.32.03    CUDA Version: 11.2     |\n",
            "|-------------------------------+----------------------+----------------------+\n",
            "| GPU  Name        Persistence-M| Bus-Id        Disp.A | Volatile Uncorr. ECC |\n",
            "| Fan  Temp  Perf  Pwr:Usage/Cap|         Memory-Usage | GPU-Util  Compute M. |\n",
            "|                               |                      |               MIG M. |\n",
            "|===============================+======================+======================|\n",
            "|   0  Tesla T4            Off  | 00000000:00:04.0 Off |                    0 |\n",
            "| N/A   73C    P0    34W /  70W |  14570MiB / 15109MiB |      0%      Default |\n",
            "|                               |                      |                  N/A |\n",
            "+-------------------------------+----------------------+----------------------+\n",
            "                                                                               \n",
            "+-----------------------------------------------------------------------------+\n",
            "| Processes:                                                                  |\n",
            "|  GPU   GI   CI        PID   Type   Process name                  GPU Memory |\n",
            "|        ID   ID                                                   Usage      |\n",
            "|=============================================================================|\n",
            "+-----------------------------------------------------------------------------+\n"
          ],
          "name": "stdout"
        }
      ]
    },
    {
      "cell_type": "code",
      "metadata": {
        "id": "npvlyYfH-zoQ"
      },
      "source": [
        "y_preds = model.predict(testImgs)\n",
        "y_preds = (y_preds >= 0.5).astype(np.uint8)"
      ],
      "execution_count": null,
      "outputs": []
    },
    {
      "cell_type": "code",
      "metadata": {
        "id": "JZU0cSBe-1v9"
      },
      "source": [
        "yPreds = tf.argmax(y_preds, axis=-1)\n",
        "yPreds = yPreds.numpy()"
      ],
      "execution_count": null,
      "outputs": []
    },
    {
      "cell_type": "code",
      "metadata": {
        "id": "OoYp5gzp-4UF"
      },
      "source": [
        "# Compute mean of per-class IOU throughout the test images\n",
        "num_classes=12\n",
        "m = UpdatedMeanIoU(num_classes=12)\n",
        "m.update_state(testLabels, y_preds)\n",
        "\n",
        "print(f'Overall mean IOU is : {m.result().numpy()}')\n",
        "\n",
        "# Values is the confusion matrix\n",
        "values = np.array(m.get_weights()).reshape(num_classes, num_classes)"
      ],
      "execution_count": null,
      "outputs": []
    },
    {
      "cell_type": "code",
      "metadata": {
        "id": "N37yQval-6Wj"
      },
      "source": [
        "# compute the mean per-class IOU\n",
        "numClasses = 12\n",
        "\n",
        "classIOU = []\n",
        "\n",
        "for i in range(numClasses):\n",
        "  rowSum = np.sum(values[i,:])\n",
        "  colSum = np.sum(values[:,i])\n",
        "  denom = rowSum + colSum - values[i,i]\n",
        "  iou = values[i,i]/denom\n",
        "  classIOU.append(iou)\n",
        "\n",
        "print(classIOU)\n",
        "perClassIoU = np.array(classIOU)\n",
        "print(np.mean(perClassIoU))"
      ],
      "execution_count": null,
      "outputs": []
    },
    {
      "cell_type": "code",
      "metadata": {
        "id": "DxQnutDs-8mX"
      },
      "source": [
        "import matplotlib.pyplot as plt\n",
        "i = 0\n",
        "plt.imshow(yPreds[i])\n",
        "plt.show()\n",
        "\n",
        "print(np.unique(yPreds[i,:,:]))\n",
        "\n",
        "plt.imshow(testLabels[i,:,:,0])\n",
        "plt.show()\n",
        "\n",
        "print(np.unique(testLabels[i,:,:,0]))\n",
        "\n",
        "t = np.linspace(0,11,num=12)\n",
        "plt.plot(t, perClassIoU)\n",
        "plt.show()"
      ],
      "execution_count": null,
      "outputs": []
    }
  ]
}