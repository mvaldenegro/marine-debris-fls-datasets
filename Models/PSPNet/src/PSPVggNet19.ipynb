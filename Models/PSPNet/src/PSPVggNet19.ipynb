{
  "nbformat": 4,
  "nbformat_minor": 0,
  "metadata": {
    "colab": {
      "name": "PSPVggNet19.ipynb",
      "provenance": []
    },
    "kernelspec": {
      "name": "python3",
      "display_name": "Python 3"
    },
    "language_info": {
      "name": "python"
    },
    "accelerator": "GPU"
  },
  "cells": [
    {
      "cell_type": "code",
      "metadata": {
        "id": "646a6ZidU1EX"
      },
      "source": [
        "# LinkNet with ResNet34 for multiclass semantic segmentation\n",
        "!pip install tensorflow==2.1.0"
      ],
      "execution_count": null,
      "outputs": []
    },
    {
      "cell_type": "code",
      "metadata": {
        "id": "mW_wHDsHU_Mb"
      },
      "source": [
        "!pip install segmentation-models"
      ],
      "execution_count": null,
      "outputs": []
    },
    {
      "cell_type": "code",
      "metadata": {
        "id": "WNgO5XWhVBDR"
      },
      "source": [
        "# mount google drive here\n",
        "from google.colab import drive\n",
        "drive.mount('/content/drive')"
      ],
      "execution_count": null,
      "outputs": []
    },
    {
      "cell_type": "code",
      "metadata": {
        "colab": {
          "base_uri": "https://localhost:8080/"
        },
        "id": "_JMHD5bVVCwc",
        "outputId": "e2a8680e-e0e3-4e35-be86-591cb342f514"
      },
      "source": [
        "# Fetch the training, validation and testing dataset\n",
        "import os\n",
        "import numpy as np\n",
        "\n",
        "dataPath  = '/content/drive/My Drive/Underwater_Segmentation_Research/Weights/PSPNET'\n",
        "d = '/content/drive/My Drive/Underwater_Segmentation_Research/Data'\n",
        "\n",
        "trainPath       =  dataPath + '/Train'\n",
        "testPath        =  dataPath + '/Test'\n",
        "valPath         =  d + '/Validate'\n",
        "\n",
        "trainImgsFile   = 'trainingDataImgs.npy'\n",
        "trainLabelsFile = 'trainingDataLabels.npy'\n",
        "\n",
        "testImgsFile    = 'testingDataImgs.npy'\n",
        "testLabelsFile  = 'testingDataLabels.npy'\n",
        "\n",
        "valImgsFile     = 'validationDataImgs.npy'\n",
        "valLabelsFile   = 'validationDataLabels.npy'\n",
        "\n",
        "def getData(path,fileName):\n",
        "  return np.load(path + \"/\" + fileName)\n",
        "\n",
        "trainImgs   = getData(dataPath, trainImgsFile)\n",
        "trainLabels = getData(dataPath, trainLabelsFile)\n",
        "\n",
        "valImgs    = getData(dataPath, valImgsFile)\n",
        "valLabels  = getData(dataPath, valLabelsFile)\n",
        "\n",
        "print(\"Got train and validation data\")\n",
        "print(trainImgs.shape, valImgs.shape)\n",
        "print(trainLabels.shape, valLabels.shape)\n"
      ],
      "execution_count": 4,
      "outputs": [
        {
          "output_type": "stream",
          "text": [
            "Got train and validation data\n",
            "(1000, 480, 480, 1) (251, 480, 480, 1)\n",
            "(1000, 480, 480, 1) (251, 480, 480, 1)\n"
          ],
          "name": "stdout"
        }
      ]
    },
    {
      "cell_type": "code",
      "metadata": {
        "id": "URg1avKvVNQF"
      },
      "source": [
        "# Create the model (without pre-trained ImageNet weights)\n",
        "import os\n",
        "import numpy as np\n",
        "import tensorflow as tf\n",
        "import segmentation_models as sm\n",
        "\n",
        "# create the model\n",
        "model = sm.PSPNet('vgg19', input_shape=(480, 480, 1), encoder_weights=None, classes=12, activation='softmax')\n",
        "model.summary()\n"
      ],
      "execution_count": null,
      "outputs": []
    },
    {
      "cell_type": "code",
      "metadata": {
        "id": "msfXYbrZVP6j"
      },
      "source": [
        "class UpdatedMeanIoU(tf.keras.metrics.MeanIoU):\n",
        "  def __init__(self,\n",
        "               y_true=None,\n",
        "               y_pred=None,\n",
        "               num_classes=None,\n",
        "               name=None,\n",
        "               dtype=None):\n",
        "    super(UpdatedMeanIoU, self).__init__(num_classes = num_classes,name=name, dtype=dtype)\n",
        "\n",
        "  def update_state(self, y_true, y_pred, sample_weight=None):\n",
        "    y_pred = tf.math.argmax(y_pred, axis=-1)\n",
        "    return super().update_state(y_true, y_pred, sample_weight)"
      ],
      "execution_count": 6,
      "outputs": []
    },
    {
      "cell_type": "code",
      "metadata": {
        "id": "T3m4A8CQVReQ"
      },
      "source": [
        "import tensorflow as tf\n",
        "LOSS=tf.keras.losses.SparseCategoricalCrossentropy(from_logits=True)\n",
        "\n",
        "model.compile('Adam',\n",
        "              loss='sparse_categorical_crossentropy',\n",
        "              metrics=['accuracy', UpdatedMeanIoU(num_classes=12)])"
      ],
      "execution_count": 7,
      "outputs": []
    },
    {
      "cell_type": "code",
      "metadata": {
        "id": "Z9SkS5llVTGJ"
      },
      "source": [
        "# Setup training parameters\n",
        "BATCH = 16\n",
        "EPOCHS = 30\n",
        "\n",
        "# early stopping callback. It stops training when the loss does not change for 3 consecutive epochs\n",
        "callback = tf.keras.callbacks.EarlyStopping(monitor='loss', patience=3)"
      ],
      "execution_count": 8,
      "outputs": []
    },
    {
      "cell_type": "code",
      "metadata": {
        "colab": {
          "base_uri": "https://localhost:8080/"
        },
        "id": "nlwSNsgxVU_x",
        "outputId": "abaf8343-6403-43b0-ae71-133323f2b2e2"
      },
      "source": [
        "history = model.fit(trainImgs, trainLabels, epochs=EPOCHS, batch_size=BATCH, validation_data=(valImgs, valLabels))"
      ],
      "execution_count": 9,
      "outputs": [
        {
          "output_type": "stream",
          "text": [
            "Train on 1000 samples, validate on 251 samples\n",
            "Epoch 1/30\n",
            "1000/1000 [==============================] - 120s 120ms/sample - loss: 0.3128 - accuracy: 0.9564 - updated_mean_io_u: 0.0801 - val_loss: 0.1830 - val_accuracy: 0.9748 - val_updated_mean_io_u: 0.0812\n",
            "Epoch 2/30\n",
            "1000/1000 [==============================] - 87s 87ms/sample - loss: 0.1062 - accuracy: 0.9761 - updated_mean_io_u: 0.0905 - val_loss: 0.1516 - val_accuracy: 0.9748 - val_updated_mean_io_u: 0.0812\n",
            "Epoch 3/30\n",
            "1000/1000 [==============================] - 87s 87ms/sample - loss: 0.0959 - accuracy: 0.9767 - updated_mean_io_u: 0.1007 - val_loss: 0.1578 - val_accuracy: 0.9748 - val_updated_mean_io_u: 0.0812\n",
            "Epoch 4/30\n",
            "1000/1000 [==============================] - 87s 87ms/sample - loss: 0.0885 - accuracy: 0.9773 - updated_mean_io_u: 0.1068 - val_loss: 0.1629 - val_accuracy: 0.9748 - val_updated_mean_io_u: 0.0813\n",
            "Epoch 5/30\n",
            "1000/1000 [==============================] - 87s 87ms/sample - loss: 0.0834 - accuracy: 0.9780 - updated_mean_io_u: 0.1180 - val_loss: 0.1614 - val_accuracy: 0.9777 - val_updated_mean_io_u: 0.1047\n",
            "Epoch 6/30\n",
            "1000/1000 [==============================] - 87s 87ms/sample - loss: 0.0762 - accuracy: 0.9793 - updated_mean_io_u: 0.1403 - val_loss: 0.1473 - val_accuracy: 0.9754 - val_updated_mean_io_u: 0.0880\n",
            "Epoch 7/30\n",
            "1000/1000 [==============================] - 87s 87ms/sample - loss: 0.0695 - accuracy: 0.9808 - updated_mean_io_u: 0.1670 - val_loss: 0.1621 - val_accuracy: 0.9753 - val_updated_mean_io_u: 0.1589\n",
            "Epoch 8/30\n",
            "1000/1000 [==============================] - 87s 87ms/sample - loss: 0.0642 - accuracy: 0.9817 - updated_mean_io_u: 0.1939 - val_loss: 0.1200 - val_accuracy: 0.9836 - val_updated_mean_io_u: 0.1925\n",
            "Epoch 9/30\n",
            "1000/1000 [==============================] - 87s 87ms/sample - loss: 0.0537 - accuracy: 0.9843 - updated_mean_io_u: 0.2526 - val_loss: 0.0844 - val_accuracy: 0.9823 - val_updated_mean_io_u: 0.1738\n",
            "Epoch 10/30\n",
            "1000/1000 [==============================] - 87s 87ms/sample - loss: 0.0510 - accuracy: 0.9848 - updated_mean_io_u: 0.2664 - val_loss: 0.0768 - val_accuracy: 0.9781 - val_updated_mean_io_u: 0.1433\n",
            "Epoch 11/30\n",
            "1000/1000 [==============================] - 87s 87ms/sample - loss: 0.0450 - accuracy: 0.9861 - updated_mean_io_u: 0.3287 - val_loss: 0.0590 - val_accuracy: 0.9857 - val_updated_mean_io_u: 0.2512\n",
            "Epoch 12/30\n",
            "1000/1000 [==============================] - 87s 87ms/sample - loss: 0.0403 - accuracy: 0.9874 - updated_mean_io_u: 0.3849 - val_loss: 0.0526 - val_accuracy: 0.9847 - val_updated_mean_io_u: 0.2310\n",
            "Epoch 13/30\n",
            "1000/1000 [==============================] - 87s 87ms/sample - loss: 0.0368 - accuracy: 0.9881 - updated_mean_io_u: 0.4314 - val_loss: 0.0478 - val_accuracy: 0.9853 - val_updated_mean_io_u: 0.2492\n",
            "Epoch 14/30\n",
            "1000/1000 [==============================] - 87s 87ms/sample - loss: 0.0337 - accuracy: 0.9890 - updated_mean_io_u: 0.4703 - val_loss: 0.0395 - val_accuracy: 0.9892 - val_updated_mean_io_u: 0.4022\n",
            "Epoch 15/30\n",
            "1000/1000 [==============================] - 87s 87ms/sample - loss: 0.0304 - accuracy: 0.9898 - updated_mean_io_u: 0.5101 - val_loss: 0.0383 - val_accuracy: 0.9877 - val_updated_mean_io_u: 0.3124\n",
            "Epoch 16/30\n",
            "1000/1000 [==============================] - 87s 87ms/sample - loss: 0.0298 - accuracy: 0.9900 - updated_mean_io_u: 0.5214 - val_loss: 0.0343 - val_accuracy: 0.9891 - val_updated_mean_io_u: 0.4861\n",
            "Epoch 17/30\n",
            "1000/1000 [==============================] - 87s 87ms/sample - loss: 0.0292 - accuracy: 0.9902 - updated_mean_io_u: 0.5358 - val_loss: 0.0298 - val_accuracy: 0.9909 - val_updated_mean_io_u: 0.5152\n",
            "Epoch 18/30\n",
            "1000/1000 [==============================] - 87s 87ms/sample - loss: 0.0258 - accuracy: 0.9910 - updated_mean_io_u: 0.5733 - val_loss: 0.0287 - val_accuracy: 0.9910 - val_updated_mean_io_u: 0.5700\n",
            "Epoch 19/30\n",
            "1000/1000 [==============================] - 87s 87ms/sample - loss: 0.0247 - accuracy: 0.9915 - updated_mean_io_u: 0.6063 - val_loss: 0.0275 - val_accuracy: 0.9916 - val_updated_mean_io_u: 0.5692\n",
            "Epoch 20/30\n",
            "1000/1000 [==============================] - 87s 87ms/sample - loss: 0.0229 - accuracy: 0.9919 - updated_mean_io_u: 0.6254 - val_loss: 0.0288 - val_accuracy: 0.9916 - val_updated_mean_io_u: 0.6274\n",
            "Epoch 21/30\n",
            "1000/1000 [==============================] - 87s 87ms/sample - loss: 0.0218 - accuracy: 0.9922 - updated_mean_io_u: 0.6452 - val_loss: 0.0255 - val_accuracy: 0.9923 - val_updated_mean_io_u: 0.6460\n",
            "Epoch 22/30\n",
            "1000/1000 [==============================] - 87s 87ms/sample - loss: 0.0215 - accuracy: 0.9923 - updated_mean_io_u: 0.6511 - val_loss: 0.0271 - val_accuracy: 0.9917 - val_updated_mean_io_u: 0.5704\n",
            "Epoch 23/30\n",
            "1000/1000 [==============================] - 87s 87ms/sample - loss: 0.0218 - accuracy: 0.9923 - updated_mean_io_u: 0.6441 - val_loss: 0.0253 - val_accuracy: 0.9924 - val_updated_mean_io_u: 0.6602\n",
            "Epoch 24/30\n",
            "1000/1000 [==============================] - 87s 87ms/sample - loss: 0.0202 - accuracy: 0.9927 - updated_mean_io_u: 0.6693 - val_loss: 0.0261 - val_accuracy: 0.9917 - val_updated_mean_io_u: 0.6170\n",
            "Epoch 25/30\n",
            "1000/1000 [==============================] - 87s 87ms/sample - loss: 0.0188 - accuracy: 0.9931 - updated_mean_io_u: 0.6824 - val_loss: 0.0237 - val_accuracy: 0.9923 - val_updated_mean_io_u: 0.6390\n",
            "Epoch 26/30\n",
            "1000/1000 [==============================] - 87s 87ms/sample - loss: 0.0188 - accuracy: 0.9931 - updated_mean_io_u: 0.6815 - val_loss: 0.0241 - val_accuracy: 0.9928 - val_updated_mean_io_u: 0.6792\n",
            "Epoch 27/30\n",
            "1000/1000 [==============================] - 87s 87ms/sample - loss: 0.0175 - accuracy: 0.9935 - updated_mean_io_u: 0.6986 - val_loss: 0.0239 - val_accuracy: 0.9926 - val_updated_mean_io_u: 0.6745\n",
            "Epoch 28/30\n",
            "1000/1000 [==============================] - 87s 87ms/sample - loss: 0.0169 - accuracy: 0.9936 - updated_mean_io_u: 0.7079 - val_loss: 0.0309 - val_accuracy: 0.9901 - val_updated_mean_io_u: 0.6138\n",
            "Epoch 29/30\n",
            "1000/1000 [==============================] - 87s 87ms/sample - loss: 0.0186 - accuracy: 0.9931 - updated_mean_io_u: 0.6893 - val_loss: 0.0236 - val_accuracy: 0.9928 - val_updated_mean_io_u: 0.6818\n",
            "Epoch 30/30\n",
            "1000/1000 [==============================] - 87s 87ms/sample - loss: 0.0172 - accuracy: 0.9935 - updated_mean_io_u: 0.7076 - val_loss: 0.0232 - val_accuracy: 0.9931 - val_updated_mean_io_u: 0.6864\n"
          ],
          "name": "stdout"
        }
      ]
    },
    {
      "cell_type": "code",
      "metadata": {
        "colab": {
          "base_uri": "https://localhost:8080/",
          "height": 302
        },
        "id": "YkrWfN9oVXDb",
        "outputId": "203f9fd3-865a-4820-98a4-0a9bb4572dff"
      },
      "source": [
        "print(history.history.keys())\n",
        "\n",
        "import matplotlib.pyplot as plt\n",
        "plt.plot(history.history['accuracy'])\n",
        "plt.plot(history.history['val_accuracy'])"
      ],
      "execution_count": 10,
      "outputs": [
        {
          "output_type": "stream",
          "text": [
            "dict_keys(['loss', 'accuracy', 'updated_mean_io_u', 'val_loss', 'val_accuracy', 'val_updated_mean_io_u'])\n"
          ],
          "name": "stdout"
        },
        {
          "output_type": "execute_result",
          "data": {
            "text/plain": [
              "[<matplotlib.lines.Line2D at 0x7f93780b9a50>]"
            ]
          },
          "metadata": {
            "tags": []
          },
          "execution_count": 10
        },
        {
          "output_type": "display_data",
          "data": {
            "image/png": "[encoded data removed]",
            "text/plain": [
              "<Figure size 432x288 with 1 Axes>"
            ]
          },
          "metadata": {
            "tags": [],
            "needs_background": "light"
          }
        }
      ]
    },
    {
      "cell_type": "code",
      "metadata": {
        "colab": {
          "base_uri": "https://localhost:8080/",
          "height": 282
        },
        "id": "q5a0SgCUVY9i",
        "outputId": "8c4c720d-cf56-4390-a7d7-fef0e8ca7996"
      },
      "source": [
        "plt.plot(history.history['loss'])\n",
        "plt.plot(history.history['val_loss'])"
      ],
      "execution_count": 11,
      "outputs": [
        {
          "output_type": "execute_result",
          "data": {
            "text/plain": [
              "[<matplotlib.lines.Line2D at 0x7f937335b410>]"
            ]
          },
          "metadata": {
            "tags": []
          },
          "execution_count": 11
        },
        {
          "output_type": "display_data",
          "data": {
            "image/png": "[encoded data removed]",
            "text/plain": [
              "<Figure size 432x288 with 1 Axes>"
            ]
          },
          "metadata": {
            "tags": [],
            "needs_background": "light"
          }
        }
      ]
    },
    {
      "cell_type": "code",
      "metadata": {
        "colab": {
          "base_uri": "https://localhost:8080/",
          "height": 282
        },
        "id": "Ric76vPxVa3l",
        "outputId": "4702d21a-b411-4ab7-a47e-75dbb209ded1"
      },
      "source": [
        "plt.plot(history.history['updated_mean_io_u'])\n",
        "plt.plot(history.history['val_updated_mean_io_u'])"
      ],
      "execution_count": 12,
      "outputs": [
        {
          "output_type": "execute_result",
          "data": {
            "text/plain": [
              "[<matplotlib.lines.Line2D at 0x7f93732ca250>]"
            ]
          },
          "metadata": {
            "tags": []
          },
          "execution_count": 12
        },
        {
          "output_type": "display_data",
          "data": {
            "image/png": "[encoded data removed]",
            "text/plain": [
              "<Figure size 432x288 with 1 Axes>"
            ]
          },
          "metadata": {
            "tags": [],
            "needs_background": "light"
          }
        }
      ]
    },
    {
      "cell_type": "code",
      "metadata": {
        "colab": {
          "base_uri": "https://localhost:8080/"
        },
        "id": "E5oLFFTCVc4W",
        "outputId": "472fee91-f8ed-4c7b-cacd-d39c1568ffd9"
      },
      "source": [
        "# get the testdata\n",
        "testImgs   = getData(dataPath, testImgsFile)\n",
        "testLabels = getData(dataPath, testLabelsFile)\n",
        "print(testImgs.shape, testLabels.shape)"
      ],
      "execution_count": 13,
      "outputs": [
        {
          "output_type": "stream",
          "text": [
            "(617, 480, 480, 1) (617, 480, 480, 1)\n"
          ],
          "name": "stdout"
        }
      ]
    },
    {
      "cell_type": "code",
      "metadata": {
        "id": "NJBjSRa3APLE"
      },
      "source": [
        "trainImgs = None\n",
        "trainLabels = None\n",
        "valImgs = None\n",
        "valLabels = None"
      ],
      "execution_count": 19,
      "outputs": []
    },
    {
      "cell_type": "code",
      "metadata": {
        "colab": {
          "base_uri": "https://localhost:8080/"
        },
        "id": "nDOUzXtWVjfJ",
        "outputId": "9e6a4c3d-2d4e-4aa6-9c3f-bd82263e39cc"
      },
      "source": [
        "model.evaluate(testImgs, testLabels)"
      ],
      "execution_count": 18,
      "outputs": [
        {
          "output_type": "stream",
          "text": [
            "617/617 [==============================] - 28s 45ms/sample - loss: 0.0197 - accuracy: 0.9932 - updated_mean_io_u: 0.6937\n"
          ],
          "name": "stdout"
        },
        {
          "output_type": "execute_result",
          "data": {
            "text/plain": [
              "[0.019729113719475905, 0.9931582, 0.69374895]"
            ]
          },
          "metadata": {
            "tags": []
          },
          "execution_count": 18
        }
      ]
    },
    {
      "cell_type": "code",
      "metadata": {
        "id": "D1Hoe-7UVmd8"
      },
      "source": [
        "# save the model weights\n",
        "weightFileName = \"PSPVggNet19_30e_16b_NEW.h5\"\n",
        "weightPath = '/content/drive/My Drive/Underwater_Segmentation_Research/Weights/PSPNET'\n",
        "model.save_weights(weightPath + \"/\" + weightFileName)\n"
      ],
      "execution_count": 16,
      "outputs": []
    },
    {
      "cell_type": "code",
      "metadata": {
        "id": "KUB1vg2zVoBk"
      },
      "source": [
        "model.load_weights(weightPath + \"/\" + weightFileName)\n",
        "#model.evaluate(testImgs, testLabels)"
      ],
      "execution_count": null,
      "outputs": []
    },
    {
      "cell_type": "code",
      "metadata": {
        "id": "M-ixXV4lVqB8"
      },
      "source": [
        "modelFileName = \"PSPVggNet19_30e_16b_NEW\"\n",
        "modelPath     = '/content/drive/My Drive/Underwater_Segmentation_Research/Models/PSPNET'\n",
        "model.save(modelPath + \"/\" + modelFileName)"
      ],
      "execution_count": null,
      "outputs": []
    },
    {
      "cell_type": "code",
      "metadata": {
        "colab": {
          "base_uri": "https://localhost:8080/"
        },
        "id": "9U-_GRs7VrRc",
        "outputId": "e965f097-c006-456d-dbae-a9d677a08b61"
      },
      "source": [
        "# Check the GPU configuration\n",
        "!nvidia-smi"
      ],
      "execution_count": 19,
      "outputs": [
        {
          "output_type": "stream",
          "text": [
            "Thu May 27 22:02:43 2021       \n",
            "+-----------------------------------------------------------------------------+\n",
            "| NVIDIA-SMI 465.19.01    Driver Version: 460.32.03    CUDA Version: 11.2     |\n",
            "|-------------------------------+----------------------+----------------------+\n",
            "| GPU  Name        Persistence-M| Bus-Id        Disp.A | Volatile Uncorr. ECC |\n",
            "| Fan  Temp  Perf  Pwr:Usage/Cap|         Memory-Usage | GPU-Util  Compute M. |\n",
            "|                               |                      |               MIG M. |\n",
            "|===============================+======================+======================|\n",
            "|   0  Tesla T4            Off  | 00000000:00:04.0 Off |                    0 |\n",
            "| N/A   74C    P0    34W /  70W |  10850MiB / 15109MiB |      0%      Default |\n",
            "|                               |                      |                  N/A |\n",
            "+-------------------------------+----------------------+----------------------+\n",
            "                                                                               \n",
            "+-----------------------------------------------------------------------------+\n",
            "| Processes:                                                                  |\n",
            "|  GPU   GI   CI        PID   Type   Process name                  GPU Memory |\n",
            "|        ID   ID                                                   Usage      |\n",
            "|=============================================================================|\n",
            "+-----------------------------------------------------------------------------+\n"
          ],
          "name": "stdout"
        }
      ]
    },
    {
      "cell_type": "code",
      "metadata": {
        "id": "VSl980wRVs2S"
      },
      "source": [
        "y_preds = model.predict(testImgs)\n",
        "y_preds = (y_preds >= 0.5).astype(np.uint8)"
      ],
      "execution_count": null,
      "outputs": []
    },
    {
      "cell_type": "code",
      "metadata": {
        "id": "zz2Zu_1hA4hf"
      },
      "source": [
        "y_preds = ((model.predict(testImgs)) >= 0.5).astype(np.uint8)"
      ],
      "execution_count": null,
      "outputs": []
    },
    {
      "cell_type": "code",
      "metadata": {
        "id": "qwAMqKHcWb0x"
      },
      "source": [
        "# Compute mean of per-class IOU throughout the test images\n",
        "num_classes=12\n",
        "m = UpdatedMeanIoU(num_classes=12)\n",
        "m.update_state(testLabels, y_preds)\n",
        "\n",
        "print(f'Overall mean IOU is : {m.result().numpy()}')\n",
        "\n",
        "# Values is the confusion matrix\n",
        "values = np.array(m.get_weights()).reshape(num_classes, num_classes)"
      ],
      "execution_count": null,
      "outputs": []
    },
    {
      "cell_type": "code",
      "metadata": {
        "id": "SGRLFlLKWfSY"
      },
      "source": [
        "yPreds = tf.argmax(ypreds, axis=-1)\n",
        "yPreds = yPreds.numpy()"
      ],
      "execution_count": null,
      "outputs": []
    },
    {
      "cell_type": "code",
      "metadata": {
        "id": "7H2PKRHt1ENu"
      },
      "source": [
        "import matplotlib.pyplot as plt\n",
        "i = 0\n",
        "plt.imshow(yPreds[i])\n",
        "plt.show()\n",
        "\n",
        "print(np.unique(yPreds[i,:,:]))\n",
        "\n",
        "plt.imshow(testLabels[i,:,:,0])\n",
        "plt.show()\n",
        "\n",
        "print(np.unique(testLabels[i,:,:,0]))\n",
        "\n",
        "t = np.linspace(0,11,num=12)\n",
        "plt.plot(t, perClassIoU)\n",
        "plt.show()"
      ],
      "execution_count": null,
      "outputs": []
    }
  ]
}