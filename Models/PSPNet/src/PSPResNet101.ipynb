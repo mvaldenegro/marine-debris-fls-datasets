{
  "nbformat": 4,
  "nbformat_minor": 0,
  "metadata": {
    "colab": {
      "name": "PSPResNet101.ipynb",
      "provenance": [],
      "collapsed_sections": []
    },
    "kernelspec": {
      "name": "python3",
      "display_name": "Python 3"
    },
    "language_info": {
      "name": "python"
    },
    "accelerator": "GPU"
  },
  "cells": [
    {
      "cell_type": "code",
      "metadata": {
        "id": "646a6ZidU1EX"
      },
      "source": [
        "!pip install tensorflow==2.1.0"
      ],
      "execution_count": null,
      "outputs": []
    },
    {
      "cell_type": "code",
      "metadata": {
        "colab": {
          "base_uri": "https://localhost:8080/"
        },
        "id": "mW_wHDsHU_Mb",
        "outputId": "82e88e62-c1a7-4669-9f01-472794f41487"
      },
      "source": [
        "!pip install segmentation-models"
      ],
      "execution_count": 2,
      "outputs": [
        {
          "output_type": "stream",
          "text": [
            "Collecting segmentation-models\n",
            "  Downloading https://files.pythonhosted.org/packages/da/b9/4a183518c21689a56b834eaaa45cad242d9ec09a4360b5b10139f23c63f4/segmentation_models-1.0.1-py3-none-any.whl\n",
            "Collecting image-classifiers==1.0.0\n",
            "  Downloading https://files.pythonhosted.org/packages/81/98/6f84720e299a4942ab80df5f76ab97b7828b24d1de5e9b2cbbe6073228b7/image_classifiers-1.0.0-py3-none-any.whl\n",
            "Collecting efficientnet==1.0.0\n",
            "  Downloading https://files.pythonhosted.org/packages/97/82/f3ae07316f0461417dc54affab6e86ab188a5a22f33176d35271628b96e0/efficientnet-1.0.0-py3-none-any.whl\n",
            "Requirement already satisfied: keras-applications<=1.0.8,>=1.0.7 in /usr/local/lib/python3.7/dist-packages (from segmentation-models) (1.0.8)\n",
            "Requirement already satisfied: scikit-image in /usr/local/lib/python3.7/dist-packages (from efficientnet==1.0.0->segmentation-models) (0.16.2)\n",
            "Requirement already satisfied: numpy>=1.9.1 in /usr/local/lib/python3.7/dist-packages (from keras-applications<=1.0.8,>=1.0.7->segmentation-models) (1.19.5)\n",
            "Requirement already satisfied: h5py in /usr/local/lib/python3.7/dist-packages (from keras-applications<=1.0.8,>=1.0.7->segmentation-models) (3.1.0)\n",
            "Requirement already satisfied: imageio>=2.3.0 in /usr/local/lib/python3.7/dist-packages (from scikit-image->efficientnet==1.0.0->segmentation-models) (2.4.1)\n",
            "Requirement already satisfied: matplotlib!=3.0.0,>=2.0.0 in /usr/local/lib/python3.7/dist-packages (from scikit-image->efficientnet==1.0.0->segmentation-models) (3.2.2)\n",
            "Requirement already satisfied: pillow>=4.3.0 in /usr/local/lib/python3.7/dist-packages (from scikit-image->efficientnet==1.0.0->segmentation-models) (7.1.2)\n",
            "Requirement already satisfied: networkx>=2.0 in /usr/local/lib/python3.7/dist-packages (from scikit-image->efficientnet==1.0.0->segmentation-models) (2.5.1)\n",
            "Requirement already satisfied: scipy>=0.19.0 in /usr/local/lib/python3.7/dist-packages (from scikit-image->efficientnet==1.0.0->segmentation-models) (1.4.1)\n",
            "Requirement already satisfied: PyWavelets>=0.4.0 in /usr/local/lib/python3.7/dist-packages (from scikit-image->efficientnet==1.0.0->segmentation-models) (1.1.1)\n",
            "Requirement already satisfied: cached-property; python_version < \"3.8\" in /usr/local/lib/python3.7/dist-packages (from h5py->keras-applications<=1.0.8,>=1.0.7->segmentation-models) (1.5.2)\n",
            "Requirement already satisfied: pyparsing!=2.0.4,!=2.1.2,!=2.1.6,>=2.0.1 in /usr/local/lib/python3.7/dist-packages (from matplotlib!=3.0.0,>=2.0.0->scikit-image->efficientnet==1.0.0->segmentation-models) (2.4.7)\n",
            "Requirement already satisfied: python-dateutil>=2.1 in /usr/local/lib/python3.7/dist-packages (from matplotlib!=3.0.0,>=2.0.0->scikit-image->efficientnet==1.0.0->segmentation-models) (2.8.1)\n",
            "Requirement already satisfied: kiwisolver>=1.0.1 in /usr/local/lib/python3.7/dist-packages (from matplotlib!=3.0.0,>=2.0.0->scikit-image->efficientnet==1.0.0->segmentation-models) (1.3.1)\n",
            "Requirement already satisfied: cycler>=0.10 in /usr/local/lib/python3.7/dist-packages (from matplotlib!=3.0.0,>=2.0.0->scikit-image->efficientnet==1.0.0->segmentation-models) (0.10.0)\n",
            "Requirement already satisfied: decorator<5,>=4.3 in /usr/local/lib/python3.7/dist-packages (from networkx>=2.0->scikit-image->efficientnet==1.0.0->segmentation-models) (4.4.2)\n",
            "Requirement already satisfied: six>=1.5 in /usr/local/lib/python3.7/dist-packages (from python-dateutil>=2.1->matplotlib!=3.0.0,>=2.0.0->scikit-image->efficientnet==1.0.0->segmentation-models) (1.15.0)\n",
            "Installing collected packages: image-classifiers, efficientnet, segmentation-models\n",
            "Successfully installed efficientnet-1.0.0 image-classifiers-1.0.0 segmentation-models-1.0.1\n"
          ],
          "name": "stdout"
        }
      ]
    },
    {
      "cell_type": "code",
      "metadata": {
        "colab": {
          "base_uri": "https://localhost:8080/"
        },
        "id": "WNgO5XWhVBDR",
        "outputId": "f4db2b6d-ed28-4dcd-fcff-6d864f6e2fdd"
      },
      "source": [
        "# mount google drive here\n",
        "from google.colab import drive\n",
        "drive.mount('/content/drive')"
      ],
      "execution_count": 3,
      "outputs": [
        {
          "output_type": "stream",
          "text": [
            "Mounted at /content/drive\n"
          ],
          "name": "stdout"
        }
      ]
    },
    {
      "cell_type": "code",
      "metadata": {
        "colab": {
          "base_uri": "https://localhost:8080/"
        },
        "id": "_JMHD5bVVCwc",
        "outputId": "c21120af-e181-41b2-ee93-cad31cb6586d"
      },
      "source": [
        "# Fetch the training, validation and testing dataset\n",
        "import os\n",
        "import numpy as np\n",
        "\n",
        "dataPath  = '/content/drive/My Drive/Underwater_Segmentation_Research/Weights/PSPNET'\n",
        "d = '/content/drive/My Drive/Underwater_Segmentation_Research/Data'\n",
        "\n",
        "trainPath       =  dataPath + '/Train'\n",
        "testPath        =  dataPath + '/Test'\n",
        "valPath         =  d + '/Validate'\n",
        "\n",
        "trainImgsFile   = 'trainingDataImgs.npy'\n",
        "trainLabelsFile = 'trainingDataLabels.npy'\n",
        "\n",
        "testImgsFile    = 'testingDataImgs.npy'\n",
        "testLabelsFile  = 'testingDataLabels.npy'\n",
        "\n",
        "valImgsFile     = 'validationDataImgs.npy'\n",
        "valLabelsFile   = 'validationDataLabels.npy'\n",
        "\n",
        "def getData(path,fileName):\n",
        "  return np.load(path + \"/\" + fileName)\n",
        "\n",
        "trainImgs   = getData(dataPath, trainImgsFile)\n",
        "trainLabels = getData(dataPath, trainLabelsFile)\n",
        "\n",
        "valImgs    = getData(dataPath, valImgsFile)\n",
        "valLabels  = getData(dataPath, valLabelsFile)\n",
        "\n",
        "print(\"Got train and validation data\")\n",
        "print(trainImgs.shape, valImgs.shape)\n",
        "print(trainLabels.shape, valLabels.shape)\n"
      ],
      "execution_count": 4,
      "outputs": [
        {
          "output_type": "stream",
          "text": [
            "Got train and validation data\n",
            "(1000, 480, 480, 1) (251, 480, 480, 1)\n",
            "(1000, 480, 480, 1) (251, 480, 480, 1)\n"
          ],
          "name": "stdout"
        }
      ]
    },
    {
      "cell_type": "code",
      "metadata": {
        "colab": {
          "base_uri": "https://localhost:8080/"
        },
        "id": "URg1avKvVNQF",
        "outputId": "be7fa81f-a370-45d0-d383-eb35dbb04607"
      },
      "source": [
        "# Create the model (without pre-trained ImageNet weights)\n",
        "import os\n",
        "import numpy as np\n",
        "import tensorflow as tf\n",
        "import segmentation_models as sm\n",
        "\n",
        "# create the model\n",
        "model = sm.PSPNet('resnet101', input_shape=(480, 480, 1), encoder_weights=None, classes=12, activation='softmax')"
      ],
      "execution_count": 5,
      "outputs": [
        {
          "output_type": "stream",
          "text": [
            "Segmentation Models: using `tf.keras` framework.\n"
          ],
          "name": "stdout"
        }
      ]
    },
    {
      "cell_type": "code",
      "metadata": {
        "id": "msfXYbrZVP6j"
      },
      "source": [
        "class UpdatedMeanIoU(tf.keras.metrics.MeanIoU):\n",
        "  def __init__(self,\n",
        "               y_true=None,\n",
        "               y_pred=None,\n",
        "               num_classes=None,\n",
        "               name=None,\n",
        "               dtype=None):\n",
        "    super(UpdatedMeanIoU, self).__init__(num_classes = num_classes,name=name, dtype=dtype)\n",
        "\n",
        "  def update_state(self, y_true, y_pred, sample_weight=None):\n",
        "    y_pred = tf.math.argmax(y_pred, axis=-1)\n",
        "    return super().update_state(y_true, y_pred, sample_weight)"
      ],
      "execution_count": 20,
      "outputs": []
    },
    {
      "cell_type": "code",
      "metadata": {
        "id": "T3m4A8CQVReQ"
      },
      "source": [
        "import tensorflow as tf\n",
        "LOSS=tf.keras.losses.SparseCategoricalCrossentropy(from_logits=True)\n",
        "\n",
        "model.compile('Adam',\n",
        "              loss='sparse_categorical_crossentropy',\n",
        "              metrics=['accuracy', UpdatedMeanIoU(num_classes=12)])"
      ],
      "execution_count": 7,
      "outputs": []
    },
    {
      "cell_type": "code",
      "metadata": {
        "id": "Z9SkS5llVTGJ"
      },
      "source": [
        "# Setup training parameters\n",
        "BATCH = 16\n",
        "EPOCHS = 30\n",
        "\n",
        "# early stopping callback. It stops training when the loss does not change for 3 consecutive epochs\n",
        "callback = tf.keras.callbacks.EarlyStopping(monitor='loss', patience=3)"
      ],
      "execution_count": 8,
      "outputs": []
    },
    {
      "cell_type": "code",
      "metadata": {
        "colab": {
          "base_uri": "https://localhost:8080/"
        },
        "id": "nlwSNsgxVU_x",
        "outputId": "b3b7f88f-2eab-4397-a4ca-982a1f0d5f21"
      },
      "source": [
        "history = model.fit(trainImgs, trainLabels, epochs=EPOCHS, batch_size=BATCH, validation_data=(valImgs, valLabels))"
      ],
      "execution_count": 9,
      "outputs": [
        {
          "output_type": "stream",
          "text": [
            "Train on 1000 samples, validate on 251 samples\n",
            "Epoch 1/30\n",
            "1000/1000 [==============================] - 64s 64ms/sample - loss: 0.1452 - accuracy: 0.9622 - updated_mean_io_u: 0.1598 - val_loss: 0.4042 - val_accuracy: 0.9732 - val_updated_mean_io_u: 0.0816\n",
            "Epoch 2/30\n",
            "1000/1000 [==============================] - 48s 48ms/sample - loss: 0.0416 - accuracy: 0.9866 - updated_mean_io_u: 0.3347 - val_loss: 0.2041 - val_accuracy: 0.9538 - val_updated_mean_io_u: 0.0994\n",
            "Epoch 3/30\n",
            "1000/1000 [==============================] - 50s 50ms/sample - loss: 0.0330 - accuracy: 0.9887 - updated_mean_io_u: 0.4627 - val_loss: 0.1479 - val_accuracy: 0.9497 - val_updated_mean_io_u: 0.1403\n",
            "Epoch 4/30\n",
            "1000/1000 [==============================] - 50s 50ms/sample - loss: 0.0286 - accuracy: 0.9897 - updated_mean_io_u: 0.5222 - val_loss: 0.0724 - val_accuracy: 0.9810 - val_updated_mean_io_u: 0.2139\n",
            "Epoch 5/30\n",
            "1000/1000 [==============================] - 50s 50ms/sample - loss: 0.0251 - accuracy: 0.9910 - updated_mean_io_u: 0.5822 - val_loss: 0.0352 - val_accuracy: 0.9891 - val_updated_mean_io_u: 0.4605\n",
            "Epoch 6/30\n",
            "1000/1000 [==============================] - 50s 50ms/sample - loss: 0.0227 - accuracy: 0.9915 - updated_mean_io_u: 0.6152 - val_loss: 0.0276 - val_accuracy: 0.9912 - val_updated_mean_io_u: 0.5429\n",
            "Epoch 7/30\n",
            "1000/1000 [==============================] - 50s 50ms/sample - loss: 0.0214 - accuracy: 0.9919 - updated_mean_io_u: 0.6324 - val_loss: 0.0413 - val_accuracy: 0.9874 - val_updated_mean_io_u: 0.3537\n",
            "Epoch 8/30\n",
            "1000/1000 [==============================] - 50s 50ms/sample - loss: 0.0205 - accuracy: 0.9922 - updated_mean_io_u: 0.6390 - val_loss: 0.0262 - val_accuracy: 0.9920 - val_updated_mean_io_u: 0.5907\n",
            "Epoch 9/30\n",
            "1000/1000 [==============================] - 50s 50ms/sample - loss: 0.0188 - accuracy: 0.9928 - updated_mean_io_u: 0.6706 - val_loss: 0.0346 - val_accuracy: 0.9892 - val_updated_mean_io_u: 0.5194\n",
            "Epoch 10/30\n",
            "1000/1000 [==============================] - 50s 50ms/sample - loss: 0.0175 - accuracy: 0.9932 - updated_mean_io_u: 0.6953 - val_loss: 0.0397 - val_accuracy: 0.9885 - val_updated_mean_io_u: 0.4003\n",
            "Epoch 11/30\n",
            "1000/1000 [==============================] - 50s 50ms/sample - loss: 0.0174 - accuracy: 0.9931 - updated_mean_io_u: 0.6886 - val_loss: 0.0336 - val_accuracy: 0.9895 - val_updated_mean_io_u: 0.4708\n",
            "Epoch 12/30\n",
            "1000/1000 [==============================] - 50s 50ms/sample - loss: 0.0172 - accuracy: 0.9932 - updated_mean_io_u: 0.6844 - val_loss: 0.0353 - val_accuracy: 0.9897 - val_updated_mean_io_u: 0.4551\n",
            "Epoch 13/30\n",
            "1000/1000 [==============================] - 50s 50ms/sample - loss: 0.0162 - accuracy: 0.9937 - updated_mean_io_u: 0.7099 - val_loss: 0.0333 - val_accuracy: 0.9895 - val_updated_mean_io_u: 0.5504\n",
            "Epoch 14/30\n",
            "1000/1000 [==============================] - 50s 50ms/sample - loss: 0.0156 - accuracy: 0.9938 - updated_mean_io_u: 0.7137 - val_loss: 0.0313 - val_accuracy: 0.9910 - val_updated_mean_io_u: 0.5319\n",
            "Epoch 15/30\n",
            "1000/1000 [==============================] - 50s 50ms/sample - loss: 0.0150 - accuracy: 0.9940 - updated_mean_io_u: 0.7209 - val_loss: 0.0355 - val_accuracy: 0.9896 - val_updated_mean_io_u: 0.5037\n",
            "Epoch 16/30\n",
            "1000/1000 [==============================] - 50s 50ms/sample - loss: 0.0148 - accuracy: 0.9941 - updated_mean_io_u: 0.7223 - val_loss: 0.0378 - val_accuracy: 0.9897 - val_updated_mean_io_u: 0.4766\n",
            "Epoch 17/30\n",
            "1000/1000 [==============================] - 50s 50ms/sample - loss: 0.0143 - accuracy: 0.9943 - updated_mean_io_u: 0.7272 - val_loss: 0.0267 - val_accuracy: 0.9919 - val_updated_mean_io_u: 0.5687\n",
            "Epoch 18/30\n",
            "1000/1000 [==============================] - 50s 50ms/sample - loss: 0.0133 - accuracy: 0.9946 - updated_mean_io_u: 0.7503 - val_loss: 0.0250 - val_accuracy: 0.9925 - val_updated_mean_io_u: 0.6148\n",
            "Epoch 19/30\n",
            "1000/1000 [==============================] - 50s 50ms/sample - loss: 0.0132 - accuracy: 0.9947 - updated_mean_io_u: 0.7475 - val_loss: 0.0332 - val_accuracy: 0.9906 - val_updated_mean_io_u: 0.5513\n",
            "Epoch 20/30\n",
            "1000/1000 [==============================] - 50s 50ms/sample - loss: 0.0144 - accuracy: 0.9943 - updated_mean_io_u: 0.7303 - val_loss: 0.0233 - val_accuracy: 0.9929 - val_updated_mean_io_u: 0.6526\n",
            "Epoch 21/30\n",
            "1000/1000 [==============================] - 50s 50ms/sample - loss: 0.0122 - accuracy: 0.9950 - updated_mean_io_u: 0.7585 - val_loss: 0.0290 - val_accuracy: 0.9918 - val_updated_mean_io_u: 0.5642\n",
            "Epoch 22/30\n",
            "1000/1000 [==============================] - 50s 50ms/sample - loss: 0.0108 - accuracy: 0.9955 - updated_mean_io_u: 0.7796 - val_loss: 0.0382 - val_accuracy: 0.9906 - val_updated_mean_io_u: 0.4544\n",
            "Epoch 23/30\n",
            "1000/1000 [==============================] - 50s 50ms/sample - loss: 0.0106 - accuracy: 0.9956 - updated_mean_io_u: 0.7880 - val_loss: 0.0336 - val_accuracy: 0.9908 - val_updated_mean_io_u: 0.5628\n",
            "Epoch 24/30\n",
            "1000/1000 [==============================] - 50s 50ms/sample - loss: 0.0112 - accuracy: 0.9954 - updated_mean_io_u: 0.7792 - val_loss: 0.0315 - val_accuracy: 0.9918 - val_updated_mean_io_u: 0.5879\n",
            "Epoch 25/30\n",
            "1000/1000 [==============================] - 50s 50ms/sample - loss: 0.0108 - accuracy: 0.9955 - updated_mean_io_u: 0.7774 - val_loss: 0.0469 - val_accuracy: 0.9882 - val_updated_mean_io_u: 0.3690\n",
            "Epoch 26/30\n",
            "1000/1000 [==============================] - 50s 50ms/sample - loss: 0.0106 - accuracy: 0.9956 - updated_mean_io_u: 0.7928 - val_loss: 0.0298 - val_accuracy: 0.9922 - val_updated_mean_io_u: 0.6645\n",
            "Epoch 27/30\n",
            "1000/1000 [==============================] - 50s 50ms/sample - loss: 0.0096 - accuracy: 0.9960 - updated_mean_io_u: 0.8067 - val_loss: 0.0383 - val_accuracy: 0.9896 - val_updated_mean_io_u: 0.4815\n",
            "Epoch 28/30\n",
            "1000/1000 [==============================] - 50s 50ms/sample - loss: 0.0100 - accuracy: 0.9958 - updated_mean_io_u: 0.7944 - val_loss: 0.0331 - val_accuracy: 0.9916 - val_updated_mean_io_u: 0.5592\n",
            "Epoch 29/30\n",
            "1000/1000 [==============================] - 50s 50ms/sample - loss: 0.0088 - accuracy: 0.9963 - updated_mean_io_u: 0.8113 - val_loss: 0.0331 - val_accuracy: 0.9914 - val_updated_mean_io_u: 0.5973\n",
            "Epoch 30/30\n",
            "1000/1000 [==============================] - 50s 50ms/sample - loss: 0.0091 - accuracy: 0.9962 - updated_mean_io_u: 0.8086 - val_loss: 0.0469 - val_accuracy: 0.9894 - val_updated_mean_io_u: 0.4804\n"
          ],
          "name": "stdout"
        }
      ]
    },
    {
      "cell_type": "code",
      "metadata": {
        "colab": {
          "base_uri": "https://localhost:8080/",
          "height": 300
        },
        "id": "YkrWfN9oVXDb",
        "outputId": "36bf4143-3609-4f39-d931-42b694ac4d73"
      },
      "source": [
        "print(history.history.keys())\n",
        "\n",
        "import matplotlib.pyplot as plt\n",
        "plt.plot(history.history['accuracy'])\n",
        "plt.plot(history.history['val_accuracy'])"
      ],
      "execution_count": 10,
      "outputs": [
        {
          "output_type": "stream",
          "text": [
            "dict_keys(['loss', 'accuracy', 'updated_mean_io_u', 'val_loss', 'val_accuracy', 'val_updated_mean_io_u'])\n"
          ],
          "name": "stdout"
        },
        {
          "output_type": "execute_result",
          "data": {
            "text/plain": [
              "[<matplotlib.lines.Line2D at 0x7fc8c969be90>]"
            ]
          },
          "metadata": {
            "tags": []
          },
          "execution_count": 10
        },
        {
          "output_type": "display_data",
          "data": {
            "image/png": "[encoded data removed]",
            "text/plain": [
              "<Figure size 432x288 with 1 Axes>"
            ]
          },
          "metadata": {
            "tags": [],
            "needs_background": "light"
          }
        }
      ]
    },
    {
      "cell_type": "code",
      "metadata": {
        "colab": {
          "base_uri": "https://localhost:8080/",
          "height": 282
        },
        "id": "q5a0SgCUVY9i",
        "outputId": "982a16be-0199-491e-c34b-320804da28b9"
      },
      "source": [
        "plt.plot(history.history['loss'])\n",
        "plt.plot(history.history['val_loss'])"
      ],
      "execution_count": 11,
      "outputs": [
        {
          "output_type": "execute_result",
          "data": {
            "text/plain": [
              "[<matplotlib.lines.Line2D at 0x7fc8c96260d0>]"
            ]
          },
          "metadata": {
            "tags": []
          },
          "execution_count": 11
        },
        {
          "output_type": "display_data",
          "data": {
            "image/png": "[encoded data removed]",
            "text/plain": [
              "<Figure size 432x288 with 1 Axes>"
            ]
          },
          "metadata": {
            "tags": [],
            "needs_background": "light"
          }
        }
      ]
    },
    {
      "cell_type": "code",
      "metadata": {
        "colab": {
          "base_uri": "https://localhost:8080/",
          "height": 282
        },
        "id": "Ric76vPxVa3l",
        "outputId": "3db3ee06-933e-4e56-b735-bdde9f1cd829"
      },
      "source": [
        "plt.plot(history.history['updated_mean_io_u'])\n",
        "plt.plot(history.history['val_updated_mean_io_u'])"
      ],
      "execution_count": 13,
      "outputs": [
        {
          "output_type": "execute_result",
          "data": {
            "text/plain": [
              "[<matplotlib.lines.Line2D at 0x7fc8c903bb50>]"
            ]
          },
          "metadata": {
            "tags": []
          },
          "execution_count": 13
        },
        {
          "output_type": "display_data",
          "data": {
            "image/png": "[encoded data removed]",
            "text/plain": [
              "<Figure size 432x288 with 1 Axes>"
            ]
          },
          "metadata": {
            "tags": [],
            "needs_background": "light"
          }
        }
      ]
    },
    {
      "cell_type": "code",
      "metadata": {
        "colab": {
          "base_uri": "https://localhost:8080/"
        },
        "id": "E5oLFFTCVc4W",
        "outputId": "8896b41f-731f-4e4c-c890-6755e3ba3c12"
      },
      "source": [
        "# get the testdata\n",
        "testImgs   = getData(dataPath, testImgsFile)\n",
        "testLabels = getData(dataPath, testLabelsFile)\n",
        "print(testImgs.shape, testLabels.shape)"
      ],
      "execution_count": 15,
      "outputs": [
        {
          "output_type": "stream",
          "text": [
            "(617, 480, 480, 1) (617, 480, 480, 1)\n"
          ],
          "name": "stdout"
        }
      ]
    },
    {
      "cell_type": "code",
      "metadata": {
        "id": "NJBjSRa3APLE"
      },
      "source": [
        "trainImgs = None\n",
        "trainLabels = None\n",
        "valImgs = None\n",
        "valLabels = None"
      ],
      "execution_count": 14,
      "outputs": []
    },
    {
      "cell_type": "code",
      "metadata": {
        "colab": {
          "base_uri": "https://localhost:8080/"
        },
        "id": "nDOUzXtWVjfJ",
        "outputId": "3f1d6a74-2ad8-4335-e6c5-9aeb54604179"
      },
      "source": [
        "model.evaluate(testImgs, testLabels)"
      ],
      "execution_count": 17,
      "outputs": [
        {
          "output_type": "stream",
          "text": [
            "617/617 [==============================] - 14s 23ms/sample - loss: 0.0461 - accuracy: 0.9893 - updated_mean_io_u: 0.4628\n"
          ],
          "name": "stdout"
        },
        {
          "output_type": "execute_result",
          "data": {
            "text/plain": [
              "[0.04608963321248368, 0.98934925, 0.46275723]"
            ]
          },
          "metadata": {
            "tags": []
          },
          "execution_count": 17
        }
      ]
    },
    {
      "cell_type": "code",
      "metadata": {
        "id": "zOnLy0VNdWXd"
      },
      "source": [
        "weightFileName = \"PSPResNet101_30e_16b.h5\"\n",
        "weightPath = '/content/drive/My Drive/Underwater_Segmentation_Research/Weights/PSPNET'\n",
        "model.save_weights(weightPath + \"/\" + weightFileName)"
      ],
      "execution_count": 18,
      "outputs": []
    },
    {
      "cell_type": "code",
      "metadata": {
        "id": "KUB1vg2zVoBk"
      },
      "source": [
        "model.load_weights(weightPath + \"/\" + weightFileName)\n",
        "#model.evaluate(testImgs, testLabels)"
      ],
      "execution_count": null,
      "outputs": []
    },
    {
      "cell_type": "code",
      "metadata": {
        "colab": {
          "base_uri": "https://localhost:8080/"
        },
        "id": "M-ixXV4lVqB8",
        "outputId": "02913c14-572b-49f0-faca-4dca5a3727f3"
      },
      "source": [
        "modelFileName = \"PSPResNet101_30e_16b\"\n",
        "modelPath     = '/content/drive/My Drive/Underwater_Segmentation_Research/Models/PSPNET'\n",
        "model.save(modelPath + \"/\" + modelFileName)"
      ],
      "execution_count": 19,
      "outputs": [
        {
          "output_type": "stream",
          "text": [
            "WARNING:tensorflow:From /usr/local/lib/python3.7/dist-packages/tensorflow_core/python/ops/resource_variable_ops.py:1786: calling BaseResourceVariable.__init__ (from tensorflow.python.ops.resource_variable_ops) with constraint is deprecated and will be removed in a future version.\n",
            "Instructions for updating:\n",
            "If using Keras pass *_constraint arguments to layers.\n",
            "INFO:tensorflow:Assets written to: /content/drive/My Drive/Underwater_Segmentation_Research/Models/PSPNET/PSPResNet101_30e_16b/assets\n"
          ],
          "name": "stdout"
        }
      ]
    },
    {
      "cell_type": "code",
      "metadata": {
        "colab": {
          "base_uri": "https://localhost:8080/"
        },
        "id": "9U-_GRs7VrRc",
        "outputId": "9db5a360-709e-4e6c-bfe2-c539f2e450cc"
      },
      "source": [
        "# Check the GPU configuration\n",
        "!nvidia-smi"
      ],
      "execution_count": 29,
      "outputs": [
        {
          "output_type": "stream",
          "text": [
            "Fri May 28 16:59:37 2021       \n",
            "+-----------------------------------------------------------------------------+\n",
            "| NVIDIA-SMI 465.19.01    Driver Version: 460.32.03    CUDA Version: 11.2     |\n",
            "|-------------------------------+----------------------+----------------------+\n",
            "| GPU  Name        Persistence-M| Bus-Id        Disp.A | Volatile Uncorr. ECC |\n",
            "| Fan  Temp  Perf  Pwr:Usage/Cap|         Memory-Usage | GPU-Util  Compute M. |\n",
            "|                               |                      |               MIG M. |\n",
            "|===============================+======================+======================|\n",
            "|   0  Tesla K80           Off  | 00000000:00:04.0 Off |                    0 |\n",
            "| N/A   57C    P0    59W / 149W |  11043MiB / 11441MiB |      0%      Default |\n",
            "|                               |                      |                  N/A |\n",
            "+-------------------------------+----------------------+----------------------+\n",
            "                                                                               \n",
            "+-----------------------------------------------------------------------------+\n",
            "| Processes:                                                                  |\n",
            "|  GPU   GI   CI        PID   Type   Process name                  GPU Memory |\n",
            "|        ID   ID                                                   Usage      |\n",
            "|=============================================================================|\n",
            "+-----------------------------------------------------------------------------+\n"
          ],
          "name": "stdout"
        }
      ]
    },
    {
      "cell_type": "code",
      "metadata": {
        "id": "VSl980wRVs2S"
      },
      "source": [
        "y_preds = tf.argmax(model.predict(testImgs),-1)\n",
        "#y_preds = (y_preds >= 0.5).astype(np.uint8)"
      ],
      "execution_count": null,
      "outputs": []
    },
    {
      "cell_type": "code",
      "metadata": {
        "id": "N5azDeGaHngA"
      },
      "source": [
        "testImgs = None"
      ],
      "execution_count": 33,
      "outputs": []
    },
    {
      "cell_type": "code",
      "metadata": {
        "colab": {
          "base_uri": "https://localhost:8080/"
        },
        "id": "qwAMqKHcWb0x",
        "outputId": "b942a4d2-ff57-48ec-b63f-df66e28bfb3e"
      },
      "source": [
        "# Compute mean of per-class IOU throughout the test images\n",
        "num_classes=12\n",
        "m = UpdatedMeanIoU(num_classes=12)\n",
        "m.update_state(testLabels, y_preds)\n",
        "\n",
        "print(f'Overall mean IOU is : {m.result().numpy()}')\n",
        "\n",
        "# Values is the confusion matrix\n",
        "values = np.array(m.get_weights()).reshape(num_classes, num_classes)"
      ],
      "execution_count": 36,
      "outputs": [
        {
          "output_type": "stream",
          "text": [
            "Overall mean IOU is : 0.5848612785339355\n"
          ],
          "name": "stdout"
        }
      ]
    },
    {
      "cell_type": "code",
      "metadata": {
        "colab": {
          "base_uri": "https://localhost:8080/"
        },
        "id": "zR0aM8bzIKaG",
        "outputId": "8053d5b2-352f-4e97-90c7-1b538aa11c98"
      },
      "source": [
        "numClasses = 12\n",
        "classIOU = []\n",
        "for i in range(numClasses):\n",
        "  rowSum = np.sum(values[i,:])\n",
        "  colSum = np.sum(values[:,i])\n",
        "  denom = rowSum + colSum - values[i,i]\n",
        "  iou = values[i,i]/denom\n",
        "  classIOU.append(iou)\n",
        "\n",
        "print(classIOU)\n",
        "perClassIoU = np.array(classIOU)\n",
        "print(np.mean(perClassIoU))"
      ],
      "execution_count": 37,
      "outputs": [
        {
          "output_type": "stream",
          "text": [
            "[0.9908648839627064, 0.6154214740558603, 0.18940331765288437, 0.4719996667742708, 0.6153293821270795, 0.4361176015252075, 0.6185575578609772, 0.6239531186979524, 0.5474585950885208, 0.8193877254956007, 0.3710969429458885, 0.7187451678733885]\n",
            "0.5848612861716946\n"
          ],
          "name": "stdout"
        }
      ]
    },
    {
      "cell_type": "code",
      "metadata": {
        "id": "SGRLFlLKWfSY"
      },
      "source": [
        "yPreds = tf.argmax(ypreds, axis=-1)\n",
        "yPreds = yPreds.numpy()"
      ],
      "execution_count": null,
      "outputs": []
    },
    {
      "cell_type": "code",
      "metadata": {
        "colab": {
          "base_uri": "https://localhost:8080/",
          "height": 804
        },
        "id": "7H2PKRHt1ENu",
        "outputId": "ddbd60a4-0299-483e-cec8-92057dd1976c"
      },
      "source": [
        "import matplotlib.pyplot as plt\n",
        "i = 0\n",
        "plt.imshow(y_preds[i])\n",
        "plt.show()\n",
        "\n",
        "print(np.unique(y_preds[i,:,:]))\n",
        "\n",
        "plt.imshow(testLabels[i,:,:,0])\n",
        "plt.show()\n",
        "\n",
        "print(np.unique(testLabels[i,:,:,0]))\n",
        "\n",
        "t = np.linspace(0,11,num=12)\n",
        "plt.plot(t, perClassIoU)\n",
        "plt.show()"
      ],
      "execution_count": 38,
      "outputs": [
        {
          "output_type": "display_data",
          "data": {
            "image/png": "[encoded data removed]",
            "text/plain": [
              "<Figure size 432x288 with 1 Axes>"
            ]
          },
          "metadata": {
            "tags": [],
            "needs_background": "light"
          }
        },
        {
          "output_type": "stream",
          "text": [
            "[ 0  1  9 11]\n"
          ],
          "name": "stdout"
        },
        {
          "output_type": "display_data",
          "data": {
            "image/png": "[encoded data removed]",
            "text/plain": [
              "<Figure size 432x288 with 1 Axes>"
            ]
          },
          "metadata": {
            "tags": [],
            "needs_background": "light"
          }
        },
        {
          "output_type": "stream",
          "text": [
            "[ 0.  1.  9. 11.]\n"
          ],
          "name": "stdout"
        },
        {
          "output_type": "display_data",
          "data": {
            "image/png": "[encoded data removed]",
            "text/plain": [
              "<Figure size 432x288 with 1 Axes>"
            ]
          },
          "metadata": {
            "tags": [],
            "needs_background": "light"
          }
        }
      ]
    }
  ]
}