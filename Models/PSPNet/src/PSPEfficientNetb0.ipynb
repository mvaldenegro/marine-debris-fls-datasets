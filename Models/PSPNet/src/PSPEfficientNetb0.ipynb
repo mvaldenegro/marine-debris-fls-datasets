{
  "nbformat": 4,
  "nbformat_minor": 0,
  "metadata": {
    "accelerator": "GPU",
    "colab": {
      "name": "PSPEfficientNetb0.ipynb",
      "provenance": [],
      "collapsed_sections": []
    },
    "kernelspec": {
      "display_name": "Python 3",
      "name": "python3"
    },
    "language_info": {
      "name": "python"
    }
  },
  "cells": [
    {
      "cell_type": "code",
      "metadata": {
        "id": "GmErIJJtXgxr"
      },
      "source": [
        "# LinkNet with ResNet34 for multiclass semantic segmentation\n",
        "!pip install tensorflow==2.1.0"
      ],
      "execution_count": null,
      "outputs": []
    },
    {
      "cell_type": "code",
      "metadata": {
        "id": "E05RxVTVawRq"
      },
      "source": [
        "!pip install segmentation-models"
      ],
      "execution_count": null,
      "outputs": []
    },
    {
      "cell_type": "code",
      "metadata": {
        "id": "KGcItvZUbw6S"
      },
      "source": [
        "# mount google drive here\n",
        "from google.colab import drive\n",
        "drive.mount('/content/drive')"
      ],
      "execution_count": null,
      "outputs": []
    },
    {
      "cell_type": "code",
      "metadata": {
        "id": "kmzSO8wLcDeg"
      },
      "source": [
        "!pip3 install 'h5py==2.10.0' --force-reinstall\n"
      ],
      "execution_count": null,
      "outputs": []
    },
    {
      "cell_type": "code",
      "metadata": {
        "colab": {
          "base_uri": "https://localhost:8080/"
        },
        "id": "OVkZ3Rt_cBIJ",
        "outputId": "aa95b4cc-161f-473a-e1c6-9defef56cc07"
      },
      "source": [
        "# Fetch the training, validation and testing dataset\n",
        "import os\n",
        "import numpy as np\n",
        "\n",
        "dataPath  = '/content/drive/My Drive/Underwater_Segmentation_Research/Weights/PSPNET'\n",
        "d = '/content/drive/My Drive/Underwater_Segmentation_Research/Data'\n",
        "\n",
        "trainPath       =  dataPath + '/Train'\n",
        "testPath        =  dataPath + '/Test'\n",
        "valPath         =  d + '/Validate'\n",
        "\n",
        "trainImgsFile   = 'trainingDataImgs.npy'\n",
        "trainLabelsFile = 'trainingDataLabels.npy'\n",
        "\n",
        "testImgsFile    = 'testingDataImgs.npy'\n",
        "testLabelsFile  = 'testingDataLabels.npy'\n",
        "\n",
        "valImgsFile     = 'validationDataImgs.npy'\n",
        "valLabelsFile   = 'validationDataLabels.npy'\n",
        "\n",
        "def getData(path,fileName):\n",
        "  return np.load(path + \"/\" + fileName)\n",
        "\n",
        "\n",
        "trainImgs   = getData(dataPath, trainImgsFile)\n",
        "trainLabels = getData(dataPath, trainLabelsFile)\n",
        "\n",
        "valImgs    = getData(dataPath, valImgsFile)\n",
        "valLabels  = getData(dataPath, valLabelsFile)\n",
        "\n",
        "print(\"Got train and validation data\")\n",
        "print(trainImgs.shape, valImgs.shape)\n",
        "print(trainLabels.shape, valLabels.shape)\n",
        "\n"
      ],
      "execution_count": 3,
      "outputs": [
        {
          "output_type": "stream",
          "text": [
            "Got train and validation data\n",
            "(1000, 480, 480, 1) (251, 480, 480, 1)\n",
            "(1000, 480, 480, 1) (251, 480, 480, 1)\n"
          ],
          "name": "stdout"
        }
      ]
    },
    {
      "cell_type": "code",
      "metadata": {
        "colab": {
          "base_uri": "https://localhost:8080/"
        },
        "id": "UYzc3jDWbN78",
        "outputId": "98d8d75d-c5dd-4d23-aa5c-f6eaaecb9a0a"
      },
      "source": [
        "# Create the model (without pre-trained ImageNet weights)\n",
        "import os\n",
        "import numpy as np\n",
        "import tensorflow as tf\n",
        "import segmentation_models as sm\n",
        "\n",
        "# create the model\n",
        "model = sm.PSPNet('efficientnetb0', input_shape=(480, 480, 1), encoder_weights=None, classes=12, activation='softmax')"
      ],
      "execution_count": 4,
      "outputs": [
        {
          "output_type": "stream",
          "text": [
            "Segmentation Models: using `tf.keras` framework.\n"
          ],
          "name": "stdout"
        }
      ]
    },
    {
      "cell_type": "code",
      "metadata": {
        "id": "i6hfU48-YwYT"
      },
      "source": [
        "class UpdatedMeanIoU(tf.keras.metrics.MeanIoU):\n",
        "  def __init__(self,\n",
        "               y_true=None,\n",
        "               y_pred=None,\n",
        "               num_classes=None,\n",
        "               name=None,\n",
        "               dtype=None):\n",
        "    super(UpdatedMeanIoU, self).__init__(num_classes = num_classes,name=name, dtype=dtype)\n",
        "\n",
        "  def update_state(self, y_true, y_pred, sample_weight=None):\n",
        "    #y_pred = tf.math.argmax(y_pred, axis=-1)\n",
        "    return super().update_state(y_true, y_pred, sample_weight)"
      ],
      "execution_count": 24,
      "outputs": []
    },
    {
      "cell_type": "code",
      "metadata": {
        "id": "xrrWR34igCv-"
      },
      "source": [
        "import tensorflow as tf\n",
        "LOSS=tf.keras.losses.SparseCategoricalCrossentropy(from_logits=True)\n",
        "\n",
        "model.compile('Adam',\n",
        "              loss='sparse_categorical_crossentropy',\n",
        "              metrics=['accuracy', UpdatedMeanIoU(num_classes=12)])"
      ],
      "execution_count": 6,
      "outputs": []
    },
    {
      "cell_type": "code",
      "metadata": {
        "id": "t64j7531gnFX"
      },
      "source": [
        "# Setup training parameters\n",
        "BATCH = 16\n",
        "EPOCHS = 30\n",
        "\n",
        "# early stopping callback. It stops training when the loss does not change for 3 consecutive epochs\n",
        "callback = tf.keras.callbacks.EarlyStopping(monitor='loss', patience=3)"
      ],
      "execution_count": 7,
      "outputs": []
    },
    {
      "cell_type": "code",
      "metadata": {
        "colab": {
          "base_uri": "https://localhost:8080/"
        },
        "id": "BvvTmwzIhBvw",
        "outputId": "17f63287-2ab3-4e93-97e4-163189c658ea"
      },
      "source": [
        "# Start training the model\n",
        "history = model.fit(trainImgs, trainLabels, epochs=EPOCHS, batch_size=BATCH, validation_data=(valImgs, valLabels))"
      ],
      "execution_count": 8,
      "outputs": [
        {
          "output_type": "stream",
          "text": [
            "Train on 1000 samples, validate on 251 samples\n",
            "Epoch 1/30\n",
            "1000/1000 [==============================] - 66s 66ms/sample - loss: 0.1577 - accuracy: 0.9599 - updated_mean_io_u: 0.1345 - val_loss: 0.2719 - val_accuracy: 0.9748 - val_updated_mean_io_u: 0.0812\n",
            "Epoch 2/30\n",
            "1000/1000 [==============================] - 53s 53ms/sample - loss: 0.0539 - accuracy: 0.9840 - updated_mean_io_u: 0.2376 - val_loss: 0.3293 - val_accuracy: 0.9748 - val_updated_mean_io_u: 0.0812\n",
            "Epoch 3/30\n",
            "1000/1000 [==============================] - 54s 54ms/sample - loss: 0.0442 - accuracy: 0.9858 - updated_mean_io_u: 0.3303 - val_loss: 0.2097 - val_accuracy: 0.9748 - val_updated_mean_io_u: 0.0817\n",
            "Epoch 4/30\n",
            "1000/1000 [==============================] - 54s 54ms/sample - loss: 0.0387 - accuracy: 0.9868 - updated_mean_io_u: 0.4051 - val_loss: 0.1279 - val_accuracy: 0.9757 - val_updated_mean_io_u: 0.1073\n",
            "Epoch 5/30\n",
            "1000/1000 [==============================] - 53s 53ms/sample - loss: 0.0304 - accuracy: 0.9892 - updated_mean_io_u: 0.4929 - val_loss: 0.0630 - val_accuracy: 0.9833 - val_updated_mean_io_u: 0.2203\n",
            "Epoch 6/30\n",
            "1000/1000 [==============================] - 54s 54ms/sample - loss: 0.0281 - accuracy: 0.9899 - updated_mean_io_u: 0.5352 - val_loss: 0.0575 - val_accuracy: 0.9851 - val_updated_mean_io_u: 0.2627\n",
            "Epoch 7/30\n",
            "1000/1000 [==============================] - 54s 54ms/sample - loss: 0.0254 - accuracy: 0.9907 - updated_mean_io_u: 0.5760 - val_loss: 0.0342 - val_accuracy: 0.9896 - val_updated_mean_io_u: 0.4823\n",
            "Epoch 8/30\n",
            "1000/1000 [==============================] - 54s 54ms/sample - loss: 0.0237 - accuracy: 0.9913 - updated_mean_io_u: 0.5925 - val_loss: 0.0278 - val_accuracy: 0.9908 - val_updated_mean_io_u: 0.5461\n",
            "Epoch 9/30\n",
            "1000/1000 [==============================] - 54s 54ms/sample - loss: 0.0218 - accuracy: 0.9918 - updated_mean_io_u: 0.6193 - val_loss: 0.0281 - val_accuracy: 0.9905 - val_updated_mean_io_u: 0.5481\n",
            "Epoch 10/30\n",
            "1000/1000 [==============================] - 54s 54ms/sample - loss: 0.0211 - accuracy: 0.9919 - updated_mean_io_u: 0.6357 - val_loss: 0.0295 - val_accuracy: 0.9907 - val_updated_mean_io_u: 0.6030\n",
            "Epoch 11/30\n",
            "1000/1000 [==============================] - 54s 54ms/sample - loss: 0.0196 - accuracy: 0.9924 - updated_mean_io_u: 0.6555 - val_loss: 0.0274 - val_accuracy: 0.9916 - val_updated_mean_io_u: 0.5689\n",
            "Epoch 12/30\n",
            "1000/1000 [==============================] - 54s 54ms/sample - loss: 0.0189 - accuracy: 0.9927 - updated_mean_io_u: 0.6592 - val_loss: 0.0292 - val_accuracy: 0.9913 - val_updated_mean_io_u: 0.6070\n",
            "Epoch 13/30\n",
            "1000/1000 [==============================] - 54s 54ms/sample - loss: 0.0191 - accuracy: 0.9927 - updated_mean_io_u: 0.6678 - val_loss: 0.0317 - val_accuracy: 0.9906 - val_updated_mean_io_u: 0.5792\n",
            "Epoch 14/30\n",
            "1000/1000 [==============================] - 53s 53ms/sample - loss: 0.0182 - accuracy: 0.9929 - updated_mean_io_u: 0.6821 - val_loss: 0.0290 - val_accuracy: 0.9912 - val_updated_mean_io_u: 0.5381\n",
            "Epoch 15/30\n",
            "1000/1000 [==============================] - 54s 54ms/sample - loss: 0.0175 - accuracy: 0.9931 - updated_mean_io_u: 0.6949 - val_loss: 0.0268 - val_accuracy: 0.9917 - val_updated_mean_io_u: 0.6396\n",
            "Epoch 16/30\n",
            "1000/1000 [==============================] - 54s 54ms/sample - loss: 0.0166 - accuracy: 0.9934 - updated_mean_io_u: 0.6938 - val_loss: 0.0263 - val_accuracy: 0.9923 - val_updated_mean_io_u: 0.6306\n",
            "Epoch 17/30\n",
            "1000/1000 [==============================] - 54s 54ms/sample - loss: 0.0164 - accuracy: 0.9936 - updated_mean_io_u: 0.7095 - val_loss: 0.0282 - val_accuracy: 0.9917 - val_updated_mean_io_u: 0.5869\n",
            "Epoch 18/30\n",
            "1000/1000 [==============================] - 54s 54ms/sample - loss: 0.0162 - accuracy: 0.9936 - updated_mean_io_u: 0.7057 - val_loss: 0.0285 - val_accuracy: 0.9917 - val_updated_mean_io_u: 0.6193\n",
            "Epoch 19/30\n",
            "1000/1000 [==============================] - 54s 54ms/sample - loss: 0.0156 - accuracy: 0.9938 - updated_mean_io_u: 0.7028 - val_loss: 0.0370 - val_accuracy: 0.9892 - val_updated_mean_io_u: 0.4946\n",
            "Epoch 20/30\n",
            "1000/1000 [==============================] - 54s 54ms/sample - loss: 0.0141 - accuracy: 0.9943 - updated_mean_io_u: 0.7282 - val_loss: 0.0319 - val_accuracy: 0.9914 - val_updated_mean_io_u: 0.5802\n",
            "Epoch 21/30\n",
            "1000/1000 [==============================] - 54s 54ms/sample - loss: 0.0143 - accuracy: 0.9943 - updated_mean_io_u: 0.7289 - val_loss: 0.0252 - val_accuracy: 0.9924 - val_updated_mean_io_u: 0.6527\n",
            "Epoch 22/30\n",
            "1000/1000 [==============================] - 54s 54ms/sample - loss: 0.0148 - accuracy: 0.9941 - updated_mean_io_u: 0.7297 - val_loss: 0.0486 - val_accuracy: 0.9865 - val_updated_mean_io_u: 0.5077\n",
            "Epoch 23/30\n",
            "1000/1000 [==============================] - 54s 54ms/sample - loss: 0.0162 - accuracy: 0.9936 - updated_mean_io_u: 0.7160 - val_loss: 0.0428 - val_accuracy: 0.9889 - val_updated_mean_io_u: 0.4352\n",
            "Epoch 24/30\n",
            "1000/1000 [==============================] - 54s 54ms/sample - loss: 0.0141 - accuracy: 0.9943 - updated_mean_io_u: 0.7377 - val_loss: 0.0263 - val_accuracy: 0.9928 - val_updated_mean_io_u: 0.6638\n",
            "Epoch 25/30\n",
            "1000/1000 [==============================] - 54s 54ms/sample - loss: 0.0134 - accuracy: 0.9946 - updated_mean_io_u: 0.7519 - val_loss: 0.0303 - val_accuracy: 0.9913 - val_updated_mean_io_u: 0.6214\n",
            "Epoch 26/30\n",
            "1000/1000 [==============================] - 54s 54ms/sample - loss: 0.0127 - accuracy: 0.9948 - updated_mean_io_u: 0.7514 - val_loss: 0.0266 - val_accuracy: 0.9922 - val_updated_mean_io_u: 0.6125\n",
            "Epoch 27/30\n",
            "1000/1000 [==============================] - 54s 54ms/sample - loss: 0.0124 - accuracy: 0.9949 - updated_mean_io_u: 0.7563 - val_loss: 0.0290 - val_accuracy: 0.9923 - val_updated_mean_io_u: 0.5810\n",
            "Epoch 28/30\n",
            "1000/1000 [==============================] - 54s 54ms/sample - loss: 0.0123 - accuracy: 0.9950 - updated_mean_io_u: 0.7559 - val_loss: 0.0252 - val_accuracy: 0.9927 - val_updated_mean_io_u: 0.6689\n",
            "Epoch 29/30\n",
            "1000/1000 [==============================] - 54s 54ms/sample - loss: 0.0130 - accuracy: 0.9948 - updated_mean_io_u: 0.7683 - val_loss: 0.0367 - val_accuracy: 0.9906 - val_updated_mean_io_u: 0.5208\n",
            "Epoch 30/30\n",
            "1000/1000 [==============================] - 53s 53ms/sample - loss: 0.0130 - accuracy: 0.9947 - updated_mean_io_u: 0.7625 - val_loss: 0.0304 - val_accuracy: 0.9913 - val_updated_mean_io_u: 0.5685\n"
          ],
          "name": "stdout"
        }
      ]
    },
    {
      "cell_type": "code",
      "metadata": {
        "colab": {
          "base_uri": "https://localhost:8080/",
          "height": 300
        },
        "id": "5ymxrY3gpSBh",
        "outputId": "3693dc4a-2acd-4957-c295-83bc68f11b3f"
      },
      "source": [
        "#  Plot the results\n",
        "print(history.history.keys())\n",
        "\n",
        "import matplotlib.pyplot as plt\n",
        "plt.plot(history.history['accuracy'])\n",
        "plt.plot(history.history['val_accuracy'])"
      ],
      "execution_count": 9,
      "outputs": [
        {
          "output_type": "stream",
          "text": [
            "dict_keys(['loss', 'accuracy', 'updated_mean_io_u', 'val_loss', 'val_accuracy', 'val_updated_mean_io_u'])\n"
          ],
          "name": "stdout"
        },
        {
          "output_type": "execute_result",
          "data": {
            "text/plain": [
              "[<matplotlib.lines.Line2D at 0x7f89ed6db710>]"
            ]
          },
          "metadata": {
            "tags": []
          },
          "execution_count": 9
        },
        {
          "output_type": "display_data",
          "data": {
            "image/png": "[encoded data removed]",
            "text/plain": [
              "<Figure size 432x288 with 1 Axes>"
            ]
          },
          "metadata": {
            "tags": [],
            "needs_background": "light"
          }
        }
      ]
    },
    {
      "cell_type": "code",
      "metadata": {
        "colab": {
          "base_uri": "https://localhost:8080/",
          "height": 282
        },
        "id": "2V10XNyuUo7n",
        "outputId": "31f1dcbc-a6a4-4a64-a8b6-66f36e9cbb4f"
      },
      "source": [
        "plt.plot(history.history['loss'])\n",
        "plt.plot(history.history['val_loss'])"
      ],
      "execution_count": 10,
      "outputs": [
        {
          "output_type": "execute_result",
          "data": {
            "text/plain": [
              "[<matplotlib.lines.Line2D at 0x7f89ed1ba910>]"
            ]
          },
          "metadata": {
            "tags": []
          },
          "execution_count": 10
        },
        {
          "output_type": "display_data",
          "data": {
            "image/png": "[encoded data removed]",
            "text/plain": [
              "<Figure size 432x288 with 1 Axes>"
            ]
          },
          "metadata": {
            "tags": [],
            "needs_background": "light"
          }
        }
      ]
    },
    {
      "cell_type": "code",
      "metadata": {
        "colab": {
          "base_uri": "https://localhost:8080/",
          "height": 286
        },
        "id": "BOfjAUaKp213",
        "outputId": "79006050-f588-4027-9241-07aab1544e40"
      },
      "source": [
        "plt.plot(history.history['updated_mean_io_u'])\n",
        "plt.plot(history.history['val_updated_mean_io_u'])"
      ],
      "execution_count": 11,
      "outputs": [
        {
          "output_type": "execute_result",
          "data": {
            "text/plain": [
              "[<matplotlib.lines.Line2D at 0x7f89ed1aef10>]"
            ]
          },
          "metadata": {
            "tags": []
          },
          "execution_count": 11
        },
        {
          "output_type": "display_data",
          "data": {
            "image/png": "[encoded data removed]",
            "text/plain": [
              "<Figure size 432x288 with 1 Axes>"
            ]
          },
          "metadata": {
            "tags": [],
            "needs_background": "light"
          }
        }
      ]
    },
    {
      "cell_type": "code",
      "metadata": {
        "colab": {
          "base_uri": "https://localhost:8080/"
        },
        "id": "xIs9nAuXJX8F",
        "outputId": "d20bb11b-95b4-49f4-816f-57ad1af91544"
      },
      "source": [
        "# get the testdata\n",
        "testImgs   = getData(dataPath, testImgsFile)\n",
        "testLabels = getData(dataPath, testLabelsFile)\n",
        "print(testImgs.shape, testLabels.shape)"
      ],
      "execution_count": 16,
      "outputs": [
        {
          "output_type": "stream",
          "text": [
            "(617, 480, 480, 1) (617, 480, 480, 1)\n"
          ],
          "name": "stdout"
        }
      ]
    },
    {
      "cell_type": "code",
      "metadata": {
        "id": "2exNaM6HHHTe"
      },
      "source": [
        "trainImgs = None\n",
        "trainLabels = None\n",
        "valImgs = None\n",
        "valLabels = None"
      ],
      "execution_count": 22,
      "outputs": []
    },
    {
      "cell_type": "code",
      "metadata": {
        "colab": {
          "base_uri": "https://localhost:8080/"
        },
        "id": "cJg2fDdHqDEr",
        "outputId": "e10aa497-fc80-43ef-eea5-004214002c79"
      },
      "source": [
        "model.evaluate(testImgs, testLabels)"
      ],
      "execution_count": 19,
      "outputs": [
        {
          "output_type": "stream",
          "text": [
            "617/617 [==============================] - 11s 18ms/sample - loss: 0.0264 - accuracy: 0.9913 - updated_mean_io_u: 0.5768\n"
          ],
          "name": "stdout"
        },
        {
          "output_type": "execute_result",
          "data": {
            "text/plain": [
              "[0.026397340697035605, 0.99133056, 0.576809]"
            ]
          },
          "metadata": {
            "tags": []
          },
          "execution_count": 19
        }
      ]
    },
    {
      "cell_type": "code",
      "metadata": {
        "id": "4kBp5pC4qe3j"
      },
      "source": [
        "# save the model weights\n",
        "weightFileName = \"PSPEfficientNetb0_30e_16b.h5\"\n",
        "weightPath = '/content/drive/My Drive/Underwater_Segmentation_Research/Weights/PSPNET'\n",
        "#model.save_weights(weightPath + \"/\" + weightFileName)\n"
      ],
      "execution_count": 20,
      "outputs": []
    },
    {
      "cell_type": "code",
      "metadata": {
        "id": "O0ktWQ4lsyxv"
      },
      "source": [
        "model.load_weights(weightPath + \"/\" + weightFileName)\n",
        "#model.evaluate(testImgs, testLabels)"
      ],
      "execution_count": 12,
      "outputs": []
    },
    {
      "cell_type": "code",
      "metadata": {
        "colab": {
          "base_uri": "https://localhost:8080/"
        },
        "id": "SF0gF5Otuac9",
        "outputId": "5c932866-8095-497e-f8b1-e15f9dee28ae"
      },
      "source": [
        "modelFileName = \"PSPEfficientNetb0_30e_16b\"\n",
        "modelPath     = '/content/drive/My Drive/Underwater_Segmentation_Research/Models/PSPNET'\n",
        "model.save(modelPath + \"/\" + modelFileName)"
      ],
      "execution_count": 21,
      "outputs": [
        {
          "output_type": "stream",
          "text": [
            "WARNING:tensorflow:From /usr/local/lib/python3.7/dist-packages/tensorflow_core/python/ops/resource_variable_ops.py:1786: calling BaseResourceVariable.__init__ (from tensorflow.python.ops.resource_variable_ops) with constraint is deprecated and will be removed in a future version.\n",
            "Instructions for updating:\n",
            "If using Keras pass *_constraint arguments to layers.\n",
            "INFO:tensorflow:Assets written to: /content/drive/My Drive/Underwater_Segmentation_Research/Models/PSPNET/PSPEfficientNetb0_30e_16b/assets\n"
          ],
          "name": "stdout"
        }
      ]
    },
    {
      "cell_type": "code",
      "metadata": {
        "colab": {
          "base_uri": "https://localhost:8080/"
        },
        "id": "8g2JByQRvjc3",
        "outputId": "8a928e16-0df6-44fc-c4e4-31342e126ce6"
      },
      "source": [
        "# Check the GPU configuration\n",
        "!nvidia-smi"
      ],
      "execution_count": 23,
      "outputs": [
        {
          "output_type": "stream",
          "text": [
            "Fri May 28 17:57:08 2021       \n",
            "+-----------------------------------------------------------------------------+\n",
            "| NVIDIA-SMI 465.19.01    Driver Version: 460.32.03    CUDA Version: 11.2     |\n",
            "|-------------------------------+----------------------+----------------------+\n",
            "| GPU  Name        Persistence-M| Bus-Id        Disp.A | Volatile Uncorr. ECC |\n",
            "| Fan  Temp  Perf  Pwr:Usage/Cap|         Memory-Usage | GPU-Util  Compute M. |\n",
            "|                               |                      |               MIG M. |\n",
            "|===============================+======================+======================|\n",
            "|   0  Tesla T4            Off  | 00000000:00:04.0 Off |                    0 |\n",
            "| N/A   72C    P0    32W /  70W |  14870MiB / 15109MiB |      0%      Default |\n",
            "|                               |                      |                  N/A |\n",
            "+-------------------------------+----------------------+----------------------+\n",
            "                                                                               \n",
            "+-----------------------------------------------------------------------------+\n",
            "| Processes:                                                                  |\n",
            "|  GPU   GI   CI        PID   Type   Process name                  GPU Memory |\n",
            "|        ID   ID                                                   Usage      |\n",
            "|=============================================================================|\n",
            "+-----------------------------------------------------------------------------+\n"
          ],
          "name": "stdout"
        }
      ]
    },
    {
      "cell_type": "code",
      "metadata": {
        "id": "8Ky0ILN0Yuna"
      },
      "source": [
        "y_preds = tf.argmax(model.predict(testImgs), axis=-1)\n",
        "#y_preds = (y_preds >= 0.5).astype(np.uint8)"
      ],
      "execution_count": null,
      "outputs": []
    },
    {
      "cell_type": "code",
      "metadata": {
        "id": "p1uTFgSjY3nU"
      },
      "source": [
        "# Compute mean of per-class IOU throughout the test images\n",
        "num_classes=12\n",
        "m = UpdatedMeanIoU(num_classes=12)\n",
        "m.update_state(testLabels, y_preds)\n",
        "\n",
        "print(f'Overall mean IOU is : {m.result().numpy()}')\n",
        "\n",
        "# Values is the confusion matrix\n",
        "values = np.array(m.get_weights()).reshape(num_classes, num_classes)"
      ],
      "execution_count": null,
      "outputs": []
    },
    {
      "cell_type": "code",
      "metadata": {
        "id": "JVc0rYRGY5xf"
      },
      "source": [
        "# compute the mean per-class IOU\n",
        "numClasses = 12\n",
        "\n",
        "classIOU = []\n",
        "\n",
        "for i in range(numClasses):\n",
        "  rowSum = np.sum(values[i,:])\n",
        "  colSum = np.sum(values[:,i])\n",
        "  denom = rowSum + colSum - values[i,i]\n",
        "  iou = values[i,i]/denom\n",
        "  classIOU.append(iou)\n",
        "\n",
        "print(classIOU)\n",
        "perClassIoU = np.array(classIOU)\n",
        "print(np.mean(perClassIoU))\n"
      ],
      "execution_count": null,
      "outputs": []
    },
    {
      "cell_type": "code",
      "metadata": {
        "id": "vl0-DjZdY-ao"
      },
      "source": [
        "import matplotlib.pyplot as plt\n",
        "i = 0\n",
        "plt.imshow(y_preds[i])\n",
        "plt.show()\n",
        "\n",
        "print(np.unique(y_preds[i,:,:]))\n",
        "\n",
        "plt.imshow(testLabels[i,:,:,0])\n",
        "plt.show()\n",
        "\n",
        "print(np.unique(testLabels[i,:,:,0]))\n",
        "\n",
        "t = np.linspace(0,11,num=12)\n",
        "plt.plot(t, perClassIoU)\n",
        "plt.show()"
      ],
      "execution_count": null,
      "outputs": []
    }
  ]
}