{
  "nbformat": 4,
  "nbformat_minor": 0,
  "metadata": {
    "accelerator": "GPU",
    "colab": {
      "name": "PSPResNet50.ipynb",
      "provenance": [],
      "collapsed_sections": []
    },
    "kernelspec": {
      "display_name": "Python 3",
      "name": "python3"
    },
    "language_info": {
      "name": "python"
    }
  },
  "cells": [
    {
      "cell_type": "code",
      "metadata": {
        "id": "GmErIJJtXgxr"
      },
      "source": [
        "# LinkNet with ResNet34 for multiclass semantic segmentation\n",
        "!pip install tensorflow==2.1.0"
      ],
      "execution_count": null,
      "outputs": []
    },
    {
      "cell_type": "code",
      "metadata": {
        "id": "E05RxVTVawRq"
      },
      "source": [
        "!pip install segmentation-models"
      ],
      "execution_count": null,
      "outputs": []
    },
    {
      "cell_type": "code",
      "metadata": {
        "id": "KGcItvZUbw6S"
      },
      "source": [
        "# mount google drive here\n",
        "from google.colab import drive\n",
        "drive.mount('/content/drive')"
      ],
      "execution_count": null,
      "outputs": []
    },
    {
      "cell_type": "code",
      "metadata": {
        "id": "kmzSO8wLcDeg"
      },
      "source": [
        "!pip3 install 'h5py==2.10.0' --force-reinstall\n"
      ],
      "execution_count": null,
      "outputs": []
    },
    {
      "cell_type": "code",
      "metadata": {
        "id": "OVkZ3Rt_cBIJ",
        "colab": {
          "base_uri": "https://localhost:8080/"
        },
        "outputId": "57a36352-f1e7-4d4e-80a3-6a2c66526725"
      },
      "source": [
        "# Fetch the training, validation and testing dataset\n",
        "import os\n",
        "import numpy as np\n",
        "\n",
        "dataPath  = '/content/drive/My Drive/Underwater_Segmentation_Research/Weights/PSPNET'\n",
        "d = '/content/drive/My Drive/Underwater_Segmentation_Research/Data'\n",
        "\n",
        "trainPath       =  dataPath + '/Train'\n",
        "testPath        =  dataPath + '/Test'\n",
        "valPath         =  d + '/Validate'\n",
        "\n",
        "trainImgsFile   = 'trainingDataImgs.npy'\n",
        "trainLabelsFile = 'trainingDataLabels.npy'\n",
        "\n",
        "testImgsFile    = 'testingDataImgs.npy'\n",
        "testLabelsFile  = 'testingDataLabels.npy'\n",
        "\n",
        "valImgsFile     = 'validationDataImgs.npy'\n",
        "valLabelsFile   = 'validationDataLabels.npy'\n",
        "\n",
        "def getData(path,fileName):\n",
        "  return np.load(path + \"/\" + fileName)\n",
        "\n",
        "trainImgs   = getData(dataPath, trainImgsFile)\n",
        "trainLabels = getData(dataPath, trainLabelsFile)\n",
        "\n",
        "valImgs    = getData(dataPath, valImgsFile)\n",
        "valLabels  = getData(dataPath, valLabelsFile)\n",
        "\n",
        "print(\"Got train and validation data\")\n",
        "print(trainImgs.shape, valImgs.shape)\n",
        "print(trainLabels.shape, valLabels.shape)\n"
      ],
      "execution_count": 1,
      "outputs": [
        {
          "output_type": "stream",
          "text": [
            "Got train and validation data\n",
            "(1000, 480, 480, 1) (251, 480, 480, 1)\n",
            "(1000, 480, 480, 1) (251, 480, 480, 1)\n"
          ],
          "name": "stdout"
        }
      ]
    },
    {
      "cell_type": "code",
      "metadata": {
        "id": "PgYDODSoPOcY"
      },
      "source": [
        "arr = np.zeros([480, 80])\n"
      ],
      "execution_count": 9,
      "outputs": []
    },
    {
      "cell_type": "code",
      "metadata": {
        "colab": {
          "base_uri": "https://localhost:8080/"
        },
        "id": "X90kVYsTO9OR",
        "outputId": "4fa0a159-e809-448a-8f06-4b7ae0dfa085"
      },
      "source": [
        "# resize the validation labels\n",
        "\n",
        "valLabelsList = []\n",
        "\n",
        "for i in range(valLabels.shape[0]):\n",
        "  label = valLabels[i,:,:,0]\n",
        "  label = np.expand_dims(np.c_[arr, label, arr], axis=-1)\n",
        "  valLabelsList.append(label)\n",
        "\n",
        "valLabels = None\n",
        "valLabels = np.array(valLabelsList)\n",
        "print(valLabels.shape, valImgs.shape)\n",
        "valLabelsList = None"
      ],
      "execution_count": 11,
      "outputs": [
        {
          "output_type": "stream",
          "text": [
            "(251, 480, 480, 1) (251, 480, 480, 1)\n"
          ],
          "name": "stdout"
        }
      ]
    },
    {
      "cell_type": "code",
      "metadata": {
        "id": "uLWrd6DrP3Ba"
      },
      "source": [
        "# store the above array\n",
        "valLabelsPath = dataPath + '/' + valLabelsFile\n",
        "np.save(valLabelsPath, valLabels)"
      ],
      "execution_count": 12,
      "outputs": []
    },
    {
      "cell_type": "code",
      "metadata": {
        "colab": {
          "base_uri": "https://localhost:8080/"
        },
        "id": "b67fwbyqQcX9",
        "outputId": "193a36d4-13bd-40d6-a80b-9e31a09954aa"
      },
      "source": [
        "print(trainImgs.shape, trainLabels.shape)\n",
        "print(valImgs.shape, valLabels.shape)"
      ],
      "execution_count": 15,
      "outputs": [
        {
          "output_type": "stream",
          "text": [
            "(1000, 480, 480, 1) (1000, 480, 480, 1)\n",
            "(251, 480, 480, 1) (251, 480, 480, 1)\n"
          ],
          "name": "stdout"
        }
      ]
    },
    {
      "cell_type": "code",
      "metadata": {
        "id": "UYzc3jDWbN78"
      },
      "source": [
        "# Create the model (without pre-trained ImageNet weights)\n",
        "import os\n",
        "import numpy as np\n",
        "import tensorflow as tf\n",
        "import segmentation_models as sm\n",
        "\n",
        "# create the model\n",
        "model = sm.PSPNet('resnet50', input_shape=(480, 480, 1), encoder_weights=None, classes=12, activation='softmax')\n",
        "model.summary()\n"
      ],
      "execution_count": null,
      "outputs": []
    },
    {
      "cell_type": "code",
      "metadata": {
        "id": "i6hfU48-YwYT"
      },
      "source": [
        "class UpdatedMeanIoU(tf.keras.metrics.MeanIoU):\n",
        "  def __init__(self,\n",
        "               y_true=None,\n",
        "               y_pred=None,\n",
        "               num_classes=None,\n",
        "               name=None,\n",
        "               dtype=None):\n",
        "    super(UpdatedMeanIoU, self).__init__(num_classes = num_classes,name=name, dtype=dtype)\n",
        "\n",
        "  def update_state(self, y_true, y_pred, sample_weight=None):\n",
        "    y_pred = tf.math.argmax(y_pred, axis=-1)\n",
        "    return super().update_state(y_true, y_pred, sample_weight)"
      ],
      "execution_count": 3,
      "outputs": []
    },
    {
      "cell_type": "code",
      "metadata": {
        "id": "xrrWR34igCv-"
      },
      "source": [
        "import tensorflow as tf\n",
        "LOSS=tf.keras.losses.SparseCategoricalCrossentropy(from_logits=True)\n",
        "\n",
        "model.compile('Adam',\n",
        "              loss='sparse_categorical_crossentropy',\n",
        "              metrics=['accuracy', UpdatedMeanIoU(num_classes=12)])"
      ],
      "execution_count": 4,
      "outputs": []
    },
    {
      "cell_type": "code",
      "metadata": {
        "id": "t64j7531gnFX"
      },
      "source": [
        "# Setup training parameters\n",
        "BATCH = 16\n",
        "EPOCHS = 30\n",
        "\n",
        "# early stopping callback. It stops training when the loss does not change for 3 consecutive epochs\n",
        "callback = tf.keras.callbacks.EarlyStopping(monitor='loss', patience=3)"
      ],
      "execution_count": 5,
      "outputs": []
    },
    {
      "cell_type": "code",
      "metadata": {
        "colab": {
          "base_uri": "https://localhost:8080/"
        },
        "id": "BvvTmwzIhBvw",
        "outputId": "42b15497-5500-4643-fd78-b58f92091e6b"
      },
      "source": [
        "# Start training the model\n",
        "history = model.fit(trainImgs, trainLabels, epochs=EPOCHS, batch_size=BATCH, validation_data=(valImgs, valLabels))"
      ],
      "execution_count": 6,
      "outputs": [
        {
          "output_type": "stream",
          "text": [
            "Train on 1000 samples, validate on 251 samples\n",
            "Epoch 1/30\n",
            "1000/1000 [==============================] - 64s 64ms/sample - loss: 0.1473 - accuracy: 0.9638 - updated_mean_io_u: 0.1295 - val_loss: 0.3892 - val_accuracy: 0.9748 - val_updated_mean_io_u: 0.0814\n",
            "Epoch 2/30\n",
            "1000/1000 [==============================] - 48s 48ms/sample - loss: 0.0432 - accuracy: 0.9861 - updated_mean_io_u: 0.3143 - val_loss: 0.1327 - val_accuracy: 0.9773 - val_updated_mean_io_u: 0.1379\n",
            "Epoch 3/30\n",
            "1000/1000 [==============================] - 48s 48ms/sample - loss: 0.0348 - accuracy: 0.9881 - updated_mean_io_u: 0.4552 - val_loss: 0.0850 - val_accuracy: 0.9798 - val_updated_mean_io_u: 0.2194\n",
            "Epoch 4/30\n",
            "1000/1000 [==============================] - 48s 48ms/sample - loss: 0.0290 - accuracy: 0.9897 - updated_mean_io_u: 0.5302 - val_loss: 0.0508 - val_accuracy: 0.9857 - val_updated_mean_io_u: 0.2661\n",
            "Epoch 5/30\n",
            "1000/1000 [==============================] - 48s 48ms/sample - loss: 0.0245 - accuracy: 0.9911 - updated_mean_io_u: 0.5965 - val_loss: 0.0365 - val_accuracy: 0.9883 - val_updated_mean_io_u: 0.4045\n",
            "Epoch 6/30\n",
            "1000/1000 [==============================] - 48s 48ms/sample - loss: 0.0233 - accuracy: 0.9914 - updated_mean_io_u: 0.6164 - val_loss: 0.0376 - val_accuracy: 0.9889 - val_updated_mean_io_u: 0.3691\n",
            "Epoch 7/30\n",
            "1000/1000 [==============================] - 48s 48ms/sample - loss: 0.0212 - accuracy: 0.9921 - updated_mean_io_u: 0.6441 - val_loss: 0.0416 - val_accuracy: 0.9878 - val_updated_mean_io_u: 0.3831\n",
            "Epoch 8/30\n",
            "1000/1000 [==============================] - 48s 48ms/sample - loss: 0.0192 - accuracy: 0.9926 - updated_mean_io_u: 0.6626 - val_loss: 0.0278 - val_accuracy: 0.9910 - val_updated_mean_io_u: 0.5670\n",
            "Epoch 9/30\n",
            "1000/1000 [==============================] - 48s 48ms/sample - loss: 0.0196 - accuracy: 0.9927 - updated_mean_io_u: 0.6738 - val_loss: 0.0265 - val_accuracy: 0.9914 - val_updated_mean_io_u: 0.5451\n",
            "Epoch 10/30\n",
            "1000/1000 [==============================] - 48s 48ms/sample - loss: 0.0180 - accuracy: 0.9930 - updated_mean_io_u: 0.6830 - val_loss: 0.0313 - val_accuracy: 0.9894 - val_updated_mean_io_u: 0.4936\n",
            "Epoch 11/30\n",
            "1000/1000 [==============================] - 48s 48ms/sample - loss: 0.0180 - accuracy: 0.9930 - updated_mean_io_u: 0.6830 - val_loss: 0.0267 - val_accuracy: 0.9910 - val_updated_mean_io_u: 0.5592\n",
            "Epoch 12/30\n",
            "1000/1000 [==============================] - 48s 48ms/sample - loss: 0.0172 - accuracy: 0.9932 - updated_mean_io_u: 0.6956 - val_loss: 0.0291 - val_accuracy: 0.9905 - val_updated_mean_io_u: 0.5065\n",
            "Epoch 13/30\n",
            "1000/1000 [==============================] - 48s 48ms/sample - loss: 0.0159 - accuracy: 0.9938 - updated_mean_io_u: 0.7137 - val_loss: 0.0277 - val_accuracy: 0.9912 - val_updated_mean_io_u: 0.5739\n",
            "Epoch 14/30\n",
            "1000/1000 [==============================] - 48s 48ms/sample - loss: 0.0160 - accuracy: 0.9938 - updated_mean_io_u: 0.7141 - val_loss: 0.0559 - val_accuracy: 0.9854 - val_updated_mean_io_u: 0.3675\n",
            "Epoch 15/30\n",
            "1000/1000 [==============================] - 48s 48ms/sample - loss: 0.0152 - accuracy: 0.9938 - updated_mean_io_u: 0.7152 - val_loss: 0.0211 - val_accuracy: 0.9929 - val_updated_mean_io_u: 0.6527\n",
            "Epoch 16/30\n",
            "1000/1000 [==============================] - 48s 48ms/sample - loss: 0.0142 - accuracy: 0.9943 - updated_mean_io_u: 0.7353 - val_loss: 0.0323 - val_accuracy: 0.9897 - val_updated_mean_io_u: 0.4697\n",
            "Epoch 17/30\n",
            "1000/1000 [==============================] - 48s 48ms/sample - loss: 0.0147 - accuracy: 0.9940 - updated_mean_io_u: 0.7312 - val_loss: 0.0309 - val_accuracy: 0.9911 - val_updated_mean_io_u: 0.5489\n",
            "Epoch 18/30\n",
            "1000/1000 [==============================] - 48s 48ms/sample - loss: 0.0135 - accuracy: 0.9946 - updated_mean_io_u: 0.7440 - val_loss: 0.0333 - val_accuracy: 0.9904 - val_updated_mean_io_u: 0.5071\n",
            "Epoch 19/30\n",
            "1000/1000 [==============================] - 48s 48ms/sample - loss: 0.0133 - accuracy: 0.9946 - updated_mean_io_u: 0.7453 - val_loss: 0.0378 - val_accuracy: 0.9891 - val_updated_mean_io_u: 0.4489\n",
            "Epoch 20/30\n",
            "1000/1000 [==============================] - 48s 48ms/sample - loss: 0.0128 - accuracy: 0.9948 - updated_mean_io_u: 0.7497 - val_loss: 0.0557 - val_accuracy: 0.9870 - val_updated_mean_io_u: 0.3400\n",
            "Epoch 21/30\n",
            "1000/1000 [==============================] - 48s 48ms/sample - loss: 0.0136 - accuracy: 0.9946 - updated_mean_io_u: 0.7463 - val_loss: 0.0371 - val_accuracy: 0.9904 - val_updated_mean_io_u: 0.4766\n",
            "Epoch 22/30\n",
            "1000/1000 [==============================] - 48s 48ms/sample - loss: 0.0127 - accuracy: 0.9948 - updated_mean_io_u: 0.7580 - val_loss: 0.0416 - val_accuracy: 0.9883 - val_updated_mean_io_u: 0.5248\n",
            "Epoch 23/30\n",
            "1000/1000 [==============================] - 48s 48ms/sample - loss: 0.0138 - accuracy: 0.9946 - updated_mean_io_u: 0.7511 - val_loss: 0.1109 - val_accuracy: 0.9812 - val_updated_mean_io_u: 0.2301\n",
            "Epoch 24/30\n",
            "1000/1000 [==============================] - 48s 48ms/sample - loss: 0.0121 - accuracy: 0.9951 - updated_mean_io_u: 0.7612 - val_loss: 0.0943 - val_accuracy: 0.9816 - val_updated_mean_io_u: 0.4233\n",
            "Epoch 25/30\n",
            "1000/1000 [==============================] - 48s 48ms/sample - loss: 0.0121 - accuracy: 0.9950 - updated_mean_io_u: 0.7662 - val_loss: 0.0293 - val_accuracy: 0.9915 - val_updated_mean_io_u: 0.5398\n",
            "Epoch 26/30\n",
            "1000/1000 [==============================] - 48s 48ms/sample - loss: 0.0113 - accuracy: 0.9954 - updated_mean_io_u: 0.7786 - val_loss: 0.0323 - val_accuracy: 0.9910 - val_updated_mean_io_u: 0.5649\n",
            "Epoch 27/30\n",
            "1000/1000 [==============================] - 48s 48ms/sample - loss: 0.0104 - accuracy: 0.9957 - updated_mean_io_u: 0.8005 - val_loss: 0.0232 - val_accuracy: 0.9931 - val_updated_mean_io_u: 0.6674\n",
            "Epoch 28/30\n",
            "1000/1000 [==============================] - 48s 48ms/sample - loss: 0.0093 - accuracy: 0.9961 - updated_mean_io_u: 0.8117 - val_loss: 0.0353 - val_accuracy: 0.9913 - val_updated_mean_io_u: 0.4938\n",
            "Epoch 29/30\n",
            "1000/1000 [==============================] - 48s 48ms/sample - loss: 0.0117 - accuracy: 0.9953 - updated_mean_io_u: 0.7768 - val_loss: 0.0476 - val_accuracy: 0.9878 - val_updated_mean_io_u: 0.4484\n",
            "Epoch 30/30\n",
            "1000/1000 [==============================] - 48s 48ms/sample - loss: 0.0102 - accuracy: 0.9958 - updated_mean_io_u: 0.7936 - val_loss: 0.0253 - val_accuracy: 0.9933 - val_updated_mean_io_u: 0.6813\n"
          ],
          "name": "stdout"
        }
      ]
    },
    {
      "cell_type": "code",
      "metadata": {
        "colab": {
          "base_uri": "https://localhost:8080/",
          "height": 300
        },
        "id": "5ymxrY3gpSBh",
        "outputId": "10b38872-be91-4afa-93c0-ec85bd702547"
      },
      "source": [
        "#  Plot the results\n",
        "print(history.history.keys())\n",
        "\n",
        "import matplotlib.pyplot as plt\n",
        "plt.plot(history.history['accuracy'])\n",
        "plt.plot(history.history['val_accuracy'])"
      ],
      "execution_count": 7,
      "outputs": [
        {
          "output_type": "stream",
          "text": [
            "dict_keys(['loss', 'accuracy', 'updated_mean_io_u', 'val_loss', 'val_accuracy', 'val_updated_mean_io_u'])\n"
          ],
          "name": "stdout"
        },
        {
          "output_type": "execute_result",
          "data": {
            "text/plain": [
              "[<matplotlib.lines.Line2D at 0x7f3fad67a150>]"
            ]
          },
          "metadata": {
            "tags": []
          },
          "execution_count": 7
        },
        {
          "output_type": "display_data",
          "data": {
            "image/png": "[encoded data removed]",
            "text/plain": [
              "<Figure size 432x288 with 1 Axes>"
            ]
          },
          "metadata": {
            "tags": [],
            "needs_background": "light"
          }
        }
      ]
    },
    {
      "cell_type": "code",
      "metadata": {
        "colab": {
          "base_uri": "https://localhost:8080/",
          "height": 282
        },
        "id": "2V10XNyuUo7n",
        "outputId": "fdfe76d7-ceee-487f-ccda-7d90d8c2cf16"
      },
      "source": [
        "plt.plot(history.history['loss'])\n",
        "plt.plot(history.history['val_loss'])"
      ],
      "execution_count": 9,
      "outputs": [
        {
          "output_type": "execute_result",
          "data": {
            "text/plain": [
              "[<matplotlib.lines.Line2D at 0x7f3fad0c4f50>]"
            ]
          },
          "metadata": {
            "tags": []
          },
          "execution_count": 9
        },
        {
          "output_type": "display_data",
          "data": {
            "image/png": "[encoded data removed]",
            "text/plain": [
              "<Figure size 432x288 with 1 Axes>"
            ]
          },
          "metadata": {
            "tags": [],
            "needs_background": "light"
          }
        }
      ]
    },
    {
      "cell_type": "code",
      "metadata": {
        "colab": {
          "base_uri": "https://localhost:8080/",
          "height": 282
        },
        "id": "BOfjAUaKp213",
        "outputId": "f861f566-e7b8-485e-d145-76391c1bd017"
      },
      "source": [
        "plt.plot(history.history['updated_mean_io_u'])\n",
        "plt.plot(history.history['val_updated_mean_io_u'])"
      ],
      "execution_count": 10,
      "outputs": [
        {
          "output_type": "execute_result",
          "data": {
            "text/plain": [
              "[<matplotlib.lines.Line2D at 0x7f3fadead810>]"
            ]
          },
          "metadata": {
            "tags": []
          },
          "execution_count": 10
        },
        {
          "output_type": "display_data",
          "data": {
            "image/png": "[encoded data removed]",
            "text/plain": [
              "<Figure size 432x288 with 1 Axes>"
            ]
          },
          "metadata": {
            "tags": [],
            "needs_background": "light"
          }
        }
      ]
    },
    {
      "cell_type": "code",
      "metadata": {
        "colab": {
          "base_uri": "https://localhost:8080/"
        },
        "id": "xIs9nAuXJX8F",
        "outputId": "9d040600-d72f-4e44-8f59-fed556a56c14"
      },
      "source": [
        "# get the testdata\n",
        "testImgs   = getData(dataPath, testImgsFile)\n",
        "testLabels = getData(dataPath, testLabelsFile)\n",
        "print(testImgs.shape, testLabels.shape)"
      ],
      "execution_count": 11,
      "outputs": [
        {
          "output_type": "stream",
          "text": [
            "(617, 480, 480, 1) (617, 480, 480, 1)\n"
          ],
          "name": "stdout"
        }
      ]
    },
    {
      "cell_type": "code",
      "metadata": {
        "colab": {
          "base_uri": "https://localhost:8080/"
        },
        "id": "cJg2fDdHqDEr",
        "outputId": "ac453b84-95bf-4dbe-8ec5-b77bc1f6639e"
      },
      "source": [
        "model.evaluate(testImgs, testLabels)"
      ],
      "execution_count": 12,
      "outputs": [
        {
          "output_type": "stream",
          "text": [
            "617/617 [==============================] - 14s 23ms/sample - loss: 0.0233 - accuracy: 0.9932 - updated_mean_io_u: 0.6829\n"
          ],
          "name": "stdout"
        },
        {
          "output_type": "execute_result",
          "data": {
            "text/plain": [
              "[0.023298155510348285, 0.99324733, 0.68288976]"
            ]
          },
          "metadata": {
            "tags": []
          },
          "execution_count": 12
        }
      ]
    },
    {
      "cell_type": "code",
      "metadata": {
        "id": "4kBp5pC4qe3j"
      },
      "source": [
        "# save the model weights\n",
        "weightFileName = \"PSPResNet50_30e_16b.h5\"\n",
        "weightPath = '/content/drive/My Drive/Underwater_Segmentation_Research/Weights/PSPNET'\n",
        "model.save_weights(weightPath + \"/\" + weightFileName)\n"
      ],
      "execution_count": 13,
      "outputs": []
    },
    {
      "cell_type": "code",
      "metadata": {
        "id": "O0ktWQ4lsyxv"
      },
      "source": [
        "model.load_weights(weightPath + \"/\" + weightFileName)\n",
        "#model.evaluate(testImgs, testLabels)"
      ],
      "execution_count": 10,
      "outputs": []
    },
    {
      "cell_type": "code",
      "metadata": {
        "id": "SF0gF5Otuac9",
        "colab": {
          "base_uri": "https://localhost:8080/"
        },
        "outputId": "77286f8f-737f-4a3d-9a44-55dce5940de9"
      },
      "source": [
        "modelFileName = \"PSPResNet50_30e_16b\"\n",
        "modelPath     = '/content/drive/My Drive/Underwater_Segmentation_Research/Models/PSPNET'\n",
        "model.save(modelPath + \"/\" + modelFileName)"
      ],
      "execution_count": 14,
      "outputs": [
        {
          "output_type": "stream",
          "text": [
            "WARNING:tensorflow:From /usr/local/lib/python3.7/dist-packages/tensorflow_core/python/ops/resource_variable_ops.py:1786: calling BaseResourceVariable.__init__ (from tensorflow.python.ops.resource_variable_ops) with constraint is deprecated and will be removed in a future version.\n",
            "Instructions for updating:\n",
            "If using Keras pass *_constraint arguments to layers.\n",
            "INFO:tensorflow:Assets written to: /content/drive/My Drive/Underwater_Segmentation_Research/Models/PSPNET/PSPResNet50_30e_16b/assets\n"
          ],
          "name": "stdout"
        }
      ]
    },
    {
      "cell_type": "code",
      "metadata": {
        "colab": {
          "base_uri": "https://localhost:8080/"
        },
        "id": "8g2JByQRvjc3",
        "outputId": "be229134-c9c2-4b5f-d28f-8435a78d3e0b"
      },
      "source": [
        "# Check the GPU configuration\n",
        "!nvidia-smi"
      ],
      "execution_count": 2,
      "outputs": [
        {
          "output_type": "stream",
          "text": [
            "Thu May 27 15:21:02 2021       \n",
            "+-----------------------------------------------------------------------------+\n",
            "| NVIDIA-SMI 465.19.01    Driver Version: 460.32.03    CUDA Version: 11.2     |\n",
            "|-------------------------------+----------------------+----------------------+\n",
            "| GPU  Name        Persistence-M| Bus-Id        Disp.A | Volatile Uncorr. ECC |\n",
            "| Fan  Temp  Perf  Pwr:Usage/Cap|         Memory-Usage | GPU-Util  Compute M. |\n",
            "|                               |                      |               MIG M. |\n",
            "|===============================+======================+======================|\n",
            "|   0  Tesla K80           Off  | 00000000:00:04.0 Off |                    0 |\n",
            "| N/A   38C    P8    26W / 149W |      0MiB / 11441MiB |      0%      Default |\n",
            "|                               |                      |                  N/A |\n",
            "+-------------------------------+----------------------+----------------------+\n",
            "                                                                               \n",
            "+-----------------------------------------------------------------------------+\n",
            "| Processes:                                                                  |\n",
            "|  GPU   GI   CI        PID   Type   Process name                  GPU Memory |\n",
            "|        ID   ID                                                   Usage      |\n",
            "|=============================================================================|\n",
            "|  No running processes found                                                 |\n",
            "+-----------------------------------------------------------------------------+\n"
          ],
          "name": "stdout"
        }
      ]
    },
    {
      "cell_type": "code",
      "metadata": {
        "id": "8Ky0ILN0Yuna"
      },
      "source": [
        "y_preds = ((model.predict(testImgs)) >= 0.5).astype(np.uint8)\n",
        "#y_preds = (y_preds >= 0.5).astype(np.uint8)"
      ],
      "execution_count": null,
      "outputs": []
    },
    {
      "cell_type": "code",
      "metadata": {
        "colab": {
          "base_uri": "https://localhost:8080/",
          "height": 237
        },
        "id": "p1uTFgSjY3nU",
        "outputId": "a4ed4c93-47b8-4986-9fc4-91a08169d3a7"
      },
      "source": [
        "# Compute mean of per-class IOU throughout the test images\n",
        "num_classes=12\n",
        "m = UpdatedMeanIoU(num_classes=12)\n",
        "m.update_state(testLabels, y_preds)\n",
        "\n",
        "print(f'Overall mean IOU is : {m.result().numpy()}')\n",
        "\n",
        "# Values is the confusion matrix\n",
        "values = np.array(m.get_weights()).reshape(num_classes, num_classes)"
      ],
      "execution_count": 1,
      "outputs": [
        {
          "output_type": "error",
          "ename": "NameError",
          "evalue": "ignored",
          "traceback": [
            "\u001b[0;31m---------------------------------------------------------------------------\u001b[0m",
            "\u001b[0;31mNameError\u001b[0m                                 Traceback (most recent call last)",
            "\u001b[0;32m<ipython-input-1-0b1dff0f8c9a>\u001b[0m in \u001b[0;36m<module>\u001b[0;34m()\u001b[0m\n\u001b[1;32m      1\u001b[0m \u001b[0;31m# Compute mean of per-class IOU throughout the test images\u001b[0m\u001b[0;34m\u001b[0m\u001b[0;34m\u001b[0m\u001b[0;34m\u001b[0m\u001b[0m\n\u001b[1;32m      2\u001b[0m \u001b[0mnum_classes\u001b[0m\u001b[0;34m=\u001b[0m\u001b[0;36m12\u001b[0m\u001b[0;34m\u001b[0m\u001b[0;34m\u001b[0m\u001b[0m\n\u001b[0;32m----> 3\u001b[0;31m \u001b[0mm\u001b[0m \u001b[0;34m=\u001b[0m \u001b[0mUpdatedMeanIoU\u001b[0m\u001b[0;34m(\u001b[0m\u001b[0mnum_classes\u001b[0m\u001b[0;34m=\u001b[0m\u001b[0;36m12\u001b[0m\u001b[0;34m)\u001b[0m\u001b[0;34m\u001b[0m\u001b[0;34m\u001b[0m\u001b[0m\n\u001b[0m\u001b[1;32m      4\u001b[0m \u001b[0mm\u001b[0m\u001b[0;34m.\u001b[0m\u001b[0mupdate_state\u001b[0m\u001b[0;34m(\u001b[0m\u001b[0mtestLabels\u001b[0m\u001b[0;34m,\u001b[0m \u001b[0my_preds\u001b[0m\u001b[0;34m)\u001b[0m\u001b[0;34m\u001b[0m\u001b[0;34m\u001b[0m\u001b[0m\n\u001b[1;32m      5\u001b[0m \u001b[0;34m\u001b[0m\u001b[0m\n",
            "\u001b[0;31mNameError\u001b[0m: name 'UpdatedMeanIoU' is not defined"
          ]
        }
      ]
    },
    {
      "cell_type": "code",
      "metadata": {
        "colab": {
          "base_uri": "https://localhost:8080/"
        },
        "id": "JVc0rYRGY5xf",
        "outputId": "60c24b9e-bdce-4d12-8b1c-c0041fd72803"
      },
      "source": [
        "# compute the mean per-class IOU\n",
        "numClasses = 12\n",
        "\n",
        "classIOU = []\n",
        "\n",
        "for i in range(numClasses):\n",
        "  rowSum = np.sum(values[i,:])\n",
        "  colSum = np.sum(values[:,i])\n",
        "  denom = rowSum + colSum - values[i,i]\n",
        "  iou = values[i,i]/denom\n",
        "  classIOU.append(iou)\n",
        "\n",
        "print(classIOU)\n",
        "perClassIoU = np.array(classIOU)\n",
        "print(np.mean(perClassIoU))\n"
      ],
      "execution_count": null,
      "outputs": [
        {
          "output_type": "stream",
          "text": [
            "[0.9237852244583048, 0.10694126099004482, 0.10765113325593897, 0.35602896445271714, 0.19253868133052995, 0.005500710840652113, 0.0263501219549443, 0.22935038470997435, 0.00730333783070335, 0.11841069954400783, 0.0017853682841088383, 0.32283458865806325]\n",
            "0.1998733730258325\n"
          ],
          "name": "stdout"
        }
      ]
    },
    {
      "cell_type": "code",
      "metadata": {
        "id": "677u7PDWWFvG"
      },
      "source": [
        "yPreds = tf.argmax(ypreds, axis=-1)\n",
        "yPreds = yPreds.numpy()"
      ],
      "execution_count": null,
      "outputs": []
    },
    {
      "cell_type": "code",
      "metadata": {
        "id": "vl0-DjZdY-ao"
      },
      "source": [
        "import matplotlib.pyplot as plt\n",
        "i = 0\n",
        "plt.imshow(yPreds[i])\n",
        "plt.show()\n",
        "\n",
        "print(np.unique(yPreds[i,:,:]))\n",
        "\n",
        "plt.imshow(testLabels[i,:,:,0])\n",
        "plt.show()\n",
        "\n",
        "print(np.unique(testLabels[i,:,:,0]))\n",
        "\n",
        "t = np.linspace(0,11,num=12)\n",
        "plt.plot(t, perClassIoU)\n",
        "plt.show()"
      ],
      "execution_count": null,
      "outputs": []
    }
  ]
}