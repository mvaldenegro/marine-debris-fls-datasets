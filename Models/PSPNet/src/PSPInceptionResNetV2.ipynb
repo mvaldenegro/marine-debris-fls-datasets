{
  "nbformat": 4,
  "nbformat_minor": 0,
  "metadata": {
    "colab": {
      "name": "PSPInceptionResNetV2.ipynb",
      "provenance": []
    },
    "kernelspec": {
      "name": "python3",
      "display_name": "Python 3"
    },
    "language_info": {
      "name": "python"
    },
    "accelerator": "GPU"
  },
  "cells": [
    {
      "cell_type": "code",
      "metadata": {
        "id": "646a6ZidU1EX"
      },
      "source": [
        "!pip install tensorflow==2.1.0"
      ],
      "execution_count": null,
      "outputs": []
    },
    {
      "cell_type": "code",
      "metadata": {
        "id": "mW_wHDsHU_Mb"
      },
      "source": [
        "!pip install segmentation-models"
      ],
      "execution_count": null,
      "outputs": []
    },
    {
      "cell_type": "code",
      "metadata": {
        "colab": {
          "base_uri": "https://localhost:8080/"
        },
        "id": "WNgO5XWhVBDR",
        "outputId": "52e9e05d-5a64-4c6c-c3e2-bf77a78c3e0b"
      },
      "source": [
        "# mount google drive here\n",
        "from google.colab import drive\n",
        "drive.mount('/content/drive')"
      ],
      "execution_count": 3,
      "outputs": [
        {
          "output_type": "stream",
          "text": [
            "Mounted at /content/drive\n"
          ],
          "name": "stdout"
        }
      ]
    },
    {
      "cell_type": "code",
      "metadata": {
        "id": "v7E1mHA4Kcke"
      },
      "source": [
        "testImgs = None\n",
        "testLabels = None\n",
        "y_preds = None\n",
        "trainImgs = None\n",
        "trainLabels = None\n",
        "valImgs = None\n",
        "valLabels = None"
      ],
      "execution_count": 4,
      "outputs": []
    },
    {
      "cell_type": "code",
      "metadata": {
        "colab": {
          "base_uri": "https://localhost:8080/"
        },
        "id": "_JMHD5bVVCwc",
        "outputId": "99f95549-3438-496b-ab2f-6bd90d43e041"
      },
      "source": [
        "# Fetch the training, validation and testing dataset\n",
        "import os\n",
        "import numpy as np\n",
        "\n",
        "dataPath  = '/content/drive/My Drive/Underwater_Segmentation_Research/Weights/PSPNET'\n",
        "d = '/content/drive/My Drive/Underwater_Segmentation_Research/Data'\n",
        "\n",
        "trainPath       =  dataPath + '/Train'\n",
        "testPath        =  dataPath + '/Test'\n",
        "valPath         =  d + '/Validate'\n",
        "\n",
        "trainImgsFile   = 'trainingDataImgs.npy'\n",
        "trainLabelsFile = 'trainingDataLabels.npy'\n",
        "\n",
        "testImgsFile    = 'testingDataImgs.npy'\n",
        "testLabelsFile  = 'testingDataLabels.npy'\n",
        "\n",
        "valImgsFile     = 'validationDataImgs.npy'\n",
        "valLabelsFile   = 'validationDataLabels.npy'\n",
        "\n",
        "def getData(path,fileName):\n",
        "  return np.load(path + \"/\" + fileName)\n",
        "\n",
        "trainImgs   = getData(dataPath, trainImgsFile)\n",
        "trainLabels = getData(dataPath, trainLabelsFile)\n",
        "\n",
        "valImgs    = getData(dataPath, valImgsFile)\n",
        "valLabels  = getData(dataPath, valLabelsFile)\n",
        "\n",
        "print(\"Got train and validation data\")\n",
        "print(trainImgs.shape, valImgs.shape)\n",
        "print(trainLabels.shape, valLabels.shape)\n"
      ],
      "execution_count": 5,
      "outputs": [
        {
          "output_type": "stream",
          "text": [
            "Got train and validation data\n",
            "(1000, 480, 480, 1) (251, 480, 480, 1)\n",
            "(1000, 480, 480, 1) (251, 480, 480, 1)\n"
          ],
          "name": "stdout"
        }
      ]
    },
    {
      "cell_type": "code",
      "metadata": {
        "id": "URg1avKvVNQF"
      },
      "source": [
        "# Create the model (without pre-trained ImageNet weights)\n",
        "import os\n",
        "import numpy as np\n",
        "import tensorflow as tf\n",
        "import segmentation_models as sm\n",
        "\n",
        "# create the model\n",
        "model = sm.PSPNet('inceptionresnetv2', input_shape=(480, 480, 1), encoder_weights=None, classes=12, activation='softmax')\n",
        "model.summary()\n"
      ],
      "execution_count": null,
      "outputs": []
    },
    {
      "cell_type": "code",
      "metadata": {
        "id": "msfXYbrZVP6j"
      },
      "source": [
        "class UpdatedMeanIoU(tf.keras.metrics.MeanIoU):\n",
        "  def __init__(self,\n",
        "               y_true=None,\n",
        "               y_pred=None,\n",
        "               num_classes=None,\n",
        "               name=None,\n",
        "               dtype=None):\n",
        "    super(UpdatedMeanIoU, self).__init__(num_classes = num_classes,name=name, dtype=dtype)\n",
        "\n",
        "  def update_state(self, y_true, y_pred, sample_weight=None):\n",
        "    #y_pred = tf.math.argmax(y_pred, axis=-1)\n",
        "    return super().update_state(y_true, y_pred, sample_weight)"
      ],
      "execution_count": 35,
      "outputs": []
    },
    {
      "cell_type": "code",
      "metadata": {
        "id": "T3m4A8CQVReQ"
      },
      "source": [
        "import tensorflow as tf\n",
        "LOSS=tf.keras.losses.SparseCategoricalCrossentropy(from_logits=True)\n",
        "\n",
        "model.compile('Adam',\n",
        "              loss='sparse_categorical_crossentropy',\n",
        "              metrics=['accuracy', UpdatedMeanIoU(num_classes=12)])"
      ],
      "execution_count": 14,
      "outputs": []
    },
    {
      "cell_type": "code",
      "metadata": {
        "id": "Z9SkS5llVTGJ"
      },
      "source": [
        "# Setup training parameters\n",
        "BATCH = 16\n",
        "EPOCHS = 30\n",
        "\n",
        "# early stopping callback. It stops training when the loss does not change for 3 consecutive epochs\n",
        "callback = tf.keras.callbacks.EarlyStopping(monitor='loss', patience=3)"
      ],
      "execution_count": 9,
      "outputs": []
    },
    {
      "cell_type": "code",
      "metadata": {
        "colab": {
          "base_uri": "https://localhost:8080/"
        },
        "id": "nlwSNsgxVU_x",
        "outputId": "6b9dcea6-d9eb-4456-f763-a3cb821601eb"
      },
      "source": [
        "history = model.fit(trainImgs, trainLabels, epochs=EPOCHS, batch_size=BATCH, validation_data=(valImgs, valLabels))"
      ],
      "execution_count": 15,
      "outputs": [
        {
          "output_type": "stream",
          "text": [
            "Train on 1000 samples, validate on 251 samples\n",
            "Epoch 1/30\n",
            "1000/1000 [==============================] - 116s 116ms/sample - loss: 0.1342 - accuracy: 0.9647 - updated_mean_io_u_1: 0.1503 - val_loss: 0.2347 - val_accuracy: 0.9632 - val_updated_mean_io_u_1: 0.0876\n",
            "Epoch 2/30\n",
            "1000/1000 [==============================] - 105s 105ms/sample - loss: 0.0425 - accuracy: 0.9862 - updated_mean_io_u_1: 0.3237 - val_loss: 0.1386 - val_accuracy: 0.9760 - val_updated_mean_io_u_1: 0.0907\n",
            "Epoch 3/30\n",
            "1000/1000 [==============================] - 106s 106ms/sample - loss: 0.0341 - accuracy: 0.9883 - updated_mean_io_u_1: 0.4530 - val_loss: 0.1020 - val_accuracy: 0.9778 - val_updated_mean_io_u_1: 0.1153\n",
            "Epoch 4/30\n",
            "1000/1000 [==============================] - 105s 105ms/sample - loss: 0.0280 - accuracy: 0.9899 - updated_mean_io_u_1: 0.5330 - val_loss: 0.0722 - val_accuracy: 0.9823 - val_updated_mean_io_u_1: 0.1668\n",
            "Epoch 5/30\n",
            "1000/1000 [==============================] - 105s 105ms/sample - loss: 0.0249 - accuracy: 0.9908 - updated_mean_io_u_1: 0.5835 - val_loss: 0.0368 - val_accuracy: 0.9881 - val_updated_mean_io_u_1: 0.4401\n",
            "Epoch 6/30\n",
            "1000/1000 [==============================] - 106s 106ms/sample - loss: 0.0233 - accuracy: 0.9914 - updated_mean_io_u_1: 0.6166 - val_loss: 0.0500 - val_accuracy: 0.9853 - val_updated_mean_io_u_1: 0.2680\n",
            "Epoch 7/30\n",
            "1000/1000 [==============================] - 106s 106ms/sample - loss: 0.0227 - accuracy: 0.9914 - updated_mean_io_u_1: 0.6216 - val_loss: 0.0512 - val_accuracy: 0.9856 - val_updated_mean_io_u_1: 0.3424\n",
            "Epoch 8/30\n",
            "1000/1000 [==============================] - 105s 105ms/sample - loss: 0.0199 - accuracy: 0.9924 - updated_mean_io_u_1: 0.6562 - val_loss: 0.0257 - val_accuracy: 0.9914 - val_updated_mean_io_u_1: 0.5392\n",
            "Epoch 9/30\n",
            "1000/1000 [==============================] - 106s 106ms/sample - loss: 0.0183 - accuracy: 0.9930 - updated_mean_io_u_1: 0.6779 - val_loss: 0.0452 - val_accuracy: 0.9868 - val_updated_mean_io_u_1: 0.3290\n",
            "Epoch 10/30\n",
            "1000/1000 [==============================] - 105s 105ms/sample - loss: 0.0179 - accuracy: 0.9930 - updated_mean_io_u_1: 0.6841 - val_loss: 0.0703 - val_accuracy: 0.9817 - val_updated_mean_io_u_1: 0.2733\n",
            "Epoch 11/30\n",
            "1000/1000 [==============================] - 105s 105ms/sample - loss: 0.0175 - accuracy: 0.9931 - updated_mean_io_u_1: 0.6837 - val_loss: 0.0435 - val_accuracy: 0.9881 - val_updated_mean_io_u_1: 0.3679\n",
            "Epoch 12/30\n",
            "1000/1000 [==============================] - 106s 106ms/sample - loss: 0.0175 - accuracy: 0.9932 - updated_mean_io_u_1: 0.6955 - val_loss: 0.0726 - val_accuracy: 0.9832 - val_updated_mean_io_u_1: 0.2684\n",
            "Epoch 13/30\n",
            "1000/1000 [==============================] - 105s 105ms/sample - loss: 0.0164 - accuracy: 0.9936 - updated_mean_io_u_1: 0.7050 - val_loss: 0.0504 - val_accuracy: 0.9854 - val_updated_mean_io_u_1: 0.3710\n",
            "Epoch 14/30\n",
            "1000/1000 [==============================] - 105s 105ms/sample - loss: 0.0160 - accuracy: 0.9935 - updated_mean_io_u_1: 0.7062 - val_loss: 0.0313 - val_accuracy: 0.9903 - val_updated_mean_io_u_1: 0.4867\n",
            "Epoch 15/30\n",
            "1000/1000 [==============================] - 105s 105ms/sample - loss: 0.0157 - accuracy: 0.9936 - updated_mean_io_u_1: 0.7102 - val_loss: 0.0415 - val_accuracy: 0.9879 - val_updated_mean_io_u_1: 0.3642\n",
            "Epoch 16/30\n",
            "1000/1000 [==============================] - 106s 106ms/sample - loss: 0.0164 - accuracy: 0.9936 - updated_mean_io_u_1: 0.7061 - val_loss: 0.0346 - val_accuracy: 0.9897 - val_updated_mean_io_u_1: 0.4821\n",
            "Epoch 17/30\n",
            "1000/1000 [==============================] - 105s 105ms/sample - loss: 0.0152 - accuracy: 0.9939 - updated_mean_io_u_1: 0.7177 - val_loss: 0.0840 - val_accuracy: 0.9843 - val_updated_mean_io_u_1: 0.2187\n",
            "Epoch 18/30\n",
            "1000/1000 [==============================] - 105s 105ms/sample - loss: 0.0149 - accuracy: 0.9940 - updated_mean_io_u_1: 0.7252 - val_loss: 0.0492 - val_accuracy: 0.9862 - val_updated_mean_io_u_1: 0.3973\n",
            "Epoch 19/30\n",
            "1000/1000 [==============================] - 106s 106ms/sample - loss: 0.0147 - accuracy: 0.9940 - updated_mean_io_u_1: 0.7265 - val_loss: 0.0367 - val_accuracy: 0.9900 - val_updated_mean_io_u_1: 0.4272\n",
            "Epoch 20/30\n",
            "1000/1000 [==============================] - 106s 106ms/sample - loss: 0.0142 - accuracy: 0.9942 - updated_mean_io_u_1: 0.7365 - val_loss: 0.0360 - val_accuracy: 0.9902 - val_updated_mean_io_u_1: 0.4629\n",
            "Epoch 21/30\n",
            "1000/1000 [==============================] - 106s 106ms/sample - loss: 0.0140 - accuracy: 0.9944 - updated_mean_io_u_1: 0.7329 - val_loss: 0.0346 - val_accuracy: 0.9893 - val_updated_mean_io_u_1: 0.4286\n",
            "Epoch 22/30\n",
            "1000/1000 [==============================] - 106s 106ms/sample - loss: 0.0134 - accuracy: 0.9945 - updated_mean_io_u_1: 0.7407 - val_loss: 0.0270 - val_accuracy: 0.9916 - val_updated_mean_io_u_1: 0.5791\n",
            "Epoch 23/30\n",
            "1000/1000 [==============================] - 106s 106ms/sample - loss: 0.0133 - accuracy: 0.9945 - updated_mean_io_u_1: 0.7482 - val_loss: 0.1112 - val_accuracy: 0.9815 - val_updated_mean_io_u_1: 0.2111\n",
            "Epoch 24/30\n",
            "1000/1000 [==============================] - 106s 106ms/sample - loss: 0.0140 - accuracy: 0.9944 - updated_mean_io_u_1: 0.7439 - val_loss: 0.1117 - val_accuracy: 0.9792 - val_updated_mean_io_u_1: 0.2623\n",
            "Epoch 25/30\n",
            "1000/1000 [==============================] - 105s 105ms/sample - loss: 0.0142 - accuracy: 0.9943 - updated_mean_io_u_1: 0.7347 - val_loss: 0.0350 - val_accuracy: 0.9899 - val_updated_mean_io_u_1: 0.5105\n",
            "Epoch 26/30\n",
            "1000/1000 [==============================] - 106s 106ms/sample - loss: 0.0130 - accuracy: 0.9947 - updated_mean_io_u_1: 0.7449 - val_loss: 0.0309 - val_accuracy: 0.9913 - val_updated_mean_io_u_1: 0.5692\n",
            "Epoch 27/30\n",
            "1000/1000 [==============================] - 105s 105ms/sample - loss: 0.0125 - accuracy: 0.9949 - updated_mean_io_u_1: 0.7557 - val_loss: 0.0939 - val_accuracy: 0.9845 - val_updated_mean_io_u_1: 0.2107\n",
            "Epoch 28/30\n",
            "1000/1000 [==============================] - 105s 105ms/sample - loss: 0.0134 - accuracy: 0.9945 - updated_mean_io_u_1: 0.7523 - val_loss: 0.0265 - val_accuracy: 0.9914 - val_updated_mean_io_u_1: 0.5975\n",
            "Epoch 29/30\n",
            "1000/1000 [==============================] - 106s 106ms/sample - loss: 0.0121 - accuracy: 0.9949 - updated_mean_io_u_1: 0.7616 - val_loss: 0.0310 - val_accuracy: 0.9905 - val_updated_mean_io_u_1: 0.5579\n",
            "Epoch 30/30\n",
            "1000/1000 [==============================] - 105s 105ms/sample - loss: 0.0117 - accuracy: 0.9951 - updated_mean_io_u_1: 0.7651 - val_loss: 0.0257 - val_accuracy: 0.9914 - val_updated_mean_io_u_1: 0.5927\n"
          ],
          "name": "stdout"
        }
      ]
    },
    {
      "cell_type": "code",
      "metadata": {
        "colab": {
          "base_uri": "https://localhost:8080/",
          "height": 300
        },
        "id": "YkrWfN9oVXDb",
        "outputId": "f3de8b02-94d0-43f5-f5aa-a67cb28bb663"
      },
      "source": [
        "print(history.history.keys())\n",
        "\n",
        "import matplotlib.pyplot as plt\n",
        "plt.plot(history.history['accuracy'])\n",
        "plt.plot(history.history['val_accuracy'])"
      ],
      "execution_count": 16,
      "outputs": [
        {
          "output_type": "stream",
          "text": [
            "dict_keys(['loss', 'accuracy', 'updated_mean_io_u_1', 'val_loss', 'val_accuracy', 'val_updated_mean_io_u_1'])\n"
          ],
          "name": "stdout"
        },
        {
          "output_type": "execute_result",
          "data": {
            "text/plain": [
              "[<matplotlib.lines.Line2D at 0x7f33304f6d10>]"
            ]
          },
          "metadata": {
            "tags": []
          },
          "execution_count": 16
        },
        {
          "output_type": "display_data",
          "data": {
            "image/png": "[encoded data removed]",
            "text/plain": [
              "<Figure size 432x288 with 1 Axes>"
            ]
          },
          "metadata": {
            "tags": [],
            "needs_background": "light"
          }
        }
      ]
    },
    {
      "cell_type": "code",
      "metadata": {
        "colab": {
          "base_uri": "https://localhost:8080/",
          "height": 282
        },
        "id": "q5a0SgCUVY9i",
        "outputId": "c873b3e1-b6ef-4d78-96ff-2b018f27d5b5"
      },
      "source": [
        "plt.plot(history.history['loss'])\n",
        "plt.plot(history.history['val_loss'])"
      ],
      "execution_count": 17,
      "outputs": [
        {
          "output_type": "execute_result",
          "data": {
            "text/plain": [
              "[<matplotlib.lines.Line2D at 0x7f33304dcc10>]"
            ]
          },
          "metadata": {
            "tags": []
          },
          "execution_count": 17
        },
        {
          "output_type": "display_data",
          "data": {
            "image/png": "[encoded data removed]",
            "text/plain": [
              "<Figure size 432x288 with 1 Axes>"
            ]
          },
          "metadata": {
            "tags": [],
            "needs_background": "light"
          }
        }
      ]
    },
    {
      "cell_type": "code",
      "metadata": {
        "colab": {
          "base_uri": "https://localhost:8080/",
          "height": 282
        },
        "id": "Ric76vPxVa3l",
        "outputId": "c68eb27e-c258-4ac4-e8b4-752267fc0e4c"
      },
      "source": [
        "plt.plot(history.history['updated_mean_io_u_1'])\n",
        "plt.plot(history.history['val_updated_mean_io_u_1'])"
      ],
      "execution_count": 19,
      "outputs": [
        {
          "output_type": "execute_result",
          "data": {
            "text/plain": [
              "[<matplotlib.lines.Line2D at 0x7f3330386510>]"
            ]
          },
          "metadata": {
            "tags": []
          },
          "execution_count": 19
        },
        {
          "output_type": "display_data",
          "data": {
            "image/png": "[encoded data removed]",
            "text/plain": [
              "<Figure size 432x288 with 1 Axes>"
            ]
          },
          "metadata": {
            "tags": [],
            "needs_background": "light"
          }
        }
      ]
    },
    {
      "cell_type": "code",
      "metadata": {
        "colab": {
          "base_uri": "https://localhost:8080/"
        },
        "id": "E5oLFFTCVc4W",
        "outputId": "2023db40-a015-466d-a559-123eb9e87e91"
      },
      "source": [
        "# get the testdata\n",
        "testImgs   = getData(dataPath, testImgsFile)\n",
        "testLabels = getData(dataPath, testLabelsFile)\n",
        "print(testImgs.shape, testLabels.shape)"
      ],
      "execution_count": 22,
      "outputs": [
        {
          "output_type": "stream",
          "text": [
            "(617, 480, 480, 1) (617, 480, 480, 1)\n"
          ],
          "name": "stdout"
        }
      ]
    },
    {
      "cell_type": "code",
      "metadata": {
        "id": "NJBjSRa3APLE"
      },
      "source": [
        "trainImgs = None\n",
        "trainLabels = None\n",
        "valImgs = None\n",
        "valLabels = None"
      ],
      "execution_count": 28,
      "outputs": []
    },
    {
      "cell_type": "code",
      "metadata": {
        "id": "nDOUzXtWVjfJ"
      },
      "source": [
        "model.evaluate(testImgs, testLabels)"
      ],
      "execution_count": null,
      "outputs": []
    },
    {
      "cell_type": "code",
      "metadata": {
        "id": "D1Hoe-7UVmd8"
      },
      "source": [
        "# save the model weights\n",
        "weightFileName = \"PSPInceptionResNetV2_30e_16b.h5\"\n",
        "weightPath = '/content/drive/My Drive/Underwater_Segmentation_Research/Weights/PSPNET'\n",
        "model.save_weights(weightPath + \"/\" + weightFileName)\n"
      ],
      "execution_count": 25,
      "outputs": []
    },
    {
      "cell_type": "code",
      "metadata": {
        "id": "KUB1vg2zVoBk"
      },
      "source": [
        "model.load_weights(weightPath + \"/\" + weightFileName)\n",
        "#model.evaluate(testImgs, testLabels)"
      ],
      "execution_count": null,
      "outputs": []
    },
    {
      "cell_type": "code",
      "metadata": {
        "id": "M-ixXV4lVqB8"
      },
      "source": [
        "modelFileName = \"PSPInceptionResNetV2_30e_16b\"\n",
        "modelPath     = '/content/drive/My Drive/Underwater_Segmentation_Research/Models/PSPNET'\n",
        "model.save(modelPath + \"/\" + modelFileName)"
      ],
      "execution_count": null,
      "outputs": []
    },
    {
      "cell_type": "code",
      "metadata": {
        "colab": {
          "base_uri": "https://localhost:8080/"
        },
        "id": "9U-_GRs7VrRc",
        "outputId": "9db5a360-709e-4e6c-bfe2-c539f2e450cc"
      },
      "source": [
        "# Check the GPU configuration\n",
        "!nvidia-smi"
      ],
      "execution_count": 29,
      "outputs": [
        {
          "output_type": "stream",
          "text": [
            "Fri May 28 16:59:37 2021       \n",
            "+-----------------------------------------------------------------------------+\n",
            "| NVIDIA-SMI 465.19.01    Driver Version: 460.32.03    CUDA Version: 11.2     |\n",
            "|-------------------------------+----------------------+----------------------+\n",
            "| GPU  Name        Persistence-M| Bus-Id        Disp.A | Volatile Uncorr. ECC |\n",
            "| Fan  Temp  Perf  Pwr:Usage/Cap|         Memory-Usage | GPU-Util  Compute M. |\n",
            "|                               |                      |               MIG M. |\n",
            "|===============================+======================+======================|\n",
            "|   0  Tesla K80           Off  | 00000000:00:04.0 Off |                    0 |\n",
            "| N/A   57C    P0    59W / 149W |  11043MiB / 11441MiB |      0%      Default |\n",
            "|                               |                      |                  N/A |\n",
            "+-------------------------------+----------------------+----------------------+\n",
            "                                                                               \n",
            "+-----------------------------------------------------------------------------+\n",
            "| Processes:                                                                  |\n",
            "|  GPU   GI   CI        PID   Type   Process name                  GPU Memory |\n",
            "|        ID   ID                                                   Usage      |\n",
            "|=============================================================================|\n",
            "+-----------------------------------------------------------------------------+\n"
          ],
          "name": "stdout"
        }
      ]
    },
    {
      "cell_type": "code",
      "metadata": {
        "id": "VSl980wRVs2S"
      },
      "source": [
        "y_preds = tf.argmax(model.predict(testImgs),-1)\n",
        "#y_preds = (y_preds >= 0.5).astype(np.uint8)"
      ],
      "execution_count": 30,
      "outputs": []
    },
    {
      "cell_type": "code",
      "metadata": {
        "id": "N5azDeGaHngA"
      },
      "source": [
        "testImgs = None"
      ],
      "execution_count": 33,
      "outputs": []
    },
    {
      "cell_type": "code",
      "metadata": {
        "colab": {
          "base_uri": "https://localhost:8080/"
        },
        "id": "qwAMqKHcWb0x",
        "outputId": "b942a4d2-ff57-48ec-b63f-df66e28bfb3e"
      },
      "source": [
        "# Compute mean of per-class IOU throughout the test images\n",
        "num_classes=12\n",
        "m = UpdatedMeanIoU(num_classes=12)\n",
        "m.update_state(testLabels, y_preds)\n",
        "\n",
        "print(f'Overall mean IOU is : {m.result().numpy()}')\n",
        "\n",
        "# Values is the confusion matrix\n",
        "values = np.array(m.get_weights()).reshape(num_classes, num_classes)"
      ],
      "execution_count": 36,
      "outputs": [
        {
          "output_type": "stream",
          "text": [
            "Overall mean IOU is : 0.5848612785339355\n"
          ],
          "name": "stdout"
        }
      ]
    },
    {
      "cell_type": "code",
      "metadata": {
        "id": "zR0aM8bzIKaG",
        "outputId": "8053d5b2-352f-4e97-90c7-1b538aa11c98",
        "colab": {
          "base_uri": "https://localhost:8080/"
        }
      },
      "source": [
        "numClasses = 12\n",
        "classIOU = []\n",
        "for i in range(numClasses):\n",
        "  rowSum = np.sum(values[i,:])\n",
        "  colSum = np.sum(values[:,i])\n",
        "  denom = rowSum + colSum - values[i,i]\n",
        "  iou = values[i,i]/denom\n",
        "  classIOU.append(iou)\n",
        "\n",
        "print(classIOU)\n",
        "perClassIoU = np.array(classIOU)\n",
        "print(np.mean(perClassIoU))"
      ],
      "execution_count": 37,
      "outputs": [
        {
          "output_type": "stream",
          "text": [
            "[0.9908648839627064, 0.6154214740558603, 0.18940331765288437, 0.4719996667742708, 0.6153293821270795, 0.4361176015252075, 0.6185575578609772, 0.6239531186979524, 0.5474585950885208, 0.8193877254956007, 0.3710969429458885, 0.7187451678733885]\n",
            "0.5848612861716946\n"
          ],
          "name": "stdout"
        }
      ]
    },
    {
      "cell_type": "code",
      "metadata": {
        "id": "SGRLFlLKWfSY"
      },
      "source": [
        "yPreds = tf.argmax(ypreds, axis=-1)\n",
        "yPreds = yPreds.numpy()"
      ],
      "execution_count": null,
      "outputs": []
    },
    {
      "cell_type": "code",
      "metadata": {
        "colab": {
          "base_uri": "https://localhost:8080/",
          "height": 804
        },
        "id": "7H2PKRHt1ENu",
        "outputId": "ddbd60a4-0299-483e-cec8-92057dd1976c"
      },
      "source": [
        "import matplotlib.pyplot as plt\n",
        "i = 0\n",
        "plt.imshow(y_preds[i])\n",
        "plt.show()\n",
        "\n",
        "print(np.unique(y_preds[i,:,:]))\n",
        "\n",
        "plt.imshow(testLabels[i,:,:,0])\n",
        "plt.show()\n",
        "\n",
        "print(np.unique(testLabels[i,:,:,0]))\n",
        "\n",
        "t = np.linspace(0,11,num=12)\n",
        "plt.plot(t, perClassIoU)\n",
        "plt.show()"
      ],
      "execution_count": 38,
      "outputs": [
        {
          "output_type": "display_data",
          "data": {
            "image/png": "[encoded data removed]",
            "text/plain": [
              "<Figure size 432x288 with 1 Axes>"
            ]
          },
          "metadata": {
            "tags": [],
            "needs_background": "light"
          }
        },
        {
          "output_type": "stream",
          "text": [
            "[ 0  1  9 11]\n"
          ],
          "name": "stdout"
        },
        {
          "output_type": "display_data",
          "data": {
            "image/png": "[encoded data removed]",
            "text/plain": [
              "<Figure size 432x288 with 1 Axes>"
            ]
          },
          "metadata": {
            "tags": [],
            "needs_background": "light"
          }
        },
        {
          "output_type": "stream",
          "text": [
            "[ 0.  1.  9. 11.]\n"
          ],
          "name": "stdout"
        },
        {
          "output_type": "display_data",
          "data": {
            "image/png": "[encoded data removed]",
            "text/plain": [
              "<Figure size 432x288 with 1 Axes>"
            ]
          },
          "metadata": {
            "tags": [],
            "needs_background": "light"
          }
        }
      ]
    }
  ]
}