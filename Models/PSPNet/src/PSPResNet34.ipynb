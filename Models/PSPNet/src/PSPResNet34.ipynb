{
  "nbformat": 4,
  "nbformat_minor": 0,
  "metadata": {
    "accelerator": "GPU",
    "colab": {
      "name": "PSPResNet34.ipynb",
      "provenance": [],
      "collapsed_sections": []
    },
    "kernelspec": {
      "display_name": "Python 3",
      "name": "python3"
    },
    "language_info": {
      "name": "python"
    }
  },
  "cells": [
    {
      "cell_type": "code",
      "metadata": {
        "id": "GmErIJJtXgxr"
      },
      "source": [
        "# LinkNet with ResNet34 for multiclass semantic segmentation\n",
        "!pip install tensorflow==2.1.0"
      ],
      "execution_count": null,
      "outputs": []
    },
    {
      "cell_type": "code",
      "metadata": {
        "id": "E05RxVTVawRq"
      },
      "source": [
        "!pip install segmentation-models"
      ],
      "execution_count": null,
      "outputs": []
    },
    {
      "cell_type": "code",
      "metadata": {
        "id": "KGcItvZUbw6S"
      },
      "source": [
        "# mount google drive here\n",
        "from google.colab import drive\n",
        "drive.mount('/content/drive')"
      ],
      "execution_count": null,
      "outputs": []
    },
    {
      "cell_type": "code",
      "metadata": {
        "id": "kmzSO8wLcDeg"
      },
      "source": [
        "!pip3 install 'h5py==2.10.0' --force-reinstall\n"
      ],
      "execution_count": null,
      "outputs": []
    },
    {
      "cell_type": "code",
      "metadata": {
        "id": "OVkZ3Rt_cBIJ",
        "colab": {
          "base_uri": "https://localhost:8080/"
        },
        "outputId": "57a36352-f1e7-4d4e-80a3-6a2c66526725"
      },
      "source": [
        "# Fetch the training, validation and testing dataset\n",
        "import os\n",
        "import numpy as np\n",
        "\n",
        "dataPath  = '/content/drive/My Drive/Underwater_Segmentation_Research/Weights/PSPNET'\n",
        "d = '/content/drive/My Drive/Underwater_Segmentation_Research/Data'\n",
        "\n",
        "trainPath       =  dataPath + '/Train'\n",
        "testPath        =  dataPath + '/Test'\n",
        "valPath         =  d + '/Validate'\n",
        "\n",
        "trainImgsFile   = 'trainingDataImgs.npy'\n",
        "trainLabelsFile = 'trainingDataLabels.npy'\n",
        "\n",
        "testImgsFile    = 'testingDataImgs.npy'\n",
        "testLabelsFile  = 'testingDataLabels.npy'\n",
        "\n",
        "valImgsFile     = 'validationDataImgs.npy'\n",
        "valLabelsFile   = 'validationDataLabels.npy'\n",
        "\n",
        "def getData(path,fileName):\n",
        "  return np.load(path + \"/\" + fileName)\n",
        "\n",
        "trainImgs   = getData(dataPath, trainImgsFile)\n",
        "trainLabels = getData(dataPath, trainLabelsFile)\n",
        "\n",
        "valImgs    = getData(dataPath, valImgsFile)\n",
        "valLabels  = getData(dataPath, valLabelsFile)\n",
        "\n",
        "print(\"Got train and validation data\")\n",
        "print(trainImgs.shape, valImgs.shape)\n",
        "print(trainLabels.shape, valLabels.shape)\n"
      ],
      "execution_count": 1,
      "outputs": [
        {
          "output_type": "stream",
          "text": [
            "Got train and validation data\n",
            "(1000, 480, 480, 1) (251, 480, 480, 1)\n",
            "(1000, 480, 480, 1) (251, 480, 480, 1)\n"
          ],
          "name": "stdout"
        }
      ]
    },
    {
      "cell_type": "code",
      "metadata": {
        "id": "PgYDODSoPOcY"
      },
      "source": [
        "arr = np.zeros([480, 80])\n"
      ],
      "execution_count": 9,
      "outputs": []
    },
    {
      "cell_type": "code",
      "metadata": {
        "colab": {
          "base_uri": "https://localhost:8080/"
        },
        "id": "X90kVYsTO9OR",
        "outputId": "4fa0a159-e809-448a-8f06-4b7ae0dfa085"
      },
      "source": [
        "# resize the validation labels\n",
        "\n",
        "valLabelsList = []\n",
        "\n",
        "for i in range(valLabels.shape[0]):\n",
        "  label = valLabels[i,:,:,0]\n",
        "  label = np.expand_dims(np.c_[arr, label, arr], axis=-1)\n",
        "  valLabelsList.append(label)\n",
        "\n",
        "valLabels = None\n",
        "valLabels = np.array(valLabelsList)\n",
        "print(valLabels.shape, valImgs.shape)\n",
        "valLabelsList = None"
      ],
      "execution_count": 11,
      "outputs": [
        {
          "output_type": "stream",
          "text": [
            "(251, 480, 480, 1) (251, 480, 480, 1)\n"
          ],
          "name": "stdout"
        }
      ]
    },
    {
      "cell_type": "code",
      "metadata": {
        "id": "uLWrd6DrP3Ba"
      },
      "source": [
        "# store the above array\n",
        "valLabelsPath = dataPath + '/' + valLabelsFile\n",
        "np.save(valLabelsPath, valLabels)"
      ],
      "execution_count": 12,
      "outputs": []
    },
    {
      "cell_type": "code",
      "metadata": {
        "colab": {
          "base_uri": "https://localhost:8080/"
        },
        "id": "b67fwbyqQcX9",
        "outputId": "193a36d4-13bd-40d6-a80b-9e31a09954aa"
      },
      "source": [
        "print(trainImgs.shape, trainLabels.shape)\n",
        "print(valImgs.shape, valLabels.shape)"
      ],
      "execution_count": 15,
      "outputs": [
        {
          "output_type": "stream",
          "text": [
            "(1000, 480, 480, 1) (1000, 480, 480, 1)\n",
            "(251, 480, 480, 1) (251, 480, 480, 1)\n"
          ],
          "name": "stdout"
        }
      ]
    },
    {
      "cell_type": "code",
      "metadata": {
        "id": "UYzc3jDWbN78"
      },
      "source": [
        "# Create the model (without pre-trained ImageNet weights)\n",
        "import os\n",
        "import numpy as np\n",
        "import tensorflow as tf\n",
        "import segmentation_models as sm\n",
        "\n",
        "# create the model\n",
        "model = sm.PSPNet('resnet34', input_shape=(480, 480, 1), encoder_weights=None, classes=12, activation='softmax')\n",
        "model.summary()\n"
      ],
      "execution_count": null,
      "outputs": []
    },
    {
      "cell_type": "code",
      "metadata": {
        "id": "i6hfU48-YwYT"
      },
      "source": [
        "class UpdatedMeanIoU(tf.keras.metrics.MeanIoU):\n",
        "  def __init__(self,\n",
        "               y_true=None,\n",
        "               y_pred=None,\n",
        "               num_classes=None,\n",
        "               name=None,\n",
        "               dtype=None):\n",
        "    super(UpdatedMeanIoU, self).__init__(num_classes = num_classes,name=name, dtype=dtype)\n",
        "\n",
        "  def update_state(self, y_true, y_pred, sample_weight=None):\n",
        "    y_pred = tf.math.argmax(y_pred, axis=-1)\n",
        "    return super().update_state(y_true, y_pred, sample_weight)"
      ],
      "execution_count": 5,
      "outputs": []
    },
    {
      "cell_type": "code",
      "metadata": {
        "id": "xrrWR34igCv-"
      },
      "source": [
        "import tensorflow as tf\n",
        "LOSS=tf.keras.losses.SparseCategoricalCrossentropy(from_logits=True)\n",
        "\n",
        "model.compile('Adam',\n",
        "              loss='sparse_categorical_crossentropy',\n",
        "              metrics=['accuracy', UpdatedMeanIoU(num_classes=12)])"
      ],
      "execution_count": 6,
      "outputs": []
    },
    {
      "cell_type": "code",
      "metadata": {
        "id": "t64j7531gnFX"
      },
      "source": [
        "# Setup training parameters\n",
        "BATCH = 16\n",
        "EPOCHS = 30\n",
        "\n",
        "# early stopping callback. It stops training when the loss does not change for 3 consecutive epochs\n",
        "callback = tf.keras.callbacks.EarlyStopping(monitor='loss', patience=3)"
      ],
      "execution_count": 7,
      "outputs": []
    },
    {
      "cell_type": "code",
      "metadata": {
        "id": "BvvTmwzIhBvw"
      },
      "source": [
        "# Start training the model\n",
        "history = model.fit(trainImgs, trainLabels, epochs=EPOCHS, batch_size=BATCH, validation_data=(valImgs, valLabels))"
      ],
      "execution_count": null,
      "outputs": []
    },
    {
      "cell_type": "code",
      "metadata": {
        "colab": {
          "base_uri": "https://localhost:8080/",
          "height": 300
        },
        "id": "5ymxrY3gpSBh",
        "outputId": "5650b9ae-de94-4cfb-a1d0-9242e166f97d"
      },
      "source": [
        "#  Plot the results\n",
        "print(history.history.keys())\n",
        "\n",
        "import matplotlib.pyplot as plt\n",
        "plt.plot(history.history['accuracy'])\n",
        "plt.plot(history.history['val_accuracy'])"
      ],
      "execution_count": 21,
      "outputs": [
        {
          "output_type": "stream",
          "text": [
            "dict_keys(['loss', 'accuracy', 'updated_mean_io_u', 'val_loss', 'val_accuracy', 'val_updated_mean_io_u'])\n"
          ],
          "name": "stdout"
        },
        {
          "output_type": "execute_result",
          "data": {
            "text/plain": [
              "[<matplotlib.lines.Line2D at 0x7f7958b90250>]"
            ]
          },
          "metadata": {
            "tags": []
          },
          "execution_count": 21
        },
        {
          "output_type": "display_data",
          "data": {
            "image/png": "[encoded data removed]",
            "text/plain": [
              "<Figure size 432x288 with 1 Axes>"
            ]
          },
          "metadata": {
            "tags": [],
            "needs_background": "light"
          }
        }
      ]
    },
    {
      "cell_type": "code",
      "metadata": {
        "colab": {
          "base_uri": "https://localhost:8080/",
          "height": 282
        },
        "id": "2V10XNyuUo7n",
        "outputId": "d70ad771-542d-481b-feac-d63222585489"
      },
      "source": [
        "plt.plot(history.history['loss'])\n",
        "plt.plot(history.history['val_loss'])"
      ],
      "execution_count": 22,
      "outputs": [
        {
          "output_type": "execute_result",
          "data": {
            "text/plain": [
              "[<matplotlib.lines.Line2D at 0x7f7958afd310>]"
            ]
          },
          "metadata": {
            "tags": []
          },
          "execution_count": 22
        },
        {
          "output_type": "display_data",
          "data": {
            "image/png": "[encoded data removed]",
            "text/plain": [
              "<Figure size 432x288 with 1 Axes>"
            ]
          },
          "metadata": {
            "tags": [],
            "needs_background": "light"
          }
        }
      ]
    },
    {
      "cell_type": "code",
      "metadata": {
        "colab": {
          "base_uri": "https://localhost:8080/",
          "height": 282
        },
        "id": "BOfjAUaKp213",
        "outputId": "ff93d1d6-d558-4b27-eacc-62f7ddc63e22"
      },
      "source": [
        "plt.plot(history.history['updated_mean_io_u'])\n",
        "plt.plot(history.history['val_updated_mean_io_u'])"
      ],
      "execution_count": 23,
      "outputs": [
        {
          "output_type": "execute_result",
          "data": {
            "text/plain": [
              "[<matplotlib.lines.Line2D at 0x7f7958a67b10>]"
            ]
          },
          "metadata": {
            "tags": []
          },
          "execution_count": 23
        },
        {
          "output_type": "display_data",
          "data": {
            "image/png": "[encoded data removed]",
            "text/plain": [
              "<Figure size 432x288 with 1 Axes>"
            ]
          },
          "metadata": {
            "tags": [],
            "needs_background": "light"
          }
        }
      ]
    },
    {
      "cell_type": "code",
      "metadata": {
        "colab": {
          "base_uri": "https://localhost:8080/"
        },
        "id": "xIs9nAuXJX8F",
        "outputId": "430fc2bf-6a10-4e53-8c7c-ef39e1315c37"
      },
      "source": [
        "# get the testdata\n",
        "testImgs   = getData(dataPath, testImgsFile)\n",
        "testLabels = getData(dataPath, testLabelsFile)\n",
        "print(testImgs.shape, testLabels.shape)"
      ],
      "execution_count": 9,
      "outputs": [
        {
          "output_type": "stream",
          "text": [
            "(617, 480, 480, 1) (617, 480, 480, 1)\n"
          ],
          "name": "stdout"
        }
      ]
    },
    {
      "cell_type": "code",
      "metadata": {
        "colab": {
          "base_uri": "https://localhost:8080/"
        },
        "id": "cJg2fDdHqDEr",
        "outputId": "793c2b06-3aaa-407f-a1c0-0f4a05e24c83"
      },
      "source": [
        "model.evaluate(testImgs, testLabels)"
      ],
      "execution_count": 25,
      "outputs": [
        {
          "output_type": "stream",
          "text": [
            "617/617 [==============================] - 16s 26ms/sample - loss: 0.0291 - accuracy: 0.9903 - updated_mean_io_u: 0.5404\n"
          ],
          "name": "stdout"
        },
        {
          "output_type": "execute_result",
          "data": {
            "text/plain": [
              "[0.029072227514978358, 0.99032694, 0.5404144]"
            ]
          },
          "metadata": {
            "tags": []
          },
          "execution_count": 25
        }
      ]
    },
    {
      "cell_type": "code",
      "metadata": {
        "id": "4kBp5pC4qe3j"
      },
      "source": [
        "# save the model weights\n",
        "weightFileName = \"PSPResNet34_30e_16b.h5\"\n",
        "weightPath = '/content/drive/My Drive/Underwater_Segmentation_Research/Weights/PSPNET'\n",
        "#model.save_weights(weightPath + \"/\" + weightFileName)\n"
      ],
      "execution_count": 7,
      "outputs": []
    },
    {
      "cell_type": "code",
      "metadata": {
        "id": "O0ktWQ4lsyxv"
      },
      "source": [
        "model.load_weights(weightPath + \"/\" + weightFileName)\n",
        "#model.evaluate(testImgs, testLabels)"
      ],
      "execution_count": 10,
      "outputs": []
    },
    {
      "cell_type": "code",
      "metadata": {
        "id": "SF0gF5Otuac9",
        "colab": {
          "base_uri": "https://localhost:8080/"
        },
        "outputId": "fa91027b-518a-46da-ab19-f96c6c46b944"
      },
      "source": [
        "modelFileName = \"PSPResNet34_30e_16b\"\n",
        "modelPath     = '/content/drive/My Drive/Underwater_Segmentation_Research/Models/PSPNET'\n",
        "model.save(modelPath + \"/\" + modelFileName)"
      ],
      "execution_count": 27,
      "outputs": [
        {
          "output_type": "stream",
          "text": [
            "WARNING:tensorflow:From /usr/local/lib/python3.7/dist-packages/tensorflow_core/python/ops/resource_variable_ops.py:1786: calling BaseResourceVariable.__init__ (from tensorflow.python.ops.resource_variable_ops) with constraint is deprecated and will be removed in a future version.\n",
            "Instructions for updating:\n",
            "If using Keras pass *_constraint arguments to layers.\n",
            "INFO:tensorflow:Assets written to: /content/drive/My Drive/Underwater_Segmentation_Research/Models/PSPNET/PSPResNet34_30e_16b/assets\n"
          ],
          "name": "stdout"
        }
      ]
    },
    {
      "cell_type": "code",
      "metadata": {
        "colab": {
          "base_uri": "https://localhost:8080/"
        },
        "id": "8g2JByQRvjc3",
        "outputId": "be229134-c9c2-4b5f-d28f-8435a78d3e0b"
      },
      "source": [
        "# Check the GPU configuration\n",
        "!nvidia-smi"
      ],
      "execution_count": 2,
      "outputs": [
        {
          "output_type": "stream",
          "text": [
            "Thu May 27 15:21:02 2021       \n",
            "+-----------------------------------------------------------------------------+\n",
            "| NVIDIA-SMI 465.19.01    Driver Version: 460.32.03    CUDA Version: 11.2     |\n",
            "|-------------------------------+----------------------+----------------------+\n",
            "| GPU  Name        Persistence-M| Bus-Id        Disp.A | Volatile Uncorr. ECC |\n",
            "| Fan  Temp  Perf  Pwr:Usage/Cap|         Memory-Usage | GPU-Util  Compute M. |\n",
            "|                               |                      |               MIG M. |\n",
            "|===============================+======================+======================|\n",
            "|   0  Tesla K80           Off  | 00000000:00:04.0 Off |                    0 |\n",
            "| N/A   38C    P8    26W / 149W |      0MiB / 11441MiB |      0%      Default |\n",
            "|                               |                      |                  N/A |\n",
            "+-------------------------------+----------------------+----------------------+\n",
            "                                                                               \n",
            "+-----------------------------------------------------------------------------+\n",
            "| Processes:                                                                  |\n",
            "|  GPU   GI   CI        PID   Type   Process name                  GPU Memory |\n",
            "|        ID   ID                                                   Usage      |\n",
            "|=============================================================================|\n",
            "|  No running processes found                                                 |\n",
            "+-----------------------------------------------------------------------------+\n"
          ],
          "name": "stdout"
        }
      ]
    },
    {
      "cell_type": "code",
      "metadata": {
        "id": "8Ky0ILN0Yuna"
      },
      "source": [
        "y_preds = ((model.predict(testImgs)) >= 0.5).astype(np.uint8)\n",
        "#y_preds = (y_preds >= 0.5).astype(np.uint8)"
      ],
      "execution_count": null,
      "outputs": []
    },
    {
      "cell_type": "code",
      "metadata": {
        "colab": {
          "base_uri": "https://localhost:8080/",
          "height": 237
        },
        "id": "p1uTFgSjY3nU",
        "outputId": "a4ed4c93-47b8-4986-9fc4-91a08169d3a7"
      },
      "source": [
        "# Compute mean of per-class IOU throughout the test images\n",
        "num_classes=12\n",
        "m = UpdatedMeanIoU(num_classes=12)\n",
        "m.update_state(testLabels, y_preds)\n",
        "\n",
        "print(f'Overall mean IOU is : {m.result().numpy()}')\n",
        "\n",
        "# Values is the confusion matrix\n",
        "values = np.array(m.get_weights()).reshape(num_classes, num_classes)"
      ],
      "execution_count": 1,
      "outputs": [
        {
          "output_type": "error",
          "ename": "NameError",
          "evalue": "ignored",
          "traceback": [
            "\u001b[0;31m---------------------------------------------------------------------------\u001b[0m",
            "\u001b[0;31mNameError\u001b[0m                                 Traceback (most recent call last)",
            "\u001b[0;32m<ipython-input-1-0b1dff0f8c9a>\u001b[0m in \u001b[0;36m<module>\u001b[0;34m()\u001b[0m\n\u001b[1;32m      1\u001b[0m \u001b[0;31m# Compute mean of per-class IOU throughout the test images\u001b[0m\u001b[0;34m\u001b[0m\u001b[0;34m\u001b[0m\u001b[0;34m\u001b[0m\u001b[0m\n\u001b[1;32m      2\u001b[0m \u001b[0mnum_classes\u001b[0m\u001b[0;34m=\u001b[0m\u001b[0;36m12\u001b[0m\u001b[0;34m\u001b[0m\u001b[0;34m\u001b[0m\u001b[0m\n\u001b[0;32m----> 3\u001b[0;31m \u001b[0mm\u001b[0m \u001b[0;34m=\u001b[0m \u001b[0mUpdatedMeanIoU\u001b[0m\u001b[0;34m(\u001b[0m\u001b[0mnum_classes\u001b[0m\u001b[0;34m=\u001b[0m\u001b[0;36m12\u001b[0m\u001b[0;34m)\u001b[0m\u001b[0;34m\u001b[0m\u001b[0;34m\u001b[0m\u001b[0m\n\u001b[0m\u001b[1;32m      4\u001b[0m \u001b[0mm\u001b[0m\u001b[0;34m.\u001b[0m\u001b[0mupdate_state\u001b[0m\u001b[0;34m(\u001b[0m\u001b[0mtestLabels\u001b[0m\u001b[0;34m,\u001b[0m \u001b[0my_preds\u001b[0m\u001b[0;34m)\u001b[0m\u001b[0;34m\u001b[0m\u001b[0;34m\u001b[0m\u001b[0m\n\u001b[1;32m      5\u001b[0m \u001b[0;34m\u001b[0m\u001b[0m\n",
            "\u001b[0;31mNameError\u001b[0m: name 'UpdatedMeanIoU' is not defined"
          ]
        }
      ]
    },
    {
      "cell_type": "code",
      "metadata": {
        "colab": {
          "base_uri": "https://localhost:8080/"
        },
        "id": "JVc0rYRGY5xf",
        "outputId": "60c24b9e-bdce-4d12-8b1c-c0041fd72803"
      },
      "source": [
        "# compute the mean per-class IOU\n",
        "numClasses = 12\n",
        "\n",
        "classIOU = []\n",
        "\n",
        "for i in range(numClasses):\n",
        "  rowSum = np.sum(values[i,:])\n",
        "  colSum = np.sum(values[:,i])\n",
        "  denom = rowSum + colSum - values[i,i]\n",
        "  iou = values[i,i]/denom\n",
        "  classIOU.append(iou)\n",
        "\n",
        "print(classIOU)\n",
        "perClassIoU = np.array(classIOU)\n",
        "print(np.mean(perClassIoU))\n"
      ],
      "execution_count": null,
      "outputs": [
        {
          "output_type": "stream",
          "text": [
            "[0.9237852244583048, 0.10694126099004482, 0.10765113325593897, 0.35602896445271714, 0.19253868133052995, 0.005500710840652113, 0.0263501219549443, 0.22935038470997435, 0.00730333783070335, 0.11841069954400783, 0.0017853682841088383, 0.32283458865806325]\n",
            "0.1998733730258325\n"
          ],
          "name": "stdout"
        }
      ]
    },
    {
      "cell_type": "code",
      "metadata": {
        "id": "677u7PDWWFvG"
      },
      "source": [
        "yPreds = tf.argmax(ypreds, axis=-1)\n",
        "yPreds = yPreds.numpy()"
      ],
      "execution_count": null,
      "outputs": []
    },
    {
      "cell_type": "code",
      "metadata": {
        "id": "vl0-DjZdY-ao"
      },
      "source": [
        "import matplotlib.pyplot as plt\n",
        "i = 0\n",
        "plt.imshow(yPreds[i])\n",
        "plt.show()\n",
        "\n",
        "print(np.unique(yPreds[i,:,:]))\n",
        "\n",
        "plt.imshow(testLabels[i,:,:,0])\n",
        "plt.show()\n",
        "\n",
        "print(np.unique(testLabels[i,:,:,0]))\n",
        "\n",
        "t = np.linspace(0,11,num=12)\n",
        "plt.plot(t, perClassIoU)\n",
        "plt.show()"
      ],
      "execution_count": null,
      "outputs": []
    }
  ]
}