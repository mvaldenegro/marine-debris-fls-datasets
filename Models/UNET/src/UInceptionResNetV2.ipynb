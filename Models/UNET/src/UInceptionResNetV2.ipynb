{
  "nbformat": 4,
  "nbformat_minor": 0,
  "metadata": {
    "colab": {
      "name": "UInceptionResNetV2.ipynb",
      "provenance": []
    },
    "kernelspec": {
      "name": "python3",
      "display_name": "Python 3"
    },
    "language_info": {
      "name": "python"
    },
    "accelerator": "GPU"
  },
  "cells": [
    {
      "cell_type": "code",
      "metadata": {
        "id": "GmErIJJtXgxr"
      },
      "source": [
        "# Unet with ResNet 34 for multiclass semantic segmentation\n",
        "!pip install tensorflow==2.1.0"
      ],
      "execution_count": null,
      "outputs": []
    },
    {
      "cell_type": "code",
      "metadata": {
        "id": "E05RxVTVawRq"
      },
      "source": [
        "!pip install segmentation-models"
      ],
      "execution_count": null,
      "outputs": []
    },
    {
      "cell_type": "code",
      "metadata": {
        "id": "KGcItvZUbw6S",
        "colab": {
          "base_uri": "https://localhost:8080/"
        },
        "outputId": "c00b714a-79fb-4b5d-fc3e-7a865c8a7f77"
      },
      "source": [
        "# mount google drive here\n",
        "from google.colab import drive\n",
        "drive.mount('/content/drive')"
      ],
      "execution_count": 3,
      "outputs": [
        {
          "output_type": "stream",
          "text": [
            "Mounted at /content/drive\n"
          ],
          "name": "stdout"
        }
      ]
    },
    {
      "cell_type": "code",
      "metadata": {
        "colab": {
          "base_uri": "https://localhost:8080/"
        },
        "id": "OVkZ3Rt_cBIJ",
        "outputId": "7ca3e6f6-b8ff-4d2f-a2d4-caf90335ba21"
      },
      "source": [
        "# Fetch the training, validation and testing dataset\n",
        "import os\n",
        "import numpy as np\n",
        "\n",
        "dataPath  = '/content/drive/My Drive/Underwater_Segmentation_Research/Data'\n",
        "\n",
        "trainPath =  dataPath + '/Train'\n",
        "testPath  =  dataPath + '/Test'\n",
        "valPath   =  dataPath + '/Validate'\n",
        "\n",
        "trainImgsFile   = 'trainingDataImgs.npy'\n",
        "trainLabelsFile = 'trainingDataLabels.npy'\n",
        "\n",
        "testImgsFile    = 'testingDataImgs.npy'\n",
        "testLabelsFile  = 'testingDataLabels.npy'\n",
        "\n",
        "valImgsFile     = 'validationDataImgs.npy'\n",
        "valLabelsFile   = 'validationDataLabels.npy'\n",
        "\n",
        "def getData(path,fileName):\n",
        "  return np.load(path + \"/\" + fileName)\n",
        "\n",
        "trainImgs = getData(trainPath, trainImgsFile)\n",
        "trainLabels = getData(trainPath, trainLabelsFile)\n",
        "\n",
        "#testImgs   = getData(testPath, testImgsFile)\n",
        "#testLabels = getData(testPath, testLabelsFile)\n",
        "\n",
        "valImgs    = getData(valPath, valImgsFile)\n",
        "valLabels  = getData(valPath, valLabelsFile)\n",
        "\n",
        "print(\"Got train and validation data\")\n",
        "print(trainImgs.shape, valImgs.shape)\n",
        "print(trainLabels.shape, valLabels.shape)"
      ],
      "execution_count": 1,
      "outputs": [
        {
          "output_type": "stream",
          "text": [
            "Got train and validation data\n",
            "(1000, 480, 320, 1) (251, 480, 320, 1)\n",
            "(1000, 480, 320, 1) (251, 480, 320, 1)\n"
          ],
          "name": "stdout"
        }
      ]
    },
    {
      "cell_type": "code",
      "metadata": {
        "id": "UYzc3jDWbN78"
      },
      "source": [
        "# Create the model (without pre-trained ImageNet weights)\n",
        "# BATCH_SIZE = 16\n",
        "# EPOCHS     = 20 (use early stopping as well to avoid overfitting (and store the epochs till then))\n",
        "import os\n",
        "import numpy as np\n",
        "import segmentation_models as sm\n",
        "\n",
        "# create the model\n",
        "model = sm.Unet('inceptionresnetv2', input_shape=(480, 320, 1), encoder_weights=None, classes=12, activation='softmax')\n",
        "model.summary()\n"
      ],
      "execution_count": null,
      "outputs": []
    },
    {
      "cell_type": "code",
      "metadata": {
        "id": "xrrWR34igCv-"
      },
      "source": [
        "# Compile the model with loss function, optimizer and metric\n",
        "import tensorflow as tf\n",
        "LOSS=tf.keras.losses.SparseCategoricalCrossentropy(from_logits=True)\n",
        "\n",
        "model.compile(\n",
        "    'Adam',\n",
        "    loss='sparse_categorical_crossentropy',\n",
        "    metrics=[sm.metrics.iou_score,'accuracy'],\n",
        ")"
      ],
      "execution_count": 3,
      "outputs": []
    },
    {
      "cell_type": "code",
      "metadata": {
        "id": "t64j7531gnFX"
      },
      "source": [
        "# Setup training parameters\n",
        "BATCH = 16\n",
        "EPOCHS = 30\n",
        "\n",
        "# early stopping callback. It stops training when the loss does not change for 3 consecutive epochs\n",
        "callback = tf.keras.callbacks.EarlyStopping(monitor='loss', patience=3)"
      ],
      "execution_count": 5,
      "outputs": []
    },
    {
      "cell_type": "code",
      "metadata": {
        "colab": {
          "base_uri": "https://localhost:8080/"
        },
        "id": "BvvTmwzIhBvw",
        "outputId": "096726aa-ca54-49a8-905a-7213615d457f"
      },
      "source": [
        "# Start training the model\n",
        "\n",
        "# change the label type to float32\n",
        "# tf.cast(trainLabels, tf.float32)\n",
        "# tf.cast(trainImgs, tf.float32)\n",
        "# tf.cast(valLabels, tf.float32)\n",
        "# tf.cast(valImgs, tf.float32)\n",
        "\n",
        "history = model.fit(trainImgs, trainLabels, epochs=EPOCHS, batch_size=BATCH, validation_data=(valImgs, valLabels))"
      ],
      "execution_count": 6,
      "outputs": [
        {
          "output_type": "stream",
          "text": [
            "Train on 1000 samples, validate on 251 samples\n",
            "Epoch 1/30\n",
            "1000/1000 [==============================] - 82s 82ms/sample - loss: 0.7309 - iou_score: 0.0652 - accuracy: 0.8765 - val_loss: 3.2709 - val_iou_score: 0.0496 - val_accuracy: 0.4859\n",
            "Epoch 2/30\n",
            "1000/1000 [==============================] - 54s 54ms/sample - loss: 0.1345 - iou_score: 0.0705 - accuracy: 0.9701 - val_loss: 0.4559 - val_iou_score: 0.1118 - val_accuracy: 0.9637\n",
            "Epoch 3/30\n",
            "1000/1000 [==============================] - 54s 54ms/sample - loss: 0.1019 - iou_score: 0.0849 - accuracy: 0.9731 - val_loss: 5.5334 - val_iou_score: 0.0459 - val_accuracy: 0.4510\n",
            "Epoch 4/30\n",
            "1000/1000 [==============================] - 54s 54ms/sample - loss: 0.0913 - iou_score: 0.0893 - accuracy: 0.9731 - val_loss: 1.0649 - val_iou_score: 0.0921 - val_accuracy: 0.7774\n",
            "Epoch 5/30\n",
            "1000/1000 [==============================] - 54s 54ms/sample - loss: 0.0824 - iou_score: 0.0901 - accuracy: 0.9768 - val_loss: 0.1132 - val_iou_score: 0.0742 - val_accuracy: 0.9742\n",
            "Epoch 6/30\n",
            "1000/1000 [==============================] - 54s 54ms/sample - loss: 0.0671 - iou_score: 0.1009 - accuracy: 0.9807 - val_loss: 0.3708 - val_iou_score: 0.1129 - val_accuracy: 0.8897\n",
            "Epoch 7/30\n",
            "1000/1000 [==============================] - 54s 54ms/sample - loss: 0.0618 - iou_score: 0.1003 - accuracy: 0.9810 - val_loss: 0.1045 - val_iou_score: 0.1351 - val_accuracy: 0.9698\n",
            "Epoch 8/30\n",
            "1000/1000 [==============================] - 54s 54ms/sample - loss: 0.0574 - iou_score: 0.1014 - accuracy: 0.9820 - val_loss: 0.0721 - val_iou_score: 0.1142 - val_accuracy: 0.9795\n",
            "Epoch 9/30\n",
            "1000/1000 [==============================] - 54s 54ms/sample - loss: 0.0479 - iou_score: 0.1092 - accuracy: 0.9845 - val_loss: 0.1310 - val_iou_score: 0.1029 - val_accuracy: 0.9686\n",
            "Epoch 10/30\n",
            "1000/1000 [==============================] - 54s 54ms/sample - loss: 0.0441 - iou_score: 0.1109 - accuracy: 0.9851 - val_loss: 0.0547 - val_iou_score: 0.1253 - val_accuracy: 0.9831\n",
            "Epoch 11/30\n",
            "1000/1000 [==============================] - 54s 54ms/sample - loss: 0.0411 - iou_score: 0.1124 - accuracy: 0.9857 - val_loss: 0.0625 - val_iou_score: 0.1411 - val_accuracy: 0.9821\n",
            "Epoch 12/30\n",
            "1000/1000 [==============================] - 54s 54ms/sample - loss: 0.0408 - iou_score: 0.1132 - accuracy: 0.9864 - val_loss: 0.0621 - val_iou_score: 0.1084 - val_accuracy: 0.9811\n",
            "Epoch 13/30\n",
            "1000/1000 [==============================] - 54s 54ms/sample - loss: 0.0383 - iou_score: 0.1158 - accuracy: 0.9867 - val_loss: 0.0439 - val_iou_score: 0.1377 - val_accuracy: 0.9851\n",
            "Epoch 14/30\n",
            "1000/1000 [==============================] - 54s 54ms/sample - loss: 0.0331 - iou_score: 0.1179 - accuracy: 0.9882 - val_loss: 0.0380 - val_iou_score: 0.1461 - val_accuracy: 0.9878\n",
            "Epoch 15/30\n",
            "1000/1000 [==============================] - 54s 54ms/sample - loss: 0.0305 - iou_score: 0.1207 - accuracy: 0.9890 - val_loss: 0.0474 - val_iou_score: 0.1126 - val_accuracy: 0.9855\n",
            "Epoch 16/30\n",
            "1000/1000 [==============================] - 54s 54ms/sample - loss: 0.0300 - iou_score: 0.1178 - accuracy: 0.9892 - val_loss: 0.0431 - val_iou_score: 0.1339 - val_accuracy: 0.9869\n",
            "Epoch 17/30\n",
            "1000/1000 [==============================] - 54s 54ms/sample - loss: 0.0305 - iou_score: 0.1193 - accuracy: 0.9890 - val_loss: 0.0469 - val_iou_score: 0.1357 - val_accuracy: 0.9863\n",
            "Epoch 18/30\n",
            "1000/1000 [==============================] - 54s 54ms/sample - loss: 0.0279 - iou_score: 0.1198 - accuracy: 0.9897 - val_loss: 0.0321 - val_iou_score: 0.1343 - val_accuracy: 0.9894\n",
            "Epoch 19/30\n",
            "1000/1000 [==============================] - 54s 54ms/sample - loss: 0.0296 - iou_score: 0.1198 - accuracy: 0.9893 - val_loss: 0.0470 - val_iou_score: 0.1174 - val_accuracy: 0.9855\n",
            "Epoch 20/30\n",
            "1000/1000 [==============================] - 54s 54ms/sample - loss: 0.0280 - iou_score: 0.1190 - accuracy: 0.9896 - val_loss: 0.0359 - val_iou_score: 0.1393 - val_accuracy: 0.9879\n",
            "Epoch 21/30\n",
            "1000/1000 [==============================] - 54s 54ms/sample - loss: 0.0259 - iou_score: 0.1204 - accuracy: 0.9904 - val_loss: 0.0299 - val_iou_score: 0.1370 - val_accuracy: 0.9905\n",
            "Epoch 22/30\n",
            "1000/1000 [==============================] - 54s 54ms/sample - loss: 0.0239 - iou_score: 0.1214 - accuracy: 0.9911 - val_loss: 0.0305 - val_iou_score: 0.1378 - val_accuracy: 0.9906\n",
            "Epoch 23/30\n",
            "1000/1000 [==============================] - 54s 54ms/sample - loss: 0.0234 - iou_score: 0.1236 - accuracy: 0.9912 - val_loss: 0.0288 - val_iou_score: 0.1388 - val_accuracy: 0.9908\n",
            "Epoch 24/30\n",
            "1000/1000 [==============================] - 54s 54ms/sample - loss: 0.0225 - iou_score: 0.1239 - accuracy: 0.9916 - val_loss: 0.0292 - val_iou_score: 0.1291 - val_accuracy: 0.9908\n",
            "Epoch 25/30\n",
            "1000/1000 [==============================] - 55s 55ms/sample - loss: 0.0225 - iou_score: 0.1239 - accuracy: 0.9916 - val_loss: 0.0312 - val_iou_score: 0.1489 - val_accuracy: 0.9897\n",
            "Epoch 26/30\n",
            "1000/1000 [==============================] - 54s 54ms/sample - loss: 0.0216 - iou_score: 0.1265 - accuracy: 0.9916 - val_loss: 0.0302 - val_iou_score: 0.1492 - val_accuracy: 0.9905\n",
            "Epoch 27/30\n",
            "1000/1000 [==============================] - 54s 54ms/sample - loss: 0.0234 - iou_score: 0.1244 - accuracy: 0.9913 - val_loss: 0.0483 - val_iou_score: 0.1174 - val_accuracy: 0.9864\n",
            "Epoch 28/30\n",
            "1000/1000 [==============================] - 54s 54ms/sample - loss: 0.0249 - iou_score: 0.1233 - accuracy: 0.9908 - val_loss: 0.0472 - val_iou_score: 0.1430 - val_accuracy: 0.9860\n",
            "Epoch 29/30\n",
            "1000/1000 [==============================] - 54s 54ms/sample - loss: 0.0240 - iou_score: 0.1241 - accuracy: 0.9911 - val_loss: 0.0313 - val_iou_score: 0.1176 - val_accuracy: 0.9899\n",
            "Epoch 30/30\n",
            "1000/1000 [==============================] - 54s 54ms/sample - loss: 0.0211 - iou_score: 0.1234 - accuracy: 0.9920 - val_loss: 0.0283 - val_iou_score: 0.1307 - val_accuracy: 0.9907\n"
          ],
          "name": "stdout"
        }
      ]
    },
    {
      "cell_type": "code",
      "metadata": {
        "colab": {
          "base_uri": "https://localhost:8080/",
          "height": 300
        },
        "id": "5ymxrY3gpSBh",
        "outputId": "f83a886a-4b88-4e92-e278-f9bb2ef40c74"
      },
      "source": [
        "#  Plot the results\n",
        "print(history.history.keys())\n",
        "\n",
        "import matplotlib.pyplot as plt\n",
        "plt.plot(history.history['loss'])\n",
        "plt.plot(history.history['val_loss'])"
      ],
      "execution_count": 7,
      "outputs": [
        {
          "output_type": "stream",
          "text": [
            "dict_keys(['loss', 'iou_score', 'accuracy', 'val_loss', 'val_iou_score', 'val_accuracy'])\n"
          ],
          "name": "stdout"
        },
        {
          "output_type": "execute_result",
          "data": {
            "text/plain": [
              "[<matplotlib.lines.Line2D at 0x7efc19617a50>]"
            ]
          },
          "metadata": {
            "tags": []
          },
          "execution_count": 7
        },
        {
          "output_type": "display_data",
          "data": {
            "image/png": "[encoded data removed]",
            "text/plain": [
              "<Figure size 432x288 with 1 Axes>"
            ]
          },
          "metadata": {
            "tags": [],
            "needs_background": "light"
          }
        }
      ]
    },
    {
      "cell_type": "code",
      "metadata": {
        "colab": {
          "base_uri": "https://localhost:8080/",
          "height": 282
        },
        "id": "BOfjAUaKp213",
        "outputId": "f4f54d78-5419-45cf-ad95-b1e0dd26e681"
      },
      "source": [
        "plt.plot(history.history['iou_score'])\n",
        "plt.plot(history.history['val_iou_score'])"
      ],
      "execution_count": 8,
      "outputs": [
        {
          "output_type": "execute_result",
          "data": {
            "text/plain": [
              "[<matplotlib.lines.Line2D at 0x7efc190f3850>]"
            ]
          },
          "metadata": {
            "tags": []
          },
          "execution_count": 8
        },
        {
          "output_type": "display_data",
          "data": {
            "image/png": "[encoded data removed]",
            "text/plain": [
              "<Figure size 432x288 with 1 Axes>"
            ]
          },
          "metadata": {
            "tags": [],
            "needs_background": "light"
          }
        }
      ]
    },
    {
      "cell_type": "code",
      "metadata": {
        "colab": {
          "base_uri": "https://localhost:8080/",
          "height": 282
        },
        "id": "7m26N2HV-4k-",
        "outputId": "df6f5305-e6dc-4169-a31e-b7bbee765550"
      },
      "source": [
        "plt.plot(history.history['accuracy'])\n",
        "plt.plot(history.history['val_accuracy'])"
      ],
      "execution_count": 9,
      "outputs": [
        {
          "output_type": "execute_result",
          "data": {
            "text/plain": [
              "[<matplotlib.lines.Line2D at 0x7efc190e5cd0>]"
            ]
          },
          "metadata": {
            "tags": []
          },
          "execution_count": 9
        },
        {
          "output_type": "display_data",
          "data": {
            "image/png": "[encoded data removed]",
            "text/plain": [
              "<Figure size 432x288 with 1 Axes>"
            ]
          },
          "metadata": {
            "tags": [],
            "needs_background": "light"
          }
        }
      ]
    },
    {
      "cell_type": "code",
      "metadata": {
        "id": "xIs9nAuXJX8F"
      },
      "source": [
        "# get the testdata\n",
        "testImgs   = getData(testPath, testImgsFile)\n",
        "testLabels = getData(testPath, testLabelsFile)"
      ],
      "execution_count": 10,
      "outputs": []
    },
    {
      "cell_type": "code",
      "metadata": {
        "colab": {
          "base_uri": "https://localhost:8080/"
        },
        "id": "cJg2fDdHqDEr",
        "outputId": "3e323d39-e0c4-42cc-cabb-ee856db31fa6"
      },
      "source": [
        "model.evaluate(testImgs, testLabels)"
      ],
      "execution_count": 11,
      "outputs": [
        {
          "output_type": "stream",
          "text": [
            "617/617 [==============================] - 12s 19ms/sample - loss: 0.0263 - iou_score: 0.1274 - accuracy: 0.9910\n"
          ],
          "name": "stdout"
        },
        {
          "output_type": "execute_result",
          "data": {
            "text/plain": [
              "[0.026250791994060843, 0.12737218, 0.99095106]"
            ]
          },
          "metadata": {
            "tags": []
          },
          "execution_count": 11
        }
      ]
    },
    {
      "cell_type": "code",
      "metadata": {
        "id": "4kBp5pC4qe3j"
      },
      "source": [
        "# save the model weights\n",
        "weightFileName = \"UInceptionResNetV2_30e_16b.h5\"\n",
        "weightPath = '/content/drive/My Drive/Underwater_Segmentation_Research/Weights/UNET'\n",
        "model.save_weights(weightPath + \"/\" + weightFileName)\n"
      ],
      "execution_count": 12,
      "outputs": []
    },
    {
      "cell_type": "code",
      "metadata": {
        "colab": {
          "base_uri": "https://localhost:8080/"
        },
        "id": "O0ktWQ4lsyxv",
        "outputId": "e7a12cf6-3f45-4831-fc57-d7e8ff2e6046"
      },
      "source": [
        "model.load_weights(weightPath + \"/\" + weightFileName)\n",
        "model.evaluate(testImgs, testLabels)"
      ],
      "execution_count": 13,
      "outputs": [
        {
          "output_type": "stream",
          "text": [
            "617/617 [==============================] - 9s 15ms/sample - loss: 0.0263 - iou_score: 0.1274 - accuracy: 0.9910\n"
          ],
          "name": "stdout"
        },
        {
          "output_type": "execute_result",
          "data": {
            "text/plain": [
              "[0.026250791994060843, 0.12737218, 0.99095106]"
            ]
          },
          "metadata": {
            "tags": []
          },
          "execution_count": 13
        }
      ]
    },
    {
      "cell_type": "code",
      "metadata": {
        "id": "QOgVsGZjLkeM"
      },
      "source": [
        ""
      ],
      "execution_count": null,
      "outputs": []
    },
    {
      "cell_type": "code",
      "metadata": {
        "colab": {
          "base_uri": "https://localhost:8080/"
        },
        "id": "SF0gF5Otuac9",
        "outputId": "a6f41d61-c5d7-4d45-fba9-1d57389ba237"
      },
      "source": [
        "modelFileName = \"UIncpetionResNetV2_30e_16b\"\n",
        "modelPath     = '/content/drive/My Drive/Underwater_Segmentation_Research/Models/Unet'\n",
        "model.save(modelPath + \"/\" + modelFileName)"
      ],
      "execution_count": 14,
      "outputs": [
        {
          "output_type": "stream",
          "text": [
            "WARNING:tensorflow:From /usr/local/lib/python3.7/dist-packages/tensorflow_core/python/ops/resource_variable_ops.py:1786: calling BaseResourceVariable.__init__ (from tensorflow.python.ops.resource_variable_ops) with constraint is deprecated and will be removed in a future version.\n",
            "Instructions for updating:\n",
            "If using Keras pass *_constraint arguments to layers.\n",
            "INFO:tensorflow:Assets written to: /content/drive/My Drive/Underwater_Segmentation_Research/Models/Unet/UIncpetionResNetV2_30e_16b/assets\n"
          ],
          "name": "stdout"
        }
      ]
    },
    {
      "cell_type": "code",
      "metadata": {
        "colab": {
          "base_uri": "https://localhost:8080/"
        },
        "id": "8g2JByQRvjc3",
        "outputId": "7a41f61f-0610-46d4-99cb-74f572d6e880"
      },
      "source": [
        "# Check the GPU configuration\n",
        "!nvidia-smi"
      ],
      "execution_count": 15,
      "outputs": [
        {
          "output_type": "stream",
          "text": [
            "Tue Mar 30 07:45:55 2021       \n",
            "+-----------------------------------------------------------------------------+\n",
            "| NVIDIA-SMI 460.56       Driver Version: 460.32.03    CUDA Version: 11.2     |\n",
            "|-------------------------------+----------------------+----------------------+\n",
            "| GPU  Name        Persistence-M| Bus-Id        Disp.A | Volatile Uncorr. ECC |\n",
            "| Fan  Temp  Perf  Pwr:Usage/Cap|         Memory-Usage | GPU-Util  Compute M. |\n",
            "|                               |                      |               MIG M. |\n",
            "|===============================+======================+======================|\n",
            "|   0  Tesla P100-PCIE...  Off  | 00000000:00:04.0 Off |                    0 |\n",
            "| N/A   44C    P0    34W / 250W |   8737MiB / 16280MiB |      0%      Default |\n",
            "|                               |                      |                  N/A |\n",
            "+-------------------------------+----------------------+----------------------+\n",
            "                                                                               \n",
            "+-----------------------------------------------------------------------------+\n",
            "| Processes:                                                                  |\n",
            "|  GPU   GI   CI        PID   Type   Process name                  GPU Memory |\n",
            "|        ID   ID                                                   Usage      |\n",
            "|=============================================================================|\n",
            "+-----------------------------------------------------------------------------+\n"
          ],
          "name": "stdout"
        }
      ]
    },
    {
      "cell_type": "code",
      "metadata": {
        "id": "5N3b-uUEwaZ2"
      },
      "source": [
        "# check the outputs here\n",
        "outputs = model.predict(testImgs)"
      ],
      "execution_count": 16,
      "outputs": []
    },
    {
      "cell_type": "code",
      "metadata": {
        "colab": {
          "base_uri": "https://localhost:8080/",
          "height": 269
        },
        "id": "oRL028hYwnR-",
        "outputId": "6f28ef83-091c-4c89-b34b-d6ff8615a1bd"
      },
      "source": [
        "import matplotlib.pyplot as plt\n",
        "\n",
        "img = outputs[0,:,:,0]\n",
        "plt.imshow(img)\n",
        "plt.show()"
      ],
      "execution_count": 17,
      "outputs": [
        {
          "output_type": "display_data",
          "data": {
            "image/png": "[encoded data removed]",
            "text/plain": [
              "<Figure size 432x288 with 1 Axes>"
            ]
          },
          "metadata": {
            "tags": [],
            "needs_background": "light"
          }
        }
      ]
    },
    {
      "cell_type": "code",
      "metadata": {
        "id": "exi7mUblK4-s"
      },
      "source": [
        "outputs = None"
      ],
      "execution_count": null,
      "outputs": []
    }
  ]
}