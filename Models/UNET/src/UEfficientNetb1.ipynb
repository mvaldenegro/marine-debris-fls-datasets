{
  "nbformat": 4,
  "nbformat_minor": 0,
  "metadata": {
    "colab": {
      "name": "UEfficientNetb1.ipynb",
      "provenance": []
    },
    "kernelspec": {
      "name": "python3",
      "display_name": "Python 3"
    },
    "language_info": {
      "name": "python"
    },
    "accelerator": "GPU"
  },
  "cells": [
    {
      "cell_type": "code",
      "metadata": {
        "id": "GmErIJJtXgxr"
      },
      "source": [
        "# Unet with ResNet 34 for multiclass semantic segmentation\n",
        "!pip install tensorflow==2.1.0"
      ],
      "execution_count": null,
      "outputs": []
    },
    {
      "cell_type": "code",
      "metadata": {
        "id": "E05RxVTVawRq"
      },
      "source": [
        "!pip install segmentation-models"
      ],
      "execution_count": null,
      "outputs": []
    },
    {
      "cell_type": "code",
      "metadata": {
        "colab": {
          "base_uri": "https://localhost:8080/"
        },
        "id": "KGcItvZUbw6S",
        "outputId": "99e98467-1f26-4f2b-88a6-5c01d5b18558"
      },
      "source": [
        "# mount google drive here\n",
        "from google.colab import drive\n",
        "drive.mount('/content/drive')"
      ],
      "execution_count": 3,
      "outputs": [
        {
          "output_type": "stream",
          "text": [
            "Mounted at /content/drive\n"
          ],
          "name": "stdout"
        }
      ]
    },
    {
      "cell_type": "code",
      "metadata": {
        "colab": {
          "base_uri": "https://localhost:8080/"
        },
        "id": "OVkZ3Rt_cBIJ",
        "outputId": "3f09343c-3871-419e-9e5e-7053c3e160a3"
      },
      "source": [
        "# Fetch the training, validation and testing dataset\n",
        "import os\n",
        "import numpy as np\n",
        "\n",
        "dataPath  = '/content/drive/My Drive/Underwater_Segmentation_Research/Data'\n",
        "\n",
        "trainPath =  dataPath + '/Train'\n",
        "testPath  =  dataPath + '/Test'\n",
        "valPath   =  dataPath + '/Validate'\n",
        "\n",
        "trainImgsFile   = 'trainingDataImgs.npy'\n",
        "trainLabelsFile = 'trainingDataLabels.npy'\n",
        "\n",
        "testImgsFile    = 'testingDataImgs.npy'\n",
        "testLabelsFile  = 'testingDataLabels.npy'\n",
        "\n",
        "valImgsFile     = 'validationDataImgs.npy'\n",
        "valLabelsFile   = 'validationDataLabels.npy'\n",
        "\n",
        "def getData(path,fileName):\n",
        "  return np.load(path + \"/\" + fileName)\n",
        "\n",
        "trainImgs = getData(trainPath, trainImgsFile)\n",
        "trainLabels = getData(trainPath, trainLabelsFile)\n",
        "\n",
        "#testImgs   = getData(testPath, testImgsFile)\n",
        "#testLabels = getData(testPath, testLabelsFile)\n",
        "\n",
        "valImgs    = getData(valPath, valImgsFile)\n",
        "valLabels  = getData(valPath, valLabelsFile)\n",
        "\n",
        "print(\"Got train and validation data\")\n",
        "print(trainImgs.shape, valImgs.shape)\n",
        "print(trainLabels.shape, valLabels.shape)"
      ],
      "execution_count": 4,
      "outputs": [
        {
          "output_type": "stream",
          "text": [
            "Got train and validation data\n",
            "(1000, 480, 320, 1) (251, 480, 320, 1)\n",
            "(1000, 480, 320, 1) (251, 480, 320, 1)\n"
          ],
          "name": "stdout"
        }
      ]
    },
    {
      "cell_type": "code",
      "metadata": {
        "id": "UYzc3jDWbN78"
      },
      "source": [
        "# Create the model (without pre-trained ImageNet weights)\n",
        "# BATCH_SIZE = 16\n",
        "# EPOCHS     = 20 (use early stopping as well to avoid overfitting (and store the epochs till then))\n",
        "import os\n",
        "import numpy as np\n",
        "import segmentation_models as sm\n",
        "\n",
        "# create the model\n",
        "model = sm.Unet('efficientnetb1', input_shape=(480, 320, 1), encoder_weights=None, classes=12, activation='softmax')\n",
        "model.summary()\n"
      ],
      "execution_count": null,
      "outputs": []
    },
    {
      "cell_type": "markdown",
      "metadata": {
        "id": "VVYj9bPWBQjk"
      },
      "source": [
        ""
      ]
    },
    {
      "cell_type": "code",
      "metadata": {
        "id": "xrrWR34igCv-"
      },
      "source": [
        "# Compile the model with loss function, optimizer and metric\n",
        "import tensorflow as tf\n",
        "LOSS=tf.keras.losses.SparseCategoricalCrossentropy(from_logits=True)\n",
        "\n",
        "model.compile(\n",
        "    'Adam',\n",
        "    loss='sparse_categorical_crossentropy',\n",
        "    metrics=[sm.metrics.iou_score,'accuracy'],\n",
        ")"
      ],
      "execution_count": 7,
      "outputs": []
    },
    {
      "cell_type": "code",
      "metadata": {
        "id": "t64j7531gnFX"
      },
      "source": [
        "# Setup training parameters\n",
        "BATCH = 16\n",
        "EPOCHS = 30\n",
        "\n",
        "# early stopping callback. It stops training when the loss does not change for 3 consecutive epochs\n",
        "callback = tf.keras.callbacks.EarlyStopping(monitor='loss', patience=3)"
      ],
      "execution_count": 8,
      "outputs": []
    },
    {
      "cell_type": "code",
      "metadata": {
        "colab": {
          "base_uri": "https://localhost:8080/"
        },
        "id": "BvvTmwzIhBvw",
        "outputId": "5155255f-5603-4226-ccc8-e93139126270"
      },
      "source": [
        "# Start training the model\n",
        "\n",
        "# change the label type to float32\n",
        "# tf.cast(trainLabels, tf.float32)\n",
        "# tf.cast(trainImgs, tf.float32)\n",
        "# tf.cast(valLabels, tf.float32)\n",
        "# tf.cast(valImgs, tf.float32)\n",
        "\n",
        "history = model.fit(trainImgs, trainLabels, epochs=EPOCHS, batch_size=BATCH, validation_data=(valImgs, valLabels))"
      ],
      "execution_count": 9,
      "outputs": [
        {
          "output_type": "stream",
          "text": [
            "Train on 1000 samples, validate on 251 samples\n",
            "Epoch 1/30\n",
            "1000/1000 [==============================] - 99s 99ms/sample - loss: 0.7557 - iou_score: 0.0544 - accuracy: 0.8337 - val_loss: 0.5643 - val_iou_score: 0.0443 - val_accuracy: 0.9611\n",
            "Epoch 2/30\n",
            "1000/1000 [==============================] - 67s 67ms/sample - loss: 0.1540 - iou_score: 0.0506 - accuracy: 0.9666 - val_loss: 0.2296 - val_iou_score: 0.0664 - val_accuracy: 0.9654\n",
            "Epoch 3/30\n",
            "1000/1000 [==============================] - 68s 68ms/sample - loss: 0.1236 - iou_score: 0.0691 - accuracy: 0.9709 - val_loss: 0.2828 - val_iou_score: 0.1150 - val_accuracy: 0.9406\n",
            "Epoch 4/30\n",
            "1000/1000 [==============================] - 69s 69ms/sample - loss: 0.1043 - iou_score: 0.0848 - accuracy: 0.9735 - val_loss: 0.1845 - val_iou_score: 0.1383 - val_accuracy: 0.9560\n",
            "Epoch 5/30\n",
            "1000/1000 [==============================] - 70s 70ms/sample - loss: 0.0964 - iou_score: 0.0859 - accuracy: 0.9737 - val_loss: 0.1274 - val_iou_score: 0.0844 - val_accuracy: 0.9715\n",
            "Epoch 6/30\n",
            "1000/1000 [==============================] - 70s 70ms/sample - loss: 0.0851 - iou_score: 0.0955 - accuracy: 0.9773 - val_loss: 0.0918 - val_iou_score: 0.1273 - val_accuracy: 0.9785\n",
            "Epoch 7/30\n",
            "1000/1000 [==============================] - 70s 70ms/sample - loss: 0.0787 - iou_score: 0.0990 - accuracy: 0.9781 - val_loss: 0.1154 - val_iou_score: 0.1510 - val_accuracy: 0.9689\n",
            "Epoch 8/30\n",
            "1000/1000 [==============================] - 70s 70ms/sample - loss: 0.0701 - iou_score: 0.1107 - accuracy: 0.9796 - val_loss: 0.0792 - val_iou_score: 0.1291 - val_accuracy: 0.9787\n",
            "Epoch 9/30\n",
            "1000/1000 [==============================] - 70s 70ms/sample - loss: 0.0650 - iou_score: 0.1089 - accuracy: 0.9799 - val_loss: 0.0761 - val_iou_score: 0.1311 - val_accuracy: 0.9777\n",
            "Epoch 10/30\n",
            "1000/1000 [==============================] - 70s 70ms/sample - loss: 0.0634 - iou_score: 0.1089 - accuracy: 0.9798 - val_loss: 0.1139 - val_iou_score: 0.1186 - val_accuracy: 0.9625\n",
            "Epoch 11/30\n",
            "1000/1000 [==============================] - 70s 70ms/sample - loss: 0.0582 - iou_score: 0.1114 - accuracy: 0.9803 - val_loss: 0.0803 - val_iou_score: 0.1204 - val_accuracy: 0.9724\n",
            "Epoch 12/30\n",
            "1000/1000 [==============================] - 70s 70ms/sample - loss: 0.0555 - iou_score: 0.1099 - accuracy: 0.9810 - val_loss: 0.0632 - val_iou_score: 0.0928 - val_accuracy: 0.9802\n",
            "Epoch 13/30\n",
            "1000/1000 [==============================] - 70s 70ms/sample - loss: 0.0492 - iou_score: 0.1135 - accuracy: 0.9836 - val_loss: 0.0556 - val_iou_score: 0.1075 - val_accuracy: 0.9825\n",
            "Epoch 14/30\n",
            "1000/1000 [==============================] - 70s 70ms/sample - loss: 0.0459 - iou_score: 0.1126 - accuracy: 0.9849 - val_loss: 0.0744 - val_iou_score: 0.0702 - val_accuracy: 0.9774\n",
            "Epoch 15/30\n",
            "1000/1000 [==============================] - 70s 70ms/sample - loss: 0.0427 - iou_score: 0.1119 - accuracy: 0.9855 - val_loss: 0.0652 - val_iou_score: 0.1435 - val_accuracy: 0.9805\n",
            "Epoch 16/30\n",
            "1000/1000 [==============================] - 70s 70ms/sample - loss: 0.0382 - iou_score: 0.1177 - accuracy: 0.9866 - val_loss: 0.0459 - val_iou_score: 0.1436 - val_accuracy: 0.9859\n",
            "Epoch 17/30\n",
            "1000/1000 [==============================] - 70s 70ms/sample - loss: 0.0353 - iou_score: 0.1224 - accuracy: 0.9875 - val_loss: 0.0447 - val_iou_score: 0.1425 - val_accuracy: 0.9865\n",
            "Epoch 18/30\n",
            "1000/1000 [==============================] - 70s 70ms/sample - loss: 0.0327 - iou_score: 0.1185 - accuracy: 0.9883 - val_loss: 0.0423 - val_iou_score: 0.1192 - val_accuracy: 0.9867\n",
            "Epoch 19/30\n",
            "1000/1000 [==============================] - 70s 70ms/sample - loss: 0.0329 - iou_score: 0.1225 - accuracy: 0.9884 - val_loss: 0.0372 - val_iou_score: 0.1397 - val_accuracy: 0.9885\n",
            "Epoch 20/30\n",
            "1000/1000 [==============================] - 70s 70ms/sample - loss: 0.0322 - iou_score: 0.1187 - accuracy: 0.9886 - val_loss: 0.0460 - val_iou_score: 0.1269 - val_accuracy: 0.9861\n",
            "Epoch 21/30\n",
            "1000/1000 [==============================] - 70s 70ms/sample - loss: 0.0296 - iou_score: 0.1219 - accuracy: 0.9894 - val_loss: 0.0355 - val_iou_score: 0.1447 - val_accuracy: 0.9889\n",
            "Epoch 22/30\n",
            "1000/1000 [==============================] - 70s 70ms/sample - loss: 0.0290 - iou_score: 0.1211 - accuracy: 0.9896 - val_loss: 0.0393 - val_iou_score: 0.1527 - val_accuracy: 0.9873\n",
            "Epoch 23/30\n",
            "1000/1000 [==============================] - 70s 70ms/sample - loss: 0.0261 - iou_score: 0.1245 - accuracy: 0.9906 - val_loss: 0.0333 - val_iou_score: 0.1444 - val_accuracy: 0.9898\n",
            "Epoch 24/30\n",
            "1000/1000 [==============================] - 70s 70ms/sample - loss: 0.0256 - iou_score: 0.1234 - accuracy: 0.9907 - val_loss: 0.0329 - val_iou_score: 0.1474 - val_accuracy: 0.9893\n",
            "Epoch 25/30\n",
            "1000/1000 [==============================] - 69s 69ms/sample - loss: 0.0229 - iou_score: 0.1286 - accuracy: 0.9917 - val_loss: 0.0345 - val_iou_score: 0.1346 - val_accuracy: 0.9896\n",
            "Epoch 26/30\n",
            "1000/1000 [==============================] - 70s 70ms/sample - loss: 0.0223 - iou_score: 0.1278 - accuracy: 0.9918 - val_loss: 0.0993 - val_iou_score: 0.0657 - val_accuracy: 0.9787\n",
            "Epoch 27/30\n",
            "1000/1000 [==============================] - 70s 70ms/sample - loss: 0.0251 - iou_score: 0.1226 - accuracy: 0.9908 - val_loss: 0.0348 - val_iou_score: 0.1448 - val_accuracy: 0.9893\n",
            "Epoch 28/30\n",
            "1000/1000 [==============================] - 70s 70ms/sample - loss: 0.0212 - iou_score: 0.1317 - accuracy: 0.9922 - val_loss: 0.0326 - val_iou_score: 0.1304 - val_accuracy: 0.9900\n",
            "Epoch 29/30\n",
            "1000/1000 [==============================] - 70s 70ms/sample - loss: 0.0200 - iou_score: 0.1295 - accuracy: 0.9925 - val_loss: 0.0344 - val_iou_score: 0.1250 - val_accuracy: 0.9894\n",
            "Epoch 30/30\n",
            "1000/1000 [==============================] - 70s 70ms/sample - loss: 0.0193 - iou_score: 0.1292 - accuracy: 0.9928 - val_loss: 0.0341 - val_iou_score: 0.1385 - val_accuracy: 0.9901\n"
          ],
          "name": "stdout"
        }
      ]
    },
    {
      "cell_type": "code",
      "metadata": {
        "colab": {
          "base_uri": "https://localhost:8080/",
          "height": 300
        },
        "id": "5ymxrY3gpSBh",
        "outputId": "76ec216c-629b-4c34-a3bb-5f7ca96678c5"
      },
      "source": [
        "#  Plot the results\n",
        "print(history.history.keys())\n",
        "\n",
        "import matplotlib.pyplot as plt\n",
        "plt.plot(history.history['loss'])\n",
        "plt.plot(history.history['val_loss'])"
      ],
      "execution_count": 10,
      "outputs": [
        {
          "output_type": "stream",
          "text": [
            "dict_keys(['loss', 'iou_score', 'accuracy', 'val_loss', 'val_iou_score', 'val_accuracy'])\n"
          ],
          "name": "stdout"
        },
        {
          "output_type": "execute_result",
          "data": {
            "text/plain": [
              "[<matplotlib.lines.Line2D at 0x7f5d282e8910>]"
            ]
          },
          "metadata": {
            "tags": []
          },
          "execution_count": 10
        },
        {
          "output_type": "display_data",
          "data": {
            "image/png": "[encoded data removed]",
            "text/plain": [
              "<Figure size 432x288 with 1 Axes>"
            ]
          },
          "metadata": {
            "tags": [],
            "needs_background": "light"
          }
        }
      ]
    },
    {
      "cell_type": "code",
      "metadata": {
        "colab": {
          "base_uri": "https://localhost:8080/",
          "height": 282
        },
        "id": "BOfjAUaKp213",
        "outputId": "8db6acbe-5e87-4a87-f7ff-9db725e9bef0"
      },
      "source": [
        "plt.plot(history.history['iou_score'])\n",
        "plt.plot(history.history['val_iou_score'])"
      ],
      "execution_count": 12,
      "outputs": [
        {
          "output_type": "execute_result",
          "data": {
            "text/plain": [
              "[<matplotlib.lines.Line2D at 0x7f5d0af3cd10>]"
            ]
          },
          "metadata": {
            "tags": []
          },
          "execution_count": 12
        },
        {
          "output_type": "display_data",
          "data": {
            "image/png": "[encoded data removed]",
            "text/plain": [
              "<Figure size 432x288 with 1 Axes>"
            ]
          },
          "metadata": {
            "tags": [],
            "needs_background": "light"
          }
        }
      ]
    },
    {
      "cell_type": "code",
      "metadata": {
        "colab": {
          "base_uri": "https://localhost:8080/",
          "height": 268
        },
        "id": "DEmvqgWH2aSp",
        "outputId": "87614872-94c0-438e-80ea-3daa84e7f743"
      },
      "source": [
        "plt.plot(history.history['accuracy'])\n",
        "plt.plot(history.history['val_accuracy'])\n",
        "plt.show()"
      ],
      "execution_count": 13,
      "outputs": [
        {
          "output_type": "display_data",
          "data": {
            "image/png": "[encoded data removed]",
            "text/plain": [
              "<Figure size 432x288 with 1 Axes>"
            ]
          },
          "metadata": {
            "tags": [],
            "needs_background": "light"
          }
        }
      ]
    },
    {
      "cell_type": "code",
      "metadata": {
        "id": "xIs9nAuXJX8F"
      },
      "source": [
        "# get the testdata\n",
        "testImgs   = getData(testPath, testImgsFile)\n",
        "testLabels = getData(testPath, testLabelsFile)"
      ],
      "execution_count": 15,
      "outputs": []
    },
    {
      "cell_type": "code",
      "metadata": {
        "colab": {
          "base_uri": "https://localhost:8080/"
        },
        "id": "cJg2fDdHqDEr",
        "outputId": "843e7129-6cbc-4c45-c14c-af17d8c1f092"
      },
      "source": [
        "model.evaluate(testImgs, testLabels)"
      ],
      "execution_count": 16,
      "outputs": [
        {
          "output_type": "stream",
          "text": [
            "617/617 [==============================] - 16s 26ms/sample - loss: 0.0351 - iou_score: 0.1340 - accuracy: 0.9899\n"
          ],
          "name": "stdout"
        },
        {
          "output_type": "execute_result",
          "data": {
            "text/plain": [
              "[0.03513353212919189, 0.13403828, 0.98994064]"
            ]
          },
          "metadata": {
            "tags": []
          },
          "execution_count": 16
        }
      ]
    },
    {
      "cell_type": "code",
      "metadata": {
        "id": "4kBp5pC4qe3j"
      },
      "source": [
        "# save the model weights\n",
        "weightFileName = \"UEfficientNetb1_30e_16b.h5\"\n",
        "weightPath = '/content/drive/My Drive/Underwater_Segmentation_Research/Weights/UNET'\n",
        "model.save_weights(weightPath + \"/\" + weightFileName)\n"
      ],
      "execution_count": 17,
      "outputs": []
    },
    {
      "cell_type": "code",
      "metadata": {
        "colab": {
          "base_uri": "https://localhost:8080/"
        },
        "id": "O0ktWQ4lsyxv",
        "outputId": "aaf52e60-eed8-4f6f-b769-d3a24ca13590"
      },
      "source": [
        "model.load_weights(weightPath + \"/\" + weightFileName)\n",
        "model.evaluate(testImgs, testLabels)"
      ],
      "execution_count": 18,
      "outputs": [
        {
          "output_type": "stream",
          "text": [
            "617/617 [==============================] - 10s 16ms/sample - loss: 0.0351 - iou_score: 0.1340 - accuracy: 0.9899\n"
          ],
          "name": "stdout"
        },
        {
          "output_type": "execute_result",
          "data": {
            "text/plain": [
              "[0.03513353212919189, 0.13403828, 0.98994064]"
            ]
          },
          "metadata": {
            "tags": []
          },
          "execution_count": 18
        }
      ]
    },
    {
      "cell_type": "code",
      "metadata": {
        "id": "QOgVsGZjLkeM"
      },
      "source": [
        ""
      ],
      "execution_count": null,
      "outputs": []
    },
    {
      "cell_type": "code",
      "metadata": {
        "colab": {
          "base_uri": "https://localhost:8080/"
        },
        "id": "SF0gF5Otuac9",
        "outputId": "d9a89e40-a689-495a-b470-5f95c1292795"
      },
      "source": [
        "modelFileName = \"UEfficientNetb1_30e_16b\"\n",
        "modelPath     = '/content/drive/My Drive/Underwater_Segmentation_Research/Models/Unet'\n",
        "model.save(modelPath + \"/\" + modelFileName)"
      ],
      "execution_count": 19,
      "outputs": [
        {
          "output_type": "stream",
          "text": [
            "WARNING:tensorflow:From /usr/local/lib/python3.7/dist-packages/tensorflow_core/python/ops/resource_variable_ops.py:1786: calling BaseResourceVariable.__init__ (from tensorflow.python.ops.resource_variable_ops) with constraint is deprecated and will be removed in a future version.\n",
            "Instructions for updating:\n",
            "If using Keras pass *_constraint arguments to layers.\n",
            "INFO:tensorflow:Assets written to: /content/drive/My Drive/Underwater_Segmentation_Research/Models/Unet/UEfficientNetb1_30e_16b/assets\n"
          ],
          "name": "stdout"
        }
      ]
    },
    {
      "cell_type": "markdown",
      "metadata": {
        "id": "lKrNMQRz35ed"
      },
      "source": [
        ""
      ]
    },
    {
      "cell_type": "code",
      "metadata": {
        "colab": {
          "base_uri": "https://localhost:8080/"
        },
        "id": "8g2JByQRvjc3",
        "outputId": "ebbc69e3-8a8e-4d50-c9e7-6709aa214104"
      },
      "source": [
        "# Check the GPU configuration\n",
        "!nvidia-smi"
      ],
      "execution_count": 20,
      "outputs": [
        {
          "output_type": "stream",
          "text": [
            "Tue Mar 30 13:33:35 2021       \n",
            "+-----------------------------------------------------------------------------+\n",
            "| NVIDIA-SMI 460.56       Driver Version: 460.32.03    CUDA Version: 11.2     |\n",
            "|-------------------------------+----------------------+----------------------+\n",
            "| GPU  Name        Persistence-M| Bus-Id        Disp.A | Volatile Uncorr. ECC |\n",
            "| Fan  Temp  Perf  Pwr:Usage/Cap|         Memory-Usage | GPU-Util  Compute M. |\n",
            "|                               |                      |               MIG M. |\n",
            "|===============================+======================+======================|\n",
            "|   0  Tesla T4            Off  | 00000000:00:04.0 Off |                    0 |\n",
            "| N/A   74C    P0    34W /  70W |  14870MiB / 15109MiB |      0%      Default |\n",
            "|                               |                      |                  N/A |\n",
            "+-------------------------------+----------------------+----------------------+\n",
            "                                                                               \n",
            "+-----------------------------------------------------------------------------+\n",
            "| Processes:                                                                  |\n",
            "|  GPU   GI   CI        PID   Type   Process name                  GPU Memory |\n",
            "|        ID   ID                                                   Usage      |\n",
            "|=============================================================================|\n",
            "+-----------------------------------------------------------------------------+\n"
          ],
          "name": "stdout"
        }
      ]
    },
    {
      "cell_type": "code",
      "metadata": {
        "id": "5N3b-uUEwaZ2"
      },
      "source": [
        "# check the outputs here\n",
        "outputs = model.predict(testImgs)"
      ],
      "execution_count": 21,
      "outputs": []
    },
    {
      "cell_type": "code",
      "metadata": {
        "colab": {
          "base_uri": "https://localhost:8080/",
          "height": 269
        },
        "id": "oRL028hYwnR-",
        "outputId": "8364c9e6-a5bf-4b02-9bd1-100a3cf00997"
      },
      "source": [
        "import matplotlib.pyplot as plt\n",
        "\n",
        "img = outputs[0,:,:,0]\n",
        "plt.imshow(img)\n",
        "plt.show()"
      ],
      "execution_count": 22,
      "outputs": [
        {
          "output_type": "display_data",
          "data": {
            "image/png": "[encoded data removed]",
            "text/plain": [
              "<Figure size 432x288 with 1 Axes>"
            ]
          },
          "metadata": {
            "tags": [],
            "needs_background": "light"
          }
        }
      ]
    },
    {
      "cell_type": "code",
      "metadata": {
        "id": "exi7mUblK4-s"
      },
      "source": [
        "outputs = None\n",
        "testImgs = None\n",
        "testLabels = None"
      ],
      "execution_count": 23,
      "outputs": []
    }
  ]
}