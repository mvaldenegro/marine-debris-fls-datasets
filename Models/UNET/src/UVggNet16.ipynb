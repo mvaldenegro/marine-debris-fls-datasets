{
  "nbformat": 4,
  "nbformat_minor": 0,
  "metadata": {
    "colab": {
      "name": "UVggNet16.ipynb",
      "provenance": []
    },
    "kernelspec": {
      "name": "python3",
      "display_name": "Python 3"
    },
    "language_info": {
      "name": "python"
    },
    "accelerator": "GPU"
  },
  "cells": [
    {
      "cell_type": "code",
      "metadata": {
        "id": "GmErIJJtXgxr"
      },
      "source": [
        "# Unet with ResNet 34 for multiclass semantic segmentation\n",
        "!pip install tensorflow==2.1.0"
      ],
      "execution_count": null,
      "outputs": []
    },
    {
      "cell_type": "code",
      "metadata": {
        "id": "E05RxVTVawRq"
      },
      "source": [
        "!pip install segmentation-models"
      ],
      "execution_count": null,
      "outputs": []
    },
    {
      "cell_type": "code",
      "metadata": {
        "id": "KGcItvZUbw6S",
        "colab": {
          "base_uri": "https://localhost:8080/"
        },
        "outputId": "c00b714a-79fb-4b5d-fc3e-7a865c8a7f77"
      },
      "source": [
        "# mount google drive here\n",
        "from google.colab import drive\n",
        "drive.mount('/content/drive')"
      ],
      "execution_count": 3,
      "outputs": [
        {
          "output_type": "stream",
          "text": [
            "Mounted at /content/drive\n"
          ],
          "name": "stdout"
        }
      ]
    },
    {
      "cell_type": "code",
      "metadata": {
        "colab": {
          "base_uri": "https://localhost:8080/"
        },
        "id": "OVkZ3Rt_cBIJ",
        "outputId": "7bbee2a2-7426-4d63-85b4-d82968f3569b"
      },
      "source": [
        "# Fetch the training, validation and testing dataset\n",
        "import os\n",
        "import numpy as np\n",
        "\n",
        "dataPath  = '/content/drive/My Drive/Underwater_Segmentation_Research/Data'\n",
        "\n",
        "trainPath =  dataPath + '/Train'\n",
        "testPath  =  dataPath + '/Test'\n",
        "valPath   =  dataPath + '/Validate'\n",
        "\n",
        "trainImgsFile   = 'trainingDataImgs.npy'\n",
        "trainLabelsFile = 'trainingDataLabels.npy'\n",
        "\n",
        "testImgsFile    = 'testingDataImgs.npy'\n",
        "testLabelsFile  = 'testingDataLabels.npy'\n",
        "\n",
        "valImgsFile     = 'validationDataImgs.npy'\n",
        "valLabelsFile   = 'validationDataLabels.npy'\n",
        "\n",
        "def getData(path,fileName):\n",
        "  return np.load(path + \"/\" + fileName)\n",
        "\n",
        "trainImgs = getData(trainPath, trainImgsFile)\n",
        "trainLabels = getData(trainPath, trainLabelsFile)\n",
        "\n",
        "#testImgs   = getData(testPath, testImgsFile)\n",
        "#testLabels = getData(testPath, testLabelsFile)\n",
        "\n",
        "valImgs    = getData(valPath, valImgsFile)\n",
        "valLabels  = getData(valPath, valLabelsFile)\n",
        "\n",
        "print(\"Got train and validation data\")\n",
        "print(trainImgs.shape, valImgs.shape)\n",
        "print(trainLabels.shape, valLabels.shape)"
      ],
      "execution_count": 4,
      "outputs": [
        {
          "output_type": "stream",
          "text": [
            "Got train and validation data\n",
            "(1000, 480, 320, 1) (251, 480, 320, 1)\n",
            "(1000, 480, 320, 1) (251, 480, 320, 1)\n"
          ],
          "name": "stdout"
        }
      ]
    },
    {
      "cell_type": "code",
      "metadata": {
        "id": "UYzc3jDWbN78"
      },
      "source": [
        "# Create the model (without pre-trained ImageNet weights)\n",
        "# BATCH_SIZE = 16\n",
        "# EPOCHS     = 20 (use early stopping as well to avoid overfitting (and store the epochs till then))\n",
        "import os\n",
        "import numpy as np\n",
        "import segmentation_models as sm\n",
        "\n",
        "# create the model\n",
        "model = sm.Unet('vgg16', input_shape=(480, 320, 1), encoder_weights=None, classes=12, activation='softmax')\n",
        "model.summary()\n"
      ],
      "execution_count": null,
      "outputs": []
    },
    {
      "cell_type": "code",
      "metadata": {
        "id": "xrrWR34igCv-"
      },
      "source": [
        "# Compile the model with loss function, optimizer and metric\n",
        "import tensorflow as tf\n",
        "LOSS=tf.keras.losses.SparseCategoricalCrossentropy(from_logits=True)\n",
        "\n",
        "model.compile(\n",
        "    'Adam',\n",
        "    loss='sparse_categorical_crossentropy',\n",
        "    metrics=[sm.metrics.iou_score,'accuracy'],\n",
        ")"
      ],
      "execution_count": 8,
      "outputs": []
    },
    {
      "cell_type": "code",
      "metadata": {
        "id": "t64j7531gnFX"
      },
      "source": [
        "# Setup training parameters\n",
        "BATCH = 16\n",
        "EPOCHS = 30\n",
        "\n",
        "# early stopping callback. It stops training when the loss does not change for 3 consecutive epochs\n",
        "callback = tf.keras.callbacks.EarlyStopping(monitor='loss', patience=3)"
      ],
      "execution_count": 9,
      "outputs": []
    },
    {
      "cell_type": "code",
      "metadata": {
        "colab": {
          "base_uri": "https://localhost:8080/"
        },
        "id": "BvvTmwzIhBvw",
        "outputId": "fdab24a2-360e-4d09-ec81-6d9dcefc61a0"
      },
      "source": [
        "# Start training the model\n",
        "\n",
        "# change the label type to float32\n",
        "# tf.cast(trainLabels, tf.float32)\n",
        "# tf.cast(trainImgs, tf.float32)\n",
        "# tf.cast(valLabels, tf.float32)\n",
        "# tf.cast(valImgs, tf.float32)\n",
        "\n",
        "history = model.fit(trainImgs, trainLabels, epochs=EPOCHS, batch_size=BATCH, validation_data=(valImgs, valLabels))"
      ],
      "execution_count": 10,
      "outputs": [
        {
          "output_type": "stream",
          "text": [
            "Train on 1000 samples, validate on 251 samples\n",
            "Epoch 1/30\n",
            "1000/1000 [==============================] - 50s 50ms/sample - loss: 0.9209 - iou_score: 0.0507 - accuracy: 0.7514 - val_loss: 1.2421 - val_iou_score: 0.0635 - val_accuracy: 0.4512\n",
            "Epoch 2/30\n",
            "1000/1000 [==============================] - 35s 35ms/sample - loss: 0.1916 - iou_score: 0.0404 - accuracy: 0.9632 - val_loss: 0.3349 - val_iou_score: 0.0594 - val_accuracy: 0.9613\n",
            "Epoch 3/30\n",
            "1000/1000 [==============================] - 35s 35ms/sample - loss: 0.1616 - iou_score: 0.0433 - accuracy: 0.9637 - val_loss: 0.1815 - val_iou_score: 0.0422 - val_accuracy: 0.9634\n",
            "Epoch 4/30\n",
            "1000/1000 [==============================] - 35s 35ms/sample - loss: 0.1495 - iou_score: 0.0451 - accuracy: 0.9643 - val_loss: 0.2239 - val_iou_score: 0.0292 - val_accuracy: 0.9623\n",
            "Epoch 5/30\n",
            "1000/1000 [==============================] - 35s 35ms/sample - loss: 0.1380 - iou_score: 0.0509 - accuracy: 0.9657 - val_loss: 0.3523 - val_iou_score: 0.0263 - val_accuracy: 0.9622\n",
            "Epoch 6/30\n",
            "1000/1000 [==============================] - 35s 35ms/sample - loss: 0.1309 - iou_score: 0.0529 - accuracy: 0.9668 - val_loss: 0.2393 - val_iou_score: 0.0273 - val_accuracy: 0.9622\n",
            "Epoch 7/30\n",
            "1000/1000 [==============================] - 35s 35ms/sample - loss: 0.1238 - iou_score: 0.0578 - accuracy: 0.9679 - val_loss: 0.2679 - val_iou_score: 0.0266 - val_accuracy: 0.9622\n",
            "Epoch 8/30\n",
            "1000/1000 [==============================] - 35s 35ms/sample - loss: 0.1151 - iou_score: 0.0633 - accuracy: 0.9694 - val_loss: 0.2876 - val_iou_score: 0.0263 - val_accuracy: 0.9622\n",
            "Epoch 9/30\n",
            "1000/1000 [==============================] - 35s 35ms/sample - loss: 0.1076 - iou_score: 0.0689 - accuracy: 0.9711 - val_loss: 0.2450 - val_iou_score: 0.0272 - val_accuracy: 0.9622\n",
            "Epoch 10/30\n",
            "1000/1000 [==============================] - 35s 35ms/sample - loss: 0.0964 - iou_score: 0.0746 - accuracy: 0.9742 - val_loss: 0.2735 - val_iou_score: 0.0265 - val_accuracy: 0.9622\n",
            "Epoch 11/30\n",
            "1000/1000 [==============================] - 35s 35ms/sample - loss: 0.0899 - iou_score: 0.0820 - accuracy: 0.9757 - val_loss: 0.3332 - val_iou_score: 0.0261 - val_accuracy: 0.9622\n",
            "Epoch 12/30\n",
            "1000/1000 [==============================] - 35s 35ms/sample - loss: 0.0828 - iou_score: 0.0866 - accuracy: 0.9775 - val_loss: 0.3231 - val_iou_score: 0.0262 - val_accuracy: 0.9622\n",
            "Epoch 13/30\n",
            "1000/1000 [==============================] - 35s 35ms/sample - loss: 0.0770 - iou_score: 0.0936 - accuracy: 0.9789 - val_loss: 0.2661 - val_iou_score: 0.0269 - val_accuracy: 0.9624\n",
            "Epoch 14/30\n",
            "1000/1000 [==============================] - 35s 35ms/sample - loss: 0.0766 - iou_score: 0.0908 - accuracy: 0.9786 - val_loss: 0.2036 - val_iou_score: 0.0310 - val_accuracy: 0.9626\n",
            "Epoch 15/30\n",
            "1000/1000 [==============================] - 35s 35ms/sample - loss: 0.0708 - iou_score: 0.0960 - accuracy: 0.9800 - val_loss: 0.2190 - val_iou_score: 0.0292 - val_accuracy: 0.9630\n",
            "Epoch 16/30\n",
            "1000/1000 [==============================] - 35s 35ms/sample - loss: 0.0713 - iou_score: 0.0932 - accuracy: 0.9798 - val_loss: 0.1865 - val_iou_score: 0.0334 - val_accuracy: 0.9642\n",
            "Epoch 17/30\n",
            "1000/1000 [==============================] - 35s 35ms/sample - loss: 0.0650 - iou_score: 0.0990 - accuracy: 0.9810 - val_loss: 0.1038 - val_iou_score: 0.0741 - val_accuracy: 0.9745\n",
            "Epoch 18/30\n",
            "1000/1000 [==============================] - 35s 35ms/sample - loss: 0.0632 - iou_score: 0.1018 - accuracy: 0.9813 - val_loss: 0.0961 - val_iou_score: 0.0668 - val_accuracy: 0.9750\n",
            "Epoch 19/30\n",
            "1000/1000 [==============================] - 35s 35ms/sample - loss: 0.0558 - iou_score: 0.1065 - accuracy: 0.9831 - val_loss: 0.1791 - val_iou_score: 0.0324 - val_accuracy: 0.9646\n",
            "Epoch 20/30\n",
            "1000/1000 [==============================] - 35s 35ms/sample - loss: 0.0555 - iou_score: 0.1041 - accuracy: 0.9829 - val_loss: 0.0936 - val_iou_score: 0.0727 - val_accuracy: 0.9744\n",
            "Epoch 21/30\n",
            "1000/1000 [==============================] - 35s 35ms/sample - loss: 0.0514 - iou_score: 0.1084 - accuracy: 0.9837 - val_loss: 0.1173 - val_iou_score: 0.0435 - val_accuracy: 0.9693\n",
            "Epoch 22/30\n",
            "1000/1000 [==============================] - 35s 35ms/sample - loss: 0.0498 - iou_score: 0.1089 - accuracy: 0.9840 - val_loss: 0.0739 - val_iou_score: 0.0919 - val_accuracy: 0.9808\n",
            "Epoch 23/30\n",
            "1000/1000 [==============================] - 35s 35ms/sample - loss: 0.0454 - iou_score: 0.1116 - accuracy: 0.9853 - val_loss: 0.0532 - val_iou_score: 0.0919 - val_accuracy: 0.9834\n",
            "Epoch 24/30\n",
            "1000/1000 [==============================] - 35s 35ms/sample - loss: 0.0447 - iou_score: 0.1100 - accuracy: 0.9852 - val_loss: 0.0742 - val_iou_score: 0.1243 - val_accuracy: 0.9789\n",
            "Epoch 25/30\n",
            "1000/1000 [==============================] - 35s 35ms/sample - loss: 0.0434 - iou_score: 0.1150 - accuracy: 0.9856 - val_loss: 0.0466 - val_iou_score: 0.1332 - val_accuracy: 0.9855\n",
            "Epoch 26/30\n",
            "1000/1000 [==============================] - 35s 35ms/sample - loss: 0.0379 - iou_score: 0.1182 - accuracy: 0.9873 - val_loss: 0.0502 - val_iou_score: 0.0931 - val_accuracy: 0.9848\n",
            "Epoch 27/30\n",
            "1000/1000 [==============================] - 35s 35ms/sample - loss: 0.0397 - iou_score: 0.1091 - accuracy: 0.9866 - val_loss: 0.0570 - val_iou_score: 0.1415 - val_accuracy: 0.9824\n",
            "Epoch 28/30\n",
            "1000/1000 [==============================] - 35s 35ms/sample - loss: 0.0357 - iou_score: 0.1178 - accuracy: 0.9880 - val_loss: 0.0465 - val_iou_score: 0.1086 - val_accuracy: 0.9862\n",
            "Epoch 29/30\n",
            "1000/1000 [==============================] - 35s 35ms/sample - loss: 0.0353 - iou_score: 0.1142 - accuracy: 0.9880 - val_loss: 0.0481 - val_iou_score: 0.1381 - val_accuracy: 0.9851\n",
            "Epoch 30/30\n",
            "1000/1000 [==============================] - 35s 35ms/sample - loss: 0.0343 - iou_score: 0.1158 - accuracy: 0.9882 - val_loss: 0.0359 - val_iou_score: 0.1225 - val_accuracy: 0.9885\n"
          ],
          "name": "stdout"
        }
      ]
    },
    {
      "cell_type": "code",
      "metadata": {
        "colab": {
          "base_uri": "https://localhost:8080/",
          "height": 300
        },
        "id": "5ymxrY3gpSBh",
        "outputId": "e6850585-b089-448c-f473-02c3a67b82af"
      },
      "source": [
        "#  Plot the results\n",
        "print(history.history.keys())\n",
        "\n",
        "import matplotlib.pyplot as plt\n",
        "plt.plot(history.history['loss'])\n",
        "plt.plot(history.history['val_loss'])"
      ],
      "execution_count": 11,
      "outputs": [
        {
          "output_type": "stream",
          "text": [
            "dict_keys(['loss', 'iou_score', 'accuracy', 'val_loss', 'val_iou_score', 'val_accuracy'])\n"
          ],
          "name": "stdout"
        },
        {
          "output_type": "execute_result",
          "data": {
            "text/plain": [
              "[<matplotlib.lines.Line2D at 0x7fcd76433c10>]"
            ]
          },
          "metadata": {
            "tags": []
          },
          "execution_count": 11
        },
        {
          "output_type": "display_data",
          "data": {
            "image/png": "[encoded data removed]",
            "text/plain": [
              "<Figure size 432x288 with 1 Axes>"
            ]
          },
          "metadata": {
            "tags": [],
            "needs_background": "light"
          }
        }
      ]
    },
    {
      "cell_type": "code",
      "metadata": {
        "colab": {
          "base_uri": "https://localhost:8080/",
          "height": 282
        },
        "id": "BOfjAUaKp213",
        "outputId": "08c0c489-a2db-4dfe-9033-7a089093b4e4"
      },
      "source": [
        "plt.plot(history.history['iou_score'])\n",
        "plt.plot(history.history['val_iou_score'])"
      ],
      "execution_count": 12,
      "outputs": [
        {
          "output_type": "execute_result",
          "data": {
            "text/plain": [
              "[<matplotlib.lines.Line2D at 0x7fcd76153650>]"
            ]
          },
          "metadata": {
            "tags": []
          },
          "execution_count": 12
        },
        {
          "output_type": "display_data",
          "data": {
            "image/png": "[encoded data removed]",
            "text/plain": [
              "<Figure size 432x288 with 1 Axes>"
            ]
          },
          "metadata": {
            "tags": [],
            "needs_background": "light"
          }
        }
      ]
    },
    {
      "cell_type": "code",
      "metadata": {
        "id": "7m26N2HV-4k-",
        "outputId": "18b0b127-f9ce-489e-930a-c29c22f6905d",
        "colab": {
          "base_uri": "https://localhost:8080/",
          "height": 282
        }
      },
      "source": [
        "plt.plot(history.history['accuracy'])\n",
        "plt.plot(history.history['val_accuracy'])"
      ],
      "execution_count": 13,
      "outputs": [
        {
          "output_type": "execute_result",
          "data": {
            "text/plain": [
              "[<matplotlib.lines.Line2D at 0x7fcd540492d0>]"
            ]
          },
          "metadata": {
            "tags": []
          },
          "execution_count": 13
        },
        {
          "output_type": "display_data",
          "data": {
            "image/png": "[encoded data removed]",
            "text/plain": [
              "<Figure size 432x288 with 1 Axes>"
            ]
          },
          "metadata": {
            "tags": [],
            "needs_background": "light"
          }
        }
      ]
    },
    {
      "cell_type": "code",
      "metadata": {
        "id": "xIs9nAuXJX8F"
      },
      "source": [
        "# get the testdata\n",
        "testImgs   = getData(testPath, testImgsFile)\n",
        "testLabels = getData(testPath, testLabelsFile)"
      ],
      "execution_count": 14,
      "outputs": []
    },
    {
      "cell_type": "code",
      "metadata": {
        "colab": {
          "base_uri": "https://localhost:8080/"
        },
        "id": "cJg2fDdHqDEr",
        "outputId": "c7dff470-e139-4dad-e8a1-0170e745952f"
      },
      "source": [
        "model.evaluate(testImgs, testLabels)"
      ],
      "execution_count": 15,
      "outputs": [
        {
          "output_type": "stream",
          "text": [
            "617/617 [==============================] - 10s 15ms/sample - loss: 0.0357 - iou_score: 0.1221 - accuracy: 0.9885\n"
          ],
          "name": "stdout"
        },
        {
          "output_type": "execute_result",
          "data": {
            "text/plain": [
              "[0.03572004455680592, 0.12214525, 0.9884707]"
            ]
          },
          "metadata": {
            "tags": []
          },
          "execution_count": 15
        }
      ]
    },
    {
      "cell_type": "code",
      "metadata": {
        "id": "4kBp5pC4qe3j"
      },
      "source": [
        "# save the model weights\n",
        "weightFileName = \"UVggNet16_30e_16b.h5\"\n",
        "weightPath = '/content/drive/My Drive/Underwater_Segmentation_Research/Weights/UNET'\n",
        "model.save_weights(weightPath + \"/\" + weightFileName)\n"
      ],
      "execution_count": 16,
      "outputs": []
    },
    {
      "cell_type": "code",
      "metadata": {
        "colab": {
          "base_uri": "https://localhost:8080/"
        },
        "id": "O0ktWQ4lsyxv",
        "outputId": "e062967c-a51c-4310-b03b-94d146343503"
      },
      "source": [
        "model.load_weights(weightPath + \"/\" + weightFileName)\n",
        "model.evaluate(testImgs, testLabels)"
      ],
      "execution_count": 18,
      "outputs": [
        {
          "output_type": "stream",
          "text": [
            "617/617 [==============================] - 6s 10ms/sample - loss: 0.0357 - iou_score: 0.1221 - accuracy: 0.9885\n"
          ],
          "name": "stdout"
        },
        {
          "output_type": "execute_result",
          "data": {
            "text/plain": [
              "[0.03572004455680592, 0.12214525, 0.9884707]"
            ]
          },
          "metadata": {
            "tags": []
          },
          "execution_count": 18
        }
      ]
    },
    {
      "cell_type": "code",
      "metadata": {
        "id": "QOgVsGZjLkeM"
      },
      "source": [
        ""
      ],
      "execution_count": null,
      "outputs": []
    },
    {
      "cell_type": "code",
      "metadata": {
        "colab": {
          "base_uri": "https://localhost:8080/"
        },
        "id": "SF0gF5Otuac9",
        "outputId": "2484f6df-fa99-44d7-de4a-ecf902b84d96"
      },
      "source": [
        "modelFileName = \"UVggNet16_30e_16b\"\n",
        "modelPath     = '/content/drive/My Drive/Underwater_Segmentation_Research/Models/Unet'\n",
        "model.save(modelPath + \"/\" + modelFileName)"
      ],
      "execution_count": 19,
      "outputs": [
        {
          "output_type": "stream",
          "text": [
            "INFO:tensorflow:Assets written to: /content/drive/My Drive/Underwater_Segmentation_Research/Models/Unet/UVggNet16_30e_16b/assets\n"
          ],
          "name": "stdout"
        }
      ]
    },
    {
      "cell_type": "code",
      "metadata": {
        "colab": {
          "base_uri": "https://localhost:8080/"
        },
        "id": "8g2JByQRvjc3",
        "outputId": "d8a34039-1422-4778-e18c-aa1d7b2a123f"
      },
      "source": [
        "# Check the GPU configuration\n",
        "!nvidia-smi"
      ],
      "execution_count": 20,
      "outputs": [
        {
          "output_type": "stream",
          "text": [
            "Tue Mar 30 07:16:10 2021       \n",
            "+-----------------------------------------------------------------------------+\n",
            "| NVIDIA-SMI 460.56       Driver Version: 460.32.03    CUDA Version: 11.2     |\n",
            "|-------------------------------+----------------------+----------------------+\n",
            "| GPU  Name        Persistence-M| Bus-Id        Disp.A | Volatile Uncorr. ECC |\n",
            "| Fan  Temp  Perf  Pwr:Usage/Cap|         Memory-Usage | GPU-Util  Compute M. |\n",
            "|                               |                      |               MIG M. |\n",
            "|===============================+======================+======================|\n",
            "|   0  Tesla P100-PCIE...  Off  | 00000000:00:04.0 Off |                    0 |\n",
            "| N/A   46C    P0    34W / 250W |  15771MiB / 16280MiB |      0%      Default |\n",
            "|                               |                      |                  N/A |\n",
            "+-------------------------------+----------------------+----------------------+\n",
            "                                                                               \n",
            "+-----------------------------------------------------------------------------+\n",
            "| Processes:                                                                  |\n",
            "|  GPU   GI   CI        PID   Type   Process name                  GPU Memory |\n",
            "|        ID   ID                                                   Usage      |\n",
            "|=============================================================================|\n",
            "+-----------------------------------------------------------------------------+\n"
          ],
          "name": "stdout"
        }
      ]
    },
    {
      "cell_type": "code",
      "metadata": {
        "id": "5N3b-uUEwaZ2"
      },
      "source": [
        "# check the outputs here\n",
        "outputs = model.predict(testImgs)"
      ],
      "execution_count": 21,
      "outputs": []
    },
    {
      "cell_type": "code",
      "metadata": {
        "colab": {
          "base_uri": "https://localhost:8080/",
          "height": 269
        },
        "id": "oRL028hYwnR-",
        "outputId": "d92fdb91-26ff-4005-ac15-b255f943c0dd"
      },
      "source": [
        "import matplotlib.pyplot as plt\n",
        "\n",
        "img = outputs[0,:,:,0]\n",
        "plt.imshow(img)\n",
        "plt.show()"
      ],
      "execution_count": 22,
      "outputs": [
        {
          "output_type": "display_data",
          "data": {
            "image/png": "[encoded data removed]",
            "text/plain": [
              "<Figure size 432x288 with 1 Axes>"
            ]
          },
          "metadata": {
            "tags": [],
            "needs_background": "light"
          }
        }
      ]
    },
    {
      "cell_type": "code",
      "metadata": {
        "id": "exi7mUblK4-s"
      },
      "source": [
        "outputs = None"
      ],
      "execution_count": null,
      "outputs": []
    }
  ]
}