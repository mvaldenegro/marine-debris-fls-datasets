{
  "nbformat": 4,
  "nbformat_minor": 0,
  "metadata": {
    "colab": {
      "name": "UResNet152.ipynb",
      "provenance": []
    },
    "kernelspec": {
      "name": "python3",
      "display_name": "Python 3"
    },
    "language_info": {
      "name": "python"
    },
    "accelerator": "GPU"
  },
  "cells": [
    {
      "cell_type": "code",
      "metadata": {
        "id": "GmErIJJtXgxr"
      },
      "source": [
        "# Unet with ResNet 34 for multiclass semantic segmentation\n",
        "!pip install tensorflow==2.1.0"
      ],
      "execution_count": null,
      "outputs": []
    },
    {
      "cell_type": "code",
      "metadata": {
        "id": "E05RxVTVawRq"
      },
      "source": [
        "!pip install segmentation-models"
      ],
      "execution_count": null,
      "outputs": []
    },
    {
      "cell_type": "code",
      "metadata": {
        "colab": {
          "base_uri": "https://localhost:8080/"
        },
        "id": "KGcItvZUbw6S",
        "outputId": "772d13ad-9961-45a8-a461-aae21a5d93d7"
      },
      "source": [
        "# mount google drive here\n",
        "from google.colab import drive\n",
        "drive.mount('/content/drive')"
      ],
      "execution_count": 2,
      "outputs": [
        {
          "output_type": "stream",
          "text": [
            "Drive already mounted at /content/drive; to attempt to forcibly remount, call drive.mount(\"/content/drive\", force_remount=True).\n"
          ],
          "name": "stdout"
        }
      ]
    },
    {
      "cell_type": "code",
      "metadata": {
        "colab": {
          "base_uri": "https://localhost:8080/"
        },
        "id": "OVkZ3Rt_cBIJ",
        "outputId": "6f266e52-386f-4c43-c9f1-3112ec7d384a"
      },
      "source": [
        "# Fetch the training, validation and testing dataset\n",
        "import os\n",
        "import numpy as np\n",
        "\n",
        "dataPath  = '/content/drive/My Drive/Underwater_Segmentation_Research/Data'\n",
        "\n",
        "trainPath =  dataPath + '/Train'\n",
        "testPath  =  dataPath + '/Test'\n",
        "valPath   =  dataPath + '/Validate'\n",
        "\n",
        "trainImgsFile   = 'trainingDataImgs.npy'\n",
        "trainLabelsFile = 'trainingDataLabels.npy'\n",
        "\n",
        "testImgsFile    = 'testingDataImgs.npy'\n",
        "testLabelsFile  = 'testingDataLabels.npy'\n",
        "\n",
        "valImgsFile     = 'validationDataImgs.npy'\n",
        "valLabelsFile   = 'validationDataLabels.npy'\n",
        "\n",
        "def getData(path,fileName):\n",
        "  return np.load(path + \"/\" + fileName)\n",
        "\n",
        "trainImgs = getData(trainPath, trainImgsFile)\n",
        "trainLabels = getData(trainPath, trainLabelsFile)\n",
        "\n",
        "#testImgs   = getData(testPath, testImgsFile)\n",
        "#testLabels = getData(testPath, testLabelsFile)\n",
        "\n",
        "valImgs    = getData(valPath, valImgsFile)\n",
        "valLabels  = getData(valPath, valLabelsFile)\n",
        "\n",
        "print(\"Got train and validation data\")\n",
        "print(trainImgs.shape, valImgs.shape)\n",
        "print(trainLabels.shape, valLabels.shape)"
      ],
      "execution_count": 6,
      "outputs": [
        {
          "output_type": "stream",
          "text": [
            "Got train and validation data\n",
            "(1000, 480, 320, 1) (251, 480, 320, 1)\n",
            "(1000, 480, 320, 1) (251, 480, 320, 1)\n"
          ],
          "name": "stdout"
        }
      ]
    },
    {
      "cell_type": "code",
      "metadata": {
        "id": "UYzc3jDWbN78"
      },
      "source": [
        "# Create the model (without pre-trained ImageNet weights)\n",
        "# BATCH_SIZE = 16\n",
        "# EPOCHS     = 20 (use early stopping as well to avoid overfitting (and store the epochs till then))\n",
        "import os\n",
        "import numpy as np\n",
        "import segmentation_models as sm\n",
        "\n",
        "# create the model\n",
        "model = sm.Unet('resnet152', input_shape=(480, 320, 1), encoder_weights=None, classes=12, activation='softmax')\n",
        "model.summary()\n"
      ],
      "execution_count": null,
      "outputs": []
    },
    {
      "cell_type": "markdown",
      "metadata": {
        "id": "VVYj9bPWBQjk"
      },
      "source": [
        ""
      ]
    },
    {
      "cell_type": "code",
      "metadata": {
        "id": "xrrWR34igCv-"
      },
      "source": [
        "# Compile the model with loss function, optimizer and metric\n",
        "import tensorflow as tf\n",
        "LOSS=tf.keras.losses.SparseCategoricalCrossentropy(from_logits=True)\n",
        "\n",
        "model.compile(\n",
        "    'Adam',\n",
        "    loss='sparse_categorical_crossentropy',\n",
        "    metrics=[sm.metrics.iou_score,'accuracy'],\n",
        ")"
      ],
      "execution_count": 3,
      "outputs": []
    },
    {
      "cell_type": "code",
      "metadata": {
        "id": "t64j7531gnFX"
      },
      "source": [
        "# Setup training parameters\n",
        "BATCH = 16\n",
        "EPOCHS = 30\n",
        "\n",
        "# early stopping callback. It stops training when the loss does not change for 3 consecutive epochs\n",
        "callback = tf.keras.callbacks.EarlyStopping(monitor='loss', patience=3)"
      ],
      "execution_count": 4,
      "outputs": []
    },
    {
      "cell_type": "code",
      "metadata": {
        "colab": {
          "base_uri": "https://localhost:8080/"
        },
        "id": "BvvTmwzIhBvw",
        "outputId": "c80f44ba-6487-4c6b-b0e5-d1f51888ee68"
      },
      "source": [
        "# Start training the model\n",
        "\n",
        "# change the label type to float32\n",
        "# tf.cast(trainLabels, tf.float32)\n",
        "# tf.cast(trainImgs, tf.float32)\n",
        "# tf.cast(valLabels, tf.float32)\n",
        "# tf.cast(valImgs, tf.float32)\n",
        "\n",
        "history = model.fit(trainImgs, trainLabels, epochs=EPOCHS, batch_size=BATCH, validation_data=(valImgs, valLabels))"
      ],
      "execution_count": 5,
      "outputs": [
        {
          "output_type": "stream",
          "text": [
            "Train on 1000 samples, validate on 251 samples\n",
            "Epoch 1/30\n",
            "1000/1000 [==============================] - 89s 89ms/sample - loss: 0.7504 - iou_score: 0.0550 - accuracy: 0.8804 - val_loss: 0.6179 - val_iou_score: 0.0260 - val_accuracy: 0.9621\n",
            "Epoch 2/30\n",
            "1000/1000 [==============================] - 57s 57ms/sample - loss: 0.1428 - iou_score: 0.0654 - accuracy: 0.9699 - val_loss: 0.1778 - val_iou_score: 0.0473 - val_accuracy: 0.9671\n",
            "Epoch 3/30\n",
            "1000/1000 [==============================] - 57s 57ms/sample - loss: 0.1055 - iou_score: 0.0898 - accuracy: 0.9741 - val_loss: 0.2633 - val_iou_score: 0.0428 - val_accuracy: 0.9404\n",
            "Epoch 4/30\n",
            "1000/1000 [==============================] - 57s 57ms/sample - loss: 0.0911 - iou_score: 0.0927 - accuracy: 0.9761 - val_loss: 0.3502 - val_iou_score: 0.0370 - val_accuracy: 0.9658\n",
            "Epoch 5/30\n",
            "1000/1000 [==============================] - 57s 57ms/sample - loss: 0.0811 - iou_score: 0.0955 - accuracy: 0.9774 - val_loss: 0.0980 - val_iou_score: 0.1151 - val_accuracy: 0.9734\n",
            "Epoch 6/30\n",
            "1000/1000 [==============================] - 57s 57ms/sample - loss: 0.0665 - iou_score: 0.1030 - accuracy: 0.9803 - val_loss: 0.0995 - val_iou_score: 0.0791 - val_accuracy: 0.9746\n",
            "Epoch 7/30\n",
            "1000/1000 [==============================] - 57s 57ms/sample - loss: 0.0606 - iou_score: 0.1035 - accuracy: 0.9811 - val_loss: 0.1094 - val_iou_score: 0.1008 - val_accuracy: 0.9775\n",
            "Epoch 8/30\n",
            "1000/1000 [==============================] - 57s 57ms/sample - loss: 0.0573 - iou_score: 0.1048 - accuracy: 0.9823 - val_loss: 0.1893 - val_iou_score: 0.0492 - val_accuracy: 0.9644\n",
            "Epoch 9/30\n",
            "1000/1000 [==============================] - 57s 57ms/sample - loss: 0.0468 - iou_score: 0.1125 - accuracy: 0.9850 - val_loss: 0.1055 - val_iou_score: 0.1016 - val_accuracy: 0.9718\n",
            "Epoch 10/30\n",
            "1000/1000 [==============================] - 57s 57ms/sample - loss: 0.0435 - iou_score: 0.1131 - accuracy: 0.9857 - val_loss: 0.0445 - val_iou_score: 0.1272 - val_accuracy: 0.9866\n",
            "Epoch 11/30\n",
            "1000/1000 [==============================] - 57s 57ms/sample - loss: 0.0403 - iou_score: 0.1147 - accuracy: 0.9864 - val_loss: 0.0657 - val_iou_score: 0.1300 - val_accuracy: 0.9841\n",
            "Epoch 12/30\n",
            "1000/1000 [==============================] - 57s 57ms/sample - loss: 0.0348 - iou_score: 0.1156 - accuracy: 0.9880 - val_loss: 0.0651 - val_iou_score: 0.1269 - val_accuracy: 0.9778\n",
            "Epoch 13/30\n",
            "1000/1000 [==============================] - 57s 57ms/sample - loss: 0.0330 - iou_score: 0.1184 - accuracy: 0.9884 - val_loss: 0.0347 - val_iou_score: 0.1410 - val_accuracy: 0.9889\n",
            "Epoch 14/30\n",
            "1000/1000 [==============================] - 57s 57ms/sample - loss: 0.0305 - iou_score: 0.1202 - accuracy: 0.9893 - val_loss: 0.0411 - val_iou_score: 0.1093 - val_accuracy: 0.9872\n",
            "Epoch 15/30\n",
            "1000/1000 [==============================] - 57s 57ms/sample - loss: 0.0320 - iou_score: 0.1163 - accuracy: 0.9888 - val_loss: 0.0641 - val_iou_score: 0.0861 - val_accuracy: 0.9827\n",
            "Epoch 16/30\n",
            "1000/1000 [==============================] - 57s 57ms/sample - loss: 0.0299 - iou_score: 0.1165 - accuracy: 0.9895 - val_loss: 0.0411 - val_iou_score: 0.1237 - val_accuracy: 0.9868\n",
            "Epoch 17/30\n",
            "1000/1000 [==============================] - 57s 57ms/sample - loss: 0.0278 - iou_score: 0.1208 - accuracy: 0.9901 - val_loss: 0.0309 - val_iou_score: 0.1228 - val_accuracy: 0.9897\n",
            "Epoch 18/30\n",
            "1000/1000 [==============================] - 57s 57ms/sample - loss: 0.0266 - iou_score: 0.1183 - accuracy: 0.9903 - val_loss: 0.0482 - val_iou_score: 0.1439 - val_accuracy: 0.9840\n",
            "Epoch 19/30\n",
            "1000/1000 [==============================] - 57s 57ms/sample - loss: 0.0258 - iou_score: 0.1212 - accuracy: 0.9907 - val_loss: 0.0464 - val_iou_score: 0.1312 - val_accuracy: 0.9835\n",
            "Epoch 20/30\n",
            "1000/1000 [==============================] - 57s 57ms/sample - loss: 0.0247 - iou_score: 0.1231 - accuracy: 0.9911 - val_loss: 0.0292 - val_iou_score: 0.1343 - val_accuracy: 0.9903\n",
            "Epoch 21/30\n",
            "1000/1000 [==============================] - 57s 57ms/sample - loss: 0.0234 - iou_score: 0.1253 - accuracy: 0.9914 - val_loss: 0.0405 - val_iou_score: 0.1095 - val_accuracy: 0.9873\n",
            "Epoch 22/30\n",
            "1000/1000 [==============================] - 57s 57ms/sample - loss: 0.0255 - iou_score: 0.1186 - accuracy: 0.9907 - val_loss: 0.0893 - val_iou_score: 0.1071 - val_accuracy: 0.9802\n",
            "Epoch 23/30\n",
            "1000/1000 [==============================] - 57s 57ms/sample - loss: 0.0246 - iou_score: 0.1239 - accuracy: 0.9909 - val_loss: 0.0430 - val_iou_score: 0.0938 - val_accuracy: 0.9861\n",
            "Epoch 24/30\n",
            "1000/1000 [==============================] - 57s 57ms/sample - loss: 0.0242 - iou_score: 0.1185 - accuracy: 0.9910 - val_loss: 0.0344 - val_iou_score: 0.1228 - val_accuracy: 0.9895\n",
            "Epoch 25/30\n",
            "1000/1000 [==============================] - 57s 57ms/sample - loss: 0.0216 - iou_score: 0.1229 - accuracy: 0.9920 - val_loss: 0.0317 - val_iou_score: 0.1362 - val_accuracy: 0.9899\n",
            "Epoch 26/30\n",
            "1000/1000 [==============================] - 57s 57ms/sample - loss: 0.0210 - iou_score: 0.1281 - accuracy: 0.9920 - val_loss: 0.0359 - val_iou_score: 0.1258 - val_accuracy: 0.9891\n",
            "Epoch 27/30\n",
            "1000/1000 [==============================] - 57s 57ms/sample - loss: 0.0201 - iou_score: 0.1280 - accuracy: 0.9925 - val_loss: 0.0318 - val_iou_score: 0.1249 - val_accuracy: 0.9903\n",
            "Epoch 28/30\n",
            "1000/1000 [==============================] - 57s 57ms/sample - loss: 0.0194 - iou_score: 0.1253 - accuracy: 0.9925 - val_loss: 0.0319 - val_iou_score: 0.1275 - val_accuracy: 0.9902\n",
            "Epoch 29/30\n",
            "1000/1000 [==============================] - 57s 57ms/sample - loss: 0.0211 - iou_score: 0.1265 - accuracy: 0.9924 - val_loss: 0.1358 - val_iou_score: 0.1015 - val_accuracy: 0.9748\n",
            "Epoch 30/30\n",
            "1000/1000 [==============================] - 57s 57ms/sample - loss: 0.0259 - iou_score: 0.1212 - accuracy: 0.9906 - val_loss: 0.0555 - val_iou_score: 0.1366 - val_accuracy: 0.9810\n"
          ],
          "name": "stdout"
        }
      ]
    },
    {
      "cell_type": "code",
      "metadata": {
        "colab": {
          "base_uri": "https://localhost:8080/",
          "height": 300
        },
        "id": "5ymxrY3gpSBh",
        "outputId": "ee33f9c9-9011-4fc9-f2d4-6fbaf819f76d"
      },
      "source": [
        "#  Plot the results\n",
        "print(history.history.keys())\n",
        "\n",
        "import matplotlib.pyplot as plt\n",
        "plt.plot(history.history['loss'])\n",
        "plt.plot(history.history['val_loss'])"
      ],
      "execution_count": 7,
      "outputs": [
        {
          "output_type": "stream",
          "text": [
            "dict_keys(['loss', 'iou_score', 'accuracy', 'val_loss', 'val_iou_score', 'val_accuracy'])\n"
          ],
          "name": "stdout"
        },
        {
          "output_type": "execute_result",
          "data": {
            "text/plain": [
              "[<matplotlib.lines.Line2D at 0x7f99a834b910>]"
            ]
          },
          "metadata": {
            "tags": []
          },
          "execution_count": 7
        },
        {
          "output_type": "display_data",
          "data": {
            "image/png": "[encoded data removed]",
            "text/plain": [
              "<Figure size 432x288 with 1 Axes>"
            ]
          },
          "metadata": {
            "tags": [],
            "needs_background": "light"
          }
        }
      ]
    },
    {
      "cell_type": "code",
      "metadata": {
        "colab": {
          "base_uri": "https://localhost:8080/",
          "height": 282
        },
        "id": "BOfjAUaKp213",
        "outputId": "3517eb06-3379-4400-d584-c4ab6297c71b"
      },
      "source": [
        "plt.plot(history.history['iou_score'])\n",
        "plt.plot(history.history['val_iou_score'])"
      ],
      "execution_count": 9,
      "outputs": [
        {
          "output_type": "execute_result",
          "data": {
            "text/plain": [
              "[<matplotlib.lines.Line2D at 0x7f99a8063690>]"
            ]
          },
          "metadata": {
            "tags": []
          },
          "execution_count": 9
        },
        {
          "output_type": "display_data",
          "data": {
            "image/png": "[encoded data removed]",
            "text/plain": [
              "<Figure size 432x288 with 1 Axes>"
            ]
          },
          "metadata": {
            "tags": [],
            "needs_background": "light"
          }
        }
      ]
    },
    {
      "cell_type": "code",
      "metadata": {
        "id": "DEmvqgWH2aSp",
        "outputId": "4bdda993-d414-4468-8d48-04201cb3a7d4",
        "colab": {
          "base_uri": "https://localhost:8080/",
          "height": 265
        }
      },
      "source": [
        "plt.plot(history.history['accuracy'])\n",
        "plt.plot(history.history['val_accuracy'])\n",
        "plt.show()"
      ],
      "execution_count": 10,
      "outputs": [
        {
          "output_type": "display_data",
          "data": {
            "image/png": "[encoded data removed]",
            "text/plain": [
              "<Figure size 432x288 with 1 Axes>"
            ]
          },
          "metadata": {
            "tags": [],
            "needs_background": "light"
          }
        }
      ]
    },
    {
      "cell_type": "code",
      "metadata": {
        "id": "xIs9nAuXJX8F"
      },
      "source": [
        "# get the testdata\n",
        "testImgs   = getData(testPath, testImgsFile)\n",
        "testLabels = getData(testPath, testLabelsFile)"
      ],
      "execution_count": 11,
      "outputs": []
    },
    {
      "cell_type": "code",
      "metadata": {
        "colab": {
          "base_uri": "https://localhost:8080/"
        },
        "id": "cJg2fDdHqDEr",
        "outputId": "8e602a44-e3af-4763-acc4-803b46ae067b"
      },
      "source": [
        "model.evaluate(testImgs, testLabels)"
      ],
      "execution_count": 12,
      "outputs": [
        {
          "output_type": "stream",
          "text": [
            "617/617 [==============================] - 19s 30ms/sample - loss: 0.0528 - iou_score: 0.1357 - accuracy: 0.9823\n"
          ],
          "name": "stdout"
        },
        {
          "output_type": "execute_result",
          "data": {
            "text/plain": [
              "[0.05282980283326809, 0.13566175, 0.98230314]"
            ]
          },
          "metadata": {
            "tags": []
          },
          "execution_count": 12
        }
      ]
    },
    {
      "cell_type": "code",
      "metadata": {
        "id": "4kBp5pC4qe3j"
      },
      "source": [
        "# save the model weights\n",
        "weightFileName = \"UResNet152_30e_16b.h5\"\n",
        "weightPath = '/content/drive/My Drive/Underwater_Segmentation_Research/Weights/UNET'\n",
        "model.save_weights(weightPath + \"/\" + weightFileName)\n"
      ],
      "execution_count": 13,
      "outputs": []
    },
    {
      "cell_type": "code",
      "metadata": {
        "colab": {
          "base_uri": "https://localhost:8080/"
        },
        "id": "O0ktWQ4lsyxv",
        "outputId": "8d521b1d-0021-4ca2-8ed7-33788ddcf11c"
      },
      "source": [
        "model.load_weights(weightPath + \"/\" + weightFileName)\n",
        "model.evaluate(testImgs, testLabels)"
      ],
      "execution_count": 14,
      "outputs": [
        {
          "output_type": "stream",
          "text": [
            "617/617 [==============================] - 9s 15ms/sample - loss: 0.0528 - iou_score: 0.1357 - accuracy: 0.9823\n"
          ],
          "name": "stdout"
        },
        {
          "output_type": "execute_result",
          "data": {
            "text/plain": [
              "[0.05282980283326809, 0.13566175, 0.98230314]"
            ]
          },
          "metadata": {
            "tags": []
          },
          "execution_count": 14
        }
      ]
    },
    {
      "cell_type": "code",
      "metadata": {
        "id": "QOgVsGZjLkeM"
      },
      "source": [
        ""
      ],
      "execution_count": null,
      "outputs": []
    },
    {
      "cell_type": "code",
      "metadata": {
        "colab": {
          "base_uri": "https://localhost:8080/"
        },
        "id": "SF0gF5Otuac9",
        "outputId": "b2d3bb27-9e7f-43ec-8285-0d3ce596fb4d"
      },
      "source": [
        "modelFileName = \"UResNet152_30e_16b\"\n",
        "modelPath     = '/content/drive/My Drive/Underwater_Segmentation_Research/Models/Unet'\n",
        "model.save(modelPath + \"/\" + modelFileName)"
      ],
      "execution_count": 15,
      "outputs": [
        {
          "output_type": "stream",
          "text": [
            "WARNING:tensorflow:From /usr/local/lib/python3.7/dist-packages/tensorflow_core/python/ops/resource_variable_ops.py:1786: calling BaseResourceVariable.__init__ (from tensorflow.python.ops.resource_variable_ops) with constraint is deprecated and will be removed in a future version.\n",
            "Instructions for updating:\n",
            "If using Keras pass *_constraint arguments to layers.\n",
            "INFO:tensorflow:Assets written to: /content/drive/My Drive/Underwater_Segmentation_Research/Models/Unet/UResNet152_30e_16b/assets\n"
          ],
          "name": "stdout"
        }
      ]
    },
    {
      "cell_type": "markdown",
      "metadata": {
        "id": "lKrNMQRz35ed"
      },
      "source": [
        ""
      ]
    },
    {
      "cell_type": "code",
      "metadata": {
        "colab": {
          "base_uri": "https://localhost:8080/"
        },
        "id": "8g2JByQRvjc3",
        "outputId": "870fde1c-08a6-45d4-ccdf-07458e6c91d0"
      },
      "source": [
        "# Check the GPU configuration\n",
        "!nvidia-smi"
      ],
      "execution_count": 16,
      "outputs": [
        {
          "output_type": "stream",
          "text": [
            "Tue Mar 30 07:53:33 2021       \n",
            "+-----------------------------------------------------------------------------+\n",
            "| NVIDIA-SMI 460.56       Driver Version: 460.32.03    CUDA Version: 11.2     |\n",
            "|-------------------------------+----------------------+----------------------+\n",
            "| GPU  Name        Persistence-M| Bus-Id        Disp.A | Volatile Uncorr. ECC |\n",
            "| Fan  Temp  Perf  Pwr:Usage/Cap|         Memory-Usage | GPU-Util  Compute M. |\n",
            "|                               |                      |               MIG M. |\n",
            "|===============================+======================+======================|\n",
            "|   0  Tesla T4            Off  | 00000000:00:04.0 Off |                    0 |\n",
            "| N/A   73C    P0    32W /  70W |   8802MiB / 15109MiB |      0%      Default |\n",
            "|                               |                      |                  N/A |\n",
            "+-------------------------------+----------------------+----------------------+\n",
            "                                                                               \n",
            "+-----------------------------------------------------------------------------+\n",
            "| Processes:                                                                  |\n",
            "|  GPU   GI   CI        PID   Type   Process name                  GPU Memory |\n",
            "|        ID   ID                                                   Usage      |\n",
            "|=============================================================================|\n",
            "+-----------------------------------------------------------------------------+\n"
          ],
          "name": "stdout"
        }
      ]
    },
    {
      "cell_type": "code",
      "metadata": {
        "id": "5N3b-uUEwaZ2"
      },
      "source": [
        "# check the outputs here\n",
        "outputs = model.predict(testImgs)"
      ],
      "execution_count": 17,
      "outputs": []
    },
    {
      "cell_type": "code",
      "metadata": {
        "colab": {
          "base_uri": "https://localhost:8080/",
          "height": 269
        },
        "id": "oRL028hYwnR-",
        "outputId": "e6f3b258-b0e7-4d54-b995-7b345fa188ef"
      },
      "source": [
        "import matplotlib.pyplot as plt\n",
        "\n",
        "img = outputs[0,:,:,0]\n",
        "plt.imshow(img)\n",
        "plt.show()"
      ],
      "execution_count": 18,
      "outputs": [
        {
          "output_type": "display_data",
          "data": {
            "image/png": "[encoded data removed]",
            "text/plain": [
              "<Figure size 432x288 with 1 Axes>"
            ]
          },
          "metadata": {
            "tags": [],
            "needs_background": "light"
          }
        }
      ]
    },
    {
      "cell_type": "code",
      "metadata": {
        "id": "exi7mUblK4-s"
      },
      "source": [
        "outputs = None\n",
        "testImgs = None\n",
        "testLabels = None"
      ],
      "execution_count": 37,
      "outputs": []
    }
  ]
}