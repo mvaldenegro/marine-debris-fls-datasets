{
  "nbformat": 4,
  "nbformat_minor": 0,
  "metadata": {
    "colab": {
      "name": "UResNet34.ipynb",
      "provenance": []
    },
    "kernelspec": {
      "name": "python3",
      "display_name": "Python 3"
    },
    "language_info": {
      "name": "python"
    },
    "accelerator": "GPU"
  },
  "cells": [
    {
      "cell_type": "code",
      "metadata": {
        "id": "GmErIJJtXgxr"
      },
      "source": [
        "# Unet with ResNet 34 for multiclass semantic segmentation\n",
        "!pip install tensorflow==2.1.0"
      ],
      "execution_count": null,
      "outputs": []
    },
    {
      "cell_type": "code",
      "metadata": {
        "id": "E05RxVTVawRq"
      },
      "source": [
        "!pip install segmentation-models"
      ],
      "execution_count": null,
      "outputs": []
    },
    {
      "cell_type": "code",
      "metadata": {
        "id": "KGcItvZUbw6S"
      },
      "source": [
        "# mount google drive here\n",
        "from google.colab import drive\n",
        "drive.mount('/content/drive')"
      ],
      "execution_count": null,
      "outputs": []
    },
    {
      "cell_type": "code",
      "metadata": {
        "id": "OVkZ3Rt_cBIJ"
      },
      "source": [
        "# Fetch the training, validation and testing dataset\n",
        "import os\n",
        "import numpy as np\n",
        "\n",
        "dataPath  = '/content/drive/My Drive/Underwater_Segmentation_Research/Data'\n",
        "\n",
        "trainPath =  dataPath + '/Train'\n",
        "testPath  =  dataPath + '/Test'\n",
        "valPath   =  dataPath + '/Validate'\n",
        "\n",
        "trainImgsFile   = 'trainingDataImgs.npy'\n",
        "trainLabelsFile = 'trainingDataLabels.npy'\n",
        "\n",
        "testImgsFile    = 'testingDataImgs.npy'\n",
        "testLabelsFile  = 'testingDataLabels.npy'\n",
        "\n",
        "valImgsFile     = 'validationDataImgs.npy'\n",
        "valLabelsFile   = 'validationDataLabels.npy'\n",
        "\n",
        "def getData(path,fileName):\n",
        "  return np.load(path + \"/\" + fileName)\n",
        "\n",
        "trainImgs = getData(trainPath, trainImgsFile)\n",
        "trainLabels = getData(trainPath, trainLabelsFile)\n",
        "\n",
        "testImgs   = getData(testPath, testImgsFile)\n",
        "testLabels = getData(testPath, testLabelsFile)\n",
        "\n",
        "valImgs    = getData(valPath, valImgsFile)\n",
        "valLabels  = getData(valPath, valLabelsFile)\n",
        "\n",
        "print(\"Got train, test and validation data\")\n",
        "print(trainImgs.shape, testImgs.shape, valImgs.shape)\n",
        "print(trainLabels.shape, testLabels.shape, valLabels.shape)"
      ],
      "execution_count": null,
      "outputs": []
    },
    {
      "cell_type": "code",
      "metadata": {
        "id": "UYzc3jDWbN78"
      },
      "source": [
        "# Create the model (without pre-trained ImageNet weights)\n",
        "# BATCH_SIZE = 16\n",
        "# EPOCHS     = 20 (use early stopping as well to avoid overfitting (and store the epochs till then))\n",
        "import os\n",
        "import numpy as np\n",
        "import segmentation_models as sm\n",
        "\n",
        "# create the model\n",
        "model = sm.Unet('resnet34', input_shape=(480, 320, 1), encoder_weights=None, classes=12, activation='softmax')\n",
        "model.summary()\n"
      ],
      "execution_count": null,
      "outputs": []
    },
    {
      "cell_type": "code",
      "metadata": {
        "id": "xrrWR34igCv-"
      },
      "source": [
        "# Compile the model with loss function, optimizer and metric\n",
        "import tensorflow as tf\n",
        "LOSS=tf.keras.losses.SparseCategoricalCrossentropy(from_logits=True)\n",
        "\n",
        "model.compile(\n",
        "    'Adam',\n",
        "    loss='sparse_categorical_crossentropy',\n",
        "    metrics=[sm.metrics.iou_score],\n",
        ")"
      ],
      "execution_count": 29,
      "outputs": []
    },
    {
      "cell_type": "code",
      "metadata": {
        "id": "t64j7531gnFX"
      },
      "source": [
        "# Setup training parameters\n",
        "BATCH = 16\n",
        "EPOCHS = 30\n",
        "\n",
        "# early stopping callback. It stops training when the loss does not change for 3 consecutive epochs\n",
        "callback = tf.keras.callbacks.EarlyStopping(monitor='loss', patience=3)"
      ],
      "execution_count": 18,
      "outputs": []
    },
    {
      "cell_type": "code",
      "metadata": {
        "colab": {
          "base_uri": "https://localhost:8080/"
        },
        "id": "BvvTmwzIhBvw",
        "outputId": "c4d0a5f8-202c-423b-ae6f-3cbdef524cff"
      },
      "source": [
        "# Start training the model\n",
        "\n",
        "# change the label type to float32\n",
        "# tf.cast(trainLabels, tf.float32)\n",
        "# tf.cast(trainImgs, tf.float32)\n",
        "# tf.cast(valLabels, tf.float32)\n",
        "# tf.cast(valImgs, tf.float32)\n",
        "\n",
        "history = model.fit(trainImgs, trainLabels, epochs=EPOCHS, batch_size=BATCH, validation_data=(valImgs, valLabels))"
      ],
      "execution_count": 30,
      "outputs": [
        {
          "output_type": "stream",
          "text": [
            "Train on 1000 samples, validate on 251 samples\n",
            "Epoch 1/30\n",
            "1000/1000 [==============================] - 61s 61ms/sample - loss: 0.6206 - iou_score: 0.0525 - val_loss: 0.6162 - val_iou_score: 0.0259\n",
            "Epoch 2/30\n",
            "1000/1000 [==============================] - 41s 41ms/sample - loss: 0.1383 - iou_score: 0.0617 - val_loss: 0.6449 - val_iou_score: 0.0266\n",
            "Epoch 3/30\n",
            "1000/1000 [==============================] - 41s 41ms/sample - loss: 0.1073 - iou_score: 0.0756 - val_loss: 0.5417 - val_iou_score: 0.0299\n",
            "Epoch 4/30\n",
            "1000/1000 [==============================] - 41s 41ms/sample - loss: 0.0919 - iou_score: 0.0798 - val_loss: 0.6726 - val_iou_score: 0.0585\n",
            "Epoch 5/30\n",
            "1000/1000 [==============================] - 41s 41ms/sample - loss: 0.0762 - iou_score: 0.0894 - val_loss: 0.2226 - val_iou_score: 0.0872\n",
            "Epoch 6/30\n",
            "1000/1000 [==============================] - 41s 41ms/sample - loss: 0.0671 - iou_score: 0.0960 - val_loss: 0.3933 - val_iou_score: 0.0822\n",
            "Epoch 7/30\n",
            "1000/1000 [==============================] - 41s 41ms/sample - loss: 0.0590 - iou_score: 0.1008 - val_loss: 0.1341 - val_iou_score: 0.0890\n",
            "Epoch 8/30\n",
            "1000/1000 [==============================] - 41s 41ms/sample - loss: 0.0551 - iou_score: 0.1012 - val_loss: 0.0924 - val_iou_score: 0.1367\n",
            "Epoch 9/30\n",
            "1000/1000 [==============================] - 41s 41ms/sample - loss: 0.0524 - iou_score: 0.1023 - val_loss: 0.0966 - val_iou_score: 0.1409\n",
            "Epoch 10/30\n",
            "1000/1000 [==============================] - 41s 41ms/sample - loss: 0.0438 - iou_score: 0.1106 - val_loss: 0.0486 - val_iou_score: 0.1019\n",
            "Epoch 11/30\n",
            "1000/1000 [==============================] - 41s 41ms/sample - loss: 0.0429 - iou_score: 0.1088 - val_loss: 0.0836 - val_iou_score: 0.1059\n",
            "Epoch 12/30\n",
            "1000/1000 [==============================] - 41s 41ms/sample - loss: 0.0422 - iou_score: 0.1088 - val_loss: 0.0548 - val_iou_score: 0.1222\n",
            "Epoch 13/30\n",
            "1000/1000 [==============================] - 41s 41ms/sample - loss: 0.0375 - iou_score: 0.1108 - val_loss: 0.0716 - val_iou_score: 0.1465\n",
            "Epoch 14/30\n",
            "1000/1000 [==============================] - 41s 41ms/sample - loss: 0.0348 - iou_score: 0.1136 - val_loss: 0.0406 - val_iou_score: 0.1161\n",
            "Epoch 15/30\n",
            "1000/1000 [==============================] - 41s 41ms/sample - loss: 0.0318 - iou_score: 0.1133 - val_loss: 0.0337 - val_iou_score: 0.1426\n",
            "Epoch 16/30\n",
            "1000/1000 [==============================] - 41s 41ms/sample - loss: 0.0297 - iou_score: 0.1181 - val_loss: 0.0311 - val_iou_score: 0.1235\n",
            "Epoch 17/30\n",
            "1000/1000 [==============================] - 41s 41ms/sample - loss: 0.0287 - iou_score: 0.1176 - val_loss: 0.0333 - val_iou_score: 0.1253\n",
            "Epoch 18/30\n",
            "1000/1000 [==============================] - 41s 41ms/sample - loss: 0.0259 - iou_score: 0.1187 - val_loss: 0.0289 - val_iou_score: 0.1332\n",
            "Epoch 19/30\n",
            "1000/1000 [==============================] - 41s 41ms/sample - loss: 0.0244 - iou_score: 0.1213 - val_loss: 0.0307 - val_iou_score: 0.1157\n",
            "Epoch 20/30\n",
            "1000/1000 [==============================] - 41s 41ms/sample - loss: 0.0256 - iou_score: 0.1209 - val_loss: 0.0954 - val_iou_score: 0.1167\n",
            "Epoch 21/30\n",
            "1000/1000 [==============================] - 41s 41ms/sample - loss: 0.0371 - iou_score: 0.1079 - val_loss: 0.1839 - val_iou_score: 0.0796\n",
            "Epoch 22/30\n",
            "1000/1000 [==============================] - 41s 41ms/sample - loss: 0.0277 - iou_score: 0.1167 - val_loss: 0.0332 - val_iou_score: 0.1154\n",
            "Epoch 23/30\n",
            "1000/1000 [==============================] - 41s 41ms/sample - loss: 0.0244 - iou_score: 0.1204 - val_loss: 0.0301 - val_iou_score: 0.1429\n",
            "Epoch 24/30\n",
            "1000/1000 [==============================] - 41s 41ms/sample - loss: 0.0248 - iou_score: 0.1206 - val_loss: 0.0711 - val_iou_score: 0.0797\n",
            "Epoch 25/30\n",
            "1000/1000 [==============================] - 41s 41ms/sample - loss: 0.0271 - iou_score: 0.1190 - val_loss: 0.0322 - val_iou_score: 0.1341\n",
            "Epoch 26/30\n",
            "1000/1000 [==============================] - 41s 41ms/sample - loss: 0.0234 - iou_score: 0.1197 - val_loss: 0.0285 - val_iou_score: 0.1422\n",
            "Epoch 27/30\n",
            "1000/1000 [==============================] - 41s 41ms/sample - loss: 0.0227 - iou_score: 0.1235 - val_loss: 0.0312 - val_iou_score: 0.1198\n",
            "Epoch 28/30\n",
            "1000/1000 [==============================] - 41s 41ms/sample - loss: 0.0222 - iou_score: 0.1225 - val_loss: 0.0279 - val_iou_score: 0.1379\n",
            "Epoch 29/30\n",
            "1000/1000 [==============================] - 41s 41ms/sample - loss: 0.0219 - iou_score: 0.1232 - val_loss: 0.0286 - val_iou_score: 0.1325\n",
            "Epoch 30/30\n",
            "1000/1000 [==============================] - 41s 41ms/sample - loss: 0.0205 - iou_score: 0.1262 - val_loss: 0.0295 - val_iou_score: 0.1266\n"
          ],
          "name": "stdout"
        }
      ]
    },
    {
      "cell_type": "code",
      "metadata": {
        "id": "5ymxrY3gpSBh",
        "outputId": "b5651ce0-b882-452f-afa1-4135e62e4c7f",
        "colab": {
          "base_uri": "https://localhost:8080/",
          "height": 303
        }
      },
      "source": [
        "#  Plot the results\n",
        "\n",
        "print(history.history.keys())\n",
        "\n",
        "import matplotlib.pyplot as plt\n",
        "plt.plot(history.history['loss'])\n",
        "plt.plot(history.history['val_loss'])print(history.history.keys())"
      ],
      "execution_count": 35,
      "outputs": [
        {
          "output_type": "stream",
          "text": [
            "dict_keys(['loss', 'iou_score', 'val_loss', 'val_iou_score'])\n"
          ],
          "name": "stdout"
        },
        {
          "output_type": "execute_result",
          "data": {
            "text/plain": [
              "[<matplotlib.lines.Line2D at 0x7fd6b4066690>]"
            ]
          },
          "metadata": {
            "tags": []
          },
          "execution_count": 35
        },
        {
          "output_type": "display_data",
          "data": {
            "image/png": "[encoded data removed]",
            "text/plain": [
              "<Figure size 432x288 with 1 Axes>"
            ]
          },
          "metadata": {
            "tags": [],
            "needs_background": "light"
          }
        }
      ]
    },
    {
      "cell_type": "code",
      "metadata": {
        "id": "BOfjAUaKp213",
        "outputId": "2dd748f6-ab27-4685-b0ac-0dddfaec928e",
        "colab": {
          "base_uri": "https://localhost:8080/",
          "height": 282
        }
      },
      "source": [
        "plt.plot(history.history['iou_score'])\n",
        "plt.plot(history.history['val_iou_score'])"
      ],
      "execution_count": 36,
      "outputs": [
        {
          "output_type": "execute_result",
          "data": {
            "text/plain": [
              "[<matplotlib.lines.Line2D at 0x7fd649da8e50>]"
            ]
          },
          "metadata": {
            "tags": []
          },
          "execution_count": 36
        },
        {
          "output_type": "display_data",
          "data": {
            "image/png": "[encoded data removed]",
            "text/plain": [
              "<Figure size 432x288 with 1 Axes>"
            ]
          },
          "metadata": {
            "tags": [],
            "needs_background": "light"
          }
        }
      ]
    },
    {
      "cell_type": "code",
      "metadata": {
        "id": "cJg2fDdHqDEr",
        "outputId": "baad5978-dada-4722-8b1e-842381a81862",
        "colab": {
          "base_uri": "https://localhost:8080/"
        }
      },
      "source": [
        "model.evaluate(testImgs, testLabels)"
      ],
      "execution_count": 37,
      "outputs": [
        {
          "output_type": "stream",
          "text": [
            "617/617 [==============================] - 11s 17ms/sample - loss: 0.0256 - iou_score: 0.1268\n"
          ],
          "name": "stdout"
        },
        {
          "output_type": "execute_result",
          "data": {
            "text/plain": [
              "[0.0256048204917672, 0.12681577]"
            ]
          },
          "metadata": {
            "tags": []
          },
          "execution_count": 37
        }
      ]
    },
    {
      "cell_type": "code",
      "metadata": {
        "id": "4kBp5pC4qe3j"
      },
      "source": [
        "# save the model weights\n",
        "weightFileName = \"UResNet34_30e_16b.h5\"\n",
        "weightPath = '/content/drive/My Drive/Underwater_Segmentation_Research/Weights/UNET'\n",
        "model.save_weights(weightPath + \"/\" + weightFileName)\n"
      ],
      "execution_count": 42,
      "outputs": []
    },
    {
      "cell_type": "code",
      "metadata": {
        "id": "O0ktWQ4lsyxv",
        "outputId": "31db9794-61bb-4be1-e63e-11bec108eb67",
        "colab": {
          "base_uri": "https://localhost:8080/"
        }
      },
      "source": [
        "model.load_weights(weightPath + \"/\" + weightFileName)\n",
        "model.evaluate(testImgs, testLabels)"
      ],
      "execution_count": 44,
      "outputs": [
        {
          "output_type": "stream",
          "text": [
            "617/617 [==============================] - 6s 10ms/sample - loss: 0.0256 - iou_score: 0.1268\n"
          ],
          "name": "stdout"
        },
        {
          "output_type": "execute_result",
          "data": {
            "text/plain": [
              "[0.0256048204917672, 0.12681577]"
            ]
          },
          "metadata": {
            "tags": []
          },
          "execution_count": 44
        }
      ]
    }
  ]
}