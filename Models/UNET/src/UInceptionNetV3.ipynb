{
  "nbformat": 4,
  "nbformat_minor": 0,
  "metadata": {
    "colab": {
      "name": "UInceptionNetV3.ipynb",
      "provenance": []
    },
    "kernelspec": {
      "name": "python3",
      "display_name": "Python 3"
    },
    "language_info": {
      "name": "python"
    },
    "accelerator": "GPU"
  },
  "cells": [
    {
      "cell_type": "code",
      "metadata": {
        "id": "GmErIJJtXgxr"
      },
      "source": [
        "# Unet with ResNet 34 for multiclass semantic segmentation\n",
        "!pip install tensorflow==2.1.0"
      ],
      "execution_count": null,
      "outputs": []
    },
    {
      "cell_type": "code",
      "metadata": {
        "id": "E05RxVTVawRq"
      },
      "source": [
        "!pip install segmentation-models"
      ],
      "execution_count": null,
      "outputs": []
    },
    {
      "cell_type": "code",
      "metadata": {
        "id": "KGcItvZUbw6S",
        "colab": {
          "base_uri": "https://localhost:8080/"
        },
        "outputId": "c00b714a-79fb-4b5d-fc3e-7a865c8a7f77"
      },
      "source": [
        "# mount google drive here\n",
        "from google.colab import drive\n",
        "drive.mount('/content/drive')"
      ],
      "execution_count": 3,
      "outputs": [
        {
          "output_type": "stream",
          "text": [
            "Mounted at /content/drive\n"
          ],
          "name": "stdout"
        }
      ]
    },
    {
      "cell_type": "code",
      "metadata": {
        "colab": {
          "base_uri": "https://localhost:8080/"
        },
        "id": "OVkZ3Rt_cBIJ",
        "outputId": "f8ece224-4de9-4c86-e299-e2dfc6b26ffc"
      },
      "source": [
        "# Fetch the training, validation and testing dataset\n",
        "import os\n",
        "import numpy as np\n",
        "\n",
        "dataPath  = '/content/drive/My Drive/Underwater_Segmentation_Research/Data'\n",
        "\n",
        "trainPath =  dataPath + '/Train'\n",
        "testPath  =  dataPath + '/Test'\n",
        "valPath   =  dataPath + '/Validate'\n",
        "\n",
        "trainImgsFile   = 'trainingDataImgs.npy'\n",
        "trainLabelsFile = 'trainingDataLabels.npy'\n",
        "\n",
        "testImgsFile    = 'testingDataImgs.npy'\n",
        "testLabelsFile  = 'testingDataLabels.npy'\n",
        "\n",
        "valImgsFile     = 'validationDataImgs.npy'\n",
        "valLabelsFile   = 'validationDataLabels.npy'\n",
        "\n",
        "def getData(path,fileName):\n",
        "  return np.load(path + \"/\" + fileName)\n",
        "\n",
        "trainImgs = getData(trainPath, trainImgsFile)\n",
        "trainLabels = getData(trainPath, trainLabelsFile)\n",
        "\n",
        "#testImgs   = getData(testPath, testImgsFile)\n",
        "#testLabels = getData(testPath, testLabelsFile)\n",
        "\n",
        "valImgs    = getData(valPath, valImgsFile)\n",
        "valLabels  = getData(valPath, valLabelsFile)\n",
        "\n",
        "print(\"Got train and validation data\")\n",
        "print(trainImgs.shape, valImgs.shape)\n",
        "print(trainLabels.shape, valLabels.shape)"
      ],
      "execution_count": 1,
      "outputs": [
        {
          "output_type": "stream",
          "text": [
            "Got train and validation data\n",
            "(1000, 480, 320, 1) (251, 480, 320, 1)\n",
            "(1000, 480, 320, 1) (251, 480, 320, 1)\n"
          ],
          "name": "stdout"
        }
      ]
    },
    {
      "cell_type": "code",
      "metadata": {
        "id": "UYzc3jDWbN78"
      },
      "source": [
        "# Create the model (without pre-trained ImageNet weights)\n",
        "# BATCH_SIZE = 16\n",
        "# EPOCHS     = 20 (use early stopping as well to avoid overfitting (and store the epochs till then))\n",
        "import os\n",
        "import numpy as np\n",
        "import segmentation_models as sm\n",
        "\n",
        "# create the model\n",
        "model = sm.Unet('inceptionv3', input_shape=(480, 320, 1), encoder_weights=None, classes=12, activation='softmax')\n",
        "model.summary()\n"
      ],
      "execution_count": null,
      "outputs": []
    },
    {
      "cell_type": "code",
      "metadata": {
        "id": "xrrWR34igCv-"
      },
      "source": [
        "# Compile the model with loss function, optimizer and metric\n",
        "import tensorflow as tf\n",
        "LOSS=tf.keras.losses.SparseCategoricalCrossentropy(from_logits=True)\n",
        "\n",
        "model.compile(\n",
        "    'Adam',\n",
        "    loss='sparse_categorical_crossentropy',\n",
        "    metrics=[sm.metrics.iou_score,'accuracy'],\n",
        ")"
      ],
      "execution_count": 3,
      "outputs": []
    },
    {
      "cell_type": "code",
      "metadata": {
        "id": "t64j7531gnFX"
      },
      "source": [
        "# Setup training parameters\n",
        "BATCH = 16\n",
        "EPOCHS = 30\n",
        "\n",
        "# early stopping callback. It stops training when the loss does not change for 3 consecutive epochs\n",
        "callback = tf.keras.callbacks.EarlyStopping(monitor='loss', patience=3)"
      ],
      "execution_count": 4,
      "outputs": []
    },
    {
      "cell_type": "code",
      "metadata": {
        "colab": {
          "base_uri": "https://localhost:8080/"
        },
        "id": "BvvTmwzIhBvw",
        "outputId": "059050ba-79f6-4416-f2d5-d82771f0e1d5"
      },
      "source": [
        "# Start training the model\n",
        "\n",
        "# change the label type to float32\n",
        "# tf.cast(trainLabels, tf.float32)\n",
        "# tf.cast(trainImgs, tf.float32)\n",
        "# tf.cast(valLabels, tf.float32)\n",
        "# tf.cast(valImgs, tf.float32)\n",
        "\n",
        "history = model.fit(trainImgs, trainLabels, epochs=EPOCHS, batch_size=BATCH, validation_data=(valImgs, valLabels))"
      ],
      "execution_count": 5,
      "outputs": [
        {
          "output_type": "stream",
          "text": [
            "Train on 1000 samples, validate on 251 samples\n",
            "Epoch 1/30\n",
            "1000/1000 [==============================] - 46s 46ms/sample - loss: 0.8332 - iou_score: 0.0647 - accuracy: 0.8629 - val_loss: 6.3765 - val_iou_score: 0.0489 - val_accuracy: 0.4532\n",
            "Epoch 2/30\n",
            "1000/1000 [==============================] - 31s 31ms/sample - loss: 0.1307 - iou_score: 0.0779 - accuracy: 0.9723 - val_loss: 0.5537 - val_iou_score: 0.1167 - val_accuracy: 0.9235\n",
            "Epoch 3/30\n",
            "1000/1000 [==============================] - 31s 31ms/sample - loss: 0.0945 - iou_score: 0.0929 - accuracy: 0.9766 - val_loss: 0.2623 - val_iou_score: 0.0961 - val_accuracy: 0.9413\n",
            "Epoch 4/30\n",
            "1000/1000 [==============================] - 31s 31ms/sample - loss: 0.0916 - iou_score: 0.0867 - accuracy: 0.9758 - val_loss: 0.1510 - val_iou_score: 0.0465 - val_accuracy: 0.9686\n",
            "Epoch 5/30\n",
            "1000/1000 [==============================] - 31s 31ms/sample - loss: 0.0721 - iou_score: 0.0974 - accuracy: 0.9798 - val_loss: 0.1010 - val_iou_score: 0.1024 - val_accuracy: 0.9794\n",
            "Epoch 6/30\n",
            "1000/1000 [==============================] - 31s 31ms/sample - loss: 0.0656 - iou_score: 0.1009 - accuracy: 0.9810 - val_loss: 0.0984 - val_iou_score: 0.1240 - val_accuracy: 0.9768\n",
            "Epoch 7/30\n",
            "1000/1000 [==============================] - 31s 31ms/sample - loss: 0.0571 - iou_score: 0.1042 - accuracy: 0.9825 - val_loss: 0.0679 - val_iou_score: 0.1061 - val_accuracy: 0.9824\n",
            "Epoch 8/30\n",
            "1000/1000 [==============================] - 31s 31ms/sample - loss: 0.0498 - iou_score: 0.1119 - accuracy: 0.9842 - val_loss: 0.0824 - val_iou_score: 0.0851 - val_accuracy: 0.9809\n",
            "Epoch 9/30\n",
            "1000/1000 [==============================] - 31s 31ms/sample - loss: 0.0434 - iou_score: 0.1145 - accuracy: 0.9859 - val_loss: 0.0466 - val_iou_score: 0.1423 - val_accuracy: 0.9856\n",
            "Epoch 10/30\n",
            "1000/1000 [==============================] - 31s 31ms/sample - loss: 0.0521 - iou_score: 0.1011 - accuracy: 0.9836 - val_loss: 2.2634 - val_iou_score: 0.0502 - val_accuracy: 0.5016\n",
            "Epoch 11/30\n",
            "1000/1000 [==============================] - 31s 31ms/sample - loss: 0.0401 - iou_score: 0.1119 - accuracy: 0.9866 - val_loss: 0.0776 - val_iou_score: 0.1293 - val_accuracy: 0.9752\n",
            "Epoch 12/30\n",
            "1000/1000 [==============================] - 31s 31ms/sample - loss: 0.0385 - iou_score: 0.1120 - accuracy: 0.9870 - val_loss: 0.1795 - val_iou_score: 0.0446 - val_accuracy: 0.9702\n",
            "Epoch 13/30\n",
            "1000/1000 [==============================] - 31s 31ms/sample - loss: 0.0386 - iou_score: 0.1119 - accuracy: 0.9866 - val_loss: 0.0552 - val_iou_score: 0.1347 - val_accuracy: 0.9847\n",
            "Epoch 14/30\n",
            "1000/1000 [==============================] - 31s 31ms/sample - loss: 0.0349 - iou_score: 0.1147 - accuracy: 0.9877 - val_loss: 0.0563 - val_iou_score: 0.1396 - val_accuracy: 0.9795\n",
            "Epoch 15/30\n",
            "1000/1000 [==============================] - 31s 31ms/sample - loss: 0.0327 - iou_score: 0.1176 - accuracy: 0.9880 - val_loss: 0.0381 - val_iou_score: 0.1345 - val_accuracy: 0.9877\n",
            "Epoch 16/30\n",
            "1000/1000 [==============================] - 31s 31ms/sample - loss: 0.0309 - iou_score: 0.1191 - accuracy: 0.9888 - val_loss: 0.0348 - val_iou_score: 0.1133 - val_accuracy: 0.9889\n",
            "Epoch 17/30\n",
            "1000/1000 [==============================] - 31s 31ms/sample - loss: 0.0291 - iou_score: 0.1195 - accuracy: 0.9893 - val_loss: 0.0381 - val_iou_score: 0.1409 - val_accuracy: 0.9883\n",
            "Epoch 18/30\n",
            "1000/1000 [==============================] - 31s 31ms/sample - loss: 0.0273 - iou_score: 0.1207 - accuracy: 0.9903 - val_loss: 0.0371 - val_iou_score: 0.1187 - val_accuracy: 0.9881\n",
            "Epoch 19/30\n",
            "1000/1000 [==============================] - 31s 31ms/sample - loss: 0.0258 - iou_score: 0.1200 - accuracy: 0.9905 - val_loss: 0.0314 - val_iou_score: 0.1193 - val_accuracy: 0.9898\n",
            "Epoch 20/30\n",
            "1000/1000 [==============================] - 31s 31ms/sample - loss: 0.0245 - iou_score: 0.1213 - accuracy: 0.9911 - val_loss: 0.0337 - val_iou_score: 0.1162 - val_accuracy: 0.9895\n",
            "Epoch 21/30\n",
            "1000/1000 [==============================] - 31s 31ms/sample - loss: 0.0315 - iou_score: 0.1136 - accuracy: 0.9887 - val_loss: 0.0815 - val_iou_score: 0.0825 - val_accuracy: 0.9782\n",
            "Epoch 22/30\n",
            "1000/1000 [==============================] - 31s 31ms/sample - loss: 0.0269 - iou_score: 0.1167 - accuracy: 0.9902 - val_loss: 0.0331 - val_iou_score: 0.1319 - val_accuracy: 0.9893\n",
            "Epoch 23/30\n",
            "1000/1000 [==============================] - 31s 31ms/sample - loss: 0.0233 - iou_score: 0.1225 - accuracy: 0.9914 - val_loss: 0.0431 - val_iou_score: 0.0971 - val_accuracy: 0.9873\n",
            "Epoch 24/30\n",
            "1000/1000 [==============================] - 31s 31ms/sample - loss: 0.0220 - iou_score: 0.1222 - accuracy: 0.9917 - val_loss: 0.0349 - val_iou_score: 0.1031 - val_accuracy: 0.9889\n",
            "Epoch 25/30\n",
            "1000/1000 [==============================] - 31s 31ms/sample - loss: 0.0220 - iou_score: 0.1232 - accuracy: 0.9918 - val_loss: 0.0326 - val_iou_score: 0.1361 - val_accuracy: 0.9902\n",
            "Epoch 26/30\n",
            "1000/1000 [==============================] - 31s 31ms/sample - loss: 0.0216 - iou_score: 0.1220 - accuracy: 0.9916 - val_loss: 0.0464 - val_iou_score: 0.1448 - val_accuracy: 0.9857\n",
            "Epoch 27/30\n",
            "1000/1000 [==============================] - 31s 31ms/sample - loss: 0.0220 - iou_score: 0.1250 - accuracy: 0.9917 - val_loss: 0.0499 - val_iou_score: 0.1271 - val_accuracy: 0.9859\n",
            "Epoch 28/30\n",
            "1000/1000 [==============================] - 31s 31ms/sample - loss: 0.0221 - iou_score: 0.1247 - accuracy: 0.9916 - val_loss: 0.0446 - val_iou_score: 0.1534 - val_accuracy: 0.9870\n",
            "Epoch 29/30\n",
            "1000/1000 [==============================] - 31s 31ms/sample - loss: 0.0386 - iou_score: 0.1085 - accuracy: 0.9867 - val_loss: 0.5293 - val_iou_score: 0.0932 - val_accuracy: 0.8736\n",
            "Epoch 30/30\n",
            "1000/1000 [==============================] - 31s 31ms/sample - loss: 0.0275 - iou_score: 0.1175 - accuracy: 0.9900 - val_loss: 0.0413 - val_iou_score: 0.1357 - val_accuracy: 0.9878\n"
          ],
          "name": "stdout"
        }
      ]
    },
    {
      "cell_type": "code",
      "metadata": {
        "colab": {
          "base_uri": "https://localhost:8080/",
          "height": 300
        },
        "id": "5ymxrY3gpSBh",
        "outputId": "0040a1d1-60c9-437d-b66c-4f2fdaceed63"
      },
      "source": [
        "#  Plot the results\n",
        "print(history.history.keys())\n",
        "\n",
        "import matplotlib.pyplot as plt\n",
        "plt.plot(history.history['loss'])\n",
        "plt.plot(history.history['val_loss'])"
      ],
      "execution_count": 6,
      "outputs": [
        {
          "output_type": "stream",
          "text": [
            "dict_keys(['loss', 'iou_score', 'accuracy', 'val_loss', 'val_iou_score', 'val_accuracy'])\n"
          ],
          "name": "stdout"
        },
        {
          "output_type": "execute_result",
          "data": {
            "text/plain": [
              "[<matplotlib.lines.Line2D at 0x7fb5a3ff94d0>]"
            ]
          },
          "metadata": {
            "tags": []
          },
          "execution_count": 6
        },
        {
          "output_type": "display_data",
          "data": {
            "image/png": "[encoded data removed]",
            "text/plain": [
              "<Figure size 432x288 with 1 Axes>"
            ]
          },
          "metadata": {
            "tags": [],
            "needs_background": "light"
          }
        }
      ]
    },
    {
      "cell_type": "code",
      "metadata": {
        "colab": {
          "base_uri": "https://localhost:8080/",
          "height": 282
        },
        "id": "BOfjAUaKp213",
        "outputId": "86bfa934-9134-488f-fcef-996f7110d3fe"
      },
      "source": [
        "plt.plot(history.history['iou_score'])\n",
        "plt.plot(history.history['val_iou_score'])"
      ],
      "execution_count": 7,
      "outputs": [
        {
          "output_type": "execute_result",
          "data": {
            "text/plain": [
              "[<matplotlib.lines.Line2D at 0x7fb5a3acddd0>]"
            ]
          },
          "metadata": {
            "tags": []
          },
          "execution_count": 7
        },
        {
          "output_type": "display_data",
          "data": {
            "image/png": "[encoded data removed]",
            "text/plain": [
              "<Figure size 432x288 with 1 Axes>"
            ]
          },
          "metadata": {
            "tags": [],
            "needs_background": "light"
          }
        }
      ]
    },
    {
      "cell_type": "code",
      "metadata": {
        "colab": {
          "base_uri": "https://localhost:8080/",
          "height": 282
        },
        "id": "7m26N2HV-4k-",
        "outputId": "43c1f0e2-f51e-48e9-dbe9-180e4118ff86"
      },
      "source": [
        "plt.plot(history.history['accuracy'])\n",
        "plt.plot(history.history['val_accuracy'])"
      ],
      "execution_count": 8,
      "outputs": [
        {
          "output_type": "execute_result",
          "data": {
            "text/plain": [
              "[<matplotlib.lines.Line2D at 0x7fb5a3a3ec10>]"
            ]
          },
          "metadata": {
            "tags": []
          },
          "execution_count": 8
        },
        {
          "output_type": "display_data",
          "data": {
            "image/png": "[encoded data removed]",
            "text/plain": [
              "<Figure size 432x288 with 1 Axes>"
            ]
          },
          "metadata": {
            "tags": [],
            "needs_background": "light"
          }
        }
      ]
    },
    {
      "cell_type": "code",
      "metadata": {
        "id": "xIs9nAuXJX8F"
      },
      "source": [
        "# get the testdata\n",
        "testImgs   = getData(testPath, testImgsFile)\n",
        "testLabels = getData(testPath, testLabelsFile)"
      ],
      "execution_count": 9,
      "outputs": []
    },
    {
      "cell_type": "code",
      "metadata": {
        "colab": {
          "base_uri": "https://localhost:8080/"
        },
        "id": "cJg2fDdHqDEr",
        "outputId": "899ba267-cf9f-4fee-b0ed-240395fdb53f"
      },
      "source": [
        "model.evaluate(testImgs, testLabels)"
      ],
      "execution_count": 10,
      "outputs": [
        {
          "output_type": "stream",
          "text": [
            "617/617 [==============================] - 8s 12ms/sample - loss: 0.0411 - iou_score: 0.1326 - accuracy: 0.9876\n"
          ],
          "name": "stdout"
        },
        {
          "output_type": "execute_result",
          "data": {
            "text/plain": [
              "[0.04107011770120123, 0.1325557, 0.98757553]"
            ]
          },
          "metadata": {
            "tags": []
          },
          "execution_count": 10
        }
      ]
    },
    {
      "cell_type": "code",
      "metadata": {
        "id": "4kBp5pC4qe3j"
      },
      "source": [
        "# save the model weights\n",
        "weightFileName = \"UInceptionNetV3_30e_16b.h5\"\n",
        "weightPath = '/content/drive/My Drive/Underwater_Segmentation_Research/Weights/UNET'\n",
        "model.save_weights(weightPath + \"/\" + weightFileName)\n"
      ],
      "execution_count": 11,
      "outputs": []
    },
    {
      "cell_type": "code",
      "metadata": {
        "colab": {
          "base_uri": "https://localhost:8080/"
        },
        "id": "O0ktWQ4lsyxv",
        "outputId": "8c7c0f0b-38f0-4a87-97cf-04a46eef2542"
      },
      "source": [
        "model.load_weights(weightPath + \"/\" + weightFileName)\n",
        "model.evaluate(testImgs, testLabels)"
      ],
      "execution_count": 12,
      "outputs": [
        {
          "output_type": "stream",
          "text": [
            "617/617 [==============================] - 5s 9ms/sample - loss: 0.0411 - iou_score: 0.1326 - accuracy: 0.9876\n"
          ],
          "name": "stdout"
        },
        {
          "output_type": "execute_result",
          "data": {
            "text/plain": [
              "[0.04107011770120123, 0.1325557, 0.98757553]"
            ]
          },
          "metadata": {
            "tags": []
          },
          "execution_count": 12
        }
      ]
    },
    {
      "cell_type": "code",
      "metadata": {
        "id": "QOgVsGZjLkeM"
      },
      "source": [
        ""
      ],
      "execution_count": null,
      "outputs": []
    },
    {
      "cell_type": "code",
      "metadata": {
        "colab": {
          "base_uri": "https://localhost:8080/"
        },
        "id": "SF0gF5Otuac9",
        "outputId": "acbe9fcf-e80e-47a1-a5d7-fcfdc144213d"
      },
      "source": [
        "modelFileName = \"UIncpetionNetV3_30e_16b\"\n",
        "modelPath     = '/content/drive/My Drive/Underwater_Segmentation_Research/Models/Unet'\n",
        "model.save(modelPath + \"/\" + modelFileName)"
      ],
      "execution_count": 13,
      "outputs": [
        {
          "output_type": "stream",
          "text": [
            "WARNING:tensorflow:From /usr/local/lib/python3.7/dist-packages/tensorflow_core/python/ops/resource_variable_ops.py:1786: calling BaseResourceVariable.__init__ (from tensorflow.python.ops.resource_variable_ops) with constraint is deprecated and will be removed in a future version.\n",
            "Instructions for updating:\n",
            "If using Keras pass *_constraint arguments to layers.\n",
            "INFO:tensorflow:Assets written to: /content/drive/My Drive/Underwater_Segmentation_Research/Models/Unet/UIncpetionNetV3_30e_16b/assets\n"
          ],
          "name": "stdout"
        }
      ]
    },
    {
      "cell_type": "code",
      "metadata": {
        "colab": {
          "base_uri": "https://localhost:8080/"
        },
        "id": "8g2JByQRvjc3",
        "outputId": "7a41f61f-0610-46d4-99cb-74f572d6e880"
      },
      "source": [
        "# Check the GPU configuration\n",
        "!nvidia-smi"
      ],
      "execution_count": 15,
      "outputs": [
        {
          "output_type": "stream",
          "text": [
            "Tue Mar 30 07:45:55 2021       \n",
            "+-----------------------------------------------------------------------------+\n",
            "| NVIDIA-SMI 460.56       Driver Version: 460.32.03    CUDA Version: 11.2     |\n",
            "|-------------------------------+----------------------+----------------------+\n",
            "| GPU  Name        Persistence-M| Bus-Id        Disp.A | Volatile Uncorr. ECC |\n",
            "| Fan  Temp  Perf  Pwr:Usage/Cap|         Memory-Usage | GPU-Util  Compute M. |\n",
            "|                               |                      |               MIG M. |\n",
            "|===============================+======================+======================|\n",
            "|   0  Tesla P100-PCIE...  Off  | 00000000:00:04.0 Off |                    0 |\n",
            "| N/A   44C    P0    34W / 250W |   8737MiB / 16280MiB |      0%      Default |\n",
            "|                               |                      |                  N/A |\n",
            "+-------------------------------+----------------------+----------------------+\n",
            "                                                                               \n",
            "+-----------------------------------------------------------------------------+\n",
            "| Processes:                                                                  |\n",
            "|  GPU   GI   CI        PID   Type   Process name                  GPU Memory |\n",
            "|        ID   ID                                                   Usage      |\n",
            "|=============================================================================|\n",
            "+-----------------------------------------------------------------------------+\n"
          ],
          "name": "stdout"
        }
      ]
    },
    {
      "cell_type": "code",
      "metadata": {
        "id": "5N3b-uUEwaZ2"
      },
      "source": [
        "# check the outputs here\n",
        "outputs = model.predict(testImgs)"
      ],
      "execution_count": 16,
      "outputs": []
    },
    {
      "cell_type": "code",
      "metadata": {
        "colab": {
          "base_uri": "https://localhost:8080/",
          "height": 269
        },
        "id": "oRL028hYwnR-",
        "outputId": "7a52fd61-9730-4cd6-a3c5-307fdbbb272b"
      },
      "source": [
        "import matplotlib.pyplot as plt\n",
        "\n",
        "img = outputs[0,:,:,0]\n",
        "plt.imshow(img)\n",
        "plt.show()"
      ],
      "execution_count": 17,
      "outputs": [
        {
          "output_type": "display_data",
          "data": {
            "image/png": "[encoded data removed]",
            "text/plain": [
              "<Figure size 432x288 with 1 Axes>"
            ]
          },
          "metadata": {
            "tags": [],
            "needs_background": "light"
          }
        }
      ]
    },
    {
      "cell_type": "code",
      "metadata": {
        "id": "exi7mUblK4-s"
      },
      "source": [
        "outputs = None"
      ],
      "execution_count": null,
      "outputs": []
    }
  ]
}