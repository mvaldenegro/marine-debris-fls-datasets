{
  "nbformat": 4,
  "nbformat_minor": 0,
  "metadata": {
    "colab": {
      "name": "UEfficientNetb2.ipynb",
      "provenance": []
    },
    "kernelspec": {
      "name": "python3",
      "display_name": "Python 3"
    },
    "language_info": {
      "name": "python"
    },
    "accelerator": "GPU"
  },
  "cells": [
    {
      "cell_type": "code",
      "metadata": {
        "id": "GmErIJJtXgxr"
      },
      "source": [
        "# Unet with ResNet 34 for multiclass semantic segmentation\n",
        "!pip install tensorflow==2.1.0"
      ],
      "execution_count": null,
      "outputs": []
    },
    {
      "cell_type": "code",
      "metadata": {
        "id": "E05RxVTVawRq"
      },
      "source": [
        "!pip install segmentation-models"
      ],
      "execution_count": null,
      "outputs": []
    },
    {
      "cell_type": "code",
      "metadata": {
        "id": "KGcItvZUbw6S",
        "colab": {
          "base_uri": "https://localhost:8080/"
        },
        "outputId": "c00b714a-79fb-4b5d-fc3e-7a865c8a7f77"
      },
      "source": [
        "# mount google drive here\n",
        "from google.colab import drive\n",
        "drive.mount('/content/drive')"
      ],
      "execution_count": 3,
      "outputs": [
        {
          "output_type": "stream",
          "text": [
            "Mounted at /content/drive\n"
          ],
          "name": "stdout"
        }
      ]
    },
    {
      "cell_type": "code",
      "metadata": {
        "colab": {
          "base_uri": "https://localhost:8080/"
        },
        "id": "OVkZ3Rt_cBIJ",
        "outputId": "2f339504-5bb0-44ab-f088-e568b002f130"
      },
      "source": [
        "# Fetch the training, validation and testing dataset\n",
        "import os\n",
        "import numpy as np\n",
        "\n",
        "dataPath  = '/content/drive/My Drive/Underwater_Segmentation_Research/Data'\n",
        "\n",
        "trainPath =  dataPath + '/Train'\n",
        "testPath  =  dataPath + '/Test'\n",
        "valPath   =  dataPath + '/Validate'\n",
        "\n",
        "trainImgsFile   = 'trainingDataImgs.npy'\n",
        "trainLabelsFile = 'trainingDataLabels.npy'\n",
        "\n",
        "testImgsFile    = 'testingDataImgs.npy'\n",
        "testLabelsFile  = 'testingDataLabels.npy'\n",
        "\n",
        "valImgsFile     = 'validationDataImgs.npy'\n",
        "valLabelsFile   = 'validationDataLabels.npy'\n",
        "\n",
        "def getData(path,fileName):\n",
        "  return np.load(path + \"/\" + fileName)\n",
        "\n",
        "trainImgs = getData(trainPath, trainImgsFile)\n",
        "trainLabels = getData(trainPath, trainLabelsFile)\n",
        "\n",
        "#testImgs   = getData(testPath, testImgsFile)\n",
        "#testLabels = getData(testPath, testLabelsFile)\n",
        "\n",
        "valImgs    = getData(valPath, valImgsFile)\n",
        "valLabels  = getData(valPath, valLabelsFile)\n",
        "\n",
        "print(\"Got train and validation data\")\n",
        "print(trainImgs.shape, valImgs.shape)\n",
        "print(trainLabels.shape, valLabels.shape)"
      ],
      "execution_count": 1,
      "outputs": [
        {
          "output_type": "stream",
          "text": [
            "Got train and validation data\n",
            "(1000, 480, 320, 1) (251, 480, 320, 1)\n",
            "(1000, 480, 320, 1) (251, 480, 320, 1)\n"
          ],
          "name": "stdout"
        }
      ]
    },
    {
      "cell_type": "code",
      "metadata": {
        "id": "UYzc3jDWbN78"
      },
      "source": [
        "# Create the model (without pre-trained ImageNet weights)\n",
        "# BATCH_SIZE = 16\n",
        "# EPOCHS     = 20 (use early stopping as well to avoid overfitting (and store the epochs till then))\n",
        "import os\n",
        "import numpy as np\n",
        "import segmentation_models as sm\n",
        "\n",
        "# create the model\n",
        "model = sm.Unet('efficientnetb2', input_shape=(480, 320, 1), encoder_weights=None, classes=12, activation='softmax')\n",
        "model.summary()\n"
      ],
      "execution_count": null,
      "outputs": []
    },
    {
      "cell_type": "code",
      "metadata": {
        "id": "xrrWR34igCv-"
      },
      "source": [
        "# Compile the model with loss function, optimizer and metric\n",
        "import tensorflow as tf\n",
        "LOSS=tf.keras.losses.SparseCategoricalCrossentropy(from_logits=True)\n",
        "\n",
        "model.compile(\n",
        "    'Adam',\n",
        "    loss='sparse_categorical_crossentropy',\n",
        "    metrics=[sm.metrics.iou_score,'accuracy'],\n",
        ")"
      ],
      "execution_count": 3,
      "outputs": []
    },
    {
      "cell_type": "code",
      "metadata": {
        "id": "t64j7531gnFX"
      },
      "source": [
        "# Setup training parameters\n",
        "BATCH = 16\n",
        "EPOCHS = 30\n",
        "\n",
        "# early stopping callback. It stops training when the loss does not change for 3 consecutive epochs\n",
        "callback = tf.keras.callbacks.EarlyStopping(monitor='loss', patience=3)"
      ],
      "execution_count": 4,
      "outputs": []
    },
    {
      "cell_type": "code",
      "metadata": {
        "colab": {
          "base_uri": "https://localhost:8080/"
        },
        "id": "BvvTmwzIhBvw",
        "outputId": "1e0985e1-64e8-4f37-d996-90f270948208"
      },
      "source": [
        "# Start training the model\n",
        "\n",
        "# change the label type to float32\n",
        "# tf.cast(trainLabels, tf.float32)\n",
        "# tf.cast(trainImgs, tf.float32)\n",
        "# tf.cast(valLabels, tf.float32)\n",
        "# tf.cast(valImgs, tf.float32)\n",
        "\n",
        "history = model.fit(trainImgs, trainLabels, epochs=EPOCHS, batch_size=BATCH, validation_data=(valImgs, valLabels))"
      ],
      "execution_count": 5,
      "outputs": [
        {
          "output_type": "stream",
          "text": [
            "Train on 1000 samples, validate on 251 samples\n",
            "Epoch 1/30\n",
            "1000/1000 [==============================] - 63s 63ms/sample - loss: 0.6884 - iou_score: 0.0492 - accuracy: 0.8723 - val_loss: 0.5747 - val_iou_score: 0.0360 - val_accuracy: 0.9622\n",
            "Epoch 2/30\n",
            "1000/1000 [==============================] - 45s 45ms/sample - loss: 0.1641 - iou_score: 0.0442 - accuracy: 0.9631 - val_loss: 0.2476 - val_iou_score: 0.0369 - val_accuracy: 0.9622\n",
            "Epoch 3/30\n",
            "1000/1000 [==============================] - 45s 45ms/sample - loss: 0.1252 - iou_score: 0.0680 - accuracy: 0.9707 - val_loss: 0.1933 - val_iou_score: 0.0727 - val_accuracy: 0.9669\n",
            "Epoch 4/30\n",
            "1000/1000 [==============================] - 45s 45ms/sample - loss: 0.1065 - iou_score: 0.0802 - accuracy: 0.9732 - val_loss: 0.2120 - val_iou_score: 0.0939 - val_accuracy: 0.9162\n",
            "Epoch 5/30\n",
            "1000/1000 [==============================] - 45s 45ms/sample - loss: 0.0936 - iou_score: 0.0887 - accuracy: 0.9760 - val_loss: 0.1077 - val_iou_score: 0.1082 - val_accuracy: 0.9782\n",
            "Epoch 6/30\n",
            "1000/1000 [==============================] - 45s 45ms/sample - loss: 0.0821 - iou_score: 0.0956 - accuracy: 0.9777 - val_loss: 0.1055 - val_iou_score: 0.1361 - val_accuracy: 0.9691\n",
            "Epoch 7/30\n",
            "1000/1000 [==============================] - 45s 45ms/sample - loss: 0.0713 - iou_score: 0.1047 - accuracy: 0.9801 - val_loss: 0.0793 - val_iou_score: 0.1413 - val_accuracy: 0.9790\n",
            "Epoch 8/30\n",
            "1000/1000 [==============================] - 45s 45ms/sample - loss: 0.0646 - iou_score: 0.1052 - accuracy: 0.9807 - val_loss: 0.0738 - val_iou_score: 0.1271 - val_accuracy: 0.9797\n",
            "Epoch 9/30\n",
            "1000/1000 [==============================] - 45s 45ms/sample - loss: 0.0592 - iou_score: 0.1097 - accuracy: 0.9818 - val_loss: 0.0587 - val_iou_score: 0.1355 - val_accuracy: 0.9820\n",
            "Epoch 10/30\n",
            "1000/1000 [==============================] - 45s 45ms/sample - loss: 0.0544 - iou_score: 0.1130 - accuracy: 0.9830 - val_loss: 0.0751 - val_iou_score: 0.1438 - val_accuracy: 0.9774\n",
            "Epoch 11/30\n",
            "1000/1000 [==============================] - 45s 45ms/sample - loss: 0.0514 - iou_score: 0.1146 - accuracy: 0.9838 - val_loss: 0.0540 - val_iou_score: 0.1342 - val_accuracy: 0.9833\n",
            "Epoch 12/30\n",
            "1000/1000 [==============================] - 45s 45ms/sample - loss: 0.0462 - iou_score: 0.1196 - accuracy: 0.9848 - val_loss: 0.0502 - val_iou_score: 0.1266 - val_accuracy: 0.9846\n",
            "Epoch 13/30\n",
            "1000/1000 [==============================] - 45s 45ms/sample - loss: 0.0443 - iou_score: 0.1160 - accuracy: 0.9850 - val_loss: 0.0477 - val_iou_score: 0.1329 - val_accuracy: 0.9849\n",
            "Epoch 14/30\n",
            "1000/1000 [==============================] - 45s 45ms/sample - loss: 0.0431 - iou_score: 0.1212 - accuracy: 0.9852 - val_loss: 0.0493 - val_iou_score: 0.1396 - val_accuracy: 0.9841\n",
            "Epoch 15/30\n",
            "1000/1000 [==============================] - 45s 45ms/sample - loss: 0.0422 - iou_score: 0.1191 - accuracy: 0.9852 - val_loss: 0.0497 - val_iou_score: 0.1472 - val_accuracy: 0.9838\n",
            "Epoch 16/30\n",
            "1000/1000 [==============================] - 45s 45ms/sample - loss: 0.0394 - iou_score: 0.1212 - accuracy: 0.9858 - val_loss: 0.0468 - val_iou_score: 0.1414 - val_accuracy: 0.9849\n",
            "Epoch 17/30\n",
            "1000/1000 [==============================] - 45s 45ms/sample - loss: 0.0397 - iou_score: 0.1212 - accuracy: 0.9855 - val_loss: 0.0448 - val_iou_score: 0.1451 - val_accuracy: 0.9847\n",
            "Epoch 18/30\n",
            "1000/1000 [==============================] - 45s 45ms/sample - loss: 0.0376 - iou_score: 0.1264 - accuracy: 0.9866 - val_loss: 0.0512 - val_iou_score: 0.1378 - val_accuracy: 0.9847\n",
            "Epoch 19/30\n",
            "1000/1000 [==============================] - 45s 45ms/sample - loss: 0.0342 - iou_score: 0.1280 - accuracy: 0.9874 - val_loss: 0.0454 - val_iou_score: 0.1395 - val_accuracy: 0.9857\n",
            "Epoch 20/30\n",
            "1000/1000 [==============================] - 45s 45ms/sample - loss: 0.0324 - iou_score: 0.1255 - accuracy: 0.9875 - val_loss: 0.0447 - val_iou_score: 0.1355 - val_accuracy: 0.9856\n",
            "Epoch 21/30\n",
            "1000/1000 [==============================] - 45s 45ms/sample - loss: 0.0324 - iou_score: 0.1246 - accuracy: 0.9879 - val_loss: 0.0421 - val_iou_score: 0.1462 - val_accuracy: 0.9856\n",
            "Epoch 22/30\n",
            "1000/1000 [==============================] - 45s 45ms/sample - loss: 0.0305 - iou_score: 0.1266 - accuracy: 0.9884 - val_loss: 0.0386 - val_iou_score: 0.1306 - val_accuracy: 0.9868\n",
            "Epoch 23/30\n",
            "1000/1000 [==============================] - 45s 45ms/sample - loss: 0.0354 - iou_score: 0.1218 - accuracy: 0.9872 - val_loss: 0.0452 - val_iou_score: 0.1205 - val_accuracy: 0.9860\n",
            "Epoch 24/30\n",
            "1000/1000 [==============================] - 45s 45ms/sample - loss: 0.0288 - iou_score: 0.1264 - accuracy: 0.9889 - val_loss: 0.0417 - val_iou_score: 0.1445 - val_accuracy: 0.9854\n",
            "Epoch 25/30\n",
            "1000/1000 [==============================] - 45s 45ms/sample - loss: 0.0276 - iou_score: 0.1269 - accuracy: 0.9892 - val_loss: 0.0397 - val_iou_score: 0.1452 - val_accuracy: 0.9873\n",
            "Epoch 26/30\n",
            "1000/1000 [==============================] - 45s 45ms/sample - loss: 0.0252 - iou_score: 0.1313 - accuracy: 0.9902 - val_loss: 0.0383 - val_iou_score: 0.1412 - val_accuracy: 0.9878\n",
            "Epoch 27/30\n",
            "1000/1000 [==============================] - 45s 45ms/sample - loss: 0.0256 - iou_score: 0.1287 - accuracy: 0.9902 - val_loss: 0.0367 - val_iou_score: 0.1372 - val_accuracy: 0.9886\n",
            "Epoch 28/30\n",
            "1000/1000 [==============================] - 45s 45ms/sample - loss: 0.0239 - iou_score: 0.1298 - accuracy: 0.9912 - val_loss: 0.0367 - val_iou_score: 0.1385 - val_accuracy: 0.9884\n",
            "Epoch 29/30\n",
            "1000/1000 [==============================] - 45s 45ms/sample - loss: 0.0209 - iou_score: 0.1331 - accuracy: 0.9921 - val_loss: 0.0340 - val_iou_score: 0.1415 - val_accuracy: 0.9897\n",
            "Epoch 30/30\n",
            "1000/1000 [==============================] - 45s 45ms/sample - loss: 0.0246 - iou_score: 0.1262 - accuracy: 0.9910 - val_loss: 0.0543 - val_iou_score: 0.1458 - val_accuracy: 0.9848\n"
          ],
          "name": "stdout"
        }
      ]
    },
    {
      "cell_type": "code",
      "metadata": {
        "colab": {
          "base_uri": "https://localhost:8080/",
          "height": 300
        },
        "id": "5ymxrY3gpSBh",
        "outputId": "4c9ad65e-2469-4883-a3c6-80cf9c622810"
      },
      "source": [
        "#  Plot the results\n",
        "print(history.history.keys())\n",
        "\n",
        "import matplotlib.pyplot as plt\n",
        "plt.plot(history.history['loss'])\n",
        "plt.plot(history.history['val_loss'])"
      ],
      "execution_count": 6,
      "outputs": [
        {
          "output_type": "stream",
          "text": [
            "dict_keys(['loss', 'iou_score', 'accuracy', 'val_loss', 'val_iou_score', 'val_accuracy'])\n"
          ],
          "name": "stdout"
        },
        {
          "output_type": "execute_result",
          "data": {
            "text/plain": [
              "[<matplotlib.lines.Line2D at 0x7f95330ddcd0>]"
            ]
          },
          "metadata": {
            "tags": []
          },
          "execution_count": 6
        },
        {
          "output_type": "display_data",
          "data": {
            "image/png": "[encoded data removed]",
            "text/plain": [
              "<Figure size 432x288 with 1 Axes>"
            ]
          },
          "metadata": {
            "tags": [],
            "needs_background": "light"
          }
        }
      ]
    },
    {
      "cell_type": "code",
      "metadata": {
        "colab": {
          "base_uri": "https://localhost:8080/",
          "height": 282
        },
        "id": "BOfjAUaKp213",
        "outputId": "7a253465-e084-4998-b2c7-01810620ae85"
      },
      "source": [
        "plt.plot(history.history['iou_score'])\n",
        "plt.plot(history.history['val_iou_score'])"
      ],
      "execution_count": 7,
      "outputs": [
        {
          "output_type": "execute_result",
          "data": {
            "text/plain": [
              "[<matplotlib.lines.Line2D at 0x7f953307ef50>]"
            ]
          },
          "metadata": {
            "tags": []
          },
          "execution_count": 7
        },
        {
          "output_type": "display_data",
          "data": {
            "image/png": "[encoded data removed]",
            "text/plain": [
              "<Figure size 432x288 with 1 Axes>"
            ]
          },
          "metadata": {
            "tags": [],
            "needs_background": "light"
          }
        }
      ]
    },
    {
      "cell_type": "code",
      "metadata": {
        "colab": {
          "base_uri": "https://localhost:8080/",
          "height": 282
        },
        "id": "7m26N2HV-4k-",
        "outputId": "ba328f01-1ecb-490b-abab-7bef2c911cf0"
      },
      "source": [
        "plt.plot(history.history['accuracy'])\n",
        "plt.plot(history.history['val_accuracy'])"
      ],
      "execution_count": 8,
      "outputs": [
        {
          "output_type": "execute_result",
          "data": {
            "text/plain": [
              "[<matplotlib.lines.Line2D at 0x7f9532ba2dd0>]"
            ]
          },
          "metadata": {
            "tags": []
          },
          "execution_count": 8
        },
        {
          "output_type": "display_data",
          "data": {
            "image/png": "[encoded data removed]",
            "text/plain": [
              "<Figure size 432x288 with 1 Axes>"
            ]
          },
          "metadata": {
            "tags": [],
            "needs_background": "light"
          }
        }
      ]
    },
    {
      "cell_type": "code",
      "metadata": {
        "id": "xIs9nAuXJX8F"
      },
      "source": [
        "# get the testdata\n",
        "testImgs   = getData(testPath, testImgsFile)\n",
        "testLabels = getData(testPath, testLabelsFile)"
      ],
      "execution_count": 9,
      "outputs": []
    },
    {
      "cell_type": "code",
      "metadata": {
        "colab": {
          "base_uri": "https://localhost:8080/"
        },
        "id": "cJg2fDdHqDEr",
        "outputId": "e8a43149-5bdf-4e25-f2c1-86c4fd772842"
      },
      "source": [
        "model.evaluate(testImgs, testLabels)"
      ],
      "execution_count": 10,
      "outputs": [
        {
          "output_type": "stream",
          "text": [
            "617/617 [==============================] - 7s 11ms/sample - loss: 0.0546 - iou_score: 0.1468 - accuracy: 0.9845\n"
          ],
          "name": "stdout"
        },
        {
          "output_type": "execute_result",
          "data": {
            "text/plain": [
              "[0.05463370803979073, 0.14680544, 0.98454845]"
            ]
          },
          "metadata": {
            "tags": []
          },
          "execution_count": 10
        }
      ]
    },
    {
      "cell_type": "code",
      "metadata": {
        "id": "4kBp5pC4qe3j"
      },
      "source": [
        "# save the model weights\n",
        "weightFileName = \"UEfficientNetb2_30e_16b.h5\"\n",
        "weightPath = '/content/drive/My Drive/Underwater_Segmentation_Research/Weights/UNET'\n",
        "model.save_weights(weightPath + \"/\" + weightFileName)\n"
      ],
      "execution_count": 11,
      "outputs": []
    },
    {
      "cell_type": "code",
      "metadata": {
        "colab": {
          "base_uri": "https://localhost:8080/"
        },
        "id": "O0ktWQ4lsyxv",
        "outputId": "a3b2889b-b79c-4065-ff4a-b453eaf947fd"
      },
      "source": [
        "model.load_weights(weightPath + \"/\" + weightFileName)\n",
        "model.evaluate(testImgs, testLabels)"
      ],
      "execution_count": 12,
      "outputs": [
        {
          "output_type": "stream",
          "text": [
            "617/617 [==============================] - 5s 9ms/sample - loss: 0.0546 - iou_score: 0.1468 - accuracy: 0.9845\n"
          ],
          "name": "stdout"
        },
        {
          "output_type": "execute_result",
          "data": {
            "text/plain": [
              "[0.05463370803979073, 0.14680544, 0.98454845]"
            ]
          },
          "metadata": {
            "tags": []
          },
          "execution_count": 12
        }
      ]
    },
    {
      "cell_type": "code",
      "metadata": {
        "id": "QOgVsGZjLkeM"
      },
      "source": [
        ""
      ],
      "execution_count": null,
      "outputs": []
    },
    {
      "cell_type": "code",
      "metadata": {
        "colab": {
          "base_uri": "https://localhost:8080/"
        },
        "id": "SF0gF5Otuac9",
        "outputId": "c5e03701-3452-4f08-e02e-4d6361d244d3"
      },
      "source": [
        "modelFileName = \"UEfficientNetb2_30e_16b\"\n",
        "modelPath     = '/content/drive/My Drive/Underwater_Segmentation_Research/Models/Unet'\n",
        "model.save(modelPath + \"/\" + modelFileName)"
      ],
      "execution_count": 13,
      "outputs": [
        {
          "output_type": "stream",
          "text": [
            "WARNING:tensorflow:From /usr/local/lib/python3.7/dist-packages/tensorflow_core/python/ops/resource_variable_ops.py:1786: calling BaseResourceVariable.__init__ (from tensorflow.python.ops.resource_variable_ops) with constraint is deprecated and will be removed in a future version.\n",
            "Instructions for updating:\n",
            "If using Keras pass *_constraint arguments to layers.\n",
            "INFO:tensorflow:Assets written to: /content/drive/My Drive/Underwater_Segmentation_Research/Models/Unet/UEfficientNetb2_30e_16b/assets\n"
          ],
          "name": "stdout"
        }
      ]
    },
    {
      "cell_type": "code",
      "metadata": {
        "colab": {
          "base_uri": "https://localhost:8080/"
        },
        "id": "8g2JByQRvjc3",
        "outputId": "3245dfa9-d764-4019-fd35-1023227e4486"
      },
      "source": [
        "# Check the GPU configuration\n",
        "!nvidia-smi"
      ],
      "execution_count": 14,
      "outputs": [
        {
          "output_type": "stream",
          "text": [
            "Tue Mar 30 09:13:18 2021       \n",
            "+-----------------------------------------------------------------------------+\n",
            "| NVIDIA-SMI 460.56       Driver Version: 460.32.03    CUDA Version: 11.2     |\n",
            "|-------------------------------+----------------------+----------------------+\n",
            "| GPU  Name        Persistence-M| Bus-Id        Disp.A | Volatile Uncorr. ECC |\n",
            "| Fan  Temp  Perf  Pwr:Usage/Cap|         Memory-Usage | GPU-Util  Compute M. |\n",
            "|                               |                      |               MIG M. |\n",
            "|===============================+======================+======================|\n",
            "|   0  Tesla P100-PCIE...  Off  | 00000000:00:04.0 Off |                    0 |\n",
            "| N/A   45C    P0    34W / 250W |  15771MiB / 16280MiB |      0%      Default |\n",
            "|                               |                      |                  N/A |\n",
            "+-------------------------------+----------------------+----------------------+\n",
            "                                                                               \n",
            "+-----------------------------------------------------------------------------+\n",
            "| Processes:                                                                  |\n",
            "|  GPU   GI   CI        PID   Type   Process name                  GPU Memory |\n",
            "|        ID   ID                                                   Usage      |\n",
            "|=============================================================================|\n",
            "+-----------------------------------------------------------------------------+\n"
          ],
          "name": "stdout"
        }
      ]
    },
    {
      "cell_type": "code",
      "metadata": {
        "id": "5N3b-uUEwaZ2"
      },
      "source": [
        "# check the outputs here\n",
        "outputs = model.predict(testImgs)"
      ],
      "execution_count": 15,
      "outputs": []
    },
    {
      "cell_type": "code",
      "metadata": {
        "colab": {
          "base_uri": "https://localhost:8080/",
          "height": 269
        },
        "id": "oRL028hYwnR-",
        "outputId": "61c24401-ef52-4d07-aae9-4d13e5586d8d"
      },
      "source": [
        "import matplotlib.pyplot as plt\n",
        "\n",
        "img = outputs[0,:,:,0]\n",
        "plt.imshow(img)\n",
        "plt.show()"
      ],
      "execution_count": 16,
      "outputs": [
        {
          "output_type": "display_data",
          "data": {
            "image/png": "[encoded data removed]",
            "text/plain": [
              "<Figure size 432x288 with 1 Axes>"
            ]
          },
          "metadata": {
            "tags": [],
            "needs_background": "light"
          }
        }
      ]
    },
    {
      "cell_type": "code",
      "metadata": {
        "id": "exi7mUblK4-s"
      },
      "source": [
        "outputs = None"
      ],
      "execution_count": null,
      "outputs": []
    }
  ]
}