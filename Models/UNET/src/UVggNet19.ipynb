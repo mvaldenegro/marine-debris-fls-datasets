{
  "nbformat": 4,
  "nbformat_minor": 0,
  "metadata": {
    "colab": {
      "name": "UVggNet19.ipynb",
      "provenance": []
    },
    "kernelspec": {
      "name": "python3",
      "display_name": "Python 3"
    },
    "language_info": {
      "name": "python"
    },
    "accelerator": "GPU"
  },
  "cells": [
    {
      "cell_type": "code",
      "metadata": {
        "id": "GmErIJJtXgxr"
      },
      "source": [
        "# Unet with ResNet 34 for multiclass semantic segmentation\n",
        "!pip install tensorflow==2.1.0"
      ],
      "execution_count": null,
      "outputs": []
    },
    {
      "cell_type": "code",
      "metadata": {
        "id": "E05RxVTVawRq"
      },
      "source": [
        "!pip install segmentation-models"
      ],
      "execution_count": null,
      "outputs": []
    },
    {
      "cell_type": "code",
      "metadata": {
        "id": "KGcItvZUbw6S",
        "colab": {
          "base_uri": "https://localhost:8080/"
        },
        "outputId": "1dbabcf3-cd83-4ae7-ca6e-d90950011f88"
      },
      "source": [
        "# mount google drive here\n",
        "from google.colab import drive\n",
        "drive.mount('/content/drive')"
      ],
      "execution_count": 3,
      "outputs": [
        {
          "output_type": "stream",
          "text": [
            "Mounted at /content/drive\n"
          ],
          "name": "stdout"
        }
      ]
    },
    {
      "cell_type": "code",
      "metadata": {
        "colab": {
          "base_uri": "https://localhost:8080/"
        },
        "id": "OVkZ3Rt_cBIJ",
        "outputId": "a183b520-1453-455e-99ad-1f0f79b69b7c"
      },
      "source": [
        "# Fetch the training, validation and testing dataset\n",
        "import os\n",
        "import numpy as np\n",
        "\n",
        "dataPath  = '/content/drive/My Drive/Underwater_Segmentation_Research/Data'\n",
        "\n",
        "trainPath =  dataPath + '/Train'\n",
        "testPath  =  dataPath + '/Test'\n",
        "valPath   =  dataPath + '/Validate'\n",
        "\n",
        "trainImgsFile   = 'trainingDataImgs.npy'\n",
        "trainLabelsFile = 'trainingDataLabels.npy'\n",
        "\n",
        "testImgsFile    = 'testingDataImgs.npy'\n",
        "testLabelsFile  = 'testingDataLabels.npy'\n",
        "\n",
        "valImgsFile     = 'validationDataImgs.npy'\n",
        "valLabelsFile   = 'validationDataLabels.npy'\n",
        "\n",
        "def getData(path,fileName):\n",
        "  return np.load(path + \"/\" + fileName)\n",
        "\n",
        "trainImgs = getData(trainPath, trainImgsFile)\n",
        "trainLabels = getData(trainPath, trainLabelsFile)\n",
        "\n",
        "#testImgs   = getData(testPath, testImgsFile)\n",
        "#testLabels = getData(testPath, testLabelsFile)\n",
        "\n",
        "valImgs    = getData(valPath, valImgsFile)\n",
        "valLabels  = getData(valPath, valLabelsFile)\n",
        "\n",
        "print(\"Got train and validation data\")\n",
        "print(trainImgs.shape, valImgs.shape)\n",
        "print(trainLabels.shape, valLabels.shape)"
      ],
      "execution_count": 4,
      "outputs": [
        {
          "output_type": "stream",
          "text": [
            "Got train and validation data\n",
            "(1000, 480, 320, 1) (251, 480, 320, 1)\n",
            "(1000, 480, 320, 1) (251, 480, 320, 1)\n"
          ],
          "name": "stdout"
        }
      ]
    },
    {
      "cell_type": "code",
      "metadata": {
        "id": "UYzc3jDWbN78"
      },
      "source": [
        "# Create the model (without pre-trained ImageNet weights)\n",
        "# BATCH_SIZE = 16\n",
        "# EPOCHS     = 20 (use early stopping as well to avoid overfitting (and store the epochs till then))\n",
        "import os\n",
        "import numpy as np\n",
        "import segmentation_models as sm\n",
        "\n",
        "# create the model\n",
        "model = sm.Unet('vgg19', input_shape=(480, 320, 1), encoder_weights=None, classes=12, activation='softmax')\n",
        "model.summary()\n"
      ],
      "execution_count": null,
      "outputs": []
    },
    {
      "cell_type": "code",
      "metadata": {
        "id": "xrrWR34igCv-"
      },
      "source": [
        "# Compile the model with loss function, optimizer and metric\n",
        "import tensorflow as tf\n",
        "LOSS=tf.keras.losses.SparseCategoricalCrossentropy(from_logits=True)\n",
        "\n",
        "model.compile(\n",
        "    'Adam',\n",
        "    loss='sparse_categorical_crossentropy',\n",
        "    metrics=[sm.metrics.iou_score,'accuracy'],\n",
        ")"
      ],
      "execution_count": 6,
      "outputs": []
    },
    {
      "cell_type": "code",
      "metadata": {
        "id": "t64j7531gnFX"
      },
      "source": [
        "# Setup training parameters\n",
        "BATCH = 16\n",
        "EPOCHS = 30\n",
        "\n",
        "# early stopping callback. It stops training when the loss does not change for 3 consecutive epochs\n",
        "callback = tf.keras.callbacks.EarlyStopping(monitor='loss', patience=3)"
      ],
      "execution_count": 7,
      "outputs": []
    },
    {
      "cell_type": "code",
      "metadata": {
        "colab": {
          "base_uri": "https://localhost:8080/"
        },
        "id": "BvvTmwzIhBvw",
        "outputId": "40885810-2617-4d38-db64-49986d71a218"
      },
      "source": [
        "# Start training the model\n",
        "\n",
        "# change the label type to float32\n",
        "# tf.cast(trainLabels, tf.float32)\n",
        "# tf.cast(trainImgs, tf.float32)\n",
        "# tf.cast(valLabels, tf.float32)\n",
        "# tf.cast(valImgs, tf.float32)\n",
        "\n",
        "history = model.fit(trainImgs, trainLabels, epochs=EPOCHS, batch_size=BATCH, validation_data=(valImgs, valLabels))"
      ],
      "execution_count": 8,
      "outputs": [
        {
          "output_type": "stream",
          "text": [
            "Train on 1000 samples, validate on 251 samples\n",
            "Epoch 1/30\n",
            "1000/1000 [==============================] - 178s 178ms/sample - loss: 0.8337 - iou_score: 0.0527 - accuracy: 0.8654 - val_loss: 0.6831 - val_iou_score: 0.0575 - val_accuracy: 0.9436\n",
            "Epoch 2/30\n",
            "1000/1000 [==============================] - 141s 141ms/sample - loss: 0.1777 - iou_score: 0.0442 - accuracy: 0.9642 - val_loss: 0.3383 - val_iou_score: 0.0342 - val_accuracy: 0.9623\n",
            "Epoch 3/30\n",
            "1000/1000 [==============================] - 141s 141ms/sample - loss: 0.1502 - iou_score: 0.0522 - accuracy: 0.9663 - val_loss: 0.1955 - val_iou_score: 0.0348 - val_accuracy: 0.9622\n",
            "Epoch 4/30\n",
            "1000/1000 [==============================] - 141s 141ms/sample - loss: 0.1362 - iou_score: 0.0557 - accuracy: 0.9676 - val_loss: 0.1900 - val_iou_score: 0.0429 - val_accuracy: 0.9631\n",
            "Epoch 5/30\n",
            "1000/1000 [==============================] - 141s 141ms/sample - loss: 0.1286 - iou_score: 0.0582 - accuracy: 0.9683 - val_loss: 0.1991 - val_iou_score: 0.0311 - val_accuracy: 0.9629\n",
            "Epoch 6/30\n",
            "1000/1000 [==============================] - 141s 141ms/sample - loss: 0.1229 - iou_score: 0.0609 - accuracy: 0.9689 - val_loss: 0.2352 - val_iou_score: 0.0300 - val_accuracy: 0.9622\n",
            "Epoch 7/30\n",
            "1000/1000 [==============================] - 141s 141ms/sample - loss: 0.1132 - iou_score: 0.0655 - accuracy: 0.9701 - val_loss: 0.1880 - val_iou_score: 0.0334 - val_accuracy: 0.9624\n",
            "Epoch 8/30\n",
            "1000/1000 [==============================] - 140s 140ms/sample - loss: 0.1054 - iou_score: 0.0701 - accuracy: 0.9720 - val_loss: 0.1963 - val_iou_score: 0.0377 - val_accuracy: 0.9656\n",
            "Epoch 9/30\n",
            "1000/1000 [==============================] - 140s 140ms/sample - loss: 0.0983 - iou_score: 0.0752 - accuracy: 0.9740 - val_loss: 0.1854 - val_iou_score: 0.0376 - val_accuracy: 0.9655\n",
            "Epoch 10/30\n",
            "1000/1000 [==============================] - 140s 140ms/sample - loss: 0.0887 - iou_score: 0.0828 - accuracy: 0.9767 - val_loss: 0.1823 - val_iou_score: 0.0406 - val_accuracy: 0.9657\n",
            "Epoch 11/30\n",
            "1000/1000 [==============================] - 140s 140ms/sample - loss: 0.0887 - iou_score: 0.0806 - accuracy: 0.9764 - val_loss: 0.1927 - val_iou_score: 0.0380 - val_accuracy: 0.9660\n",
            "Epoch 12/30\n",
            "1000/1000 [==============================] - 141s 141ms/sample - loss: 0.0789 - iou_score: 0.0921 - accuracy: 0.9789 - val_loss: 0.2108 - val_iou_score: 0.0308 - val_accuracy: 0.9635\n",
            "Epoch 13/30\n",
            "1000/1000 [==============================] - 140s 140ms/sample - loss: 0.0774 - iou_score: 0.0906 - accuracy: 0.9787 - val_loss: 0.2001 - val_iou_score: 0.0308 - val_accuracy: 0.9633\n",
            "Epoch 14/30\n",
            "1000/1000 [==============================] - 140s 140ms/sample - loss: 0.0729 - iou_score: 0.0934 - accuracy: 0.9797 - val_loss: 0.1724 - val_iou_score: 0.0374 - val_accuracy: 0.9652\n",
            "Epoch 15/30\n",
            "1000/1000 [==============================] - 140s 140ms/sample - loss: 0.0694 - iou_score: 0.0982 - accuracy: 0.9805 - val_loss: 0.1647 - val_iou_score: 0.0363 - val_accuracy: 0.9653\n",
            "Epoch 16/30\n",
            "1000/1000 [==============================] - 140s 140ms/sample - loss: 0.0661 - iou_score: 0.0975 - accuracy: 0.9808 - val_loss: 0.1222 - val_iou_score: 0.0515 - val_accuracy: 0.9706\n",
            "Epoch 17/30\n",
            "1000/1000 [==============================] - 141s 141ms/sample - loss: 0.0636 - iou_score: 0.1005 - accuracy: 0.9812 - val_loss: 0.1820 - val_iou_score: 0.0352 - val_accuracy: 0.9653\n",
            "Epoch 18/30\n",
            "1000/1000 [==============================] - 141s 141ms/sample - loss: 0.0565 - iou_score: 0.1040 - accuracy: 0.9829 - val_loss: 0.1337 - val_iou_score: 0.0440 - val_accuracy: 0.9686\n",
            "Epoch 19/30\n",
            "1000/1000 [==============================] - 140s 140ms/sample - loss: 0.0528 - iou_score: 0.1047 - accuracy: 0.9834 - val_loss: 0.0975 - val_iou_score: 0.0526 - val_accuracy: 0.9725\n",
            "Epoch 20/30\n",
            "1000/1000 [==============================] - 140s 140ms/sample - loss: 0.0522 - iou_score: 0.1056 - accuracy: 0.9836 - val_loss: 0.0845 - val_iou_score: 0.0680 - val_accuracy: 0.9772\n",
            "Epoch 21/30\n",
            "1000/1000 [==============================] - 140s 140ms/sample - loss: 0.0486 - iou_score: 0.1067 - accuracy: 0.9846 - val_loss: 0.0886 - val_iou_score: 0.0580 - val_accuracy: 0.9764\n",
            "Epoch 22/30\n",
            "1000/1000 [==============================] - 140s 140ms/sample - loss: 0.0425 - iou_score: 0.1104 - accuracy: 0.9862 - val_loss: 0.0571 - val_iou_score: 0.0846 - val_accuracy: 0.9831\n",
            "Epoch 23/30\n",
            "1000/1000 [==============================] - 140s 140ms/sample - loss: 0.0411 - iou_score: 0.1101 - accuracy: 0.9864 - val_loss: 0.0627 - val_iou_score: 0.0861 - val_accuracy: 0.9822\n",
            "Epoch 24/30\n",
            "1000/1000 [==============================] - 140s 140ms/sample - loss: 0.0398 - iou_score: 0.1112 - accuracy: 0.9867 - val_loss: 0.0487 - val_iou_score: 0.1056 - val_accuracy: 0.9852\n",
            "Epoch 25/30\n",
            "1000/1000 [==============================] - 140s 140ms/sample - loss: 0.0385 - iou_score: 0.1114 - accuracy: 0.9870 - val_loss: 0.0465 - val_iou_score: 0.1230 - val_accuracy: 0.9851\n",
            "Epoch 26/30\n",
            "1000/1000 [==============================] - 140s 140ms/sample - loss: 0.0424 - iou_score: 0.1084 - accuracy: 0.9861 - val_loss: 0.0423 - val_iou_score: 0.1223 - val_accuracy: 0.9871\n",
            "Epoch 27/30\n",
            "1000/1000 [==============================] - 140s 140ms/sample - loss: 0.0349 - iou_score: 0.1151 - accuracy: 0.9881 - val_loss: 0.0408 - val_iou_score: 0.1364 - val_accuracy: 0.9869\n",
            "Epoch 28/30\n",
            "1000/1000 [==============================] - 141s 141ms/sample - loss: 0.0337 - iou_score: 0.1144 - accuracy: 0.9884 - val_loss: 0.0548 - val_iou_score: 0.1292 - val_accuracy: 0.9844\n",
            "Epoch 29/30\n",
            "1000/1000 [==============================] - 140s 140ms/sample - loss: 0.0298 - iou_score: 0.1181 - accuracy: 0.9897 - val_loss: 0.0411 - val_iou_score: 0.1305 - val_accuracy: 0.9874\n",
            "Epoch 30/30\n",
            "1000/1000 [==============================] - 140s 140ms/sample - loss: 0.0307 - iou_score: 0.1171 - accuracy: 0.9893 - val_loss: 0.0601 - val_iou_score: 0.0783 - val_accuracy: 0.9813\n"
          ],
          "name": "stdout"
        }
      ]
    },
    {
      "cell_type": "code",
      "metadata": {
        "colab": {
          "base_uri": "https://localhost:8080/",
          "height": 300
        },
        "id": "5ymxrY3gpSBh",
        "outputId": "8a37fb5d-10f2-40ee-e1fc-f0053061ad22"
      },
      "source": [
        "#  Plot the results\n",
        "print(history.history.keys())\n",
        "\n",
        "import matplotlib.pyplot as plt\n",
        "plt.plot(history.history['loss'])\n",
        "plt.plot(history.history['val_loss'])"
      ],
      "execution_count": 9,
      "outputs": [
        {
          "output_type": "stream",
          "text": [
            "dict_keys(['loss', 'iou_score', 'accuracy', 'val_loss', 'val_iou_score', 'val_accuracy'])\n"
          ],
          "name": "stdout"
        },
        {
          "output_type": "execute_result",
          "data": {
            "text/plain": [
              "[<matplotlib.lines.Line2D at 0x7fcd7cee0b10>]"
            ]
          },
          "metadata": {
            "tags": []
          },
          "execution_count": 9
        },
        {
          "output_type": "display_data",
          "data": {
            "image/png": "[encoded data removed]",
            "text/plain": [
              "<Figure size 432x288 with 1 Axes>"
            ]
          },
          "metadata": {
            "tags": [],
            "needs_background": "light"
          }
        }
      ]
    },
    {
      "cell_type": "code",
      "metadata": {
        "colab": {
          "base_uri": "https://localhost:8080/",
          "height": 283
        },
        "id": "BOfjAUaKp213",
        "outputId": "358397a3-d9d7-41b3-ec9b-1c72e015eb6c"
      },
      "source": [
        "plt.plot(history.history['iou_score'])\n",
        "plt.plot(history.history['val_iou_score'])"
      ],
      "execution_count": 10,
      "outputs": [
        {
          "output_type": "execute_result",
          "data": {
            "text/plain": [
              "[<matplotlib.lines.Line2D at 0x7fcd7c9cb310>]"
            ]
          },
          "metadata": {
            "tags": []
          },
          "execution_count": 10
        },
        {
          "output_type": "display_data",
          "data": {
            "image/png": "[encoded data removed]",
            "text/plain": [
              "<Figure size 432x288 with 1 Axes>"
            ]
          },
          "metadata": {
            "tags": [],
            "needs_background": "light"
          }
        }
      ]
    },
    {
      "cell_type": "code",
      "metadata": {
        "id": "xIs9nAuXJX8F"
      },
      "source": [
        "# get the testdata\n",
        "testImgs   = getData(testPath, testImgsFile)\n",
        "testLabels = getData(testPath, testLabelsFile)"
      ],
      "execution_count": 11,
      "outputs": []
    },
    {
      "cell_type": "code",
      "metadata": {
        "colab": {
          "base_uri": "https://localhost:8080/"
        },
        "id": "cJg2fDdHqDEr",
        "outputId": "f5762b46-c807-46cf-bf89-fd2b3aa9637d"
      },
      "source": [
        "model.evaluate(testImgs, testLabels)"
      ],
      "execution_count": 12,
      "outputs": [
        {
          "output_type": "stream",
          "text": [
            "617/617 [==============================] - 40s 65ms/sample - loss: 0.0601 - iou_score: 0.0774 - accuracy: 0.9812\n"
          ],
          "name": "stdout"
        },
        {
          "output_type": "execute_result",
          "data": {
            "text/plain": [
              "[0.06013723380706685, 0.07738121, 0.981228]"
            ]
          },
          "metadata": {
            "tags": []
          },
          "execution_count": 12
        }
      ]
    },
    {
      "cell_type": "code",
      "metadata": {
        "id": "4kBp5pC4qe3j"
      },
      "source": [
        "# save the model weights\n",
        "weightFileName = \"UVggNet19_30e_16b.h5\"\n",
        "weightPath = '/content/drive/My Drive/Underwater_Segmentation_Research/Weights/UNET'\n",
        "model.save_weights(weightPath + \"/\" + weightFileName)\n"
      ],
      "execution_count": 13,
      "outputs": []
    },
    {
      "cell_type": "code",
      "metadata": {
        "colab": {
          "base_uri": "https://localhost:8080/"
        },
        "id": "O0ktWQ4lsyxv",
        "outputId": "aaa372fa-2f31-47ca-d26c-84be6e4d3171"
      },
      "source": [
        "model.load_weights(weightPath + \"/\" + weightFileName)\n",
        "model.evaluate(testImgs, testLabels)"
      ],
      "execution_count": 14,
      "outputs": [
        {
          "output_type": "stream",
          "text": [
            "617/617 [==============================] - 26s 43ms/sample - loss: 0.0601 - iou_score: 0.0774 - accuracy: 0.9812\n"
          ],
          "name": "stdout"
        },
        {
          "output_type": "execute_result",
          "data": {
            "text/plain": [
              "[0.06013723380706685, 0.07738121, 0.981228]"
            ]
          },
          "metadata": {
            "tags": []
          },
          "execution_count": 14
        }
      ]
    },
    {
      "cell_type": "code",
      "metadata": {
        "id": "QOgVsGZjLkeM"
      },
      "source": [
        ""
      ],
      "execution_count": null,
      "outputs": []
    },
    {
      "cell_type": "code",
      "metadata": {
        "colab": {
          "base_uri": "https://localhost:8080/"
        },
        "id": "SF0gF5Otuac9",
        "outputId": "bc56ad84-6752-4504-f993-b8aa7e687100"
      },
      "source": [
        "modelFileName = \"UVggNet19_30e_16b\"\n",
        "modelPath     = '/content/drive/My Drive/Underwater_Segmentation_Research/Models/Unet'\n",
        "model.save(modelPath + \"/\" + modelFileName)"
      ],
      "execution_count": 15,
      "outputs": [
        {
          "output_type": "stream",
          "text": [
            "WARNING:tensorflow:From /usr/local/lib/python3.7/dist-packages/tensorflow_core/python/ops/resource_variable_ops.py:1786: calling BaseResourceVariable.__init__ (from tensorflow.python.ops.resource_variable_ops) with constraint is deprecated and will be removed in a future version.\n",
            "Instructions for updating:\n",
            "If using Keras pass *_constraint arguments to layers.\n",
            "INFO:tensorflow:Assets written to: /content/drive/My Drive/Underwater_Segmentation_Research/Models/Unet/UVggNet19_30e_16b/assets\n"
          ],
          "name": "stdout"
        }
      ]
    },
    {
      "cell_type": "code",
      "metadata": {
        "colab": {
          "base_uri": "https://localhost:8080/"
        },
        "id": "8g2JByQRvjc3",
        "outputId": "7f1784db-28e8-42de-b987-19eb871335d8"
      },
      "source": [
        "# Check the GPU configuration\n",
        "!nvidia-smi"
      ],
      "execution_count": 16,
      "outputs": [
        {
          "output_type": "stream",
          "text": [
            "Tue Mar 30 08:23:49 2021       \n",
            "+-----------------------------------------------------------------------------+\n",
            "| NVIDIA-SMI 460.56       Driver Version: 460.32.03    CUDA Version: 11.2     |\n",
            "|-------------------------------+----------------------+----------------------+\n",
            "| GPU  Name        Persistence-M| Bus-Id        Disp.A | Volatile Uncorr. ECC |\n",
            "| Fan  Temp  Perf  Pwr:Usage/Cap|         Memory-Usage | GPU-Util  Compute M. |\n",
            "|                               |                      |               MIG M. |\n",
            "|===============================+======================+======================|\n",
            "|   0  Tesla K80           Off  | 00000000:00:04.0 Off |                    0 |\n",
            "| N/A   62C    P0    66W / 149W |   8933MiB / 11441MiB |      0%      Default |\n",
            "|                               |                      |                  N/A |\n",
            "+-------------------------------+----------------------+----------------------+\n",
            "                                                                               \n",
            "+-----------------------------------------------------------------------------+\n",
            "| Processes:                                                                  |\n",
            "|  GPU   GI   CI        PID   Type   Process name                  GPU Memory |\n",
            "|        ID   ID                                                   Usage      |\n",
            "|=============================================================================|\n",
            "+-----------------------------------------------------------------------------+\n"
          ],
          "name": "stdout"
        }
      ]
    },
    {
      "cell_type": "code",
      "metadata": {
        "id": "5N3b-uUEwaZ2"
      },
      "source": [
        "# check the outputs here\n",
        "outputs = model.predict(testImgs)"
      ],
      "execution_count": 17,
      "outputs": []
    },
    {
      "cell_type": "code",
      "metadata": {
        "colab": {
          "base_uri": "https://localhost:8080/",
          "height": 269
        },
        "id": "oRL028hYwnR-",
        "outputId": "3e8f9720-060e-4ab5-b46f-ef3aadc6804c"
      },
      "source": [
        "import matplotlib.pyplot as plt\n",
        "\n",
        "img = outputs[0,:,:,0]\n",
        "plt.imshow(img)\n",
        "plt.show()"
      ],
      "execution_count": 18,
      "outputs": [
        {
          "output_type": "display_data",
          "data": {
            "image/png": "[encoded data removed]",
            "text/plain": [
              "<Figure size 432x288 with 1 Axes>"
            ]
          },
          "metadata": {
            "tags": [],
            "needs_background": "light"
          }
        }
      ]
    },
    {
      "cell_type": "code",
      "metadata": {
        "id": "exi7mUblK4-s"
      },
      "source": [
        "outputs = None"
      ],
      "execution_count": null,
      "outputs": []
    }
  ]
}