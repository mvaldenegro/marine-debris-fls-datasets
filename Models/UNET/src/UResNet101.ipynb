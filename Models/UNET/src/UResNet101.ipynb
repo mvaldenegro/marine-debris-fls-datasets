{
  "nbformat": 4,
  "nbformat_minor": 0,
  "metadata": {
    "colab": {
      "name": "UResNet101.ipynb",
      "provenance": []
    },
    "kernelspec": {
      "name": "python3",
      "display_name": "Python 3"
    },
    "language_info": {
      "name": "python"
    },
    "accelerator": "GPU"
  },
  "cells": [
    {
      "cell_type": "code",
      "metadata": {
        "id": "GmErIJJtXgxr"
      },
      "source": [
        "# Unet with ResNet 34 for multiclass semantic segmentation\n",
        "!pip install tensorflow==2.1.0"
      ],
      "execution_count": null,
      "outputs": []
    },
    {
      "cell_type": "code",
      "metadata": {
        "id": "E05RxVTVawRq"
      },
      "source": [
        "!pip install segmentation-models"
      ],
      "execution_count": null,
      "outputs": []
    },
    {
      "cell_type": "code",
      "metadata": {
        "id": "KGcItvZUbw6S"
      },
      "source": [
        "# mount google drive here\n",
        "from google.colab import drive\n",
        "drive.mount('/content/drive')"
      ],
      "execution_count": null,
      "outputs": []
    },
    {
      "cell_type": "code",
      "metadata": {
        "colab": {
          "base_uri": "https://localhost:8080/"
        },
        "id": "OVkZ3Rt_cBIJ",
        "outputId": "1dd33d92-4ad5-46de-be3d-e923fac5bca2"
      },
      "source": [
        "# Fetch the training, validation and testing dataset\n",
        "import os\n",
        "import numpy as np\n",
        "\n",
        "dataPath  = '/content/drive/My Drive/Underwater_Segmentation_Research/Data'\n",
        "\n",
        "trainPath =  dataPath + '/Train'\n",
        "testPath  =  dataPath + '/Test'\n",
        "valPath   =  dataPath + '/Validate'\n",
        "\n",
        "trainImgsFile   = 'trainingDataImgs.npy'\n",
        "trainLabelsFile = 'trainingDataLabels.npy'\n",
        "\n",
        "testImgsFile    = 'testingDataImgs.npy'\n",
        "testLabelsFile  = 'testingDataLabels.npy'\n",
        "\n",
        "valImgsFile     = 'validationDataImgs.npy'\n",
        "valLabelsFile   = 'validationDataLabels.npy'\n",
        "\n",
        "def getData(path,fileName):\n",
        "  return np.load(path + \"/\" + fileName)\n",
        "\n",
        "trainImgs = getData(trainPath, trainImgsFile)\n",
        "trainLabels = getData(trainPath, trainLabelsFile)\n",
        "\n",
        "#testImgs   = getData(testPath, testImgsFile)\n",
        "#testLabels = getData(testPath, testLabelsFile)\n",
        "\n",
        "valImgs    = getData(valPath, valImgsFile)\n",
        "valLabels  = getData(valPath, valLabelsFile)\n",
        "\n",
        "print(\"Got train and validation data\")\n",
        "print(trainImgs.shape, valImgs.shape)\n",
        "print(trainLabels.shape, valLabels.shape)"
      ],
      "execution_count": 4,
      "outputs": [
        {
          "output_type": "stream",
          "text": [
            "Got train and validation data\n",
            "(1000, 480, 320, 1) (251, 480, 320, 1)\n",
            "(1000, 480, 320, 1) (251, 480, 320, 1)\n"
          ],
          "name": "stdout"
        }
      ]
    },
    {
      "cell_type": "code",
      "metadata": {
        "id": "UYzc3jDWbN78"
      },
      "source": [
        "# Create the model (without pre-trained ImageNet weights)\n",
        "# BATCH_SIZE = 16\n",
        "# EPOCHS     = 20 (use early stopping as well to avoid overfitting (and store the epochs till then))\n",
        "import os\n",
        "import numpy as np\n",
        "import segmentation_models as sm\n",
        "\n",
        "# create the model\n",
        "model = sm.Unet('resnet101', input_shape=(480, 320, 1), encoder_weights=None, classes=12, activation='softmax')\n",
        "model.summary()\n"
      ],
      "execution_count": null,
      "outputs": []
    },
    {
      "cell_type": "code",
      "metadata": {
        "id": "xrrWR34igCv-"
      },
      "source": [
        "# Compile the model with loss function, optimizer and metric\n",
        "import tensorflow as tf\n",
        "LOSS=tf.keras.losses.SparseCategoricalCrossentropy(from_logits=True)\n",
        "\n",
        "model.compile(\n",
        "    'Adam',\n",
        "    loss='sparse_categorical_crossentropy',\n",
        "    metrics=[sm.metrics.iou_score,'accuracy'],\n",
        ")"
      ],
      "execution_count": 12,
      "outputs": []
    },
    {
      "cell_type": "code",
      "metadata": {
        "id": "t64j7531gnFX"
      },
      "source": [
        "# Setup training parameters\n",
        "BATCH = 16\n",
        "EPOCHS = 30\n",
        "\n",
        "# early stopping callback. It stops training when the loss does not change for 3 consecutive epochs\n",
        "callback = tf.keras.callbacks.EarlyStopping(monitor='loss', patience=3)"
      ],
      "execution_count": 13,
      "outputs": []
    },
    {
      "cell_type": "code",
      "metadata": {
        "colab": {
          "base_uri": "https://localhost:8080/"
        },
        "id": "BvvTmwzIhBvw",
        "outputId": "77510244-188d-4395-c3c9-d740661b7b1d"
      },
      "source": [
        "# Start training the model\n",
        "\n",
        "# change the label type to float32\n",
        "# tf.cast(trainLabels, tf.float32)\n",
        "# tf.cast(trainImgs, tf.float32)\n",
        "# tf.cast(valLabels, tf.float32)\n",
        "# tf.cast(valImgs, tf.float32)\n",
        "\n",
        "history = model.fit(trainImgs, trainLabels, epochs=EPOCHS, batch_size=BATCH, validation_data=(valImgs, valLabels))"
      ],
      "execution_count": 14,
      "outputs": [
        {
          "output_type": "stream",
          "text": [
            "Train on 1000 samples, validate on 251 samples\n",
            "Epoch 1/30\n",
            "1000/1000 [==============================] - 93s 93ms/sample - loss: 0.7160 - iou_score: 0.0574 - accuracy: 0.8792 - val_loss: 0.6224 - val_iou_score: 0.0259 - val_accuracy: 0.9603\n",
            "Epoch 2/30\n",
            "1000/1000 [==============================] - 81s 81ms/sample - loss: 0.1289 - iou_score: 0.0766 - accuracy: 0.9721 - val_loss: 0.7063 - val_iou_score: 0.0301 - val_accuracy: 0.9103\n",
            "Epoch 3/30\n",
            "1000/1000 [==============================] - 82s 82ms/sample - loss: 0.1024 - iou_score: 0.0823 - accuracy: 0.9745 - val_loss: 1.1568 - val_iou_score: 0.0510 - val_accuracy: 0.6366\n",
            "Epoch 4/30\n",
            "1000/1000 [==============================] - 82s 82ms/sample - loss: 0.0826 - iou_score: 0.0930 - accuracy: 0.9785 - val_loss: 0.4343 - val_iou_score: 0.0354 - val_accuracy: 0.9535\n",
            "Epoch 5/30\n",
            "1000/1000 [==============================] - 82s 82ms/sample - loss: 0.0689 - iou_score: 0.0990 - accuracy: 0.9811 - val_loss: 0.1106 - val_iou_score: 0.0561 - val_accuracy: 0.9704\n",
            "Epoch 6/30\n",
            "1000/1000 [==============================] - 82s 82ms/sample - loss: 0.0625 - iou_score: 0.1029 - accuracy: 0.9820 - val_loss: 0.0729 - val_iou_score: 0.0983 - val_accuracy: 0.9820\n",
            "Epoch 7/30\n",
            "1000/1000 [==============================] - 82s 82ms/sample - loss: 0.0569 - iou_score: 0.1068 - accuracy: 0.9828 - val_loss: 0.1218 - val_iou_score: 0.1414 - val_accuracy: 0.9602\n",
            "Epoch 8/30\n",
            "1000/1000 [==============================] - 82s 82ms/sample - loss: 0.0522 - iou_score: 0.1066 - accuracy: 0.9834 - val_loss: 0.2491 - val_iou_score: 0.1289 - val_accuracy: 0.9242\n",
            "Epoch 9/30\n",
            "1000/1000 [==============================] - 82s 82ms/sample - loss: 0.0458 - iou_score: 0.1122 - accuracy: 0.9852 - val_loss: 0.0650 - val_iou_score: 0.1247 - val_accuracy: 0.9800\n",
            "Epoch 10/30\n",
            "1000/1000 [==============================] - 82s 82ms/sample - loss: 0.0418 - iou_score: 0.1135 - accuracy: 0.9861 - val_loss: 0.0530 - val_iou_score: 0.1271 - val_accuracy: 0.9841\n",
            "Epoch 11/30\n",
            "1000/1000 [==============================] - 82s 82ms/sample - loss: 0.0451 - iou_score: 0.1098 - accuracy: 0.9853 - val_loss: 0.1071 - val_iou_score: 0.0981 - val_accuracy: 0.9744\n",
            "Epoch 12/30\n",
            "1000/1000 [==============================] - 82s 82ms/sample - loss: 0.0436 - iou_score: 0.1083 - accuracy: 0.9853 - val_loss: 0.0767 - val_iou_score: 0.1453 - val_accuracy: 0.9761\n",
            "Epoch 13/30\n",
            "1000/1000 [==============================] - 82s 82ms/sample - loss: 0.0347 - iou_score: 0.1144 - accuracy: 0.9878 - val_loss: 0.0432 - val_iou_score: 0.1310 - val_accuracy: 0.9859\n",
            "Epoch 14/30\n",
            "1000/1000 [==============================] - 82s 82ms/sample - loss: 0.0357 - iou_score: 0.1113 - accuracy: 0.9876 - val_loss: 0.1262 - val_iou_score: 0.0585 - val_accuracy: 0.9737\n",
            "Epoch 15/30\n",
            "1000/1000 [==============================] - 82s 82ms/sample - loss: 0.0354 - iou_score: 0.1119 - accuracy: 0.9876 - val_loss: 0.0393 - val_iou_score: 0.1281 - val_accuracy: 0.9877\n",
            "Epoch 16/30\n",
            "1000/1000 [==============================] - 82s 82ms/sample - loss: 0.0280 - iou_score: 0.1193 - accuracy: 0.9897 - val_loss: 0.0341 - val_iou_score: 0.1271 - val_accuracy: 0.9887\n",
            "Epoch 17/30\n",
            "1000/1000 [==============================] - 82s 82ms/sample - loss: 0.0266 - iou_score: 0.1211 - accuracy: 0.9904 - val_loss: 0.0503 - val_iou_score: 0.0903 - val_accuracy: 0.9859\n",
            "Epoch 18/30\n",
            "1000/1000 [==============================] - 82s 82ms/sample - loss: 0.0285 - iou_score: 0.1167 - accuracy: 0.9895 - val_loss: 0.1145 - val_iou_score: 0.0660 - val_accuracy: 0.9770\n",
            "Epoch 19/30\n",
            "1000/1000 [==============================] - 82s 82ms/sample - loss: 0.0274 - iou_score: 0.1191 - accuracy: 0.9900 - val_loss: 0.0345 - val_iou_score: 0.1302 - val_accuracy: 0.9890\n",
            "Epoch 20/30\n",
            "1000/1000 [==============================] - 82s 82ms/sample - loss: 0.0266 - iou_score: 0.1176 - accuracy: 0.9904 - val_loss: 0.0562 - val_iou_score: 0.0978 - val_accuracy: 0.9852\n",
            "Epoch 21/30\n",
            "1000/1000 [==============================] - 82s 82ms/sample - loss: 0.0230 - iou_score: 0.1229 - accuracy: 0.9914 - val_loss: 0.0328 - val_iou_score: 0.1132 - val_accuracy: 0.9896\n",
            "Epoch 22/30\n",
            "1000/1000 [==============================] - 82s 82ms/sample - loss: 0.0257 - iou_score: 0.1183 - accuracy: 0.9907 - val_loss: 0.0346 - val_iou_score: 0.1391 - val_accuracy: 0.9893\n",
            "Epoch 23/30\n",
            "1000/1000 [==============================] - 82s 82ms/sample - loss: 0.0212 - iou_score: 0.1235 - accuracy: 0.9921 - val_loss: 0.0369 - val_iou_score: 0.1224 - val_accuracy: 0.9884\n",
            "Epoch 24/30\n",
            "1000/1000 [==============================] - 82s 82ms/sample - loss: 0.0194 - iou_score: 0.1270 - accuracy: 0.9928 - val_loss: 0.0368 - val_iou_score: 0.1352 - val_accuracy: 0.9897\n",
            "Epoch 25/30\n",
            "1000/1000 [==============================] - 82s 82ms/sample - loss: 0.0177 - iou_score: 0.1273 - accuracy: 0.9932 - val_loss: 0.0372 - val_iou_score: 0.1320 - val_accuracy: 0.9895\n",
            "Epoch 26/30\n",
            "1000/1000 [==============================] - 82s 82ms/sample - loss: 0.0200 - iou_score: 0.1270 - accuracy: 0.9926 - val_loss: 0.0493 - val_iou_score: 0.1375 - val_accuracy: 0.9867\n",
            "Epoch 27/30\n",
            "1000/1000 [==============================] - 82s 82ms/sample - loss: 0.0199 - iou_score: 0.1274 - accuracy: 0.9926 - val_loss: 0.0325 - val_iou_score: 0.1374 - val_accuracy: 0.9903\n",
            "Epoch 28/30\n",
            "1000/1000 [==============================] - 82s 82ms/sample - loss: 0.0180 - iou_score: 0.1291 - accuracy: 0.9931 - val_loss: 0.0320 - val_iou_score: 0.1344 - val_accuracy: 0.9899\n",
            "Epoch 29/30\n",
            "1000/1000 [==============================] - 82s 82ms/sample - loss: 0.0203 - iou_score: 0.1237 - accuracy: 0.9923 - val_loss: 0.0367 - val_iou_score: 0.1401 - val_accuracy: 0.9888\n",
            "Epoch 30/30\n",
            "1000/1000 [==============================] - 82s 82ms/sample - loss: 0.0212 - iou_score: 0.1252 - accuracy: 0.9920 - val_loss: 0.1182 - val_iou_score: 0.1481 - val_accuracy: 0.9650\n"
          ],
          "name": "stdout"
        }
      ]
    },
    {
      "cell_type": "code",
      "metadata": {
        "colab": {
          "base_uri": "https://localhost:8080/",
          "height": 302
        },
        "id": "5ymxrY3gpSBh",
        "outputId": "30c5faa9-ad01-4a30-9a4b-9d77da71cfbd"
      },
      "source": [
        "#  Plot the results\n",
        "print(history.history.keys())\n",
        "\n",
        "import matplotlib.pyplot as plt\n",
        "plt.plot(history.history['loss'])\n",
        "plt.plot(history.history['val_loss'])"
      ],
      "execution_count": 15,
      "outputs": [
        {
          "output_type": "stream",
          "text": [
            "dict_keys(['loss', 'iou_score', 'accuracy', 'val_loss', 'val_iou_score', 'val_accuracy'])\n"
          ],
          "name": "stdout"
        },
        {
          "output_type": "execute_result",
          "data": {
            "text/plain": [
              "[<matplotlib.lines.Line2D at 0x7f56ed622b50>]"
            ]
          },
          "metadata": {
            "tags": []
          },
          "execution_count": 15
        },
        {
          "output_type": "display_data",
          "data": {
            "image/png": "[encoded data removed]",
            "text/plain": [
              "<Figure size 432x288 with 1 Axes>"
            ]
          },
          "metadata": {
            "tags": [],
            "needs_background": "light"
          }
        }
      ]
    },
    {
      "cell_type": "code",
      "metadata": {
        "colab": {
          "base_uri": "https://localhost:8080/",
          "height": 282
        },
        "id": "BOfjAUaKp213",
        "outputId": "5d144a51-7cbf-4006-8603-f8235829abe5"
      },
      "source": [
        "plt.plot(history.history['iou_score'])\n",
        "plt.plot(history.history['val_iou_score'])"
      ],
      "execution_count": 16,
      "outputs": [
        {
          "output_type": "execute_result",
          "data": {
            "text/plain": [
              "[<matplotlib.lines.Line2D at 0x7f56ed100210>]"
            ]
          },
          "metadata": {
            "tags": []
          },
          "execution_count": 16
        },
        {
          "output_type": "display_data",
          "data": {
            "image/png": "[encoded data removed]",
            "text/plain": [
              "<Figure size 432x288 with 1 Axes>"
            ]
          },
          "metadata": {
            "tags": [],
            "needs_background": "light"
          }
        }
      ]
    },
    {
      "cell_type": "code",
      "metadata": {
        "id": "xIs9nAuXJX8F"
      },
      "source": [
        "# get the testdata\n",
        "testImgs   = getData(testPath, testImgsFile)\n",
        "testLabels = getData(testPath, testLabelsFile)"
      ],
      "execution_count": 17,
      "outputs": []
    },
    {
      "cell_type": "code",
      "metadata": {
        "colab": {
          "base_uri": "https://localhost:8080/"
        },
        "id": "cJg2fDdHqDEr",
        "outputId": "a7676b86-94b0-41bb-b82f-52cdb1bfeb82"
      },
      "source": [
        "model.evaluate(testImgs, testLabels)"
      ],
      "execution_count": 18,
      "outputs": [
        {
          "output_type": "stream",
          "text": [
            "617/617 [==============================] - 23s 37ms/sample - loss: 0.1119 - iou_score: 0.1496 - accuracy: 0.9673\n"
          ],
          "name": "stdout"
        },
        {
          "output_type": "execute_result",
          "data": {
            "text/plain": [
              "[0.11186246230980952, 0.14957732, 0.96727747]"
            ]
          },
          "metadata": {
            "tags": []
          },
          "execution_count": 18
        }
      ]
    },
    {
      "cell_type": "code",
      "metadata": {
        "id": "4kBp5pC4qe3j"
      },
      "source": [
        "# save the model weights\n",
        "weightFileName = \"UResNet101_30e_16b.h5\"\n",
        "weightPath = '/content/drive/My Drive/Underwater_Segmentation_Research/Weights/UNET'\n",
        "model.save_weights(weightPath + \"/\" + weightFileName)\n"
      ],
      "execution_count": 24,
      "outputs": []
    },
    {
      "cell_type": "code",
      "metadata": {
        "colab": {
          "base_uri": "https://localhost:8080/"
        },
        "id": "O0ktWQ4lsyxv",
        "outputId": "78ad8771-fb0a-4e3a-dd93-30c01fcf0e2e"
      },
      "source": [
        "model.load_weights(weightPath + \"/\" + weightFileName)\n",
        "model.evaluate(testImgs, testLabels)"
      ],
      "execution_count": 25,
      "outputs": [
        {
          "output_type": "stream",
          "text": [
            "617/617 [==============================] - 14s 23ms/sample - loss: 0.1119 - iou_score: 0.1496 - accuracy: 0.9673\n"
          ],
          "name": "stdout"
        },
        {
          "output_type": "execute_result",
          "data": {
            "text/plain": [
              "[0.11186246230980952, 0.14957732, 0.96727747]"
            ]
          },
          "metadata": {
            "tags": []
          },
          "execution_count": 25
        }
      ]
    },
    {
      "cell_type": "code",
      "metadata": {
        "id": "QOgVsGZjLkeM"
      },
      "source": [
        ""
      ],
      "execution_count": null,
      "outputs": []
    },
    {
      "cell_type": "code",
      "metadata": {
        "colab": {
          "base_uri": "https://localhost:8080/"
        },
        "id": "SF0gF5Otuac9",
        "outputId": "2ecf2512-c8f0-40d7-bb41-fcd17733d37b"
      },
      "source": [
        "modelFileName = \"UResNet101_30e_16b\"\n",
        "modelPath     = '/content/drive/My Drive/Underwater_Segmentation_Research/Models/Unet'\n",
        "model.save(modelPath + \"/\" + modelFileName)"
      ],
      "execution_count": 26,
      "outputs": [
        {
          "output_type": "stream",
          "text": [
            "WARNING:tensorflow:From /usr/local/lib/python3.7/dist-packages/tensorflow_core/python/ops/resource_variable_ops.py:1786: calling BaseResourceVariable.__init__ (from tensorflow.python.ops.resource_variable_ops) with constraint is deprecated and will be removed in a future version.\n",
            "Instructions for updating:\n",
            "If using Keras pass *_constraint arguments to layers.\n",
            "INFO:tensorflow:Assets written to: /content/drive/My Drive/Underwater_Segmentation_Research/Models/Unet/UResNet101_30e_16b/assets\n"
          ],
          "name": "stdout"
        }
      ]
    },
    {
      "cell_type": "code",
      "metadata": {
        "colab": {
          "base_uri": "https://localhost:8080/"
        },
        "id": "8g2JByQRvjc3",
        "outputId": "7eb73e87-14a6-4060-836a-1781e5901077"
      },
      "source": [
        "# Check the GPU configuration\n",
        "!nvidia-smi"
      ],
      "execution_count": 27,
      "outputs": [
        {
          "output_type": "stream",
          "text": [
            "Tue Mar 30 06:31:33 2021       \n",
            "+-----------------------------------------------------------------------------+\n",
            "| NVIDIA-SMI 460.56       Driver Version: 460.32.03    CUDA Version: 11.2     |\n",
            "|-------------------------------+----------------------+----------------------+\n",
            "| GPU  Name        Persistence-M| Bus-Id        Disp.A | Volatile Uncorr. ECC |\n",
            "| Fan  Temp  Perf  Pwr:Usage/Cap|         Memory-Usage | GPU-Util  Compute M. |\n",
            "|                               |                      |               MIG M. |\n",
            "|===============================+======================+======================|\n",
            "|   0  Tesla T4            Off  | 00000000:00:04.0 Off |                    0 |\n",
            "| N/A   74C    P0    32W /  70W |  14870MiB / 15109MiB |      0%      Default |\n",
            "|                               |                      |                  N/A |\n",
            "+-------------------------------+----------------------+----------------------+\n",
            "                                                                               \n",
            "+-----------------------------------------------------------------------------+\n",
            "| Processes:                                                                  |\n",
            "|  GPU   GI   CI        PID   Type   Process name                  GPU Memory |\n",
            "|        ID   ID                                                   Usage      |\n",
            "|=============================================================================|\n",
            "+-----------------------------------------------------------------------------+\n"
          ],
          "name": "stdout"
        }
      ]
    },
    {
      "cell_type": "code",
      "metadata": {
        "id": "5N3b-uUEwaZ2"
      },
      "source": [
        "# check the outputs here\n",
        "outputs = model.predict(testImgs)"
      ],
      "execution_count": 28,
      "outputs": []
    },
    {
      "cell_type": "code",
      "metadata": {
        "colab": {
          "base_uri": "https://localhost:8080/",
          "height": 269
        },
        "id": "oRL028hYwnR-",
        "outputId": "80e7e54f-1017-4c3f-e714-a5c5f8083a77"
      },
      "source": [
        "import matplotlib.pyplot as plt\n",
        "\n",
        "img = outputs[0,:,:,0]\n",
        "plt.imshow(img)\n",
        "plt.show()"
      ],
      "execution_count": 31,
      "outputs": [
        {
          "output_type": "display_data",
          "data": {
            "image/png": "[encoded data removed]",
            "text/plain": [
              "<Figure size 432x288 with 1 Axes>"
            ]
          },
          "metadata": {
            "tags": [],
            "needs_background": "light"
          }
        }
      ]
    },
    {
      "cell_type": "code",
      "metadata": {
        "id": "exi7mUblK4-s"
      },
      "source": [
        "outputs = None"
      ],
      "execution_count": 17,
      "outputs": []
    }
  ]
}