{
  "nbformat": 4,
  "nbformat_minor": 0,
  "metadata": {
    "colab": {
      "name": "UResNet50.ipynb",
      "provenance": []
    },
    "kernelspec": {
      "name": "python3",
      "display_name": "Python 3"
    },
    "language_info": {
      "name": "python"
    },
    "accelerator": "GPU"
  },
  "cells": [
    {
      "cell_type": "code",
      "metadata": {
        "colab": {
          "base_uri": "https://localhost:8080/"
        },
        "id": "GmErIJJtXgxr",
        "outputId": "819927a5-3e36-4045-8fe8-6f025a8eba38"
      },
      "source": [
        "# Unet with ResNet 34 for multiclass semantic segmentation\n",
        "!pip install tensorflow==2.1.0"
      ],
      "execution_count": 1,
      "outputs": [
        {
          "output_type": "stream",
          "text": [
            "Collecting tensorflow==2.1.0\n",
            "\u001b[?25l  Downloading https://files.pythonhosted.org/packages/1d/56/0dbdae2a3c527a119bec0d5cf441655fe030ce1daa6fa6b9542f7dbd8664/tensorflow-2.1.0-cp37-cp37m-manylinux2010_x86_64.whl (421.8MB)\n",
            "\u001b[K     |████████████████████████████████| 421.8MB 19kB/s \n",
            "\u001b[?25hRequirement already satisfied: wheel>=0.26; python_version >= \"3\" in /usr/local/lib/python3.7/dist-packages (from tensorflow==2.1.0) (0.36.2)\n",
            "Collecting tensorflow-estimator<2.2.0,>=2.1.0rc0\n",
            "\u001b[?25l  Downloading https://files.pythonhosted.org/packages/18/90/b77c328a1304437ab1310b463e533fa7689f4bfc41549593056d812fab8e/tensorflow_estimator-2.1.0-py2.py3-none-any.whl (448kB)\n",
            "\u001b[K     |████████████████████████████████| 450kB 35.6MB/s \n",
            "\u001b[?25hCollecting gast==0.2.2\n",
            "  Downloading https://files.pythonhosted.org/packages/4e/35/11749bf99b2d4e3cceb4d55ca22590b0d7c2c62b9de38ac4a4a7f4687421/gast-0.2.2.tar.gz\n",
            "Collecting keras-applications>=1.0.8\n",
            "\u001b[?25l  Downloading https://files.pythonhosted.org/packages/71/e3/19762fdfc62877ae9102edf6342d71b28fbfd9dea3d2f96a882ce099b03f/Keras_Applications-1.0.8-py3-none-any.whl (50kB)\n",
            "\u001b[K     |████████████████████████████████| 51kB 7.6MB/s \n",
            "\u001b[?25hRequirement already satisfied: protobuf>=3.8.0 in /usr/local/lib/python3.7/dist-packages (from tensorflow==2.1.0) (3.12.4)\n",
            "Requirement already satisfied: keras-preprocessing>=1.1.0 in /usr/local/lib/python3.7/dist-packages (from tensorflow==2.1.0) (1.1.2)\n",
            "Collecting tensorboard<2.2.0,>=2.1.0\n",
            "\u001b[?25l  Downloading https://files.pythonhosted.org/packages/d9/41/bbf49b61370e4f4d245d4c6051dfb6db80cec672605c91b1652ac8cc3d38/tensorboard-2.1.1-py3-none-any.whl (3.8MB)\n",
            "\u001b[K     |████████████████████████████████| 3.9MB 50.4MB/s \n",
            "\u001b[?25hRequirement already satisfied: opt-einsum>=2.3.2 in /usr/local/lib/python3.7/dist-packages (from tensorflow==2.1.0) (3.3.0)\n",
            "Requirement already satisfied: absl-py>=0.7.0 in /usr/local/lib/python3.7/dist-packages (from tensorflow==2.1.0) (0.10.0)\n",
            "Requirement already satisfied: wrapt>=1.11.1 in /usr/local/lib/python3.7/dist-packages (from tensorflow==2.1.0) (1.12.1)\n",
            "Requirement already satisfied: termcolor>=1.1.0 in /usr/local/lib/python3.7/dist-packages (from tensorflow==2.1.0) (1.1.0)\n",
            "Requirement already satisfied: six>=1.12.0 in /usr/local/lib/python3.7/dist-packages (from tensorflow==2.1.0) (1.15.0)\n",
            "Requirement already satisfied: google-pasta>=0.1.6 in /usr/local/lib/python3.7/dist-packages (from tensorflow==2.1.0) (0.2.0)\n",
            "Requirement already satisfied: grpcio>=1.8.6 in /usr/local/lib/python3.7/dist-packages (from tensorflow==2.1.0) (1.32.0)\n",
            "Requirement already satisfied: astor>=0.6.0 in /usr/local/lib/python3.7/dist-packages (from tensorflow==2.1.0) (0.8.1)\n",
            "Requirement already satisfied: scipy==1.4.1; python_version >= \"3\" in /usr/local/lib/python3.7/dist-packages (from tensorflow==2.1.0) (1.4.1)\n",
            "Requirement already satisfied: numpy<2.0,>=1.16.0 in /usr/local/lib/python3.7/dist-packages (from tensorflow==2.1.0) (1.19.5)\n",
            "Requirement already satisfied: h5py in /usr/local/lib/python3.7/dist-packages (from keras-applications>=1.0.8->tensorflow==2.1.0) (2.10.0)\n",
            "Requirement already satisfied: setuptools in /usr/local/lib/python3.7/dist-packages (from protobuf>=3.8.0->tensorflow==2.1.0) (54.1.2)\n",
            "Requirement already satisfied: markdown>=2.6.8 in /usr/local/lib/python3.7/dist-packages (from tensorboard<2.2.0,>=2.1.0->tensorflow==2.1.0) (3.3.4)\n",
            "Requirement already satisfied: google-auth<2,>=1.6.3 in /usr/local/lib/python3.7/dist-packages (from tensorboard<2.2.0,>=2.1.0->tensorflow==2.1.0) (1.27.1)\n",
            "Requirement already satisfied: requests<3,>=2.21.0 in /usr/local/lib/python3.7/dist-packages (from tensorboard<2.2.0,>=2.1.0->tensorflow==2.1.0) (2.23.0)\n",
            "Requirement already satisfied: werkzeug>=0.11.15 in /usr/local/lib/python3.7/dist-packages (from tensorboard<2.2.0,>=2.1.0->tensorflow==2.1.0) (1.0.1)\n",
            "Requirement already satisfied: google-auth-oauthlib<0.5,>=0.4.1 in /usr/local/lib/python3.7/dist-packages (from tensorboard<2.2.0,>=2.1.0->tensorflow==2.1.0) (0.4.3)\n",
            "Requirement already satisfied: importlib-metadata; python_version < \"3.8\" in /usr/local/lib/python3.7/dist-packages (from markdown>=2.6.8->tensorboard<2.2.0,>=2.1.0->tensorflow==2.1.0) (3.7.2)\n",
            "Requirement already satisfied: rsa<5,>=3.1.4; python_version >= \"3.6\" in /usr/local/lib/python3.7/dist-packages (from google-auth<2,>=1.6.3->tensorboard<2.2.0,>=2.1.0->tensorflow==2.1.0) (4.7.2)\n",
            "Requirement already satisfied: cachetools<5.0,>=2.0.0 in /usr/local/lib/python3.7/dist-packages (from google-auth<2,>=1.6.3->tensorboard<2.2.0,>=2.1.0->tensorflow==2.1.0) (4.2.1)\n",
            "Requirement already satisfied: pyasn1-modules>=0.2.1 in /usr/local/lib/python3.7/dist-packages (from google-auth<2,>=1.6.3->tensorboard<2.2.0,>=2.1.0->tensorflow==2.1.0) (0.2.8)\n",
            "Requirement already satisfied: certifi>=2017.4.17 in /usr/local/lib/python3.7/dist-packages (from requests<3,>=2.21.0->tensorboard<2.2.0,>=2.1.0->tensorflow==2.1.0) (2020.12.5)\n",
            "Requirement already satisfied: chardet<4,>=3.0.2 in /usr/local/lib/python3.7/dist-packages (from requests<3,>=2.21.0->tensorboard<2.2.0,>=2.1.0->tensorflow==2.1.0) (3.0.4)\n",
            "Requirement already satisfied: idna<3,>=2.5 in /usr/local/lib/python3.7/dist-packages (from requests<3,>=2.21.0->tensorboard<2.2.0,>=2.1.0->tensorflow==2.1.0) (2.10)\n",
            "Requirement already satisfied: urllib3!=1.25.0,!=1.25.1,<1.26,>=1.21.1 in /usr/local/lib/python3.7/dist-packages (from requests<3,>=2.21.0->tensorboard<2.2.0,>=2.1.0->tensorflow==2.1.0) (1.24.3)\n",
            "Requirement already satisfied: requests-oauthlib>=0.7.0 in /usr/local/lib/python3.7/dist-packages (from google-auth-oauthlib<0.5,>=0.4.1->tensorboard<2.2.0,>=2.1.0->tensorflow==2.1.0) (1.3.0)\n",
            "Requirement already satisfied: typing-extensions>=3.6.4; python_version < \"3.8\" in /usr/local/lib/python3.7/dist-packages (from importlib-metadata; python_version < \"3.8\"->markdown>=2.6.8->tensorboard<2.2.0,>=2.1.0->tensorflow==2.1.0) (3.7.4.3)\n",
            "Requirement already satisfied: zipp>=0.5 in /usr/local/lib/python3.7/dist-packages (from importlib-metadata; python_version < \"3.8\"->markdown>=2.6.8->tensorboard<2.2.0,>=2.1.0->tensorflow==2.1.0) (3.4.1)\n",
            "Requirement already satisfied: pyasn1>=0.1.3 in /usr/local/lib/python3.7/dist-packages (from rsa<5,>=3.1.4; python_version >= \"3.6\"->google-auth<2,>=1.6.3->tensorboard<2.2.0,>=2.1.0->tensorflow==2.1.0) (0.4.8)\n",
            "Requirement already satisfied: oauthlib>=3.0.0 in /usr/local/lib/python3.7/dist-packages (from requests-oauthlib>=0.7.0->google-auth-oauthlib<0.5,>=0.4.1->tensorboard<2.2.0,>=2.1.0->tensorflow==2.1.0) (3.1.0)\n",
            "Building wheels for collected packages: gast\n",
            "  Building wheel for gast (setup.py) ... \u001b[?25l\u001b[?25hdone\n",
            "  Created wheel for gast: filename=gast-0.2.2-cp37-none-any.whl size=7540 sha256=a0f5c498557a4c181ef59f971367e669ce0fa7a6ffd4c5d47cd1abbd0e9aac80\n",
            "  Stored in directory: /root/.cache/pip/wheels/5c/2e/7e/a1d4d4fcebe6c381f378ce7743a3ced3699feb89bcfbdadadd\n",
            "Successfully built gast\n",
            "\u001b[31mERROR: tensorflow-probability 0.12.1 has requirement gast>=0.3.2, but you'll have gast 0.2.2 which is incompatible.\u001b[0m\n",
            "Installing collected packages: tensorflow-estimator, gast, keras-applications, tensorboard, tensorflow\n",
            "  Found existing installation: tensorflow-estimator 2.4.0\n",
            "    Uninstalling tensorflow-estimator-2.4.0:\n",
            "      Successfully uninstalled tensorflow-estimator-2.4.0\n",
            "  Found existing installation: gast 0.3.3\n",
            "    Uninstalling gast-0.3.3:\n",
            "      Successfully uninstalled gast-0.3.3\n",
            "  Found existing installation: tensorboard 2.4.1\n",
            "    Uninstalling tensorboard-2.4.1:\n",
            "      Successfully uninstalled tensorboard-2.4.1\n",
            "  Found existing installation: tensorflow 2.4.1\n",
            "    Uninstalling tensorflow-2.4.1:\n",
            "      Successfully uninstalled tensorflow-2.4.1\n",
            "Successfully installed gast-0.2.2 keras-applications-1.0.8 tensorboard-2.1.1 tensorflow-2.1.0 tensorflow-estimator-2.1.0\n"
          ],
          "name": "stdout"
        }
      ]
    },
    {
      "cell_type": "code",
      "metadata": {
        "colab": {
          "base_uri": "https://localhost:8080/"
        },
        "id": "E05RxVTVawRq",
        "outputId": "e473a90e-54bf-43c1-99f1-6ee318e5f307"
      },
      "source": [
        "!pip install segmentation-models"
      ],
      "execution_count": 2,
      "outputs": [
        {
          "output_type": "stream",
          "text": [
            "Collecting segmentation-models\n",
            "  Downloading https://files.pythonhosted.org/packages/da/b9/4a183518c21689a56b834eaaa45cad242d9ec09a4360b5b10139f23c63f4/segmentation_models-1.0.1-py3-none-any.whl\n",
            "Collecting image-classifiers==1.0.0\n",
            "  Downloading https://files.pythonhosted.org/packages/81/98/6f84720e299a4942ab80df5f76ab97b7828b24d1de5e9b2cbbe6073228b7/image_classifiers-1.0.0-py3-none-any.whl\n",
            "Collecting efficientnet==1.0.0\n",
            "  Downloading https://files.pythonhosted.org/packages/97/82/f3ae07316f0461417dc54affab6e86ab188a5a22f33176d35271628b96e0/efficientnet-1.0.0-py3-none-any.whl\n",
            "Requirement already satisfied: keras-applications<=1.0.8,>=1.0.7 in /usr/local/lib/python3.7/dist-packages (from segmentation-models) (1.0.8)\n",
            "Requirement already satisfied: scikit-image in /usr/local/lib/python3.7/dist-packages (from efficientnet==1.0.0->segmentation-models) (0.16.2)\n",
            "Requirement already satisfied: h5py in /usr/local/lib/python3.7/dist-packages (from keras-applications<=1.0.8,>=1.0.7->segmentation-models) (2.10.0)\n",
            "Requirement already satisfied: numpy>=1.9.1 in /usr/local/lib/python3.7/dist-packages (from keras-applications<=1.0.8,>=1.0.7->segmentation-models) (1.19.5)\n",
            "Requirement already satisfied: scipy>=0.19.0 in /usr/local/lib/python3.7/dist-packages (from scikit-image->efficientnet==1.0.0->segmentation-models) (1.4.1)\n",
            "Requirement already satisfied: PyWavelets>=0.4.0 in /usr/local/lib/python3.7/dist-packages (from scikit-image->efficientnet==1.0.0->segmentation-models) (1.1.1)\n",
            "Requirement already satisfied: pillow>=4.3.0 in /usr/local/lib/python3.7/dist-packages (from scikit-image->efficientnet==1.0.0->segmentation-models) (7.0.0)\n",
            "Requirement already satisfied: networkx>=2.0 in /usr/local/lib/python3.7/dist-packages (from scikit-image->efficientnet==1.0.0->segmentation-models) (2.5)\n",
            "Requirement already satisfied: imageio>=2.3.0 in /usr/local/lib/python3.7/dist-packages (from scikit-image->efficientnet==1.0.0->segmentation-models) (2.4.1)\n",
            "Requirement already satisfied: matplotlib!=3.0.0,>=2.0.0 in /usr/local/lib/python3.7/dist-packages (from scikit-image->efficientnet==1.0.0->segmentation-models) (3.2.2)\n",
            "Requirement already satisfied: six in /usr/local/lib/python3.7/dist-packages (from h5py->keras-applications<=1.0.8,>=1.0.7->segmentation-models) (1.15.0)\n",
            "Requirement already satisfied: decorator>=4.3.0 in /usr/local/lib/python3.7/dist-packages (from networkx>=2.0->scikit-image->efficientnet==1.0.0->segmentation-models) (4.4.2)\n",
            "Requirement already satisfied: kiwisolver>=1.0.1 in /usr/local/lib/python3.7/dist-packages (from matplotlib!=3.0.0,>=2.0.0->scikit-image->efficientnet==1.0.0->segmentation-models) (1.3.1)\n",
            "Requirement already satisfied: python-dateutil>=2.1 in /usr/local/lib/python3.7/dist-packages (from matplotlib!=3.0.0,>=2.0.0->scikit-image->efficientnet==1.0.0->segmentation-models) (2.8.1)\n",
            "Requirement already satisfied: pyparsing!=2.0.4,!=2.1.2,!=2.1.6,>=2.0.1 in /usr/local/lib/python3.7/dist-packages (from matplotlib!=3.0.0,>=2.0.0->scikit-image->efficientnet==1.0.0->segmentation-models) (2.4.7)\n",
            "Requirement already satisfied: cycler>=0.10 in /usr/local/lib/python3.7/dist-packages (from matplotlib!=3.0.0,>=2.0.0->scikit-image->efficientnet==1.0.0->segmentation-models) (0.10.0)\n",
            "Installing collected packages: image-classifiers, efficientnet, segmentation-models\n",
            "Successfully installed efficientnet-1.0.0 image-classifiers-1.0.0 segmentation-models-1.0.1\n"
          ],
          "name": "stdout"
        }
      ]
    },
    {
      "cell_type": "code",
      "metadata": {
        "colab": {
          "base_uri": "https://localhost:8080/"
        },
        "id": "KGcItvZUbw6S",
        "outputId": "051e4513-0e51-4a25-d49e-84d44150229d"
      },
      "source": [
        "# mount google drive here\n",
        "from google.colab import drive\n",
        "drive.mount('/content/drive')"
      ],
      "execution_count": 3,
      "outputs": [
        {
          "output_type": "stream",
          "text": [
            "Mounted at /content/drive\n"
          ],
          "name": "stdout"
        }
      ]
    },
    {
      "cell_type": "code",
      "metadata": {
        "colab": {
          "base_uri": "https://localhost:8080/"
        },
        "id": "OVkZ3Rt_cBIJ",
        "outputId": "c3503125-cb72-4e18-d6ca-cef1da7dcb1f"
      },
      "source": [
        "# Fetch the training, validation and testing dataset\n",
        "import os\n",
        "import numpy as np\n",
        "\n",
        "dataPath  = '/content/drive/My Drive/Underwater_Segmentation_Research/Data'\n",
        "\n",
        "trainPath =  dataPath + '/Train'\n",
        "testPath  =  dataPath + '/Test'\n",
        "valPath   =  dataPath + '/Validate'\n",
        "\n",
        "trainImgsFile   = 'trainingDataImgs.npy'\n",
        "trainLabelsFile = 'trainingDataLabels.npy'\n",
        "\n",
        "testImgsFile    = 'testingDataImgs.npy'\n",
        "testLabelsFile  = 'testingDataLabels.npy'\n",
        "\n",
        "valImgsFile     = 'validationDataImgs.npy'\n",
        "valLabelsFile   = 'validationDataLabels.npy'\n",
        "\n",
        "def getData(path,fileName):\n",
        "  return np.load(path + \"/\" + fileName)\n",
        "\n",
        "trainImgs = getData(trainPath, trainImgsFile)\n",
        "trainLabels = getData(trainPath, trainLabelsFile)\n",
        "\n",
        "#testImgs   = getData(testPath, testImgsFile)\n",
        "#testLabels = getData(testPath, testLabelsFile)\n",
        "\n",
        "valImgs    = getData(valPath, valImgsFile)\n",
        "valLabels  = getData(valPath, valLabelsFile)\n",
        "\n",
        "print(\"Got train and validation data\")\n",
        "print(trainImgs.shape, valImgs.shape)\n",
        "print(trainLabels.shape, valLabels.shape)"
      ],
      "execution_count": 9,
      "outputs": [
        {
          "output_type": "stream",
          "text": [
            "Got train and validation data\n",
            "(1000, 480, 320, 1) (251, 480, 320, 1)\n",
            "(1000, 480, 320, 1) (251, 480, 320, 1)\n"
          ],
          "name": "stdout"
        }
      ]
    },
    {
      "cell_type": "code",
      "metadata": {
        "colab": {
          "base_uri": "https://localhost:8080/"
        },
        "id": "UYzc3jDWbN78",
        "outputId": "cb20c64c-ad16-4b97-b794-9a510da0e23d"
      },
      "source": [
        "# Create the model (without pre-trained ImageNet weights)\n",
        "# BATCH_SIZE = 16\n",
        "# EPOCHS     = 20 (use early stopping as well to avoid overfitting (and store the epochs till then))\n",
        "import os\n",
        "import numpy as np\n",
        "import segmentation_models as sm\n",
        "\n",
        "# create the model\n",
        "model = sm.Unet('resnet50', input_shape=(480, 320, 1), encoder_weights=None, classes=12, activation='softmax')\n",
        "model.summary()\n"
      ],
      "execution_count": 3,
      "outputs": [
        {
          "output_type": "stream",
          "text": [
            "Segmentation Models: using `tf.keras` framework.\n",
            "Model: \"model_1\"\n",
            "__________________________________________________________________________________________________\n",
            "Layer (type)                    Output Shape         Param #     Connected to                     \n",
            "==================================================================================================\n",
            "data (InputLayer)               [(None, 480, 320, 1) 0                                            \n",
            "__________________________________________________________________________________________________\n",
            "bn_data (BatchNormalization)    (None, 480, 320, 1)  3           data[0][0]                       \n",
            "__________________________________________________________________________________________________\n",
            "zero_padding2d (ZeroPadding2D)  (None, 486, 326, 1)  0           bn_data[0][0]                    \n",
            "__________________________________________________________________________________________________\n",
            "conv0 (Conv2D)                  (None, 240, 160, 64) 3136        zero_padding2d[0][0]             \n",
            "__________________________________________________________________________________________________\n",
            "bn0 (BatchNormalization)        (None, 240, 160, 64) 256         conv0[0][0]                      \n",
            "__________________________________________________________________________________________________\n",
            "relu0 (Activation)              (None, 240, 160, 64) 0           bn0[0][0]                        \n",
            "__________________________________________________________________________________________________\n",
            "zero_padding2d_1 (ZeroPadding2D (None, 242, 162, 64) 0           relu0[0][0]                      \n",
            "__________________________________________________________________________________________________\n",
            "pooling0 (MaxPooling2D)         (None, 120, 80, 64)  0           zero_padding2d_1[0][0]           \n",
            "__________________________________________________________________________________________________\n",
            "stage1_unit1_bn1 (BatchNormaliz (None, 120, 80, 64)  256         pooling0[0][0]                   \n",
            "__________________________________________________________________________________________________\n",
            "stage1_unit1_relu1 (Activation) (None, 120, 80, 64)  0           stage1_unit1_bn1[0][0]           \n",
            "__________________________________________________________________________________________________\n",
            "stage1_unit1_conv1 (Conv2D)     (None, 120, 80, 64)  4096        stage1_unit1_relu1[0][0]         \n",
            "__________________________________________________________________________________________________\n",
            "stage1_unit1_bn2 (BatchNormaliz (None, 120, 80, 64)  256         stage1_unit1_conv1[0][0]         \n",
            "__________________________________________________________________________________________________\n",
            "stage1_unit1_relu2 (Activation) (None, 120, 80, 64)  0           stage1_unit1_bn2[0][0]           \n",
            "__________________________________________________________________________________________________\n",
            "zero_padding2d_2 (ZeroPadding2D (None, 122, 82, 64)  0           stage1_unit1_relu2[0][0]         \n",
            "__________________________________________________________________________________________________\n",
            "stage1_unit1_conv2 (Conv2D)     (None, 120, 80, 64)  36864       zero_padding2d_2[0][0]           \n",
            "__________________________________________________________________________________________________\n",
            "stage1_unit1_bn3 (BatchNormaliz (None, 120, 80, 64)  256         stage1_unit1_conv2[0][0]         \n",
            "__________________________________________________________________________________________________\n",
            "stage1_unit1_relu3 (Activation) (None, 120, 80, 64)  0           stage1_unit1_bn3[0][0]           \n",
            "__________________________________________________________________________________________________\n",
            "stage1_unit1_conv3 (Conv2D)     (None, 120, 80, 256) 16384       stage1_unit1_relu3[0][0]         \n",
            "__________________________________________________________________________________________________\n",
            "stage1_unit1_sc (Conv2D)        (None, 120, 80, 256) 16384       stage1_unit1_relu1[0][0]         \n",
            "__________________________________________________________________________________________________\n",
            "add (Add)                       (None, 120, 80, 256) 0           stage1_unit1_conv3[0][0]         \n",
            "                                                                 stage1_unit1_sc[0][0]            \n",
            "__________________________________________________________________________________________________\n",
            "stage1_unit2_bn1 (BatchNormaliz (None, 120, 80, 256) 1024        add[0][0]                        \n",
            "__________________________________________________________________________________________________\n",
            "stage1_unit2_relu1 (Activation) (None, 120, 80, 256) 0           stage1_unit2_bn1[0][0]           \n",
            "__________________________________________________________________________________________________\n",
            "stage1_unit2_conv1 (Conv2D)     (None, 120, 80, 64)  16384       stage1_unit2_relu1[0][0]         \n",
            "__________________________________________________________________________________________________\n",
            "stage1_unit2_bn2 (BatchNormaliz (None, 120, 80, 64)  256         stage1_unit2_conv1[0][0]         \n",
            "__________________________________________________________________________________________________\n",
            "stage1_unit2_relu2 (Activation) (None, 120, 80, 64)  0           stage1_unit2_bn2[0][0]           \n",
            "__________________________________________________________________________________________________\n",
            "zero_padding2d_3 (ZeroPadding2D (None, 122, 82, 64)  0           stage1_unit2_relu2[0][0]         \n",
            "__________________________________________________________________________________________________\n",
            "stage1_unit2_conv2 (Conv2D)     (None, 120, 80, 64)  36864       zero_padding2d_3[0][0]           \n",
            "__________________________________________________________________________________________________\n",
            "stage1_unit2_bn3 (BatchNormaliz (None, 120, 80, 64)  256         stage1_unit2_conv2[0][0]         \n",
            "__________________________________________________________________________________________________\n",
            "stage1_unit2_relu3 (Activation) (None, 120, 80, 64)  0           stage1_unit2_bn3[0][0]           \n",
            "__________________________________________________________________________________________________\n",
            "stage1_unit2_conv3 (Conv2D)     (None, 120, 80, 256) 16384       stage1_unit2_relu3[0][0]         \n",
            "__________________________________________________________________________________________________\n",
            "add_1 (Add)                     (None, 120, 80, 256) 0           stage1_unit2_conv3[0][0]         \n",
            "                                                                 add[0][0]                        \n",
            "__________________________________________________________________________________________________\n",
            "stage1_unit3_bn1 (BatchNormaliz (None, 120, 80, 256) 1024        add_1[0][0]                      \n",
            "__________________________________________________________________________________________________\n",
            "stage1_unit3_relu1 (Activation) (None, 120, 80, 256) 0           stage1_unit3_bn1[0][0]           \n",
            "__________________________________________________________________________________________________\n",
            "stage1_unit3_conv1 (Conv2D)     (None, 120, 80, 64)  16384       stage1_unit3_relu1[0][0]         \n",
            "__________________________________________________________________________________________________\n",
            "stage1_unit3_bn2 (BatchNormaliz (None, 120, 80, 64)  256         stage1_unit3_conv1[0][0]         \n",
            "__________________________________________________________________________________________________\n",
            "stage1_unit3_relu2 (Activation) (None, 120, 80, 64)  0           stage1_unit3_bn2[0][0]           \n",
            "__________________________________________________________________________________________________\n",
            "zero_padding2d_4 (ZeroPadding2D (None, 122, 82, 64)  0           stage1_unit3_relu2[0][0]         \n",
            "__________________________________________________________________________________________________\n",
            "stage1_unit3_conv2 (Conv2D)     (None, 120, 80, 64)  36864       zero_padding2d_4[0][0]           \n",
            "__________________________________________________________________________________________________\n",
            "stage1_unit3_bn3 (BatchNormaliz (None, 120, 80, 64)  256         stage1_unit3_conv2[0][0]         \n",
            "__________________________________________________________________________________________________\n",
            "stage1_unit3_relu3 (Activation) (None, 120, 80, 64)  0           stage1_unit3_bn3[0][0]           \n",
            "__________________________________________________________________________________________________\n",
            "stage1_unit3_conv3 (Conv2D)     (None, 120, 80, 256) 16384       stage1_unit3_relu3[0][0]         \n",
            "__________________________________________________________________________________________________\n",
            "add_2 (Add)                     (None, 120, 80, 256) 0           stage1_unit3_conv3[0][0]         \n",
            "                                                                 add_1[0][0]                      \n",
            "__________________________________________________________________________________________________\n",
            "stage2_unit1_bn1 (BatchNormaliz (None, 120, 80, 256) 1024        add_2[0][0]                      \n",
            "__________________________________________________________________________________________________\n",
            "stage2_unit1_relu1 (Activation) (None, 120, 80, 256) 0           stage2_unit1_bn1[0][0]           \n",
            "__________________________________________________________________________________________________\n",
            "stage2_unit1_conv1 (Conv2D)     (None, 120, 80, 128) 32768       stage2_unit1_relu1[0][0]         \n",
            "__________________________________________________________________________________________________\n",
            "stage2_unit1_bn2 (BatchNormaliz (None, 120, 80, 128) 512         stage2_unit1_conv1[0][0]         \n",
            "__________________________________________________________________________________________________\n",
            "stage2_unit1_relu2 (Activation) (None, 120, 80, 128) 0           stage2_unit1_bn2[0][0]           \n",
            "__________________________________________________________________________________________________\n",
            "zero_padding2d_5 (ZeroPadding2D (None, 122, 82, 128) 0           stage2_unit1_relu2[0][0]         \n",
            "__________________________________________________________________________________________________\n",
            "stage2_unit1_conv2 (Conv2D)     (None, 60, 40, 128)  147456      zero_padding2d_5[0][0]           \n",
            "__________________________________________________________________________________________________\n",
            "stage2_unit1_bn3 (BatchNormaliz (None, 60, 40, 128)  512         stage2_unit1_conv2[0][0]         \n",
            "__________________________________________________________________________________________________\n",
            "stage2_unit1_relu3 (Activation) (None, 60, 40, 128)  0           stage2_unit1_bn3[0][0]           \n",
            "__________________________________________________________________________________________________\n",
            "stage2_unit1_conv3 (Conv2D)     (None, 60, 40, 512)  65536       stage2_unit1_relu3[0][0]         \n",
            "__________________________________________________________________________________________________\n",
            "stage2_unit1_sc (Conv2D)        (None, 60, 40, 512)  131072      stage2_unit1_relu1[0][0]         \n",
            "__________________________________________________________________________________________________\n",
            "add_3 (Add)                     (None, 60, 40, 512)  0           stage2_unit1_conv3[0][0]         \n",
            "                                                                 stage2_unit1_sc[0][0]            \n",
            "__________________________________________________________________________________________________\n",
            "stage2_unit2_bn1 (BatchNormaliz (None, 60, 40, 512)  2048        add_3[0][0]                      \n",
            "__________________________________________________________________________________________________\n",
            "stage2_unit2_relu1 (Activation) (None, 60, 40, 512)  0           stage2_unit2_bn1[0][0]           \n",
            "__________________________________________________________________________________________________\n",
            "stage2_unit2_conv1 (Conv2D)     (None, 60, 40, 128)  65536       stage2_unit2_relu1[0][0]         \n",
            "__________________________________________________________________________________________________\n",
            "stage2_unit2_bn2 (BatchNormaliz (None, 60, 40, 128)  512         stage2_unit2_conv1[0][0]         \n",
            "__________________________________________________________________________________________________\n",
            "stage2_unit2_relu2 (Activation) (None, 60, 40, 128)  0           stage2_unit2_bn2[0][0]           \n",
            "__________________________________________________________________________________________________\n",
            "zero_padding2d_6 (ZeroPadding2D (None, 62, 42, 128)  0           stage2_unit2_relu2[0][0]         \n",
            "__________________________________________________________________________________________________\n",
            "stage2_unit2_conv2 (Conv2D)     (None, 60, 40, 128)  147456      zero_padding2d_6[0][0]           \n",
            "__________________________________________________________________________________________________\n",
            "stage2_unit2_bn3 (BatchNormaliz (None, 60, 40, 128)  512         stage2_unit2_conv2[0][0]         \n",
            "__________________________________________________________________________________________________\n",
            "stage2_unit2_relu3 (Activation) (None, 60, 40, 128)  0           stage2_unit2_bn3[0][0]           \n",
            "__________________________________________________________________________________________________\n",
            "stage2_unit2_conv3 (Conv2D)     (None, 60, 40, 512)  65536       stage2_unit2_relu3[0][0]         \n",
            "__________________________________________________________________________________________________\n",
            "add_4 (Add)                     (None, 60, 40, 512)  0           stage2_unit2_conv3[0][0]         \n",
            "                                                                 add_3[0][0]                      \n",
            "__________________________________________________________________________________________________\n",
            "stage2_unit3_bn1 (BatchNormaliz (None, 60, 40, 512)  2048        add_4[0][0]                      \n",
            "__________________________________________________________________________________________________\n",
            "stage2_unit3_relu1 (Activation) (None, 60, 40, 512)  0           stage2_unit3_bn1[0][0]           \n",
            "__________________________________________________________________________________________________\n",
            "stage2_unit3_conv1 (Conv2D)     (None, 60, 40, 128)  65536       stage2_unit3_relu1[0][0]         \n",
            "__________________________________________________________________________________________________\n",
            "stage2_unit3_bn2 (BatchNormaliz (None, 60, 40, 128)  512         stage2_unit3_conv1[0][0]         \n",
            "__________________________________________________________________________________________________\n",
            "stage2_unit3_relu2 (Activation) (None, 60, 40, 128)  0           stage2_unit3_bn2[0][0]           \n",
            "__________________________________________________________________________________________________\n",
            "zero_padding2d_7 (ZeroPadding2D (None, 62, 42, 128)  0           stage2_unit3_relu2[0][0]         \n",
            "__________________________________________________________________________________________________\n",
            "stage2_unit3_conv2 (Conv2D)     (None, 60, 40, 128)  147456      zero_padding2d_7[0][0]           \n",
            "__________________________________________________________________________________________________\n",
            "stage2_unit3_bn3 (BatchNormaliz (None, 60, 40, 128)  512         stage2_unit3_conv2[0][0]         \n",
            "__________________________________________________________________________________________________\n",
            "stage2_unit3_relu3 (Activation) (None, 60, 40, 128)  0           stage2_unit3_bn3[0][0]           \n",
            "__________________________________________________________________________________________________\n",
            "stage2_unit3_conv3 (Conv2D)     (None, 60, 40, 512)  65536       stage2_unit3_relu3[0][0]         \n",
            "__________________________________________________________________________________________________\n",
            "add_5 (Add)                     (None, 60, 40, 512)  0           stage2_unit3_conv3[0][0]         \n",
            "                                                                 add_4[0][0]                      \n",
            "__________________________________________________________________________________________________\n",
            "stage2_unit4_bn1 (BatchNormaliz (None, 60, 40, 512)  2048        add_5[0][0]                      \n",
            "__________________________________________________________________________________________________\n",
            "stage2_unit4_relu1 (Activation) (None, 60, 40, 512)  0           stage2_unit4_bn1[0][0]           \n",
            "__________________________________________________________________________________________________\n",
            "stage2_unit4_conv1 (Conv2D)     (None, 60, 40, 128)  65536       stage2_unit4_relu1[0][0]         \n",
            "__________________________________________________________________________________________________\n",
            "stage2_unit4_bn2 (BatchNormaliz (None, 60, 40, 128)  512         stage2_unit4_conv1[0][0]         \n",
            "__________________________________________________________________________________________________\n",
            "stage2_unit4_relu2 (Activation) (None, 60, 40, 128)  0           stage2_unit4_bn2[0][0]           \n",
            "__________________________________________________________________________________________________\n",
            "zero_padding2d_8 (ZeroPadding2D (None, 62, 42, 128)  0           stage2_unit4_relu2[0][0]         \n",
            "__________________________________________________________________________________________________\n",
            "stage2_unit4_conv2 (Conv2D)     (None, 60, 40, 128)  147456      zero_padding2d_8[0][0]           \n",
            "__________________________________________________________________________________________________\n",
            "stage2_unit4_bn3 (BatchNormaliz (None, 60, 40, 128)  512         stage2_unit4_conv2[0][0]         \n",
            "__________________________________________________________________________________________________\n",
            "stage2_unit4_relu3 (Activation) (None, 60, 40, 128)  0           stage2_unit4_bn3[0][0]           \n",
            "__________________________________________________________________________________________________\n",
            "stage2_unit4_conv3 (Conv2D)     (None, 60, 40, 512)  65536       stage2_unit4_relu3[0][0]         \n",
            "__________________________________________________________________________________________________\n",
            "add_6 (Add)                     (None, 60, 40, 512)  0           stage2_unit4_conv3[0][0]         \n",
            "                                                                 add_5[0][0]                      \n",
            "__________________________________________________________________________________________________\n",
            "stage3_unit1_bn1 (BatchNormaliz (None, 60, 40, 512)  2048        add_6[0][0]                      \n",
            "__________________________________________________________________________________________________\n",
            "stage3_unit1_relu1 (Activation) (None, 60, 40, 512)  0           stage3_unit1_bn1[0][0]           \n",
            "__________________________________________________________________________________________________\n",
            "stage3_unit1_conv1 (Conv2D)     (None, 60, 40, 256)  131072      stage3_unit1_relu1[0][0]         \n",
            "__________________________________________________________________________________________________\n",
            "stage3_unit1_bn2 (BatchNormaliz (None, 60, 40, 256)  1024        stage3_unit1_conv1[0][0]         \n",
            "__________________________________________________________________________________________________\n",
            "stage3_unit1_relu2 (Activation) (None, 60, 40, 256)  0           stage3_unit1_bn2[0][0]           \n",
            "__________________________________________________________________________________________________\n",
            "zero_padding2d_9 (ZeroPadding2D (None, 62, 42, 256)  0           stage3_unit1_relu2[0][0]         \n",
            "__________________________________________________________________________________________________\n",
            "stage3_unit1_conv2 (Conv2D)     (None, 30, 20, 256)  589824      zero_padding2d_9[0][0]           \n",
            "__________________________________________________________________________________________________\n",
            "stage3_unit1_bn3 (BatchNormaliz (None, 30, 20, 256)  1024        stage3_unit1_conv2[0][0]         \n",
            "__________________________________________________________________________________________________\n",
            "stage3_unit1_relu3 (Activation) (None, 30, 20, 256)  0           stage3_unit1_bn3[0][0]           \n",
            "__________________________________________________________________________________________________\n",
            "stage3_unit1_conv3 (Conv2D)     (None, 30, 20, 1024) 262144      stage3_unit1_relu3[0][0]         \n",
            "__________________________________________________________________________________________________\n",
            "stage3_unit1_sc (Conv2D)        (None, 30, 20, 1024) 524288      stage3_unit1_relu1[0][0]         \n",
            "__________________________________________________________________________________________________\n",
            "add_7 (Add)                     (None, 30, 20, 1024) 0           stage3_unit1_conv3[0][0]         \n",
            "                                                                 stage3_unit1_sc[0][0]            \n",
            "__________________________________________________________________________________________________\n",
            "stage3_unit2_bn1 (BatchNormaliz (None, 30, 20, 1024) 4096        add_7[0][0]                      \n",
            "__________________________________________________________________________________________________\n",
            "stage3_unit2_relu1 (Activation) (None, 30, 20, 1024) 0           stage3_unit2_bn1[0][0]           \n",
            "__________________________________________________________________________________________________\n",
            "stage3_unit2_conv1 (Conv2D)     (None, 30, 20, 256)  262144      stage3_unit2_relu1[0][0]         \n",
            "__________________________________________________________________________________________________\n",
            "stage3_unit2_bn2 (BatchNormaliz (None, 30, 20, 256)  1024        stage3_unit2_conv1[0][0]         \n",
            "__________________________________________________________________________________________________\n",
            "stage3_unit2_relu2 (Activation) (None, 30, 20, 256)  0           stage3_unit2_bn2[0][0]           \n",
            "__________________________________________________________________________________________________\n",
            "zero_padding2d_10 (ZeroPadding2 (None, 32, 22, 256)  0           stage3_unit2_relu2[0][0]         \n",
            "__________________________________________________________________________________________________\n",
            "stage3_unit2_conv2 (Conv2D)     (None, 30, 20, 256)  589824      zero_padding2d_10[0][0]          \n",
            "__________________________________________________________________________________________________\n",
            "stage3_unit2_bn3 (BatchNormaliz (None, 30, 20, 256)  1024        stage3_unit2_conv2[0][0]         \n",
            "__________________________________________________________________________________________________\n",
            "stage3_unit2_relu3 (Activation) (None, 30, 20, 256)  0           stage3_unit2_bn3[0][0]           \n",
            "__________________________________________________________________________________________________\n",
            "stage3_unit2_conv3 (Conv2D)     (None, 30, 20, 1024) 262144      stage3_unit2_relu3[0][0]         \n",
            "__________________________________________________________________________________________________\n",
            "add_8 (Add)                     (None, 30, 20, 1024) 0           stage3_unit2_conv3[0][0]         \n",
            "                                                                 add_7[0][0]                      \n",
            "__________________________________________________________________________________________________\n",
            "stage3_unit3_bn1 (BatchNormaliz (None, 30, 20, 1024) 4096        add_8[0][0]                      \n",
            "__________________________________________________________________________________________________\n",
            "stage3_unit3_relu1 (Activation) (None, 30, 20, 1024) 0           stage3_unit3_bn1[0][0]           \n",
            "__________________________________________________________________________________________________\n",
            "stage3_unit3_conv1 (Conv2D)     (None, 30, 20, 256)  262144      stage3_unit3_relu1[0][0]         \n",
            "__________________________________________________________________________________________________\n",
            "stage3_unit3_bn2 (BatchNormaliz (None, 30, 20, 256)  1024        stage3_unit3_conv1[0][0]         \n",
            "__________________________________________________________________________________________________\n",
            "stage3_unit3_relu2 (Activation) (None, 30, 20, 256)  0           stage3_unit3_bn2[0][0]           \n",
            "__________________________________________________________________________________________________\n",
            "zero_padding2d_11 (ZeroPadding2 (None, 32, 22, 256)  0           stage3_unit3_relu2[0][0]         \n",
            "__________________________________________________________________________________________________\n",
            "stage3_unit3_conv2 (Conv2D)     (None, 30, 20, 256)  589824      zero_padding2d_11[0][0]          \n",
            "__________________________________________________________________________________________________\n",
            "stage3_unit3_bn3 (BatchNormaliz (None, 30, 20, 256)  1024        stage3_unit3_conv2[0][0]         \n",
            "__________________________________________________________________________________________________\n",
            "stage3_unit3_relu3 (Activation) (None, 30, 20, 256)  0           stage3_unit3_bn3[0][0]           \n",
            "__________________________________________________________________________________________________\n",
            "stage3_unit3_conv3 (Conv2D)     (None, 30, 20, 1024) 262144      stage3_unit3_relu3[0][0]         \n",
            "__________________________________________________________________________________________________\n",
            "add_9 (Add)                     (None, 30, 20, 1024) 0           stage3_unit3_conv3[0][0]         \n",
            "                                                                 add_8[0][0]                      \n",
            "__________________________________________________________________________________________________\n",
            "stage3_unit4_bn1 (BatchNormaliz (None, 30, 20, 1024) 4096        add_9[0][0]                      \n",
            "__________________________________________________________________________________________________\n",
            "stage3_unit4_relu1 (Activation) (None, 30, 20, 1024) 0           stage3_unit4_bn1[0][0]           \n",
            "__________________________________________________________________________________________________\n",
            "stage3_unit4_conv1 (Conv2D)     (None, 30, 20, 256)  262144      stage3_unit4_relu1[0][0]         \n",
            "__________________________________________________________________________________________________\n",
            "stage3_unit4_bn2 (BatchNormaliz (None, 30, 20, 256)  1024        stage3_unit4_conv1[0][0]         \n",
            "__________________________________________________________________________________________________\n",
            "stage3_unit4_relu2 (Activation) (None, 30, 20, 256)  0           stage3_unit4_bn2[0][0]           \n",
            "__________________________________________________________________________________________________\n",
            "zero_padding2d_12 (ZeroPadding2 (None, 32, 22, 256)  0           stage3_unit4_relu2[0][0]         \n",
            "__________________________________________________________________________________________________\n",
            "stage3_unit4_conv2 (Conv2D)     (None, 30, 20, 256)  589824      zero_padding2d_12[0][0]          \n",
            "__________________________________________________________________________________________________\n",
            "stage3_unit4_bn3 (BatchNormaliz (None, 30, 20, 256)  1024        stage3_unit4_conv2[0][0]         \n",
            "__________________________________________________________________________________________________\n",
            "stage3_unit4_relu3 (Activation) (None, 30, 20, 256)  0           stage3_unit4_bn3[0][0]           \n",
            "__________________________________________________________________________________________________\n",
            "stage3_unit4_conv3 (Conv2D)     (None, 30, 20, 1024) 262144      stage3_unit4_relu3[0][0]         \n",
            "__________________________________________________________________________________________________\n",
            "add_10 (Add)                    (None, 30, 20, 1024) 0           stage3_unit4_conv3[0][0]         \n",
            "                                                                 add_9[0][0]                      \n",
            "__________________________________________________________________________________________________\n",
            "stage3_unit5_bn1 (BatchNormaliz (None, 30, 20, 1024) 4096        add_10[0][0]                     \n",
            "__________________________________________________________________________________________________\n",
            "stage3_unit5_relu1 (Activation) (None, 30, 20, 1024) 0           stage3_unit5_bn1[0][0]           \n",
            "__________________________________________________________________________________________________\n",
            "stage3_unit5_conv1 (Conv2D)     (None, 30, 20, 256)  262144      stage3_unit5_relu1[0][0]         \n",
            "__________________________________________________________________________________________________\n",
            "stage3_unit5_bn2 (BatchNormaliz (None, 30, 20, 256)  1024        stage3_unit5_conv1[0][0]         \n",
            "__________________________________________________________________________________________________\n",
            "stage3_unit5_relu2 (Activation) (None, 30, 20, 256)  0           stage3_unit5_bn2[0][0]           \n",
            "__________________________________________________________________________________________________\n",
            "zero_padding2d_13 (ZeroPadding2 (None, 32, 22, 256)  0           stage3_unit5_relu2[0][0]         \n",
            "__________________________________________________________________________________________________\n",
            "stage3_unit5_conv2 (Conv2D)     (None, 30, 20, 256)  589824      zero_padding2d_13[0][0]          \n",
            "__________________________________________________________________________________________________\n",
            "stage3_unit5_bn3 (BatchNormaliz (None, 30, 20, 256)  1024        stage3_unit5_conv2[0][0]         \n",
            "__________________________________________________________________________________________________\n",
            "stage3_unit5_relu3 (Activation) (None, 30, 20, 256)  0           stage3_unit5_bn3[0][0]           \n",
            "__________________________________________________________________________________________________\n",
            "stage3_unit5_conv3 (Conv2D)     (None, 30, 20, 1024) 262144      stage3_unit5_relu3[0][0]         \n",
            "__________________________________________________________________________________________________\n",
            "add_11 (Add)                    (None, 30, 20, 1024) 0           stage3_unit5_conv3[0][0]         \n",
            "                                                                 add_10[0][0]                     \n",
            "__________________________________________________________________________________________________\n",
            "stage3_unit6_bn1 (BatchNormaliz (None, 30, 20, 1024) 4096        add_11[0][0]                     \n",
            "__________________________________________________________________________________________________\n",
            "stage3_unit6_relu1 (Activation) (None, 30, 20, 1024) 0           stage3_unit6_bn1[0][0]           \n",
            "__________________________________________________________________________________________________\n",
            "stage3_unit6_conv1 (Conv2D)     (None, 30, 20, 256)  262144      stage3_unit6_relu1[0][0]         \n",
            "__________________________________________________________________________________________________\n",
            "stage3_unit6_bn2 (BatchNormaliz (None, 30, 20, 256)  1024        stage3_unit6_conv1[0][0]         \n",
            "__________________________________________________________________________________________________\n",
            "stage3_unit6_relu2 (Activation) (None, 30, 20, 256)  0           stage3_unit6_bn2[0][0]           \n",
            "__________________________________________________________________________________________________\n",
            "zero_padding2d_14 (ZeroPadding2 (None, 32, 22, 256)  0           stage3_unit6_relu2[0][0]         \n",
            "__________________________________________________________________________________________________\n",
            "stage3_unit6_conv2 (Conv2D)     (None, 30, 20, 256)  589824      zero_padding2d_14[0][0]          \n",
            "__________________________________________________________________________________________________\n",
            "stage3_unit6_bn3 (BatchNormaliz (None, 30, 20, 256)  1024        stage3_unit6_conv2[0][0]         \n",
            "__________________________________________________________________________________________________\n",
            "stage3_unit6_relu3 (Activation) (None, 30, 20, 256)  0           stage3_unit6_bn3[0][0]           \n",
            "__________________________________________________________________________________________________\n",
            "stage3_unit6_conv3 (Conv2D)     (None, 30, 20, 1024) 262144      stage3_unit6_relu3[0][0]         \n",
            "__________________________________________________________________________________________________\n",
            "add_12 (Add)                    (None, 30, 20, 1024) 0           stage3_unit6_conv3[0][0]         \n",
            "                                                                 add_11[0][0]                     \n",
            "__________________________________________________________________________________________________\n",
            "stage4_unit1_bn1 (BatchNormaliz (None, 30, 20, 1024) 4096        add_12[0][0]                     \n",
            "__________________________________________________________________________________________________\n",
            "stage4_unit1_relu1 (Activation) (None, 30, 20, 1024) 0           stage4_unit1_bn1[0][0]           \n",
            "__________________________________________________________________________________________________\n",
            "stage4_unit1_conv1 (Conv2D)     (None, 30, 20, 512)  524288      stage4_unit1_relu1[0][0]         \n",
            "__________________________________________________________________________________________________\n",
            "stage4_unit1_bn2 (BatchNormaliz (None, 30, 20, 512)  2048        stage4_unit1_conv1[0][0]         \n",
            "__________________________________________________________________________________________________\n",
            "stage4_unit1_relu2 (Activation) (None, 30, 20, 512)  0           stage4_unit1_bn2[0][0]           \n",
            "__________________________________________________________________________________________________\n",
            "zero_padding2d_15 (ZeroPadding2 (None, 32, 22, 512)  0           stage4_unit1_relu2[0][0]         \n",
            "__________________________________________________________________________________________________\n",
            "stage4_unit1_conv2 (Conv2D)     (None, 15, 10, 512)  2359296     zero_padding2d_15[0][0]          \n",
            "__________________________________________________________________________________________________\n",
            "stage4_unit1_bn3 (BatchNormaliz (None, 15, 10, 512)  2048        stage4_unit1_conv2[0][0]         \n",
            "__________________________________________________________________________________________________\n",
            "stage4_unit1_relu3 (Activation) (None, 15, 10, 512)  0           stage4_unit1_bn3[0][0]           \n",
            "__________________________________________________________________________________________________\n",
            "stage4_unit1_conv3 (Conv2D)     (None, 15, 10, 2048) 1048576     stage4_unit1_relu3[0][0]         \n",
            "__________________________________________________________________________________________________\n",
            "stage4_unit1_sc (Conv2D)        (None, 15, 10, 2048) 2097152     stage4_unit1_relu1[0][0]         \n",
            "__________________________________________________________________________________________________\n",
            "add_13 (Add)                    (None, 15, 10, 2048) 0           stage4_unit1_conv3[0][0]         \n",
            "                                                                 stage4_unit1_sc[0][0]            \n",
            "__________________________________________________________________________________________________\n",
            "stage4_unit2_bn1 (BatchNormaliz (None, 15, 10, 2048) 8192        add_13[0][0]                     \n",
            "__________________________________________________________________________________________________\n",
            "stage4_unit2_relu1 (Activation) (None, 15, 10, 2048) 0           stage4_unit2_bn1[0][0]           \n",
            "__________________________________________________________________________________________________\n",
            "stage4_unit2_conv1 (Conv2D)     (None, 15, 10, 512)  1048576     stage4_unit2_relu1[0][0]         \n",
            "__________________________________________________________________________________________________\n",
            "stage4_unit2_bn2 (BatchNormaliz (None, 15, 10, 512)  2048        stage4_unit2_conv1[0][0]         \n",
            "__________________________________________________________________________________________________\n",
            "stage4_unit2_relu2 (Activation) (None, 15, 10, 512)  0           stage4_unit2_bn2[0][0]           \n",
            "__________________________________________________________________________________________________\n",
            "zero_padding2d_16 (ZeroPadding2 (None, 17, 12, 512)  0           stage4_unit2_relu2[0][0]         \n",
            "__________________________________________________________________________________________________\n",
            "stage4_unit2_conv2 (Conv2D)     (None, 15, 10, 512)  2359296     zero_padding2d_16[0][0]          \n",
            "__________________________________________________________________________________________________\n",
            "stage4_unit2_bn3 (BatchNormaliz (None, 15, 10, 512)  2048        stage4_unit2_conv2[0][0]         \n",
            "__________________________________________________________________________________________________\n",
            "stage4_unit2_relu3 (Activation) (None, 15, 10, 512)  0           stage4_unit2_bn3[0][0]           \n",
            "__________________________________________________________________________________________________\n",
            "stage4_unit2_conv3 (Conv2D)     (None, 15, 10, 2048) 1048576     stage4_unit2_relu3[0][0]         \n",
            "__________________________________________________________________________________________________\n",
            "add_14 (Add)                    (None, 15, 10, 2048) 0           stage4_unit2_conv3[0][0]         \n",
            "                                                                 add_13[0][0]                     \n",
            "__________________________________________________________________________________________________\n",
            "stage4_unit3_bn1 (BatchNormaliz (None, 15, 10, 2048) 8192        add_14[0][0]                     \n",
            "__________________________________________________________________________________________________\n",
            "stage4_unit3_relu1 (Activation) (None, 15, 10, 2048) 0           stage4_unit3_bn1[0][0]           \n",
            "__________________________________________________________________________________________________\n",
            "stage4_unit3_conv1 (Conv2D)     (None, 15, 10, 512)  1048576     stage4_unit3_relu1[0][0]         \n",
            "__________________________________________________________________________________________________\n",
            "stage4_unit3_bn2 (BatchNormaliz (None, 15, 10, 512)  2048        stage4_unit3_conv1[0][0]         \n",
            "__________________________________________________________________________________________________\n",
            "stage4_unit3_relu2 (Activation) (None, 15, 10, 512)  0           stage4_unit3_bn2[0][0]           \n",
            "__________________________________________________________________________________________________\n",
            "zero_padding2d_17 (ZeroPadding2 (None, 17, 12, 512)  0           stage4_unit3_relu2[0][0]         \n",
            "__________________________________________________________________________________________________\n",
            "stage4_unit3_conv2 (Conv2D)     (None, 15, 10, 512)  2359296     zero_padding2d_17[0][0]          \n",
            "__________________________________________________________________________________________________\n",
            "stage4_unit3_bn3 (BatchNormaliz (None, 15, 10, 512)  2048        stage4_unit3_conv2[0][0]         \n",
            "__________________________________________________________________________________________________\n",
            "stage4_unit3_relu3 (Activation) (None, 15, 10, 512)  0           stage4_unit3_bn3[0][0]           \n",
            "__________________________________________________________________________________________________\n",
            "stage4_unit3_conv3 (Conv2D)     (None, 15, 10, 2048) 1048576     stage4_unit3_relu3[0][0]         \n",
            "__________________________________________________________________________________________________\n",
            "add_15 (Add)                    (None, 15, 10, 2048) 0           stage4_unit3_conv3[0][0]         \n",
            "                                                                 add_14[0][0]                     \n",
            "__________________________________________________________________________________________________\n",
            "bn1 (BatchNormalization)        (None, 15, 10, 2048) 8192        add_15[0][0]                     \n",
            "__________________________________________________________________________________________________\n",
            "relu1 (Activation)              (None, 15, 10, 2048) 0           bn1[0][0]                        \n",
            "__________________________________________________________________________________________________\n",
            "decoder_stage0_upsampling (UpSa (None, 30, 20, 2048) 0           relu1[0][0]                      \n",
            "__________________________________________________________________________________________________\n",
            "decoder_stage0_concat (Concaten (None, 30, 20, 3072) 0           decoder_stage0_upsampling[0][0]  \n",
            "                                                                 stage4_unit1_relu1[0][0]         \n",
            "__________________________________________________________________________________________________\n",
            "decoder_stage0a_conv (Conv2D)   (None, 30, 20, 256)  7077888     decoder_stage0_concat[0][0]      \n",
            "__________________________________________________________________________________________________\n",
            "decoder_stage0a_bn (BatchNormal (None, 30, 20, 256)  1024        decoder_stage0a_conv[0][0]       \n",
            "__________________________________________________________________________________________________\n",
            "decoder_stage0a_relu (Activatio (None, 30, 20, 256)  0           decoder_stage0a_bn[0][0]         \n",
            "__________________________________________________________________________________________________\n",
            "decoder_stage0b_conv (Conv2D)   (None, 30, 20, 256)  589824      decoder_stage0a_relu[0][0]       \n",
            "__________________________________________________________________________________________________\n",
            "decoder_stage0b_bn (BatchNormal (None, 30, 20, 256)  1024        decoder_stage0b_conv[0][0]       \n",
            "__________________________________________________________________________________________________\n",
            "decoder_stage0b_relu (Activatio (None, 30, 20, 256)  0           decoder_stage0b_bn[0][0]         \n",
            "__________________________________________________________________________________________________\n",
            "decoder_stage1_upsampling (UpSa (None, 60, 40, 256)  0           decoder_stage0b_relu[0][0]       \n",
            "__________________________________________________________________________________________________\n",
            "decoder_stage1_concat (Concaten (None, 60, 40, 768)  0           decoder_stage1_upsampling[0][0]  \n",
            "                                                                 stage3_unit1_relu1[0][0]         \n",
            "__________________________________________________________________________________________________\n",
            "decoder_stage1a_conv (Conv2D)   (None, 60, 40, 128)  884736      decoder_stage1_concat[0][0]      \n",
            "__________________________________________________________________________________________________\n",
            "decoder_stage1a_bn (BatchNormal (None, 60, 40, 128)  512         decoder_stage1a_conv[0][0]       \n",
            "__________________________________________________________________________________________________\n",
            "decoder_stage1a_relu (Activatio (None, 60, 40, 128)  0           decoder_stage1a_bn[0][0]         \n",
            "__________________________________________________________________________________________________\n",
            "decoder_stage1b_conv (Conv2D)   (None, 60, 40, 128)  147456      decoder_stage1a_relu[0][0]       \n",
            "__________________________________________________________________________________________________\n",
            "decoder_stage1b_bn (BatchNormal (None, 60, 40, 128)  512         decoder_stage1b_conv[0][0]       \n",
            "__________________________________________________________________________________________________\n",
            "decoder_stage1b_relu (Activatio (None, 60, 40, 128)  0           decoder_stage1b_bn[0][0]         \n",
            "__________________________________________________________________________________________________\n",
            "decoder_stage2_upsampling (UpSa (None, 120, 80, 128) 0           decoder_stage1b_relu[0][0]       \n",
            "__________________________________________________________________________________________________\n",
            "decoder_stage2_concat (Concaten (None, 120, 80, 384) 0           decoder_stage2_upsampling[0][0]  \n",
            "                                                                 stage2_unit1_relu1[0][0]         \n",
            "__________________________________________________________________________________________________\n",
            "decoder_stage2a_conv (Conv2D)   (None, 120, 80, 64)  221184      decoder_stage2_concat[0][0]      \n",
            "__________________________________________________________________________________________________\n",
            "decoder_stage2a_bn (BatchNormal (None, 120, 80, 64)  256         decoder_stage2a_conv[0][0]       \n",
            "__________________________________________________________________________________________________\n",
            "decoder_stage2a_relu (Activatio (None, 120, 80, 64)  0           decoder_stage2a_bn[0][0]         \n",
            "__________________________________________________________________________________________________\n",
            "decoder_stage2b_conv (Conv2D)   (None, 120, 80, 64)  36864       decoder_stage2a_relu[0][0]       \n",
            "__________________________________________________________________________________________________\n",
            "decoder_stage2b_bn (BatchNormal (None, 120, 80, 64)  256         decoder_stage2b_conv[0][0]       \n",
            "__________________________________________________________________________________________________\n",
            "decoder_stage2b_relu (Activatio (None, 120, 80, 64)  0           decoder_stage2b_bn[0][0]         \n",
            "__________________________________________________________________________________________________\n",
            "decoder_stage3_upsampling (UpSa (None, 240, 160, 64) 0           decoder_stage2b_relu[0][0]       \n",
            "__________________________________________________________________________________________________\n",
            "decoder_stage3_concat (Concaten (None, 240, 160, 128 0           decoder_stage3_upsampling[0][0]  \n",
            "                                                                 relu0[0][0]                      \n",
            "__________________________________________________________________________________________________\n",
            "decoder_stage3a_conv (Conv2D)   (None, 240, 160, 32) 36864       decoder_stage3_concat[0][0]      \n",
            "__________________________________________________________________________________________________\n",
            "decoder_stage3a_bn (BatchNormal (None, 240, 160, 32) 128         decoder_stage3a_conv[0][0]       \n",
            "__________________________________________________________________________________________________\n",
            "decoder_stage3a_relu (Activatio (None, 240, 160, 32) 0           decoder_stage3a_bn[0][0]         \n",
            "__________________________________________________________________________________________________\n",
            "decoder_stage3b_conv (Conv2D)   (None, 240, 160, 32) 9216        decoder_stage3a_relu[0][0]       \n",
            "__________________________________________________________________________________________________\n",
            "decoder_stage3b_bn (BatchNormal (None, 240, 160, 32) 128         decoder_stage3b_conv[0][0]       \n",
            "__________________________________________________________________________________________________\n",
            "decoder_stage3b_relu (Activatio (None, 240, 160, 32) 0           decoder_stage3b_bn[0][0]         \n",
            "__________________________________________________________________________________________________\n",
            "decoder_stage4_upsampling (UpSa (None, 480, 320, 32) 0           decoder_stage3b_relu[0][0]       \n",
            "__________________________________________________________________________________________________\n",
            "decoder_stage4a_conv (Conv2D)   (None, 480, 320, 16) 4608        decoder_stage4_upsampling[0][0]  \n",
            "__________________________________________________________________________________________________\n",
            "decoder_stage4a_bn (BatchNormal (None, 480, 320, 16) 64          decoder_stage4a_conv[0][0]       \n",
            "__________________________________________________________________________________________________\n",
            "decoder_stage4a_relu (Activatio (None, 480, 320, 16) 0           decoder_stage4a_bn[0][0]         \n",
            "__________________________________________________________________________________________________\n",
            "decoder_stage4b_conv (Conv2D)   (None, 480, 320, 16) 2304        decoder_stage4a_relu[0][0]       \n",
            "__________________________________________________________________________________________________\n",
            "decoder_stage4b_bn (BatchNormal (None, 480, 320, 16) 64          decoder_stage4b_conv[0][0]       \n",
            "__________________________________________________________________________________________________\n",
            "decoder_stage4b_relu (Activatio (None, 480, 320, 16) 0           decoder_stage4b_bn[0][0]         \n",
            "__________________________________________________________________________________________________\n",
            "final_conv (Conv2D)             (None, 480, 320, 12) 1740        decoder_stage4b_relu[0][0]       \n",
            "__________________________________________________________________________________________________\n",
            "softmax (Activation)            (None, 480, 320, 12) 0           final_conv[0][0]                 \n",
            "==================================================================================================\n",
            "Total params: 32,556,431\n",
            "Trainable params: 32,508,877\n",
            "Non-trainable params: 47,554\n",
            "__________________________________________________________________________________________________\n"
          ],
          "name": "stdout"
        }
      ]
    },
    {
      "cell_type": "code",
      "metadata": {
        "id": "xrrWR34igCv-"
      },
      "source": [
        "# Compile the model with loss function, optimizer and metric\n",
        "import tensorflow as tf\n",
        "LOSS=tf.keras.losses.SparseCategoricalCrossentropy(from_logits=True)\n",
        "\n",
        "model.compile(\n",
        "    'Adam',\n",
        "    loss='sparse_categorical_crossentropy',\n",
        "    metrics=[sm.metrics.iou_score],\n",
        ")"
      ],
      "execution_count": 4,
      "outputs": []
    },
    {
      "cell_type": "code",
      "metadata": {
        "id": "t64j7531gnFX"
      },
      "source": [
        "# Setup training parameters\n",
        "BATCH = 16\n",
        "EPOCHS = 30\n",
        "\n",
        "# early stopping callback. It stops training when the loss does not change for 3 consecutive epochs\n",
        "callback = tf.keras.callbacks.EarlyStopping(monitor='loss', patience=3)"
      ],
      "execution_count": 26,
      "outputs": []
    },
    {
      "cell_type": "code",
      "metadata": {
        "colab": {
          "base_uri": "https://localhost:8080/"
        },
        "id": "BvvTmwzIhBvw",
        "outputId": "f9112583-6342-4ae5-bca5-913b63753c87"
      },
      "source": [
        "# Start training the model\n",
        "\n",
        "# change the label type to float32\n",
        "# tf.cast(trainLabels, tf.float32)\n",
        "# tf.cast(trainImgs, tf.float32)\n",
        "# tf.cast(valLabels, tf.float32)\n",
        "# tf.cast(valImgs, tf.float32)\n",
        "\n",
        "history = model.fit(trainImgs, trainLabels, epochs=EPOCHS, batch_size=BATCH, validation_data=(valImgs, valLabels))"
      ],
      "execution_count": 27,
      "outputs": [
        {
          "output_type": "stream",
          "text": [
            "Train on 1000 samples, validate on 251 samples\n",
            "Epoch 1/30\n",
            "1000/1000 [==============================] - 79s 79ms/sample - loss: 0.5203 - iou_score: 0.0563 - val_loss: 15.5733 - val_iou_score: 0.0263\n",
            "Epoch 2/30\n",
            "1000/1000 [==============================] - 61s 61ms/sample - loss: 0.1306 - iou_score: 0.0641 - val_loss: 14.2271 - val_iou_score: 0.0268\n",
            "Epoch 3/30\n",
            "1000/1000 [==============================] - 61s 61ms/sample - loss: 0.1004 - iou_score: 0.0791 - val_loss: 0.6071 - val_iou_score: 0.0388\n",
            "Epoch 4/30\n",
            "1000/1000 [==============================] - 61s 61ms/sample - loss: 0.0862 - iou_score: 0.0905 - val_loss: 0.5357 - val_iou_score: 0.0305\n",
            "Epoch 5/30\n",
            "1000/1000 [==============================] - 61s 61ms/sample - loss: 0.0769 - iou_score: 0.0913 - val_loss: 0.1971 - val_iou_score: 0.1161\n",
            "Epoch 6/30\n",
            "1000/1000 [==============================] - 61s 61ms/sample - loss: 0.0676 - iou_score: 0.0988 - val_loss: 0.1270 - val_iou_score: 0.1083\n",
            "Epoch 7/30\n",
            "1000/1000 [==============================] - 61s 61ms/sample - loss: 0.0608 - iou_score: 0.1014 - val_loss: 0.1212 - val_iou_score: 0.1192\n",
            "Epoch 8/30\n",
            "1000/1000 [==============================] - 61s 61ms/sample - loss: 0.0553 - iou_score: 0.1024 - val_loss: 0.1167 - val_iou_score: 0.1446\n",
            "Epoch 9/30\n",
            "1000/1000 [==============================] - 61s 61ms/sample - loss: 0.0506 - iou_score: 0.1076 - val_loss: 0.0743 - val_iou_score: 0.1390\n",
            "Epoch 10/30\n",
            "1000/1000 [==============================] - 61s 61ms/sample - loss: 0.0462 - iou_score: 0.1100 - val_loss: 0.0594 - val_iou_score: 0.1229\n",
            "Epoch 11/30\n",
            "1000/1000 [==============================] - 61s 61ms/sample - loss: 0.0454 - iou_score: 0.1076 - val_loss: 0.0735 - val_iou_score: 0.1122\n",
            "Epoch 12/30\n",
            "1000/1000 [==============================] - 61s 61ms/sample - loss: 0.0394 - iou_score: 0.1113 - val_loss: 0.0464 - val_iou_score: 0.1362\n",
            "Epoch 13/30\n",
            "1000/1000 [==============================] - 61s 61ms/sample - loss: 0.0370 - iou_score: 0.1119 - val_loss: 0.0455 - val_iou_score: 0.1197\n",
            "Epoch 14/30\n",
            "1000/1000 [==============================] - 61s 61ms/sample - loss: 0.0354 - iou_score: 0.1145 - val_loss: 0.0490 - val_iou_score: 0.1078\n",
            "Epoch 15/30\n",
            "1000/1000 [==============================] - 61s 61ms/sample - loss: 0.0322 - iou_score: 0.1156 - val_loss: 0.0387 - val_iou_score: 0.1154\n",
            "Epoch 16/30\n",
            "1000/1000 [==============================] - 61s 61ms/sample - loss: 0.0291 - iou_score: 0.1185 - val_loss: 0.0346 - val_iou_score: 0.1246\n",
            "Epoch 17/30\n",
            "1000/1000 [==============================] - 61s 61ms/sample - loss: 0.0283 - iou_score: 0.1170 - val_loss: 0.0774 - val_iou_score: 0.1241\n",
            "Epoch 18/30\n",
            "1000/1000 [==============================] - 61s 61ms/sample - loss: 0.0291 - iou_score: 0.1180 - val_loss: 0.0385 - val_iou_score: 0.1184\n",
            "Epoch 19/30\n",
            "1000/1000 [==============================] - 61s 61ms/sample - loss: 0.0276 - iou_score: 0.1184 - val_loss: 0.0325 - val_iou_score: 0.1304\n",
            "Epoch 20/30\n",
            "1000/1000 [==============================] - 61s 61ms/sample - loss: 0.0245 - iou_score: 0.1234 - val_loss: 0.0358 - val_iou_score: 0.1156\n",
            "Epoch 21/30\n",
            "1000/1000 [==============================] - 61s 61ms/sample - loss: 0.0221 - iou_score: 0.1227 - val_loss: 0.0421 - val_iou_score: 0.1278\n",
            "Epoch 22/30\n",
            "1000/1000 [==============================] - 61s 61ms/sample - loss: 0.0240 - iou_score: 0.1217 - val_loss: 0.0364 - val_iou_score: 0.1491\n",
            "Epoch 23/30\n",
            "1000/1000 [==============================] - 61s 61ms/sample - loss: 0.0220 - iou_score: 0.1242 - val_loss: 0.0348 - val_iou_score: 0.1221\n",
            "Epoch 24/30\n",
            "1000/1000 [==============================] - 61s 61ms/sample - loss: 0.0194 - iou_score: 0.1273 - val_loss: 0.0345 - val_iou_score: 0.1439\n",
            "Epoch 25/30\n",
            "1000/1000 [==============================] - 61s 61ms/sample - loss: 0.0189 - iou_score: 0.1285 - val_loss: 0.0316 - val_iou_score: 0.1260\n",
            "Epoch 26/30\n",
            "1000/1000 [==============================] - 61s 61ms/sample - loss: 0.0191 - iou_score: 0.1288 - val_loss: 0.0401 - val_iou_score: 0.1288\n",
            "Epoch 27/30\n",
            "1000/1000 [==============================] - 61s 61ms/sample - loss: 0.0194 - iou_score: 0.1306 - val_loss: 0.0386 - val_iou_score: 0.1036\n",
            "Epoch 28/30\n",
            "1000/1000 [==============================] - 61s 61ms/sample - loss: 0.0177 - iou_score: 0.1308 - val_loss: 0.0339 - val_iou_score: 0.1374\n",
            "Epoch 29/30\n",
            "1000/1000 [==============================] - 61s 61ms/sample - loss: 0.0154 - iou_score: 0.1324 - val_loss: 0.0335 - val_iou_score: 0.1408\n",
            "Epoch 30/30\n",
            "1000/1000 [==============================] - 61s 61ms/sample - loss: 0.0144 - iou_score: 0.1332 - val_loss: 0.0352 - val_iou_score: 0.1385\n"
          ],
          "name": "stdout"
        }
      ]
    },
    {
      "cell_type": "code",
      "metadata": {
        "colab": {
          "base_uri": "https://localhost:8080/",
          "height": 300
        },
        "id": "5ymxrY3gpSBh",
        "outputId": "9a0d556d-f4e2-44a2-a533-3836d865d50e"
      },
      "source": [
        "#  Plot the results\n",
        "print(history.history.keys())\n",
        "\n",
        "import matplotlib.pyplot as plt\n",
        "plt.plot(history.history['loss'])\n",
        "plt.plot(history.history['val_loss'])"
      ],
      "execution_count": 28,
      "outputs": [
        {
          "output_type": "stream",
          "text": [
            "dict_keys(['loss', 'iou_score', 'val_loss', 'val_iou_score'])\n"
          ],
          "name": "stdout"
        },
        {
          "output_type": "execute_result",
          "data": {
            "text/plain": [
              "[<matplotlib.lines.Line2D at 0x7f86292b9f90>]"
            ]
          },
          "metadata": {
            "tags": []
          },
          "execution_count": 28
        },
        {
          "output_type": "display_data",
          "data": {
            "image/png": "[encoded data removed]",
            "text/plain": [
              "<Figure size 432x288 with 1 Axes>"
            ]
          },
          "metadata": {
            "tags": [],
            "needs_background": "light"
          }
        }
      ]
    },
    {
      "cell_type": "code",
      "metadata": {
        "colab": {
          "base_uri": "https://localhost:8080/",
          "height": 282
        },
        "id": "BOfjAUaKp213",
        "outputId": "4617b684-7433-4626-b37c-ea7d03c361b7"
      },
      "source": [
        "plt.plot(history.history['iou_score'])\n",
        "plt.plot(history.history['val_iou_score'])"
      ],
      "execution_count": 29,
      "outputs": [
        {
          "output_type": "execute_result",
          "data": {
            "text/plain": [
              "[<matplotlib.lines.Line2D at 0x7f841a21a7d0>]"
            ]
          },
          "metadata": {
            "tags": []
          },
          "execution_count": 29
        },
        {
          "output_type": "display_data",
          "data": {
            "image/png": "[encoded data removed]",
            "text/plain": [
              "<Figure size 432x288 with 1 Axes>"
            ]
          },
          "metadata": {
            "tags": [],
            "needs_background": "light"
          }
        }
      ]
    },
    {
      "cell_type": "code",
      "metadata": {
        "id": "xIs9nAuXJX8F"
      },
      "source": [
        "# get the testdata\n",
        "testImgs   = getData(testPath, testImgsFile)\n",
        "testLabels = getData(testPath, testLabelsFile)"
      ],
      "execution_count": 10,
      "outputs": []
    },
    {
      "cell_type": "code",
      "metadata": {
        "colab": {
          "base_uri": "https://localhost:8080/"
        },
        "id": "cJg2fDdHqDEr",
        "outputId": "dff01efa-71e7-443c-8403-2a0601e8ebbe"
      },
      "source": [
        "model.evaluate(testImgs, testLabels)"
      ],
      "execution_count": 31,
      "outputs": [
        {
          "output_type": "stream",
          "text": [
            "617/617 [==============================] - 16s 25ms/sample - loss: 0.0355 - iou_score: 0.1340\n"
          ],
          "name": "stdout"
        },
        {
          "output_type": "execute_result",
          "data": {
            "text/plain": [
              "[0.03548684981885567, 0.13403797]"
            ]
          },
          "metadata": {
            "tags": []
          },
          "execution_count": 31
        }
      ]
    },
    {
      "cell_type": "code",
      "metadata": {
        "id": "4kBp5pC4qe3j"
      },
      "source": [
        "# save the model weights\n",
        "weightFileName = \"UResNet50_30e_16b.h5\"\n",
        "weightPath = '/content/drive/My Drive/Underwater_Segmentation_Research/Weights/UNET'\n",
        "# model.save_weights(weightPath + \"/\" + weightFileName)\n"
      ],
      "execution_count": 6,
      "outputs": []
    },
    {
      "cell_type": "code",
      "metadata": {
        "colab": {
          "base_uri": "https://localhost:8080/"
        },
        "id": "O0ktWQ4lsyxv",
        "outputId": "043b7139-80cb-45bd-c850-ff2755868fa6"
      },
      "source": [
        "model.load_weights(weightPath + \"/\" + weightFileName)\n",
        "model.evaluate(testImgs, testLabels)"
      ],
      "execution_count": 11,
      "outputs": [
        {
          "output_type": "stream",
          "text": [
            "617/617 [==============================] - 26s 42ms/sample - loss: 0.0355 - iou_score: 0.1340\n"
          ],
          "name": "stdout"
        },
        {
          "output_type": "execute_result",
          "data": {
            "text/plain": [
              "[0.03548685019319602, 0.13403797]"
            ]
          },
          "metadata": {
            "tags": []
          },
          "execution_count": 11
        }
      ]
    },
    {
      "cell_type": "code",
      "metadata": {
        "id": "QOgVsGZjLkeM"
      },
      "source": [
        ""
      ],
      "execution_count": null,
      "outputs": []
    },
    {
      "cell_type": "code",
      "metadata": {
        "colab": {
          "base_uri": "https://localhost:8080/"
        },
        "id": "SF0gF5Otuac9",
        "outputId": "417de366-a92a-4c7b-e0e9-01c6c19f14b0"
      },
      "source": [
        "modelFileName = \"UResNet50_30e_16b\"\n",
        "modelPath     = '/content/drive/My Drive/Underwater_Segmentation_Research/Models/Unet'\n",
        "model.save(modelPath + \"/\" + modelFileName)"
      ],
      "execution_count": 34,
      "outputs": [
        {
          "output_type": "stream",
          "text": [
            "INFO:tensorflow:Assets written to: /content/drive/My Drive/Underwater_Segmentation_Research/Models/Unet/UResNet50_30e_16b/assets\n"
          ],
          "name": "stdout"
        }
      ]
    },
    {
      "cell_type": "code",
      "metadata": {
        "colab": {
          "base_uri": "https://localhost:8080/"
        },
        "id": "8g2JByQRvjc3",
        "outputId": "9e652417-2241-4c99-9658-29d9efd6b990"
      },
      "source": [
        "# Check the GPU configuration\n",
        "!nvidia-smi"
      ],
      "execution_count": 35,
      "outputs": [
        {
          "output_type": "stream",
          "text": [
            "Mon Mar 29 23:21:08 2021       \n",
            "+-----------------------------------------------------------------------------+\n",
            "| NVIDIA-SMI 460.56       Driver Version: 460.32.03    CUDA Version: 11.2     |\n",
            "|-------------------------------+----------------------+----------------------+\n",
            "| GPU  Name        Persistence-M| Bus-Id        Disp.A | Volatile Uncorr. ECC |\n",
            "| Fan  Temp  Perf  Pwr:Usage/Cap|         Memory-Usage | GPU-Util  Compute M. |\n",
            "|                               |                      |               MIG M. |\n",
            "|===============================+======================+======================|\n",
            "|   0  Tesla T4            Off  | 00000000:00:04.0 Off |                    0 |\n",
            "| N/A   73C    P0    32W /  70W |  14870MiB / 15109MiB |      0%      Default |\n",
            "|                               |                      |                  N/A |\n",
            "+-------------------------------+----------------------+----------------------+\n",
            "                                                                               \n",
            "+-----------------------------------------------------------------------------+\n",
            "| Processes:                                                                  |\n",
            "|  GPU   GI   CI        PID   Type   Process name                  GPU Memory |\n",
            "|        ID   ID                                                   Usage      |\n",
            "|=============================================================================|\n",
            "+-----------------------------------------------------------------------------+\n"
          ],
          "name": "stdout"
        }
      ]
    },
    {
      "cell_type": "code",
      "metadata": {
        "id": "5N3b-uUEwaZ2"
      },
      "source": [
        "# check the outputs here\n",
        "outputs = model.predict(testImgs)"
      ],
      "execution_count": 12,
      "outputs": []
    },
    {
      "cell_type": "code",
      "metadata": {
        "colab": {
          "base_uri": "https://localhost:8080/",
          "height": 269
        },
        "id": "oRL028hYwnR-",
        "outputId": "16bc70c9-b857-451d-e0bb-d4da7b2aff4e"
      },
      "source": [
        "import matplotlib.pyplot as plt\n",
        "\n",
        "img = outputs[0,:,:,0]\n",
        "plt.imshow(img)\n",
        "plt.show()"
      ],
      "execution_count": 14,
      "outputs": [
        {
          "output_type": "display_data",
          "data": {
            "image/png": "[encoded data removed]",
            "text/plain": [
              "<Figure size 432x288 with 1 Axes>"
            ]
          },
          "metadata": {
            "tags": [],
            "needs_background": "light"
          }
        }
      ]
    },
    {
      "cell_type": "code",
      "metadata": {
        "id": "exi7mUblK4-s"
      },
      "source": [
        "outputs = None"
      ],
      "execution_count": 37,
      "outputs": []
    }
  ]
}