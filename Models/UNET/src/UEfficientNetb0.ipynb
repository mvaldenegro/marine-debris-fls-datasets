{
  "nbformat": 4,
  "nbformat_minor": 0,
  "metadata": {
    "colab": {
      "name": "UEfficientNetb0.ipynb",
      "provenance": []
    },
    "kernelspec": {
      "name": "python3",
      "display_name": "Python 3"
    },
    "language_info": {
      "name": "python"
    },
    "accelerator": "GPU"
  },
  "cells": [
    {
      "cell_type": "code",
      "metadata": {
        "id": "GmErIJJtXgxr"
      },
      "source": [
        "# Unet with ResNet 34 for multiclass semantic segmentation\n",
        "!pip install tensorflow==2.1.0"
      ],
      "execution_count": null,
      "outputs": []
    },
    {
      "cell_type": "code",
      "metadata": {
        "id": "E05RxVTVawRq"
      },
      "source": [
        "!pip install segmentation-models"
      ],
      "execution_count": null,
      "outputs": []
    },
    {
      "cell_type": "code",
      "metadata": {
        "colab": {
          "base_uri": "https://localhost:8080/"
        },
        "id": "KGcItvZUbw6S",
        "outputId": "d4ec8656-cc6e-457f-8dea-8cb8e609f2b6"
      },
      "source": [
        "# mount google drive here\n",
        "from google.colab import drive\n",
        "drive.mount('/content/drive')"
      ],
      "execution_count": 1,
      "outputs": [
        {
          "output_type": "stream",
          "text": [
            "Drive already mounted at /content/drive; to attempt to forcibly remount, call drive.mount(\"/content/drive\", force_remount=True).\n"
          ],
          "name": "stdout"
        }
      ]
    },
    {
      "cell_type": "code",
      "metadata": {
        "colab": {
          "base_uri": "https://localhost:8080/"
        },
        "id": "OVkZ3Rt_cBIJ",
        "outputId": "de046795-f651-47ac-fa18-d8c2b6a8e73a"
      },
      "source": [
        "# Fetch the training, validation and testing dataset\n",
        "import os\n",
        "import numpy as np\n",
        "\n",
        "dataPath  = '/content/drive/My Drive/Underwater_Segmentation_Research/Data'\n",
        "\n",
        "trainPath =  dataPath + '/Train'\n",
        "testPath  =  dataPath + '/Test'\n",
        "valPath   =  dataPath + '/Validate'\n",
        "\n",
        "trainImgsFile   = 'trainingDataImgs.npy'\n",
        "trainLabelsFile = 'trainingDataLabels.npy'\n",
        "\n",
        "testImgsFile    = 'testingDataImgs.npy'\n",
        "testLabelsFile  = 'testingDataLabels.npy'\n",
        "\n",
        "valImgsFile     = 'validationDataImgs.npy'\n",
        "valLabelsFile   = 'validationDataLabels.npy'\n",
        "\n",
        "def getData(path,fileName):\n",
        "  return np.load(path + \"/\" + fileName)\n",
        "\n",
        "trainImgs = getData(trainPath, trainImgsFile)\n",
        "trainLabels = getData(trainPath, trainLabelsFile)\n",
        "\n",
        "#testImgs   = getData(testPath, testImgsFile)\n",
        "#testLabels = getData(testPath, testLabelsFile)\n",
        "\n",
        "valImgs    = getData(valPath, valImgsFile)\n",
        "valLabels  = getData(valPath, valLabelsFile)\n",
        "\n",
        "print(\"Got train and validation data\")\n",
        "print(trainImgs.shape, valImgs.shape)\n",
        "print(trainLabels.shape, valLabels.shape)"
      ],
      "execution_count": 2,
      "outputs": [
        {
          "output_type": "stream",
          "text": [
            "Got train and validation data\n",
            "(1000, 480, 320, 1) (251, 480, 320, 1)\n",
            "(1000, 480, 320, 1) (251, 480, 320, 1)\n"
          ],
          "name": "stdout"
        }
      ]
    },
    {
      "cell_type": "code",
      "metadata": {
        "id": "UYzc3jDWbN78"
      },
      "source": [
        "# Create the model (without pre-trained ImageNet weights)\n",
        "# BATCH_SIZE = 16\n",
        "# EPOCHS     = 20 (use early stopping as well to avoid overfitting (and store the epochs till then))\n",
        "import os\n",
        "import numpy as np\n",
        "import segmentation_models as sm\n",
        "\n",
        "# create the model\n",
        "model = sm.Unet('efficientnetb0', input_shape=(480, 320, 1), encoder_weights=None, classes=12, activation='softmax')\n",
        "model.summary()\n"
      ],
      "execution_count": null,
      "outputs": []
    },
    {
      "cell_type": "markdown",
      "metadata": {
        "id": "VVYj9bPWBQjk"
      },
      "source": [
        ""
      ]
    },
    {
      "cell_type": "code",
      "metadata": {
        "id": "xrrWR34igCv-"
      },
      "source": [
        "# Compile the model with loss function, optimizer and metric\n",
        "import tensorflow as tf\n",
        "LOSS=tf.keras.losses.SparseCategoricalCrossentropy(from_logits=True)\n",
        "\n",
        "model.compile(\n",
        "    'Adam',\n",
        "    loss='sparse_categorical_crossentropy',\n",
        "    metrics=[sm.metrics.iou_score,'accuracy'],\n",
        ")"
      ],
      "execution_count": 4,
      "outputs": []
    },
    {
      "cell_type": "code",
      "metadata": {
        "id": "t64j7531gnFX"
      },
      "source": [
        "# Setup training parameters\n",
        "BATCH = 16\n",
        "EPOCHS = 30\n",
        "\n",
        "# early stopping callback. It stops training when the loss does not change for 3 consecutive epochs\n",
        "callback = tf.keras.callbacks.EarlyStopping(monitor='loss', patience=3)"
      ],
      "execution_count": 5,
      "outputs": []
    },
    {
      "cell_type": "code",
      "metadata": {
        "colab": {
          "base_uri": "https://localhost:8080/"
        },
        "id": "BvvTmwzIhBvw",
        "outputId": "962597c0-b577-47e5-986b-1667fc7dd722"
      },
      "source": [
        "# Start training the model\n",
        "\n",
        "# change the label type to float32\n",
        "# tf.cast(trainLabels, tf.float32)\n",
        "# tf.cast(trainImgs, tf.float32)\n",
        "# tf.cast(valLabels, tf.float32)\n",
        "# tf.cast(valImgs, tf.float32)\n",
        "\n",
        "history = model.fit(trainImgs, trainLabels, epochs=EPOCHS, batch_size=BATCH, validation_data=(valImgs, valLabels))"
      ],
      "execution_count": 6,
      "outputs": [
        {
          "output_type": "stream",
          "text": [
            "Train on 1000 samples, validate on 251 samples\n",
            "Epoch 1/30\n",
            "1000/1000 [==============================] - 82s 82ms/sample - loss: 0.8294 - iou_score: 0.0590 - accuracy: 0.8577 - val_loss: 1.8679 - val_iou_score: 0.0412 - val_accuracy: 0.1795\n",
            "Epoch 2/30\n",
            "1000/1000 [==============================] - 56s 56ms/sample - loss: 0.1549 - iou_score: 0.0591 - accuracy: 0.9681 - val_loss: 0.3804 - val_iou_score: 0.0624 - val_accuracy: 0.9600\n",
            "Epoch 3/30\n",
            "1000/1000 [==============================] - 56s 56ms/sample - loss: 0.1149 - iou_score: 0.0787 - accuracy: 0.9723 - val_loss: 0.2892 - val_iou_score: 0.0971 - val_accuracy: 0.9523\n",
            "Epoch 4/30\n",
            "1000/1000 [==============================] - 56s 56ms/sample - loss: 0.0976 - iou_score: 0.0840 - accuracy: 0.9732 - val_loss: 0.2051 - val_iou_score: 0.0772 - val_accuracy: 0.9702\n",
            "Epoch 5/30\n",
            "1000/1000 [==============================] - 56s 56ms/sample - loss: 0.0822 - iou_score: 0.0953 - accuracy: 0.9783 - val_loss: 0.1477 - val_iou_score: 0.1289 - val_accuracy: 0.9581\n",
            "Epoch 6/30\n",
            "1000/1000 [==============================] - 56s 56ms/sample - loss: 0.0708 - iou_score: 0.1007 - accuracy: 0.9797 - val_loss: 0.0836 - val_iou_score: 0.1248 - val_accuracy: 0.9766\n",
            "Epoch 7/30\n",
            "1000/1000 [==============================] - 56s 56ms/sample - loss: 0.0648 - iou_score: 0.1034 - accuracy: 0.9802 - val_loss: 0.1119 - val_iou_score: 0.0732 - val_accuracy: 0.9688\n",
            "Epoch 8/30\n",
            "1000/1000 [==============================] - 56s 56ms/sample - loss: 0.0564 - iou_score: 0.1086 - accuracy: 0.9820 - val_loss: 0.0671 - val_iou_score: 0.1138 - val_accuracy: 0.9816\n",
            "Epoch 9/30\n",
            "1000/1000 [==============================] - 56s 56ms/sample - loss: 0.0491 - iou_score: 0.1136 - accuracy: 0.9840 - val_loss: 0.0572 - val_iou_score: 0.1017 - val_accuracy: 0.9818\n",
            "Epoch 10/30\n",
            "1000/1000 [==============================] - 56s 56ms/sample - loss: 0.0441 - iou_score: 0.1178 - accuracy: 0.9854 - val_loss: 0.0520 - val_iou_score: 0.1419 - val_accuracy: 0.9838\n",
            "Epoch 11/30\n",
            "1000/1000 [==============================] - 56s 56ms/sample - loss: 0.0425 - iou_score: 0.1181 - accuracy: 0.9857 - val_loss: 0.0536 - val_iou_score: 0.1515 - val_accuracy: 0.9844\n",
            "Epoch 12/30\n",
            "1000/1000 [==============================] - 56s 56ms/sample - loss: 0.0424 - iou_score: 0.1146 - accuracy: 0.9855 - val_loss: 0.0941 - val_iou_score: 0.1544 - val_accuracy: 0.9776\n",
            "Epoch 13/30\n",
            "1000/1000 [==============================] - 56s 56ms/sample - loss: 0.0405 - iou_score: 0.1204 - accuracy: 0.9862 - val_loss: 0.0519 - val_iou_score: 0.1369 - val_accuracy: 0.9839\n",
            "Epoch 14/30\n",
            "1000/1000 [==============================] - 56s 56ms/sample - loss: 0.0357 - iou_score: 0.1208 - accuracy: 0.9873 - val_loss: 0.0415 - val_iou_score: 0.1308 - val_accuracy: 0.9863\n",
            "Epoch 15/30\n",
            "1000/1000 [==============================] - 56s 56ms/sample - loss: 0.0328 - iou_score: 0.1228 - accuracy: 0.9883 - val_loss: 0.0406 - val_iou_score: 0.1274 - val_accuracy: 0.9876\n",
            "Epoch 16/30\n",
            "1000/1000 [==============================] - 56s 56ms/sample - loss: 0.0327 - iou_score: 0.1236 - accuracy: 0.9885 - val_loss: 0.0446 - val_iou_score: 0.1101 - val_accuracy: 0.9862\n",
            "Epoch 17/30\n",
            "1000/1000 [==============================] - 56s 56ms/sample - loss: 0.0304 - iou_score: 0.1227 - accuracy: 0.9894 - val_loss: 0.0396 - val_iou_score: 0.1025 - val_accuracy: 0.9879\n",
            "Epoch 18/30\n",
            "1000/1000 [==============================] - 56s 56ms/sample - loss: 0.0284 - iou_score: 0.1244 - accuracy: 0.9898 - val_loss: 0.0412 - val_iou_score: 0.1330 - val_accuracy: 0.9869\n",
            "Epoch 19/30\n",
            "1000/1000 [==============================] - 56s 56ms/sample - loss: 0.0267 - iou_score: 0.1257 - accuracy: 0.9902 - val_loss: 0.0384 - val_iou_score: 0.1163 - val_accuracy: 0.9877\n",
            "Epoch 20/30\n",
            "1000/1000 [==============================] - 56s 56ms/sample - loss: 0.0252 - iou_score: 0.1251 - accuracy: 0.9904 - val_loss: 0.0349 - val_iou_score: 0.1334 - val_accuracy: 0.9888\n",
            "Epoch 21/30\n",
            "1000/1000 [==============================] - 56s 56ms/sample - loss: 0.0263 - iou_score: 0.1249 - accuracy: 0.9904 - val_loss: 0.0368 - val_iou_score: 0.1403 - val_accuracy: 0.9883\n",
            "Epoch 22/30\n",
            "1000/1000 [==============================] - 56s 56ms/sample - loss: 0.0258 - iou_score: 0.1274 - accuracy: 0.9906 - val_loss: 0.0448 - val_iou_score: 0.1095 - val_accuracy: 0.9863\n",
            "Epoch 23/30\n",
            "1000/1000 [==============================] - 56s 56ms/sample - loss: 0.0252 - iou_score: 0.1251 - accuracy: 0.9907 - val_loss: 0.0358 - val_iou_score: 0.1160 - val_accuracy: 0.9886\n",
            "Epoch 24/30\n",
            "1000/1000 [==============================] - 56s 56ms/sample - loss: 0.0215 - iou_score: 0.1271 - accuracy: 0.9919 - val_loss: 0.0369 - val_iou_score: 0.1479 - val_accuracy: 0.9890\n",
            "Epoch 25/30\n",
            "1000/1000 [==============================] - 56s 56ms/sample - loss: 0.0231 - iou_score: 0.1289 - accuracy: 0.9914 - val_loss: 0.0369 - val_iou_score: 0.1358 - val_accuracy: 0.9889\n",
            "Epoch 26/30\n",
            "1000/1000 [==============================] - 56s 56ms/sample - loss: 0.0202 - iou_score: 0.1317 - accuracy: 0.9921 - val_loss: 0.0345 - val_iou_score: 0.1081 - val_accuracy: 0.9884\n",
            "Epoch 27/30\n",
            "1000/1000 [==============================] - 56s 56ms/sample - loss: 0.0187 - iou_score: 0.1351 - accuracy: 0.9926 - val_loss: 0.0336 - val_iou_score: 0.1359 - val_accuracy: 0.9893\n",
            "Epoch 28/30\n",
            "1000/1000 [==============================] - 56s 56ms/sample - loss: 0.0168 - iou_score: 0.1337 - accuracy: 0.9932 - val_loss: 0.0365 - val_iou_score: 0.1547 - val_accuracy: 0.9896\n",
            "Epoch 29/30\n",
            "1000/1000 [==============================] - 56s 56ms/sample - loss: 0.0202 - iou_score: 0.1289 - accuracy: 0.9925 - val_loss: 0.0386 - val_iou_score: 0.1439 - val_accuracy: 0.9896\n",
            "Epoch 30/30\n",
            "1000/1000 [==============================] - 56s 56ms/sample - loss: 0.0208 - iou_score: 0.1288 - accuracy: 0.9923 - val_loss: 0.0401 - val_iou_score: 0.1466 - val_accuracy: 0.9882\n"
          ],
          "name": "stdout"
        }
      ]
    },
    {
      "cell_type": "code",
      "metadata": {
        "colab": {
          "base_uri": "https://localhost:8080/",
          "height": 300
        },
        "id": "5ymxrY3gpSBh",
        "outputId": "e58460d6-149e-42e9-e0ce-31db084fdedc"
      },
      "source": [
        "#  Plot the results\n",
        "print(history.history.keys())\n",
        "\n",
        "import matplotlib.pyplot as plt\n",
        "plt.plot(history.history['loss'])\n",
        "plt.plot(history.history['val_loss'])"
      ],
      "execution_count": 7,
      "outputs": [
        {
          "output_type": "stream",
          "text": [
            "dict_keys(['loss', 'iou_score', 'accuracy', 'val_loss', 'val_iou_score', 'val_accuracy'])\n"
          ],
          "name": "stdout"
        },
        {
          "output_type": "execute_result",
          "data": {
            "text/plain": [
              "[<matplotlib.lines.Line2D at 0x7f3e2641a8d0>]"
            ]
          },
          "metadata": {
            "tags": []
          },
          "execution_count": 7
        },
        {
          "output_type": "display_data",
          "data": {
            "image/png": "[encoded data removed]",
            "text/plain": [
              "<Figure size 432x288 with 1 Axes>"
            ]
          },
          "metadata": {
            "tags": [],
            "needs_background": "light"
          }
        }
      ]
    },
    {
      "cell_type": "code",
      "metadata": {
        "colab": {
          "base_uri": "https://localhost:8080/",
          "height": 286
        },
        "id": "BOfjAUaKp213",
        "outputId": "07032d1c-4426-4a9c-d083-fe1f0a5f01c3"
      },
      "source": [
        "plt.plot(history.history['iou_score'])\n",
        "plt.plot(history.history['val_iou_score'])"
      ],
      "execution_count": 8,
      "outputs": [
        {
          "output_type": "execute_result",
          "data": {
            "text/plain": [
              "[<matplotlib.lines.Line2D at 0x7f3e2613ae90>]"
            ]
          },
          "metadata": {
            "tags": []
          },
          "execution_count": 8
        },
        {
          "output_type": "display_data",
          "data": {
            "image/png": "[encoded data removed]",
            "text/plain": [
              "<Figure size 432x288 with 1 Axes>"
            ]
          },
          "metadata": {
            "tags": [],
            "needs_background": "light"
          }
        }
      ]
    },
    {
      "cell_type": "code",
      "metadata": {
        "colab": {
          "base_uri": "https://localhost:8080/",
          "height": 265
        },
        "id": "DEmvqgWH2aSp",
        "outputId": "f13c4ea6-423e-4395-ec36-f6ae4b40e55a"
      },
      "source": [
        "plt.plot(history.history['accuracy'])\n",
        "plt.plot(history.history['val_accuracy'])\n",
        "plt.show()"
      ],
      "execution_count": 10,
      "outputs": [
        {
          "output_type": "display_data",
          "data": {
            "image/png": "[encoded data removed]",
            "text/plain": [
              "<Figure size 432x288 with 1 Axes>"
            ]
          },
          "metadata": {
            "tags": [],
            "needs_background": "light"
          }
        }
      ]
    },
    {
      "cell_type": "code",
      "metadata": {
        "id": "xIs9nAuXJX8F"
      },
      "source": [
        "# get the testdata\n",
        "testImgs   = getData(testPath, testImgsFile)\n",
        "testLabels = getData(testPath, testLabelsFile)"
      ],
      "execution_count": 11,
      "outputs": []
    },
    {
      "cell_type": "code",
      "metadata": {
        "colab": {
          "base_uri": "https://localhost:8080/"
        },
        "id": "cJg2fDdHqDEr",
        "outputId": "98caee23-4cfc-45c7-8ef9-96d5806bc090"
      },
      "source": [
        "model.evaluate(testImgs, testLabels)"
      ],
      "execution_count": 12,
      "outputs": [
        {
          "output_type": "stream",
          "text": [
            "617/617 [==============================] - 14s 23ms/sample - loss: 0.0429 - iou_score: 0.1416 - accuracy: 0.9878\n"
          ],
          "name": "stdout"
        },
        {
          "output_type": "execute_result",
          "data": {
            "text/plain": [
              "[0.04290898914661748, 0.1415815, 0.9877779]"
            ]
          },
          "metadata": {
            "tags": []
          },
          "execution_count": 12
        }
      ]
    },
    {
      "cell_type": "code",
      "metadata": {
        "id": "4kBp5pC4qe3j"
      },
      "source": [
        "# save the model weights\n",
        "weightFileName = \"UEfficientNetb0_30e_16b.h5\"\n",
        "weightPath = '/content/drive/My Drive/Underwater_Segmentation_Research/Weights/UNET'\n",
        "model.save_weights(weightPath + \"/\" + weightFileName)\n"
      ],
      "execution_count": 13,
      "outputs": []
    },
    {
      "cell_type": "code",
      "metadata": {
        "colab": {
          "base_uri": "https://localhost:8080/"
        },
        "id": "O0ktWQ4lsyxv",
        "outputId": "eab14006-1d42-491f-b7dc-c87db9928a2c"
      },
      "source": [
        "model.load_weights(weightPath + \"/\" + weightFileName)\n",
        "model.evaluate(testImgs, testLabels)"
      ],
      "execution_count": 14,
      "outputs": [
        {
          "output_type": "stream",
          "text": [
            "617/617 [==============================] - 8s 13ms/sample - loss: 0.0429 - iou_score: 0.1416 - accuracy: 0.9878\n"
          ],
          "name": "stdout"
        },
        {
          "output_type": "execute_result",
          "data": {
            "text/plain": [
              "[0.04290898914661748, 0.1415815, 0.9877779]"
            ]
          },
          "metadata": {
            "tags": []
          },
          "execution_count": 14
        }
      ]
    },
    {
      "cell_type": "code",
      "metadata": {
        "id": "QOgVsGZjLkeM"
      },
      "source": [
        ""
      ],
      "execution_count": null,
      "outputs": []
    },
    {
      "cell_type": "code",
      "metadata": {
        "colab": {
          "base_uri": "https://localhost:8080/"
        },
        "id": "SF0gF5Otuac9",
        "outputId": "acc3de5c-cf09-4e63-b773-cb987592604a"
      },
      "source": [
        "modelFileName = \"UEfficientNetb0_30e_16b\"\n",
        "modelPath     = '/content/drive/My Drive/Underwater_Segmentation_Research/Models/Unet'\n",
        "model.save(modelPath + \"/\" + modelFileName)"
      ],
      "execution_count": 16,
      "outputs": [
        {
          "output_type": "stream",
          "text": [
            "INFO:tensorflow:Assets written to: /content/drive/My Drive/Underwater_Segmentation_Research/Models/Unet/UEfficientNetb0_30e_16b/assets\n"
          ],
          "name": "stdout"
        }
      ]
    },
    {
      "cell_type": "markdown",
      "metadata": {
        "id": "lKrNMQRz35ed"
      },
      "source": [
        ""
      ]
    },
    {
      "cell_type": "code",
      "metadata": {
        "colab": {
          "base_uri": "https://localhost:8080/"
        },
        "id": "8g2JByQRvjc3",
        "outputId": "870fde1c-08a6-45d4-ccdf-07458e6c91d0"
      },
      "source": [
        "# Check the GPU configuration\n",
        "!nvidia-smi"
      ],
      "execution_count": 16,
      "outputs": [
        {
          "output_type": "stream",
          "text": [
            "Tue Mar 30 07:53:33 2021       \n",
            "+-----------------------------------------------------------------------------+\n",
            "| NVIDIA-SMI 460.56       Driver Version: 460.32.03    CUDA Version: 11.2     |\n",
            "|-------------------------------+----------------------+----------------------+\n",
            "| GPU  Name        Persistence-M| Bus-Id        Disp.A | Volatile Uncorr. ECC |\n",
            "| Fan  Temp  Perf  Pwr:Usage/Cap|         Memory-Usage | GPU-Util  Compute M. |\n",
            "|                               |                      |               MIG M. |\n",
            "|===============================+======================+======================|\n",
            "|   0  Tesla T4            Off  | 00000000:00:04.0 Off |                    0 |\n",
            "| N/A   73C    P0    32W /  70W |   8802MiB / 15109MiB |      0%      Default |\n",
            "|                               |                      |                  N/A |\n",
            "+-------------------------------+----------------------+----------------------+\n",
            "                                                                               \n",
            "+-----------------------------------------------------------------------------+\n",
            "| Processes:                                                                  |\n",
            "|  GPU   GI   CI        PID   Type   Process name                  GPU Memory |\n",
            "|        ID   ID                                                   Usage      |\n",
            "|=============================================================================|\n",
            "+-----------------------------------------------------------------------------+\n"
          ],
          "name": "stdout"
        }
      ]
    },
    {
      "cell_type": "code",
      "metadata": {
        "id": "5N3b-uUEwaZ2"
      },
      "source": [
        "# check the outputs here\n",
        "outputs = model.predict(testImgs)"
      ],
      "execution_count": null,
      "outputs": []
    },
    {
      "cell_type": "code",
      "metadata": {
        "colab": {
          "base_uri": "https://localhost:8080/",
          "height": 269
        },
        "id": "oRL028hYwnR-",
        "outputId": "8051c6ee-f4d7-4726-8cd6-d11aa648a1b5"
      },
      "source": [
        "import matplotlib.pyplot as plt\n",
        "\n",
        "img = outputs[0,:,:,0]\n",
        "plt.imshow(img)\n",
        "plt.show()"
      ],
      "execution_count": 19,
      "outputs": [
        {
          "output_type": "display_data",
          "data": {
            "image/png": "[encoded data removed]",
            "text/plain": [
              "<Figure size 432x288 with 1 Axes>"
            ]
          },
          "metadata": {
            "tags": [],
            "needs_background": "light"
          }
        }
      ]
    },
    {
      "cell_type": "code",
      "metadata": {
        "id": "exi7mUblK4-s"
      },
      "source": [
        "outputs = None\n",
        "testImgs = None\n",
        "testLabels = None"
      ],
      "execution_count": 37,
      "outputs": []
    }
  ]
}